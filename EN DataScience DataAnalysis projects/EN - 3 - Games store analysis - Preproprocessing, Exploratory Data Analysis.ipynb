{
 "cells": [
  {
   "cell_type": "markdown",
   "id": "2ba8e8a1",
   "metadata": {},
   "source": [
    "## Description of the project\n",
    "You work in the Strimchik online store, which sells computer games all over the world. Historical game sales data, user and expert ratings, genres and platforms (such as Xbox or PlayStation) are available from public sources. You need to identify the patterns that determine the success of the game. This will allow you to bid on a potentially popular product and plan advertising campaigns.\n",
    "Here is the data up to 2016. Let's say it's December 2016 and you're planning a campaign for 2017. It is necessary to work out the principle of working with data. It doesn't matter if you're forecasting 2017 sales based on 2016 data or 2027 sales based on 2026 data.\n",
    "\n",
    "The abbreviation ESRB (Entertainment Software Rating Board) comes across in the data set - this is an association that determines the age rating of computer games. The ESRB evaluates game content and assigns it to an appropriate age rating, such as Mature, Toddler, or Teen.\n",
    "\n",
    "### Project implementation instructions\n",
    "\n",
    "**Step 1. Open the data file and examine the general information**\n",
    "File path: /datasets/games.csv.\n",
    "\n",
    "### Step 2: Prepare the data\n",
    "\n",
    "- Change the column names (reduce to lower case);\n",
    "- Convert the data to the required types. Describe in which columns the data type was changed and why;\n",
    "- Handle missing values as needed: Explain why you filled in the missing value in a certain way or why you didn't;\n",
    "- Describe the reasons that could lead to omissions;\n",
    "- Notice the abbreviation 'tbd' in the user rating column. Separately parse this value and describe how to process it;\n",
    "- Calculate the total sales in all regions and write them in a separate column.\n",
    "\n",
    "### Step 3: Conduct an exploratory data analysis\n",
    "\n",
    "- See how many games were released over the years. Is data for all periods important?\n",
    "- See how sales have changed across platforms. Select the platforms with the highest total sales and plot the distribution by year. How long does it take for new platforms to appear and old ones to disappear?\n",
    "- Take the data for the relevant actual period. Determine the current period yourself as a result of the study of the previous questions. The main factor is that these data will help build a forecast for 2017.\n",
    "- Do not include data from previous years in your work.\n",
    "- Which platforms are leading in sales, rising or falling? Pick a few potentially profitable platforms.\n",
    "- Plot a box-and-whisker plot of global game sales by platform. Describe the result.\n",
    "- See how sales within one popular platform are impacted by user and critic reviews. Plot a scatterplot and calculate the correlation between reviews and sales. Formulate conclusions.\n",
    "- Correlate the findings with game sales on other platforms.\n",
    "- Look at the overall distribution of games by genre. What about the most profitable genres? Do genres with high and low sales stand out?\n",
    "\n",
    "### Step 4. Create a user profile for each region\n",
    "\n",
    "- Define for the user of each region (NA, EU, JP):\n",
    "- The most popular platforms (top 5). Describe the differences in sales shares.\n",
    "- The most popular genres (top 5). Explain the difference.\n",
    "- Does the ESRB rating affect sales in a particular region?\n",
    "\n",
    "### Step 5. Test the hypotheses\n",
    "\n",
    "- The average user ratings of the Xbox One and PC platforms are the same;\n",
    "- The average user ratings of the genres Action and Sports are different.\n",
    "- Set the alpha threshold yourself.\n",
    "- Explain:\n",
    "    - How did you formulate the null and alternative hypotheses;\n",
    "    - What criterion was used to test the hypotheses and why.\n",
    "\n",
    "### Step 6. Write a conclusion\n",
    "\n",
    "\n",
    "**Data Description**\n",
    "- Name - the name of the game\n",
    "- Platform - platform\n",
    "- Year_of_Release - year of release\n",
    "- Genre - game genre\n",
    "- NA_sales - sales in North America (millions of copies sold)\n",
    "- EU_sales - sales in Europe (millions of copies sold)\n",
    "- JP_sales - sales in Japan (millions of copies sold)\n",
    "- Other_sales - sales in other countries (millions of copies sold)\n",
    "- Critic_Score - Critics score (maximum 100)\n",
    "- User_Score - user rating (maximum 10)\n",
    "- Rating — rating from the ESRB (Entertainment Software Rating Board). This association determines the rating of computer games and assigns them an appropriate age category.\n",
    "\n",
    "Data for 2016 may not be complete."
   ]
  },
  {
   "cell_type": "markdown",
   "id": "207ef405",
   "metadata": {},
   "source": [
    "## Study plan:\n",
    "\n",
    "1 - Initial visual evaluation of data\n",
    "- Analysis of initial data\n",
    "- Data type definition\n",
    "- Identification of gaps\n",
    "- Identification of duplicates\n",
    "\n",
    "\n",
    "2 - Data preprocessing:\n",
    " - Renaming and processing data columns\n",
    " - Casting data to correct types\n",
    " - Elimination of duplicates in the data, if any\n",
    " - Identification and elimination of outliers in the data, if any\n",
    " - Elimination of gaps in the data, if necessary, a description of the reasons for the gaps\n",
    " - Pay attention to the abbreviation 'tbd' in the user rating column. Separately parse this value and describe how to process it.\n",
    "\n",
    "        \n",
    "3 - Working with data.\n",
    " - Calculate total sales in all regions\n",
    "\n",
    "\n",
    "4 - Data analysis:\n",
    "- See how many games were released in different years. Is data for all periods important?\n",
    "- See how sales have changed across platforms. Select the platforms with the highest total sales and plot the distribution by year. How long does it take for new platforms to appear and old ones to disappear?\n",
    "\n",
    "- Take the data for the relevant current period. Determine the current period yourself as a result of the study of the previous questions. The main factor is that these data will help build a forecast for 2017. Do not include data from previous years in your work.\n",
    "- Which platforms are leading in sales, growing or falling? Pick a few potentially profitable platforms.\n",
    "- Plot a box and mustache chart of global game sales by platform. Describe the result.\n",
    "- See how sales within one popular platform are affected by user and critic reviews.\n",
    "- Build a scatterplot and calculate the correlation between reviews and sales.\n",
    "- Formulate conclusions. Correlate the findings with game sales on other platforms.\n",
    "- Look at the overall distribution of games by genre. What about the most profitable genres? Do genres with high and low sales stand out?\n",
    "\n",
    "5 - Make a portrait of the user of each region:\n",
    "- Determine for the user of each region (NA, EU, JP): The most popular platforms (top 5). Describe the differences in sales shares. The most popular genres (top 5). Explain the difference. Does the ESRB rating affect sales in a particular region?\n",
    "\n",
    "6 - Testing hypotheses:\n",
    "- The average user ratings of the Xbox One and PC platforms are the same;\n",
    "- The average user ratings of the genres Action and Sports are different.\n",
    "\n",
    "Set the alpha threshold yourself.\n",
    "Explain:\n",
    "- How did you formulate the null and alternative hypotheses;\n",
    "- What criterion was used to test the hypotheses and why.\n",
    "\n",
    "\n",
    "7 - General conclusion"
   ]
  },
  {
   "cell_type": "markdown",
   "id": "9728235a",
   "metadata": {},
   "source": [
    "## Implementation of the project:"
   ]
  },
  {
   "cell_type": "code",
   "execution_count": 1,
   "id": "83776f43",
   "metadata": {},
   "outputs": [],
   "source": [
    "# Importing Libraries\n",
    "from scipy import stats as st\n",
    "import pandas as pd\n",
    "import matplotlib.pyplot as plt\n",
    "import seaborn as sns\n",
    "import numpy as np\n",
    "from IPython.display import display_html\n",
    "import plotly.graph_objects as go"
   ]
  },
  {
   "cell_type": "code",
   "execution_count": 2,
   "id": "1a355552",
   "metadata": {},
   "outputs": [],
   "source": [
    "# Reading data from files. Because the project is running locally, then we use the try / except construct:\n",
    "try:\n",
    "    games = pd.read_csv('/datasets/games.csv', sep=',')\n",
    "    \n",
    "except:\n",
    "    games = pd.read_csv('C:/Users/Админ/Desktop/Jupyter/Yandex/games.csv.', sep=',')\n",
    "    "
   ]
  },
  {
   "cell_type": "markdown",
   "id": "a03e7e53",
   "metadata": {},
   "source": [
    "### 1 - Primary visual evaluation of data"
   ]
  },
  {
   "cell_type": "code",
   "execution_count": 3,
   "id": "1440baf8",
   "metadata": {},
   "outputs": [
    {
     "data": {
      "text/html": [
       "<div>\n",
       "<style scoped>\n",
       "    .dataframe tbody tr th:only-of-type {\n",
       "        vertical-align: middle;\n",
       "    }\n",
       "\n",
       "    .dataframe tbody tr th {\n",
       "        vertical-align: top;\n",
       "    }\n",
       "\n",
       "    .dataframe thead th {\n",
       "        text-align: right;\n",
       "    }\n",
       "</style>\n",
       "<table border=\"1\" class=\"dataframe\">\n",
       "  <thead>\n",
       "    <tr style=\"text-align: right;\">\n",
       "      <th></th>\n",
       "      <th>Name</th>\n",
       "      <th>Platform</th>\n",
       "      <th>Year_of_Release</th>\n",
       "      <th>Genre</th>\n",
       "      <th>NA_sales</th>\n",
       "      <th>EU_sales</th>\n",
       "      <th>JP_sales</th>\n",
       "      <th>Other_sales</th>\n",
       "      <th>Critic_Score</th>\n",
       "      <th>User_Score</th>\n",
       "      <th>Rating</th>\n",
       "    </tr>\n",
       "  </thead>\n",
       "  <tbody>\n",
       "    <tr>\n",
       "      <th>0</th>\n",
       "      <td>Wii Sports</td>\n",
       "      <td>Wii</td>\n",
       "      <td>2006.0</td>\n",
       "      <td>Sports</td>\n",
       "      <td>41.36</td>\n",
       "      <td>28.96</td>\n",
       "      <td>3.77</td>\n",
       "      <td>8.45</td>\n",
       "      <td>76.0</td>\n",
       "      <td>8</td>\n",
       "      <td>E</td>\n",
       "    </tr>\n",
       "    <tr>\n",
       "      <th>1</th>\n",
       "      <td>Super Mario Bros.</td>\n",
       "      <td>NES</td>\n",
       "      <td>1985.0</td>\n",
       "      <td>Platform</td>\n",
       "      <td>29.08</td>\n",
       "      <td>3.58</td>\n",
       "      <td>6.81</td>\n",
       "      <td>0.77</td>\n",
       "      <td>NaN</td>\n",
       "      <td>NaN</td>\n",
       "      <td>NaN</td>\n",
       "    </tr>\n",
       "    <tr>\n",
       "      <th>2</th>\n",
       "      <td>Mario Kart Wii</td>\n",
       "      <td>Wii</td>\n",
       "      <td>2008.0</td>\n",
       "      <td>Racing</td>\n",
       "      <td>15.68</td>\n",
       "      <td>12.76</td>\n",
       "      <td>3.79</td>\n",
       "      <td>3.29</td>\n",
       "      <td>82.0</td>\n",
       "      <td>8.3</td>\n",
       "      <td>E</td>\n",
       "    </tr>\n",
       "    <tr>\n",
       "      <th>3</th>\n",
       "      <td>Wii Sports Resort</td>\n",
       "      <td>Wii</td>\n",
       "      <td>2009.0</td>\n",
       "      <td>Sports</td>\n",
       "      <td>15.61</td>\n",
       "      <td>10.93</td>\n",
       "      <td>3.28</td>\n",
       "      <td>2.95</td>\n",
       "      <td>80.0</td>\n",
       "      <td>8</td>\n",
       "      <td>E</td>\n",
       "    </tr>\n",
       "    <tr>\n",
       "      <th>4</th>\n",
       "      <td>Pokemon Red/Pokemon Blue</td>\n",
       "      <td>GB</td>\n",
       "      <td>1996.0</td>\n",
       "      <td>Role-Playing</td>\n",
       "      <td>11.27</td>\n",
       "      <td>8.89</td>\n",
       "      <td>10.22</td>\n",
       "      <td>1.00</td>\n",
       "      <td>NaN</td>\n",
       "      <td>NaN</td>\n",
       "      <td>NaN</td>\n",
       "    </tr>\n",
       "  </tbody>\n",
       "</table>\n",
       "</div>"
      ],
      "text/plain": [
       "                       Name Platform  Year_of_Release         Genre  NA_sales  \\\n",
       "0                Wii Sports      Wii           2006.0        Sports     41.36   \n",
       "1         Super Mario Bros.      NES           1985.0      Platform     29.08   \n",
       "2            Mario Kart Wii      Wii           2008.0        Racing     15.68   \n",
       "3         Wii Sports Resort      Wii           2009.0        Sports     15.61   \n",
       "4  Pokemon Red/Pokemon Blue       GB           1996.0  Role-Playing     11.27   \n",
       "\n",
       "   EU_sales  JP_sales  Other_sales  Critic_Score User_Score Rating  \n",
       "0     28.96      3.77         8.45          76.0          8      E  \n",
       "1      3.58      6.81         0.77           NaN        NaN    NaN  \n",
       "2     12.76      3.79         3.29          82.0        8.3      E  \n",
       "3     10.93      3.28         2.95          80.0          8      E  \n",
       "4      8.89     10.22         1.00           NaN        NaN    NaN  "
      ]
     },
     "execution_count": 3,
     "metadata": {},
     "output_type": "execute_result"
    }
   ],
   "source": [
    "# Display the first 5 rows of the dataset for visual evaluation of the data\n",
    "games.head()"
   ]
  },
  {
   "cell_type": "code",
   "execution_count": 4,
   "id": "07d306d6",
   "metadata": {},
   "outputs": [
    {
     "name": "stdout",
     "output_type": "stream",
     "text": [
      "<class 'pandas.core.frame.DataFrame'>\n",
      "RangeIndex: 16715 entries, 0 to 16714\n",
      "Data columns (total 11 columns):\n",
      " #   Column           Non-Null Count  Dtype  \n",
      "---  ------           --------------  -----  \n",
      " 0   Name             16713 non-null  object \n",
      " 1   Platform         16715 non-null  object \n",
      " 2   Year_of_Release  16446 non-null  float64\n",
      " 3   Genre            16713 non-null  object \n",
      " 4   NA_sales         16715 non-null  float64\n",
      " 5   EU_sales         16715 non-null  float64\n",
      " 6   JP_sales         16715 non-null  float64\n",
      " 7   Other_sales      16715 non-null  float64\n",
      " 8   Critic_Score     8137 non-null   float64\n",
      " 9   User_Score       10014 non-null  object \n",
      " 10  Rating           9949 non-null   object \n",
      "dtypes: float64(6), object(5)\n",
      "memory usage: 1.4+ MB\n"
     ]
    }
   ],
   "source": [
    "# Using the info() method, evaluate the data type in the columns and the size of the table\n",
    "games.info()"
   ]
  },
  {
   "cell_type": "code",
   "execution_count": 5,
   "id": "f5ff54c9",
   "metadata": {},
   "outputs": [
    {
     "data": {
      "text/plain": [
       "Name                  2\n",
       "Platform              0\n",
       "Year_of_Release     269\n",
       "Genre                 2\n",
       "NA_sales              0\n",
       "EU_sales              0\n",
       "JP_sales              0\n",
       "Other_sales           0\n",
       "Critic_Score       8578\n",
       "User_Score         6701\n",
       "Rating             6766\n",
       "dtype: int64"
      ]
     },
     "execution_count": 5,
     "metadata": {},
     "output_type": "execute_result"
    }
   ],
   "source": [
    "# Look at the number of missing in each column\n",
    "games.isna().sum()"
   ]
  },
  {
   "cell_type": "code",
   "execution_count": 6,
   "id": "d2f0c893",
   "metadata": {},
   "outputs": [],
   "source": [
    "# Create a function that counts the % missing in the data:\n",
    "def isna_persent(data):\n",
    "    for col in data.columns:\n",
    "        pct_isna = np.mean(data[col].isna())\n",
    "        print('{} - {}%'.format(col, round(pct_isna*100,2)))\n",
    "        "
   ]
  },
  {
   "cell_type": "code",
   "execution_count": 7,
   "id": "f9263e26",
   "metadata": {},
   "outputs": [
    {
     "name": "stdout",
     "output_type": "stream",
     "text": [
      "Name - 0.01%\n",
      "Platform - 0.0%\n",
      "Year_of_Release - 1.61%\n",
      "Genre - 0.01%\n",
      "NA_sales - 0.0%\n",
      "EU_sales - 0.0%\n",
      "JP_sales - 0.0%\n",
      "Other_sales - 0.0%\n",
      "Critic_Score - 51.32%\n",
      "User_Score - 40.09%\n",
      "Rating - 40.48%\n"
     ]
    }
   ],
   "source": [
    "isna_persent(games)"
   ]
  },
  {
   "cell_type": "code",
   "execution_count": 8,
   "id": "9802b390",
   "metadata": {},
   "outputs": [
    {
     "data": {
      "text/plain": [
       "0"
      ]
     },
     "execution_count": 8,
     "metadata": {},
     "output_type": "execute_result"
    }
   ],
   "source": [
    "# Check data for duplicates\n",
    "games.duplicated().sum()"
   ]
  },
  {
   "cell_type": "code",
   "execution_count": 9,
   "id": "b0962f1b",
   "metadata": {},
   "outputs": [
    {
     "data": {
      "text/plain": [
       "5155"
      ]
     },
     "execution_count": 9,
     "metadata": {},
     "output_type": "execute_result"
    }
   ],
   "source": [
    "games['Name'].duplicated().sum()"
   ]
  },
  {
   "cell_type": "code",
   "execution_count": 10,
   "id": "abd8444a",
   "metadata": {},
   "outputs": [
    {
     "data": {
      "text/plain": [
       "(11560,)"
      ]
     },
     "execution_count": 10,
     "metadata": {},
     "output_type": "execute_result"
    }
   ],
   "source": [
    "# See the number of unique games\n",
    "games['Name'].unique().shape"
   ]
  },
  {
   "cell_type": "code",
   "execution_count": 11,
   "id": "f371c934",
   "metadata": {},
   "outputs": [
    {
     "data": {
      "text/plain": [
       "array(['Sports', 'Platform', 'Racing', 'Role-Playing', 'Puzzle', 'Misc',\n",
       "       'Shooter', 'Simulation', 'Action', 'Fighting', 'Adventure',\n",
       "       'Strategy', nan], dtype=object)"
      ]
     },
     "execution_count": 11,
     "metadata": {},
     "output_type": "execute_result"
    }
   ],
   "source": [
    "# Check the data in the Genres column for implicit duplicates\n",
    "games['Genre'].unique()"
   ]
  },
  {
   "cell_type": "code",
   "execution_count": 12,
   "id": "c7ae1eac",
   "metadata": {},
   "outputs": [
    {
     "data": {
      "text/plain": [
       "Action          3369\n",
       "Sports          2348\n",
       "Misc            1750\n",
       "Role-Playing    1498\n",
       "Shooter         1323\n",
       "Adventure       1303\n",
       "Racing          1249\n",
       "Platform         888\n",
       "Simulation       873\n",
       "Fighting         849\n",
       "Strategy         683\n",
       "Puzzle           580\n",
       "Name: Genre, dtype: int64"
      ]
     },
     "execution_count": 12,
     "metadata": {},
     "output_type": "execute_result"
    }
   ],
   "source": [
    "# See the number of each game genre\n",
    "games['Genre'].value_counts()"
   ]
  },
  {
   "cell_type": "code",
   "execution_count": 13,
   "id": "79227588",
   "metadata": {},
   "outputs": [
    {
     "data": {
      "text/plain": [
       "array(['Wii', 'NES', 'GB', 'DS', 'X360', 'PS3', 'PS2', 'SNES', 'GBA',\n",
       "       'PS4', '3DS', 'N64', 'PS', 'XB', 'PC', '2600', 'PSP', 'XOne',\n",
       "       'WiiU', 'GC', 'GEN', 'DC', 'PSV', 'SAT', 'SCD', 'WS', 'NG', 'TG16',\n",
       "       '3DO', 'GG', 'PCFX'], dtype=object)"
      ]
     },
     "execution_count": 13,
     "metadata": {},
     "output_type": "execute_result"
    }
   ],
   "source": [
    "# Check the data in the Platform column for implicit duplicates\n",
    "games['Platform'].unique()"
   ]
  },
  {
   "cell_type": "code",
   "execution_count": 14,
   "id": "b5d0db01",
   "metadata": {},
   "outputs": [
    {
     "data": {
      "text/plain": [
       "PS2     2161\n",
       "DS      2151\n",
       "PS3     1331\n",
       "Wii     1320\n",
       "X360    1262\n",
       "PSP     1209\n",
       "PS      1197\n",
       "PC       974\n",
       "XB       824\n",
       "GBA      822\n",
       "GC       556\n",
       "3DS      520\n",
       "PSV      430\n",
       "PS4      392\n",
       "N64      319\n",
       "XOne     247\n",
       "SNES     239\n",
       "SAT      173\n",
       "WiiU     147\n",
       "2600     133\n",
       "NES       98\n",
       "GB        98\n",
       "DC        52\n",
       "GEN       29\n",
       "NG        12\n",
       "SCD        6\n",
       "WS         6\n",
       "3DO        3\n",
       "TG16       2\n",
       "GG         1\n",
       "PCFX       1\n",
       "Name: Platform, dtype: int64"
      ]
     },
     "execution_count": 14,
     "metadata": {},
     "output_type": "execute_result"
    }
   ],
   "source": [
    "# See the number of each platform\n",
    "games['Platform'].value_counts()"
   ]
  },
  {
   "cell_type": "code",
   "execution_count": 15,
   "id": "f0e7cc9d",
   "metadata": {},
   "outputs": [
    {
     "data": {
      "text/plain": [
       "array(['E', nan, 'M', 'T', 'E10+', 'K-A', 'AO', 'EC', 'RP'], dtype=object)"
      ]
     },
     "execution_count": 15,
     "metadata": {},
     "output_type": "execute_result"
    }
   ],
   "source": [
    "# Find out which ESRB Ratings are in the dataset\n",
    "games['Rating'].unique()"
   ]
  },
  {
   "cell_type": "code",
   "execution_count": 16,
   "id": "017fcad4",
   "metadata": {},
   "outputs": [
    {
     "data": {
      "text/plain": [
       "E       3990\n",
       "T       2961\n",
       "M       1563\n",
       "E10+    1420\n",
       "EC         8\n",
       "K-A        3\n",
       "RP         3\n",
       "AO         1\n",
       "Name: Rating, dtype: int64"
      ]
     },
     "execution_count": 16,
     "metadata": {},
     "output_type": "execute_result"
    }
   ],
   "source": [
    "# See the number of each rating\n",
    "games['Rating'].value_counts()"
   ]
  },
  {
   "cell_type": "code",
   "execution_count": 17,
   "id": "847dedc6",
   "metadata": {},
   "outputs": [
    {
     "data": {
      "text/plain": [
       "array(['8', nan, '8.3', '8.5', '6.6', '8.4', '8.6', '7.7', '6.3', '7.4',\n",
       "       '8.2', '9', '7.9', '8.1', '8.7', '7.1', '3.4', '5.3', '4.8', '3.2',\n",
       "       '8.9', '6.4', '7.8', '7.5', '2.6', '7.2', '9.2', '7', '7.3', '4.3',\n",
       "       '7.6', '5.7', '5', '9.1', '6.5', 'tbd', '8.8', '6.9', '9.4', '6.8',\n",
       "       '6.1', '6.7', '5.4', '4', '4.9', '4.5', '9.3', '6.2', '4.2', '6',\n",
       "       '3.7', '4.1', '5.8', '5.6', '5.5', '4.4', '4.6', '5.9', '3.9',\n",
       "       '3.1', '2.9', '5.2', '3.3', '4.7', '5.1', '3.5', '2.5', '1.9', '3',\n",
       "       '2.7', '2.2', '2', '9.5', '2.1', '3.6', '2.8', '1.8', '3.8', '0',\n",
       "       '1.6', '9.6', '2.4', '1.7', '1.1', '0.3', '1.5', '0.7', '1.2',\n",
       "       '2.3', '0.5', '1.3', '0.2', '0.6', '1.4', '0.9', '1', '9.7'],\n",
       "      dtype=object)"
      ]
     },
     "execution_count": 17,
     "metadata": {},
     "output_type": "execute_result"
    }
   ],
   "source": [
    "# Check the data in the User_Score column \n",
    "games['User_Score'].unique()"
   ]
  },
  {
   "cell_type": "code",
   "execution_count": 18,
   "id": "dbb70a18",
   "metadata": {},
   "outputs": [
    {
     "data": {
      "text/plain": [
       "array([76., nan, 82., 80., 89., 58., 87., 91., 61., 97., 95., 77., 88.,\n",
       "       83., 94., 93., 85., 86., 98., 96., 90., 84., 73., 74., 78., 92.,\n",
       "       71., 72., 68., 62., 49., 67., 81., 66., 56., 79., 70., 59., 64.,\n",
       "       75., 60., 63., 69., 50., 25., 42., 44., 55., 48., 57., 29., 47.,\n",
       "       65., 54., 20., 53., 37., 38., 33., 52., 30., 32., 43., 45., 51.,\n",
       "       40., 46., 39., 34., 35., 41., 36., 28., 31., 27., 26., 19., 23.,\n",
       "       24., 21., 17., 22., 13.])"
      ]
     },
     "execution_count": 18,
     "metadata": {},
     "output_type": "execute_result"
    }
   ],
   "source": [
    "# Check the data in the User_Score column \n",
    "games['Critic_Score'].unique()"
   ]
  },
  {
   "cell_type": "code",
   "execution_count": 19,
   "id": "8182bce1",
   "metadata": {},
   "outputs": [
    {
     "data": {
      "text/html": [
       "<div>\n",
       "<style scoped>\n",
       "    .dataframe tbody tr th:only-of-type {\n",
       "        vertical-align: middle;\n",
       "    }\n",
       "\n",
       "    .dataframe tbody tr th {\n",
       "        vertical-align: top;\n",
       "    }\n",
       "\n",
       "    .dataframe thead th {\n",
       "        text-align: right;\n",
       "    }\n",
       "</style>\n",
       "<table border=\"1\" class=\"dataframe\">\n",
       "  <thead>\n",
       "    <tr style=\"text-align: right;\">\n",
       "      <th></th>\n",
       "      <th>Year_of_Release</th>\n",
       "      <th>NA_sales</th>\n",
       "      <th>EU_sales</th>\n",
       "      <th>JP_sales</th>\n",
       "      <th>Other_sales</th>\n",
       "      <th>Critic_Score</th>\n",
       "    </tr>\n",
       "  </thead>\n",
       "  <tbody>\n",
       "    <tr>\n",
       "      <th>count</th>\n",
       "      <td>16446.000000</td>\n",
       "      <td>16715.000000</td>\n",
       "      <td>16715.000000</td>\n",
       "      <td>16715.000000</td>\n",
       "      <td>16715.000000</td>\n",
       "      <td>8137.000000</td>\n",
       "    </tr>\n",
       "    <tr>\n",
       "      <th>mean</th>\n",
       "      <td>2006.484616</td>\n",
       "      <td>0.263377</td>\n",
       "      <td>0.145060</td>\n",
       "      <td>0.077617</td>\n",
       "      <td>0.047342</td>\n",
       "      <td>68.967679</td>\n",
       "    </tr>\n",
       "    <tr>\n",
       "      <th>std</th>\n",
       "      <td>5.877050</td>\n",
       "      <td>0.813604</td>\n",
       "      <td>0.503339</td>\n",
       "      <td>0.308853</td>\n",
       "      <td>0.186731</td>\n",
       "      <td>13.938165</td>\n",
       "    </tr>\n",
       "    <tr>\n",
       "      <th>min</th>\n",
       "      <td>1980.000000</td>\n",
       "      <td>0.000000</td>\n",
       "      <td>0.000000</td>\n",
       "      <td>0.000000</td>\n",
       "      <td>0.000000</td>\n",
       "      <td>13.000000</td>\n",
       "    </tr>\n",
       "    <tr>\n",
       "      <th>25%</th>\n",
       "      <td>2003.000000</td>\n",
       "      <td>0.000000</td>\n",
       "      <td>0.000000</td>\n",
       "      <td>0.000000</td>\n",
       "      <td>0.000000</td>\n",
       "      <td>60.000000</td>\n",
       "    </tr>\n",
       "    <tr>\n",
       "      <th>50%</th>\n",
       "      <td>2007.000000</td>\n",
       "      <td>0.080000</td>\n",
       "      <td>0.020000</td>\n",
       "      <td>0.000000</td>\n",
       "      <td>0.010000</td>\n",
       "      <td>71.000000</td>\n",
       "    </tr>\n",
       "    <tr>\n",
       "      <th>75%</th>\n",
       "      <td>2010.000000</td>\n",
       "      <td>0.240000</td>\n",
       "      <td>0.110000</td>\n",
       "      <td>0.040000</td>\n",
       "      <td>0.030000</td>\n",
       "      <td>79.000000</td>\n",
       "    </tr>\n",
       "    <tr>\n",
       "      <th>max</th>\n",
       "      <td>2016.000000</td>\n",
       "      <td>41.360000</td>\n",
       "      <td>28.960000</td>\n",
       "      <td>10.220000</td>\n",
       "      <td>10.570000</td>\n",
       "      <td>98.000000</td>\n",
       "    </tr>\n",
       "  </tbody>\n",
       "</table>\n",
       "</div>"
      ],
      "text/plain": [
       "       Year_of_Release      NA_sales      EU_sales      JP_sales  \\\n",
       "count     16446.000000  16715.000000  16715.000000  16715.000000   \n",
       "mean       2006.484616      0.263377      0.145060      0.077617   \n",
       "std           5.877050      0.813604      0.503339      0.308853   \n",
       "min        1980.000000      0.000000      0.000000      0.000000   \n",
       "25%        2003.000000      0.000000      0.000000      0.000000   \n",
       "50%        2007.000000      0.080000      0.020000      0.000000   \n",
       "75%        2010.000000      0.240000      0.110000      0.040000   \n",
       "max        2016.000000     41.360000     28.960000     10.220000   \n",
       "\n",
       "        Other_sales  Critic_Score  \n",
       "count  16715.000000   8137.000000  \n",
       "mean       0.047342     68.967679  \n",
       "std        0.186731     13.938165  \n",
       "min        0.000000     13.000000  \n",
       "25%        0.000000     60.000000  \n",
       "50%        0.010000     71.000000  \n",
       "75%        0.030000     79.000000  \n",
       "max       10.570000     98.000000  "
      ]
     },
     "execution_count": 19,
     "metadata": {},
     "output_type": "execute_result"
    }
   ],
   "source": [
    "# Let's see the description of the data\n",
    "games.describe()"
   ]
  },
  {
   "cell_type": "code",
   "execution_count": 20,
   "id": "243bd6a3",
   "metadata": {},
   "outputs": [
    {
     "data": {
      "text/html": [
       "<div>\n",
       "<style scoped>\n",
       "    .dataframe tbody tr th:only-of-type {\n",
       "        vertical-align: middle;\n",
       "    }\n",
       "\n",
       "    .dataframe tbody tr th {\n",
       "        vertical-align: top;\n",
       "    }\n",
       "\n",
       "    .dataframe thead th {\n",
       "        text-align: right;\n",
       "    }\n",
       "</style>\n",
       "<table border=\"1\" class=\"dataframe\">\n",
       "  <thead>\n",
       "    <tr style=\"text-align: right;\">\n",
       "      <th></th>\n",
       "      <th>Name</th>\n",
       "      <th>Platform</th>\n",
       "      <th>Genre</th>\n",
       "      <th>User_Score</th>\n",
       "      <th>Rating</th>\n",
       "    </tr>\n",
       "  </thead>\n",
       "  <tbody>\n",
       "    <tr>\n",
       "      <th>count</th>\n",
       "      <td>16713</td>\n",
       "      <td>16715</td>\n",
       "      <td>16713</td>\n",
       "      <td>10014</td>\n",
       "      <td>9949</td>\n",
       "    </tr>\n",
       "    <tr>\n",
       "      <th>unique</th>\n",
       "      <td>11559</td>\n",
       "      <td>31</td>\n",
       "      <td>12</td>\n",
       "      <td>96</td>\n",
       "      <td>8</td>\n",
       "    </tr>\n",
       "    <tr>\n",
       "      <th>top</th>\n",
       "      <td>Need for Speed: Most Wanted</td>\n",
       "      <td>PS2</td>\n",
       "      <td>Action</td>\n",
       "      <td>tbd</td>\n",
       "      <td>E</td>\n",
       "    </tr>\n",
       "    <tr>\n",
       "      <th>freq</th>\n",
       "      <td>12</td>\n",
       "      <td>2161</td>\n",
       "      <td>3369</td>\n",
       "      <td>2424</td>\n",
       "      <td>3990</td>\n",
       "    </tr>\n",
       "  </tbody>\n",
       "</table>\n",
       "</div>"
      ],
      "text/plain": [
       "                               Name Platform   Genre User_Score Rating\n",
       "count                         16713    16715   16713      10014   9949\n",
       "unique                        11559       31      12         96      8\n",
       "top     Need for Speed: Most Wanted      PS2  Action        tbd      E\n",
       "freq                             12     2161    3369       2424   3990"
      ]
     },
     "execution_count": 20,
     "metadata": {},
     "output_type": "execute_result"
    }
   ],
   "source": [
    "games.describe(include = ['object'])"
   ]
  },
  {
   "cell_type": "markdown",
   "id": "0592dff1",
   "metadata": {},
   "source": [
    "**Conclusion based on primary visual evaluation of the data:**\n",
    "- Column names start with a capital letter, must be converted to lower case\n",
    "- The data types need to be changed for the following columns:\n",
    "  - Year_of_Release from float64 to int\n",
    "  - User_Score from object to int\n",
    "- Missing values in the data contain:\n",
    "    - Name = 2\n",
    "    - Year_of_Release = 269\n",
    "    - Critic_Score = 8578\n",
    "    - User_Score = 6701\n",
    "    - Rating = 6766\n",
    "- Duplicate content in game titles (about 30%). It is necessary to process duplicates, perhaps the same game was hosted on different platforms.\n",
    "- Year of release starts from 1980 to 2016\n",
    "- The largest revenue (check) from sales falls on North America (41.3), then Europe (28.9) and in last place Japan (10.22).\n",
    "- Rating data in this column can be translated as:\n",
    "  - E (\"Everyone\") - \"For everyone\" - the most popular rating\n",
    "  - T (\"Teen\") - \"Teens\" - the second most popular\n",
    "  - M (\"Mature\") - \"For adults 17+\" - the third place in popularity\n",
    "  - E10+ (\"Everyone 10 and older\") - \"For everyone from 10 years and older\" - fourth place in popularity\n",
    "  - EC (\"Early childhood\") - \"For young children\"\n",
    "  - K-A (\"Kids to Adults\") - \"For children and adults\" (an outdated variation of the category \"For everyone\")\n",
    "  - AO (\"Adults Only 18+\") - \"Only for adults\"\n",
    "  - RP (\"Rating Pending\") - \"Rating is expected\"\n",
    "  Missing values in the values of this column need to be handled - perhaps the missing values are specific to several specific games. Let's see it in data preprocessing.\n",
    "- The most popular PS2 and DS platforms, the most unpopular GG and PCFX.\n",
    "- The most popular Action genre and the most unpopular Puzzle\n",
    "- In User_Score, the value \"tbd\" - TBD is an abbreviation of the English To Be Determined (to be determined) or To Be Decided (to be decided). It is used if some information is not yet determined or a decision on the issue has not been made. So you need to replace the data with Nan"
   ]
  },
  {
   "cell_type": "markdown",
   "id": "3442116a",
   "metadata": {},
   "source": [
    "### 2 - Data preprocessing:\n",
    "\n",
    "  - Renaming and processing data columns\n",
    "  - Replacing \"tbd\" in User_Score with Nan\n",
    "  - Replace obsolete K-A values with E in Rating\n",
    "  - Duplicate processing\n",
    "  - Elimination of missing values in the data, description of the reasons for the gaps.\n",
    "  - Replacing data types"
   ]
  },
  {
   "cell_type": "code",
   "execution_count": 21,
   "id": "15f94bf4",
   "metadata": {},
   "outputs": [],
   "source": [
    "# Convert the names of the columns in the data to lowercase:\n",
    "games.columns = games.columns.str.lower()"
   ]
  },
  {
   "cell_type": "code",
   "execution_count": 22,
   "id": "c07e0cc9",
   "metadata": {},
   "outputs": [],
   "source": [
    "# Replace data in games['user_score'] 'tbd' with 'Nan'\n",
    "games['user_score'] = games['user_score'].replace('tbd', np.NaN)"
   ]
  },
  {
   "cell_type": "code",
   "execution_count": 23,
   "id": "b12cca90",
   "metadata": {},
   "outputs": [],
   "source": [
    "# Replacing obsolete K-A values with E in Rating\n",
    "games['rating'] = games['rating'].replace('K-A', 'E')"
   ]
  },
  {
   "cell_type": "code",
   "execution_count": 24,
   "id": "b2d2e0bf",
   "metadata": {},
   "outputs": [
    {
     "data": {
      "text/html": [
       "<div>\n",
       "<style scoped>\n",
       "    .dataframe tbody tr th:only-of-type {\n",
       "        vertical-align: middle;\n",
       "    }\n",
       "\n",
       "    .dataframe tbody tr th {\n",
       "        vertical-align: top;\n",
       "    }\n",
       "\n",
       "    .dataframe thead th {\n",
       "        text-align: right;\n",
       "    }\n",
       "</style>\n",
       "<table border=\"1\" class=\"dataframe\">\n",
       "  <thead>\n",
       "    <tr style=\"text-align: right;\">\n",
       "      <th></th>\n",
       "      <th>name</th>\n",
       "      <th>platform</th>\n",
       "      <th>year_of_release</th>\n",
       "      <th>genre</th>\n",
       "      <th>na_sales</th>\n",
       "      <th>eu_sales</th>\n",
       "      <th>jp_sales</th>\n",
       "      <th>other_sales</th>\n",
       "      <th>critic_score</th>\n",
       "      <th>user_score</th>\n",
       "      <th>rating</th>\n",
       "    </tr>\n",
       "  </thead>\n",
       "  <tbody>\n",
       "    <tr>\n",
       "      <th>604</th>\n",
       "      <td>Madden NFL 13</td>\n",
       "      <td>PS3</td>\n",
       "      <td>2012.0</td>\n",
       "      <td>Sports</td>\n",
       "      <td>2.11</td>\n",
       "      <td>0.22</td>\n",
       "      <td>0.00</td>\n",
       "      <td>0.23</td>\n",
       "      <td>83.0</td>\n",
       "      <td>5.5</td>\n",
       "      <td>E</td>\n",
       "    </tr>\n",
       "    <tr>\n",
       "      <th>659</th>\n",
       "      <td>NaN</td>\n",
       "      <td>GEN</td>\n",
       "      <td>1993.0</td>\n",
       "      <td>NaN</td>\n",
       "      <td>1.78</td>\n",
       "      <td>0.53</td>\n",
       "      <td>0.00</td>\n",
       "      <td>0.08</td>\n",
       "      <td>NaN</td>\n",
       "      <td>NaN</td>\n",
       "      <td>NaN</td>\n",
       "    </tr>\n",
       "    <tr>\n",
       "      <th>14244</th>\n",
       "      <td>NaN</td>\n",
       "      <td>GEN</td>\n",
       "      <td>1993.0</td>\n",
       "      <td>NaN</td>\n",
       "      <td>0.00</td>\n",
       "      <td>0.00</td>\n",
       "      <td>0.03</td>\n",
       "      <td>0.00</td>\n",
       "      <td>NaN</td>\n",
       "      <td>NaN</td>\n",
       "      <td>NaN</td>\n",
       "    </tr>\n",
       "    <tr>\n",
       "      <th>16230</th>\n",
       "      <td>Madden NFL 13</td>\n",
       "      <td>PS3</td>\n",
       "      <td>2012.0</td>\n",
       "      <td>Sports</td>\n",
       "      <td>0.00</td>\n",
       "      <td>0.01</td>\n",
       "      <td>0.00</td>\n",
       "      <td>0.00</td>\n",
       "      <td>83.0</td>\n",
       "      <td>5.5</td>\n",
       "      <td>E</td>\n",
       "    </tr>\n",
       "  </tbody>\n",
       "</table>\n",
       "</div>"
      ],
      "text/plain": [
       "                name platform  year_of_release   genre  na_sales  eu_sales  \\\n",
       "604    Madden NFL 13      PS3           2012.0  Sports      2.11      0.22   \n",
       "659              NaN      GEN           1993.0     NaN      1.78      0.53   \n",
       "14244            NaN      GEN           1993.0     NaN      0.00      0.00   \n",
       "16230  Madden NFL 13      PS3           2012.0  Sports      0.00      0.01   \n",
       "\n",
       "       jp_sales  other_sales  critic_score user_score rating  \n",
       "604        0.00         0.23          83.0        5.5      E  \n",
       "659        0.00         0.08           NaN        NaN    NaN  \n",
       "14244      0.03         0.00           NaN        NaN    NaN  \n",
       "16230      0.00         0.00          83.0        5.5      E  "
      ]
     },
     "execution_count": 24,
     "metadata": {},
     "output_type": "execute_result"
    }
   ],
   "source": [
    "# Check for duplicate strings by common game name, platform, release year, and genre:\n",
    "games[games.duplicated(subset=['name', 'platform', 'year_of_release', 'genre'], keep=False)]\n"
   ]
  },
  {
   "cell_type": "code",
   "execution_count": 25,
   "id": "586ec515",
   "metadata": {},
   "outputs": [
    {
     "data": {
      "text/html": [
       "<div>\n",
       "<style scoped>\n",
       "    .dataframe tbody tr th:only-of-type {\n",
       "        vertical-align: middle;\n",
       "    }\n",
       "\n",
       "    .dataframe tbody tr th {\n",
       "        vertical-align: top;\n",
       "    }\n",
       "\n",
       "    .dataframe thead th {\n",
       "        text-align: right;\n",
       "    }\n",
       "</style>\n",
       "<table border=\"1\" class=\"dataframe\">\n",
       "  <thead>\n",
       "    <tr style=\"text-align: right;\">\n",
       "      <th></th>\n",
       "      <th>name</th>\n",
       "      <th>platform</th>\n",
       "      <th>year_of_release</th>\n",
       "      <th>genre</th>\n",
       "      <th>na_sales</th>\n",
       "      <th>eu_sales</th>\n",
       "      <th>jp_sales</th>\n",
       "      <th>other_sales</th>\n",
       "      <th>critic_score</th>\n",
       "      <th>user_score</th>\n",
       "      <th>rating</th>\n",
       "    </tr>\n",
       "  </thead>\n",
       "  <tbody>\n",
       "    <tr>\n",
       "      <th>0</th>\n",
       "      <td>Wii Sports</td>\n",
       "      <td>Wii</td>\n",
       "      <td>2006.0</td>\n",
       "      <td>Sports</td>\n",
       "      <td>41.36</td>\n",
       "      <td>28.96</td>\n",
       "      <td>3.77</td>\n",
       "      <td>8.45</td>\n",
       "      <td>76.0</td>\n",
       "      <td>8</td>\n",
       "      <td>E</td>\n",
       "    </tr>\n",
       "    <tr>\n",
       "      <th>1</th>\n",
       "      <td>Super Mario Bros.</td>\n",
       "      <td>NES</td>\n",
       "      <td>1985.0</td>\n",
       "      <td>Platform</td>\n",
       "      <td>29.08</td>\n",
       "      <td>3.58</td>\n",
       "      <td>6.81</td>\n",
       "      <td>0.77</td>\n",
       "      <td>NaN</td>\n",
       "      <td>NaN</td>\n",
       "      <td>NaN</td>\n",
       "    </tr>\n",
       "    <tr>\n",
       "      <th>2</th>\n",
       "      <td>Mario Kart Wii</td>\n",
       "      <td>Wii</td>\n",
       "      <td>2008.0</td>\n",
       "      <td>Racing</td>\n",
       "      <td>15.68</td>\n",
       "      <td>12.76</td>\n",
       "      <td>3.79</td>\n",
       "      <td>3.29</td>\n",
       "      <td>82.0</td>\n",
       "      <td>8.3</td>\n",
       "      <td>E</td>\n",
       "    </tr>\n",
       "    <tr>\n",
       "      <th>3</th>\n",
       "      <td>Wii Sports Resort</td>\n",
       "      <td>Wii</td>\n",
       "      <td>2009.0</td>\n",
       "      <td>Sports</td>\n",
       "      <td>15.61</td>\n",
       "      <td>10.93</td>\n",
       "      <td>3.28</td>\n",
       "      <td>2.95</td>\n",
       "      <td>80.0</td>\n",
       "      <td>8</td>\n",
       "      <td>E</td>\n",
       "    </tr>\n",
       "    <tr>\n",
       "      <th>4</th>\n",
       "      <td>Pokemon Red/Pokemon Blue</td>\n",
       "      <td>GB</td>\n",
       "      <td>1996.0</td>\n",
       "      <td>Role-Playing</td>\n",
       "      <td>11.27</td>\n",
       "      <td>8.89</td>\n",
       "      <td>10.22</td>\n",
       "      <td>1.00</td>\n",
       "      <td>NaN</td>\n",
       "      <td>NaN</td>\n",
       "      <td>NaN</td>\n",
       "    </tr>\n",
       "    <tr>\n",
       "      <th>...</th>\n",
       "      <td>...</td>\n",
       "      <td>...</td>\n",
       "      <td>...</td>\n",
       "      <td>...</td>\n",
       "      <td>...</td>\n",
       "      <td>...</td>\n",
       "      <td>...</td>\n",
       "      <td>...</td>\n",
       "      <td>...</td>\n",
       "      <td>...</td>\n",
       "      <td>...</td>\n",
       "    </tr>\n",
       "    <tr>\n",
       "      <th>16707</th>\n",
       "      <td>Samurai Warriors: Sanada Maru</td>\n",
       "      <td>PS3</td>\n",
       "      <td>2016.0</td>\n",
       "      <td>Action</td>\n",
       "      <td>0.00</td>\n",
       "      <td>0.00</td>\n",
       "      <td>0.01</td>\n",
       "      <td>0.00</td>\n",
       "      <td>NaN</td>\n",
       "      <td>NaN</td>\n",
       "      <td>NaN</td>\n",
       "    </tr>\n",
       "    <tr>\n",
       "      <th>16708</th>\n",
       "      <td>LMA Manager 2007</td>\n",
       "      <td>X360</td>\n",
       "      <td>2006.0</td>\n",
       "      <td>Sports</td>\n",
       "      <td>0.00</td>\n",
       "      <td>0.01</td>\n",
       "      <td>0.00</td>\n",
       "      <td>0.00</td>\n",
       "      <td>NaN</td>\n",
       "      <td>NaN</td>\n",
       "      <td>NaN</td>\n",
       "    </tr>\n",
       "    <tr>\n",
       "      <th>16709</th>\n",
       "      <td>Haitaka no Psychedelica</td>\n",
       "      <td>PSV</td>\n",
       "      <td>2016.0</td>\n",
       "      <td>Adventure</td>\n",
       "      <td>0.00</td>\n",
       "      <td>0.00</td>\n",
       "      <td>0.01</td>\n",
       "      <td>0.00</td>\n",
       "      <td>NaN</td>\n",
       "      <td>NaN</td>\n",
       "      <td>NaN</td>\n",
       "    </tr>\n",
       "    <tr>\n",
       "      <th>16710</th>\n",
       "      <td>Spirits &amp; Spells</td>\n",
       "      <td>GBA</td>\n",
       "      <td>2003.0</td>\n",
       "      <td>Platform</td>\n",
       "      <td>0.01</td>\n",
       "      <td>0.00</td>\n",
       "      <td>0.00</td>\n",
       "      <td>0.00</td>\n",
       "      <td>NaN</td>\n",
       "      <td>NaN</td>\n",
       "      <td>NaN</td>\n",
       "    </tr>\n",
       "    <tr>\n",
       "      <th>16711</th>\n",
       "      <td>Winning Post 8 2016</td>\n",
       "      <td>PSV</td>\n",
       "      <td>2016.0</td>\n",
       "      <td>Simulation</td>\n",
       "      <td>0.00</td>\n",
       "      <td>0.00</td>\n",
       "      <td>0.01</td>\n",
       "      <td>0.00</td>\n",
       "      <td>NaN</td>\n",
       "      <td>NaN</td>\n",
       "      <td>NaN</td>\n",
       "    </tr>\n",
       "  </tbody>\n",
       "</table>\n",
       "<p>16712 rows × 11 columns</p>\n",
       "</div>"
      ],
      "text/plain": [
       "                                name platform  year_of_release         genre  \\\n",
       "0                         Wii Sports      Wii           2006.0        Sports   \n",
       "1                  Super Mario Bros.      NES           1985.0      Platform   \n",
       "2                     Mario Kart Wii      Wii           2008.0        Racing   \n",
       "3                  Wii Sports Resort      Wii           2009.0        Sports   \n",
       "4           Pokemon Red/Pokemon Blue       GB           1996.0  Role-Playing   \n",
       "...                              ...      ...              ...           ...   \n",
       "16707  Samurai Warriors: Sanada Maru      PS3           2016.0        Action   \n",
       "16708               LMA Manager 2007     X360           2006.0        Sports   \n",
       "16709        Haitaka no Psychedelica      PSV           2016.0     Adventure   \n",
       "16710               Spirits & Spells      GBA           2003.0      Platform   \n",
       "16711            Winning Post 8 2016      PSV           2016.0    Simulation   \n",
       "\n",
       "       na_sales  eu_sales  jp_sales  other_sales  critic_score user_score  \\\n",
       "0         41.36     28.96      3.77         8.45          76.0          8   \n",
       "1         29.08      3.58      6.81         0.77           NaN        NaN   \n",
       "2         15.68     12.76      3.79         3.29          82.0        8.3   \n",
       "3         15.61     10.93      3.28         2.95          80.0          8   \n",
       "4         11.27      8.89     10.22         1.00           NaN        NaN   \n",
       "...         ...       ...       ...          ...           ...        ...   \n",
       "16707      0.00      0.00      0.01         0.00           NaN        NaN   \n",
       "16708      0.00      0.01      0.00         0.00           NaN        NaN   \n",
       "16709      0.00      0.00      0.01         0.00           NaN        NaN   \n",
       "16710      0.01      0.00      0.00         0.00           NaN        NaN   \n",
       "16711      0.00      0.00      0.01         0.00           NaN        NaN   \n",
       "\n",
       "      rating  \n",
       "0          E  \n",
       "1        NaN  \n",
       "2          E  \n",
       "3          E  \n",
       "4        NaN  \n",
       "...      ...  \n",
       "16707    NaN  \n",
       "16708    NaN  \n",
       "16709    NaN  \n",
       "16710    NaN  \n",
       "16711    NaN  \n",
       "\n",
       "[16712 rows x 11 columns]"
      ]
     },
     "execution_count": 25,
     "metadata": {},
     "output_type": "execute_result"
    }
   ],
   "source": [
    "# These rows can be deleted - this is less than 1% of the data\n",
    "games.drop(index = [659, 14244, 16230],axis = 0, inplace = True)\n",
    "games.reset_index(drop=True)"
   ]
  },
  {
   "cell_type": "code",
   "execution_count": 26,
   "id": "123a64c3",
   "metadata": {},
   "outputs": [],
   "source": [
    "# During the initial visual evaluation of the data, a large number of duplicates were found in the name column.\n",
    "# Consider the nature of their appearance:\n",
    "games_duble = games.query('name.duplicated() == True')"
   ]
  },
  {
   "cell_type": "code",
   "execution_count": 27,
   "id": "231c74a1",
   "metadata": {},
   "outputs": [
    {
     "data": {
      "text/plain": [
       "Need for Speed: Most Wanted              11\n",
       "LEGO Marvel Super Heroes                  8\n",
       "Madden NFL 07                             8\n",
       "Ratatouille                               8\n",
       "FIFA 14                                   8\n",
       "                                         ..\n",
       "El Shaddai: Ascension of the Metatron     1\n",
       "Dancing With The Stars                    1\n",
       "Hot Wheels World Race                     1\n",
       "Splatterhouse                             1\n",
       "Winning Post 8 2016                       1\n",
       "Name: name, Length: 2805, dtype: int64"
      ]
     },
     "execution_count": 27,
     "metadata": {},
     "output_type": "execute_result"
    }
   ],
   "source": [
    "games_duble['name'].value_counts()"
   ]
  },
  {
   "cell_type": "code",
   "execution_count": 28,
   "id": "7ed0227b",
   "metadata": {},
   "outputs": [
    {
     "data": {
      "text/html": [
       "<div>\n",
       "<style scoped>\n",
       "    .dataframe tbody tr th:only-of-type {\n",
       "        vertical-align: middle;\n",
       "    }\n",
       "\n",
       "    .dataframe tbody tr th {\n",
       "        vertical-align: top;\n",
       "    }\n",
       "\n",
       "    .dataframe thead th {\n",
       "        text-align: right;\n",
       "    }\n",
       "</style>\n",
       "<table border=\"1\" class=\"dataframe\">\n",
       "  <thead>\n",
       "    <tr style=\"text-align: right;\">\n",
       "      <th></th>\n",
       "      <th>name</th>\n",
       "      <th>platform</th>\n",
       "      <th>year_of_release</th>\n",
       "      <th>genre</th>\n",
       "      <th>na_sales</th>\n",
       "      <th>eu_sales</th>\n",
       "      <th>jp_sales</th>\n",
       "      <th>other_sales</th>\n",
       "      <th>critic_score</th>\n",
       "      <th>user_score</th>\n",
       "      <th>rating</th>\n",
       "    </tr>\n",
       "  </thead>\n",
       "  <tbody>\n",
       "    <tr>\n",
       "      <th>253</th>\n",
       "      <td>Need for Speed: Most Wanted</td>\n",
       "      <td>PS2</td>\n",
       "      <td>2005.0</td>\n",
       "      <td>Racing</td>\n",
       "      <td>2.03</td>\n",
       "      <td>1.79</td>\n",
       "      <td>0.08</td>\n",
       "      <td>0.47</td>\n",
       "      <td>82.0</td>\n",
       "      <td>9.1</td>\n",
       "      <td>T</td>\n",
       "    </tr>\n",
       "    <tr>\n",
       "      <th>523</th>\n",
       "      <td>Need for Speed: Most Wanted</td>\n",
       "      <td>PS3</td>\n",
       "      <td>2012.0</td>\n",
       "      <td>Racing</td>\n",
       "      <td>0.71</td>\n",
       "      <td>1.46</td>\n",
       "      <td>0.06</td>\n",
       "      <td>0.58</td>\n",
       "      <td>NaN</td>\n",
       "      <td>NaN</td>\n",
       "      <td>NaN</td>\n",
       "    </tr>\n",
       "    <tr>\n",
       "      <th>1190</th>\n",
       "      <td>Need for Speed: Most Wanted</td>\n",
       "      <td>X360</td>\n",
       "      <td>2012.0</td>\n",
       "      <td>Racing</td>\n",
       "      <td>0.62</td>\n",
       "      <td>0.78</td>\n",
       "      <td>0.01</td>\n",
       "      <td>0.15</td>\n",
       "      <td>83.0</td>\n",
       "      <td>8.5</td>\n",
       "      <td>T</td>\n",
       "    </tr>\n",
       "    <tr>\n",
       "      <th>1591</th>\n",
       "      <td>Need for Speed: Most Wanted</td>\n",
       "      <td>X360</td>\n",
       "      <td>2005.0</td>\n",
       "      <td>Racing</td>\n",
       "      <td>1.00</td>\n",
       "      <td>0.13</td>\n",
       "      <td>0.02</td>\n",
       "      <td>0.10</td>\n",
       "      <td>83.0</td>\n",
       "      <td>8.5</td>\n",
       "      <td>T</td>\n",
       "    </tr>\n",
       "    <tr>\n",
       "      <th>1998</th>\n",
       "      <td>Need for Speed: Most Wanted</td>\n",
       "      <td>XB</td>\n",
       "      <td>2005.0</td>\n",
       "      <td>Racing</td>\n",
       "      <td>0.53</td>\n",
       "      <td>0.46</td>\n",
       "      <td>0.00</td>\n",
       "      <td>0.05</td>\n",
       "      <td>83.0</td>\n",
       "      <td>8.8</td>\n",
       "      <td>T</td>\n",
       "    </tr>\n",
       "    <tr>\n",
       "      <th>2048</th>\n",
       "      <td>Need for Speed: Most Wanted</td>\n",
       "      <td>PSV</td>\n",
       "      <td>2012.0</td>\n",
       "      <td>Racing</td>\n",
       "      <td>0.33</td>\n",
       "      <td>0.45</td>\n",
       "      <td>0.01</td>\n",
       "      <td>0.22</td>\n",
       "      <td>NaN</td>\n",
       "      <td>NaN</td>\n",
       "      <td>NaN</td>\n",
       "    </tr>\n",
       "    <tr>\n",
       "      <th>3581</th>\n",
       "      <td>Need for Speed: Most Wanted</td>\n",
       "      <td>GC</td>\n",
       "      <td>2005.0</td>\n",
       "      <td>Racing</td>\n",
       "      <td>0.43</td>\n",
       "      <td>0.11</td>\n",
       "      <td>0.00</td>\n",
       "      <td>0.02</td>\n",
       "      <td>80.0</td>\n",
       "      <td>9.1</td>\n",
       "      <td>T</td>\n",
       "    </tr>\n",
       "    <tr>\n",
       "      <th>5972</th>\n",
       "      <td>Need for Speed: Most Wanted</td>\n",
       "      <td>PC</td>\n",
       "      <td>2005.0</td>\n",
       "      <td>Racing</td>\n",
       "      <td>0.02</td>\n",
       "      <td>0.23</td>\n",
       "      <td>0.00</td>\n",
       "      <td>0.04</td>\n",
       "      <td>82.0</td>\n",
       "      <td>8.5</td>\n",
       "      <td>T</td>\n",
       "    </tr>\n",
       "    <tr>\n",
       "      <th>6273</th>\n",
       "      <td>Need for Speed: Most Wanted</td>\n",
       "      <td>WiiU</td>\n",
       "      <td>2013.0</td>\n",
       "      <td>Racing</td>\n",
       "      <td>0.13</td>\n",
       "      <td>0.12</td>\n",
       "      <td>0.00</td>\n",
       "      <td>0.02</td>\n",
       "      <td>NaN</td>\n",
       "      <td>NaN</td>\n",
       "      <td>NaN</td>\n",
       "    </tr>\n",
       "    <tr>\n",
       "      <th>6410</th>\n",
       "      <td>Need for Speed: Most Wanted</td>\n",
       "      <td>DS</td>\n",
       "      <td>2005.0</td>\n",
       "      <td>Racing</td>\n",
       "      <td>0.24</td>\n",
       "      <td>0.01</td>\n",
       "      <td>0.00</td>\n",
       "      <td>0.02</td>\n",
       "      <td>45.0</td>\n",
       "      <td>6.1</td>\n",
       "      <td>E</td>\n",
       "    </tr>\n",
       "    <tr>\n",
       "      <th>6473</th>\n",
       "      <td>Need for Speed: Most Wanted</td>\n",
       "      <td>GBA</td>\n",
       "      <td>2005.0</td>\n",
       "      <td>Racing</td>\n",
       "      <td>0.19</td>\n",
       "      <td>0.07</td>\n",
       "      <td>0.00</td>\n",
       "      <td>0.00</td>\n",
       "      <td>NaN</td>\n",
       "      <td>8.3</td>\n",
       "      <td>E</td>\n",
       "    </tr>\n",
       "    <tr>\n",
       "      <th>11715</th>\n",
       "      <td>Need for Speed: Most Wanted</td>\n",
       "      <td>PC</td>\n",
       "      <td>2012.0</td>\n",
       "      <td>Racing</td>\n",
       "      <td>0.00</td>\n",
       "      <td>0.06</td>\n",
       "      <td>0.00</td>\n",
       "      <td>0.02</td>\n",
       "      <td>82.0</td>\n",
       "      <td>8.5</td>\n",
       "      <td>T</td>\n",
       "    </tr>\n",
       "  </tbody>\n",
       "</table>\n",
       "</div>"
      ],
      "text/plain": [
       "                              name platform  year_of_release   genre  \\\n",
       "253    Need for Speed: Most Wanted      PS2           2005.0  Racing   \n",
       "523    Need for Speed: Most Wanted      PS3           2012.0  Racing   \n",
       "1190   Need for Speed: Most Wanted     X360           2012.0  Racing   \n",
       "1591   Need for Speed: Most Wanted     X360           2005.0  Racing   \n",
       "1998   Need for Speed: Most Wanted       XB           2005.0  Racing   \n",
       "2048   Need for Speed: Most Wanted      PSV           2012.0  Racing   \n",
       "3581   Need for Speed: Most Wanted       GC           2005.0  Racing   \n",
       "5972   Need for Speed: Most Wanted       PC           2005.0  Racing   \n",
       "6273   Need for Speed: Most Wanted     WiiU           2013.0  Racing   \n",
       "6410   Need for Speed: Most Wanted       DS           2005.0  Racing   \n",
       "6473   Need for Speed: Most Wanted      GBA           2005.0  Racing   \n",
       "11715  Need for Speed: Most Wanted       PC           2012.0  Racing   \n",
       "\n",
       "       na_sales  eu_sales  jp_sales  other_sales  critic_score user_score  \\\n",
       "253        2.03      1.79      0.08         0.47          82.0        9.1   \n",
       "523        0.71      1.46      0.06         0.58           NaN        NaN   \n",
       "1190       0.62      0.78      0.01         0.15          83.0        8.5   \n",
       "1591       1.00      0.13      0.02         0.10          83.0        8.5   \n",
       "1998       0.53      0.46      0.00         0.05          83.0        8.8   \n",
       "2048       0.33      0.45      0.01         0.22           NaN        NaN   \n",
       "3581       0.43      0.11      0.00         0.02          80.0        9.1   \n",
       "5972       0.02      0.23      0.00         0.04          82.0        8.5   \n",
       "6273       0.13      0.12      0.00         0.02           NaN        NaN   \n",
       "6410       0.24      0.01      0.00         0.02          45.0        6.1   \n",
       "6473       0.19      0.07      0.00         0.00           NaN        8.3   \n",
       "11715      0.00      0.06      0.00         0.02          82.0        8.5   \n",
       "\n",
       "      rating  \n",
       "253        T  \n",
       "523      NaN  \n",
       "1190       T  \n",
       "1591       T  \n",
       "1998       T  \n",
       "2048     NaN  \n",
       "3581       T  \n",
       "5972       T  \n",
       "6273     NaN  \n",
       "6410       E  \n",
       "6473       E  \n",
       "11715      T  "
      ]
     },
     "execution_count": 28,
     "metadata": {},
     "output_type": "execute_result"
    }
   ],
   "source": [
    "# Let's look at the most common duplicates\n",
    "games.query('name == \"Need for Speed: Most Wanted\"')"
   ]
  },
  {
   "cell_type": "markdown",
   "id": "6e4f29d8",
   "metadata": {},
   "source": [
    "Nothing remarkable was found in the duplicates in the name column. Duplicate game titles differ by release year and platform"
   ]
  },
  {
   "cell_type": "markdown",
   "id": "b7b784b8",
   "metadata": {},
   "source": [
    "**Let's eliminate missing in the following data:**\n",
    "- Year_of_Release     269\n",
    "- User_Score         6701\n",
    "- Critic_Score       8578\n",
    "- Rating             6766"
   ]
  },
  {
   "cell_type": "code",
   "execution_count": 29,
   "id": "fbbb6f13",
   "metadata": {},
   "outputs": [
    {
     "name": "stdout",
     "output_type": "stream",
     "text": [
      "name - 0.0%\n",
      "platform - 0.0%\n",
      "year_of_release - 1.61%\n",
      "genre - 0.0%\n",
      "na_sales - 0.0%\n",
      "eu_sales - 0.0%\n",
      "jp_sales - 0.0%\n",
      "other_sales - 0.0%\n",
      "critic_score - 51.32%\n",
      "user_score - 54.59%\n",
      "rating - 40.47%\n"
     ]
    }
   ],
   "source": [
    "# Recheck % missing\n",
    "isna_persent(games)"
   ]
  },
  {
   "cell_type": "code",
   "execution_count": 30,
   "id": "b146ad41",
   "metadata": {},
   "outputs": [
    {
     "data": {
      "text/html": [
       "<div>\n",
       "<style scoped>\n",
       "    .dataframe tbody tr th:only-of-type {\n",
       "        vertical-align: middle;\n",
       "    }\n",
       "\n",
       "    .dataframe tbody tr th {\n",
       "        vertical-align: top;\n",
       "    }\n",
       "\n",
       "    .dataframe thead th {\n",
       "        text-align: right;\n",
       "    }\n",
       "</style>\n",
       "<table border=\"1\" class=\"dataframe\">\n",
       "  <thead>\n",
       "    <tr style=\"text-align: right;\">\n",
       "      <th></th>\n",
       "      <th>name</th>\n",
       "      <th>platform</th>\n",
       "      <th>year_of_release</th>\n",
       "      <th>genre</th>\n",
       "      <th>na_sales</th>\n",
       "      <th>eu_sales</th>\n",
       "      <th>jp_sales</th>\n",
       "      <th>other_sales</th>\n",
       "      <th>critic_score</th>\n",
       "      <th>user_score</th>\n",
       "      <th>rating</th>\n",
       "    </tr>\n",
       "  </thead>\n",
       "  <tbody>\n",
       "    <tr>\n",
       "      <th>183</th>\n",
       "      <td>Madden NFL 2004</td>\n",
       "      <td>PS2</td>\n",
       "      <td>NaN</td>\n",
       "      <td>Sports</td>\n",
       "      <td>4.26</td>\n",
       "      <td>0.26</td>\n",
       "      <td>0.01</td>\n",
       "      <td>0.71</td>\n",
       "      <td>94.0</td>\n",
       "      <td>8.5</td>\n",
       "      <td>E</td>\n",
       "    </tr>\n",
       "    <tr>\n",
       "      <th>377</th>\n",
       "      <td>FIFA Soccer 2004</td>\n",
       "      <td>PS2</td>\n",
       "      <td>NaN</td>\n",
       "      <td>Sports</td>\n",
       "      <td>0.59</td>\n",
       "      <td>2.36</td>\n",
       "      <td>0.04</td>\n",
       "      <td>0.51</td>\n",
       "      <td>84.0</td>\n",
       "      <td>6.4</td>\n",
       "      <td>E</td>\n",
       "    </tr>\n",
       "    <tr>\n",
       "      <th>456</th>\n",
       "      <td>LEGO Batman: The Videogame</td>\n",
       "      <td>Wii</td>\n",
       "      <td>NaN</td>\n",
       "      <td>Action</td>\n",
       "      <td>1.80</td>\n",
       "      <td>0.97</td>\n",
       "      <td>0.00</td>\n",
       "      <td>0.29</td>\n",
       "      <td>74.0</td>\n",
       "      <td>7.9</td>\n",
       "      <td>E10+</td>\n",
       "    </tr>\n",
       "    <tr>\n",
       "      <th>475</th>\n",
       "      <td>wwe Smackdown vs. Raw 2006</td>\n",
       "      <td>PS2</td>\n",
       "      <td>NaN</td>\n",
       "      <td>Fighting</td>\n",
       "      <td>1.57</td>\n",
       "      <td>1.02</td>\n",
       "      <td>0.00</td>\n",
       "      <td>0.41</td>\n",
       "      <td>NaN</td>\n",
       "      <td>NaN</td>\n",
       "      <td>NaN</td>\n",
       "    </tr>\n",
       "    <tr>\n",
       "      <th>609</th>\n",
       "      <td>Space Invaders</td>\n",
       "      <td>2600</td>\n",
       "      <td>NaN</td>\n",
       "      <td>Shooter</td>\n",
       "      <td>2.36</td>\n",
       "      <td>0.14</td>\n",
       "      <td>0.00</td>\n",
       "      <td>0.03</td>\n",
       "      <td>NaN</td>\n",
       "      <td>NaN</td>\n",
       "      <td>NaN</td>\n",
       "    </tr>\n",
       "    <tr>\n",
       "      <th>...</th>\n",
       "      <td>...</td>\n",
       "      <td>...</td>\n",
       "      <td>...</td>\n",
       "      <td>...</td>\n",
       "      <td>...</td>\n",
       "      <td>...</td>\n",
       "      <td>...</td>\n",
       "      <td>...</td>\n",
       "      <td>...</td>\n",
       "      <td>...</td>\n",
       "      <td>...</td>\n",
       "    </tr>\n",
       "    <tr>\n",
       "      <th>16373</th>\n",
       "      <td>PDC World Championship Darts 2008</td>\n",
       "      <td>PSP</td>\n",
       "      <td>NaN</td>\n",
       "      <td>Sports</td>\n",
       "      <td>0.01</td>\n",
       "      <td>0.00</td>\n",
       "      <td>0.00</td>\n",
       "      <td>0.00</td>\n",
       "      <td>43.0</td>\n",
       "      <td>NaN</td>\n",
       "      <td>E10+</td>\n",
       "    </tr>\n",
       "    <tr>\n",
       "      <th>16405</th>\n",
       "      <td>Freaky Flyers</td>\n",
       "      <td>GC</td>\n",
       "      <td>NaN</td>\n",
       "      <td>Racing</td>\n",
       "      <td>0.01</td>\n",
       "      <td>0.00</td>\n",
       "      <td>0.00</td>\n",
       "      <td>0.00</td>\n",
       "      <td>69.0</td>\n",
       "      <td>6.5</td>\n",
       "      <td>T</td>\n",
       "    </tr>\n",
       "    <tr>\n",
       "      <th>16448</th>\n",
       "      <td>Inversion</td>\n",
       "      <td>PC</td>\n",
       "      <td>NaN</td>\n",
       "      <td>Shooter</td>\n",
       "      <td>0.01</td>\n",
       "      <td>0.00</td>\n",
       "      <td>0.00</td>\n",
       "      <td>0.00</td>\n",
       "      <td>59.0</td>\n",
       "      <td>6.7</td>\n",
       "      <td>M</td>\n",
       "    </tr>\n",
       "    <tr>\n",
       "      <th>16458</th>\n",
       "      <td>Hakuouki: Shinsengumi Kitan</td>\n",
       "      <td>PS3</td>\n",
       "      <td>NaN</td>\n",
       "      <td>Adventure</td>\n",
       "      <td>0.01</td>\n",
       "      <td>0.00</td>\n",
       "      <td>0.00</td>\n",
       "      <td>0.00</td>\n",
       "      <td>NaN</td>\n",
       "      <td>NaN</td>\n",
       "      <td>NaN</td>\n",
       "    </tr>\n",
       "    <tr>\n",
       "      <th>16522</th>\n",
       "      <td>Virtua Quest</td>\n",
       "      <td>GC</td>\n",
       "      <td>NaN</td>\n",
       "      <td>Role-Playing</td>\n",
       "      <td>0.01</td>\n",
       "      <td>0.00</td>\n",
       "      <td>0.00</td>\n",
       "      <td>0.00</td>\n",
       "      <td>55.0</td>\n",
       "      <td>5.5</td>\n",
       "      <td>T</td>\n",
       "    </tr>\n",
       "  </tbody>\n",
       "</table>\n",
       "<p>269 rows × 11 columns</p>\n",
       "</div>"
      ],
      "text/plain": [
       "                                    name platform  year_of_release  \\\n",
       "183                      Madden NFL 2004      PS2              NaN   \n",
       "377                     FIFA Soccer 2004      PS2              NaN   \n",
       "456           LEGO Batman: The Videogame      Wii              NaN   \n",
       "475           wwe Smackdown vs. Raw 2006      PS2              NaN   \n",
       "609                       Space Invaders     2600              NaN   \n",
       "...                                  ...      ...              ...   \n",
       "16373  PDC World Championship Darts 2008      PSP              NaN   \n",
       "16405                      Freaky Flyers       GC              NaN   \n",
       "16448                          Inversion       PC              NaN   \n",
       "16458        Hakuouki: Shinsengumi Kitan      PS3              NaN   \n",
       "16522                       Virtua Quest       GC              NaN   \n",
       "\n",
       "              genre  na_sales  eu_sales  jp_sales  other_sales  critic_score  \\\n",
       "183          Sports      4.26      0.26      0.01         0.71          94.0   \n",
       "377          Sports      0.59      2.36      0.04         0.51          84.0   \n",
       "456          Action      1.80      0.97      0.00         0.29          74.0   \n",
       "475        Fighting      1.57      1.02      0.00         0.41           NaN   \n",
       "609         Shooter      2.36      0.14      0.00         0.03           NaN   \n",
       "...             ...       ...       ...       ...          ...           ...   \n",
       "16373        Sports      0.01      0.00      0.00         0.00          43.0   \n",
       "16405        Racing      0.01      0.00      0.00         0.00          69.0   \n",
       "16448       Shooter      0.01      0.00      0.00         0.00          59.0   \n",
       "16458     Adventure      0.01      0.00      0.00         0.00           NaN   \n",
       "16522  Role-Playing      0.01      0.00      0.00         0.00          55.0   \n",
       "\n",
       "      user_score rating  \n",
       "183          8.5      E  \n",
       "377          6.4      E  \n",
       "456          7.9   E10+  \n",
       "475          NaN    NaN  \n",
       "609          NaN    NaN  \n",
       "...          ...    ...  \n",
       "16373        NaN   E10+  \n",
       "16405        6.5      T  \n",
       "16448        6.7      M  \n",
       "16458        NaN    NaN  \n",
       "16522        5.5      T  \n",
       "\n",
       "[269 rows x 11 columns]"
      ]
     },
     "execution_count": 30,
     "metadata": {},
     "output_type": "execute_result"
    }
   ],
   "source": [
    "# Look at those missing from year_of_release:\n",
    "games.query('year_of_release.isna() == True')"
   ]
  },
  {
   "cell_type": "code",
   "execution_count": 31,
   "id": "07017d61",
   "metadata": {},
   "outputs": [
    {
     "data": {
      "text/plain": [
       "1.6096218286261368"
      ]
     },
     "execution_count": 31,
     "metadata": {},
     "output_type": "execute_result"
    }
   ],
   "source": [
    "# find what percentage these gaps take up from the total amount of data\n",
    "(games['year_of_release'].isna().sum()/len(games['year_of_release']))*100 "
   ]
  },
  {
   "cell_type": "code",
   "execution_count": 32,
   "id": "0dd1163c",
   "metadata": {},
   "outputs": [],
   "source": [
    "# 1.6% is a small amount of data, we can remove the release year missing in the data:\n",
    "games = games.dropna(subset=['year_of_release'])"
   ]
  },
  {
   "cell_type": "code",
   "execution_count": 33,
   "id": "f2971148",
   "metadata": {},
   "outputs": [
    {
     "data": {
      "text/html": [
       "<div>\n",
       "<style scoped>\n",
       "    .dataframe tbody tr th:only-of-type {\n",
       "        vertical-align: middle;\n",
       "    }\n",
       "\n",
       "    .dataframe tbody tr th {\n",
       "        vertical-align: top;\n",
       "    }\n",
       "\n",
       "    .dataframe thead th {\n",
       "        text-align: right;\n",
       "    }\n",
       "</style>\n",
       "<table border=\"1\" class=\"dataframe\">\n",
       "  <thead>\n",
       "    <tr style=\"text-align: right;\">\n",
       "      <th></th>\n",
       "      <th>name</th>\n",
       "      <th>platform</th>\n",
       "      <th>year_of_release</th>\n",
       "      <th>genre</th>\n",
       "      <th>na_sales</th>\n",
       "      <th>eu_sales</th>\n",
       "      <th>jp_sales</th>\n",
       "      <th>other_sales</th>\n",
       "      <th>critic_score</th>\n",
       "      <th>user_score</th>\n",
       "      <th>rating</th>\n",
       "    </tr>\n",
       "  </thead>\n",
       "  <tbody>\n",
       "    <tr>\n",
       "      <th>1</th>\n",
       "      <td>Super Mario Bros.</td>\n",
       "      <td>NES</td>\n",
       "      <td>1985.0</td>\n",
       "      <td>Platform</td>\n",
       "      <td>29.08</td>\n",
       "      <td>3.58</td>\n",
       "      <td>6.81</td>\n",
       "      <td>0.77</td>\n",
       "      <td>NaN</td>\n",
       "      <td>NaN</td>\n",
       "      <td>NaN</td>\n",
       "    </tr>\n",
       "    <tr>\n",
       "      <th>4</th>\n",
       "      <td>Pokemon Red/Pokemon Blue</td>\n",
       "      <td>GB</td>\n",
       "      <td>1996.0</td>\n",
       "      <td>Role-Playing</td>\n",
       "      <td>11.27</td>\n",
       "      <td>8.89</td>\n",
       "      <td>10.22</td>\n",
       "      <td>1.00</td>\n",
       "      <td>NaN</td>\n",
       "      <td>NaN</td>\n",
       "      <td>NaN</td>\n",
       "    </tr>\n",
       "    <tr>\n",
       "      <th>5</th>\n",
       "      <td>Tetris</td>\n",
       "      <td>GB</td>\n",
       "      <td>1989.0</td>\n",
       "      <td>Puzzle</td>\n",
       "      <td>23.20</td>\n",
       "      <td>2.26</td>\n",
       "      <td>4.22</td>\n",
       "      <td>0.58</td>\n",
       "      <td>NaN</td>\n",
       "      <td>NaN</td>\n",
       "      <td>NaN</td>\n",
       "    </tr>\n",
       "    <tr>\n",
       "      <th>9</th>\n",
       "      <td>Duck Hunt</td>\n",
       "      <td>NES</td>\n",
       "      <td>1984.0</td>\n",
       "      <td>Shooter</td>\n",
       "      <td>26.93</td>\n",
       "      <td>0.63</td>\n",
       "      <td>0.28</td>\n",
       "      <td>0.47</td>\n",
       "      <td>NaN</td>\n",
       "      <td>NaN</td>\n",
       "      <td>NaN</td>\n",
       "    </tr>\n",
       "    <tr>\n",
       "      <th>10</th>\n",
       "      <td>Nintendogs</td>\n",
       "      <td>DS</td>\n",
       "      <td>2005.0</td>\n",
       "      <td>Simulation</td>\n",
       "      <td>9.05</td>\n",
       "      <td>10.95</td>\n",
       "      <td>1.93</td>\n",
       "      <td>2.74</td>\n",
       "      <td>NaN</td>\n",
       "      <td>NaN</td>\n",
       "      <td>NaN</td>\n",
       "    </tr>\n",
       "    <tr>\n",
       "      <th>...</th>\n",
       "      <td>...</td>\n",
       "      <td>...</td>\n",
       "      <td>...</td>\n",
       "      <td>...</td>\n",
       "      <td>...</td>\n",
       "      <td>...</td>\n",
       "      <td>...</td>\n",
       "      <td>...</td>\n",
       "      <td>...</td>\n",
       "      <td>...</td>\n",
       "      <td>...</td>\n",
       "    </tr>\n",
       "    <tr>\n",
       "      <th>16710</th>\n",
       "      <td>Samurai Warriors: Sanada Maru</td>\n",
       "      <td>PS3</td>\n",
       "      <td>2016.0</td>\n",
       "      <td>Action</td>\n",
       "      <td>0.00</td>\n",
       "      <td>0.00</td>\n",
       "      <td>0.01</td>\n",
       "      <td>0.00</td>\n",
       "      <td>NaN</td>\n",
       "      <td>NaN</td>\n",
       "      <td>NaN</td>\n",
       "    </tr>\n",
       "    <tr>\n",
       "      <th>16711</th>\n",
       "      <td>LMA Manager 2007</td>\n",
       "      <td>X360</td>\n",
       "      <td>2006.0</td>\n",
       "      <td>Sports</td>\n",
       "      <td>0.00</td>\n",
       "      <td>0.01</td>\n",
       "      <td>0.00</td>\n",
       "      <td>0.00</td>\n",
       "      <td>NaN</td>\n",
       "      <td>NaN</td>\n",
       "      <td>NaN</td>\n",
       "    </tr>\n",
       "    <tr>\n",
       "      <th>16712</th>\n",
       "      <td>Haitaka no Psychedelica</td>\n",
       "      <td>PSV</td>\n",
       "      <td>2016.0</td>\n",
       "      <td>Adventure</td>\n",
       "      <td>0.00</td>\n",
       "      <td>0.00</td>\n",
       "      <td>0.01</td>\n",
       "      <td>0.00</td>\n",
       "      <td>NaN</td>\n",
       "      <td>NaN</td>\n",
       "      <td>NaN</td>\n",
       "    </tr>\n",
       "    <tr>\n",
       "      <th>16713</th>\n",
       "      <td>Spirits &amp; Spells</td>\n",
       "      <td>GBA</td>\n",
       "      <td>2003.0</td>\n",
       "      <td>Platform</td>\n",
       "      <td>0.01</td>\n",
       "      <td>0.00</td>\n",
       "      <td>0.00</td>\n",
       "      <td>0.00</td>\n",
       "      <td>NaN</td>\n",
       "      <td>NaN</td>\n",
       "      <td>NaN</td>\n",
       "    </tr>\n",
       "    <tr>\n",
       "      <th>16714</th>\n",
       "      <td>Winning Post 8 2016</td>\n",
       "      <td>PSV</td>\n",
       "      <td>2016.0</td>\n",
       "      <td>Simulation</td>\n",
       "      <td>0.00</td>\n",
       "      <td>0.00</td>\n",
       "      <td>0.01</td>\n",
       "      <td>0.00</td>\n",
       "      <td>NaN</td>\n",
       "      <td>NaN</td>\n",
       "      <td>NaN</td>\n",
       "    </tr>\n",
       "  </tbody>\n",
       "</table>\n",
       "<p>6580 rows × 11 columns</p>\n",
       "</div>"
      ],
      "text/plain": [
       "                                name platform  year_of_release         genre  \\\n",
       "1                  Super Mario Bros.      NES           1985.0      Platform   \n",
       "4           Pokemon Red/Pokemon Blue       GB           1996.0  Role-Playing   \n",
       "5                             Tetris       GB           1989.0        Puzzle   \n",
       "9                          Duck Hunt      NES           1984.0       Shooter   \n",
       "10                        Nintendogs       DS           2005.0    Simulation   \n",
       "...                              ...      ...              ...           ...   \n",
       "16710  Samurai Warriors: Sanada Maru      PS3           2016.0        Action   \n",
       "16711               LMA Manager 2007     X360           2006.0        Sports   \n",
       "16712        Haitaka no Psychedelica      PSV           2016.0     Adventure   \n",
       "16713               Spirits & Spells      GBA           2003.0      Platform   \n",
       "16714            Winning Post 8 2016      PSV           2016.0    Simulation   \n",
       "\n",
       "       na_sales  eu_sales  jp_sales  other_sales  critic_score user_score  \\\n",
       "1         29.08      3.58      6.81         0.77           NaN        NaN   \n",
       "4         11.27      8.89     10.22         1.00           NaN        NaN   \n",
       "5         23.20      2.26      4.22         0.58           NaN        NaN   \n",
       "9         26.93      0.63      0.28         0.47           NaN        NaN   \n",
       "10         9.05     10.95      1.93         2.74           NaN        NaN   \n",
       "...         ...       ...       ...          ...           ...        ...   \n",
       "16710      0.00      0.00      0.01         0.00           NaN        NaN   \n",
       "16711      0.00      0.01      0.00         0.00           NaN        NaN   \n",
       "16712      0.00      0.00      0.01         0.00           NaN        NaN   \n",
       "16713      0.01      0.00      0.00         0.00           NaN        NaN   \n",
       "16714      0.00      0.00      0.01         0.00           NaN        NaN   \n",
       "\n",
       "      rating  \n",
       "1        NaN  \n",
       "4        NaN  \n",
       "5        NaN  \n",
       "9        NaN  \n",
       "10       NaN  \n",
       "...      ...  \n",
       "16710    NaN  \n",
       "16711    NaN  \n",
       "16712    NaN  \n",
       "16713    NaN  \n",
       "16714    NaN  \n",
       "\n",
       "[6580 rows x 11 columns]"
      ]
     },
     "execution_count": 33,
     "metadata": {},
     "output_type": "execute_result"
    }
   ],
   "source": [
    "# Look at the values in critic_score, user_score and rating\n",
    "score_isna = games.query('critic_score.isna() == True and user_score.isna() == True and rating.isna() == True ')\n",
    "score_isna"
   ]
  },
  {
   "cell_type": "code",
   "execution_count": 34,
   "id": "adda3d93",
   "metadata": {},
   "outputs": [
    {
     "data": {
      "text/html": [
       "<div>\n",
       "<style scoped>\n",
       "    .dataframe tbody tr th:only-of-type {\n",
       "        vertical-align: middle;\n",
       "    }\n",
       "\n",
       "    .dataframe tbody tr th {\n",
       "        vertical-align: top;\n",
       "    }\n",
       "\n",
       "    .dataframe thead th {\n",
       "        text-align: right;\n",
       "    }\n",
       "</style>\n",
       "<table border=\"1\" class=\"dataframe\">\n",
       "  <thead>\n",
       "    <tr style=\"text-align: right;\">\n",
       "      <th>year_of_release</th>\n",
       "      <th>1980.0</th>\n",
       "      <th>1981.0</th>\n",
       "      <th>1982.0</th>\n",
       "      <th>1983.0</th>\n",
       "      <th>1984.0</th>\n",
       "      <th>1985.0</th>\n",
       "      <th>1986.0</th>\n",
       "      <th>1987.0</th>\n",
       "      <th>1988.0</th>\n",
       "      <th>1989.0</th>\n",
       "      <th>...</th>\n",
       "      <th>2007.0</th>\n",
       "      <th>2008.0</th>\n",
       "      <th>2009.0</th>\n",
       "      <th>2010.0</th>\n",
       "      <th>2011.0</th>\n",
       "      <th>2012.0</th>\n",
       "      <th>2013.0</th>\n",
       "      <th>2014.0</th>\n",
       "      <th>2015.0</th>\n",
       "      <th>2016.0</th>\n",
       "    </tr>\n",
       "    <tr>\n",
       "      <th>platform</th>\n",
       "      <th></th>\n",
       "      <th></th>\n",
       "      <th></th>\n",
       "      <th></th>\n",
       "      <th></th>\n",
       "      <th></th>\n",
       "      <th></th>\n",
       "      <th></th>\n",
       "      <th></th>\n",
       "      <th></th>\n",
       "      <th></th>\n",
       "      <th></th>\n",
       "      <th></th>\n",
       "      <th></th>\n",
       "      <th></th>\n",
       "      <th></th>\n",
       "      <th></th>\n",
       "      <th></th>\n",
       "      <th></th>\n",
       "      <th></th>\n",
       "      <th></th>\n",
       "    </tr>\n",
       "  </thead>\n",
       "  <tbody>\n",
       "    <tr>\n",
       "      <th>2600</th>\n",
       "      <td>0.0</td>\n",
       "      <td>0.0</td>\n",
       "      <td>0.0</td>\n",
       "      <td>0.0</td>\n",
       "      <td>0.0</td>\n",
       "      <td>0.0</td>\n",
       "      <td>0.0</td>\n",
       "      <td>0.0</td>\n",
       "      <td>0.0</td>\n",
       "      <td>0.0</td>\n",
       "      <td>...</td>\n",
       "      <td>-</td>\n",
       "      <td>-</td>\n",
       "      <td>-</td>\n",
       "      <td>-</td>\n",
       "      <td>-</td>\n",
       "      <td>-</td>\n",
       "      <td>-</td>\n",
       "      <td>-</td>\n",
       "      <td>-</td>\n",
       "      <td>-</td>\n",
       "    </tr>\n",
       "    <tr>\n",
       "      <th>3DO</th>\n",
       "      <td>-</td>\n",
       "      <td>-</td>\n",
       "      <td>-</td>\n",
       "      <td>-</td>\n",
       "      <td>-</td>\n",
       "      <td>-</td>\n",
       "      <td>-</td>\n",
       "      <td>-</td>\n",
       "      <td>-</td>\n",
       "      <td>-</td>\n",
       "      <td>...</td>\n",
       "      <td>-</td>\n",
       "      <td>-</td>\n",
       "      <td>-</td>\n",
       "      <td>-</td>\n",
       "      <td>-</td>\n",
       "      <td>-</td>\n",
       "      <td>-</td>\n",
       "      <td>-</td>\n",
       "      <td>-</td>\n",
       "      <td>-</td>\n",
       "    </tr>\n",
       "    <tr>\n",
       "      <th>3DS</th>\n",
       "      <td>-</td>\n",
       "      <td>-</td>\n",
       "      <td>-</td>\n",
       "      <td>-</td>\n",
       "      <td>-</td>\n",
       "      <td>-</td>\n",
       "      <td>-</td>\n",
       "      <td>-</td>\n",
       "      <td>-</td>\n",
       "      <td>-</td>\n",
       "      <td>...</td>\n",
       "      <td>-</td>\n",
       "      <td>-</td>\n",
       "      <td>-</td>\n",
       "      <td>-</td>\n",
       "      <td>0.0</td>\n",
       "      <td>0.0</td>\n",
       "      <td>0.0</td>\n",
       "      <td>0.0</td>\n",
       "      <td>0.0</td>\n",
       "      <td>0.0</td>\n",
       "    </tr>\n",
       "    <tr>\n",
       "      <th>DC</th>\n",
       "      <td>-</td>\n",
       "      <td>-</td>\n",
       "      <td>-</td>\n",
       "      <td>-</td>\n",
       "      <td>-</td>\n",
       "      <td>-</td>\n",
       "      <td>-</td>\n",
       "      <td>-</td>\n",
       "      <td>-</td>\n",
       "      <td>-</td>\n",
       "      <td>...</td>\n",
       "      <td>0.0</td>\n",
       "      <td>0.0</td>\n",
       "      <td>-</td>\n",
       "      <td>-</td>\n",
       "      <td>-</td>\n",
       "      <td>-</td>\n",
       "      <td>-</td>\n",
       "      <td>-</td>\n",
       "      <td>-</td>\n",
       "      <td>-</td>\n",
       "    </tr>\n",
       "    <tr>\n",
       "      <th>DS</th>\n",
       "      <td>-</td>\n",
       "      <td>-</td>\n",
       "      <td>-</td>\n",
       "      <td>-</td>\n",
       "      <td>-</td>\n",
       "      <td>0.0</td>\n",
       "      <td>-</td>\n",
       "      <td>-</td>\n",
       "      <td>-</td>\n",
       "      <td>-</td>\n",
       "      <td>...</td>\n",
       "      <td>0.0</td>\n",
       "      <td>0.0</td>\n",
       "      <td>0.0</td>\n",
       "      <td>0.0</td>\n",
       "      <td>0.0</td>\n",
       "      <td>0.0</td>\n",
       "      <td>0.0</td>\n",
       "      <td>-</td>\n",
       "      <td>-</td>\n",
       "      <td>-</td>\n",
       "    </tr>\n",
       "    <tr>\n",
       "      <th>GB</th>\n",
       "      <td>-</td>\n",
       "      <td>-</td>\n",
       "      <td>-</td>\n",
       "      <td>-</td>\n",
       "      <td>-</td>\n",
       "      <td>-</td>\n",
       "      <td>-</td>\n",
       "      <td>-</td>\n",
       "      <td>0.0</td>\n",
       "      <td>0.0</td>\n",
       "      <td>...</td>\n",
       "      <td>-</td>\n",
       "      <td>-</td>\n",
       "      <td>-</td>\n",
       "      <td>-</td>\n",
       "      <td>-</td>\n",
       "      <td>-</td>\n",
       "      <td>-</td>\n",
       "      <td>-</td>\n",
       "      <td>-</td>\n",
       "      <td>-</td>\n",
       "    </tr>\n",
       "    <tr>\n",
       "      <th>GBA</th>\n",
       "      <td>-</td>\n",
       "      <td>-</td>\n",
       "      <td>-</td>\n",
       "      <td>-</td>\n",
       "      <td>-</td>\n",
       "      <td>-</td>\n",
       "      <td>-</td>\n",
       "      <td>-</td>\n",
       "      <td>-</td>\n",
       "      <td>-</td>\n",
       "      <td>...</td>\n",
       "      <td>0.0</td>\n",
       "      <td>-</td>\n",
       "      <td>-</td>\n",
       "      <td>-</td>\n",
       "      <td>-</td>\n",
       "      <td>-</td>\n",
       "      <td>-</td>\n",
       "      <td>-</td>\n",
       "      <td>-</td>\n",
       "      <td>-</td>\n",
       "    </tr>\n",
       "    <tr>\n",
       "      <th>GC</th>\n",
       "      <td>-</td>\n",
       "      <td>-</td>\n",
       "      <td>-</td>\n",
       "      <td>-</td>\n",
       "      <td>-</td>\n",
       "      <td>-</td>\n",
       "      <td>-</td>\n",
       "      <td>-</td>\n",
       "      <td>-</td>\n",
       "      <td>-</td>\n",
       "      <td>...</td>\n",
       "      <td>-</td>\n",
       "      <td>-</td>\n",
       "      <td>-</td>\n",
       "      <td>-</td>\n",
       "      <td>-</td>\n",
       "      <td>-</td>\n",
       "      <td>-</td>\n",
       "      <td>-</td>\n",
       "      <td>-</td>\n",
       "      <td>-</td>\n",
       "    </tr>\n",
       "    <tr>\n",
       "      <th>GEN</th>\n",
       "      <td>-</td>\n",
       "      <td>-</td>\n",
       "      <td>-</td>\n",
       "      <td>-</td>\n",
       "      <td>-</td>\n",
       "      <td>-</td>\n",
       "      <td>-</td>\n",
       "      <td>-</td>\n",
       "      <td>-</td>\n",
       "      <td>-</td>\n",
       "      <td>...</td>\n",
       "      <td>-</td>\n",
       "      <td>-</td>\n",
       "      <td>-</td>\n",
       "      <td>-</td>\n",
       "      <td>-</td>\n",
       "      <td>-</td>\n",
       "      <td>-</td>\n",
       "      <td>-</td>\n",
       "      <td>-</td>\n",
       "      <td>-</td>\n",
       "    </tr>\n",
       "    <tr>\n",
       "      <th>GG</th>\n",
       "      <td>-</td>\n",
       "      <td>-</td>\n",
       "      <td>-</td>\n",
       "      <td>-</td>\n",
       "      <td>-</td>\n",
       "      <td>-</td>\n",
       "      <td>-</td>\n",
       "      <td>-</td>\n",
       "      <td>-</td>\n",
       "      <td>-</td>\n",
       "      <td>...</td>\n",
       "      <td>-</td>\n",
       "      <td>-</td>\n",
       "      <td>-</td>\n",
       "      <td>-</td>\n",
       "      <td>-</td>\n",
       "      <td>-</td>\n",
       "      <td>-</td>\n",
       "      <td>-</td>\n",
       "      <td>-</td>\n",
       "      <td>-</td>\n",
       "    </tr>\n",
       "    <tr>\n",
       "      <th>N64</th>\n",
       "      <td>-</td>\n",
       "      <td>-</td>\n",
       "      <td>-</td>\n",
       "      <td>-</td>\n",
       "      <td>-</td>\n",
       "      <td>-</td>\n",
       "      <td>-</td>\n",
       "      <td>-</td>\n",
       "      <td>-</td>\n",
       "      <td>-</td>\n",
       "      <td>...</td>\n",
       "      <td>-</td>\n",
       "      <td>-</td>\n",
       "      <td>-</td>\n",
       "      <td>-</td>\n",
       "      <td>-</td>\n",
       "      <td>-</td>\n",
       "      <td>-</td>\n",
       "      <td>-</td>\n",
       "      <td>-</td>\n",
       "      <td>-</td>\n",
       "    </tr>\n",
       "    <tr>\n",
       "      <th>NES</th>\n",
       "      <td>-</td>\n",
       "      <td>-</td>\n",
       "      <td>-</td>\n",
       "      <td>0.0</td>\n",
       "      <td>0.0</td>\n",
       "      <td>0.0</td>\n",
       "      <td>0.0</td>\n",
       "      <td>0.0</td>\n",
       "      <td>0.0</td>\n",
       "      <td>0.0</td>\n",
       "      <td>...</td>\n",
       "      <td>-</td>\n",
       "      <td>-</td>\n",
       "      <td>-</td>\n",
       "      <td>-</td>\n",
       "      <td>-</td>\n",
       "      <td>-</td>\n",
       "      <td>-</td>\n",
       "      <td>-</td>\n",
       "      <td>-</td>\n",
       "      <td>-</td>\n",
       "    </tr>\n",
       "    <tr>\n",
       "      <th>NG</th>\n",
       "      <td>-</td>\n",
       "      <td>-</td>\n",
       "      <td>-</td>\n",
       "      <td>-</td>\n",
       "      <td>-</td>\n",
       "      <td>-</td>\n",
       "      <td>-</td>\n",
       "      <td>-</td>\n",
       "      <td>-</td>\n",
       "      <td>-</td>\n",
       "      <td>...</td>\n",
       "      <td>-</td>\n",
       "      <td>-</td>\n",
       "      <td>-</td>\n",
       "      <td>-</td>\n",
       "      <td>-</td>\n",
       "      <td>-</td>\n",
       "      <td>-</td>\n",
       "      <td>-</td>\n",
       "      <td>-</td>\n",
       "      <td>-</td>\n",
       "    </tr>\n",
       "    <tr>\n",
       "      <th>PC</th>\n",
       "      <td>-</td>\n",
       "      <td>-</td>\n",
       "      <td>-</td>\n",
       "      <td>-</td>\n",
       "      <td>-</td>\n",
       "      <td>-</td>\n",
       "      <td>-</td>\n",
       "      <td>-</td>\n",
       "      <td>-</td>\n",
       "      <td>-</td>\n",
       "      <td>...</td>\n",
       "      <td>0.0</td>\n",
       "      <td>0.0</td>\n",
       "      <td>0.0</td>\n",
       "      <td>0.0</td>\n",
       "      <td>0.0</td>\n",
       "      <td>0.0</td>\n",
       "      <td>0.0</td>\n",
       "      <td>0.0</td>\n",
       "      <td>0.0</td>\n",
       "      <td>0.0</td>\n",
       "    </tr>\n",
       "    <tr>\n",
       "      <th>PCFX</th>\n",
       "      <td>-</td>\n",
       "      <td>-</td>\n",
       "      <td>-</td>\n",
       "      <td>-</td>\n",
       "      <td>-</td>\n",
       "      <td>-</td>\n",
       "      <td>-</td>\n",
       "      <td>-</td>\n",
       "      <td>-</td>\n",
       "      <td>-</td>\n",
       "      <td>...</td>\n",
       "      <td>-</td>\n",
       "      <td>-</td>\n",
       "      <td>-</td>\n",
       "      <td>-</td>\n",
       "      <td>-</td>\n",
       "      <td>-</td>\n",
       "      <td>-</td>\n",
       "      <td>-</td>\n",
       "      <td>-</td>\n",
       "      <td>-</td>\n",
       "    </tr>\n",
       "    <tr>\n",
       "      <th>PS</th>\n",
       "      <td>-</td>\n",
       "      <td>-</td>\n",
       "      <td>-</td>\n",
       "      <td>-</td>\n",
       "      <td>-</td>\n",
       "      <td>-</td>\n",
       "      <td>-</td>\n",
       "      <td>-</td>\n",
       "      <td>-</td>\n",
       "      <td>-</td>\n",
       "      <td>...</td>\n",
       "      <td>-</td>\n",
       "      <td>-</td>\n",
       "      <td>-</td>\n",
       "      <td>-</td>\n",
       "      <td>-</td>\n",
       "      <td>-</td>\n",
       "      <td>-</td>\n",
       "      <td>-</td>\n",
       "      <td>-</td>\n",
       "      <td>-</td>\n",
       "    </tr>\n",
       "    <tr>\n",
       "      <th>PS2</th>\n",
       "      <td>-</td>\n",
       "      <td>-</td>\n",
       "      <td>-</td>\n",
       "      <td>-</td>\n",
       "      <td>-</td>\n",
       "      <td>-</td>\n",
       "      <td>-</td>\n",
       "      <td>-</td>\n",
       "      <td>-</td>\n",
       "      <td>-</td>\n",
       "      <td>...</td>\n",
       "      <td>0.0</td>\n",
       "      <td>0.0</td>\n",
       "      <td>0.0</td>\n",
       "      <td>0.0</td>\n",
       "      <td>0.0</td>\n",
       "      <td>-</td>\n",
       "      <td>-</td>\n",
       "      <td>-</td>\n",
       "      <td>-</td>\n",
       "      <td>-</td>\n",
       "    </tr>\n",
       "    <tr>\n",
       "      <th>PS3</th>\n",
       "      <td>-</td>\n",
       "      <td>-</td>\n",
       "      <td>-</td>\n",
       "      <td>-</td>\n",
       "      <td>-</td>\n",
       "      <td>-</td>\n",
       "      <td>-</td>\n",
       "      <td>-</td>\n",
       "      <td>-</td>\n",
       "      <td>-</td>\n",
       "      <td>...</td>\n",
       "      <td>0.0</td>\n",
       "      <td>0.0</td>\n",
       "      <td>0.0</td>\n",
       "      <td>0.0</td>\n",
       "      <td>0.0</td>\n",
       "      <td>0.0</td>\n",
       "      <td>0.0</td>\n",
       "      <td>0.0</td>\n",
       "      <td>0.0</td>\n",
       "      <td>0.0</td>\n",
       "    </tr>\n",
       "    <tr>\n",
       "      <th>PS4</th>\n",
       "      <td>-</td>\n",
       "      <td>-</td>\n",
       "      <td>-</td>\n",
       "      <td>-</td>\n",
       "      <td>-</td>\n",
       "      <td>-</td>\n",
       "      <td>-</td>\n",
       "      <td>-</td>\n",
       "      <td>-</td>\n",
       "      <td>-</td>\n",
       "      <td>...</td>\n",
       "      <td>-</td>\n",
       "      <td>-</td>\n",
       "      <td>-</td>\n",
       "      <td>-</td>\n",
       "      <td>-</td>\n",
       "      <td>-</td>\n",
       "      <td>0.0</td>\n",
       "      <td>0.0</td>\n",
       "      <td>0.0</td>\n",
       "      <td>0.0</td>\n",
       "    </tr>\n",
       "    <tr>\n",
       "      <th>PSP</th>\n",
       "      <td>-</td>\n",
       "      <td>-</td>\n",
       "      <td>-</td>\n",
       "      <td>-</td>\n",
       "      <td>-</td>\n",
       "      <td>-</td>\n",
       "      <td>-</td>\n",
       "      <td>-</td>\n",
       "      <td>-</td>\n",
       "      <td>-</td>\n",
       "      <td>...</td>\n",
       "      <td>0.0</td>\n",
       "      <td>0.0</td>\n",
       "      <td>0.0</td>\n",
       "      <td>0.0</td>\n",
       "      <td>0.0</td>\n",
       "      <td>0.0</td>\n",
       "      <td>0.0</td>\n",
       "      <td>0.0</td>\n",
       "      <td>0.0</td>\n",
       "      <td>-</td>\n",
       "    </tr>\n",
       "    <tr>\n",
       "      <th>PSV</th>\n",
       "      <td>-</td>\n",
       "      <td>-</td>\n",
       "      <td>-</td>\n",
       "      <td>-</td>\n",
       "      <td>-</td>\n",
       "      <td>-</td>\n",
       "      <td>-</td>\n",
       "      <td>-</td>\n",
       "      <td>-</td>\n",
       "      <td>-</td>\n",
       "      <td>...</td>\n",
       "      <td>-</td>\n",
       "      <td>-</td>\n",
       "      <td>-</td>\n",
       "      <td>-</td>\n",
       "      <td>0.0</td>\n",
       "      <td>0.0</td>\n",
       "      <td>0.0</td>\n",
       "      <td>0.0</td>\n",
       "      <td>0.0</td>\n",
       "      <td>0.0</td>\n",
       "    </tr>\n",
       "    <tr>\n",
       "      <th>SAT</th>\n",
       "      <td>-</td>\n",
       "      <td>-</td>\n",
       "      <td>-</td>\n",
       "      <td>-</td>\n",
       "      <td>-</td>\n",
       "      <td>-</td>\n",
       "      <td>-</td>\n",
       "      <td>-</td>\n",
       "      <td>-</td>\n",
       "      <td>-</td>\n",
       "      <td>...</td>\n",
       "      <td>-</td>\n",
       "      <td>-</td>\n",
       "      <td>-</td>\n",
       "      <td>-</td>\n",
       "      <td>-</td>\n",
       "      <td>-</td>\n",
       "      <td>-</td>\n",
       "      <td>-</td>\n",
       "      <td>-</td>\n",
       "      <td>-</td>\n",
       "    </tr>\n",
       "    <tr>\n",
       "      <th>SCD</th>\n",
       "      <td>-</td>\n",
       "      <td>-</td>\n",
       "      <td>-</td>\n",
       "      <td>-</td>\n",
       "      <td>-</td>\n",
       "      <td>-</td>\n",
       "      <td>-</td>\n",
       "      <td>-</td>\n",
       "      <td>-</td>\n",
       "      <td>-</td>\n",
       "      <td>...</td>\n",
       "      <td>-</td>\n",
       "      <td>-</td>\n",
       "      <td>-</td>\n",
       "      <td>-</td>\n",
       "      <td>-</td>\n",
       "      <td>-</td>\n",
       "      <td>-</td>\n",
       "      <td>-</td>\n",
       "      <td>-</td>\n",
       "      <td>-</td>\n",
       "    </tr>\n",
       "    <tr>\n",
       "      <th>SNES</th>\n",
       "      <td>-</td>\n",
       "      <td>-</td>\n",
       "      <td>-</td>\n",
       "      <td>-</td>\n",
       "      <td>-</td>\n",
       "      <td>-</td>\n",
       "      <td>-</td>\n",
       "      <td>-</td>\n",
       "      <td>-</td>\n",
       "      <td>-</td>\n",
       "      <td>...</td>\n",
       "      <td>-</td>\n",
       "      <td>-</td>\n",
       "      <td>-</td>\n",
       "      <td>-</td>\n",
       "      <td>-</td>\n",
       "      <td>-</td>\n",
       "      <td>-</td>\n",
       "      <td>-</td>\n",
       "      <td>-</td>\n",
       "      <td>-</td>\n",
       "    </tr>\n",
       "    <tr>\n",
       "      <th>TG16</th>\n",
       "      <td>-</td>\n",
       "      <td>-</td>\n",
       "      <td>-</td>\n",
       "      <td>-</td>\n",
       "      <td>-</td>\n",
       "      <td>-</td>\n",
       "      <td>-</td>\n",
       "      <td>-</td>\n",
       "      <td>-</td>\n",
       "      <td>-</td>\n",
       "      <td>...</td>\n",
       "      <td>-</td>\n",
       "      <td>-</td>\n",
       "      <td>-</td>\n",
       "      <td>-</td>\n",
       "      <td>-</td>\n",
       "      <td>-</td>\n",
       "      <td>-</td>\n",
       "      <td>-</td>\n",
       "      <td>-</td>\n",
       "      <td>-</td>\n",
       "    </tr>\n",
       "    <tr>\n",
       "      <th>WS</th>\n",
       "      <td>-</td>\n",
       "      <td>-</td>\n",
       "      <td>-</td>\n",
       "      <td>-</td>\n",
       "      <td>-</td>\n",
       "      <td>-</td>\n",
       "      <td>-</td>\n",
       "      <td>-</td>\n",
       "      <td>-</td>\n",
       "      <td>-</td>\n",
       "      <td>...</td>\n",
       "      <td>-</td>\n",
       "      <td>-</td>\n",
       "      <td>-</td>\n",
       "      <td>-</td>\n",
       "      <td>-</td>\n",
       "      <td>-</td>\n",
       "      <td>-</td>\n",
       "      <td>-</td>\n",
       "      <td>-</td>\n",
       "      <td>-</td>\n",
       "    </tr>\n",
       "    <tr>\n",
       "      <th>Wii</th>\n",
       "      <td>-</td>\n",
       "      <td>-</td>\n",
       "      <td>-</td>\n",
       "      <td>-</td>\n",
       "      <td>-</td>\n",
       "      <td>-</td>\n",
       "      <td>-</td>\n",
       "      <td>-</td>\n",
       "      <td>-</td>\n",
       "      <td>-</td>\n",
       "      <td>...</td>\n",
       "      <td>0.0</td>\n",
       "      <td>0.0</td>\n",
       "      <td>0.0</td>\n",
       "      <td>0.0</td>\n",
       "      <td>0.0</td>\n",
       "      <td>0.0</td>\n",
       "      <td>0.0</td>\n",
       "      <td>0.0</td>\n",
       "      <td>0.0</td>\n",
       "      <td>-</td>\n",
       "    </tr>\n",
       "    <tr>\n",
       "      <th>WiiU</th>\n",
       "      <td>-</td>\n",
       "      <td>-</td>\n",
       "      <td>-</td>\n",
       "      <td>-</td>\n",
       "      <td>-</td>\n",
       "      <td>-</td>\n",
       "      <td>-</td>\n",
       "      <td>-</td>\n",
       "      <td>-</td>\n",
       "      <td>-</td>\n",
       "      <td>...</td>\n",
       "      <td>-</td>\n",
       "      <td>-</td>\n",
       "      <td>-</td>\n",
       "      <td>-</td>\n",
       "      <td>-</td>\n",
       "      <td>0.0</td>\n",
       "      <td>0.0</td>\n",
       "      <td>0.0</td>\n",
       "      <td>0.0</td>\n",
       "      <td>0.0</td>\n",
       "    </tr>\n",
       "    <tr>\n",
       "      <th>X360</th>\n",
       "      <td>-</td>\n",
       "      <td>-</td>\n",
       "      <td>-</td>\n",
       "      <td>-</td>\n",
       "      <td>-</td>\n",
       "      <td>-</td>\n",
       "      <td>-</td>\n",
       "      <td>-</td>\n",
       "      <td>-</td>\n",
       "      <td>-</td>\n",
       "      <td>...</td>\n",
       "      <td>0.0</td>\n",
       "      <td>0.0</td>\n",
       "      <td>0.0</td>\n",
       "      <td>0.0</td>\n",
       "      <td>0.0</td>\n",
       "      <td>0.0</td>\n",
       "      <td>0.0</td>\n",
       "      <td>0.0</td>\n",
       "      <td>0.0</td>\n",
       "      <td>0.0</td>\n",
       "    </tr>\n",
       "    <tr>\n",
       "      <th>XB</th>\n",
       "      <td>-</td>\n",
       "      <td>-</td>\n",
       "      <td>-</td>\n",
       "      <td>-</td>\n",
       "      <td>-</td>\n",
       "      <td>-</td>\n",
       "      <td>-</td>\n",
       "      <td>-</td>\n",
       "      <td>-</td>\n",
       "      <td>-</td>\n",
       "      <td>...</td>\n",
       "      <td>-</td>\n",
       "      <td>-</td>\n",
       "      <td>-</td>\n",
       "      <td>-</td>\n",
       "      <td>-</td>\n",
       "      <td>-</td>\n",
       "      <td>-</td>\n",
       "      <td>-</td>\n",
       "      <td>-</td>\n",
       "      <td>-</td>\n",
       "    </tr>\n",
       "    <tr>\n",
       "      <th>XOne</th>\n",
       "      <td>-</td>\n",
       "      <td>-</td>\n",
       "      <td>-</td>\n",
       "      <td>-</td>\n",
       "      <td>-</td>\n",
       "      <td>-</td>\n",
       "      <td>-</td>\n",
       "      <td>-</td>\n",
       "      <td>-</td>\n",
       "      <td>-</td>\n",
       "      <td>...</td>\n",
       "      <td>-</td>\n",
       "      <td>-</td>\n",
       "      <td>-</td>\n",
       "      <td>-</td>\n",
       "      <td>-</td>\n",
       "      <td>-</td>\n",
       "      <td>0.0</td>\n",
       "      <td>0.0</td>\n",
       "      <td>0.0</td>\n",
       "      <td>0.0</td>\n",
       "    </tr>\n",
       "  </tbody>\n",
       "</table>\n",
       "<p>31 rows × 37 columns</p>\n",
       "</div>"
      ],
      "text/plain": [
       "year_of_release 1980.0 1981.0 1982.0 1983.0 1984.0 1985.0 1986.0 1987.0  \\\n",
       "platform                                                                  \n",
       "2600               0.0    0.0    0.0    0.0    0.0    0.0    0.0    0.0   \n",
       "3DO                  -      -      -      -      -      -      -      -   \n",
       "3DS                  -      -      -      -      -      -      -      -   \n",
       "DC                   -      -      -      -      -      -      -      -   \n",
       "DS                   -      -      -      -      -    0.0      -      -   \n",
       "GB                   -      -      -      -      -      -      -      -   \n",
       "GBA                  -      -      -      -      -      -      -      -   \n",
       "GC                   -      -      -      -      -      -      -      -   \n",
       "GEN                  -      -      -      -      -      -      -      -   \n",
       "GG                   -      -      -      -      -      -      -      -   \n",
       "N64                  -      -      -      -      -      -      -      -   \n",
       "NES                  -      -      -    0.0    0.0    0.0    0.0    0.0   \n",
       "NG                   -      -      -      -      -      -      -      -   \n",
       "PC                   -      -      -      -      -      -      -      -   \n",
       "PCFX                 -      -      -      -      -      -      -      -   \n",
       "PS                   -      -      -      -      -      -      -      -   \n",
       "PS2                  -      -      -      -      -      -      -      -   \n",
       "PS3                  -      -      -      -      -      -      -      -   \n",
       "PS4                  -      -      -      -      -      -      -      -   \n",
       "PSP                  -      -      -      -      -      -      -      -   \n",
       "PSV                  -      -      -      -      -      -      -      -   \n",
       "SAT                  -      -      -      -      -      -      -      -   \n",
       "SCD                  -      -      -      -      -      -      -      -   \n",
       "SNES                 -      -      -      -      -      -      -      -   \n",
       "TG16                 -      -      -      -      -      -      -      -   \n",
       "WS                   -      -      -      -      -      -      -      -   \n",
       "Wii                  -      -      -      -      -      -      -      -   \n",
       "WiiU                 -      -      -      -      -      -      -      -   \n",
       "X360                 -      -      -      -      -      -      -      -   \n",
       "XB                   -      -      -      -      -      -      -      -   \n",
       "XOne                 -      -      -      -      -      -      -      -   \n",
       "\n",
       "year_of_release 1988.0 1989.0  ... 2007.0 2008.0 2009.0 2010.0 2011.0 2012.0  \\\n",
       "platform                       ...                                             \n",
       "2600               0.0    0.0  ...      -      -      -      -      -      -   \n",
       "3DO                  -      -  ...      -      -      -      -      -      -   \n",
       "3DS                  -      -  ...      -      -      -      -    0.0    0.0   \n",
       "DC                   -      -  ...    0.0    0.0      -      -      -      -   \n",
       "DS                   -      -  ...    0.0    0.0    0.0    0.0    0.0    0.0   \n",
       "GB                 0.0    0.0  ...      -      -      -      -      -      -   \n",
       "GBA                  -      -  ...    0.0      -      -      -      -      -   \n",
       "GC                   -      -  ...      -      -      -      -      -      -   \n",
       "GEN                  -      -  ...      -      -      -      -      -      -   \n",
       "GG                   -      -  ...      -      -      -      -      -      -   \n",
       "N64                  -      -  ...      -      -      -      -      -      -   \n",
       "NES                0.0    0.0  ...      -      -      -      -      -      -   \n",
       "NG                   -      -  ...      -      -      -      -      -      -   \n",
       "PC                   -      -  ...    0.0    0.0    0.0    0.0    0.0    0.0   \n",
       "PCFX                 -      -  ...      -      -      -      -      -      -   \n",
       "PS                   -      -  ...      -      -      -      -      -      -   \n",
       "PS2                  -      -  ...    0.0    0.0    0.0    0.0    0.0      -   \n",
       "PS3                  -      -  ...    0.0    0.0    0.0    0.0    0.0    0.0   \n",
       "PS4                  -      -  ...      -      -      -      -      -      -   \n",
       "PSP                  -      -  ...    0.0    0.0    0.0    0.0    0.0    0.0   \n",
       "PSV                  -      -  ...      -      -      -      -    0.0    0.0   \n",
       "SAT                  -      -  ...      -      -      -      -      -      -   \n",
       "SCD                  -      -  ...      -      -      -      -      -      -   \n",
       "SNES                 -      -  ...      -      -      -      -      -      -   \n",
       "TG16                 -      -  ...      -      -      -      -      -      -   \n",
       "WS                   -      -  ...      -      -      -      -      -      -   \n",
       "Wii                  -      -  ...    0.0    0.0    0.0    0.0    0.0    0.0   \n",
       "WiiU                 -      -  ...      -      -      -      -      -    0.0   \n",
       "X360                 -      -  ...    0.0    0.0    0.0    0.0    0.0    0.0   \n",
       "XB                   -      -  ...      -      -      -      -      -      -   \n",
       "XOne                 -      -  ...      -      -      -      -      -      -   \n",
       "\n",
       "year_of_release 2013.0 2014.0 2015.0 2016.0  \n",
       "platform                                     \n",
       "2600                 -      -      -      -  \n",
       "3DO                  -      -      -      -  \n",
       "3DS                0.0    0.0    0.0    0.0  \n",
       "DC                   -      -      -      -  \n",
       "DS                 0.0      -      -      -  \n",
       "GB                   -      -      -      -  \n",
       "GBA                  -      -      -      -  \n",
       "GC                   -      -      -      -  \n",
       "GEN                  -      -      -      -  \n",
       "GG                   -      -      -      -  \n",
       "N64                  -      -      -      -  \n",
       "NES                  -      -      -      -  \n",
       "NG                   -      -      -      -  \n",
       "PC                 0.0    0.0    0.0    0.0  \n",
       "PCFX                 -      -      -      -  \n",
       "PS                   -      -      -      -  \n",
       "PS2                  -      -      -      -  \n",
       "PS3                0.0    0.0    0.0    0.0  \n",
       "PS4                0.0    0.0    0.0    0.0  \n",
       "PSP                0.0    0.0    0.0      -  \n",
       "PSV                0.0    0.0    0.0    0.0  \n",
       "SAT                  -      -      -      -  \n",
       "SCD                  -      -      -      -  \n",
       "SNES                 -      -      -      -  \n",
       "TG16                 -      -      -      -  \n",
       "WS                   -      -      -      -  \n",
       "Wii                0.0    0.0    0.0      -  \n",
       "WiiU               0.0    0.0    0.0    0.0  \n",
       "X360               0.0    0.0    0.0    0.0  \n",
       "XB                   -      -      -      -  \n",
       "XOne               0.0    0.0    0.0    0.0  \n",
       "\n",
       "[31 rows x 37 columns]"
      ]
     },
     "execution_count": 34,
     "metadata": {},
     "output_type": "execute_result"
    }
   ],
   "source": [
    "# Let's try to determine the reason for such a large number of missing values.\n",
    "# Let's try to see the summary table by year and by platform:\n",
    "# First, let's look at the amount of pattern in missing values in the critics' ratings data:\n",
    "score_isna_critic_pivot = score_isna.pivot_table(index = 'platform', columns = 'year_of_release', \n",
    "                                                 values = 'critic_score', aggfunc = 'count', fill_value='-')\n",
    "score_isna_critic_pivot"
   ]
  },
  {
   "cell_type": "code",
   "execution_count": 35,
   "id": "c20061e3",
   "metadata": {},
   "outputs": [
    {
     "data": {
      "text/html": [
       "<div>\n",
       "<style scoped>\n",
       "    .dataframe tbody tr th:only-of-type {\n",
       "        vertical-align: middle;\n",
       "    }\n",
       "\n",
       "    .dataframe tbody tr th {\n",
       "        vertical-align: top;\n",
       "    }\n",
       "\n",
       "    .dataframe thead th {\n",
       "        text-align: right;\n",
       "    }\n",
       "</style>\n",
       "<table border=\"1\" class=\"dataframe\">\n",
       "  <thead>\n",
       "    <tr style=\"text-align: right;\">\n",
       "      <th>year_of_release</th>\n",
       "      <th>1980.0</th>\n",
       "      <th>1981.0</th>\n",
       "      <th>1982.0</th>\n",
       "      <th>1983.0</th>\n",
       "      <th>1984.0</th>\n",
       "      <th>1985.0</th>\n",
       "      <th>1986.0</th>\n",
       "      <th>1987.0</th>\n",
       "      <th>1988.0</th>\n",
       "      <th>1989.0</th>\n",
       "      <th>...</th>\n",
       "      <th>2007.0</th>\n",
       "      <th>2008.0</th>\n",
       "      <th>2009.0</th>\n",
       "      <th>2010.0</th>\n",
       "      <th>2011.0</th>\n",
       "      <th>2012.0</th>\n",
       "      <th>2013.0</th>\n",
       "      <th>2014.0</th>\n",
       "      <th>2015.0</th>\n",
       "      <th>2016.0</th>\n",
       "    </tr>\n",
       "    <tr>\n",
       "      <th>platform</th>\n",
       "      <th></th>\n",
       "      <th></th>\n",
       "      <th></th>\n",
       "      <th></th>\n",
       "      <th></th>\n",
       "      <th></th>\n",
       "      <th></th>\n",
       "      <th></th>\n",
       "      <th></th>\n",
       "      <th></th>\n",
       "      <th></th>\n",
       "      <th></th>\n",
       "      <th></th>\n",
       "      <th></th>\n",
       "      <th></th>\n",
       "      <th></th>\n",
       "      <th></th>\n",
       "      <th></th>\n",
       "      <th></th>\n",
       "      <th></th>\n",
       "      <th></th>\n",
       "    </tr>\n",
       "  </thead>\n",
       "  <tbody>\n",
       "    <tr>\n",
       "      <th>2600</th>\n",
       "      <td>0.0</td>\n",
       "      <td>0.0</td>\n",
       "      <td>0.0</td>\n",
       "      <td>0.0</td>\n",
       "      <td>0.0</td>\n",
       "      <td>0.0</td>\n",
       "      <td>0.0</td>\n",
       "      <td>0.0</td>\n",
       "      <td>0.0</td>\n",
       "      <td>0.0</td>\n",
       "      <td>...</td>\n",
       "      <td>-</td>\n",
       "      <td>-</td>\n",
       "      <td>-</td>\n",
       "      <td>-</td>\n",
       "      <td>-</td>\n",
       "      <td>-</td>\n",
       "      <td>-</td>\n",
       "      <td>-</td>\n",
       "      <td>-</td>\n",
       "      <td>-</td>\n",
       "    </tr>\n",
       "    <tr>\n",
       "      <th>3DO</th>\n",
       "      <td>-</td>\n",
       "      <td>-</td>\n",
       "      <td>-</td>\n",
       "      <td>-</td>\n",
       "      <td>-</td>\n",
       "      <td>-</td>\n",
       "      <td>-</td>\n",
       "      <td>-</td>\n",
       "      <td>-</td>\n",
       "      <td>-</td>\n",
       "      <td>...</td>\n",
       "      <td>-</td>\n",
       "      <td>-</td>\n",
       "      <td>-</td>\n",
       "      <td>-</td>\n",
       "      <td>-</td>\n",
       "      <td>-</td>\n",
       "      <td>-</td>\n",
       "      <td>-</td>\n",
       "      <td>-</td>\n",
       "      <td>-</td>\n",
       "    </tr>\n",
       "    <tr>\n",
       "      <th>3DS</th>\n",
       "      <td>-</td>\n",
       "      <td>-</td>\n",
       "      <td>-</td>\n",
       "      <td>-</td>\n",
       "      <td>-</td>\n",
       "      <td>-</td>\n",
       "      <td>-</td>\n",
       "      <td>-</td>\n",
       "      <td>-</td>\n",
       "      <td>-</td>\n",
       "      <td>...</td>\n",
       "      <td>-</td>\n",
       "      <td>-</td>\n",
       "      <td>-</td>\n",
       "      <td>-</td>\n",
       "      <td>0.0</td>\n",
       "      <td>0.0</td>\n",
       "      <td>0.0</td>\n",
       "      <td>0.0</td>\n",
       "      <td>0.0</td>\n",
       "      <td>0.0</td>\n",
       "    </tr>\n",
       "    <tr>\n",
       "      <th>DC</th>\n",
       "      <td>-</td>\n",
       "      <td>-</td>\n",
       "      <td>-</td>\n",
       "      <td>-</td>\n",
       "      <td>-</td>\n",
       "      <td>-</td>\n",
       "      <td>-</td>\n",
       "      <td>-</td>\n",
       "      <td>-</td>\n",
       "      <td>-</td>\n",
       "      <td>...</td>\n",
       "      <td>0.0</td>\n",
       "      <td>0.0</td>\n",
       "      <td>-</td>\n",
       "      <td>-</td>\n",
       "      <td>-</td>\n",
       "      <td>-</td>\n",
       "      <td>-</td>\n",
       "      <td>-</td>\n",
       "      <td>-</td>\n",
       "      <td>-</td>\n",
       "    </tr>\n",
       "    <tr>\n",
       "      <th>DS</th>\n",
       "      <td>-</td>\n",
       "      <td>-</td>\n",
       "      <td>-</td>\n",
       "      <td>-</td>\n",
       "      <td>-</td>\n",
       "      <td>0.0</td>\n",
       "      <td>-</td>\n",
       "      <td>-</td>\n",
       "      <td>-</td>\n",
       "      <td>-</td>\n",
       "      <td>...</td>\n",
       "      <td>0.0</td>\n",
       "      <td>0.0</td>\n",
       "      <td>0.0</td>\n",
       "      <td>0.0</td>\n",
       "      <td>0.0</td>\n",
       "      <td>0.0</td>\n",
       "      <td>0.0</td>\n",
       "      <td>-</td>\n",
       "      <td>-</td>\n",
       "      <td>-</td>\n",
       "    </tr>\n",
       "    <tr>\n",
       "      <th>GB</th>\n",
       "      <td>-</td>\n",
       "      <td>-</td>\n",
       "      <td>-</td>\n",
       "      <td>-</td>\n",
       "      <td>-</td>\n",
       "      <td>-</td>\n",
       "      <td>-</td>\n",
       "      <td>-</td>\n",
       "      <td>0.0</td>\n",
       "      <td>0.0</td>\n",
       "      <td>...</td>\n",
       "      <td>-</td>\n",
       "      <td>-</td>\n",
       "      <td>-</td>\n",
       "      <td>-</td>\n",
       "      <td>-</td>\n",
       "      <td>-</td>\n",
       "      <td>-</td>\n",
       "      <td>-</td>\n",
       "      <td>-</td>\n",
       "      <td>-</td>\n",
       "    </tr>\n",
       "    <tr>\n",
       "      <th>GBA</th>\n",
       "      <td>-</td>\n",
       "      <td>-</td>\n",
       "      <td>-</td>\n",
       "      <td>-</td>\n",
       "      <td>-</td>\n",
       "      <td>-</td>\n",
       "      <td>-</td>\n",
       "      <td>-</td>\n",
       "      <td>-</td>\n",
       "      <td>-</td>\n",
       "      <td>...</td>\n",
       "      <td>0.0</td>\n",
       "      <td>-</td>\n",
       "      <td>-</td>\n",
       "      <td>-</td>\n",
       "      <td>-</td>\n",
       "      <td>-</td>\n",
       "      <td>-</td>\n",
       "      <td>-</td>\n",
       "      <td>-</td>\n",
       "      <td>-</td>\n",
       "    </tr>\n",
       "    <tr>\n",
       "      <th>GC</th>\n",
       "      <td>-</td>\n",
       "      <td>-</td>\n",
       "      <td>-</td>\n",
       "      <td>-</td>\n",
       "      <td>-</td>\n",
       "      <td>-</td>\n",
       "      <td>-</td>\n",
       "      <td>-</td>\n",
       "      <td>-</td>\n",
       "      <td>-</td>\n",
       "      <td>...</td>\n",
       "      <td>-</td>\n",
       "      <td>-</td>\n",
       "      <td>-</td>\n",
       "      <td>-</td>\n",
       "      <td>-</td>\n",
       "      <td>-</td>\n",
       "      <td>-</td>\n",
       "      <td>-</td>\n",
       "      <td>-</td>\n",
       "      <td>-</td>\n",
       "    </tr>\n",
       "    <tr>\n",
       "      <th>GEN</th>\n",
       "      <td>-</td>\n",
       "      <td>-</td>\n",
       "      <td>-</td>\n",
       "      <td>-</td>\n",
       "      <td>-</td>\n",
       "      <td>-</td>\n",
       "      <td>-</td>\n",
       "      <td>-</td>\n",
       "      <td>-</td>\n",
       "      <td>-</td>\n",
       "      <td>...</td>\n",
       "      <td>-</td>\n",
       "      <td>-</td>\n",
       "      <td>-</td>\n",
       "      <td>-</td>\n",
       "      <td>-</td>\n",
       "      <td>-</td>\n",
       "      <td>-</td>\n",
       "      <td>-</td>\n",
       "      <td>-</td>\n",
       "      <td>-</td>\n",
       "    </tr>\n",
       "    <tr>\n",
       "      <th>GG</th>\n",
       "      <td>-</td>\n",
       "      <td>-</td>\n",
       "      <td>-</td>\n",
       "      <td>-</td>\n",
       "      <td>-</td>\n",
       "      <td>-</td>\n",
       "      <td>-</td>\n",
       "      <td>-</td>\n",
       "      <td>-</td>\n",
       "      <td>-</td>\n",
       "      <td>...</td>\n",
       "      <td>-</td>\n",
       "      <td>-</td>\n",
       "      <td>-</td>\n",
       "      <td>-</td>\n",
       "      <td>-</td>\n",
       "      <td>-</td>\n",
       "      <td>-</td>\n",
       "      <td>-</td>\n",
       "      <td>-</td>\n",
       "      <td>-</td>\n",
       "    </tr>\n",
       "    <tr>\n",
       "      <th>N64</th>\n",
       "      <td>-</td>\n",
       "      <td>-</td>\n",
       "      <td>-</td>\n",
       "      <td>-</td>\n",
       "      <td>-</td>\n",
       "      <td>-</td>\n",
       "      <td>-</td>\n",
       "      <td>-</td>\n",
       "      <td>-</td>\n",
       "      <td>-</td>\n",
       "      <td>...</td>\n",
       "      <td>-</td>\n",
       "      <td>-</td>\n",
       "      <td>-</td>\n",
       "      <td>-</td>\n",
       "      <td>-</td>\n",
       "      <td>-</td>\n",
       "      <td>-</td>\n",
       "      <td>-</td>\n",
       "      <td>-</td>\n",
       "      <td>-</td>\n",
       "    </tr>\n",
       "    <tr>\n",
       "      <th>NES</th>\n",
       "      <td>-</td>\n",
       "      <td>-</td>\n",
       "      <td>-</td>\n",
       "      <td>0.0</td>\n",
       "      <td>0.0</td>\n",
       "      <td>0.0</td>\n",
       "      <td>0.0</td>\n",
       "      <td>0.0</td>\n",
       "      <td>0.0</td>\n",
       "      <td>0.0</td>\n",
       "      <td>...</td>\n",
       "      <td>-</td>\n",
       "      <td>-</td>\n",
       "      <td>-</td>\n",
       "      <td>-</td>\n",
       "      <td>-</td>\n",
       "      <td>-</td>\n",
       "      <td>-</td>\n",
       "      <td>-</td>\n",
       "      <td>-</td>\n",
       "      <td>-</td>\n",
       "    </tr>\n",
       "    <tr>\n",
       "      <th>NG</th>\n",
       "      <td>-</td>\n",
       "      <td>-</td>\n",
       "      <td>-</td>\n",
       "      <td>-</td>\n",
       "      <td>-</td>\n",
       "      <td>-</td>\n",
       "      <td>-</td>\n",
       "      <td>-</td>\n",
       "      <td>-</td>\n",
       "      <td>-</td>\n",
       "      <td>...</td>\n",
       "      <td>-</td>\n",
       "      <td>-</td>\n",
       "      <td>-</td>\n",
       "      <td>-</td>\n",
       "      <td>-</td>\n",
       "      <td>-</td>\n",
       "      <td>-</td>\n",
       "      <td>-</td>\n",
       "      <td>-</td>\n",
       "      <td>-</td>\n",
       "    </tr>\n",
       "    <tr>\n",
       "      <th>PC</th>\n",
       "      <td>-</td>\n",
       "      <td>-</td>\n",
       "      <td>-</td>\n",
       "      <td>-</td>\n",
       "      <td>-</td>\n",
       "      <td>-</td>\n",
       "      <td>-</td>\n",
       "      <td>-</td>\n",
       "      <td>-</td>\n",
       "      <td>-</td>\n",
       "      <td>...</td>\n",
       "      <td>0.0</td>\n",
       "      <td>0.0</td>\n",
       "      <td>0.0</td>\n",
       "      <td>0.0</td>\n",
       "      <td>0.0</td>\n",
       "      <td>0.0</td>\n",
       "      <td>0.0</td>\n",
       "      <td>0.0</td>\n",
       "      <td>0.0</td>\n",
       "      <td>0.0</td>\n",
       "    </tr>\n",
       "    <tr>\n",
       "      <th>PCFX</th>\n",
       "      <td>-</td>\n",
       "      <td>-</td>\n",
       "      <td>-</td>\n",
       "      <td>-</td>\n",
       "      <td>-</td>\n",
       "      <td>-</td>\n",
       "      <td>-</td>\n",
       "      <td>-</td>\n",
       "      <td>-</td>\n",
       "      <td>-</td>\n",
       "      <td>...</td>\n",
       "      <td>-</td>\n",
       "      <td>-</td>\n",
       "      <td>-</td>\n",
       "      <td>-</td>\n",
       "      <td>-</td>\n",
       "      <td>-</td>\n",
       "      <td>-</td>\n",
       "      <td>-</td>\n",
       "      <td>-</td>\n",
       "      <td>-</td>\n",
       "    </tr>\n",
       "    <tr>\n",
       "      <th>PS</th>\n",
       "      <td>-</td>\n",
       "      <td>-</td>\n",
       "      <td>-</td>\n",
       "      <td>-</td>\n",
       "      <td>-</td>\n",
       "      <td>-</td>\n",
       "      <td>-</td>\n",
       "      <td>-</td>\n",
       "      <td>-</td>\n",
       "      <td>-</td>\n",
       "      <td>...</td>\n",
       "      <td>-</td>\n",
       "      <td>-</td>\n",
       "      <td>-</td>\n",
       "      <td>-</td>\n",
       "      <td>-</td>\n",
       "      <td>-</td>\n",
       "      <td>-</td>\n",
       "      <td>-</td>\n",
       "      <td>-</td>\n",
       "      <td>-</td>\n",
       "    </tr>\n",
       "    <tr>\n",
       "      <th>PS2</th>\n",
       "      <td>-</td>\n",
       "      <td>-</td>\n",
       "      <td>-</td>\n",
       "      <td>-</td>\n",
       "      <td>-</td>\n",
       "      <td>-</td>\n",
       "      <td>-</td>\n",
       "      <td>-</td>\n",
       "      <td>-</td>\n",
       "      <td>-</td>\n",
       "      <td>...</td>\n",
       "      <td>0.0</td>\n",
       "      <td>0.0</td>\n",
       "      <td>0.0</td>\n",
       "      <td>0.0</td>\n",
       "      <td>0.0</td>\n",
       "      <td>-</td>\n",
       "      <td>-</td>\n",
       "      <td>-</td>\n",
       "      <td>-</td>\n",
       "      <td>-</td>\n",
       "    </tr>\n",
       "    <tr>\n",
       "      <th>PS3</th>\n",
       "      <td>-</td>\n",
       "      <td>-</td>\n",
       "      <td>-</td>\n",
       "      <td>-</td>\n",
       "      <td>-</td>\n",
       "      <td>-</td>\n",
       "      <td>-</td>\n",
       "      <td>-</td>\n",
       "      <td>-</td>\n",
       "      <td>-</td>\n",
       "      <td>...</td>\n",
       "      <td>0.0</td>\n",
       "      <td>0.0</td>\n",
       "      <td>0.0</td>\n",
       "      <td>0.0</td>\n",
       "      <td>0.0</td>\n",
       "      <td>0.0</td>\n",
       "      <td>0.0</td>\n",
       "      <td>0.0</td>\n",
       "      <td>0.0</td>\n",
       "      <td>0.0</td>\n",
       "    </tr>\n",
       "    <tr>\n",
       "      <th>PS4</th>\n",
       "      <td>-</td>\n",
       "      <td>-</td>\n",
       "      <td>-</td>\n",
       "      <td>-</td>\n",
       "      <td>-</td>\n",
       "      <td>-</td>\n",
       "      <td>-</td>\n",
       "      <td>-</td>\n",
       "      <td>-</td>\n",
       "      <td>-</td>\n",
       "      <td>...</td>\n",
       "      <td>-</td>\n",
       "      <td>-</td>\n",
       "      <td>-</td>\n",
       "      <td>-</td>\n",
       "      <td>-</td>\n",
       "      <td>-</td>\n",
       "      <td>0.0</td>\n",
       "      <td>0.0</td>\n",
       "      <td>0.0</td>\n",
       "      <td>0.0</td>\n",
       "    </tr>\n",
       "    <tr>\n",
       "      <th>PSP</th>\n",
       "      <td>-</td>\n",
       "      <td>-</td>\n",
       "      <td>-</td>\n",
       "      <td>-</td>\n",
       "      <td>-</td>\n",
       "      <td>-</td>\n",
       "      <td>-</td>\n",
       "      <td>-</td>\n",
       "      <td>-</td>\n",
       "      <td>-</td>\n",
       "      <td>...</td>\n",
       "      <td>0.0</td>\n",
       "      <td>0.0</td>\n",
       "      <td>0.0</td>\n",
       "      <td>0.0</td>\n",
       "      <td>0.0</td>\n",
       "      <td>0.0</td>\n",
       "      <td>0.0</td>\n",
       "      <td>0.0</td>\n",
       "      <td>0.0</td>\n",
       "      <td>-</td>\n",
       "    </tr>\n",
       "    <tr>\n",
       "      <th>PSV</th>\n",
       "      <td>-</td>\n",
       "      <td>-</td>\n",
       "      <td>-</td>\n",
       "      <td>-</td>\n",
       "      <td>-</td>\n",
       "      <td>-</td>\n",
       "      <td>-</td>\n",
       "      <td>-</td>\n",
       "      <td>-</td>\n",
       "      <td>-</td>\n",
       "      <td>...</td>\n",
       "      <td>-</td>\n",
       "      <td>-</td>\n",
       "      <td>-</td>\n",
       "      <td>-</td>\n",
       "      <td>0.0</td>\n",
       "      <td>0.0</td>\n",
       "      <td>0.0</td>\n",
       "      <td>0.0</td>\n",
       "      <td>0.0</td>\n",
       "      <td>0.0</td>\n",
       "    </tr>\n",
       "    <tr>\n",
       "      <th>SAT</th>\n",
       "      <td>-</td>\n",
       "      <td>-</td>\n",
       "      <td>-</td>\n",
       "      <td>-</td>\n",
       "      <td>-</td>\n",
       "      <td>-</td>\n",
       "      <td>-</td>\n",
       "      <td>-</td>\n",
       "      <td>-</td>\n",
       "      <td>-</td>\n",
       "      <td>...</td>\n",
       "      <td>-</td>\n",
       "      <td>-</td>\n",
       "      <td>-</td>\n",
       "      <td>-</td>\n",
       "      <td>-</td>\n",
       "      <td>-</td>\n",
       "      <td>-</td>\n",
       "      <td>-</td>\n",
       "      <td>-</td>\n",
       "      <td>-</td>\n",
       "    </tr>\n",
       "    <tr>\n",
       "      <th>SCD</th>\n",
       "      <td>-</td>\n",
       "      <td>-</td>\n",
       "      <td>-</td>\n",
       "      <td>-</td>\n",
       "      <td>-</td>\n",
       "      <td>-</td>\n",
       "      <td>-</td>\n",
       "      <td>-</td>\n",
       "      <td>-</td>\n",
       "      <td>-</td>\n",
       "      <td>...</td>\n",
       "      <td>-</td>\n",
       "      <td>-</td>\n",
       "      <td>-</td>\n",
       "      <td>-</td>\n",
       "      <td>-</td>\n",
       "      <td>-</td>\n",
       "      <td>-</td>\n",
       "      <td>-</td>\n",
       "      <td>-</td>\n",
       "      <td>-</td>\n",
       "    </tr>\n",
       "    <tr>\n",
       "      <th>SNES</th>\n",
       "      <td>-</td>\n",
       "      <td>-</td>\n",
       "      <td>-</td>\n",
       "      <td>-</td>\n",
       "      <td>-</td>\n",
       "      <td>-</td>\n",
       "      <td>-</td>\n",
       "      <td>-</td>\n",
       "      <td>-</td>\n",
       "      <td>-</td>\n",
       "      <td>...</td>\n",
       "      <td>-</td>\n",
       "      <td>-</td>\n",
       "      <td>-</td>\n",
       "      <td>-</td>\n",
       "      <td>-</td>\n",
       "      <td>-</td>\n",
       "      <td>-</td>\n",
       "      <td>-</td>\n",
       "      <td>-</td>\n",
       "      <td>-</td>\n",
       "    </tr>\n",
       "    <tr>\n",
       "      <th>TG16</th>\n",
       "      <td>-</td>\n",
       "      <td>-</td>\n",
       "      <td>-</td>\n",
       "      <td>-</td>\n",
       "      <td>-</td>\n",
       "      <td>-</td>\n",
       "      <td>-</td>\n",
       "      <td>-</td>\n",
       "      <td>-</td>\n",
       "      <td>-</td>\n",
       "      <td>...</td>\n",
       "      <td>-</td>\n",
       "      <td>-</td>\n",
       "      <td>-</td>\n",
       "      <td>-</td>\n",
       "      <td>-</td>\n",
       "      <td>-</td>\n",
       "      <td>-</td>\n",
       "      <td>-</td>\n",
       "      <td>-</td>\n",
       "      <td>-</td>\n",
       "    </tr>\n",
       "    <tr>\n",
       "      <th>WS</th>\n",
       "      <td>-</td>\n",
       "      <td>-</td>\n",
       "      <td>-</td>\n",
       "      <td>-</td>\n",
       "      <td>-</td>\n",
       "      <td>-</td>\n",
       "      <td>-</td>\n",
       "      <td>-</td>\n",
       "      <td>-</td>\n",
       "      <td>-</td>\n",
       "      <td>...</td>\n",
       "      <td>-</td>\n",
       "      <td>-</td>\n",
       "      <td>-</td>\n",
       "      <td>-</td>\n",
       "      <td>-</td>\n",
       "      <td>-</td>\n",
       "      <td>-</td>\n",
       "      <td>-</td>\n",
       "      <td>-</td>\n",
       "      <td>-</td>\n",
       "    </tr>\n",
       "    <tr>\n",
       "      <th>Wii</th>\n",
       "      <td>-</td>\n",
       "      <td>-</td>\n",
       "      <td>-</td>\n",
       "      <td>-</td>\n",
       "      <td>-</td>\n",
       "      <td>-</td>\n",
       "      <td>-</td>\n",
       "      <td>-</td>\n",
       "      <td>-</td>\n",
       "      <td>-</td>\n",
       "      <td>...</td>\n",
       "      <td>0.0</td>\n",
       "      <td>0.0</td>\n",
       "      <td>0.0</td>\n",
       "      <td>0.0</td>\n",
       "      <td>0.0</td>\n",
       "      <td>0.0</td>\n",
       "      <td>0.0</td>\n",
       "      <td>0.0</td>\n",
       "      <td>0.0</td>\n",
       "      <td>-</td>\n",
       "    </tr>\n",
       "    <tr>\n",
       "      <th>WiiU</th>\n",
       "      <td>-</td>\n",
       "      <td>-</td>\n",
       "      <td>-</td>\n",
       "      <td>-</td>\n",
       "      <td>-</td>\n",
       "      <td>-</td>\n",
       "      <td>-</td>\n",
       "      <td>-</td>\n",
       "      <td>-</td>\n",
       "      <td>-</td>\n",
       "      <td>...</td>\n",
       "      <td>-</td>\n",
       "      <td>-</td>\n",
       "      <td>-</td>\n",
       "      <td>-</td>\n",
       "      <td>-</td>\n",
       "      <td>0.0</td>\n",
       "      <td>0.0</td>\n",
       "      <td>0.0</td>\n",
       "      <td>0.0</td>\n",
       "      <td>0.0</td>\n",
       "    </tr>\n",
       "    <tr>\n",
       "      <th>X360</th>\n",
       "      <td>-</td>\n",
       "      <td>-</td>\n",
       "      <td>-</td>\n",
       "      <td>-</td>\n",
       "      <td>-</td>\n",
       "      <td>-</td>\n",
       "      <td>-</td>\n",
       "      <td>-</td>\n",
       "      <td>-</td>\n",
       "      <td>-</td>\n",
       "      <td>...</td>\n",
       "      <td>0.0</td>\n",
       "      <td>0.0</td>\n",
       "      <td>0.0</td>\n",
       "      <td>0.0</td>\n",
       "      <td>0.0</td>\n",
       "      <td>0.0</td>\n",
       "      <td>0.0</td>\n",
       "      <td>0.0</td>\n",
       "      <td>0.0</td>\n",
       "      <td>0.0</td>\n",
       "    </tr>\n",
       "    <tr>\n",
       "      <th>XB</th>\n",
       "      <td>-</td>\n",
       "      <td>-</td>\n",
       "      <td>-</td>\n",
       "      <td>-</td>\n",
       "      <td>-</td>\n",
       "      <td>-</td>\n",
       "      <td>-</td>\n",
       "      <td>-</td>\n",
       "      <td>-</td>\n",
       "      <td>-</td>\n",
       "      <td>...</td>\n",
       "      <td>-</td>\n",
       "      <td>-</td>\n",
       "      <td>-</td>\n",
       "      <td>-</td>\n",
       "      <td>-</td>\n",
       "      <td>-</td>\n",
       "      <td>-</td>\n",
       "      <td>-</td>\n",
       "      <td>-</td>\n",
       "      <td>-</td>\n",
       "    </tr>\n",
       "    <tr>\n",
       "      <th>XOne</th>\n",
       "      <td>-</td>\n",
       "      <td>-</td>\n",
       "      <td>-</td>\n",
       "      <td>-</td>\n",
       "      <td>-</td>\n",
       "      <td>-</td>\n",
       "      <td>-</td>\n",
       "      <td>-</td>\n",
       "      <td>-</td>\n",
       "      <td>-</td>\n",
       "      <td>...</td>\n",
       "      <td>-</td>\n",
       "      <td>-</td>\n",
       "      <td>-</td>\n",
       "      <td>-</td>\n",
       "      <td>-</td>\n",
       "      <td>-</td>\n",
       "      <td>0.0</td>\n",
       "      <td>0.0</td>\n",
       "      <td>0.0</td>\n",
       "      <td>0.0</td>\n",
       "    </tr>\n",
       "  </tbody>\n",
       "</table>\n",
       "<p>31 rows × 37 columns</p>\n",
       "</div>"
      ],
      "text/plain": [
       "year_of_release 1980.0 1981.0 1982.0 1983.0 1984.0 1985.0 1986.0 1987.0  \\\n",
       "platform                                                                  \n",
       "2600               0.0    0.0    0.0    0.0    0.0    0.0    0.0    0.0   \n",
       "3DO                  -      -      -      -      -      -      -      -   \n",
       "3DS                  -      -      -      -      -      -      -      -   \n",
       "DC                   -      -      -      -      -      -      -      -   \n",
       "DS                   -      -      -      -      -    0.0      -      -   \n",
       "GB                   -      -      -      -      -      -      -      -   \n",
       "GBA                  -      -      -      -      -      -      -      -   \n",
       "GC                   -      -      -      -      -      -      -      -   \n",
       "GEN                  -      -      -      -      -      -      -      -   \n",
       "GG                   -      -      -      -      -      -      -      -   \n",
       "N64                  -      -      -      -      -      -      -      -   \n",
       "NES                  -      -      -    0.0    0.0    0.0    0.0    0.0   \n",
       "NG                   -      -      -      -      -      -      -      -   \n",
       "PC                   -      -      -      -      -      -      -      -   \n",
       "PCFX                 -      -      -      -      -      -      -      -   \n",
       "PS                   -      -      -      -      -      -      -      -   \n",
       "PS2                  -      -      -      -      -      -      -      -   \n",
       "PS3                  -      -      -      -      -      -      -      -   \n",
       "PS4                  -      -      -      -      -      -      -      -   \n",
       "PSP                  -      -      -      -      -      -      -      -   \n",
       "PSV                  -      -      -      -      -      -      -      -   \n",
       "SAT                  -      -      -      -      -      -      -      -   \n",
       "SCD                  -      -      -      -      -      -      -      -   \n",
       "SNES                 -      -      -      -      -      -      -      -   \n",
       "TG16                 -      -      -      -      -      -      -      -   \n",
       "WS                   -      -      -      -      -      -      -      -   \n",
       "Wii                  -      -      -      -      -      -      -      -   \n",
       "WiiU                 -      -      -      -      -      -      -      -   \n",
       "X360                 -      -      -      -      -      -      -      -   \n",
       "XB                   -      -      -      -      -      -      -      -   \n",
       "XOne                 -      -      -      -      -      -      -      -   \n",
       "\n",
       "year_of_release 1988.0 1989.0  ... 2007.0 2008.0 2009.0 2010.0 2011.0 2012.0  \\\n",
       "platform                       ...                                             \n",
       "2600               0.0    0.0  ...      -      -      -      -      -      -   \n",
       "3DO                  -      -  ...      -      -      -      -      -      -   \n",
       "3DS                  -      -  ...      -      -      -      -    0.0    0.0   \n",
       "DC                   -      -  ...    0.0    0.0      -      -      -      -   \n",
       "DS                   -      -  ...    0.0    0.0    0.0    0.0    0.0    0.0   \n",
       "GB                 0.0    0.0  ...      -      -      -      -      -      -   \n",
       "GBA                  -      -  ...    0.0      -      -      -      -      -   \n",
       "GC                   -      -  ...      -      -      -      -      -      -   \n",
       "GEN                  -      -  ...      -      -      -      -      -      -   \n",
       "GG                   -      -  ...      -      -      -      -      -      -   \n",
       "N64                  -      -  ...      -      -      -      -      -      -   \n",
       "NES                0.0    0.0  ...      -      -      -      -      -      -   \n",
       "NG                   -      -  ...      -      -      -      -      -      -   \n",
       "PC                   -      -  ...    0.0    0.0    0.0    0.0    0.0    0.0   \n",
       "PCFX                 -      -  ...      -      -      -      -      -      -   \n",
       "PS                   -      -  ...      -      -      -      -      -      -   \n",
       "PS2                  -      -  ...    0.0    0.0    0.0    0.0    0.0      -   \n",
       "PS3                  -      -  ...    0.0    0.0    0.0    0.0    0.0    0.0   \n",
       "PS4                  -      -  ...      -      -      -      -      -      -   \n",
       "PSP                  -      -  ...    0.0    0.0    0.0    0.0    0.0    0.0   \n",
       "PSV                  -      -  ...      -      -      -      -    0.0    0.0   \n",
       "SAT                  -      -  ...      -      -      -      -      -      -   \n",
       "SCD                  -      -  ...      -      -      -      -      -      -   \n",
       "SNES                 -      -  ...      -      -      -      -      -      -   \n",
       "TG16                 -      -  ...      -      -      -      -      -      -   \n",
       "WS                   -      -  ...      -      -      -      -      -      -   \n",
       "Wii                  -      -  ...    0.0    0.0    0.0    0.0    0.0    0.0   \n",
       "WiiU                 -      -  ...      -      -      -      -      -    0.0   \n",
       "X360                 -      -  ...    0.0    0.0    0.0    0.0    0.0    0.0   \n",
       "XB                   -      -  ...      -      -      -      -      -      -   \n",
       "XOne                 -      -  ...      -      -      -      -      -      -   \n",
       "\n",
       "year_of_release 2013.0 2014.0 2015.0 2016.0  \n",
       "platform                                     \n",
       "2600                 -      -      -      -  \n",
       "3DO                  -      -      -      -  \n",
       "3DS                0.0    0.0    0.0    0.0  \n",
       "DC                   -      -      -      -  \n",
       "DS                 0.0      -      -      -  \n",
       "GB                   -      -      -      -  \n",
       "GBA                  -      -      -      -  \n",
       "GC                   -      -      -      -  \n",
       "GEN                  -      -      -      -  \n",
       "GG                   -      -      -      -  \n",
       "N64                  -      -      -      -  \n",
       "NES                  -      -      -      -  \n",
       "NG                   -      -      -      -  \n",
       "PC                 0.0    0.0    0.0    0.0  \n",
       "PCFX                 -      -      -      -  \n",
       "PS                   -      -      -      -  \n",
       "PS2                  -      -      -      -  \n",
       "PS3                0.0    0.0    0.0    0.0  \n",
       "PS4                0.0    0.0    0.0    0.0  \n",
       "PSP                0.0    0.0    0.0      -  \n",
       "PSV                0.0    0.0    0.0    0.0  \n",
       "SAT                  -      -      -      -  \n",
       "SCD                  -      -      -      -  \n",
       "SNES                 -      -      -      -  \n",
       "TG16                 -      -      -      -  \n",
       "WS                   -      -      -      -  \n",
       "Wii                0.0    0.0    0.0      -  \n",
       "WiiU               0.0    0.0    0.0    0.0  \n",
       "X360               0.0    0.0    0.0    0.0  \n",
       "XB                   -      -      -      -  \n",
       "XOne               0.0    0.0    0.0    0.0  \n",
       "\n",
       "[31 rows x 37 columns]"
      ]
     },
     "execution_count": 35,
     "metadata": {},
     "output_type": "execute_result"
    }
   ],
   "source": [
    "# Let's make the same table for rating from users:\n",
    "score_isna_user_pivot = score_isna.pivot_table(index = 'platform', columns = 'year_of_release', \n",
    "                                                 values = 'user_score', aggfunc = 'count', fill_value='-')\n",
    "score_isna_user_pivot"
   ]
  },
  {
   "cell_type": "code",
   "execution_count": 36,
   "id": "dacb6bee",
   "metadata": {},
   "outputs": [
    {
     "data": {
      "text/html": [
       "<div>\n",
       "<style scoped>\n",
       "    .dataframe tbody tr th:only-of-type {\n",
       "        vertical-align: middle;\n",
       "    }\n",
       "\n",
       "    .dataframe tbody tr th {\n",
       "        vertical-align: top;\n",
       "    }\n",
       "\n",
       "    .dataframe thead th {\n",
       "        text-align: right;\n",
       "    }\n",
       "</style>\n",
       "<table border=\"1\" class=\"dataframe\">\n",
       "  <thead>\n",
       "    <tr style=\"text-align: right;\">\n",
       "      <th>year_of_release</th>\n",
       "      <th>1980.0</th>\n",
       "      <th>1981.0</th>\n",
       "      <th>1982.0</th>\n",
       "      <th>1983.0</th>\n",
       "      <th>1984.0</th>\n",
       "      <th>1985.0</th>\n",
       "      <th>1986.0</th>\n",
       "      <th>1987.0</th>\n",
       "      <th>1988.0</th>\n",
       "      <th>1989.0</th>\n",
       "      <th>...</th>\n",
       "      <th>2007.0</th>\n",
       "      <th>2008.0</th>\n",
       "      <th>2009.0</th>\n",
       "      <th>2010.0</th>\n",
       "      <th>2011.0</th>\n",
       "      <th>2012.0</th>\n",
       "      <th>2013.0</th>\n",
       "      <th>2014.0</th>\n",
       "      <th>2015.0</th>\n",
       "      <th>2016.0</th>\n",
       "    </tr>\n",
       "    <tr>\n",
       "      <th>platform</th>\n",
       "      <th></th>\n",
       "      <th></th>\n",
       "      <th></th>\n",
       "      <th></th>\n",
       "      <th></th>\n",
       "      <th></th>\n",
       "      <th></th>\n",
       "      <th></th>\n",
       "      <th></th>\n",
       "      <th></th>\n",
       "      <th></th>\n",
       "      <th></th>\n",
       "      <th></th>\n",
       "      <th></th>\n",
       "      <th></th>\n",
       "      <th></th>\n",
       "      <th></th>\n",
       "      <th></th>\n",
       "      <th></th>\n",
       "      <th></th>\n",
       "      <th></th>\n",
       "    </tr>\n",
       "  </thead>\n",
       "  <tbody>\n",
       "    <tr>\n",
       "      <th>2600</th>\n",
       "      <td>0.0</td>\n",
       "      <td>0.0</td>\n",
       "      <td>0.0</td>\n",
       "      <td>0.0</td>\n",
       "      <td>0.0</td>\n",
       "      <td>0.0</td>\n",
       "      <td>0.0</td>\n",
       "      <td>0.0</td>\n",
       "      <td>0.0</td>\n",
       "      <td>0.0</td>\n",
       "      <td>...</td>\n",
       "      <td>-</td>\n",
       "      <td>-</td>\n",
       "      <td>-</td>\n",
       "      <td>-</td>\n",
       "      <td>-</td>\n",
       "      <td>-</td>\n",
       "      <td>-</td>\n",
       "      <td>-</td>\n",
       "      <td>-</td>\n",
       "      <td>-</td>\n",
       "    </tr>\n",
       "    <tr>\n",
       "      <th>3DO</th>\n",
       "      <td>-</td>\n",
       "      <td>-</td>\n",
       "      <td>-</td>\n",
       "      <td>-</td>\n",
       "      <td>-</td>\n",
       "      <td>-</td>\n",
       "      <td>-</td>\n",
       "      <td>-</td>\n",
       "      <td>-</td>\n",
       "      <td>-</td>\n",
       "      <td>...</td>\n",
       "      <td>-</td>\n",
       "      <td>-</td>\n",
       "      <td>-</td>\n",
       "      <td>-</td>\n",
       "      <td>-</td>\n",
       "      <td>-</td>\n",
       "      <td>-</td>\n",
       "      <td>-</td>\n",
       "      <td>-</td>\n",
       "      <td>-</td>\n",
       "    </tr>\n",
       "    <tr>\n",
       "      <th>3DS</th>\n",
       "      <td>-</td>\n",
       "      <td>-</td>\n",
       "      <td>-</td>\n",
       "      <td>-</td>\n",
       "      <td>-</td>\n",
       "      <td>-</td>\n",
       "      <td>-</td>\n",
       "      <td>-</td>\n",
       "      <td>-</td>\n",
       "      <td>-</td>\n",
       "      <td>...</td>\n",
       "      <td>-</td>\n",
       "      <td>-</td>\n",
       "      <td>-</td>\n",
       "      <td>-</td>\n",
       "      <td>0.0</td>\n",
       "      <td>0.0</td>\n",
       "      <td>0.0</td>\n",
       "      <td>0.0</td>\n",
       "      <td>0.0</td>\n",
       "      <td>0.0</td>\n",
       "    </tr>\n",
       "    <tr>\n",
       "      <th>DC</th>\n",
       "      <td>-</td>\n",
       "      <td>-</td>\n",
       "      <td>-</td>\n",
       "      <td>-</td>\n",
       "      <td>-</td>\n",
       "      <td>-</td>\n",
       "      <td>-</td>\n",
       "      <td>-</td>\n",
       "      <td>-</td>\n",
       "      <td>-</td>\n",
       "      <td>...</td>\n",
       "      <td>0.0</td>\n",
       "      <td>0.0</td>\n",
       "      <td>-</td>\n",
       "      <td>-</td>\n",
       "      <td>-</td>\n",
       "      <td>-</td>\n",
       "      <td>-</td>\n",
       "      <td>-</td>\n",
       "      <td>-</td>\n",
       "      <td>-</td>\n",
       "    </tr>\n",
       "    <tr>\n",
       "      <th>DS</th>\n",
       "      <td>-</td>\n",
       "      <td>-</td>\n",
       "      <td>-</td>\n",
       "      <td>-</td>\n",
       "      <td>-</td>\n",
       "      <td>0.0</td>\n",
       "      <td>-</td>\n",
       "      <td>-</td>\n",
       "      <td>-</td>\n",
       "      <td>-</td>\n",
       "      <td>...</td>\n",
       "      <td>0.0</td>\n",
       "      <td>0.0</td>\n",
       "      <td>0.0</td>\n",
       "      <td>0.0</td>\n",
       "      <td>0.0</td>\n",
       "      <td>0.0</td>\n",
       "      <td>0.0</td>\n",
       "      <td>-</td>\n",
       "      <td>-</td>\n",
       "      <td>-</td>\n",
       "    </tr>\n",
       "    <tr>\n",
       "      <th>GB</th>\n",
       "      <td>-</td>\n",
       "      <td>-</td>\n",
       "      <td>-</td>\n",
       "      <td>-</td>\n",
       "      <td>-</td>\n",
       "      <td>-</td>\n",
       "      <td>-</td>\n",
       "      <td>-</td>\n",
       "      <td>0.0</td>\n",
       "      <td>0.0</td>\n",
       "      <td>...</td>\n",
       "      <td>-</td>\n",
       "      <td>-</td>\n",
       "      <td>-</td>\n",
       "      <td>-</td>\n",
       "      <td>-</td>\n",
       "      <td>-</td>\n",
       "      <td>-</td>\n",
       "      <td>-</td>\n",
       "      <td>-</td>\n",
       "      <td>-</td>\n",
       "    </tr>\n",
       "    <tr>\n",
       "      <th>GBA</th>\n",
       "      <td>-</td>\n",
       "      <td>-</td>\n",
       "      <td>-</td>\n",
       "      <td>-</td>\n",
       "      <td>-</td>\n",
       "      <td>-</td>\n",
       "      <td>-</td>\n",
       "      <td>-</td>\n",
       "      <td>-</td>\n",
       "      <td>-</td>\n",
       "      <td>...</td>\n",
       "      <td>0.0</td>\n",
       "      <td>-</td>\n",
       "      <td>-</td>\n",
       "      <td>-</td>\n",
       "      <td>-</td>\n",
       "      <td>-</td>\n",
       "      <td>-</td>\n",
       "      <td>-</td>\n",
       "      <td>-</td>\n",
       "      <td>-</td>\n",
       "    </tr>\n",
       "    <tr>\n",
       "      <th>GC</th>\n",
       "      <td>-</td>\n",
       "      <td>-</td>\n",
       "      <td>-</td>\n",
       "      <td>-</td>\n",
       "      <td>-</td>\n",
       "      <td>-</td>\n",
       "      <td>-</td>\n",
       "      <td>-</td>\n",
       "      <td>-</td>\n",
       "      <td>-</td>\n",
       "      <td>...</td>\n",
       "      <td>-</td>\n",
       "      <td>-</td>\n",
       "      <td>-</td>\n",
       "      <td>-</td>\n",
       "      <td>-</td>\n",
       "      <td>-</td>\n",
       "      <td>-</td>\n",
       "      <td>-</td>\n",
       "      <td>-</td>\n",
       "      <td>-</td>\n",
       "    </tr>\n",
       "    <tr>\n",
       "      <th>GEN</th>\n",
       "      <td>-</td>\n",
       "      <td>-</td>\n",
       "      <td>-</td>\n",
       "      <td>-</td>\n",
       "      <td>-</td>\n",
       "      <td>-</td>\n",
       "      <td>-</td>\n",
       "      <td>-</td>\n",
       "      <td>-</td>\n",
       "      <td>-</td>\n",
       "      <td>...</td>\n",
       "      <td>-</td>\n",
       "      <td>-</td>\n",
       "      <td>-</td>\n",
       "      <td>-</td>\n",
       "      <td>-</td>\n",
       "      <td>-</td>\n",
       "      <td>-</td>\n",
       "      <td>-</td>\n",
       "      <td>-</td>\n",
       "      <td>-</td>\n",
       "    </tr>\n",
       "    <tr>\n",
       "      <th>GG</th>\n",
       "      <td>-</td>\n",
       "      <td>-</td>\n",
       "      <td>-</td>\n",
       "      <td>-</td>\n",
       "      <td>-</td>\n",
       "      <td>-</td>\n",
       "      <td>-</td>\n",
       "      <td>-</td>\n",
       "      <td>-</td>\n",
       "      <td>-</td>\n",
       "      <td>...</td>\n",
       "      <td>-</td>\n",
       "      <td>-</td>\n",
       "      <td>-</td>\n",
       "      <td>-</td>\n",
       "      <td>-</td>\n",
       "      <td>-</td>\n",
       "      <td>-</td>\n",
       "      <td>-</td>\n",
       "      <td>-</td>\n",
       "      <td>-</td>\n",
       "    </tr>\n",
       "    <tr>\n",
       "      <th>N64</th>\n",
       "      <td>-</td>\n",
       "      <td>-</td>\n",
       "      <td>-</td>\n",
       "      <td>-</td>\n",
       "      <td>-</td>\n",
       "      <td>-</td>\n",
       "      <td>-</td>\n",
       "      <td>-</td>\n",
       "      <td>-</td>\n",
       "      <td>-</td>\n",
       "      <td>...</td>\n",
       "      <td>-</td>\n",
       "      <td>-</td>\n",
       "      <td>-</td>\n",
       "      <td>-</td>\n",
       "      <td>-</td>\n",
       "      <td>-</td>\n",
       "      <td>-</td>\n",
       "      <td>-</td>\n",
       "      <td>-</td>\n",
       "      <td>-</td>\n",
       "    </tr>\n",
       "    <tr>\n",
       "      <th>NES</th>\n",
       "      <td>-</td>\n",
       "      <td>-</td>\n",
       "      <td>-</td>\n",
       "      <td>0.0</td>\n",
       "      <td>0.0</td>\n",
       "      <td>0.0</td>\n",
       "      <td>0.0</td>\n",
       "      <td>0.0</td>\n",
       "      <td>0.0</td>\n",
       "      <td>0.0</td>\n",
       "      <td>...</td>\n",
       "      <td>-</td>\n",
       "      <td>-</td>\n",
       "      <td>-</td>\n",
       "      <td>-</td>\n",
       "      <td>-</td>\n",
       "      <td>-</td>\n",
       "      <td>-</td>\n",
       "      <td>-</td>\n",
       "      <td>-</td>\n",
       "      <td>-</td>\n",
       "    </tr>\n",
       "    <tr>\n",
       "      <th>NG</th>\n",
       "      <td>-</td>\n",
       "      <td>-</td>\n",
       "      <td>-</td>\n",
       "      <td>-</td>\n",
       "      <td>-</td>\n",
       "      <td>-</td>\n",
       "      <td>-</td>\n",
       "      <td>-</td>\n",
       "      <td>-</td>\n",
       "      <td>-</td>\n",
       "      <td>...</td>\n",
       "      <td>-</td>\n",
       "      <td>-</td>\n",
       "      <td>-</td>\n",
       "      <td>-</td>\n",
       "      <td>-</td>\n",
       "      <td>-</td>\n",
       "      <td>-</td>\n",
       "      <td>-</td>\n",
       "      <td>-</td>\n",
       "      <td>-</td>\n",
       "    </tr>\n",
       "    <tr>\n",
       "      <th>PC</th>\n",
       "      <td>-</td>\n",
       "      <td>-</td>\n",
       "      <td>-</td>\n",
       "      <td>-</td>\n",
       "      <td>-</td>\n",
       "      <td>-</td>\n",
       "      <td>-</td>\n",
       "      <td>-</td>\n",
       "      <td>-</td>\n",
       "      <td>-</td>\n",
       "      <td>...</td>\n",
       "      <td>0.0</td>\n",
       "      <td>0.0</td>\n",
       "      <td>0.0</td>\n",
       "      <td>0.0</td>\n",
       "      <td>0.0</td>\n",
       "      <td>0.0</td>\n",
       "      <td>0.0</td>\n",
       "      <td>0.0</td>\n",
       "      <td>0.0</td>\n",
       "      <td>0.0</td>\n",
       "    </tr>\n",
       "    <tr>\n",
       "      <th>PCFX</th>\n",
       "      <td>-</td>\n",
       "      <td>-</td>\n",
       "      <td>-</td>\n",
       "      <td>-</td>\n",
       "      <td>-</td>\n",
       "      <td>-</td>\n",
       "      <td>-</td>\n",
       "      <td>-</td>\n",
       "      <td>-</td>\n",
       "      <td>-</td>\n",
       "      <td>...</td>\n",
       "      <td>-</td>\n",
       "      <td>-</td>\n",
       "      <td>-</td>\n",
       "      <td>-</td>\n",
       "      <td>-</td>\n",
       "      <td>-</td>\n",
       "      <td>-</td>\n",
       "      <td>-</td>\n",
       "      <td>-</td>\n",
       "      <td>-</td>\n",
       "    </tr>\n",
       "    <tr>\n",
       "      <th>PS</th>\n",
       "      <td>-</td>\n",
       "      <td>-</td>\n",
       "      <td>-</td>\n",
       "      <td>-</td>\n",
       "      <td>-</td>\n",
       "      <td>-</td>\n",
       "      <td>-</td>\n",
       "      <td>-</td>\n",
       "      <td>-</td>\n",
       "      <td>-</td>\n",
       "      <td>...</td>\n",
       "      <td>-</td>\n",
       "      <td>-</td>\n",
       "      <td>-</td>\n",
       "      <td>-</td>\n",
       "      <td>-</td>\n",
       "      <td>-</td>\n",
       "      <td>-</td>\n",
       "      <td>-</td>\n",
       "      <td>-</td>\n",
       "      <td>-</td>\n",
       "    </tr>\n",
       "    <tr>\n",
       "      <th>PS2</th>\n",
       "      <td>-</td>\n",
       "      <td>-</td>\n",
       "      <td>-</td>\n",
       "      <td>-</td>\n",
       "      <td>-</td>\n",
       "      <td>-</td>\n",
       "      <td>-</td>\n",
       "      <td>-</td>\n",
       "      <td>-</td>\n",
       "      <td>-</td>\n",
       "      <td>...</td>\n",
       "      <td>0.0</td>\n",
       "      <td>0.0</td>\n",
       "      <td>0.0</td>\n",
       "      <td>0.0</td>\n",
       "      <td>0.0</td>\n",
       "      <td>-</td>\n",
       "      <td>-</td>\n",
       "      <td>-</td>\n",
       "      <td>-</td>\n",
       "      <td>-</td>\n",
       "    </tr>\n",
       "    <tr>\n",
       "      <th>PS3</th>\n",
       "      <td>-</td>\n",
       "      <td>-</td>\n",
       "      <td>-</td>\n",
       "      <td>-</td>\n",
       "      <td>-</td>\n",
       "      <td>-</td>\n",
       "      <td>-</td>\n",
       "      <td>-</td>\n",
       "      <td>-</td>\n",
       "      <td>-</td>\n",
       "      <td>...</td>\n",
       "      <td>0.0</td>\n",
       "      <td>0.0</td>\n",
       "      <td>0.0</td>\n",
       "      <td>0.0</td>\n",
       "      <td>0.0</td>\n",
       "      <td>0.0</td>\n",
       "      <td>0.0</td>\n",
       "      <td>0.0</td>\n",
       "      <td>0.0</td>\n",
       "      <td>0.0</td>\n",
       "    </tr>\n",
       "    <tr>\n",
       "      <th>PS4</th>\n",
       "      <td>-</td>\n",
       "      <td>-</td>\n",
       "      <td>-</td>\n",
       "      <td>-</td>\n",
       "      <td>-</td>\n",
       "      <td>-</td>\n",
       "      <td>-</td>\n",
       "      <td>-</td>\n",
       "      <td>-</td>\n",
       "      <td>-</td>\n",
       "      <td>...</td>\n",
       "      <td>-</td>\n",
       "      <td>-</td>\n",
       "      <td>-</td>\n",
       "      <td>-</td>\n",
       "      <td>-</td>\n",
       "      <td>-</td>\n",
       "      <td>0.0</td>\n",
       "      <td>0.0</td>\n",
       "      <td>0.0</td>\n",
       "      <td>0.0</td>\n",
       "    </tr>\n",
       "    <tr>\n",
       "      <th>PSP</th>\n",
       "      <td>-</td>\n",
       "      <td>-</td>\n",
       "      <td>-</td>\n",
       "      <td>-</td>\n",
       "      <td>-</td>\n",
       "      <td>-</td>\n",
       "      <td>-</td>\n",
       "      <td>-</td>\n",
       "      <td>-</td>\n",
       "      <td>-</td>\n",
       "      <td>...</td>\n",
       "      <td>0.0</td>\n",
       "      <td>0.0</td>\n",
       "      <td>0.0</td>\n",
       "      <td>0.0</td>\n",
       "      <td>0.0</td>\n",
       "      <td>0.0</td>\n",
       "      <td>0.0</td>\n",
       "      <td>0.0</td>\n",
       "      <td>0.0</td>\n",
       "      <td>-</td>\n",
       "    </tr>\n",
       "    <tr>\n",
       "      <th>PSV</th>\n",
       "      <td>-</td>\n",
       "      <td>-</td>\n",
       "      <td>-</td>\n",
       "      <td>-</td>\n",
       "      <td>-</td>\n",
       "      <td>-</td>\n",
       "      <td>-</td>\n",
       "      <td>-</td>\n",
       "      <td>-</td>\n",
       "      <td>-</td>\n",
       "      <td>...</td>\n",
       "      <td>-</td>\n",
       "      <td>-</td>\n",
       "      <td>-</td>\n",
       "      <td>-</td>\n",
       "      <td>0.0</td>\n",
       "      <td>0.0</td>\n",
       "      <td>0.0</td>\n",
       "      <td>0.0</td>\n",
       "      <td>0.0</td>\n",
       "      <td>0.0</td>\n",
       "    </tr>\n",
       "    <tr>\n",
       "      <th>SAT</th>\n",
       "      <td>-</td>\n",
       "      <td>-</td>\n",
       "      <td>-</td>\n",
       "      <td>-</td>\n",
       "      <td>-</td>\n",
       "      <td>-</td>\n",
       "      <td>-</td>\n",
       "      <td>-</td>\n",
       "      <td>-</td>\n",
       "      <td>-</td>\n",
       "      <td>...</td>\n",
       "      <td>-</td>\n",
       "      <td>-</td>\n",
       "      <td>-</td>\n",
       "      <td>-</td>\n",
       "      <td>-</td>\n",
       "      <td>-</td>\n",
       "      <td>-</td>\n",
       "      <td>-</td>\n",
       "      <td>-</td>\n",
       "      <td>-</td>\n",
       "    </tr>\n",
       "    <tr>\n",
       "      <th>SCD</th>\n",
       "      <td>-</td>\n",
       "      <td>-</td>\n",
       "      <td>-</td>\n",
       "      <td>-</td>\n",
       "      <td>-</td>\n",
       "      <td>-</td>\n",
       "      <td>-</td>\n",
       "      <td>-</td>\n",
       "      <td>-</td>\n",
       "      <td>-</td>\n",
       "      <td>...</td>\n",
       "      <td>-</td>\n",
       "      <td>-</td>\n",
       "      <td>-</td>\n",
       "      <td>-</td>\n",
       "      <td>-</td>\n",
       "      <td>-</td>\n",
       "      <td>-</td>\n",
       "      <td>-</td>\n",
       "      <td>-</td>\n",
       "      <td>-</td>\n",
       "    </tr>\n",
       "    <tr>\n",
       "      <th>SNES</th>\n",
       "      <td>-</td>\n",
       "      <td>-</td>\n",
       "      <td>-</td>\n",
       "      <td>-</td>\n",
       "      <td>-</td>\n",
       "      <td>-</td>\n",
       "      <td>-</td>\n",
       "      <td>-</td>\n",
       "      <td>-</td>\n",
       "      <td>-</td>\n",
       "      <td>...</td>\n",
       "      <td>-</td>\n",
       "      <td>-</td>\n",
       "      <td>-</td>\n",
       "      <td>-</td>\n",
       "      <td>-</td>\n",
       "      <td>-</td>\n",
       "      <td>-</td>\n",
       "      <td>-</td>\n",
       "      <td>-</td>\n",
       "      <td>-</td>\n",
       "    </tr>\n",
       "    <tr>\n",
       "      <th>TG16</th>\n",
       "      <td>-</td>\n",
       "      <td>-</td>\n",
       "      <td>-</td>\n",
       "      <td>-</td>\n",
       "      <td>-</td>\n",
       "      <td>-</td>\n",
       "      <td>-</td>\n",
       "      <td>-</td>\n",
       "      <td>-</td>\n",
       "      <td>-</td>\n",
       "      <td>...</td>\n",
       "      <td>-</td>\n",
       "      <td>-</td>\n",
       "      <td>-</td>\n",
       "      <td>-</td>\n",
       "      <td>-</td>\n",
       "      <td>-</td>\n",
       "      <td>-</td>\n",
       "      <td>-</td>\n",
       "      <td>-</td>\n",
       "      <td>-</td>\n",
       "    </tr>\n",
       "    <tr>\n",
       "      <th>WS</th>\n",
       "      <td>-</td>\n",
       "      <td>-</td>\n",
       "      <td>-</td>\n",
       "      <td>-</td>\n",
       "      <td>-</td>\n",
       "      <td>-</td>\n",
       "      <td>-</td>\n",
       "      <td>-</td>\n",
       "      <td>-</td>\n",
       "      <td>-</td>\n",
       "      <td>...</td>\n",
       "      <td>-</td>\n",
       "      <td>-</td>\n",
       "      <td>-</td>\n",
       "      <td>-</td>\n",
       "      <td>-</td>\n",
       "      <td>-</td>\n",
       "      <td>-</td>\n",
       "      <td>-</td>\n",
       "      <td>-</td>\n",
       "      <td>-</td>\n",
       "    </tr>\n",
       "    <tr>\n",
       "      <th>Wii</th>\n",
       "      <td>-</td>\n",
       "      <td>-</td>\n",
       "      <td>-</td>\n",
       "      <td>-</td>\n",
       "      <td>-</td>\n",
       "      <td>-</td>\n",
       "      <td>-</td>\n",
       "      <td>-</td>\n",
       "      <td>-</td>\n",
       "      <td>-</td>\n",
       "      <td>...</td>\n",
       "      <td>0.0</td>\n",
       "      <td>0.0</td>\n",
       "      <td>0.0</td>\n",
       "      <td>0.0</td>\n",
       "      <td>0.0</td>\n",
       "      <td>0.0</td>\n",
       "      <td>0.0</td>\n",
       "      <td>0.0</td>\n",
       "      <td>0.0</td>\n",
       "      <td>-</td>\n",
       "    </tr>\n",
       "    <tr>\n",
       "      <th>WiiU</th>\n",
       "      <td>-</td>\n",
       "      <td>-</td>\n",
       "      <td>-</td>\n",
       "      <td>-</td>\n",
       "      <td>-</td>\n",
       "      <td>-</td>\n",
       "      <td>-</td>\n",
       "      <td>-</td>\n",
       "      <td>-</td>\n",
       "      <td>-</td>\n",
       "      <td>...</td>\n",
       "      <td>-</td>\n",
       "      <td>-</td>\n",
       "      <td>-</td>\n",
       "      <td>-</td>\n",
       "      <td>-</td>\n",
       "      <td>0.0</td>\n",
       "      <td>0.0</td>\n",
       "      <td>0.0</td>\n",
       "      <td>0.0</td>\n",
       "      <td>0.0</td>\n",
       "    </tr>\n",
       "    <tr>\n",
       "      <th>X360</th>\n",
       "      <td>-</td>\n",
       "      <td>-</td>\n",
       "      <td>-</td>\n",
       "      <td>-</td>\n",
       "      <td>-</td>\n",
       "      <td>-</td>\n",
       "      <td>-</td>\n",
       "      <td>-</td>\n",
       "      <td>-</td>\n",
       "      <td>-</td>\n",
       "      <td>...</td>\n",
       "      <td>0.0</td>\n",
       "      <td>0.0</td>\n",
       "      <td>0.0</td>\n",
       "      <td>0.0</td>\n",
       "      <td>0.0</td>\n",
       "      <td>0.0</td>\n",
       "      <td>0.0</td>\n",
       "      <td>0.0</td>\n",
       "      <td>0.0</td>\n",
       "      <td>0.0</td>\n",
       "    </tr>\n",
       "    <tr>\n",
       "      <th>XB</th>\n",
       "      <td>-</td>\n",
       "      <td>-</td>\n",
       "      <td>-</td>\n",
       "      <td>-</td>\n",
       "      <td>-</td>\n",
       "      <td>-</td>\n",
       "      <td>-</td>\n",
       "      <td>-</td>\n",
       "      <td>-</td>\n",
       "      <td>-</td>\n",
       "      <td>...</td>\n",
       "      <td>-</td>\n",
       "      <td>-</td>\n",
       "      <td>-</td>\n",
       "      <td>-</td>\n",
       "      <td>-</td>\n",
       "      <td>-</td>\n",
       "      <td>-</td>\n",
       "      <td>-</td>\n",
       "      <td>-</td>\n",
       "      <td>-</td>\n",
       "    </tr>\n",
       "    <tr>\n",
       "      <th>XOne</th>\n",
       "      <td>-</td>\n",
       "      <td>-</td>\n",
       "      <td>-</td>\n",
       "      <td>-</td>\n",
       "      <td>-</td>\n",
       "      <td>-</td>\n",
       "      <td>-</td>\n",
       "      <td>-</td>\n",
       "      <td>-</td>\n",
       "      <td>-</td>\n",
       "      <td>...</td>\n",
       "      <td>-</td>\n",
       "      <td>-</td>\n",
       "      <td>-</td>\n",
       "      <td>-</td>\n",
       "      <td>-</td>\n",
       "      <td>-</td>\n",
       "      <td>0.0</td>\n",
       "      <td>0.0</td>\n",
       "      <td>0.0</td>\n",
       "      <td>0.0</td>\n",
       "    </tr>\n",
       "  </tbody>\n",
       "</table>\n",
       "<p>31 rows × 37 columns</p>\n",
       "</div>"
      ],
      "text/plain": [
       "year_of_release 1980.0 1981.0 1982.0 1983.0 1984.0 1985.0 1986.0 1987.0  \\\n",
       "platform                                                                  \n",
       "2600               0.0    0.0    0.0    0.0    0.0    0.0    0.0    0.0   \n",
       "3DO                  -      -      -      -      -      -      -      -   \n",
       "3DS                  -      -      -      -      -      -      -      -   \n",
       "DC                   -      -      -      -      -      -      -      -   \n",
       "DS                   -      -      -      -      -    0.0      -      -   \n",
       "GB                   -      -      -      -      -      -      -      -   \n",
       "GBA                  -      -      -      -      -      -      -      -   \n",
       "GC                   -      -      -      -      -      -      -      -   \n",
       "GEN                  -      -      -      -      -      -      -      -   \n",
       "GG                   -      -      -      -      -      -      -      -   \n",
       "N64                  -      -      -      -      -      -      -      -   \n",
       "NES                  -      -      -    0.0    0.0    0.0    0.0    0.0   \n",
       "NG                   -      -      -      -      -      -      -      -   \n",
       "PC                   -      -      -      -      -      -      -      -   \n",
       "PCFX                 -      -      -      -      -      -      -      -   \n",
       "PS                   -      -      -      -      -      -      -      -   \n",
       "PS2                  -      -      -      -      -      -      -      -   \n",
       "PS3                  -      -      -      -      -      -      -      -   \n",
       "PS4                  -      -      -      -      -      -      -      -   \n",
       "PSP                  -      -      -      -      -      -      -      -   \n",
       "PSV                  -      -      -      -      -      -      -      -   \n",
       "SAT                  -      -      -      -      -      -      -      -   \n",
       "SCD                  -      -      -      -      -      -      -      -   \n",
       "SNES                 -      -      -      -      -      -      -      -   \n",
       "TG16                 -      -      -      -      -      -      -      -   \n",
       "WS                   -      -      -      -      -      -      -      -   \n",
       "Wii                  -      -      -      -      -      -      -      -   \n",
       "WiiU                 -      -      -      -      -      -      -      -   \n",
       "X360                 -      -      -      -      -      -      -      -   \n",
       "XB                   -      -      -      -      -      -      -      -   \n",
       "XOne                 -      -      -      -      -      -      -      -   \n",
       "\n",
       "year_of_release 1988.0 1989.0  ... 2007.0 2008.0 2009.0 2010.0 2011.0 2012.0  \\\n",
       "platform                       ...                                             \n",
       "2600               0.0    0.0  ...      -      -      -      -      -      -   \n",
       "3DO                  -      -  ...      -      -      -      -      -      -   \n",
       "3DS                  -      -  ...      -      -      -      -    0.0    0.0   \n",
       "DC                   -      -  ...    0.0    0.0      -      -      -      -   \n",
       "DS                   -      -  ...    0.0    0.0    0.0    0.0    0.0    0.0   \n",
       "GB                 0.0    0.0  ...      -      -      -      -      -      -   \n",
       "GBA                  -      -  ...    0.0      -      -      -      -      -   \n",
       "GC                   -      -  ...      -      -      -      -      -      -   \n",
       "GEN                  -      -  ...      -      -      -      -      -      -   \n",
       "GG                   -      -  ...      -      -      -      -      -      -   \n",
       "N64                  -      -  ...      -      -      -      -      -      -   \n",
       "NES                0.0    0.0  ...      -      -      -      -      -      -   \n",
       "NG                   -      -  ...      -      -      -      -      -      -   \n",
       "PC                   -      -  ...    0.0    0.0    0.0    0.0    0.0    0.0   \n",
       "PCFX                 -      -  ...      -      -      -      -      -      -   \n",
       "PS                   -      -  ...      -      -      -      -      -      -   \n",
       "PS2                  -      -  ...    0.0    0.0    0.0    0.0    0.0      -   \n",
       "PS3                  -      -  ...    0.0    0.0    0.0    0.0    0.0    0.0   \n",
       "PS4                  -      -  ...      -      -      -      -      -      -   \n",
       "PSP                  -      -  ...    0.0    0.0    0.0    0.0    0.0    0.0   \n",
       "PSV                  -      -  ...      -      -      -      -    0.0    0.0   \n",
       "SAT                  -      -  ...      -      -      -      -      -      -   \n",
       "SCD                  -      -  ...      -      -      -      -      -      -   \n",
       "SNES                 -      -  ...      -      -      -      -      -      -   \n",
       "TG16                 -      -  ...      -      -      -      -      -      -   \n",
       "WS                   -      -  ...      -      -      -      -      -      -   \n",
       "Wii                  -      -  ...    0.0    0.0    0.0    0.0    0.0    0.0   \n",
       "WiiU                 -      -  ...      -      -      -      -      -    0.0   \n",
       "X360                 -      -  ...    0.0    0.0    0.0    0.0    0.0    0.0   \n",
       "XB                   -      -  ...      -      -      -      -      -      -   \n",
       "XOne                 -      -  ...      -      -      -      -      -      -   \n",
       "\n",
       "year_of_release 2013.0 2014.0 2015.0 2016.0  \n",
       "platform                                     \n",
       "2600                 -      -      -      -  \n",
       "3DO                  -      -      -      -  \n",
       "3DS                0.0    0.0    0.0    0.0  \n",
       "DC                   -      -      -      -  \n",
       "DS                 0.0      -      -      -  \n",
       "GB                   -      -      -      -  \n",
       "GBA                  -      -      -      -  \n",
       "GC                   -      -      -      -  \n",
       "GEN                  -      -      -      -  \n",
       "GG                   -      -      -      -  \n",
       "N64                  -      -      -      -  \n",
       "NES                  -      -      -      -  \n",
       "NG                   -      -      -      -  \n",
       "PC                 0.0    0.0    0.0    0.0  \n",
       "PCFX                 -      -      -      -  \n",
       "PS                   -      -      -      -  \n",
       "PS2                  -      -      -      -  \n",
       "PS3                0.0    0.0    0.0    0.0  \n",
       "PS4                0.0    0.0    0.0    0.0  \n",
       "PSP                0.0    0.0    0.0      -  \n",
       "PSV                0.0    0.0    0.0    0.0  \n",
       "SAT                  -      -      -      -  \n",
       "SCD                  -      -      -      -  \n",
       "SNES                 -      -      -      -  \n",
       "TG16                 -      -      -      -  \n",
       "WS                   -      -      -      -  \n",
       "Wii                0.0    0.0    0.0      -  \n",
       "WiiU               0.0    0.0    0.0    0.0  \n",
       "X360               0.0    0.0    0.0    0.0  \n",
       "XB                   -      -      -      -  \n",
       "XOne               0.0    0.0    0.0    0.0  \n",
       "\n",
       "[31 rows x 37 columns]"
      ]
     },
     "execution_count": 36,
     "metadata": {},
     "output_type": "execute_result"
    }
   ],
   "source": [
    "# Let's make the same table for the rating:\n",
    "score_isna_rating_pivot = score_isna.pivot_table(index = 'platform', columns = 'year_of_release', \n",
    "                                                 values = 'rating', aggfunc = 'count', fill_value='-')\n",
    "score_isna_rating_pivot"
   ]
  },
  {
   "cell_type": "markdown",
   "id": "da3c2e3b",
   "metadata": {},
   "source": [
    "*Possible reasons for missing values:\n",
    "The tables above show patterns - in each of the platforms, for a certain period of years, there are neither ratings from users and critics, nor ESRB ratings at the same time. It is possible that the games or the platforms themselves have lost their relevance or were not in demand at all.*\n",
    "\n",
    "*The missing values in the critic_score and user_score columns cannot be handled - they cannot be filled with any mean or median value, as each game is an independent product. It is also impossible to delete rows with missing values in this data, since a significant amount of the original data will be lost. Since there are already 0 among the values in the ratings, the missing values cannot be replaced with 0 either, since 0 is still an estimate (the worst possible one). Putting a stub of -1 does not make sense, because if we need to compare which platforms the highest rated hits of all time were released on, even if such platforms no longer exist, then replacing the value with -1 reliably it will no longer be possible to calculate the maximum overall rating - in this case, -1 will be an even worse rating than 0. This means that in further similar calculations, it will be necessary to exclude values equal to -1 (values with a stub). In this case, is it worth filling in the missing values with anything at all, if these values have to be filtered out in the future? We can leave missing values.*\n",
    "\n",
    "*As for the missing values in the Rating column, there are no categories assigned by the ESRB organization (organization for the USA and Canada). This means that games released, for example, in Europe, Japan or other countries may not have this category (this is a possible reason for omissions). Since we don't really know what age category the games belong to, we can put a \"mix\" stub.*\n"
   ]
  },
  {
   "cell_type": "code",
   "execution_count": 37,
   "id": "80963a54",
   "metadata": {},
   "outputs": [
    {
     "data": {
      "text/plain": [
       "name                  0\n",
       "platform              0\n",
       "year_of_release       0\n",
       "genre                 0\n",
       "na_sales              0\n",
       "eu_sales              0\n",
       "jp_sales              0\n",
       "other_sales           0\n",
       "critic_score       8461\n",
       "user_score         8981\n",
       "rating                0\n",
       "dtype: int64"
      ]
     },
     "execution_count": 37,
     "metadata": {},
     "output_type": "execute_result"
    }
   ],
   "source": [
    "games['rating'] = games['rating'].fillna('mix')\n",
    "games.isna().sum()"
   ]
  },
  {
   "cell_type": "markdown",
   "id": "26dad997",
   "metadata": {},
   "source": [
    "**Replacing data types**:"
   ]
  },
  {
   "cell_type": "code",
   "execution_count": 38,
   "id": "1eb9520c",
   "metadata": {},
   "outputs": [],
   "source": [
    "# Now we can convert year_of_release data to int type\n",
    "games['year_of_release'] = games['year_of_release'].astype(pd.Int32Dtype())\n"
   ]
  },
  {
   "cell_type": "code",
   "execution_count": 39,
   "id": "6508cd46",
   "metadata": {},
   "outputs": [],
   "source": [
    "# Convert user_score data from object to float\n",
    "games['user_score'] = games['user_score'].astype('float',errors='ignore')\n"
   ]
  },
  {
   "cell_type": "code",
   "execution_count": 40,
   "id": "25abd406",
   "metadata": {},
   "outputs": [
    {
     "name": "stdout",
     "output_type": "stream",
     "text": [
      "<class 'pandas.core.frame.DataFrame'>\n",
      "Int64Index: 16443 entries, 0 to 16714\n",
      "Data columns (total 11 columns):\n",
      " #   Column           Non-Null Count  Dtype  \n",
      "---  ------           --------------  -----  \n",
      " 0   name             16443 non-null  object \n",
      " 1   platform         16443 non-null  object \n",
      " 2   year_of_release  16443 non-null  Int32  \n",
      " 3   genre            16443 non-null  object \n",
      " 4   na_sales         16443 non-null  float64\n",
      " 5   eu_sales         16443 non-null  float64\n",
      " 6   jp_sales         16443 non-null  float64\n",
      " 7   other_sales      16443 non-null  float64\n",
      " 8   critic_score     7982 non-null   float64\n",
      " 9   user_score       7462 non-null   float64\n",
      " 10  rating           16443 non-null  object \n",
      "dtypes: Int32(1), float64(6), object(4)\n",
      "memory usage: 1.5+ MB\n"
     ]
    }
   ],
   "source": [
    "games.info()"
   ]
  },
  {
   "cell_type": "markdown",
   "id": "c78f5c17",
   "metadata": {},
   "source": [
    "### 3 - Working with data.\n",
    "  - Calculate total sales in all regions"
   ]
  },
  {
   "cell_type": "code",
   "execution_count": 41,
   "id": "b249c1b8",
   "metadata": {},
   "outputs": [],
   "source": [
    "games['total_sales'] = games[['na_sales','eu_sales', 'jp_sales','other_sales']].sum(axis = 1)"
   ]
  },
  {
   "cell_type": "code",
   "execution_count": 42,
   "id": "69bbdd26",
   "metadata": {},
   "outputs": [
    {
     "data": {
      "text/html": [
       "<div>\n",
       "<style scoped>\n",
       "    .dataframe tbody tr th:only-of-type {\n",
       "        vertical-align: middle;\n",
       "    }\n",
       "\n",
       "    .dataframe tbody tr th {\n",
       "        vertical-align: top;\n",
       "    }\n",
       "\n",
       "    .dataframe thead th {\n",
       "        text-align: right;\n",
       "    }\n",
       "</style>\n",
       "<table border=\"1\" class=\"dataframe\">\n",
       "  <thead>\n",
       "    <tr style=\"text-align: right;\">\n",
       "      <th></th>\n",
       "      <th>name</th>\n",
       "      <th>platform</th>\n",
       "      <th>year_of_release</th>\n",
       "      <th>genre</th>\n",
       "      <th>na_sales</th>\n",
       "      <th>eu_sales</th>\n",
       "      <th>jp_sales</th>\n",
       "      <th>other_sales</th>\n",
       "      <th>critic_score</th>\n",
       "      <th>user_score</th>\n",
       "      <th>rating</th>\n",
       "      <th>total_sales</th>\n",
       "    </tr>\n",
       "  </thead>\n",
       "  <tbody>\n",
       "    <tr>\n",
       "      <th>0</th>\n",
       "      <td>Wii Sports</td>\n",
       "      <td>Wii</td>\n",
       "      <td>2006</td>\n",
       "      <td>Sports</td>\n",
       "      <td>41.36</td>\n",
       "      <td>28.96</td>\n",
       "      <td>3.77</td>\n",
       "      <td>8.45</td>\n",
       "      <td>76.0</td>\n",
       "      <td>8.0</td>\n",
       "      <td>E</td>\n",
       "      <td>82.54</td>\n",
       "    </tr>\n",
       "    <tr>\n",
       "      <th>1</th>\n",
       "      <td>Super Mario Bros.</td>\n",
       "      <td>NES</td>\n",
       "      <td>1985</td>\n",
       "      <td>Platform</td>\n",
       "      <td>29.08</td>\n",
       "      <td>3.58</td>\n",
       "      <td>6.81</td>\n",
       "      <td>0.77</td>\n",
       "      <td>NaN</td>\n",
       "      <td>NaN</td>\n",
       "      <td>mix</td>\n",
       "      <td>40.24</td>\n",
       "    </tr>\n",
       "    <tr>\n",
       "      <th>2</th>\n",
       "      <td>Mario Kart Wii</td>\n",
       "      <td>Wii</td>\n",
       "      <td>2008</td>\n",
       "      <td>Racing</td>\n",
       "      <td>15.68</td>\n",
       "      <td>12.76</td>\n",
       "      <td>3.79</td>\n",
       "      <td>3.29</td>\n",
       "      <td>82.0</td>\n",
       "      <td>8.3</td>\n",
       "      <td>E</td>\n",
       "      <td>35.52</td>\n",
       "    </tr>\n",
       "    <tr>\n",
       "      <th>3</th>\n",
       "      <td>Wii Sports Resort</td>\n",
       "      <td>Wii</td>\n",
       "      <td>2009</td>\n",
       "      <td>Sports</td>\n",
       "      <td>15.61</td>\n",
       "      <td>10.93</td>\n",
       "      <td>3.28</td>\n",
       "      <td>2.95</td>\n",
       "      <td>80.0</td>\n",
       "      <td>8.0</td>\n",
       "      <td>E</td>\n",
       "      <td>32.77</td>\n",
       "    </tr>\n",
       "    <tr>\n",
       "      <th>4</th>\n",
       "      <td>Pokemon Red/Pokemon Blue</td>\n",
       "      <td>GB</td>\n",
       "      <td>1996</td>\n",
       "      <td>Role-Playing</td>\n",
       "      <td>11.27</td>\n",
       "      <td>8.89</td>\n",
       "      <td>10.22</td>\n",
       "      <td>1.00</td>\n",
       "      <td>NaN</td>\n",
       "      <td>NaN</td>\n",
       "      <td>mix</td>\n",
       "      <td>31.38</td>\n",
       "    </tr>\n",
       "  </tbody>\n",
       "</table>\n",
       "</div>"
      ],
      "text/plain": [
       "                       name platform  year_of_release         genre  na_sales  \\\n",
       "0                Wii Sports      Wii             2006        Sports     41.36   \n",
       "1         Super Mario Bros.      NES             1985      Platform     29.08   \n",
       "2            Mario Kart Wii      Wii             2008        Racing     15.68   \n",
       "3         Wii Sports Resort      Wii             2009        Sports     15.61   \n",
       "4  Pokemon Red/Pokemon Blue       GB             1996  Role-Playing     11.27   \n",
       "\n",
       "   eu_sales  jp_sales  other_sales  critic_score  user_score rating  \\\n",
       "0     28.96      3.77         8.45          76.0         8.0      E   \n",
       "1      3.58      6.81         0.77           NaN         NaN    mix   \n",
       "2     12.76      3.79         3.29          82.0         8.3      E   \n",
       "3     10.93      3.28         2.95          80.0         8.0      E   \n",
       "4      8.89     10.22         1.00           NaN         NaN    mix   \n",
       "\n",
       "   total_sales  \n",
       "0        82.54  \n",
       "1        40.24  \n",
       "2        35.52  \n",
       "3        32.77  \n",
       "4        31.38  "
      ]
     },
     "execution_count": 42,
     "metadata": {},
     "output_type": "execute_result"
    }
   ],
   "source": [
    "games.head()"
   ]
  },
  {
   "cell_type": "markdown",
   "id": "30f4bbc9",
   "metadata": {},
   "source": [
    "### 4 - Data analysis:\n",
    "- 1 - See how many games were released in different years. Is data for all periods important?\n",
    "- 2 - See how sales have changed by platform. Select the platforms with the highest total sales and plot the distribution by year. How long does it take for new platforms to appear and old ones to disappear?\n",
    "\n",
    "Take the data for the relevant actual period. Determine the current period yourself as a result of the study of the previous questions. The main factor is that these data will help build a forecast for 2017. Do not include data from previous years in your work.\n",
    "- 3 - Which platforms are leading in sales, rising or falling? Pick a few potentially profitable platforms.\n",
    "- 4 - Plot a box-and-whisker plot of global game sales by platform. Describe the result.\n",
    "- 5 - See how sales within one popular platform are affected by user and critic reviews. Build a scatterplot and calculate the correlation between reviews and sales. Formulate conclusions. Correlate findings with game sales on other platforms\n",
    "- 6 - Look at the overall distribution of games by genre. What about the most profitable genres? Do genres with high and low sales stand out?"
   ]
  },
  {
   "cell_type": "markdown",
   "id": "45e99bfe",
   "metadata": {},
   "source": [
    "**1 - See how many games were released in different years. Is data for all periods important?**"
   ]
  },
  {
   "cell_type": "code",
   "execution_count": 43,
   "id": "2eb2bd9d",
   "metadata": {},
   "outputs": [],
   "source": [
    "# Create a table of data of interest to us:\n",
    "year_games_count = games.groupby('year_of_release')['name'].count().reset_index()\n",
    "#year_games_count\n"
   ]
  },
  {
   "cell_type": "code",
   "execution_count": 44,
   "id": "7a85133c",
   "metadata": {},
   "outputs": [
    {
     "data": {
      "image/png": "[encoded data removed]",
      "text/plain": [
       "<Figure size 1080x504 with 1 Axes>"
      ]
     },
     "metadata": {
      "needs_background": "light"
     },
     "output_type": "display_data"
    }
   ],
   "source": [
    "# Visualize the result:\n",
    "plt.figure(figsize=(15,7))\n",
    "sns.barplot(x='year_of_release', y='name', data=year_games_count)\n",
    "plt.title('Number of games by year', fontsize=15)\n",
    "plt.xlabel('Release year', fontsize=10)\n",
    "plt.ylabel('Number of games', fontsize=10)\n",
    "plt.xticks(rotation=90)\n",
    "plt.show()"
   ]
  },
  {
   "cell_type": "code",
   "execution_count": 45,
   "id": "f2c7ce20",
   "metadata": {},
   "outputs": [
    {
     "data": {
      "image/png": "[encoded data removed]",
      "text/plain": [
       "<Figure size 1080x504 with 1 Axes>"
      ]
     },
     "metadata": {
      "needs_background": "light"
     },
     "output_type": "display_data"
    }
   ],
   "source": [
    "# Let's see how sales volumes change over the period under consideration:\n",
    "year_games_sum = games.groupby('year_of_release')['total_sales'].sum().reset_index()\n",
    "\n",
    "# Visualize the result:\n",
    "plt.figure(figsize=(15,7))\n",
    "sns.barplot(x='year_of_release', y='total_sales', data=year_games_sum)\n",
    "plt.title('Sales amount by years', fontsize=15)\n",
    "plt.xlabel('Release year', fontsize=10)\n",
    "plt.ylabel('Sales amount', fontsize=10)\n",
    "plt.xticks(rotation=90)\n",
    "plt.show()"
   ]
  },
  {
   "cell_type": "markdown",
   "id": "adeea9e2",
   "metadata": {},
   "source": [
    "*I think that from the point of view of the task set in the project \"Identify the patterns that determine the success of the game, which will allow you to bet on a potentially popular product and plan advertising campaigns.\" data on the number of games released in a given year is of historical value only. The only practical benefit we can draw from this data is the fact that the peak of the game development trend has passed (it was in 2007-2008). Now there is a downtrend. Less and less games are being released every year and, unfortunately, sales volumes are falling similarly to the trend of released games."
   ]
  },
  {
   "cell_type": "markdown",
   "id": "1fe4394a",
   "metadata": {},
   "source": [
    "**2 - See how sales have changed by platform. Select the platforms with the highest total sales and plot the distribution by year. How long does it take for new platforms to appear and old ones to disappear?**"
   ]
  },
  {
   "cell_type": "code",
   "execution_count": 46,
   "id": "f3e75842",
   "metadata": {},
   "outputs": [
    {
     "data": {
      "text/html": [
       "<div>\n",
       "<style scoped>\n",
       "    .dataframe tbody tr th:only-of-type {\n",
       "        vertical-align: middle;\n",
       "    }\n",
       "\n",
       "    .dataframe tbody tr th {\n",
       "        vertical-align: top;\n",
       "    }\n",
       "\n",
       "    .dataframe thead th {\n",
       "        text-align: right;\n",
       "    }\n",
       "</style>\n",
       "<table border=\"1\" class=\"dataframe\">\n",
       "  <thead>\n",
       "    <tr style=\"text-align: right;\">\n",
       "      <th></th>\n",
       "      <th>platform</th>\n",
       "      <th>total_sales</th>\n",
       "    </tr>\n",
       "  </thead>\n",
       "  <tbody>\n",
       "    <tr>\n",
       "      <th>16</th>\n",
       "      <td>PS2</td>\n",
       "      <td>1233.56</td>\n",
       "    </tr>\n",
       "    <tr>\n",
       "      <th>28</th>\n",
       "      <td>X360</td>\n",
       "      <td>961.24</td>\n",
       "    </tr>\n",
       "    <tr>\n",
       "      <th>17</th>\n",
       "      <td>PS3</td>\n",
       "      <td>931.33</td>\n",
       "    </tr>\n",
       "    <tr>\n",
       "      <th>26</th>\n",
       "      <td>Wii</td>\n",
       "      <td>891.18</td>\n",
       "    </tr>\n",
       "    <tr>\n",
       "      <th>4</th>\n",
       "      <td>DS</td>\n",
       "      <td>802.78</td>\n",
       "    </tr>\n",
       "    <tr>\n",
       "      <th>15</th>\n",
       "      <td>PS</td>\n",
       "      <td>727.58</td>\n",
       "    </tr>\n",
       "    <tr>\n",
       "      <th>18</th>\n",
       "      <td>PS4</td>\n",
       "      <td>314.14</td>\n",
       "    </tr>\n",
       "    <tr>\n",
       "      <th>6</th>\n",
       "      <td>GBA</td>\n",
       "      <td>312.88</td>\n",
       "    </tr>\n",
       "    <tr>\n",
       "      <th>19</th>\n",
       "      <td>PSP</td>\n",
       "      <td>289.53</td>\n",
       "    </tr>\n",
       "    <tr>\n",
       "      <th>2</th>\n",
       "      <td>3DS</td>\n",
       "      <td>257.81</td>\n",
       "    </tr>\n",
       "    <tr>\n",
       "      <th>13</th>\n",
       "      <td>PC</td>\n",
       "      <td>255.76</td>\n",
       "    </tr>\n",
       "    <tr>\n",
       "      <th>5</th>\n",
       "      <td>GB</td>\n",
       "      <td>254.43</td>\n",
       "    </tr>\n",
       "    <tr>\n",
       "      <th>29</th>\n",
       "      <td>XB</td>\n",
       "      <td>251.57</td>\n",
       "    </tr>\n",
       "    <tr>\n",
       "      <th>11</th>\n",
       "      <td>NES</td>\n",
       "      <td>251.05</td>\n",
       "    </tr>\n",
       "    <tr>\n",
       "      <th>10</th>\n",
       "      <td>N64</td>\n",
       "      <td>218.01</td>\n",
       "    </tr>\n",
       "    <tr>\n",
       "      <th>23</th>\n",
       "      <td>SNES</td>\n",
       "      <td>200.04</td>\n",
       "    </tr>\n",
       "    <tr>\n",
       "      <th>7</th>\n",
       "      <td>GC</td>\n",
       "      <td>196.73</td>\n",
       "    </tr>\n",
       "    <tr>\n",
       "      <th>30</th>\n",
       "      <td>XOne</td>\n",
       "      <td>159.32</td>\n",
       "    </tr>\n",
       "    <tr>\n",
       "      <th>0</th>\n",
       "      <td>2600</td>\n",
       "      <td>86.48</td>\n",
       "    </tr>\n",
       "    <tr>\n",
       "      <th>27</th>\n",
       "      <td>WiiU</td>\n",
       "      <td>82.19</td>\n",
       "    </tr>\n",
       "    <tr>\n",
       "      <th>20</th>\n",
       "      <td>PSV</td>\n",
       "      <td>53.81</td>\n",
       "    </tr>\n",
       "    <tr>\n",
       "      <th>21</th>\n",
       "      <td>SAT</td>\n",
       "      <td>33.59</td>\n",
       "    </tr>\n",
       "    <tr>\n",
       "      <th>8</th>\n",
       "      <td>GEN</td>\n",
       "      <td>28.35</td>\n",
       "    </tr>\n",
       "    <tr>\n",
       "      <th>3</th>\n",
       "      <td>DC</td>\n",
       "      <td>15.95</td>\n",
       "    </tr>\n",
       "    <tr>\n",
       "      <th>22</th>\n",
       "      <td>SCD</td>\n",
       "      <td>1.86</td>\n",
       "    </tr>\n",
       "    <tr>\n",
       "      <th>12</th>\n",
       "      <td>NG</td>\n",
       "      <td>1.44</td>\n",
       "    </tr>\n",
       "    <tr>\n",
       "      <th>25</th>\n",
       "      <td>WS</td>\n",
       "      <td>1.42</td>\n",
       "    </tr>\n",
       "    <tr>\n",
       "      <th>24</th>\n",
       "      <td>TG16</td>\n",
       "      <td>0.16</td>\n",
       "    </tr>\n",
       "    <tr>\n",
       "      <th>1</th>\n",
       "      <td>3DO</td>\n",
       "      <td>0.10</td>\n",
       "    </tr>\n",
       "    <tr>\n",
       "      <th>9</th>\n",
       "      <td>GG</td>\n",
       "      <td>0.04</td>\n",
       "    </tr>\n",
       "    <tr>\n",
       "      <th>14</th>\n",
       "      <td>PCFX</td>\n",
       "      <td>0.03</td>\n",
       "    </tr>\n",
       "  </tbody>\n",
       "</table>\n",
       "</div>"
      ],
      "text/plain": [
       "   platform  total_sales\n",
       "16      PS2      1233.56\n",
       "28     X360       961.24\n",
       "17      PS3       931.33\n",
       "26      Wii       891.18\n",
       "4        DS       802.78\n",
       "15       PS       727.58\n",
       "18      PS4       314.14\n",
       "6       GBA       312.88\n",
       "19      PSP       289.53\n",
       "2       3DS       257.81\n",
       "13       PC       255.76\n",
       "5        GB       254.43\n",
       "29       XB       251.57\n",
       "11      NES       251.05\n",
       "10      N64       218.01\n",
       "23     SNES       200.04\n",
       "7        GC       196.73\n",
       "30     XOne       159.32\n",
       "0      2600        86.48\n",
       "27     WiiU        82.19\n",
       "20      PSV        53.81\n",
       "21      SAT        33.59\n",
       "8       GEN        28.35\n",
       "3        DC        15.95\n",
       "22      SCD         1.86\n",
       "12       NG         1.44\n",
       "25       WS         1.42\n",
       "24     TG16         0.16\n",
       "1       3DO         0.10\n",
       "9        GG         0.04\n",
       "14     PCFX         0.03"
      ]
     },
     "execution_count": 46,
     "metadata": {},
     "output_type": "execute_result"
    }
   ],
   "source": [
    "# Do the same for platform data:\n",
    "platform_games_count = games.groupby('platform')['total_sales'].sum().reset_index()\n",
    "platform_games_count = platform_games_count.sort_values('total_sales', ascending = False)\n",
    "platform_games_count"
   ]
  },
  {
   "cell_type": "code",
   "execution_count": 47,
   "id": "eea651f6",
   "metadata": {},
   "outputs": [
    {
     "data": {
      "image/png": "[encoded data removed]",
      "text/plain": [
       "<Figure size 1080x504 with 1 Axes>"
      ]
     },
     "metadata": {
      "needs_background": "light"
     },
     "output_type": "display_data"
    }
   ],
   "source": [
    "# Visualize the result:\n",
    "plt.figure(figsize=(15,7))\n",
    "sns.barplot(x='platform', y='total_sales', data=platform_games_count)\n",
    "plt.title('Sales across platforms', fontsize=15)\n",
    "plt.xlabel('Platforms', fontsize=10)\n",
    "plt.ylabel('Sales Amount', fontsize=10)\n",
    "plt.xticks(rotation=90)\n",
    "plt.show()"
   ]
  },
  {
   "cell_type": "code",
   "execution_count": 48,
   "id": "7ae06c59",
   "metadata": {},
   "outputs": [],
   "source": [
    "# Delete entry 1985\n",
    "games = games[~((games['year_of_release'] == 1985) & (games['platform'] == 'DS'))]"
   ]
  },
  {
   "cell_type": "code",
   "execution_count": 49,
   "id": "2cf6dfef",
   "metadata": {},
   "outputs": [
    {
     "data": {
      "text/html": [
       "<div>\n",
       "<style scoped>\n",
       "    .dataframe tbody tr th:only-of-type {\n",
       "        vertical-align: middle;\n",
       "    }\n",
       "\n",
       "    .dataframe tbody tr th {\n",
       "        vertical-align: top;\n",
       "    }\n",
       "\n",
       "    .dataframe thead th {\n",
       "        text-align: right;\n",
       "    }\n",
       "</style>\n",
       "<table border=\"1\" class=\"dataframe\">\n",
       "  <thead>\n",
       "    <tr style=\"text-align: right;\">\n",
       "      <th></th>\n",
       "      <th></th>\n",
       "      <th>total_sales</th>\n",
       "    </tr>\n",
       "    <tr>\n",
       "      <th>platform</th>\n",
       "      <th>year_of_release</th>\n",
       "      <th></th>\n",
       "    </tr>\n",
       "  </thead>\n",
       "  <tbody>\n",
       "    <tr>\n",
       "      <th rowspan=\"5\" valign=\"top\">DS</th>\n",
       "      <th>2004</th>\n",
       "      <td>17.27</td>\n",
       "    </tr>\n",
       "    <tr>\n",
       "      <th>2005</th>\n",
       "      <td>130.14</td>\n",
       "    </tr>\n",
       "    <tr>\n",
       "      <th>2006</th>\n",
       "      <td>119.81</td>\n",
       "    </tr>\n",
       "    <tr>\n",
       "      <th>2007</th>\n",
       "      <td>146.94</td>\n",
       "    </tr>\n",
       "    <tr>\n",
       "      <th>2008</th>\n",
       "      <td>145.31</td>\n",
       "    </tr>\n",
       "    <tr>\n",
       "      <th>...</th>\n",
       "      <th>...</th>\n",
       "      <td>...</td>\n",
       "    </tr>\n",
       "    <tr>\n",
       "      <th rowspan=\"5\" valign=\"top\">X360</th>\n",
       "      <th>2012</th>\n",
       "      <td>99.74</td>\n",
       "    </tr>\n",
       "    <tr>\n",
       "      <th>2013</th>\n",
       "      <td>88.58</td>\n",
       "    </tr>\n",
       "    <tr>\n",
       "      <th>2014</th>\n",
       "      <td>34.74</td>\n",
       "    </tr>\n",
       "    <tr>\n",
       "      <th>2015</th>\n",
       "      <td>11.96</td>\n",
       "    </tr>\n",
       "    <tr>\n",
       "      <th>2016</th>\n",
       "      <td>1.52</td>\n",
       "    </tr>\n",
       "  </tbody>\n",
       "</table>\n",
       "<p>66 rows × 1 columns</p>\n",
       "</div>"
      ],
      "text/plain": [
       "                          total_sales\n",
       "platform year_of_release             \n",
       "DS       2004                   17.27\n",
       "         2005                  130.14\n",
       "         2006                  119.81\n",
       "         2007                  146.94\n",
       "         2008                  145.31\n",
       "...                               ...\n",
       "X360     2012                   99.74\n",
       "         2013                   88.58\n",
       "         2014                   34.74\n",
       "         2015                   11.96\n",
       "         2016                    1.52\n",
       "\n",
       "[66 rows x 1 columns]"
      ]
     },
     "execution_count": 49,
     "metadata": {},
     "output_type": "execute_result"
    }
   ],
   "source": [
    "# As the most successful platforms, we will take the first 6 platforms from the sorted list: PS2, X360, PS3, Wii, DS, PS.\n",
    "# Let's build the distribution by years for these platforms:\n",
    " \n",
    "top_platform = ['PS2','X360','DS','PS3','Wii','PS']\n",
    "\n",
    "top_platform_year_sales = (games.query('platform == @top_platform').pivot_table(\n",
    "    index=['platform','year_of_release'], values='total_sales',aggfunc='sum', ))\n",
    "\n",
    "top_platform_year_sales\n"
   ]
  },
  {
   "cell_type": "code",
   "execution_count": 50,
   "id": "7bd3fe5a",
   "metadata": {},
   "outputs": [
    {
     "data": {
      "image/png": "[encoded data removed]",
      "text/plain": [
       "<Figure size 1080x504 with 1 Axes>"
      ]
     },
     "metadata": {
      "needs_background": "light"
     },
     "output_type": "display_data"
    }
   ],
   "source": [
    "# build a graph for each of the top platforms\n",
    "turbo_cm = plt.cm.get_cmap('turbo')\n",
    "colors = [turbo_cm(v) for v in np.linspace(0,1,len(top_platform_year_sales))]\n",
    "\n",
    "top_platform_year_sales.plot(y = 'total_sales', kind='bar', color = colors, figsize = (15, 7)) \n",
    "\n",
    " \n",
    "plt.xlabel(\"Year and platform name\", fontsize=15)\n",
    "plt.ylabel(\"Sales Amount\", fontsize=15)\n",
    "plt.title(\"Distribution of sales of top platforms by years\", fontsize=20)\n",
    "plt.show()\n"
   ]
  },
  {
   "cell_type": "code",
   "execution_count": 51,
   "id": "7f7e2832",
   "metadata": {},
   "outputs": [
    {
     "data": {
      "text/html": [
       "<div>\n",
       "<style scoped>\n",
       "    .dataframe tbody tr th:only-of-type {\n",
       "        vertical-align: middle;\n",
       "    }\n",
       "\n",
       "    .dataframe tbody tr th {\n",
       "        vertical-align: top;\n",
       "    }\n",
       "\n",
       "    .dataframe thead tr th {\n",
       "        text-align: left;\n",
       "    }\n",
       "</style>\n",
       "<table border=\"1\" class=\"dataframe\">\n",
       "  <thead>\n",
       "    <tr>\n",
       "      <th></th>\n",
       "      <th>platform</th>\n",
       "      <th colspan=\"2\" halign=\"left\">year_of_release</th>\n",
       "      <th>timelife</th>\n",
       "    </tr>\n",
       "    <tr>\n",
       "      <th></th>\n",
       "      <th></th>\n",
       "      <th>max</th>\n",
       "      <th>min</th>\n",
       "      <th></th>\n",
       "    </tr>\n",
       "  </thead>\n",
       "  <tbody>\n",
       "    <tr>\n",
       "      <th>2</th>\n",
       "      <td>3DS</td>\n",
       "      <td>2016</td>\n",
       "      <td>2011</td>\n",
       "      <td>5</td>\n",
       "    </tr>\n",
       "    <tr>\n",
       "      <th>17</th>\n",
       "      <td>PS3</td>\n",
       "      <td>2016</td>\n",
       "      <td>2006</td>\n",
       "      <td>10</td>\n",
       "    </tr>\n",
       "    <tr>\n",
       "      <th>18</th>\n",
       "      <td>PS4</td>\n",
       "      <td>2016</td>\n",
       "      <td>2013</td>\n",
       "      <td>3</td>\n",
       "    </tr>\n",
       "    <tr>\n",
       "      <th>20</th>\n",
       "      <td>PSV</td>\n",
       "      <td>2016</td>\n",
       "      <td>2011</td>\n",
       "      <td>5</td>\n",
       "    </tr>\n",
       "    <tr>\n",
       "      <th>26</th>\n",
       "      <td>Wii</td>\n",
       "      <td>2016</td>\n",
       "      <td>2006</td>\n",
       "      <td>10</td>\n",
       "    </tr>\n",
       "    <tr>\n",
       "      <th>27</th>\n",
       "      <td>WiiU</td>\n",
       "      <td>2016</td>\n",
       "      <td>2012</td>\n",
       "      <td>4</td>\n",
       "    </tr>\n",
       "    <tr>\n",
       "      <th>28</th>\n",
       "      <td>X360</td>\n",
       "      <td>2016</td>\n",
       "      <td>2005</td>\n",
       "      <td>11</td>\n",
       "    </tr>\n",
       "    <tr>\n",
       "      <th>30</th>\n",
       "      <td>XOne</td>\n",
       "      <td>2016</td>\n",
       "      <td>2013</td>\n",
       "      <td>3</td>\n",
       "    </tr>\n",
       "  </tbody>\n",
       "</table>\n",
       "</div>"
      ],
      "text/plain": [
       "   platform year_of_release       timelife\n",
       "                        max   min         \n",
       "2       3DS            2016  2011        5\n",
       "17      PS3            2016  2006       10\n",
       "18      PS4            2016  2013        3\n",
       "20      PSV            2016  2011        5\n",
       "26      Wii            2016  2006       10\n",
       "27     WiiU            2016  2012        4\n",
       "28     X360            2016  2005       11\n",
       "30     XOne            2016  2013        3"
      ]
     },
     "execution_count": 51,
     "metadata": {},
     "output_type": "execute_result"
    }
   ],
   "source": [
    "lifetime_games = games.pivot_table(index='platform', aggfunc={'year_of_release': ['min','max']}).reset_index()\n",
    "lifetime_games['timelife'] = lifetime_games['year_of_release','max'] - lifetime_games['year_of_release','min']\n",
    "\n",
    "lifetime_games = lifetime_games[lifetime_games['year_of_release','min'] >=2005]\n",
    "lifetime_games"
   ]
  },
  {
   "cell_type": "code",
   "execution_count": 52,
   "id": "21229dd9",
   "metadata": {},
   "outputs": [
    {
     "data": {
      "text/plain": [
       "count     8.000000\n",
       "mean      6.375000\n",
       "std       3.377975\n",
       "min       3.000000\n",
       "25%       3.750000\n",
       "50%       5.000000\n",
       "75%      10.000000\n",
       "max      11.000000\n",
       "Name: timelife, dtype: float64"
      ]
     },
     "execution_count": 52,
     "metadata": {},
     "output_type": "execute_result"
    }
   ],
   "source": [
    "lifetime_games['timelife'].describe()"
   ]
  },
  {
   "cell_type": "code",
   "execution_count": 53,
   "id": "9cfa1432",
   "metadata": {
    "scrolled": true
   },
   "outputs": [
    {
     "data": {
      "text/plain": [
       "5.0"
      ]
     },
     "execution_count": 53,
     "metadata": {},
     "output_type": "execute_result"
    }
   ],
   "source": [
    "lifetime_games['timelife'].median()"
   ]
  },
  {
   "cell_type": "markdown",
   "id": "f8688c24",
   "metadata": {},
   "source": [
    "*Conclusion:*\n",
    "\n",
    "- Answering the question \"For what characteristic period do new platforms appear and old platforms disappear?\" we can say that over the past 10 years (we are considering the segment from 2006), we have 7 new platforms, and we can also say that the median life expectancy of 1 platform is 5 years.\n",
    "\n",
    "- Most successful platforms with the highest total sales: PS2, X360, PS3, Wii, PS. Their total revenue and life expectancy are:\n",
    "   - PS2 - 1233.56 million - 11 years\n",
    "   - X360 - 961.24 million - 11 years\n",
    "   - PS3 - 928.77 million - 10 years\n",
    "   - Wii - 891.18 million - 10 years\n",
    "   - PS - 727.58 million - 9 years"
   ]
  },
  {
   "cell_type": "markdown",
   "id": "4369303d",
   "metadata": {},
   "source": [
    "**3- Which platforms are leading in sales, rising or falling? Select multiple potentially profitable platforms.**\n",
    "\n",
    "*Take the data for the relevant actual period. Determine the current period yourself as a result of the study of the previous questions. The main factor is that these data will help build a forecast for 2017. Do not include data from previous years in your work.*"
   ]
  },
  {
   "cell_type": "code",
   "execution_count": 54,
   "id": "c9ec15b0",
   "metadata": {},
   "outputs": [
    {
     "data": {
      "text/plain": [
       "array(['PS4', '3DS', 'XOne', 'WiiU', 'PS3', 'PC', 'X360', 'PSV', 'Wii'],\n",
       "      dtype=object)"
      ]
     },
     "execution_count": 54,
     "metadata": {},
     "output_type": "execute_result"
    }
   ],
   "source": [
    "# To continue the study, we will take those platforms that continue to operate at the time of 2016\n",
    "\n",
    "actual_platforms = games[games['year_of_release'] >= 2016]\n",
    "actual_platforms['platform'].unique()"
   ]
  },
  {
   "cell_type": "code",
   "execution_count": 55,
   "id": "fc4490cb",
   "metadata": {},
   "outputs": [
    {
     "data": {
      "text/html": [
       "<div>\n",
       "<style scoped>\n",
       "    .dataframe tbody tr th:only-of-type {\n",
       "        vertical-align: middle;\n",
       "    }\n",
       "\n",
       "    .dataframe tbody tr th {\n",
       "        vertical-align: top;\n",
       "    }\n",
       "\n",
       "    .dataframe thead th {\n",
       "        text-align: right;\n",
       "    }\n",
       "</style>\n",
       "<table border=\"1\" class=\"dataframe\">\n",
       "  <thead>\n",
       "    <tr style=\"text-align: right;\">\n",
       "      <th></th>\n",
       "      <th>name</th>\n",
       "      <th>platform</th>\n",
       "      <th>year_of_release</th>\n",
       "      <th>genre</th>\n",
       "      <th>na_sales</th>\n",
       "      <th>eu_sales</th>\n",
       "      <th>jp_sales</th>\n",
       "      <th>other_sales</th>\n",
       "      <th>critic_score</th>\n",
       "      <th>user_score</th>\n",
       "      <th>rating</th>\n",
       "      <th>total_sales</th>\n",
       "    </tr>\n",
       "  </thead>\n",
       "  <tbody>\n",
       "    <tr>\n",
       "      <th>31</th>\n",
       "      <td>Call of Duty: Black Ops 3</td>\n",
       "      <td>PS4</td>\n",
       "      <td>2015</td>\n",
       "      <td>Shooter</td>\n",
       "      <td>6.03</td>\n",
       "      <td>5.86</td>\n",
       "      <td>0.36</td>\n",
       "      <td>2.38</td>\n",
       "      <td>NaN</td>\n",
       "      <td>NaN</td>\n",
       "      <td>mix</td>\n",
       "      <td>14.63</td>\n",
       "    </tr>\n",
       "    <tr>\n",
       "      <th>42</th>\n",
       "      <td>Grand Theft Auto V</td>\n",
       "      <td>PS4</td>\n",
       "      <td>2014</td>\n",
       "      <td>Action</td>\n",
       "      <td>3.96</td>\n",
       "      <td>6.31</td>\n",
       "      <td>0.38</td>\n",
       "      <td>1.97</td>\n",
       "      <td>97.0</td>\n",
       "      <td>8.3</td>\n",
       "      <td>M</td>\n",
       "      <td>12.62</td>\n",
       "    </tr>\n",
       "    <tr>\n",
       "      <th>47</th>\n",
       "      <td>Pokemon Omega Ruby/Pokemon Alpha Sapphire</td>\n",
       "      <td>3DS</td>\n",
       "      <td>2014</td>\n",
       "      <td>Role-Playing</td>\n",
       "      <td>4.35</td>\n",
       "      <td>3.49</td>\n",
       "      <td>3.10</td>\n",
       "      <td>0.74</td>\n",
       "      <td>NaN</td>\n",
       "      <td>NaN</td>\n",
       "      <td>mix</td>\n",
       "      <td>11.68</td>\n",
       "    </tr>\n",
       "    <tr>\n",
       "      <th>77</th>\n",
       "      <td>FIFA 16</td>\n",
       "      <td>PS4</td>\n",
       "      <td>2015</td>\n",
       "      <td>Sports</td>\n",
       "      <td>1.12</td>\n",
       "      <td>6.12</td>\n",
       "      <td>0.06</td>\n",
       "      <td>1.28</td>\n",
       "      <td>82.0</td>\n",
       "      <td>4.3</td>\n",
       "      <td>E</td>\n",
       "      <td>8.58</td>\n",
       "    </tr>\n",
       "    <tr>\n",
       "      <th>87</th>\n",
       "      <td>Star Wars Battlefront (2015)</td>\n",
       "      <td>PS4</td>\n",
       "      <td>2015</td>\n",
       "      <td>Shooter</td>\n",
       "      <td>2.99</td>\n",
       "      <td>3.49</td>\n",
       "      <td>0.22</td>\n",
       "      <td>1.28</td>\n",
       "      <td>NaN</td>\n",
       "      <td>NaN</td>\n",
       "      <td>mix</td>\n",
       "      <td>7.98</td>\n",
       "    </tr>\n",
       "    <tr>\n",
       "      <th>...</th>\n",
       "      <td>...</td>\n",
       "      <td>...</td>\n",
       "      <td>...</td>\n",
       "      <td>...</td>\n",
       "      <td>...</td>\n",
       "      <td>...</td>\n",
       "      <td>...</td>\n",
       "      <td>...</td>\n",
       "      <td>...</td>\n",
       "      <td>...</td>\n",
       "      <td>...</td>\n",
       "      <td>...</td>\n",
       "    </tr>\n",
       "    <tr>\n",
       "      <th>16703</th>\n",
       "      <td>Strawberry Nauts</td>\n",
       "      <td>PSV</td>\n",
       "      <td>2016</td>\n",
       "      <td>Adventure</td>\n",
       "      <td>0.00</td>\n",
       "      <td>0.00</td>\n",
       "      <td>0.01</td>\n",
       "      <td>0.00</td>\n",
       "      <td>NaN</td>\n",
       "      <td>NaN</td>\n",
       "      <td>mix</td>\n",
       "      <td>0.01</td>\n",
       "    </tr>\n",
       "    <tr>\n",
       "      <th>16707</th>\n",
       "      <td>Aiyoku no Eustia</td>\n",
       "      <td>PSV</td>\n",
       "      <td>2014</td>\n",
       "      <td>Misc</td>\n",
       "      <td>0.00</td>\n",
       "      <td>0.00</td>\n",
       "      <td>0.01</td>\n",
       "      <td>0.00</td>\n",
       "      <td>NaN</td>\n",
       "      <td>NaN</td>\n",
       "      <td>mix</td>\n",
       "      <td>0.01</td>\n",
       "    </tr>\n",
       "    <tr>\n",
       "      <th>16710</th>\n",
       "      <td>Samurai Warriors: Sanada Maru</td>\n",
       "      <td>PS3</td>\n",
       "      <td>2016</td>\n",
       "      <td>Action</td>\n",
       "      <td>0.00</td>\n",
       "      <td>0.00</td>\n",
       "      <td>0.01</td>\n",
       "      <td>0.00</td>\n",
       "      <td>NaN</td>\n",
       "      <td>NaN</td>\n",
       "      <td>mix</td>\n",
       "      <td>0.01</td>\n",
       "    </tr>\n",
       "    <tr>\n",
       "      <th>16712</th>\n",
       "      <td>Haitaka no Psychedelica</td>\n",
       "      <td>PSV</td>\n",
       "      <td>2016</td>\n",
       "      <td>Adventure</td>\n",
       "      <td>0.00</td>\n",
       "      <td>0.00</td>\n",
       "      <td>0.01</td>\n",
       "      <td>0.00</td>\n",
       "      <td>NaN</td>\n",
       "      <td>NaN</td>\n",
       "      <td>mix</td>\n",
       "      <td>0.01</td>\n",
       "    </tr>\n",
       "    <tr>\n",
       "      <th>16714</th>\n",
       "      <td>Winning Post 8 2016</td>\n",
       "      <td>PSV</td>\n",
       "      <td>2016</td>\n",
       "      <td>Simulation</td>\n",
       "      <td>0.00</td>\n",
       "      <td>0.00</td>\n",
       "      <td>0.01</td>\n",
       "      <td>0.00</td>\n",
       "      <td>NaN</td>\n",
       "      <td>NaN</td>\n",
       "      <td>mix</td>\n",
       "      <td>0.01</td>\n",
       "    </tr>\n",
       "  </tbody>\n",
       "</table>\n",
       "<p>1676 rows × 12 columns</p>\n",
       "</div>"
      ],
      "text/plain": [
       "                                            name platform  year_of_release  \\\n",
       "31                     Call of Duty: Black Ops 3      PS4             2015   \n",
       "42                            Grand Theft Auto V      PS4             2014   \n",
       "47     Pokemon Omega Ruby/Pokemon Alpha Sapphire      3DS             2014   \n",
       "77                                       FIFA 16      PS4             2015   \n",
       "87                  Star Wars Battlefront (2015)      PS4             2015   \n",
       "...                                          ...      ...              ...   \n",
       "16703                           Strawberry Nauts      PSV             2016   \n",
       "16707                           Aiyoku no Eustia      PSV             2014   \n",
       "16710              Samurai Warriors: Sanada Maru      PS3             2016   \n",
       "16712                    Haitaka no Psychedelica      PSV             2016   \n",
       "16714                        Winning Post 8 2016      PSV             2016   \n",
       "\n",
       "              genre  na_sales  eu_sales  jp_sales  other_sales  critic_score  \\\n",
       "31          Shooter      6.03      5.86      0.36         2.38           NaN   \n",
       "42           Action      3.96      6.31      0.38         1.97          97.0   \n",
       "47     Role-Playing      4.35      3.49      3.10         0.74           NaN   \n",
       "77           Sports      1.12      6.12      0.06         1.28          82.0   \n",
       "87          Shooter      2.99      3.49      0.22         1.28           NaN   \n",
       "...             ...       ...       ...       ...          ...           ...   \n",
       "16703     Adventure      0.00      0.00      0.01         0.00           NaN   \n",
       "16707          Misc      0.00      0.00      0.01         0.00           NaN   \n",
       "16710        Action      0.00      0.00      0.01         0.00           NaN   \n",
       "16712     Adventure      0.00      0.00      0.01         0.00           NaN   \n",
       "16714    Simulation      0.00      0.00      0.01         0.00           NaN   \n",
       "\n",
       "       user_score rating  total_sales  \n",
       "31            NaN    mix        14.63  \n",
       "42            8.3      M        12.62  \n",
       "47            NaN    mix        11.68  \n",
       "77            4.3      E         8.58  \n",
       "87            NaN    mix         7.98  \n",
       "...           ...    ...          ...  \n",
       "16703         NaN    mix         0.01  \n",
       "16707         NaN    mix         0.01  \n",
       "16710         NaN    mix         0.01  \n",
       "16712         NaN    mix         0.01  \n",
       "16714         NaN    mix         0.01  \n",
       "\n",
       "[1676 rows x 12 columns]"
      ]
     },
     "execution_count": 55,
     "metadata": {},
     "output_type": "execute_result"
    }
   ],
   "source": [
    "# There are 9 such platforms. Let's take data on these platforms starting from 2014 (we will take 2 years for the current period):\n",
    "actual_platforms_list = actual_platforms['platform']\n",
    "\n",
    "actual_platforms_research = games.query('platform.isin(@actual_platforms_list)')\n",
    "actual_platforms_research = actual_platforms_research[actual_platforms_research['year_of_release'] >= 2014 ]\n",
    "actual_platforms_research\n"
   ]
  },
  {
   "cell_type": "code",
   "execution_count": 56,
   "id": "a2c9eea4",
   "metadata": {},
   "outputs": [
    {
     "data": {
      "text/html": [
       "<div>\n",
       "<style scoped>\n",
       "    .dataframe tbody tr th:only-of-type {\n",
       "        vertical-align: middle;\n",
       "    }\n",
       "\n",
       "    .dataframe tbody tr th {\n",
       "        vertical-align: top;\n",
       "    }\n",
       "\n",
       "    .dataframe thead th {\n",
       "        text-align: right;\n",
       "    }\n",
       "</style>\n",
       "<table border=\"1\" class=\"dataframe\">\n",
       "  <thead>\n",
       "    <tr style=\"text-align: right;\">\n",
       "      <th></th>\n",
       "      <th></th>\n",
       "      <th>total_sales</th>\n",
       "    </tr>\n",
       "    <tr>\n",
       "      <th>platform</th>\n",
       "      <th>year_of_release</th>\n",
       "      <th></th>\n",
       "    </tr>\n",
       "  </thead>\n",
       "  <tbody>\n",
       "    <tr>\n",
       "      <th rowspan=\"3\" valign=\"top\">3DS</th>\n",
       "      <th>2014</th>\n",
       "      <td>43.76</td>\n",
       "    </tr>\n",
       "    <tr>\n",
       "      <th>2015</th>\n",
       "      <td>27.78</td>\n",
       "    </tr>\n",
       "    <tr>\n",
       "      <th>2016</th>\n",
       "      <td>15.14</td>\n",
       "    </tr>\n",
       "    <tr>\n",
       "      <th rowspan=\"3\" valign=\"top\">PC</th>\n",
       "      <th>2014</th>\n",
       "      <td>13.28</td>\n",
       "    </tr>\n",
       "    <tr>\n",
       "      <th>2015</th>\n",
       "      <td>8.52</td>\n",
       "    </tr>\n",
       "    <tr>\n",
       "      <th>2016</th>\n",
       "      <td>5.25</td>\n",
       "    </tr>\n",
       "    <tr>\n",
       "      <th rowspan=\"3\" valign=\"top\">PS3</th>\n",
       "      <th>2014</th>\n",
       "      <td>47.76</td>\n",
       "    </tr>\n",
       "    <tr>\n",
       "      <th>2015</th>\n",
       "      <td>16.82</td>\n",
       "    </tr>\n",
       "    <tr>\n",
       "      <th>2016</th>\n",
       "      <td>3.60</td>\n",
       "    </tr>\n",
       "    <tr>\n",
       "      <th rowspan=\"3\" valign=\"top\">PS4</th>\n",
       "      <th>2014</th>\n",
       "      <td>100.00</td>\n",
       "    </tr>\n",
       "    <tr>\n",
       "      <th>2015</th>\n",
       "      <td>118.90</td>\n",
       "    </tr>\n",
       "    <tr>\n",
       "      <th>2016</th>\n",
       "      <td>69.25</td>\n",
       "    </tr>\n",
       "    <tr>\n",
       "      <th rowspan=\"3\" valign=\"top\">PSV</th>\n",
       "      <th>2014</th>\n",
       "      <td>11.90</td>\n",
       "    </tr>\n",
       "    <tr>\n",
       "      <th>2015</th>\n",
       "      <td>6.25</td>\n",
       "    </tr>\n",
       "    <tr>\n",
       "      <th>2016</th>\n",
       "      <td>4.25</td>\n",
       "    </tr>\n",
       "    <tr>\n",
       "      <th rowspan=\"3\" valign=\"top\">Wii</th>\n",
       "      <th>2014</th>\n",
       "      <td>3.75</td>\n",
       "    </tr>\n",
       "    <tr>\n",
       "      <th>2015</th>\n",
       "      <td>1.14</td>\n",
       "    </tr>\n",
       "    <tr>\n",
       "      <th>2016</th>\n",
       "      <td>0.18</td>\n",
       "    </tr>\n",
       "    <tr>\n",
       "      <th rowspan=\"3\" valign=\"top\">WiiU</th>\n",
       "      <th>2014</th>\n",
       "      <td>22.03</td>\n",
       "    </tr>\n",
       "    <tr>\n",
       "      <th>2015</th>\n",
       "      <td>16.35</td>\n",
       "    </tr>\n",
       "    <tr>\n",
       "      <th>2016</th>\n",
       "      <td>4.60</td>\n",
       "    </tr>\n",
       "    <tr>\n",
       "      <th rowspan=\"3\" valign=\"top\">X360</th>\n",
       "      <th>2014</th>\n",
       "      <td>34.74</td>\n",
       "    </tr>\n",
       "    <tr>\n",
       "      <th>2015</th>\n",
       "      <td>11.96</td>\n",
       "    </tr>\n",
       "    <tr>\n",
       "      <th>2016</th>\n",
       "      <td>1.52</td>\n",
       "    </tr>\n",
       "    <tr>\n",
       "      <th rowspan=\"3\" valign=\"top\">XOne</th>\n",
       "      <th>2014</th>\n",
       "      <td>54.07</td>\n",
       "    </tr>\n",
       "    <tr>\n",
       "      <th>2015</th>\n",
       "      <td>60.14</td>\n",
       "    </tr>\n",
       "    <tr>\n",
       "      <th>2016</th>\n",
       "      <td>26.15</td>\n",
       "    </tr>\n",
       "  </tbody>\n",
       "</table>\n",
       "</div>"
      ],
      "text/plain": [
       "                          total_sales\n",
       "platform year_of_release             \n",
       "3DS      2014                   43.76\n",
       "         2015                   27.78\n",
       "         2016                   15.14\n",
       "PC       2014                   13.28\n",
       "         2015                    8.52\n",
       "         2016                    5.25\n",
       "PS3      2014                   47.76\n",
       "         2015                   16.82\n",
       "         2016                    3.60\n",
       "PS4      2014                  100.00\n",
       "         2015                  118.90\n",
       "         2016                   69.25\n",
       "PSV      2014                   11.90\n",
       "         2015                    6.25\n",
       "         2016                    4.25\n",
       "Wii      2014                    3.75\n",
       "         2015                    1.14\n",
       "         2016                    0.18\n",
       "WiiU     2014                   22.03\n",
       "         2015                   16.35\n",
       "         2016                    4.60\n",
       "X360     2014                   34.74\n",
       "         2015                   11.96\n",
       "         2016                    1.52\n",
       "XOne     2014                   54.07\n",
       "         2015                   60.14\n",
       "         2016                   26.15"
      ]
     },
     "execution_count": 56,
     "metadata": {},
     "output_type": "execute_result"
    }
   ],
   "source": [
    "# now create a table of current platforms and build a graph:\n",
    "\n",
    "actual_platform_games = actual_platforms_research.pivot_table(index=['platform','year_of_release'], \n",
    "                                                              values='total_sales', aggfunc='sum')\n",
    "actual_platform_games"
   ]
  },
  {
   "cell_type": "code",
   "execution_count": 57,
   "id": "df9ffce8",
   "metadata": {},
   "outputs": [
    {
     "data": {
      "image/png": "[encoded data removed]",
      "text/plain": [
       "<Figure size 1080x504 with 1 Axes>"
      ]
     },
     "metadata": {
      "needs_background": "light"
     },
     "output_type": "display_data"
    }
   ],
   "source": [
    "turbo_cm = plt.cm.get_cmap('turbo')\n",
    "colors = [turbo_cm(v) for v in np.linspace(0,1,len(actual_platform_games))]\n",
    "\n",
    "\n",
    "actual_platform_games.plot(y = 'total_sales', kind='bar', color= colors, figsize = (15, 7)) \n",
    "\n",
    " \n",
    "plt.xlabel(\"Year and platform name\", fontsize=12)\n",
    "plt.ylabel(\"Sales Amount\", fontsize=12)\n",
    "plt.title(\"Distribution of sales of actual platforms by years\", fontsize=15)\n",
    "plt.show()"
   ]
  },
  {
   "cell_type": "markdown",
   "id": "6c807bd3",
   "metadata": {},
   "source": [
    "*Conclusion:*\n",
    "All current platforms are experiencing a sharp decline in sales by 2016. Despite the fact that in 2013-2014 there are significant jumps in revenue for platforms such as PS4, PS3, X360, at the time of 2016, PS4 and XOne have the best profit margins.\n",
    "\n",
    "Potentially profitable platforms:\n",
    "- PS4\n",
    "- xOne"
   ]
  },
  {
   "cell_type": "markdown",
   "id": "32362515",
   "metadata": {},
   "source": [
    "**4 - Plot a box-and-whisker plot of global game sales by platform. Describe the result.**"
   ]
  },
  {
   "cell_type": "code",
   "execution_count": 58,
   "id": "b9c20895",
   "metadata": {},
   "outputs": [
    {
     "data": {
      "image/png": "[encoded data removed]",
      "text/plain": [
       "<Figure size 1080x504 with 1 Axes>"
      ]
     },
     "metadata": {
      "needs_background": "light"
     },
     "output_type": "display_data"
    }
   ],
   "source": [
    "fig = plt.figure(figsize=(15,7))\n",
    "\n",
    "ax = sns.boxplot(x='platform', y = 'total_sales', data = actual_platforms_research )\n",
    "ax.set_xlabel('Global game sales across all platforms for the current period',fontsize=15)\n",
    "ax.set_ylabel('',fontsize=15)\n",
    "\n",
    "plt.show()"
   ]
  },
  {
   "cell_type": "code",
   "execution_count": 59,
   "id": "f27feb37",
   "metadata": {},
   "outputs": [
    {
     "data": {
      "image/png": "[encoded data removed]",
      "text/plain": [
       "<Figure size 1296x720 with 1 Axes>"
      ]
     },
     "metadata": {
      "needs_background": "light"
     },
     "output_type": "display_data"
    }
   ],
   "source": [
    "ax = plt.subplots(figsize=(18, 10))\n",
    "ax = sns.boxplot( y=actual_platforms_research['platform'],x= actual_platforms_research['total_sales'], orient='h')\n",
    "ax = plt.xlim(0, 1.82)\n",
    "plt.ylabel('Platform', size=14)\n",
    "plt.xlabel('number of games sold', size=14)\n",
    "plt.grid(True)\n",
    "plt.show()"
   ]
  },
  {
   "cell_type": "code",
   "execution_count": 60,
   "id": "197560cf",
   "metadata": {},
   "outputs": [
    {
     "data": {
      "text/html": [
       "<div>\n",
       "<style scoped>\n",
       "    .dataframe tbody tr th:only-of-type {\n",
       "        vertical-align: middle;\n",
       "    }\n",
       "\n",
       "    .dataframe tbody tr th {\n",
       "        vertical-align: top;\n",
       "    }\n",
       "\n",
       "    .dataframe thead th {\n",
       "        text-align: right;\n",
       "    }\n",
       "</style>\n",
       "<table border=\"1\" class=\"dataframe\">\n",
       "  <thead>\n",
       "    <tr style=\"text-align: right;\">\n",
       "      <th>platform</th>\n",
       "      <th>3DS</th>\n",
       "      <th>PC</th>\n",
       "      <th>PS3</th>\n",
       "      <th>PS4</th>\n",
       "      <th>PSV</th>\n",
       "      <th>Wii</th>\n",
       "      <th>WiiU</th>\n",
       "      <th>X360</th>\n",
       "      <th>XOne</th>\n",
       "    </tr>\n",
       "  </thead>\n",
       "  <tbody>\n",
       "    <tr>\n",
       "      <th>count</th>\n",
       "      <td>3.000000</td>\n",
       "      <td>3.000000</td>\n",
       "      <td>3.000000</td>\n",
       "      <td>3.000000</td>\n",
       "      <td>3.000000</td>\n",
       "      <td>3.000000</td>\n",
       "      <td>3.000000</td>\n",
       "      <td>3.000000</td>\n",
       "      <td>3.000000</td>\n",
       "    </tr>\n",
       "    <tr>\n",
       "      <th>mean</th>\n",
       "      <td>28.893333</td>\n",
       "      <td>9.016667</td>\n",
       "      <td>22.726667</td>\n",
       "      <td>96.050000</td>\n",
       "      <td>7.466667</td>\n",
       "      <td>1.690000</td>\n",
       "      <td>14.326667</td>\n",
       "      <td>16.073333</td>\n",
       "      <td>46.786667</td>\n",
       "    </tr>\n",
       "    <tr>\n",
       "      <th>std</th>\n",
       "      <td>14.342445</td>\n",
       "      <td>4.037974</td>\n",
       "      <td>22.664795</td>\n",
       "      <td>25.059579</td>\n",
       "      <td>3.967472</td>\n",
       "      <td>1.847458</td>\n",
       "      <td>8.889411</td>\n",
       "      <td>16.987694</td>\n",
       "      <td>18.127748</td>\n",
       "    </tr>\n",
       "    <tr>\n",
       "      <th>min</th>\n",
       "      <td>15.140000</td>\n",
       "      <td>5.250000</td>\n",
       "      <td>3.600000</td>\n",
       "      <td>69.250000</td>\n",
       "      <td>4.250000</td>\n",
       "      <td>0.180000</td>\n",
       "      <td>4.600000</td>\n",
       "      <td>1.520000</td>\n",
       "      <td>26.150000</td>\n",
       "    </tr>\n",
       "    <tr>\n",
       "      <th>25%</th>\n",
       "      <td>21.460000</td>\n",
       "      <td>6.885000</td>\n",
       "      <td>10.210000</td>\n",
       "      <td>84.625000</td>\n",
       "      <td>5.250000</td>\n",
       "      <td>0.660000</td>\n",
       "      <td>10.475000</td>\n",
       "      <td>6.740000</td>\n",
       "      <td>40.110000</td>\n",
       "    </tr>\n",
       "    <tr>\n",
       "      <th>50%</th>\n",
       "      <td>27.780000</td>\n",
       "      <td>8.520000</td>\n",
       "      <td>16.820000</td>\n",
       "      <td>100.000000</td>\n",
       "      <td>6.250000</td>\n",
       "      <td>1.140000</td>\n",
       "      <td>16.350000</td>\n",
       "      <td>11.960000</td>\n",
       "      <td>54.070000</td>\n",
       "    </tr>\n",
       "    <tr>\n",
       "      <th>75%</th>\n",
       "      <td>35.770000</td>\n",
       "      <td>10.900000</td>\n",
       "      <td>32.290000</td>\n",
       "      <td>109.450000</td>\n",
       "      <td>9.075000</td>\n",
       "      <td>2.445000</td>\n",
       "      <td>19.190000</td>\n",
       "      <td>23.350000</td>\n",
       "      <td>57.105000</td>\n",
       "    </tr>\n",
       "    <tr>\n",
       "      <th>max</th>\n",
       "      <td>43.760000</td>\n",
       "      <td>13.280000</td>\n",
       "      <td>47.760000</td>\n",
       "      <td>118.900000</td>\n",
       "      <td>11.900000</td>\n",
       "      <td>3.750000</td>\n",
       "      <td>22.030000</td>\n",
       "      <td>34.740000</td>\n",
       "      <td>60.140000</td>\n",
       "    </tr>\n",
       "  </tbody>\n",
       "</table>\n",
       "</div>"
      ],
      "text/plain": [
       "platform        3DS         PC        PS3         PS4        PSV       Wii  \\\n",
       "count      3.000000   3.000000   3.000000    3.000000   3.000000  3.000000   \n",
       "mean      28.893333   9.016667  22.726667   96.050000   7.466667  1.690000   \n",
       "std       14.342445   4.037974  22.664795   25.059579   3.967472  1.847458   \n",
       "min       15.140000   5.250000   3.600000   69.250000   4.250000  0.180000   \n",
       "25%       21.460000   6.885000  10.210000   84.625000   5.250000  0.660000   \n",
       "50%       27.780000   8.520000  16.820000  100.000000   6.250000  1.140000   \n",
       "75%       35.770000  10.900000  32.290000  109.450000   9.075000  2.445000   \n",
       "max       43.760000  13.280000  47.760000  118.900000  11.900000  3.750000   \n",
       "\n",
       "platform       WiiU       X360       XOne  \n",
       "count      3.000000   3.000000   3.000000  \n",
       "mean      14.326667  16.073333  46.786667  \n",
       "std        8.889411  16.987694  18.127748  \n",
       "min        4.600000   1.520000  26.150000  \n",
       "25%       10.475000   6.740000  40.110000  \n",
       "50%       16.350000  11.960000  54.070000  \n",
       "75%       19.190000  23.350000  57.105000  \n",
       "max       22.030000  34.740000  60.140000  "
      ]
     },
     "execution_count": 60,
     "metadata": {},
     "output_type": "execute_result"
    }
   ],
   "source": [
    "# Additionally, display descriptions of the sales volume for each of the platforms:\n",
    "actual_platform_games_describe = actual_platform_games.pivot_table(index = 'year_of_release', columns = 'platform', \n",
    "                                                                   values = 'total_sales')\n",
    "actual_platform_games_describe.describe()"
   ]
  },
  {
   "cell_type": "code",
   "execution_count": 61,
   "id": "d288be6a",
   "metadata": {},
   "outputs": [
    {
     "data": {
      "text/plain": [
       "platform\n",
       "PS4     100.00\n",
       "XOne     54.07\n",
       "3DS      27.78\n",
       "PS3      16.82\n",
       "WiiU     16.35\n",
       "X360     11.96\n",
       "PC        8.52\n",
       "PSV       6.25\n",
       "Wii       1.14\n",
       "dtype: float64"
      ]
     },
     "execution_count": 61,
     "metadata": {},
     "output_type": "execute_result"
    }
   ],
   "source": [
    "actual_platform_games_describe.median().sort_values(ascending=False)"
   ]
  },
  {
   "cell_type": "markdown",
   "id": "485afa5a",
   "metadata": {},
   "source": [
    "Description of the result:\n",
    "- The maximum spread of data on sales volume is observed for platforms:\n",
    "   - PS4 = 25.059\n",
    "   - PS3 = 22.664\n",
    "   -Xone = 18.127\n",
    "   - X360 = 16.987\n",
    "   \n",
    "- The maximum median values ​​are observed for platforms:\n",
    "  - PS4 = 100.00\n",
    "  - XOne = 54.07\n",
    "  - 3DS = 27.78\n",
    "  - PS3 = 16.82\n",
    "  \n",
    "- The maximum average values ​​are observed for the platforms:\n",
    "  - PS4 = 96.050\n",
    "  -XOne = 46.786\n",
    "  - 3DS = 28.893\n",
    "  \n",
    "- Of this four, the smallest results in terms of sales volume include:\n",
    "  - PS3 = 3.6\n",
    "  \n",
    "- Of this four, the maximum results in terms of sales include:\n",
    "  - PS4 = 118.900\n",
    "  - XOne = 60.140\n",
    "  \n",
    "- Of this four, the maximum values ​​for the 3rd quantile are:\n",
    "  - PS4 = 109.45\n",
    "  -XOne = 57.105\n",
    "  \n",
    "Based on the data obtained, we can conclude that the undisputed leader in terms of sales is the PS4 platform, followed by XOne."
   ]
  },
  {
   "cell_type": "markdown",
   "id": "7789e0df",
   "metadata": {},
   "source": [
    "**5 - See how sales within one popular platform are affected by user and critic reviews. Plot a scatterplot and calculate the correlation between reviews and sales. Formulate conclusions. Compare findings with game sales on other platforms**"
   ]
  },
  {
   "cell_type": "code",
   "execution_count": 62,
   "id": "24611355",
   "metadata": {},
   "outputs": [
    {
     "data": {
      "text/html": [
       "<div>\n",
       "<style scoped>\n",
       "    .dataframe tbody tr th:only-of-type {\n",
       "        vertical-align: middle;\n",
       "    }\n",
       "\n",
       "    .dataframe tbody tr th {\n",
       "        vertical-align: top;\n",
       "    }\n",
       "\n",
       "    .dataframe thead th {\n",
       "        text-align: right;\n",
       "    }\n",
       "</style>\n",
       "<table border=\"1\" class=\"dataframe\">\n",
       "  <thead>\n",
       "    <tr style=\"text-align: right;\">\n",
       "      <th></th>\n",
       "      <th></th>\n",
       "      <th>critic_score</th>\n",
       "      <th>total_sales</th>\n",
       "      <th>user_score</th>\n",
       "      <th>summary_score</th>\n",
       "    </tr>\n",
       "    <tr>\n",
       "      <th>year_of_release</th>\n",
       "      <th>name</th>\n",
       "      <th></th>\n",
       "      <th></th>\n",
       "      <th></th>\n",
       "      <th></th>\n",
       "    </tr>\n",
       "  </thead>\n",
       "  <tbody>\n",
       "    <tr>\n",
       "      <th rowspan=\"5\" valign=\"top\">2014</th>\n",
       "      <th>Alien: Isolation</th>\n",
       "      <td>79.0</td>\n",
       "      <td>1.12</td>\n",
       "      <td>8.1</td>\n",
       "      <td>87.1</td>\n",
       "    </tr>\n",
       "    <tr>\n",
       "      <th>Assassin's Creed: Unity</th>\n",
       "      <td>70.0</td>\n",
       "      <td>3.96</td>\n",
       "      <td>4.9</td>\n",
       "      <td>74.9</td>\n",
       "    </tr>\n",
       "    <tr>\n",
       "      <th>Bound By Flame</th>\n",
       "      <td>53.0</td>\n",
       "      <td>0.20</td>\n",
       "      <td>5.9</td>\n",
       "      <td>58.9</td>\n",
       "    </tr>\n",
       "    <tr>\n",
       "      <th>Call of Duty: Advanced Warfare</th>\n",
       "      <td>83.0</td>\n",
       "      <td>7.66</td>\n",
       "      <td>5.7</td>\n",
       "      <td>88.7</td>\n",
       "    </tr>\n",
       "    <tr>\n",
       "      <th>Child of Light</th>\n",
       "      <td>82.0</td>\n",
       "      <td>0.05</td>\n",
       "      <td>8.0</td>\n",
       "      <td>90.0</td>\n",
       "    </tr>\n",
       "    <tr>\n",
       "      <th>...</th>\n",
       "      <th>...</th>\n",
       "      <td>...</td>\n",
       "      <td>...</td>\n",
       "      <td>...</td>\n",
       "      <td>...</td>\n",
       "    </tr>\n",
       "    <tr>\n",
       "      <th rowspan=\"5\" valign=\"top\">2016</th>\n",
       "      <th>WWE 2K17</th>\n",
       "      <td>69.0</td>\n",
       "      <td>0.60</td>\n",
       "      <td>6.9</td>\n",
       "      <td>75.9</td>\n",
       "    </tr>\n",
       "    <tr>\n",
       "      <th>Watch Dogs 2</th>\n",
       "      <td>83.0</td>\n",
       "      <td>1.13</td>\n",
       "      <td>7.8</td>\n",
       "      <td>90.8</td>\n",
       "    </tr>\n",
       "    <tr>\n",
       "      <th>World of Final Fantasy</th>\n",
       "      <td>77.0</td>\n",
       "      <td>0.34</td>\n",
       "      <td>8.3</td>\n",
       "      <td>85.3</td>\n",
       "    </tr>\n",
       "    <tr>\n",
       "      <th>Worms: WMD</th>\n",
       "      <td>78.0</td>\n",
       "      <td>0.03</td>\n",
       "      <td>7.6</td>\n",
       "      <td>85.6</td>\n",
       "    </tr>\n",
       "    <tr>\n",
       "      <th>XCOM 2</th>\n",
       "      <td>88.0</td>\n",
       "      <td>0.14</td>\n",
       "      <td>8.0</td>\n",
       "      <td>96.0</td>\n",
       "    </tr>\n",
       "  </tbody>\n",
       "</table>\n",
       "<p>234 rows × 4 columns</p>\n",
       "</div>"
      ],
      "text/plain": [
       "                                                critic_score  total_sales  \\\n",
       "year_of_release name                                                        \n",
       "2014            Alien: Isolation                        79.0         1.12   \n",
       "                Assassin's Creed: Unity                 70.0         3.96   \n",
       "                Bound By Flame                          53.0         0.20   \n",
       "                Call of Duty: Advanced Warfare          83.0         7.66   \n",
       "                Child of Light                          82.0         0.05   \n",
       "...                                                      ...          ...   \n",
       "2016            WWE 2K17                                69.0         0.60   \n",
       "                Watch Dogs 2                            83.0         1.13   \n",
       "                World of Final Fantasy                  77.0         0.34   \n",
       "                Worms: WMD                              78.0         0.03   \n",
       "                XCOM 2                                  88.0         0.14   \n",
       "\n",
       "                                                user_score  summary_score  \n",
       "year_of_release name                                                       \n",
       "2014            Alien: Isolation                       8.1           87.1  \n",
       "                Assassin's Creed: Unity                4.9           74.9  \n",
       "                Bound By Flame                         5.9           58.9  \n",
       "                Call of Duty: Advanced Warfare         5.7           88.7  \n",
       "                Child of Light                         8.0           90.0  \n",
       "...                                                    ...            ...  \n",
       "2016            WWE 2K17                               6.9           75.9  \n",
       "                Watch Dogs 2                           7.8           90.8  \n",
       "                World of Final Fantasy                 8.3           85.3  \n",
       "                Worms: WMD                             7.6           85.6  \n",
       "                XCOM 2                                 8.0           96.0  \n",
       "\n",
       "[234 rows x 4 columns]"
      ]
     },
     "execution_count": 62,
     "metadata": {},
     "output_type": "execute_result"
    }
   ],
   "source": [
    "# Consider the data on the example of the most profitable and popular PS4 platform:\n",
    "# Display a table with user and critic reviews of the game, total sales and release year for this platform\n",
    "\n",
    "ps4_score = (actual_platforms_research.query('platform == \"PS4\" and user_score >=1 and critic_score >=1')).pivot_table(\n",
    "    index = ['year_of_release','name'],values = ['critic_score' , 'user_score', 'total_sales'],aggfunc = 'sum')\n",
    "ps4_score['summary_score'] = ps4_score['critic_score']+ps4_score['user_score']\n",
    "\n",
    "ps4_score"
   ]
  },
  {
   "cell_type": "code",
   "execution_count": 63,
   "id": "0d36863e",
   "metadata": {},
   "outputs": [
    {
     "data": {
      "text/html": [
       "<div>\n",
       "<style scoped>\n",
       "    .dataframe tbody tr th:only-of-type {\n",
       "        vertical-align: middle;\n",
       "    }\n",
       "\n",
       "    .dataframe tbody tr th {\n",
       "        vertical-align: top;\n",
       "    }\n",
       "\n",
       "    .dataframe thead th {\n",
       "        text-align: right;\n",
       "    }\n",
       "</style>\n",
       "<table border=\"1\" class=\"dataframe\">\n",
       "  <thead>\n",
       "    <tr style=\"text-align: right;\">\n",
       "      <th></th>\n",
       "      <th>critic_score</th>\n",
       "      <th>total_sales</th>\n",
       "      <th>user_score</th>\n",
       "      <th>summary_score</th>\n",
       "    </tr>\n",
       "  </thead>\n",
       "  <tbody>\n",
       "    <tr>\n",
       "      <th>critic_score</th>\n",
       "      <td>1.000000</td>\n",
       "      <td>0.401903</td>\n",
       "      <td>0.546434</td>\n",
       "      <td>0.996026</td>\n",
       "    </tr>\n",
       "    <tr>\n",
       "      <th>total_sales</th>\n",
       "      <td>0.401903</td>\n",
       "      <td>1.000000</td>\n",
       "      <td>-0.043186</td>\n",
       "      <td>0.372359</td>\n",
       "    </tr>\n",
       "    <tr>\n",
       "      <th>user_score</th>\n",
       "      <td>0.546434</td>\n",
       "      <td>-0.043186</td>\n",
       "      <td>1.000000</td>\n",
       "      <td>0.618852</td>\n",
       "    </tr>\n",
       "    <tr>\n",
       "      <th>summary_score</th>\n",
       "      <td>0.996026</td>\n",
       "      <td>0.372359</td>\n",
       "      <td>0.618852</td>\n",
       "      <td>1.000000</td>\n",
       "    </tr>\n",
       "  </tbody>\n",
       "</table>\n",
       "</div>"
      ],
      "text/plain": [
       "               critic_score  total_sales  user_score  summary_score\n",
       "critic_score       1.000000     0.401903    0.546434       0.996026\n",
       "total_sales        0.401903     1.000000   -0.043186       0.372359\n",
       "user_score         0.546434    -0.043186    1.000000       0.618852\n",
       "summary_score      0.996026     0.372359    0.618852       1.000000"
      ]
     },
     "execution_count": 63,
     "metadata": {},
     "output_type": "execute_result"
    }
   ],
   "source": [
    "ps4_score.corr()"
   ]
  },
  {
   "cell_type": "code",
   "execution_count": 64,
   "id": "73fb2d97",
   "metadata": {},
   "outputs": [
    {
     "data": {
      "image/png": "[encoded data removed]",
      "text/plain": [
       "<Figure size 1080x360 with 2 Axes>"
      ]
     },
     "metadata": {
      "needs_background": "light"
     },
     "output_type": "display_data"
    }
   ],
   "source": [
    "# Let's build a scatterplot:\n",
    "\n",
    "fig = plt.figure(figsize =(15,5))\n",
    "\n",
    "ax = fig.add_subplot(121)\n",
    "ax.set_xlabel('Score')\n",
    "ax.set_ylabel('Sales Amount')\n",
    "ax = plt.title(\"PS4 User_score\", fontsize=13)\n",
    "ax=plt.scatter(x='user_score', y= 'total_sales', data=ps4_score , alpha = 0.5)\n",
    "\n",
    "\n",
    "ax2 = fig.add_subplot(122)\n",
    "ax2.set_xlabel('Score')\n",
    "ax2.set_ylabel('Sales Amount')\n",
    "ax2 = plt.title(\"PS4 Сritic_score\", fontsize=13)\n",
    "ax2=plt.scatter(x='critic_score', y= 'total_sales', data = ps4_score , alpha = 0.5)\n",
    "\n",
    "\n",
    "plt.show()"
   ]
  },
  {
   "cell_type": "markdown",
   "id": "ab949d30",
   "metadata": {},
   "source": [
    "*Conclusion:\n",
    "Within the PS4 platform, critic reviews have a moderate impact on game sales than user reviews (have no effect):*\n",
    "- user rating impact = -0.047\n",
    "- influence of critics score = 0.401\n",
    "- total influence = 0.372\n",
    "\n",
    "*This is especially evident in the Critic_score chart.*"
   ]
  },
  {
   "cell_type": "code",
   "execution_count": 65,
   "id": "abca4c15",
   "metadata": {},
   "outputs": [
    {
     "data": {
      "text/html": [
       "<div>\n",
       "<style scoped>\n",
       "    .dataframe tbody tr th:only-of-type {\n",
       "        vertical-align: middle;\n",
       "    }\n",
       "\n",
       "    .dataframe tbody tr th {\n",
       "        vertical-align: top;\n",
       "    }\n",
       "\n",
       "    .dataframe thead th {\n",
       "        text-align: right;\n",
       "    }\n",
       "</style>\n",
       "<table border=\"1\" class=\"dataframe\">\n",
       "  <thead>\n",
       "    <tr style=\"text-align: right;\">\n",
       "      <th></th>\n",
       "      <th>critic_score</th>\n",
       "      <th>total_sales</th>\n",
       "      <th>user_score</th>\n",
       "      <th>summary_score</th>\n",
       "    </tr>\n",
       "  </thead>\n",
       "  <tbody>\n",
       "    <tr>\n",
       "      <th>critic_score</th>\n",
       "      <td>1.000000</td>\n",
       "      <td>0.422112</td>\n",
       "      <td>0.440977</td>\n",
       "      <td>0.995699</td>\n",
       "    </tr>\n",
       "    <tr>\n",
       "      <th>total_sales</th>\n",
       "      <td>0.422112</td>\n",
       "      <td>1.000000</td>\n",
       "      <td>-0.091734</td>\n",
       "      <td>0.391611</td>\n",
       "    </tr>\n",
       "    <tr>\n",
       "      <th>user_score</th>\n",
       "      <td>0.440977</td>\n",
       "      <td>-0.091734</td>\n",
       "      <td>1.000000</td>\n",
       "      <td>0.522236</td>\n",
       "    </tr>\n",
       "    <tr>\n",
       "      <th>summary_score</th>\n",
       "      <td>0.995699</td>\n",
       "      <td>0.391611</td>\n",
       "      <td>0.522236</td>\n",
       "      <td>1.000000</td>\n",
       "    </tr>\n",
       "  </tbody>\n",
       "</table>\n",
       "</div>"
      ],
      "text/plain": [
       "               critic_score  total_sales  user_score  summary_score\n",
       "critic_score       1.000000     0.422112    0.440977       0.995699\n",
       "total_sales        0.422112     1.000000   -0.091734       0.391611\n",
       "user_score         0.440977    -0.091734    1.000000       0.522236\n",
       "summary_score      0.995699     0.391611    0.522236       1.000000"
      ]
     },
     "execution_count": 65,
     "metadata": {},
     "output_type": "execute_result"
    }
   ],
   "source": [
    "# Let's compare the findings with sales of games on other platforms:\n",
    "XOne_score = (actual_platforms_research.query('platform == \"XOne\" and user_score >=1 and critic_score >=1')).pivot_table(\n",
    "    index = ['year_of_release','name'], values = ['critic_score' , 'user_score', 'total_sales'],aggfunc = 'sum')\n",
    "XOne_score['summary_score'] = XOne_score['critic_score']+XOne_score['user_score']\n",
    "\n",
    "XOne_score.corr()\n"
   ]
  },
  {
   "cell_type": "code",
   "execution_count": 66,
   "id": "dd065131",
   "metadata": {},
   "outputs": [
    {
     "data": {
      "image/png": "[encoded data removed]",
      "text/plain": [
       "<Figure size 1080x360 with 2 Axes>"
      ]
     },
     "metadata": {
      "needs_background": "light"
     },
     "output_type": "display_data"
    }
   ],
   "source": [
    "fig = plt.figure(figsize =(15,5))\n",
    "\n",
    "ax = fig.add_subplot(121)\n",
    "ax.set_xlabel('Score')\n",
    "ax.set_ylabel('Sales Amount')\n",
    "ax = plt.title('XOne User_score')\n",
    "ax=plt.scatter(x='user_score', y= 'total_sales', data=XOne_score , alpha = 0.5)\n",
    "\n",
    "\n",
    "ax2 = fig.add_subplot(122)\n",
    "ax2.set_xlabel('Score')\n",
    "ax2.set_ylabel('Sales Amount')\n",
    "ax2 = plt.title('XOne Critic_score')\n",
    "ax2=plt.scatter(x='critic_score', y= 'total_sales', data =XOne_score , alpha = 0.5)\n",
    "\n",
    "\n",
    "plt.show()"
   ]
  },
  {
   "cell_type": "code",
   "execution_count": 67,
   "id": "dc008b02",
   "metadata": {},
   "outputs": [
    {
     "data": {
      "text/html": [
       "<div>\n",
       "<style scoped>\n",
       "    .dataframe tbody tr th:only-of-type {\n",
       "        vertical-align: middle;\n",
       "    }\n",
       "\n",
       "    .dataframe tbody tr th {\n",
       "        vertical-align: top;\n",
       "    }\n",
       "\n",
       "    .dataframe thead th {\n",
       "        text-align: right;\n",
       "    }\n",
       "</style>\n",
       "<table border=\"1\" class=\"dataframe\">\n",
       "  <thead>\n",
       "    <tr style=\"text-align: right;\">\n",
       "      <th></th>\n",
       "      <th>critic_score</th>\n",
       "      <th>total_sales</th>\n",
       "      <th>user_score</th>\n",
       "      <th>summary_score</th>\n",
       "    </tr>\n",
       "  </thead>\n",
       "  <tbody>\n",
       "    <tr>\n",
       "      <th>critic_score</th>\n",
       "      <td>1.000000</td>\n",
       "      <td>0.446575</td>\n",
       "      <td>0.693445</td>\n",
       "      <td>0.996690</td>\n",
       "    </tr>\n",
       "    <tr>\n",
       "      <th>total_sales</th>\n",
       "      <td>0.446575</td>\n",
       "      <td>1.000000</td>\n",
       "      <td>0.156595</td>\n",
       "      <td>0.427825</td>\n",
       "    </tr>\n",
       "    <tr>\n",
       "      <th>user_score</th>\n",
       "      <td>0.693445</td>\n",
       "      <td>0.156595</td>\n",
       "      <td>1.000000</td>\n",
       "      <td>0.749722</td>\n",
       "    </tr>\n",
       "    <tr>\n",
       "      <th>summary_score</th>\n",
       "      <td>0.996690</td>\n",
       "      <td>0.427825</td>\n",
       "      <td>0.749722</td>\n",
       "      <td>1.000000</td>\n",
       "    </tr>\n",
       "  </tbody>\n",
       "</table>\n",
       "</div>"
      ],
      "text/plain": [
       "               critic_score  total_sales  user_score  summary_score\n",
       "critic_score       1.000000     0.446575    0.693445       0.996690\n",
       "total_sales        0.446575     1.000000    0.156595       0.427825\n",
       "user_score         0.693445     0.156595    1.000000       0.749722\n",
       "summary_score      0.996690     0.427825    0.749722       1.000000"
      ]
     },
     "execution_count": 67,
     "metadata": {},
     "output_type": "execute_result"
    }
   ],
   "source": [
    "PS3_score = (actual_platforms_research.query('platform == \"PS3\" and user_score >=1 and critic_score >=1')).pivot_table(\n",
    "    index = ['year_of_release','name'], values = ['critic_score' , 'user_score', 'total_sales'],aggfunc = 'sum')\n",
    "PS3_score['summary_score'] = PS3_score['critic_score']+PS3_score['user_score']\n",
    "\n",
    "PS3_score.corr()"
   ]
  },
  {
   "cell_type": "code",
   "execution_count": 68,
   "id": "d53e0c3d",
   "metadata": {},
   "outputs": [
    {
     "data": {
      "image/png": "[encoded data removed]",
      "text/plain": [
       "<Figure size 1080x360 with 2 Axes>"
      ]
     },
     "metadata": {
      "needs_background": "light"
     },
     "output_type": "display_data"
    }
   ],
   "source": [
    "fig = plt.figure(figsize =(15,5))\n",
    "\n",
    "ax = fig.add_subplot(121)\n",
    "ax.set_xlabel('Score')\n",
    "ax.set_ylabel('Sales Amount')\n",
    "ax = plt.title('PS3 User_score')\n",
    "ax=plt.scatter(x='user_score', y= 'total_sales', data=PS3_score , alpha = 0.5)\n",
    "\n",
    "\n",
    "ax2 = fig.add_subplot(122)\n",
    "ax2.set_xlabel('Score')\n",
    "ax2.set_ylabel('Sales Amount')\n",
    "ax2 = plt.title('PS3 Critic_score')\n",
    "ax2=plt.scatter(x='critic_score', y= 'total_sales', data =PS3_score , alpha = 0.5)\n",
    "\n",
    "\n",
    "plt.show()"
   ]
  },
  {
   "cell_type": "code",
   "execution_count": 69,
   "id": "826b7b98",
   "metadata": {},
   "outputs": [
    {
     "data": {
      "text/html": [
       "<div>\n",
       "<style scoped>\n",
       "    .dataframe tbody tr th:only-of-type {\n",
       "        vertical-align: middle;\n",
       "    }\n",
       "\n",
       "    .dataframe tbody tr th {\n",
       "        vertical-align: top;\n",
       "    }\n",
       "\n",
       "    .dataframe thead th {\n",
       "        text-align: right;\n",
       "    }\n",
       "</style>\n",
       "<table border=\"1\" class=\"dataframe\">\n",
       "  <thead>\n",
       "    <tr style=\"text-align: right;\">\n",
       "      <th></th>\n",
       "      <th>critic_score</th>\n",
       "      <th>total_sales</th>\n",
       "      <th>user_score</th>\n",
       "      <th>summary_score</th>\n",
       "    </tr>\n",
       "  </thead>\n",
       "  <tbody>\n",
       "    <tr>\n",
       "      <th>critic_score</th>\n",
       "      <td>1.000000</td>\n",
       "      <td>0.525723</td>\n",
       "      <td>0.625309</td>\n",
       "      <td>0.997312</td>\n",
       "    </tr>\n",
       "    <tr>\n",
       "      <th>total_sales</th>\n",
       "      <td>0.525723</td>\n",
       "      <td>1.000000</td>\n",
       "      <td>0.336514</td>\n",
       "      <td>0.525040</td>\n",
       "    </tr>\n",
       "    <tr>\n",
       "      <th>user_score</th>\n",
       "      <td>0.625309</td>\n",
       "      <td>0.336514</td>\n",
       "      <td>1.000000</td>\n",
       "      <td>0.680805</td>\n",
       "    </tr>\n",
       "    <tr>\n",
       "      <th>summary_score</th>\n",
       "      <td>0.997312</td>\n",
       "      <td>0.525040</td>\n",
       "      <td>0.680805</td>\n",
       "      <td>1.000000</td>\n",
       "    </tr>\n",
       "  </tbody>\n",
       "</table>\n",
       "</div>"
      ],
      "text/plain": [
       "               critic_score  total_sales  user_score  summary_score\n",
       "critic_score       1.000000     0.525723    0.625309       0.997312\n",
       "total_sales        0.525723     1.000000    0.336514       0.525040\n",
       "user_score         0.625309     0.336514    1.000000       0.680805\n",
       "summary_score      0.997312     0.525040    0.680805       1.000000"
      ]
     },
     "execution_count": 69,
     "metadata": {},
     "output_type": "execute_result"
    }
   ],
   "source": [
    "X360_score = (actual_platforms_research.query('platform == \"X360\" and user_score >=1 and critic_score >=1')).pivot_table(\n",
    "    index = ['year_of_release','name'], values = ['critic_score' , 'user_score', 'total_sales'],aggfunc = 'sum')\n",
    "X360_score['summary_score'] = X360_score['critic_score'] + X360_score['user_score']\n",
    "\n",
    "X360_score.corr()"
   ]
  },
  {
   "cell_type": "code",
   "execution_count": 70,
   "id": "664a9c4a",
   "metadata": {},
   "outputs": [
    {
     "data": {
      "image/png": "[encoded data removed]",
      "text/plain": [
       "<Figure size 1080x360 with 2 Axes>"
      ]
     },
     "metadata": {
      "needs_background": "light"
     },
     "output_type": "display_data"
    }
   ],
   "source": [
    "fig = plt.figure(figsize =(15,5))\n",
    "\n",
    "ax = fig.add_subplot(121)\n",
    "ax.set_xlabel('Score')\n",
    "ax.set_ylabel('Sales Amount')\n",
    "ax = plt.title('X360 User_score')\n",
    "ax=plt.scatter(x='user_score', y= 'total_sales', data=X360_score , alpha = 0.5)\n",
    "\n",
    "\n",
    "ax2 = fig.add_subplot(122)\n",
    "ax2.set_xlabel('Score')\n",
    "ax2.set_ylabel('Sales Amount')\n",
    "ax2 = plt.title('X360 Critic_score')\n",
    "ax2=plt.scatter(x='critic_score', y= 'total_sales', data =X360_score ,alpha = 0.5)\n",
    "\n",
    "\n",
    "plt.show()"
   ]
  },
  {
   "cell_type": "markdown",
   "id": "9b33cd5e",
   "metadata": {},
   "source": [
    "Estimation and Sales Volume Correlation Conclusion Ratio by PS4 Platform:\n",
    "On platforms X360, XOne, PS3 - the distribution of data on scatterplots is basically identical - there is an increase in sales in proportion to the increase in valuation.\n",
    "\n",
    "Of the above platforms, the most clear correlation between valuation and sales volume is seen on the following platforms:\n",
    "- X360 = 0.525\n",
    "- PS3 = 0.427"
   ]
  },
  {
   "cell_type": "markdown",
   "id": "4971f614",
   "metadata": {},
   "source": [
    "**6 - Look at the overall distribution of games by genre. What about the most profitable genres? Do genres with high and low sales stand out?**"
   ]
  },
  {
   "cell_type": "code",
   "execution_count": 71,
   "id": "7627f681",
   "metadata": {},
   "outputs": [
    {
     "data": {
      "text/plain": [
       "genre\n",
       "Action          613\n",
       "Role-Playing    221\n",
       "Adventure       181\n",
       "Sports          160\n",
       "Shooter         128\n",
       "Misc            111\n",
       "Racing           69\n",
       "Fighting         60\n",
       "Simulation       44\n",
       "Platform         38\n",
       "Strategy         37\n",
       "Puzzle           14\n",
       "Name: genre, dtype: int64"
      ]
     },
     "execution_count": 71,
     "metadata": {},
     "output_type": "execute_result"
    }
   ],
   "source": [
    "# Let's look at the distribution of genres from our current data set (2014-2016):\n",
    "# Which genres are released most often:\n",
    "genre_research_count = actual_platforms_research.groupby('genre')['genre'].count()\n",
    "genre_research_count = genre_research_count.sort_values(ascending = False)\n",
    "genre_research_count"
   ]
  },
  {
   "cell_type": "code",
   "execution_count": 72,
   "id": "51211a67",
   "metadata": {},
   "outputs": [
    {
     "data": {
      "image/png": "[encoded data removed]",
      "text/plain": [
       "<Figure size 1080x504 with 1 Axes>"
      ]
     },
     "metadata": {
      "needs_background": "light"
     },
     "output_type": "display_data"
    }
   ],
   "source": [
    "turbo_cm = plt.cm.get_cmap('turbo')\n",
    "colors = [turbo_cm(v) for v in np.linspace(0,1,len(genre_research_count))]\n",
    "\n",
    "\n",
    "genre_research_count.plot(y = 'count', kind='bar', color= colors, figsize = (15, 7)) \n",
    "\n",
    " \n",
    "plt.xlabel(\"Genre name\", fontsize=12)\n",
    "plt.ylabel(\"Number of released games\", fontsize=12)\n",
    "plt.title(\"Distribution of sales by genre\", fontsize=15)\n",
    "plt.show()"
   ]
  },
  {
   "cell_type": "code",
   "execution_count": 73,
   "id": "8f19aed1",
   "metadata": {},
   "outputs": [
    {
     "data": {
      "text/plain": [
       "genre\n",
       "Shooter         0.515\n",
       "Sports          0.190\n",
       "Platform        0.140\n",
       "Fighting        0.125\n",
       "Role-Playing    0.110\n",
       "Simulation      0.100\n",
       "Action          0.090\n",
       "Misc            0.090\n",
       "Racing          0.090\n",
       "Strategy        0.060\n",
       "Puzzle          0.045\n",
       "Adventure       0.030\n",
       "Name: total_sales, dtype: float64"
      ]
     },
     "execution_count": 73,
     "metadata": {},
     "output_type": "execute_result"
    }
   ],
   "source": [
    "# Now let's see which genres bring in the most money:\n",
    "genre_research_sales = actual_platforms_research.groupby('genre')['total_sales'].median()\n",
    "genre_research_sales = genre_research_sales.sort_values(ascending=False)\n",
    "genre_research_sales"
   ]
  },
  {
   "cell_type": "code",
   "execution_count": 74,
   "id": "dda4ee3f",
   "metadata": {},
   "outputs": [
    {
     "data": {
      "image/png": "[encoded data removed]",
      "text/plain": [
       "<Figure size 1080x504 with 1 Axes>"
      ]
     },
     "metadata": {
      "needs_background": "light"
     },
     "output_type": "display_data"
    }
   ],
   "source": [
    "turbo_cm = plt.cm.get_cmap('turbo')\n",
    "colors = [turbo_cm(v) for v in np.linspace(0,1,len(genre_research_sales))]\n",
    "\n",
    "\n",
    "genre_research_sales.plot(y = 'total_sales', kind='bar', color= colors, figsize = (15, 7)) \n",
    "\n",
    " \n",
    "plt.xlabel(\"Genre name\", fontsize=12)\n",
    "plt.ylabel(\"Sales Amount\", fontsize=12)\n",
    "plt.title(\"Distribution of sales by genre\", fontsize=15)\n",
    "plt.show()"
   ]
  },
  {
   "cell_type": "markdown",
   "id": "2df3d6fd",
   "metadata": {},
   "source": [
    "Conclusion:\n",
    "\n",
    "Despite the fact that platforms most often release games in the Action genre, this genre brings very mediocre profits:\n",
    "- Action = 0.110\n",
    "\n",
    "The most profitable genres are:\n",
    "- Shooter = 0.450\n",
    "- Sports = 0.250\n",
    "- Platform = 0.225"
   ]
  },
  {
   "cell_type": "code",
   "execution_count": 75,
   "id": "8ca76315",
   "metadata": {},
   "outputs": [
    {
     "data": {
      "image/png": "[encoded data removed]",
      "text/plain": [
       "<Figure size 1296x720 with 1 Axes>"
      ]
     },
     "metadata": {
      "needs_background": "light"
     },
     "output_type": "display_data"
    }
   ],
   "source": [
    "ax = plt.subplots(figsize=(18, 10))\n",
    "ax = sns.boxplot( y=actual_platforms_research['genre'], x= actual_platforms_research['total_sales'], orient='h')\n",
    "\n",
    "plt.ylabel('Genres', size=14)\n",
    "plt.xlabel('Sales Amount', size=14)\n",
    "plt.grid(True)\n",
    "plt.show()"
   ]
  },
  {
   "cell_type": "code",
   "execution_count": 76,
   "id": "f4c88c27",
   "metadata": {},
   "outputs": [
    {
     "data": {
      "image/png": "[encoded data removed]",
      "text/plain": [
       "<Figure size 1296x720 with 1 Axes>"
      ]
     },
     "metadata": {
      "needs_background": "light"
     },
     "output_type": "display_data"
    }
   ],
   "source": [
    "ax = plt.subplots(figsize=(18, 10))\n",
    "ax = sns.boxplot( y=actual_platforms_research['genre'], x= actual_platforms_research['total_sales'], orient='h')\n",
    "ax = plt.xlim(0, 1.65)\n",
    "plt.ylabel('Genres', size=14)\n",
    "plt.xlabel('Sales Amount', size=14)\n",
    "plt.grid(True)\n",
    "plt.show()"
   ]
  },
  {
   "cell_type": "code",
   "execution_count": 77,
   "id": "196bcf30",
   "metadata": {},
   "outputs": [
    {
     "data": {
      "text/html": [
       "<div>\n",
       "<style scoped>\n",
       "    .dataframe tbody tr th:only-of-type {\n",
       "        vertical-align: middle;\n",
       "    }\n",
       "\n",
       "    .dataframe tbody tr th {\n",
       "        vertical-align: top;\n",
       "    }\n",
       "\n",
       "    .dataframe thead th {\n",
       "        text-align: right;\n",
       "    }\n",
       "</style>\n",
       "<table border=\"1\" class=\"dataframe\">\n",
       "  <thead>\n",
       "    <tr style=\"text-align: right;\">\n",
       "      <th>genre</th>\n",
       "      <th>Action</th>\n",
       "      <th>Adventure</th>\n",
       "      <th>Fighting</th>\n",
       "      <th>Misc</th>\n",
       "      <th>Platform</th>\n",
       "      <th>Puzzle</th>\n",
       "      <th>Racing</th>\n",
       "      <th>Role-Playing</th>\n",
       "      <th>Shooter</th>\n",
       "      <th>Simulation</th>\n",
       "      <th>Sports</th>\n",
       "      <th>Strategy</th>\n",
       "    </tr>\n",
       "  </thead>\n",
       "  <tbody>\n",
       "    <tr>\n",
       "      <th>count</th>\n",
       "      <td>3.000000</td>\n",
       "      <td>3.000000</td>\n",
       "      <td>3.000000</td>\n",
       "      <td>3.000000</td>\n",
       "      <td>3.000000</td>\n",
       "      <td>3.000000</td>\n",
       "      <td>3.000000</td>\n",
       "      <td>3.000000</td>\n",
       "      <td>3.000000</td>\n",
       "      <td>3.000000</td>\n",
       "      <td>3.000000</td>\n",
       "      <td>3.000000</td>\n",
       "    </tr>\n",
       "    <tr>\n",
       "      <th>mean</th>\n",
       "      <td>0.327297</td>\n",
       "      <td>0.099024</td>\n",
       "      <td>0.448232</td>\n",
       "      <td>0.320639</td>\n",
       "      <td>0.520573</td>\n",
       "      <td>0.113730</td>\n",
       "      <td>0.393873</td>\n",
       "      <td>0.443938</td>\n",
       "      <td>1.395409</td>\n",
       "      <td>0.329869</td>\n",
       "      <td>0.677256</td>\n",
       "      <td>0.108349</td>\n",
       "    </tr>\n",
       "    <tr>\n",
       "      <th>std</th>\n",
       "      <td>0.181279</td>\n",
       "      <td>0.045360</td>\n",
       "      <td>0.214167</td>\n",
       "      <td>0.252231</td>\n",
       "      <td>0.336247</td>\n",
       "      <td>0.101507</td>\n",
       "      <td>0.254797</td>\n",
       "      <td>0.094105</td>\n",
       "      <td>0.586239</td>\n",
       "      <td>0.205294</td>\n",
       "      <td>0.180871</td>\n",
       "      <td>0.018871</td>\n",
       "    </tr>\n",
       "    <tr>\n",
       "      <th>min</th>\n",
       "      <td>0.169157</td>\n",
       "      <td>0.068214</td>\n",
       "      <td>0.279375</td>\n",
       "      <td>0.081250</td>\n",
       "      <td>0.215333</td>\n",
       "      <td>0.010000</td>\n",
       "      <td>0.116250</td>\n",
       "      <td>0.336667</td>\n",
       "      <td>0.813191</td>\n",
       "      <td>0.105000</td>\n",
       "      <td>0.489375</td>\n",
       "      <td>0.086923</td>\n",
       "    </tr>\n",
       "    <tr>\n",
       "      <th>25%</th>\n",
       "      <td>0.228379</td>\n",
       "      <td>0.072980</td>\n",
       "      <td>0.327783</td>\n",
       "      <td>0.188958</td>\n",
       "      <td>0.340359</td>\n",
       "      <td>0.064167</td>\n",
       "      <td>0.282292</td>\n",
       "      <td>0.409615</td>\n",
       "      <td>1.100319</td>\n",
       "      <td>0.241167</td>\n",
       "      <td>0.590789</td>\n",
       "      <td>0.101274</td>\n",
       "    </tr>\n",
       "    <tr>\n",
       "      <th>50%</th>\n",
       "      <td>0.287600</td>\n",
       "      <td>0.077746</td>\n",
       "      <td>0.376190</td>\n",
       "      <td>0.296667</td>\n",
       "      <td>0.465385</td>\n",
       "      <td>0.118333</td>\n",
       "      <td>0.448333</td>\n",
       "      <td>0.482564</td>\n",
       "      <td>1.387447</td>\n",
       "      <td>0.377333</td>\n",
       "      <td>0.692203</td>\n",
       "      <td>0.115625</td>\n",
       "    </tr>\n",
       "    <tr>\n",
       "      <th>75%</th>\n",
       "      <td>0.406368</td>\n",
       "      <td>0.114429</td>\n",
       "      <td>0.532660</td>\n",
       "      <td>0.440333</td>\n",
       "      <td>0.673192</td>\n",
       "      <td>0.165595</td>\n",
       "      <td>0.532685</td>\n",
       "      <td>0.497574</td>\n",
       "      <td>1.686518</td>\n",
       "      <td>0.442303</td>\n",
       "      <td>0.771196</td>\n",
       "      <td>0.119063</td>\n",
       "    </tr>\n",
       "    <tr>\n",
       "      <th>max</th>\n",
       "      <td>0.525135</td>\n",
       "      <td>0.151111</td>\n",
       "      <td>0.689130</td>\n",
       "      <td>0.584000</td>\n",
       "      <td>0.881000</td>\n",
       "      <td>0.212857</td>\n",
       "      <td>0.617037</td>\n",
       "      <td>0.512584</td>\n",
       "      <td>1.985588</td>\n",
       "      <td>0.507273</td>\n",
       "      <td>0.850189</td>\n",
       "      <td>0.122500</td>\n",
       "    </tr>\n",
       "  </tbody>\n",
       "</table>\n",
       "</div>"
      ],
      "text/plain": [
       "genre    Action  Adventure  Fighting      Misc  Platform    Puzzle    Racing  \\\n",
       "count  3.000000   3.000000  3.000000  3.000000  3.000000  3.000000  3.000000   \n",
       "mean   0.327297   0.099024  0.448232  0.320639  0.520573  0.113730  0.393873   \n",
       "std    0.181279   0.045360  0.214167  0.252231  0.336247  0.101507  0.254797   \n",
       "min    0.169157   0.068214  0.279375  0.081250  0.215333  0.010000  0.116250   \n",
       "25%    0.228379   0.072980  0.327783  0.188958  0.340359  0.064167  0.282292   \n",
       "50%    0.287600   0.077746  0.376190  0.296667  0.465385  0.118333  0.448333   \n",
       "75%    0.406368   0.114429  0.532660  0.440333  0.673192  0.165595  0.532685   \n",
       "max    0.525135   0.151111  0.689130  0.584000  0.881000  0.212857  0.617037   \n",
       "\n",
       "genre  Role-Playing   Shooter  Simulation    Sports  Strategy  \n",
       "count      3.000000  3.000000    3.000000  3.000000  3.000000  \n",
       "mean       0.443938  1.395409    0.329869  0.677256  0.108349  \n",
       "std        0.094105  0.586239    0.205294  0.180871  0.018871  \n",
       "min        0.336667  0.813191    0.105000  0.489375  0.086923  \n",
       "25%        0.409615  1.100319    0.241167  0.590789  0.101274  \n",
       "50%        0.482564  1.387447    0.377333  0.692203  0.115625  \n",
       "75%        0.497574  1.686518    0.442303  0.771196  0.119063  \n",
       "max        0.512584  1.985588    0.507273  0.850189  0.122500  "
      ]
     },
     "execution_count": 77,
     "metadata": {},
     "output_type": "execute_result"
    }
   ],
   "source": [
    "actual_genre_games_describe = actual_platforms_research.pivot_table(index = 'year_of_release', columns = 'genre', \n",
    "                                                                   values = 'total_sales')\n",
    "actual_genre_games_describe.describe()"
   ]
  },
  {
   "cell_type": "code",
   "execution_count": 78,
   "id": "874b6142",
   "metadata": {},
   "outputs": [
    {
     "data": {
      "text/plain": [
       "genre\n",
       "Shooter         1.387447\n",
       "Sports          0.692203\n",
       "Role-Playing    0.482564\n",
       "Platform        0.465385\n",
       "Racing          0.448333\n",
       "Simulation      0.377333\n",
       "Fighting        0.376190\n",
       "Misc            0.296667\n",
       "Action          0.287600\n",
       "Puzzle          0.118333\n",
       "Strategy        0.115625\n",
       "Adventure       0.077746\n",
       "dtype: float64"
      ]
     },
     "execution_count": 78,
     "metadata": {},
     "output_type": "execute_result"
    }
   ],
   "source": [
    "actual_genre_games_describe.median().sort_values(ascending=False)"
   ]
  },
  {
   "cell_type": "markdown",
   "id": "46d0ba5a",
   "metadata": {},
   "source": [
    "We confirm the conclusion made earlier:\n",
    "Despite the fact that platforms most often release games in the Action genre, this genre brings very mediocre profits:\n",
    "- Action = 0.287\n",
    "\n",
    "The most profitable genres are:\n",
    "- Shooter = 1.387\n",
    "- Sports = 0.692\n",
    "- Platform = 0.465"
   ]
  },
  {
   "cell_type": "markdown",
   "id": "9f97f9d3",
   "metadata": {},
   "source": [
    "### 5 - Create a user portrait for each region:\n",
    "\n",
    "**Specify for user in each region (NA, EU, JP):**\n",
    "- Most popular platforms (top 5). Describe the difference in sales shares.\n",
    "- The most popular genres (top 5). Explain the difference.\n",
    "- Does the ESRB rating affect sales in a particular region?"
   ]
  },
  {
   "cell_type": "markdown",
   "id": "abf14c08",
   "metadata": {},
   "source": [
    "**Most popular platforms (top 5). Describe differences in share of sales.**"
   ]
  },
  {
   "cell_type": "code",
   "execution_count": 79,
   "id": "7ca3c4be",
   "metadata": {},
   "outputs": [
    {
     "data": {
      "text/html": [
       "<div>\n",
       "<style scoped>\n",
       "    .dataframe tbody tr th:only-of-type {\n",
       "        vertical-align: middle;\n",
       "    }\n",
       "\n",
       "    .dataframe tbody tr th {\n",
       "        vertical-align: top;\n",
       "    }\n",
       "\n",
       "    .dataframe thead th {\n",
       "        text-align: right;\n",
       "    }\n",
       "</style>\n",
       "<table border=\"1\" class=\"dataframe\">\n",
       "  <thead>\n",
       "    <tr style=\"text-align: right;\">\n",
       "      <th></th>\n",
       "      <th>name</th>\n",
       "      <th>platform</th>\n",
       "      <th>year_of_release</th>\n",
       "      <th>genre</th>\n",
       "      <th>na_sales</th>\n",
       "      <th>eu_sales</th>\n",
       "      <th>jp_sales</th>\n",
       "      <th>other_sales</th>\n",
       "      <th>critic_score</th>\n",
       "      <th>user_score</th>\n",
       "      <th>rating</th>\n",
       "      <th>total_sales</th>\n",
       "    </tr>\n",
       "  </thead>\n",
       "  <tbody>\n",
       "    <tr>\n",
       "      <th>31</th>\n",
       "      <td>Call of Duty: Black Ops 3</td>\n",
       "      <td>PS4</td>\n",
       "      <td>2015</td>\n",
       "      <td>Shooter</td>\n",
       "      <td>6.03</td>\n",
       "      <td>5.86</td>\n",
       "      <td>0.36</td>\n",
       "      <td>2.38</td>\n",
       "      <td>NaN</td>\n",
       "      <td>NaN</td>\n",
       "      <td>mix</td>\n",
       "      <td>14.63</td>\n",
       "    </tr>\n",
       "    <tr>\n",
       "      <th>42</th>\n",
       "      <td>Grand Theft Auto V</td>\n",
       "      <td>PS4</td>\n",
       "      <td>2014</td>\n",
       "      <td>Action</td>\n",
       "      <td>3.96</td>\n",
       "      <td>6.31</td>\n",
       "      <td>0.38</td>\n",
       "      <td>1.97</td>\n",
       "      <td>97.0</td>\n",
       "      <td>8.3</td>\n",
       "      <td>M</td>\n",
       "      <td>12.62</td>\n",
       "    </tr>\n",
       "    <tr>\n",
       "      <th>47</th>\n",
       "      <td>Pokemon Omega Ruby/Pokemon Alpha Sapphire</td>\n",
       "      <td>3DS</td>\n",
       "      <td>2014</td>\n",
       "      <td>Role-Playing</td>\n",
       "      <td>4.35</td>\n",
       "      <td>3.49</td>\n",
       "      <td>3.10</td>\n",
       "      <td>0.74</td>\n",
       "      <td>NaN</td>\n",
       "      <td>NaN</td>\n",
       "      <td>mix</td>\n",
       "      <td>11.68</td>\n",
       "    </tr>\n",
       "    <tr>\n",
       "      <th>77</th>\n",
       "      <td>FIFA 16</td>\n",
       "      <td>PS4</td>\n",
       "      <td>2015</td>\n",
       "      <td>Sports</td>\n",
       "      <td>1.12</td>\n",
       "      <td>6.12</td>\n",
       "      <td>0.06</td>\n",
       "      <td>1.28</td>\n",
       "      <td>82.0</td>\n",
       "      <td>4.3</td>\n",
       "      <td>E</td>\n",
       "      <td>8.58</td>\n",
       "    </tr>\n",
       "    <tr>\n",
       "      <th>87</th>\n",
       "      <td>Star Wars Battlefront (2015)</td>\n",
       "      <td>PS4</td>\n",
       "      <td>2015</td>\n",
       "      <td>Shooter</td>\n",
       "      <td>2.99</td>\n",
       "      <td>3.49</td>\n",
       "      <td>0.22</td>\n",
       "      <td>1.28</td>\n",
       "      <td>NaN</td>\n",
       "      <td>NaN</td>\n",
       "      <td>mix</td>\n",
       "      <td>7.98</td>\n",
       "    </tr>\n",
       "    <tr>\n",
       "      <th>...</th>\n",
       "      <td>...</td>\n",
       "      <td>...</td>\n",
       "      <td>...</td>\n",
       "      <td>...</td>\n",
       "      <td>...</td>\n",
       "      <td>...</td>\n",
       "      <td>...</td>\n",
       "      <td>...</td>\n",
       "      <td>...</td>\n",
       "      <td>...</td>\n",
       "      <td>...</td>\n",
       "      <td>...</td>\n",
       "    </tr>\n",
       "    <tr>\n",
       "      <th>16703</th>\n",
       "      <td>Strawberry Nauts</td>\n",
       "      <td>PSV</td>\n",
       "      <td>2016</td>\n",
       "      <td>Adventure</td>\n",
       "      <td>0.00</td>\n",
       "      <td>0.00</td>\n",
       "      <td>0.01</td>\n",
       "      <td>0.00</td>\n",
       "      <td>NaN</td>\n",
       "      <td>NaN</td>\n",
       "      <td>mix</td>\n",
       "      <td>0.01</td>\n",
       "    </tr>\n",
       "    <tr>\n",
       "      <th>16707</th>\n",
       "      <td>Aiyoku no Eustia</td>\n",
       "      <td>PSV</td>\n",
       "      <td>2014</td>\n",
       "      <td>Misc</td>\n",
       "      <td>0.00</td>\n",
       "      <td>0.00</td>\n",
       "      <td>0.01</td>\n",
       "      <td>0.00</td>\n",
       "      <td>NaN</td>\n",
       "      <td>NaN</td>\n",
       "      <td>mix</td>\n",
       "      <td>0.01</td>\n",
       "    </tr>\n",
       "    <tr>\n",
       "      <th>16710</th>\n",
       "      <td>Samurai Warriors: Sanada Maru</td>\n",
       "      <td>PS3</td>\n",
       "      <td>2016</td>\n",
       "      <td>Action</td>\n",
       "      <td>0.00</td>\n",
       "      <td>0.00</td>\n",
       "      <td>0.01</td>\n",
       "      <td>0.00</td>\n",
       "      <td>NaN</td>\n",
       "      <td>NaN</td>\n",
       "      <td>mix</td>\n",
       "      <td>0.01</td>\n",
       "    </tr>\n",
       "    <tr>\n",
       "      <th>16712</th>\n",
       "      <td>Haitaka no Psychedelica</td>\n",
       "      <td>PSV</td>\n",
       "      <td>2016</td>\n",
       "      <td>Adventure</td>\n",
       "      <td>0.00</td>\n",
       "      <td>0.00</td>\n",
       "      <td>0.01</td>\n",
       "      <td>0.00</td>\n",
       "      <td>NaN</td>\n",
       "      <td>NaN</td>\n",
       "      <td>mix</td>\n",
       "      <td>0.01</td>\n",
       "    </tr>\n",
       "    <tr>\n",
       "      <th>16714</th>\n",
       "      <td>Winning Post 8 2016</td>\n",
       "      <td>PSV</td>\n",
       "      <td>2016</td>\n",
       "      <td>Simulation</td>\n",
       "      <td>0.00</td>\n",
       "      <td>0.00</td>\n",
       "      <td>0.01</td>\n",
       "      <td>0.00</td>\n",
       "      <td>NaN</td>\n",
       "      <td>NaN</td>\n",
       "      <td>mix</td>\n",
       "      <td>0.01</td>\n",
       "    </tr>\n",
       "  </tbody>\n",
       "</table>\n",
       "<p>1676 rows × 12 columns</p>\n",
       "</div>"
      ],
      "text/plain": [
       "                                            name platform  year_of_release  \\\n",
       "31                     Call of Duty: Black Ops 3      PS4             2015   \n",
       "42                            Grand Theft Auto V      PS4             2014   \n",
       "47     Pokemon Omega Ruby/Pokemon Alpha Sapphire      3DS             2014   \n",
       "77                                       FIFA 16      PS4             2015   \n",
       "87                  Star Wars Battlefront (2015)      PS4             2015   \n",
       "...                                          ...      ...              ...   \n",
       "16703                           Strawberry Nauts      PSV             2016   \n",
       "16707                           Aiyoku no Eustia      PSV             2014   \n",
       "16710              Samurai Warriors: Sanada Maru      PS3             2016   \n",
       "16712                    Haitaka no Psychedelica      PSV             2016   \n",
       "16714                        Winning Post 8 2016      PSV             2016   \n",
       "\n",
       "              genre  na_sales  eu_sales  jp_sales  other_sales  critic_score  \\\n",
       "31          Shooter      6.03      5.86      0.36         2.38           NaN   \n",
       "42           Action      3.96      6.31      0.38         1.97          97.0   \n",
       "47     Role-Playing      4.35      3.49      3.10         0.74           NaN   \n",
       "77           Sports      1.12      6.12      0.06         1.28          82.0   \n",
       "87          Shooter      2.99      3.49      0.22         1.28           NaN   \n",
       "...             ...       ...       ...       ...          ...           ...   \n",
       "16703     Adventure      0.00      0.00      0.01         0.00           NaN   \n",
       "16707          Misc      0.00      0.00      0.01         0.00           NaN   \n",
       "16710        Action      0.00      0.00      0.01         0.00           NaN   \n",
       "16712     Adventure      0.00      0.00      0.01         0.00           NaN   \n",
       "16714    Simulation      0.00      0.00      0.01         0.00           NaN   \n",
       "\n",
       "       user_score rating  total_sales  \n",
       "31            NaN    mix        14.63  \n",
       "42            8.3      M        12.62  \n",
       "47            NaN    mix        11.68  \n",
       "77            4.3      E         8.58  \n",
       "87            NaN    mix         7.98  \n",
       "...           ...    ...          ...  \n",
       "16703         NaN    mix         0.01  \n",
       "16707         NaN    mix         0.01  \n",
       "16710         NaN    mix         0.01  \n",
       "16712         NaN    mix         0.01  \n",
       "16714         NaN    mix         0.01  \n",
       "\n",
       "[1676 rows x 12 columns]"
      ]
     },
     "execution_count": 79,
     "metadata": {},
     "output_type": "execute_result"
    }
   ],
   "source": [
    "actual_platforms_research"
   ]
  },
  {
   "cell_type": "code",
   "execution_count": 80,
   "id": "0625f9fc",
   "metadata": {},
   "outputs": [],
   "source": [
    "# Let's write a function that will group the data set by platform, search for sales volume by platform, sort\n",
    "# received data and display top 5 platforms:\n",
    "\n",
    "def top_platform(row):\n",
    "    row_top_platform = actual_platforms_research.pivot_table(index='platform', values = row,\n",
    "                                                             aggfunc='sum').sort_values(by=row, ascending=False)    \n",
    "    row_top_platform.loc[('Other')] = round(row_top_platform.iloc[5:].sum()[0], 2)    \n",
    "    row_top_platform['persent'] =  (row_top_platform[row] / row_top_platform[row].sum())*100\n",
    "    row_top_platform =row_top_platform.sort_values(by=row, ascending=False)[:6]\n",
    "    \n",
    "    \n",
    "    return row_top_platform\n",
    "\n",
    "    \n",
    "# Created a function that allows you to display results next to a friend:\n",
    "def display_side_by_side(*args):\n",
    "    html_str=' '\n",
    "    for df in args:\n",
    "        html_str+=df.to_html()\n",
    "    display_html(html_str.replace('table','table style=\"display:inline\"'),raw=True)"
   ]
  },
  {
   "cell_type": "code",
   "execution_count": 81,
   "id": "314b483f",
   "metadata": {},
   "outputs": [
    {
     "data": {
      "text/html": [
       " <table style=\"display:inline\" border=\"1\" class=\"dataframe\">\n",
       "  <thead>\n",
       "    <tr style=\"text-align: right;\">\n",
       "      <th></th>\n",
       "      <th>na_sales</th>\n",
       "      <th>persent</th>\n",
       "    </tr>\n",
       "    <tr>\n",
       "      <th>platform</th>\n",
       "      <th></th>\n",
       "      <th></th>\n",
       "    </tr>\n",
       "  </thead>\n",
       "  <tbody>\n",
       "    <tr>\n",
       "      <th>PS4</th>\n",
       "      <td>98.61</td>\n",
       "      <td>31.279937</td>\n",
       "    </tr>\n",
       "    <tr>\n",
       "      <th>XOne</th>\n",
       "      <td>81.27</td>\n",
       "      <td>25.779540</td>\n",
       "    </tr>\n",
       "    <tr>\n",
       "      <th>Other</th>\n",
       "      <td>31.19</td>\n",
       "      <td>9.893735</td>\n",
       "    </tr>\n",
       "    <tr>\n",
       "      <th>X360</th>\n",
       "      <td>28.30</td>\n",
       "      <td>8.977002</td>\n",
       "    </tr>\n",
       "    <tr>\n",
       "      <th>3DS</th>\n",
       "      <td>22.64</td>\n",
       "      <td>7.181602</td>\n",
       "    </tr>\n",
       "    <tr>\n",
       "      <th>PS3</th>\n",
       "      <td>22.05</td>\n",
       "      <td>6.994449</td>\n",
       "    </tr>\n",
       "  </tbody>\n",
       "</table style=\"display:inline\"><table style=\"display:inline\" border=\"1\" class=\"dataframe\">\n",
       "  <thead>\n",
       "    <tr style=\"text-align: right;\">\n",
       "      <th></th>\n",
       "      <th>eu_sales</th>\n",
       "      <th>persent</th>\n",
       "    </tr>\n",
       "    <tr>\n",
       "      <th>platform</th>\n",
       "      <th></th>\n",
       "      <th></th>\n",
       "    </tr>\n",
       "  </thead>\n",
       "  <tbody>\n",
       "    <tr>\n",
       "      <th>PS4</th>\n",
       "      <td>130.04</td>\n",
       "      <td>42.574646</td>\n",
       "    </tr>\n",
       "    <tr>\n",
       "      <th>XOne</th>\n",
       "      <td>46.25</td>\n",
       "      <td>15.142090</td>\n",
       "    </tr>\n",
       "    <tr>\n",
       "      <th>Other</th>\n",
       "      <td>34.76</td>\n",
       "      <td>11.380304</td>\n",
       "    </tr>\n",
       "    <tr>\n",
       "      <th>PS3</th>\n",
       "      <td>25.54</td>\n",
       "      <td>8.361708</td>\n",
       "    </tr>\n",
       "    <tr>\n",
       "      <th>PC</th>\n",
       "      <td>17.97</td>\n",
       "      <td>5.883316</td>\n",
       "    </tr>\n",
       "    <tr>\n",
       "      <th>3DS</th>\n",
       "      <td>16.12</td>\n",
       "      <td>5.277632</td>\n",
       "    </tr>\n",
       "  </tbody>\n",
       "</table style=\"display:inline\"><table style=\"display:inline\" border=\"1\" class=\"dataframe\">\n",
       "  <thead>\n",
       "    <tr style=\"text-align: right;\">\n",
       "      <th></th>\n",
       "      <th>jp_sales</th>\n",
       "      <th>persent</th>\n",
       "    </tr>\n",
       "    <tr>\n",
       "      <th>platform</th>\n",
       "      <th></th>\n",
       "      <th></th>\n",
       "    </tr>\n",
       "  </thead>\n",
       "  <tbody>\n",
       "    <tr>\n",
       "      <th>3DS</th>\n",
       "      <td>44.24</td>\n",
       "      <td>47.503490</td>\n",
       "    </tr>\n",
       "    <tr>\n",
       "      <th>PS4</th>\n",
       "      <td>15.02</td>\n",
       "      <td>16.127993</td>\n",
       "    </tr>\n",
       "    <tr>\n",
       "      <th>PSV</th>\n",
       "      <td>14.54</td>\n",
       "      <td>15.612585</td>\n",
       "    </tr>\n",
       "    <tr>\n",
       "      <th>PS3</th>\n",
       "      <td>11.22</td>\n",
       "      <td>12.047675</td>\n",
       "    </tr>\n",
       "    <tr>\n",
       "      <th>WiiU</th>\n",
       "      <td>7.31</td>\n",
       "      <td>7.849243</td>\n",
       "    </tr>\n",
       "    <tr>\n",
       "      <th>Other</th>\n",
       "      <td>0.40</td>\n",
       "      <td>0.429507</td>\n",
       "    </tr>\n",
       "  </tbody>\n",
       "</table style=\"display:inline\">"
      ]
     },
     "metadata": {},
     "output_type": "display_data"
    }
   ],
   "source": [
    "display_side_by_side(top_platform('na_sales'),top_platform('eu_sales'),top_platform('jp_sales'))"
   ]
  },
  {
   "cell_type": "code",
   "execution_count": 82,
   "id": "3461e93e",
   "metadata": {},
   "outputs": [],
   "source": [
    "# Visualize data on pie charts:\n",
    "\n",
    "def top_pie(row,ax):  \n",
    "    title_dict = {'na_sales': 'Top platforms in North America', 'eu_sales': 'Top platforms in Europe', 'jp_sales': 'Top platforms in Japan'}\n",
    "    pie_top = top_platform(row)       \n",
    "    \n",
    "    pie_top[row].plot(kind='pie', ax=axes[ax], autopct='%.0f%%', title=title_dict[row], rot=30)\n",
    "    \n",
    "    ax = plt.gca()\n",
    "   "
   ]
  },
  {
   "cell_type": "code",
   "execution_count": 83,
   "id": "3e2adb85",
   "metadata": {},
   "outputs": [
    {
     "data": {
      "image/png": "[encoded data removed]",
      "text/plain": [
       "<Figure size 1296x1080 with 3 Axes>"
      ]
     },
     "metadata": {},
     "output_type": "display_data"
    }
   ],
   "source": [
    "# display sales pie charts by region :\n",
    "\n",
    "fig, axes, = plt.subplots(1, 3, figsize=(18,15))\n",
    "\n",
    "\n",
    "top_pie('na_sales',0)\n",
    "top_pie('eu_sales',1)\n",
    "top_pie('jp_sales',2)\n"
   ]
  },
  {
   "cell_type": "markdown",
   "id": "53a4592b",
   "metadata": {},
   "source": [
    "Description of the difference in proportions:\n",
    "In North America, the most popular platforms are:\n",
    "- PS4 - 35%\n",
    "- XOne - 29%\n",
    "\n",
    "In Europe, the most popular platforms are:\n",
    "- PS4 - 48%\n",
    "- XOne - 17%\n",
    "\n",
    "In Japan, the most popular platforms are:\n",
    "- 3DS - 48%\n",
    "- PS4 - 16%\n",
    "- PSV - 16%"
   ]
  },
  {
   "cell_type": "markdown",
   "id": "dee94470",
   "metadata": {},
   "source": [
    "**Most popular genres (top 5). Explain the difference**"
   ]
  },
  {
   "cell_type": "code",
   "execution_count": 84,
   "id": "65bca47e",
   "metadata": {},
   "outputs": [],
   "source": [
    "# Let's write a function that will group the data set by genre, search for sales volume, sort\n",
    "# received data and display top 5 genres:\n",
    "\n",
    "def top_genre(row):    \n",
    "    row_top_genre = actual_platforms_research.pivot_table(index='genre', values = row,aggfunc='sum').sort_values(by=row, ascending=False)\n",
    "    row_top_genre.loc[('Other')] = round(row_top_genre.iloc[5:].sum()[0], 2)\n",
    "    row_top_genre['persent'] =  (row_top_genre[row] / row_top_genre[row].sum())*100    \n",
    "    row_top_genre = row_top_genre.sort_values(by=row, ascending=False)[:6]\n",
    "    return row_top_genre"
   ]
  },
  {
   "cell_type": "code",
   "execution_count": 85,
   "id": "85fad5c6",
   "metadata": {},
   "outputs": [
    {
     "data": {
      "text/html": [
       " <table style=\"display:inline\" border=\"1\" class=\"dataframe\">\n",
       "  <thead>\n",
       "    <tr style=\"text-align: right;\">\n",
       "      <th></th>\n",
       "      <th>na_sales</th>\n",
       "      <th>persent</th>\n",
       "    </tr>\n",
       "    <tr>\n",
       "      <th>genre</th>\n",
       "      <th></th>\n",
       "      <th></th>\n",
       "    </tr>\n",
       "  </thead>\n",
       "  <tbody>\n",
       "    <tr>\n",
       "      <th>Shooter</th>\n",
       "      <td>79.02</td>\n",
       "      <td>24.546471</td>\n",
       "    </tr>\n",
       "    <tr>\n",
       "      <th>Action</th>\n",
       "      <td>72.53</td>\n",
       "      <td>22.530442</td>\n",
       "    </tr>\n",
       "    <tr>\n",
       "      <th>Sports</th>\n",
       "      <td>46.13</td>\n",
       "      <td>14.329647</td>\n",
       "    </tr>\n",
       "    <tr>\n",
       "      <th>Other</th>\n",
       "      <td>37.86</td>\n",
       "      <td>11.760686</td>\n",
       "    </tr>\n",
       "    <tr>\n",
       "      <th>Role-Playing</th>\n",
       "      <td>33.47</td>\n",
       "      <td>10.396993</td>\n",
       "    </tr>\n",
       "    <tr>\n",
       "      <th>Misc</th>\n",
       "      <td>15.05</td>\n",
       "      <td>4.675075</td>\n",
       "    </tr>\n",
       "  </tbody>\n",
       "</table style=\"display:inline\"><table style=\"display:inline\" border=\"1\" class=\"dataframe\">\n",
       "  <thead>\n",
       "    <tr style=\"text-align: right;\">\n",
       "      <th></th>\n",
       "      <th>eu_sales</th>\n",
       "      <th>persent</th>\n",
       "    </tr>\n",
       "    <tr>\n",
       "      <th>genre</th>\n",
       "      <th></th>\n",
       "      <th></th>\n",
       "    </tr>\n",
       "  </thead>\n",
       "  <tbody>\n",
       "    <tr>\n",
       "      <th>Action</th>\n",
       "      <td>74.68</td>\n",
       "      <td>23.849519</td>\n",
       "    </tr>\n",
       "    <tr>\n",
       "      <th>Shooter</th>\n",
       "      <td>65.52</td>\n",
       "      <td>20.924217</td>\n",
       "    </tr>\n",
       "    <tr>\n",
       "      <th>Sports</th>\n",
       "      <td>45.73</td>\n",
       "      <td>14.604158</td>\n",
       "    </tr>\n",
       "    <tr>\n",
       "      <th>Other</th>\n",
       "      <td>42.45</td>\n",
       "      <td>13.556670</td>\n",
       "    </tr>\n",
       "    <tr>\n",
       "      <th>Role-Playing</th>\n",
       "      <td>28.17</td>\n",
       "      <td>8.996264</td>\n",
       "    </tr>\n",
       "    <tr>\n",
       "      <th>Racing</th>\n",
       "      <td>14.13</td>\n",
       "      <td>4.512503</td>\n",
       "    </tr>\n",
       "  </tbody>\n",
       "</table style=\"display:inline\"><table style=\"display:inline\" border=\"1\" class=\"dataframe\">\n",
       "  <thead>\n",
       "    <tr style=\"text-align: right;\">\n",
       "      <th></th>\n",
       "      <th>jp_sales</th>\n",
       "      <th>persent</th>\n",
       "    </tr>\n",
       "    <tr>\n",
       "      <th>genre</th>\n",
       "      <th></th>\n",
       "      <th></th>\n",
       "    </tr>\n",
       "  </thead>\n",
       "  <tbody>\n",
       "    <tr>\n",
       "      <th>Role-Playing</th>\n",
       "      <td>31.16</td>\n",
       "      <td>28.827829</td>\n",
       "    </tr>\n",
       "    <tr>\n",
       "      <th>Action</th>\n",
       "      <td>29.38</td>\n",
       "      <td>27.181053</td>\n",
       "    </tr>\n",
       "    <tr>\n",
       "      <th>Other</th>\n",
       "      <td>15.36</td>\n",
       "      <td>14.210380</td>\n",
       "    </tr>\n",
       "    <tr>\n",
       "      <th>Fighting</th>\n",
       "      <td>6.37</td>\n",
       "      <td>5.893237</td>\n",
       "    </tr>\n",
       "    <tr>\n",
       "      <th>Misc</th>\n",
       "      <td>5.59</td>\n",
       "      <td>5.171616</td>\n",
       "    </tr>\n",
       "    <tr>\n",
       "      <th>Shooter</th>\n",
       "      <td>4.87</td>\n",
       "      <td>4.505505</td>\n",
       "    </tr>\n",
       "  </tbody>\n",
       "</table style=\"display:inline\">"
      ]
     },
     "metadata": {},
     "output_type": "display_data"
    }
   ],
   "source": [
    "display_side_by_side(top_genre('na_sales'),top_genre('eu_sales'),top_genre('jp_sales'))"
   ]
  },
  {
   "cell_type": "code",
   "execution_count": 86,
   "id": "36fd603e",
   "metadata": {},
   "outputs": [
    {
     "data": {
      "text/html": [
       "<div>\n",
       "<style scoped>\n",
       "    .dataframe tbody tr th:only-of-type {\n",
       "        vertical-align: middle;\n",
       "    }\n",
       "\n",
       "    .dataframe tbody tr th {\n",
       "        vertical-align: top;\n",
       "    }\n",
       "\n",
       "    .dataframe thead th {\n",
       "        text-align: right;\n",
       "    }\n",
       "</style>\n",
       "<table border=\"1\" class=\"dataframe\">\n",
       "  <thead>\n",
       "    <tr style=\"text-align: right;\">\n",
       "      <th></th>\n",
       "      <th>na_sales</th>\n",
       "    </tr>\n",
       "    <tr>\n",
       "      <th>genre</th>\n",
       "      <th></th>\n",
       "    </tr>\n",
       "  </thead>\n",
       "  <tbody>\n",
       "    <tr>\n",
       "      <th>Puzzle</th>\n",
       "      <td>0.65</td>\n",
       "    </tr>\n",
       "    <tr>\n",
       "      <th>Strategy</th>\n",
       "      <td>0.98</td>\n",
       "    </tr>\n",
       "    <tr>\n",
       "      <th>Simulation</th>\n",
       "      <td>2.63</td>\n",
       "    </tr>\n",
       "    <tr>\n",
       "      <th>Adventure</th>\n",
       "      <td>5.64</td>\n",
       "    </tr>\n",
       "    <tr>\n",
       "      <th>Platform</th>\n",
       "      <td>6.79</td>\n",
       "    </tr>\n",
       "    <tr>\n",
       "      <th>Racing</th>\n",
       "      <td>8.74</td>\n",
       "    </tr>\n",
       "    <tr>\n",
       "      <th>Fighting</th>\n",
       "      <td>12.43</td>\n",
       "    </tr>\n",
       "    <tr>\n",
       "      <th>Misc</th>\n",
       "      <td>15.05</td>\n",
       "    </tr>\n",
       "    <tr>\n",
       "      <th>Role-Playing</th>\n",
       "      <td>33.47</td>\n",
       "    </tr>\n",
       "    <tr>\n",
       "      <th>Sports</th>\n",
       "      <td>46.13</td>\n",
       "    </tr>\n",
       "    <tr>\n",
       "      <th>Action</th>\n",
       "      <td>72.53</td>\n",
       "    </tr>\n",
       "    <tr>\n",
       "      <th>Shooter</th>\n",
       "      <td>79.02</td>\n",
       "    </tr>\n",
       "  </tbody>\n",
       "</table>\n",
       "</div>"
      ],
      "text/plain": [
       "              na_sales\n",
       "genre                 \n",
       "Puzzle            0.65\n",
       "Strategy          0.98\n",
       "Simulation        2.63\n",
       "Adventure         5.64\n",
       "Platform          6.79\n",
       "Racing            8.74\n",
       "Fighting         12.43\n",
       "Misc             15.05\n",
       "Role-Playing     33.47\n",
       "Sports           46.13\n",
       "Action           72.53\n",
       "Shooter          79.02"
      ]
     },
     "execution_count": 86,
     "metadata": {},
     "output_type": "execute_result"
    }
   ],
   "source": [
    "# check\n",
    "\n",
    "actual_platforms_research.pivot_table(index='genre', values = 'na_sales',aggfunc='sum').sort_values( by = 'na_sales')"
   ]
  },
  {
   "cell_type": "code",
   "execution_count": 87,
   "id": "1f1ffde8",
   "metadata": {},
   "outputs": [
    {
     "data": {
      "text/html": [
       " <table style=\"display:inline\" border=\"1\" class=\"dataframe\">\n",
       "  <thead>\n",
       "    <tr style=\"text-align: right;\">\n",
       "      <th></th>\n",
       "      <th>na_sales</th>\n",
       "      <th>persent</th>\n",
       "    </tr>\n",
       "    <tr>\n",
       "      <th>genre</th>\n",
       "      <th></th>\n",
       "      <th></th>\n",
       "    </tr>\n",
       "  </thead>\n",
       "  <tbody>\n",
       "    <tr>\n",
       "      <th>Shooter</th>\n",
       "      <td>79.02</td>\n",
       "      <td>24.546471</td>\n",
       "    </tr>\n",
       "    <tr>\n",
       "      <th>Action</th>\n",
       "      <td>72.53</td>\n",
       "      <td>22.530442</td>\n",
       "    </tr>\n",
       "    <tr>\n",
       "      <th>Sports</th>\n",
       "      <td>46.13</td>\n",
       "      <td>14.329647</td>\n",
       "    </tr>\n",
       "    <tr>\n",
       "      <th>Other</th>\n",
       "      <td>37.86</td>\n",
       "      <td>11.760686</td>\n",
       "    </tr>\n",
       "    <tr>\n",
       "      <th>Role-Playing</th>\n",
       "      <td>33.47</td>\n",
       "      <td>10.396993</td>\n",
       "    </tr>\n",
       "    <tr>\n",
       "      <th>Misc</th>\n",
       "      <td>15.05</td>\n",
       "      <td>4.675075</td>\n",
       "    </tr>\n",
       "  </tbody>\n",
       "</table style=\"display:inline\"><table style=\"display:inline\" border=\"1\" class=\"dataframe\">\n",
       "  <thead>\n",
       "    <tr style=\"text-align: right;\">\n",
       "      <th></th>\n",
       "      <th>eu_sales</th>\n",
       "      <th>persent</th>\n",
       "    </tr>\n",
       "    <tr>\n",
       "      <th>genre</th>\n",
       "      <th></th>\n",
       "      <th></th>\n",
       "    </tr>\n",
       "  </thead>\n",
       "  <tbody>\n",
       "    <tr>\n",
       "      <th>Action</th>\n",
       "      <td>74.68</td>\n",
       "      <td>23.849519</td>\n",
       "    </tr>\n",
       "    <tr>\n",
       "      <th>Shooter</th>\n",
       "      <td>65.52</td>\n",
       "      <td>20.924217</td>\n",
       "    </tr>\n",
       "    <tr>\n",
       "      <th>Sports</th>\n",
       "      <td>45.73</td>\n",
       "      <td>14.604158</td>\n",
       "    </tr>\n",
       "    <tr>\n",
       "      <th>Other</th>\n",
       "      <td>42.45</td>\n",
       "      <td>13.556670</td>\n",
       "    </tr>\n",
       "    <tr>\n",
       "      <th>Role-Playing</th>\n",
       "      <td>28.17</td>\n",
       "      <td>8.996264</td>\n",
       "    </tr>\n",
       "    <tr>\n",
       "      <th>Racing</th>\n",
       "      <td>14.13</td>\n",
       "      <td>4.512503</td>\n",
       "    </tr>\n",
       "  </tbody>\n",
       "</table style=\"display:inline\"><table style=\"display:inline\" border=\"1\" class=\"dataframe\">\n",
       "  <thead>\n",
       "    <tr style=\"text-align: right;\">\n",
       "      <th></th>\n",
       "      <th>jp_sales</th>\n",
       "      <th>persent</th>\n",
       "    </tr>\n",
       "    <tr>\n",
       "      <th>genre</th>\n",
       "      <th></th>\n",
       "      <th></th>\n",
       "    </tr>\n",
       "  </thead>\n",
       "  <tbody>\n",
       "    <tr>\n",
       "      <th>Role-Playing</th>\n",
       "      <td>31.16</td>\n",
       "      <td>28.827829</td>\n",
       "    </tr>\n",
       "    <tr>\n",
       "      <th>Action</th>\n",
       "      <td>29.38</td>\n",
       "      <td>27.181053</td>\n",
       "    </tr>\n",
       "    <tr>\n",
       "      <th>Other</th>\n",
       "      <td>15.36</td>\n",
       "      <td>14.210380</td>\n",
       "    </tr>\n",
       "    <tr>\n",
       "      <th>Fighting</th>\n",
       "      <td>6.37</td>\n",
       "      <td>5.893237</td>\n",
       "    </tr>\n",
       "    <tr>\n",
       "      <th>Misc</th>\n",
       "      <td>5.59</td>\n",
       "      <td>5.171616</td>\n",
       "    </tr>\n",
       "    <tr>\n",
       "      <th>Shooter</th>\n",
       "      <td>4.87</td>\n",
       "      <td>4.505505</td>\n",
       "    </tr>\n",
       "  </tbody>\n",
       "</table style=\"display:inline\">"
      ]
     },
     "metadata": {},
     "output_type": "display_data"
    }
   ],
   "source": [
    "display_side_by_side(top_genre('na_sales'),top_genre('eu_sales'),top_genre('jp_sales'))"
   ]
  },
  {
   "cell_type": "code",
   "execution_count": 88,
   "id": "4eeb57a6",
   "metadata": {},
   "outputs": [
    {
     "data": {
      "image/png": "[encoded data removed]",
      "text/plain": [
       "<Figure size 1440x1080 with 3 Axes>"
      ]
     },
     "metadata": {},
     "output_type": "display_data"
    }
   ],
   "source": [
    "# Visualize data on pie charts:\n",
    "\n",
    "def top_pie_genre(row,ax):\n",
    "\n",
    "    title_dict = {'na_sales': 'Top genres in North America', 'eu_sales': 'Top genres in Europe', 'jp_sales': 'Top genres in Japan'}\n",
    "    pie_top = top_genre(row)\n",
    "    pie_top[row].plot(kind='pie', ax=axes[ax], autopct='%.0f%%', title=title_dict[row], rot=30)\n",
    "    \n",
    "    ax = plt.gca()\n",
    "\n",
    "# display sales pie charts by region :\n",
    "fig, axes = plt.subplots(1, 3, figsize=(20,15))\n",
    "top_pie_genre('na_sales',0)\n",
    "top_pie_genre('eu_sales',1)\n",
    "top_pie_genre('jp_sales',2)"
   ]
  },
  {
   "cell_type": "markdown",
   "id": "fb828a9c",
   "metadata": {},
   "source": [
    "Description of the difference in proportions:\n",
    "In North America, the most popular genres are:\n",
    "- Shooter - 28%\n",
    "- Action - 26%\n",
    "\n",
    "The most popular genres in Europe are:\n",
    "- Action - 28%\n",
    "- Shooter - 24%\n",
    "\n",
    "The most popular genres in Japan are:\n",
    "- Role Playing - 34%\n",
    "- Action - 32%"
   ]
  },
  {
   "cell_type": "markdown",
   "id": "afe1739f",
   "metadata": {},
   "source": [
    "**Does the ESRB rating affect sales in a particular region?**"
   ]
  },
  {
   "cell_type": "code",
   "execution_count": 89,
   "id": "4b0014fb",
   "metadata": {},
   "outputs": [],
   "source": [
    "# Let's see which categories of games are the most profitable in different regions:\n",
    "\n",
    "def top_rating(row):\n",
    "    row_top_rating = actual_platforms_research.pivot_table(index='rating', values = row,aggfunc='sum')        \n",
    "    row_top_rating['persent'] =  (row_top_rating[row] / row_top_rating[row].sum())*100\n",
    "    row_top_rating = row_top_rating.sort_values(by=row, ascending=False)[:6]\n",
    "    return row_top_rating"
   ]
  },
  {
   "cell_type": "code",
   "execution_count": 90,
   "id": "dc73fc8b",
   "metadata": {},
   "outputs": [
    {
     "data": {
      "text/html": [
       " <table style=\"display:inline\" border=\"1\" class=\"dataframe\">\n",
       "  <thead>\n",
       "    <tr style=\"text-align: right;\">\n",
       "      <th></th>\n",
       "      <th>na_sales</th>\n",
       "      <th>persent</th>\n",
       "    </tr>\n",
       "    <tr>\n",
       "      <th>rating</th>\n",
       "      <th></th>\n",
       "      <th></th>\n",
       "    </tr>\n",
       "  </thead>\n",
       "  <tbody>\n",
       "    <tr>\n",
       "      <th>M</th>\n",
       "      <td>96.42</td>\n",
       "      <td>33.943533</td>\n",
       "    </tr>\n",
       "    <tr>\n",
       "      <th>mix</th>\n",
       "      <td>64.72</td>\n",
       "      <td>22.783919</td>\n",
       "    </tr>\n",
       "    <tr>\n",
       "      <th>E</th>\n",
       "      <td>50.74</td>\n",
       "      <td>17.862423</td>\n",
       "    </tr>\n",
       "    <tr>\n",
       "      <th>T</th>\n",
       "      <td>38.95</td>\n",
       "      <td>13.711892</td>\n",
       "    </tr>\n",
       "    <tr>\n",
       "      <th>E10+</th>\n",
       "      <td>33.23</td>\n",
       "      <td>11.698233</td>\n",
       "    </tr>\n",
       "  </tbody>\n",
       "</table style=\"display:inline\"><table style=\"display:inline\" border=\"1\" class=\"dataframe\">\n",
       "  <thead>\n",
       "    <tr style=\"text-align: right;\">\n",
       "      <th></th>\n",
       "      <th>eu_sales</th>\n",
       "      <th>persent</th>\n",
       "    </tr>\n",
       "    <tr>\n",
       "      <th>rating</th>\n",
       "      <th></th>\n",
       "      <th></th>\n",
       "    </tr>\n",
       "  </thead>\n",
       "  <tbody>\n",
       "    <tr>\n",
       "      <th>M</th>\n",
       "      <td>93.44</td>\n",
       "      <td>34.520467</td>\n",
       "    </tr>\n",
       "    <tr>\n",
       "      <th>mix</th>\n",
       "      <td>58.95</td>\n",
       "      <td>21.778484</td>\n",
       "    </tr>\n",
       "    <tr>\n",
       "      <th>E</th>\n",
       "      <td>58.06</td>\n",
       "      <td>21.449682</td>\n",
       "    </tr>\n",
       "    <tr>\n",
       "      <th>T</th>\n",
       "      <td>34.07</td>\n",
       "      <td>12.586818</td>\n",
       "    </tr>\n",
       "    <tr>\n",
       "      <th>E10+</th>\n",
       "      <td>26.16</td>\n",
       "      <td>9.664549</td>\n",
       "    </tr>\n",
       "  </tbody>\n",
       "</table style=\"display:inline\"><table style=\"display:inline\" border=\"1\" class=\"dataframe\">\n",
       "  <thead>\n",
       "    <tr style=\"text-align: right;\">\n",
       "      <th></th>\n",
       "      <th>jp_sales</th>\n",
       "      <th>persent</th>\n",
       "    </tr>\n",
       "    <tr>\n",
       "      <th>rating</th>\n",
       "      <th></th>\n",
       "      <th></th>\n",
       "    </tr>\n",
       "  </thead>\n",
       "  <tbody>\n",
       "    <tr>\n",
       "      <th>mix</th>\n",
       "      <td>56.54</td>\n",
       "      <td>60.972716</td>\n",
       "    </tr>\n",
       "    <tr>\n",
       "      <th>T</th>\n",
       "      <td>14.78</td>\n",
       "      <td>15.938747</td>\n",
       "    </tr>\n",
       "    <tr>\n",
       "      <th>E</th>\n",
       "      <td>8.94</td>\n",
       "      <td>9.640893</td>\n",
       "    </tr>\n",
       "    <tr>\n",
       "      <th>M</th>\n",
       "      <td>8.01</td>\n",
       "      <td>8.637981</td>\n",
       "    </tr>\n",
       "    <tr>\n",
       "      <th>E10+</th>\n",
       "      <td>4.46</td>\n",
       "      <td>4.809662</td>\n",
       "    </tr>\n",
       "  </tbody>\n",
       "</table style=\"display:inline\">"
      ]
     },
     "metadata": {},
     "output_type": "display_data"
    }
   ],
   "source": [
    "display_side_by_side(top_rating('na_sales'),top_rating('eu_sales'),top_rating('jp_sales'))"
   ]
  },
  {
   "cell_type": "code",
   "execution_count": 91,
   "id": "99580471",
   "metadata": {},
   "outputs": [],
   "source": [
    "# Visualize data with pie charts:\n",
    "\n",
    "def top_pie_rating(row,ax):\n",
    "    title_dict = {'na_sales': 'Top genres in North America', 'eu_sales': 'Top genres in Europe', 'jp_sales': 'Top genres in Japan'}\n",
    "    pie_top_rating = top_rating(row)\n",
    "    pie_top_rating[row].plot(kind='pie', ax = axes[ax], autopct = '%.0f%%',  title=title_dict[row], rot=30)\n",
    "    \n",
    "    ax = plt.gca()\n",
    "    "
   ]
  },
  {
   "cell_type": "code",
   "execution_count": 92,
   "id": "8251a6d6",
   "metadata": {},
   "outputs": [
    {
     "data": {
      "image/png": "[encoded data removed]",
      "text/plain": [
       "<Figure size 1296x1080 with 3 Axes>"
      ]
     },
     "metadata": {},
     "output_type": "display_data"
    }
   ],
   "source": [
    "fig, axes = plt.subplots(1, 3, figsize=(18,15))\n",
    "\n",
    "top_pie_rating('na_sales',0)\n",
    "top_pie_rating('eu_sales',1)\n",
    "top_pie_rating('jp_sales',2)"
   ]
  },
  {
   "cell_type": "markdown",
   "id": "39682310",
   "metadata": {},
   "source": [
    "Description of the difference in proportions:\n",
    "\n",
    "In North America, the most popular categories are:\n",
    "- M (\"For adults 17+\") - 34%\n",
    "- mix - 23%\n",
    "- E (\"For everyone from 10 years and older\") - 18%\n",
    "\n",
    "In Europe, the most popular categories are:\n",
    "- M (\"For adults 17+\") - 35%\n",
    "- E (\"For everyone from 10 years and older\") - 21%\n",
    "- mix - 22%\n",
    "\n",
    "In Japan, the most popular games that do not have an ESRB category are:\n",
    "- mix - 61%"
   ]
  },
  {
   "cell_type": "markdown",
   "id": "caac3302",
   "metadata": {},
   "source": [
    "### 6 - Hypothesis testing:\n",
    "- The average user ratings of the Xbox One and PC platforms are the same;\n",
    "- The average user ratings of the genres Action and Sports are different.\n",
    "\n",
    "Set the alpha threshold yourself.\n",
    "Explain:\n",
    "- How did you formulate the null and alternative hypotheses;\n",
    "- What criterion was used to test the hypotheses and why."
   ]
  },
  {
   "cell_type": "markdown",
   "id": "8f3f0ed1",
   "metadata": {},
   "source": [
    "**Formulation and testing of hypothesis No. 1:**\n",
    "\n",
    "The average user ratings of the Xbox One and PC platforms are the same:\n",
    "   - Null hypothesis - The average user ratings of the Xbox One and PC platforms are the same.\n",
    "   - Alternative hyptosis - The average user ratings of the Xbox One and PC platforms are different."
   ]
  },
  {
   "cell_type": "code",
   "execution_count": 93,
   "id": "af2870ec",
   "metadata": {},
   "outputs": [
    {
     "name": "stdout",
     "output_type": "stream",
     "text": [
      "p-value:  0.11601398086668832\n",
      "Failed to reject the null hypothesis. \n"
     ]
    }
   ],
   "source": [
    "# As samples, take the values from the current data set:\n",
    "actual_platforms_no_nan = actual_platforms_research.query('user_score.isna() != True')\n",
    "\n",
    "\n",
    "xone_sample = actual_platforms_no_nan.query('platform == \"XOne\"')\n",
    "pc_sample = actual_platforms_no_nan.query('platform == \"PC\" ')\n",
    "\n",
    "alpha = .05\n",
    "\n",
    "results = st.ttest_ind(xone_sample['user_score'], pc_sample['user_score'],equal_var=False)\n",
    "\n",
    "print('p-value: ', results.pvalue)\n",
    "\n",
    "if results.pvalue < alpha:\n",
    "    print(\"Rejecting the null hypothesis \")\n",
    "else:\n",
    "    print(\"Failed to reject the null hypothesis. \") "
   ]
  },
  {
   "cell_type": "code",
   "execution_count": 94,
   "id": "60fb69ea",
   "metadata": {},
   "outputs": [
    {
     "data": {
      "text/plain": [
       "array(['PS4', 'WiiU', 'XOne', 'PS3', 'X360', '3DS', 'PC', 'Wii', 'PSV'],\n",
       "      dtype=object)"
      ]
     },
     "execution_count": 94,
     "metadata": {},
     "output_type": "execute_result"
    }
   ],
   "source": [
    "# check\n",
    "actual_platforms_no_nan.platform.unique()\n"
   ]
  },
  {
   "cell_type": "code",
   "execution_count": 95,
   "id": "179230b0",
   "metadata": {},
   "outputs": [
    {
     "data": {
      "text/plain": [
       "6.594545454545453"
      ]
     },
     "execution_count": 95,
     "metadata": {},
     "output_type": "execute_result"
    }
   ],
   "source": [
    "#Let's test the hypothesis experimentally. Let's find the average user ratings of the Xbox One and PC platforms:\n",
    "xone_rating = actual_platforms_no_nan[actual_platforms_no_nan['platform'] == \"XOne\"]['user_score'].mean()\n",
    "xone_rating"
   ]
  },
  {
   "cell_type": "code",
   "execution_count": 96,
   "id": "5ee3253b",
   "metadata": {},
   "outputs": [
    {
     "data": {
      "text/plain": [
       "6.298360655737703"
      ]
     },
     "execution_count": 96,
     "metadata": {},
     "output_type": "execute_result"
    }
   ],
   "source": [
    "pc_rating = actual_platforms_no_nan[actual_platforms_no_nan['platform'] == \"PC\"]['user_score'].mean()\n",
    "pc_rating"
   ]
  },
  {
   "cell_type": "markdown",
   "id": "69bf8967",
   "metadata": {},
   "source": [
    "Hypothesis Test Conclusion #1:\n",
    "\n",
    "- the sample mean is significantly greater than the expected value of 0.05. therefore, the average user rating of the Xbox One platform is greater than the average user rating of the PC platform.\n",
    "- empirically obtained the values ​​of the average user ratings of the platforms Xbox One and PC 6.594 and 6.298"
   ]
  },
  {
   "cell_type": "markdown",
   "id": "cb7677d2",
   "metadata": {},
   "source": [
    "**Formulation and testing of hypothesis No. 2**\n",
    "\n",
    "Average user ratings for Action and Sports genres are different\n",
    "    - Null Hypothesis - The average user ratings of the Action and Sports genres are the same.\n",
    "    - Alternative hyptosis - Average user ratings of Action and Sports genres are different"
   ]
  },
  {
   "cell_type": "code",
   "execution_count": 97,
   "id": "ff875956",
   "metadata": {},
   "outputs": [
    {
     "name": "stdout",
     "output_type": "stream",
     "text": [
      "p-value:  1.1825550382644557e-14\n",
      "Reject the null hypothesis.\n"
     ]
    }
   ],
   "source": [
    "action_sample = actual_platforms_no_nan.query('genre == \"Action\"')\n",
    "sports_sample = actual_platforms_no_nan.query('genre == \"Sports\" ')\n",
    "\n",
    "alpha = .05\n",
    "\n",
    "results = st.ttest_ind(action_sample['user_score'], sports_sample['user_score'],equal_var=False)\n",
    "\n",
    "print('p-value: ', results.pvalue)\n",
    "\n",
    "if results.pvalue < alpha:\n",
    "    print(\"Reject the null hypothesis.\")\n",
    "else:\n",
    "    print(\"Failed to reject the null hypothesis.\") "
   ]
  },
  {
   "cell_type": "code",
   "execution_count": 98,
   "id": "aa0789d6",
   "metadata": {},
   "outputs": [
    {
     "data": {
      "text/plain": [
       "6.760606060606054"
      ]
     },
     "execution_count": 98,
     "metadata": {},
     "output_type": "execute_result"
    }
   ],
   "source": [
    "# Let's test the hypothesis experimentally. Let's find the average user ratings of the Xbox One and PC platforms:\n",
    "action_rating = actual_platforms_no_nan[actual_platforms_no_nan['genre'] == \"Action\"]['user_score'].mean()\n",
    "action_rating"
   ]
  },
  {
   "cell_type": "code",
   "execution_count": 99,
   "id": "6c102e2d",
   "metadata": {},
   "outputs": [
    {
     "data": {
      "text/plain": [
       "5.225196850393697"
      ]
     },
     "execution_count": 99,
     "metadata": {},
     "output_type": "execute_result"
    }
   ],
   "source": [
    "sports_rating = actual_platforms_no_nan[actual_platforms_no_nan['genre'] == \"Sports\"]['user_score'].mean()\n",
    "sports_rating"
   ]
  },
  {
   "cell_type": "markdown",
   "id": "a4294ae4",
   "metadata": {},
   "source": [
    "Conclusion on testing hypothesis No. 2:\n",
    "\n",
    "- the sample mean is significantly greater than the expected value of 0.05. , the average user ratings of the Action and Sports genres are different.\n",
    "- empirically obtained the values ​​of the average user ratings of the genres Action and Sports 6.760 and 5.225"
   ]
  },
  {
   "cell_type": "markdown",
   "id": "83d94a73",
   "metadata": {},
   "source": [
    "### 7 - General conclusion"
   ]
  },
  {
   "cell_type": "markdown",
   "id": "934e6ef6",
   "metadata": {},
   "source": [
    "The main objective of the project was to identify patterns that determine the success of the game.\n",
    "Among the patterns found were:\n",
    "\n",
    "**General trends in the gamedev market:**\n",
    "\n",
    "The peak of the game development trend has passed (it fell on 2007-2008). Now there is a downtrend. Less and less games are released every year and, unfortunately, sales volumes are falling along with the trend of released games.\n",
    "\n",
    "**Potentially profitable platforms:**\n",
    "All current platforms are experiencing a sharp decline in sales by 2016. Despite the fact that in 2013-2014 there are significant jumps in revenue for platforms such as PS4, PS3, X360, at the time of 2016 the best profit indicators are:\n",
    "- PS4 = 69.25 million\n",
    "- XOne = 26.15 million\n",
    "\n",
    "**Within the period 2013-2016, the sales figures of various platforms were considered. The following top platforms have been identified for this period:**\n",
    "\n",
    "Description of the result:\n",
    "- The maximum spread of data on sales volume is observed for platforms:\n",
    "   - PS4 = 25.059\n",
    "   - PS3 = 22.664\n",
    "   -Xone = 18.127\n",
    "   - X360 = 16.987\n",
    "   \n",
    "- The maximum median values ​​are observed for platforms:\n",
    "  - PS4 = 100.00\n",
    "  - XOne = 54.07\n",
    "  - 3DS = 27.78\n",
    "  - PS3 = 16.82\n",
    "  \n",
    "- The maximum average values ​​are observed for the platforms:\n",
    "  - PS4 = 96.050\n",
    "  -XOne = 46.786\n",
    "  - 3DS = 28.893\n",
    "  \n",
    "- Of this four, the smallest results in terms of sales volume include:\n",
    "  - PS3 = 3.6\n",
    "  \n",
    "- Of this four, the maximum results in terms of sales include:\n",
    "  - PS4 = 118.900\n",
    "  - XOne = 60.140\n",
    "  \n",
    "- Of this four, the maximum values ​​for the 3rd quantile are:\n",
    "  - PS4 = 109.45\n",
    "  -XOne = 57.105\n",
    "  \n",
    "Based on the data obtained, we can conclude that the undisputed leader in terms of sales is the PS4 platform, followed by XOne.\n",
    "\n",
    "**Dependence of sales volume on user ratings:**\n",
    "\n",
    "On platforms PS4, X360, XOne, PS3 - there is an increase in sales in proportion to the increasing valuation.\n",
    "Of the above platforms, the most clear correlation between valuation and sales volume is seen on the following platforms:\n",
    "- X360 = 0.525\n",
    "- PS3 = 0.427\n",
    "\n",
    "**Which genres are the most profitable in the context of 2014-2016**\n",
    "\n",
    "Despite the fact that platforms most often release games in the Action genre, this genre brings very mediocre profits:\n",
    "- Action = 0.287\n",
    "\n",
    "The most profitable genres are:\n",
    "- Shooter = 1.387\n",
    "- Sports = 0.692\n",
    "- Platform = 0.465\n",
    "\n",
    "\n",
    "**Which platforms are the most popular for players in NA, EU, JP countries:**\n",
    "\n",
    "In North America, the most popular platforms are:\n",
    "- PS4 - 35%\n",
    "- XOne - 29%\n",
    "\n",
    "In Europe, the most popular platforms are:\n",
    "- PS4 - 48%\n",
    "- XOne - 17%\n",
    "\n",
    "In Japan, the most popular platforms are:\n",
    "- 3DS - 48%\n",
    "- PS4 - 16%\n",
    "- PSV - 16%\n",
    "\n",
    "**Which genres are the most popular for players in NA, EU, JP countries:**\n",
    "\n",
    "In North America, the most popular genres are:\n",
    "- Shooter - 28%\n",
    "- Action - 26%\n",
    "\n",
    "The most popular genres in Europe are:\n",
    "- Action - 28%\n",
    "- Shooter - 24%\n",
    "\n",
    "The most popular genres in Japan are:\n",
    "- Role Playing - 34%\n",
    "- Action - 32%\n",
    "\n",
    "**What are the most popular ESRB game categories for players in NA, EU, JP:**\n",
    "\n",
    "In North America, the most popular categories are:\n",
    "- M (\"For adults 17+\") - 34%\n",
    "- mix - 23%\n",
    "- E (\"For everyone from 10 years and older\") - 18%\n",
    "\n",
    "In Europe, the most popular categories are:\n",
    "- M (\"For adults 17+\") - 35%\n",
    "- E (\"For everyone from 10 years and older\") - 21%\n",
    "- mix - 22%\n",
    "\n",
    "In Japan, the most popular games that do not have an ESRB category are:\n",
    "- mix - 61%"
   ]
  }
 ],
 "metadata": {
  "ExecuteTimeLog": [
   {
    "duration": 41,
    "start_time": "2022-08-11T20:18:04.787Z"
   },
   {
    "duration": 1027,
    "start_time": "2022-08-11T20:18:13.670Z"
   },
   {
    "duration": 94,
    "start_time": "2022-08-11T20:18:14.699Z"
   },
   {
    "duration": 16,
    "start_time": "2022-08-11T20:18:14.794Z"
   },
   {
    "duration": 13,
    "start_time": "2022-08-11T20:18:14.811Z"
   },
   {
    "duration": 9,
    "start_time": "2022-08-11T20:18:14.825Z"
   },
   {
    "duration": 8,
    "start_time": "2022-08-11T20:18:14.836Z"
   },
   {
    "duration": 22,
    "start_time": "2022-08-11T20:18:14.846Z"
   },
   {
    "duration": 14,
    "start_time": "2022-08-11T20:18:14.869Z"
   },
   {
    "duration": 5,
    "start_time": "2022-08-11T20:18:14.885Z"
   },
   {
    "duration": 9,
    "start_time": "2022-08-11T20:18:14.893Z"
   },
   {
    "duration": 8,
    "start_time": "2022-08-11T20:18:14.903Z"
   },
   {
    "duration": 7,
    "start_time": "2022-08-11T20:18:14.912Z"
   },
   {
    "duration": 8,
    "start_time": "2022-08-11T20:18:14.921Z"
   },
   {
    "duration": 13,
    "start_time": "2022-08-11T20:18:14.930Z"
   },
   {
    "duration": 7,
    "start_time": "2022-08-11T20:18:14.945Z"
   },
   {
    "duration": 8,
    "start_time": "2022-08-11T20:18:14.953Z"
   },
   {
    "duration": 9,
    "start_time": "2022-08-11T20:18:14.963Z"
   },
   {
    "duration": 8,
    "start_time": "2022-08-11T20:18:14.973Z"
   },
   {
    "duration": 26,
    "start_time": "2022-08-11T20:18:14.982Z"
   },
   {
    "duration": 51,
    "start_time": "2022-08-11T20:18:15.009Z"
   },
   {
    "duration": 2,
    "start_time": "2022-08-11T20:18:15.062Z"
   },
   {
    "duration": 9,
    "start_time": "2022-08-11T20:18:15.065Z"
   },
   {
    "duration": 10,
    "start_time": "2022-08-11T20:18:15.075Z"
   },
   {
    "duration": 20,
    "start_time": "2022-08-11T20:18:15.086Z"
   },
   {
    "duration": 18,
    "start_time": "2022-08-11T20:18:15.107Z"
   },
   {
    "duration": 7,
    "start_time": "2022-08-11T20:18:15.138Z"
   },
   {
    "duration": 8,
    "start_time": "2022-08-11T20:18:15.146Z"
   },
   {
    "duration": 17,
    "start_time": "2022-08-11T20:18:15.158Z"
   },
   {
    "duration": 10,
    "start_time": "2022-08-11T20:18:15.177Z"
   },
   {
    "duration": 20,
    "start_time": "2022-08-11T20:18:15.188Z"
   },
   {
    "duration": 30,
    "start_time": "2022-08-11T20:18:15.209Z"
   },
   {
    "duration": 6,
    "start_time": "2022-08-11T20:18:15.241Z"
   },
   {
    "duration": 26,
    "start_time": "2022-08-11T20:18:15.249Z"
   },
   {
    "duration": 65,
    "start_time": "2022-08-11T20:18:15.276Z"
   },
   {
    "duration": 40,
    "start_time": "2022-08-11T20:18:15.342Z"
   },
   {
    "duration": 43,
    "start_time": "2022-08-11T20:18:15.438Z"
   },
   {
    "duration": 64,
    "start_time": "2022-08-11T20:18:15.482Z"
   },
   {
    "duration": 8,
    "start_time": "2022-08-11T20:18:15.547Z"
   },
   {
    "duration": 7,
    "start_time": "2022-08-11T20:18:15.556Z"
   },
   {
    "duration": 12,
    "start_time": "2022-08-11T20:18:15.564Z"
   },
   {
    "duration": 14,
    "start_time": "2022-08-11T20:18:15.577Z"
   },
   {
    "duration": 48,
    "start_time": "2022-08-11T20:18:15.592Z"
   },
   {
    "duration": 13,
    "start_time": "2022-08-11T20:18:15.642Z"
   },
   {
    "duration": 8,
    "start_time": "2022-08-11T20:18:15.657Z"
   },
   {
    "duration": 682,
    "start_time": "2022-08-11T20:18:15.666Z"
   },
   {
    "duration": 613,
    "start_time": "2022-08-11T20:18:16.350Z"
   },
   {
    "duration": 12,
    "start_time": "2022-08-11T20:18:16.964Z"
   },
   {
    "duration": 298,
    "start_time": "2022-08-11T20:18:16.977Z"
   },
   {
    "duration": 20,
    "start_time": "2022-08-11T20:18:17.277Z"
   },
   {
    "duration": 1071,
    "start_time": "2022-08-11T20:18:17.299Z"
   },
   {
    "duration": 21,
    "start_time": "2022-08-11T20:18:18.372Z"
   },
   {
    "duration": 6,
    "start_time": "2022-08-11T20:18:18.394Z"
   },
   {
    "duration": 7,
    "start_time": "2022-08-11T20:18:18.401Z"
   },
   {
    "duration": 30,
    "start_time": "2022-08-11T20:18:18.409Z"
   },
   {
    "duration": 31,
    "start_time": "2022-08-11T20:18:18.440Z"
   },
   {
    "duration": 16,
    "start_time": "2022-08-11T20:18:18.473Z"
   },
   {
    "duration": 334,
    "start_time": "2022-08-11T20:18:18.490Z"
   },
   {
    "duration": 246,
    "start_time": "2022-08-11T20:18:18.825Z"
   },
   {
    "duration": 43,
    "start_time": "2022-08-11T20:18:19.073Z"
   },
   {
    "duration": 22,
    "start_time": "2022-08-11T20:18:19.117Z"
   },
   {
    "duration": 27,
    "start_time": "2022-08-11T20:18:19.141Z"
   },
   {
    "duration": 9,
    "start_time": "2022-08-11T20:18:19.170Z"
   },
   {
    "duration": 14,
    "start_time": "2022-08-11T20:18:19.180Z"
   },
   {
    "duration": 206,
    "start_time": "2022-08-11T20:18:19.195Z"
   },
   {
    "duration": 17,
    "start_time": "2022-08-11T20:18:19.403Z"
   },
   {
    "duration": 205,
    "start_time": "2022-08-11T20:18:19.421Z"
   },
   {
    "duration": 23,
    "start_time": "2022-08-11T20:18:19.627Z"
   },
   {
    "duration": 189,
    "start_time": "2022-08-11T20:18:19.651Z"
   },
   {
    "duration": 18,
    "start_time": "2022-08-11T20:18:19.841Z"
   },
   {
    "duration": 205,
    "start_time": "2022-08-11T20:18:19.860Z"
   },
   {
    "duration": 6,
    "start_time": "2022-08-11T20:18:20.066Z"
   },
   {
    "duration": 192,
    "start_time": "2022-08-11T20:18:20.073Z"
   },
   {
    "duration": 7,
    "start_time": "2022-08-11T20:18:20.266Z"
   },
   {
    "duration": 184,
    "start_time": "2022-08-11T20:18:20.274Z"
   },
   {
    "duration": 22,
    "start_time": "2022-08-11T20:18:20.460Z"
   },
   {
    "duration": 9,
    "start_time": "2022-08-11T20:18:20.484Z"
   },
   {
    "duration": 31,
    "start_time": "2022-08-11T20:18:20.494Z"
   },
   {
    "duration": 4,
    "start_time": "2022-08-11T20:18:20.538Z"
   },
   {
    "duration": 342,
    "start_time": "2022-08-11T20:18:20.544Z"
   },
   {
    "duration": 3,
    "start_time": "2022-08-11T20:18:20.888Z"
   },
   {
    "duration": 34,
    "start_time": "2022-08-11T20:18:20.892Z"
   },
   {
    "duration": 7,
    "start_time": "2022-08-11T20:18:20.931Z"
   },
   {
    "duration": 268,
    "start_time": "2022-08-11T20:18:20.939Z"
   },
   {
    "duration": 3,
    "start_time": "2022-08-11T20:18:21.209Z"
   },
   {
    "duration": 34,
    "start_time": "2022-08-11T20:18:21.213Z"
   },
   {
    "duration": 4,
    "start_time": "2022-08-11T20:18:21.248Z"
   },
   {
    "duration": 264,
    "start_time": "2022-08-11T20:18:21.253Z"
   },
   {
    "duration": 20,
    "start_time": "2022-08-11T20:18:21.518Z"
   },
   {
    "duration": 5,
    "start_time": "2022-08-11T20:18:21.540Z"
   },
   {
    "duration": 9,
    "start_time": "2022-08-11T20:18:21.547Z"
   },
   {
    "duration": 9,
    "start_time": "2022-08-11T20:18:21.558Z"
   },
   {
    "duration": 9,
    "start_time": "2022-08-11T20:18:21.568Z"
   },
   {
    "duration": 8,
    "start_time": "2022-08-11T20:18:21.578Z"
   },
   {
    "duration": 10,
    "start_time": "2022-08-11T20:36:36.159Z"
   },
   {
    "duration": 1082,
    "start_time": "2022-08-11T20:36:58.773Z"
   },
   {
    "duration": 51,
    "start_time": "2022-08-11T20:36:59.856Z"
   },
   {
    "duration": 15,
    "start_time": "2022-08-11T20:36:59.909Z"
   },
   {
    "duration": 14,
    "start_time": "2022-08-11T20:36:59.925Z"
   },
   {
    "duration": 13,
    "start_time": "2022-08-11T20:36:59.949Z"
   },
   {
    "duration": 3,
    "start_time": "2022-08-11T20:36:59.963Z"
   },
   {
    "duration": 13,
    "start_time": "2022-08-11T20:36:59.968Z"
   },
   {
    "duration": 14,
    "start_time": "2022-08-11T20:36:59.982Z"
   },
   {
    "duration": 4,
    "start_time": "2022-08-11T20:36:59.997Z"
   },
   {
    "duration": 26,
    "start_time": "2022-08-11T20:37:00.002Z"
   },
   {
    "duration": 17,
    "start_time": "2022-08-11T20:37:00.029Z"
   },
   {
    "duration": 13,
    "start_time": "2022-08-11T20:37:00.050Z"
   },
   {
    "duration": 8,
    "start_time": "2022-08-11T20:37:00.064Z"
   },
   {
    "duration": 20,
    "start_time": "2022-08-11T20:37:00.074Z"
   },
   {
    "duration": 16,
    "start_time": "2022-08-11T20:37:00.095Z"
   },
   {
    "duration": 20,
    "start_time": "2022-08-11T20:37:00.113Z"
   },
   {
    "duration": 32,
    "start_time": "2022-08-11T20:37:00.134Z"
   },
   {
    "duration": 21,
    "start_time": "2022-08-11T20:37:00.167Z"
   },
   {
    "duration": 44,
    "start_time": "2022-08-11T20:37:00.189Z"
   },
   {
    "duration": 36,
    "start_time": "2022-08-11T20:37:00.234Z"
   },
   {
    "duration": 2,
    "start_time": "2022-08-11T20:37:00.272Z"
   },
   {
    "duration": 21,
    "start_time": "2022-08-11T20:37:00.276Z"
   },
   {
    "duration": 11,
    "start_time": "2022-08-11T20:37:00.299Z"
   },
   {
    "duration": 38,
    "start_time": "2022-08-11T20:37:00.312Z"
   },
   {
    "duration": 30,
    "start_time": "2022-08-11T20:37:00.355Z"
   },
   {
    "duration": 9,
    "start_time": "2022-08-11T20:37:00.387Z"
   },
   {
    "duration": 15,
    "start_time": "2022-08-11T20:37:00.397Z"
   },
   {
    "duration": 22,
    "start_time": "2022-08-11T20:37:00.413Z"
   },
   {
    "duration": 21,
    "start_time": "2022-08-11T20:37:00.436Z"
   },
   {
    "duration": 23,
    "start_time": "2022-08-11T20:37:00.458Z"
   },
   {
    "duration": 4,
    "start_time": "2022-08-11T20:37:00.484Z"
   },
   {
    "duration": 27,
    "start_time": "2022-08-11T20:37:00.489Z"
   },
   {
    "duration": 30,
    "start_time": "2022-08-11T20:37:00.518Z"
   },
   {
    "duration": 45,
    "start_time": "2022-08-11T20:37:00.550Z"
   },
   {
    "duration": 65,
    "start_time": "2022-08-11T20:37:00.597Z"
   },
   {
    "duration": 44,
    "start_time": "2022-08-11T20:37:00.664Z"
   },
   {
    "duration": 34,
    "start_time": "2022-08-11T20:37:00.710Z"
   },
   {
    "duration": 8,
    "start_time": "2022-08-11T20:37:00.747Z"
   },
   {
    "duration": 45,
    "start_time": "2022-08-11T20:37:00.756Z"
   },
   {
    "duration": 20,
    "start_time": "2022-08-11T20:37:00.803Z"
   },
   {
    "duration": 47,
    "start_time": "2022-08-11T20:37:00.827Z"
   },
   {
    "duration": 15,
    "start_time": "2022-08-11T20:37:00.876Z"
   },
   {
    "duration": 14,
    "start_time": "2022-08-11T20:37:00.892Z"
   },
   {
    "duration": 12,
    "start_time": "2022-08-11T20:37:00.908Z"
   },
   {
    "duration": 364,
    "start_time": "2022-08-11T20:37:00.922Z"
   },
   {
    "duration": 360,
    "start_time": "2022-08-11T20:37:01.287Z"
   },
   {
    "duration": 14,
    "start_time": "2022-08-11T20:37:01.653Z"
   },
   {
    "duration": 310,
    "start_time": "2022-08-11T20:37:01.668Z"
   },
   {
    "duration": 21,
    "start_time": "2022-08-11T20:37:01.979Z"
   },
   {
    "duration": 1164,
    "start_time": "2022-08-11T20:37:02.002Z"
   },
   {
    "duration": 22,
    "start_time": "2022-08-11T20:37:03.168Z"
   },
   {
    "duration": 6,
    "start_time": "2022-08-11T20:37:03.191Z"
   },
   {
    "duration": 7,
    "start_time": "2022-08-11T20:37:03.199Z"
   },
   {
    "duration": 33,
    "start_time": "2022-08-11T20:37:03.207Z"
   },
   {
    "duration": 39,
    "start_time": "2022-08-11T20:37:03.244Z"
   },
   {
    "duration": 14,
    "start_time": "2022-08-11T20:37:03.285Z"
   },
   {
    "duration": 343,
    "start_time": "2022-08-11T20:37:03.300Z"
   },
   {
    "duration": 216,
    "start_time": "2022-08-11T20:37:03.644Z"
   },
   {
    "duration": 34,
    "start_time": "2022-08-11T20:37:03.862Z"
   },
   {
    "duration": 6,
    "start_time": "2022-08-11T20:37:03.898Z"
   },
   {
    "duration": 50,
    "start_time": "2022-08-11T20:37:03.906Z"
   },
   {
    "duration": 7,
    "start_time": "2022-08-11T20:37:03.958Z"
   },
   {
    "duration": 213,
    "start_time": "2022-08-11T20:37:03.967Z"
   },
   {
    "duration": 18,
    "start_time": "2022-08-11T20:37:04.181Z"
   },
   {
    "duration": 249,
    "start_time": "2022-08-11T20:37:04.201Z"
   },
   {
    "duration": 27,
    "start_time": "2022-08-11T20:37:04.454Z"
   },
   {
    "duration": 190,
    "start_time": "2022-08-11T20:37:04.482Z"
   },
   {
    "duration": 18,
    "start_time": "2022-08-11T20:37:04.673Z"
   },
   {
    "duration": 221,
    "start_time": "2022-08-11T20:37:04.692Z"
   },
   {
    "duration": 7,
    "start_time": "2022-08-11T20:37:04.914Z"
   },
   {
    "duration": 198,
    "start_time": "2022-08-11T20:37:04.923Z"
   },
   {
    "duration": 7,
    "start_time": "2022-08-11T20:37:05.122Z"
   },
   {
    "duration": 185,
    "start_time": "2022-08-11T20:37:05.138Z"
   },
   {
    "duration": 36,
    "start_time": "2022-08-11T20:37:05.325Z"
   },
   {
    "duration": 5,
    "start_time": "2022-08-11T20:37:05.363Z"
   },
   {
    "duration": 35,
    "start_time": "2022-08-11T20:37:05.369Z"
   },
   {
    "duration": 5,
    "start_time": "2022-08-11T20:37:05.406Z"
   },
   {
    "duration": 406,
    "start_time": "2022-08-11T20:37:05.413Z"
   },
   {
    "duration": 4,
    "start_time": "2022-08-11T20:37:05.820Z"
   },
   {
    "duration": 37,
    "start_time": "2022-08-11T20:37:05.825Z"
   },
   {
    "duration": 4,
    "start_time": "2022-08-11T20:37:05.863Z"
   },
   {
    "duration": 324,
    "start_time": "2022-08-11T20:37:05.868Z"
   },
   {
    "duration": 4,
    "start_time": "2022-08-11T20:37:06.194Z"
   },
   {
    "duration": 51,
    "start_time": "2022-08-11T20:37:06.200Z"
   },
   {
    "duration": 7,
    "start_time": "2022-08-11T20:37:06.253Z"
   },
   {
    "duration": 315,
    "start_time": "2022-08-11T20:37:06.262Z"
   },
   {
    "duration": 15,
    "start_time": "2022-08-11T20:37:06.579Z"
   },
   {
    "duration": 6,
    "start_time": "2022-08-11T20:37:06.595Z"
   },
   {
    "duration": 9,
    "start_time": "2022-08-11T20:37:06.602Z"
   },
   {
    "duration": 35,
    "start_time": "2022-08-11T20:37:06.613Z"
   },
   {
    "duration": 14,
    "start_time": "2022-08-11T20:37:06.649Z"
   },
   {
    "duration": 8,
    "start_time": "2022-08-11T20:37:06.664Z"
   },
   {
    "duration": 7,
    "start_time": "2022-08-11T20:37:06.674Z"
   },
   {
    "duration": 45,
    "start_time": "2022-08-13T14:26:42.725Z"
   },
   {
    "duration": 1160,
    "start_time": "2022-08-13T14:26:48.702Z"
   },
   {
    "duration": 60,
    "start_time": "2022-08-13T14:26:49.864Z"
   },
   {
    "duration": 17,
    "start_time": "2022-08-13T14:26:49.926Z"
   },
   {
    "duration": 14,
    "start_time": "2022-08-13T14:26:49.945Z"
   },
   {
    "duration": 9,
    "start_time": "2022-08-13T14:26:49.961Z"
   },
   {
    "duration": 4,
    "start_time": "2022-08-13T14:26:49.971Z"
   },
   {
    "duration": 45,
    "start_time": "2022-08-13T14:26:49.977Z"
   },
   {
    "duration": 17,
    "start_time": "2022-08-13T14:26:50.026Z"
   },
   {
    "duration": 15,
    "start_time": "2022-08-13T14:26:50.045Z"
   },
   {
    "duration": 13,
    "start_time": "2022-08-13T14:26:50.062Z"
   },
   {
    "duration": 10,
    "start_time": "2022-08-13T14:26:50.077Z"
   },
   {
    "duration": 10,
    "start_time": "2022-08-13T14:26:50.088Z"
   },
   {
    "duration": 29,
    "start_time": "2022-08-13T14:26:50.100Z"
   },
   {
    "duration": 7,
    "start_time": "2022-08-13T14:26:50.131Z"
   },
   {
    "duration": 9,
    "start_time": "2022-08-13T14:26:50.139Z"
   },
   {
    "duration": 7,
    "start_time": "2022-08-13T14:26:50.150Z"
   },
   {
    "duration": 8,
    "start_time": "2022-08-13T14:26:50.158Z"
   },
   {
    "duration": 10,
    "start_time": "2022-08-13T14:26:50.168Z"
   },
   {
    "duration": 43,
    "start_time": "2022-08-13T14:26:50.179Z"
   },
   {
    "duration": 29,
    "start_time": "2022-08-13T14:26:50.225Z"
   },
   {
    "duration": 4,
    "start_time": "2022-08-13T14:26:50.255Z"
   },
   {
    "duration": 8,
    "start_time": "2022-08-13T14:26:50.260Z"
   },
   {
    "duration": 6,
    "start_time": "2022-08-13T14:26:50.269Z"
   },
   {
    "duration": 44,
    "start_time": "2022-08-13T14:26:50.276Z"
   },
   {
    "duration": 21,
    "start_time": "2022-08-13T14:26:50.324Z"
   },
   {
    "duration": 7,
    "start_time": "2022-08-13T14:26:50.346Z"
   },
   {
    "duration": 14,
    "start_time": "2022-08-13T14:26:50.355Z"
   },
   {
    "duration": 19,
    "start_time": "2022-08-13T14:26:50.371Z"
   },
   {
    "duration": 29,
    "start_time": "2022-08-13T14:26:50.391Z"
   },
   {
    "duration": 21,
    "start_time": "2022-08-13T14:26:50.427Z"
   },
   {
    "duration": 4,
    "start_time": "2022-08-13T14:26:50.450Z"
   },
   {
    "duration": 8,
    "start_time": "2022-08-13T14:26:50.456Z"
   },
   {
    "duration": 48,
    "start_time": "2022-08-13T14:26:50.465Z"
   },
   {
    "duration": 51,
    "start_time": "2022-08-13T14:26:50.515Z"
   },
   {
    "duration": 59,
    "start_time": "2022-08-13T14:26:50.568Z"
   },
   {
    "duration": 44,
    "start_time": "2022-08-13T14:26:50.628Z"
   },
   {
    "duration": 9,
    "start_time": "2022-08-13T14:26:50.674Z"
   },
   {
    "duration": 3,
    "start_time": "2022-08-13T14:26:50.684Z"
   },
   {
    "duration": 10,
    "start_time": "2022-08-13T14:26:50.713Z"
   },
   {
    "duration": 8,
    "start_time": "2022-08-13T14:26:50.725Z"
   },
   {
    "duration": 13,
    "start_time": "2022-08-13T14:26:50.738Z"
   },
   {
    "duration": 5,
    "start_time": "2022-08-13T14:26:50.753Z"
   },
   {
    "duration": 27,
    "start_time": "2022-08-13T14:26:50.759Z"
   },
   {
    "duration": 17,
    "start_time": "2022-08-13T14:26:50.788Z"
   },
   {
    "duration": 378,
    "start_time": "2022-08-13T14:26:50.806Z"
   },
   {
    "duration": 388,
    "start_time": "2022-08-13T14:26:51.186Z"
   },
   {
    "duration": 13,
    "start_time": "2022-08-13T14:26:51.576Z"
   },
   {
    "duration": 337,
    "start_time": "2022-08-13T14:26:51.591Z"
   },
   {
    "duration": 33,
    "start_time": "2022-08-13T14:26:51.930Z"
   },
   {
    "duration": 1054,
    "start_time": "2022-08-13T14:26:51.965Z"
   },
   {
    "duration": 24,
    "start_time": "2022-08-13T14:26:53.026Z"
   },
   {
    "duration": 7,
    "start_time": "2022-08-13T14:26:53.052Z"
   },
   {
    "duration": 9,
    "start_time": "2022-08-13T14:26:53.060Z"
   },
   {
    "duration": 13,
    "start_time": "2022-08-13T14:26:53.070Z"
   },
   {
    "duration": 48,
    "start_time": "2022-08-13T14:26:53.084Z"
   },
   {
    "duration": 16,
    "start_time": "2022-08-13T14:26:53.134Z"
   },
   {
    "duration": 281,
    "start_time": "2022-08-13T14:26:53.151Z"
   },
   {
    "duration": 216,
    "start_time": "2022-08-13T14:26:53.434Z"
   },
   {
    "duration": 248,
    "start_time": "2022-08-13T14:26:53.651Z"
   },
   {
    "duration": 58,
    "start_time": "2022-08-13T14:26:53.901Z"
   },
   {
    "duration": 15,
    "start_time": "2022-08-13T14:26:53.961Z"
   },
   {
    "duration": 29,
    "start_time": "2022-08-13T14:26:53.978Z"
   },
   {
    "duration": 17,
    "start_time": "2022-08-13T14:26:54.008Z"
   },
   {
    "duration": 259,
    "start_time": "2022-08-13T14:26:54.027Z"
   },
   {
    "duration": 35,
    "start_time": "2022-08-13T14:26:54.287Z"
   },
   {
    "duration": 245,
    "start_time": "2022-08-13T14:26:54.324Z"
   },
   {
    "duration": 21,
    "start_time": "2022-08-13T14:26:54.571Z"
   },
   {
    "duration": 257,
    "start_time": "2022-08-13T14:26:54.593Z"
   },
   {
    "duration": 1507,
    "start_time": "2022-08-13T14:26:54.852Z"
   },
   {
    "duration": 0,
    "start_time": "2022-08-13T14:26:56.360Z"
   },
   {
    "duration": 0,
    "start_time": "2022-08-13T14:26:56.361Z"
   },
   {
    "duration": 0,
    "start_time": "2022-08-13T14:26:56.363Z"
   },
   {
    "duration": 0,
    "start_time": "2022-08-13T14:26:56.363Z"
   },
   {
    "duration": 1,
    "start_time": "2022-08-13T14:26:56.364Z"
   },
   {
    "duration": 0,
    "start_time": "2022-08-13T14:26:56.365Z"
   },
   {
    "duration": 0,
    "start_time": "2022-08-13T14:26:56.366Z"
   },
   {
    "duration": 0,
    "start_time": "2022-08-13T14:26:56.367Z"
   },
   {
    "duration": 0,
    "start_time": "2022-08-13T14:26:56.368Z"
   },
   {
    "duration": 0,
    "start_time": "2022-08-13T14:26:56.369Z"
   },
   {
    "duration": 0,
    "start_time": "2022-08-13T14:26:56.370Z"
   },
   {
    "duration": 0,
    "start_time": "2022-08-13T14:26:56.371Z"
   },
   {
    "duration": 0,
    "start_time": "2022-08-13T14:26:56.372Z"
   },
   {
    "duration": 0,
    "start_time": "2022-08-13T14:26:56.373Z"
   },
   {
    "duration": 0,
    "start_time": "2022-08-13T14:26:56.375Z"
   },
   {
    "duration": 0,
    "start_time": "2022-08-13T14:26:56.376Z"
   },
   {
    "duration": 0,
    "start_time": "2022-08-13T14:26:56.377Z"
   },
   {
    "duration": 0,
    "start_time": "2022-08-13T14:26:56.378Z"
   },
   {
    "duration": 0,
    "start_time": "2022-08-13T14:26:56.379Z"
   },
   {
    "duration": 0,
    "start_time": "2022-08-13T14:26:56.380Z"
   },
   {
    "duration": 0,
    "start_time": "2022-08-13T14:26:56.381Z"
   },
   {
    "duration": 0,
    "start_time": "2022-08-13T14:26:56.382Z"
   },
   {
    "duration": 1,
    "start_time": "2022-08-13T14:26:56.383Z"
   },
   {
    "duration": 0,
    "start_time": "2022-08-13T14:26:56.384Z"
   },
   {
    "duration": 0,
    "start_time": "2022-08-13T14:26:56.385Z"
   },
   {
    "duration": 0,
    "start_time": "2022-08-13T14:26:56.386Z"
   },
   {
    "duration": 0,
    "start_time": "2022-08-13T14:26:56.387Z"
   },
   {
    "duration": 0,
    "start_time": "2022-08-13T14:26:56.389Z"
   },
   {
    "duration": 0,
    "start_time": "2022-08-13T14:26:56.390Z"
   },
   {
    "duration": 0,
    "start_time": "2022-08-13T14:26:56.391Z"
   },
   {
    "duration": 16,
    "start_time": "2022-08-13T14:33:57.389Z"
   },
   {
    "duration": 1293,
    "start_time": "2022-08-13T14:34:09.230Z"
   },
   {
    "duration": 147,
    "start_time": "2022-08-13T14:34:40.142Z"
   },
   {
    "duration": 7,
    "start_time": "2022-08-13T14:34:51.582Z"
   },
   {
    "duration": 190,
    "start_time": "2022-08-13T14:34:52.407Z"
   },
   {
    "duration": 7,
    "start_time": "2022-08-13T14:34:52.838Z"
   },
   {
    "duration": 195,
    "start_time": "2022-08-13T14:34:53.343Z"
   },
   {
    "duration": 413,
    "start_time": "2022-08-13T14:34:54.854Z"
   },
   {
    "duration": 342,
    "start_time": "2022-08-13T14:34:55.269Z"
   },
   {
    "duration": 49,
    "start_time": "2022-08-13T14:34:55.613Z"
   },
   {
    "duration": 8,
    "start_time": "2022-08-13T14:34:55.756Z"
   },
   {
    "duration": 22,
    "start_time": "2022-08-13T14:34:57.429Z"
   },
   {
    "duration": 21,
    "start_time": "2022-08-13T14:34:58.270Z"
   },
   {
    "duration": 5,
    "start_time": "2022-08-13T14:34:58.920Z"
   },
   {
    "duration": 35,
    "start_time": "2022-08-13T14:34:59.814Z"
   },
   {
    "duration": 4,
    "start_time": "2022-08-13T14:35:00.367Z"
   },
   {
    "duration": 337,
    "start_time": "2022-08-13T14:35:01.103Z"
   },
   {
    "duration": 9,
    "start_time": "2022-08-13T14:35:19.115Z"
   },
   {
    "duration": 31,
    "start_time": "2022-08-13T14:35:19.759Z"
   },
   {
    "duration": 3,
    "start_time": "2022-08-13T14:35:20.248Z"
   },
   {
    "duration": 331,
    "start_time": "2022-08-13T14:35:20.935Z"
   },
   {
    "duration": 3,
    "start_time": "2022-08-13T14:35:24.367Z"
   },
   {
    "duration": 25,
    "start_time": "2022-08-13T14:35:24.953Z"
   },
   {
    "duration": 4,
    "start_time": "2022-08-13T14:35:30.040Z"
   },
   {
    "duration": 294,
    "start_time": "2022-08-13T14:35:31.296Z"
   },
   {
    "duration": 24,
    "start_time": "2022-08-13T14:37:04.997Z"
   },
   {
    "duration": 13,
    "start_time": "2022-08-13T14:37:18.500Z"
   },
   {
    "duration": 8,
    "start_time": "2022-08-13T14:37:48.931Z"
   },
   {
    "duration": 15,
    "start_time": "2022-08-13T14:37:57.308Z"
   },
   {
    "duration": 7,
    "start_time": "2022-08-13T14:37:59.206Z"
   },
   {
    "duration": 20,
    "start_time": "2022-08-13T14:38:08.405Z"
   },
   {
    "duration": 12,
    "start_time": "2022-08-13T14:38:22.383Z"
   },
   {
    "duration": 20,
    "start_time": "2022-08-13T14:38:29.352Z"
   },
   {
    "duration": 4,
    "start_time": "2022-08-13T14:38:44.760Z"
   },
   {
    "duration": 4,
    "start_time": "2022-08-13T14:38:52.593Z"
   },
   {
    "duration": 18,
    "start_time": "2022-08-13T14:41:08.702Z"
   },
   {
    "duration": 14,
    "start_time": "2022-08-13T14:41:25.486Z"
   },
   {
    "duration": 13,
    "start_time": "2022-08-13T14:41:41.486Z"
   },
   {
    "duration": 5,
    "start_time": "2022-08-13T14:45:11.495Z"
   },
   {
    "duration": 5,
    "start_time": "2022-08-13T14:45:11.974Z"
   },
   {
    "duration": 9,
    "start_time": "2022-08-13T14:45:22.935Z"
   },
   {
    "duration": 5,
    "start_time": "2022-08-13T14:45:25.328Z"
   },
   {
    "duration": 5,
    "start_time": "2022-08-13T14:45:25.831Z"
   },
   {
    "duration": 5,
    "start_time": "2022-08-13T14:45:53.321Z"
   },
   {
    "duration": 380,
    "start_time": "2022-08-13T14:47:37.212Z"
   },
   {
    "duration": 60,
    "start_time": "2022-08-13T14:47:41.180Z"
   },
   {
    "duration": 3,
    "start_time": "2022-08-13T14:47:41.460Z"
   },
   {
    "duration": 10,
    "start_time": "2022-08-13T14:47:42.076Z"
   },
   {
    "duration": 7,
    "start_time": "2022-08-13T14:47:42.788Z"
   },
   {
    "duration": 6,
    "start_time": "2022-08-13T14:47:43.342Z"
   },
   {
    "duration": 6,
    "start_time": "2022-08-13T14:47:44.459Z"
   },
   {
    "duration": 5,
    "start_time": "2022-08-13T14:47:45.173Z"
   },
   {
    "duration": 607,
    "start_time": "2022-08-13T14:47:45.661Z"
   },
   {
    "duration": 575,
    "start_time": "2022-08-13T14:47:49.589Z"
   },
   {
    "duration": 1458,
    "start_time": "2022-08-13T14:53:02.380Z"
   },
   {
    "duration": 94,
    "start_time": "2022-08-13T14:53:03.840Z"
   },
   {
    "duration": 17,
    "start_time": "2022-08-13T14:53:03.935Z"
   },
   {
    "duration": 66,
    "start_time": "2022-08-13T14:53:03.954Z"
   },
   {
    "duration": 9,
    "start_time": "2022-08-13T14:53:04.022Z"
   },
   {
    "duration": 14,
    "start_time": "2022-08-13T14:53:04.032Z"
   },
   {
    "duration": 65,
    "start_time": "2022-08-13T14:53:04.047Z"
   },
   {
    "duration": 14,
    "start_time": "2022-08-13T14:53:04.114Z"
   },
   {
    "duration": 4,
    "start_time": "2022-08-13T14:53:04.130Z"
   },
   {
    "duration": 6,
    "start_time": "2022-08-13T14:53:04.137Z"
   },
   {
    "duration": 6,
    "start_time": "2022-08-13T14:53:04.145Z"
   },
   {
    "duration": 58,
    "start_time": "2022-08-13T14:53:04.152Z"
   },
   {
    "duration": 8,
    "start_time": "2022-08-13T14:53:04.212Z"
   },
   {
    "duration": 10,
    "start_time": "2022-08-13T14:53:04.221Z"
   },
   {
    "duration": 9,
    "start_time": "2022-08-13T14:53:04.233Z"
   },
   {
    "duration": 7,
    "start_time": "2022-08-13T14:53:04.244Z"
   },
   {
    "duration": 6,
    "start_time": "2022-08-13T14:53:04.253Z"
   },
   {
    "duration": 5,
    "start_time": "2022-08-13T14:53:04.308Z"
   },
   {
    "duration": 32,
    "start_time": "2022-08-13T14:53:04.314Z"
   },
   {
    "duration": 80,
    "start_time": "2022-08-13T14:53:04.347Z"
   },
   {
    "duration": 2,
    "start_time": "2022-08-13T14:53:04.429Z"
   },
   {
    "duration": 10,
    "start_time": "2022-08-13T14:53:04.433Z"
   },
   {
    "duration": 7,
    "start_time": "2022-08-13T14:53:04.444Z"
   },
   {
    "duration": 69,
    "start_time": "2022-08-13T14:53:04.452Z"
   },
   {
    "duration": 21,
    "start_time": "2022-08-13T14:53:04.522Z"
   },
   {
    "duration": 7,
    "start_time": "2022-08-13T14:53:04.544Z"
   },
   {
    "duration": 63,
    "start_time": "2022-08-13T14:53:04.552Z"
   },
   {
    "duration": 30,
    "start_time": "2022-08-13T14:53:04.620Z"
   },
   {
    "duration": 59,
    "start_time": "2022-08-13T14:53:04.652Z"
   },
   {
    "duration": 22,
    "start_time": "2022-08-13T14:53:04.712Z"
   },
   {
    "duration": 7,
    "start_time": "2022-08-13T14:53:04.735Z"
   },
   {
    "duration": 8,
    "start_time": "2022-08-13T14:53:04.744Z"
   },
   {
    "duration": 76,
    "start_time": "2022-08-13T14:53:04.753Z"
   },
   {
    "duration": 43,
    "start_time": "2022-08-13T14:53:04.830Z"
   },
   {
    "duration": 73,
    "start_time": "2022-08-13T14:53:04.875Z"
   },
   {
    "duration": 42,
    "start_time": "2022-08-13T14:53:04.950Z"
   },
   {
    "duration": 23,
    "start_time": "2022-08-13T14:53:04.994Z"
   },
   {
    "duration": 4,
    "start_time": "2022-08-13T14:53:05.018Z"
   },
   {
    "duration": 8,
    "start_time": "2022-08-13T14:53:05.024Z"
   },
   {
    "duration": 8,
    "start_time": "2022-08-13T14:53:05.034Z"
   },
   {
    "duration": 30,
    "start_time": "2022-08-13T14:53:05.043Z"
   },
   {
    "duration": 5,
    "start_time": "2022-08-13T14:53:05.074Z"
   },
   {
    "duration": 14,
    "start_time": "2022-08-13T14:53:05.081Z"
   },
   {
    "duration": 13,
    "start_time": "2022-08-13T14:53:05.097Z"
   },
   {
    "duration": 379,
    "start_time": "2022-08-13T14:53:05.111Z"
   },
   {
    "duration": 344,
    "start_time": "2022-08-13T14:53:05.491Z"
   },
   {
    "duration": 13,
    "start_time": "2022-08-13T14:53:05.837Z"
   },
   {
    "duration": 360,
    "start_time": "2022-08-13T14:53:05.852Z"
   },
   {
    "duration": 25,
    "start_time": "2022-08-13T14:53:06.214Z"
   },
   {
    "duration": 1065,
    "start_time": "2022-08-13T14:53:06.241Z"
   },
   {
    "duration": 28,
    "start_time": "2022-08-13T14:53:07.310Z"
   },
   {
    "duration": 9,
    "start_time": "2022-08-13T14:53:07.340Z"
   },
   {
    "duration": 11,
    "start_time": "2022-08-13T14:53:07.350Z"
   },
   {
    "duration": 16,
    "start_time": "2022-08-13T14:53:07.363Z"
   },
   {
    "duration": 51,
    "start_time": "2022-08-13T14:53:07.381Z"
   },
   {
    "duration": 14,
    "start_time": "2022-08-13T14:53:07.433Z"
   },
   {
    "duration": 283,
    "start_time": "2022-08-13T14:53:07.449Z"
   },
   {
    "duration": 198,
    "start_time": "2022-08-13T14:53:07.734Z"
   },
   {
    "duration": 237,
    "start_time": "2022-08-13T14:53:07.933Z"
   },
   {
    "duration": 39,
    "start_time": "2022-08-13T14:53:08.172Z"
   },
   {
    "duration": 8,
    "start_time": "2022-08-13T14:53:08.212Z"
   },
   {
    "duration": 26,
    "start_time": "2022-08-13T14:53:08.222Z"
   },
   {
    "duration": 9,
    "start_time": "2022-08-13T14:53:08.250Z"
   },
   {
    "duration": 266,
    "start_time": "2022-08-13T14:53:08.261Z"
   },
   {
    "duration": 21,
    "start_time": "2022-08-13T14:53:08.529Z"
   },
   {
    "duration": 262,
    "start_time": "2022-08-13T14:53:08.552Z"
   },
   {
    "duration": 20,
    "start_time": "2022-08-13T14:53:08.816Z"
   },
   {
    "duration": 229,
    "start_time": "2022-08-13T14:53:08.838Z"
   },
   {
    "duration": 1367,
    "start_time": "2022-08-13T14:53:09.069Z"
   },
   {
    "duration": 0,
    "start_time": "2022-08-13T14:53:10.439Z"
   },
   {
    "duration": 0,
    "start_time": "2022-08-13T14:53:10.441Z"
   },
   {
    "duration": 0,
    "start_time": "2022-08-13T14:53:10.441Z"
   },
   {
    "duration": 0,
    "start_time": "2022-08-13T14:53:10.443Z"
   },
   {
    "duration": 0,
    "start_time": "2022-08-13T14:53:10.444Z"
   },
   {
    "duration": 0,
    "start_time": "2022-08-13T14:53:10.445Z"
   },
   {
    "duration": 0,
    "start_time": "2022-08-13T14:53:10.446Z"
   },
   {
    "duration": 0,
    "start_time": "2022-08-13T14:53:10.447Z"
   },
   {
    "duration": 0,
    "start_time": "2022-08-13T14:53:10.447Z"
   },
   {
    "duration": 0,
    "start_time": "2022-08-13T14:53:10.449Z"
   },
   {
    "duration": 0,
    "start_time": "2022-08-13T14:53:10.449Z"
   },
   {
    "duration": 0,
    "start_time": "2022-08-13T14:53:10.450Z"
   },
   {
    "duration": 0,
    "start_time": "2022-08-13T14:53:10.451Z"
   },
   {
    "duration": 0,
    "start_time": "2022-08-13T14:53:10.452Z"
   },
   {
    "duration": 0,
    "start_time": "2022-08-13T14:53:10.453Z"
   },
   {
    "duration": 0,
    "start_time": "2022-08-13T14:53:10.454Z"
   },
   {
    "duration": 0,
    "start_time": "2022-08-13T14:53:10.456Z"
   },
   {
    "duration": 0,
    "start_time": "2022-08-13T14:53:10.457Z"
   },
   {
    "duration": 0,
    "start_time": "2022-08-13T14:53:10.457Z"
   },
   {
    "duration": 0,
    "start_time": "2022-08-13T14:53:10.459Z"
   },
   {
    "duration": 0,
    "start_time": "2022-08-13T14:53:10.459Z"
   },
   {
    "duration": 0,
    "start_time": "2022-08-13T14:53:10.461Z"
   },
   {
    "duration": 0,
    "start_time": "2022-08-13T14:53:10.462Z"
   },
   {
    "duration": 0,
    "start_time": "2022-08-13T14:53:10.463Z"
   },
   {
    "duration": 0,
    "start_time": "2022-08-13T14:53:10.464Z"
   },
   {
    "duration": 0,
    "start_time": "2022-08-13T14:53:10.464Z"
   },
   {
    "duration": 0,
    "start_time": "2022-08-13T14:53:10.465Z"
   },
   {
    "duration": 0,
    "start_time": "2022-08-13T14:53:10.466Z"
   },
   {
    "duration": 0,
    "start_time": "2022-08-13T14:53:10.467Z"
   },
   {
    "duration": 0,
    "start_time": "2022-08-13T14:53:10.468Z"
   },
   {
    "duration": 0,
    "start_time": "2022-08-13T14:53:10.469Z"
   },
   {
    "duration": 0,
    "start_time": "2022-08-13T14:53:10.470Z"
   },
   {
    "duration": 0,
    "start_time": "2022-08-13T14:53:10.471Z"
   },
   {
    "duration": 0,
    "start_time": "2022-08-13T14:53:10.472Z"
   },
   {
    "duration": 0,
    "start_time": "2022-08-13T14:53:10.473Z"
   },
   {
    "duration": 0,
    "start_time": "2022-08-13T14:53:10.474Z"
   },
   {
    "duration": 0,
    "start_time": "2022-08-13T14:53:10.474Z"
   },
   {
    "duration": 0,
    "start_time": "2022-08-13T14:53:10.475Z"
   },
   {
    "duration": 0,
    "start_time": "2022-08-13T14:53:10.476Z"
   },
   {
    "duration": 0,
    "start_time": "2022-08-13T14:53:10.477Z"
   },
   {
    "duration": 0,
    "start_time": "2022-08-13T14:53:10.510Z"
   },
   {
    "duration": 136,
    "start_time": "2022-08-13T14:53:14.939Z"
   },
   {
    "duration": 7,
    "start_time": "2022-08-13T14:53:15.582Z"
   },
   {
    "duration": 198,
    "start_time": "2022-08-13T14:53:15.624Z"
   },
   {
    "duration": 7,
    "start_time": "2022-08-13T14:53:15.823Z"
   },
   {
    "duration": 252,
    "start_time": "2022-08-13T14:53:15.833Z"
   },
   {
    "duration": 400,
    "start_time": "2022-08-13T14:53:16.087Z"
   },
   {
    "duration": 301,
    "start_time": "2022-08-13T14:53:16.488Z"
   },
   {
    "duration": 48,
    "start_time": "2022-08-13T14:53:16.791Z"
   },
   {
    "duration": 6,
    "start_time": "2022-08-13T14:53:16.841Z"
   },
   {
    "duration": 21,
    "start_time": "2022-08-13T14:53:16.848Z"
   },
   {
    "duration": 39,
    "start_time": "2022-08-13T14:53:16.871Z"
   },
   {
    "duration": 4,
    "start_time": "2022-08-13T14:53:16.911Z"
   },
   {
    "duration": 34,
    "start_time": "2022-08-13T14:53:16.917Z"
   },
   {
    "duration": 4,
    "start_time": "2022-08-13T14:53:16.952Z"
   },
   {
    "duration": 363,
    "start_time": "2022-08-13T14:53:16.957Z"
   },
   {
    "duration": 5,
    "start_time": "2022-08-13T14:53:17.321Z"
   },
   {
    "duration": 27,
    "start_time": "2022-08-13T14:53:17.328Z"
   },
   {
    "duration": 55,
    "start_time": "2022-08-13T14:53:17.357Z"
   },
   {
    "duration": 3,
    "start_time": "2022-08-13T14:53:17.596Z"
   },
   {
    "duration": 316,
    "start_time": "2022-08-13T14:53:18.380Z"
   },
   {
    "duration": 4,
    "start_time": "2022-08-13T14:53:20.099Z"
   },
   {
    "duration": 28,
    "start_time": "2022-08-13T14:53:20.468Z"
   },
   {
    "duration": 4,
    "start_time": "2022-08-13T14:53:20.756Z"
   },
   {
    "duration": 297,
    "start_time": "2022-08-13T14:53:21.028Z"
   },
   {
    "duration": 15,
    "start_time": "2022-08-13T14:53:24.171Z"
   },
   {
    "duration": 4,
    "start_time": "2022-08-13T14:53:24.538Z"
   },
   {
    "duration": 6,
    "start_time": "2022-08-13T14:53:26.171Z"
   },
   {
    "duration": 6,
    "start_time": "2022-08-13T14:53:26.564Z"
   },
   {
    "duration": 9,
    "start_time": "2022-08-13T14:53:28.924Z"
   },
   {
    "duration": 6,
    "start_time": "2022-08-13T14:53:29.487Z"
   },
   {
    "duration": 7,
    "start_time": "2022-08-13T14:53:30.180Z"
   },
   {
    "duration": 7,
    "start_time": "2022-08-13T14:53:32.945Z"
   },
   {
    "duration": 48,
    "start_time": "2022-08-13T14:53:41.004Z"
   },
   {
    "duration": 4,
    "start_time": "2022-08-13T14:53:41.188Z"
   },
   {
    "duration": 9,
    "start_time": "2022-08-13T14:53:41.365Z"
   },
   {
    "duration": 6,
    "start_time": "2022-08-13T14:53:41.541Z"
   },
   {
    "duration": 4,
    "start_time": "2022-08-13T14:53:41.885Z"
   },
   {
    "duration": 6,
    "start_time": "2022-08-13T14:53:42.077Z"
   },
   {
    "duration": 5,
    "start_time": "2022-08-13T14:53:42.237Z"
   },
   {
    "duration": 631,
    "start_time": "2022-08-13T14:53:42.405Z"
   },
   {
    "duration": 576,
    "start_time": "2022-08-13T14:53:43.038Z"
   },
   {
    "duration": 45,
    "start_time": "2022-08-14T22:00:50.138Z"
   },
   {
    "duration": 1105,
    "start_time": "2022-08-14T22:01:17.071Z"
   },
   {
    "duration": 97,
    "start_time": "2022-08-14T22:01:18.178Z"
   },
   {
    "duration": 16,
    "start_time": "2022-08-14T22:01:18.276Z"
   },
   {
    "duration": 15,
    "start_time": "2022-08-14T22:01:18.293Z"
   },
   {
    "duration": 8,
    "start_time": "2022-08-14T22:01:18.310Z"
   },
   {
    "duration": 6,
    "start_time": "2022-08-14T22:01:18.320Z"
   },
   {
    "duration": 13,
    "start_time": "2022-08-14T22:01:18.327Z"
   },
   {
    "duration": 13,
    "start_time": "2022-08-14T22:01:18.342Z"
   },
   {
    "duration": 5,
    "start_time": "2022-08-14T22:01:18.357Z"
   },
   {
    "duration": 7,
    "start_time": "2022-08-14T22:01:18.363Z"
   },
   {
    "duration": 9,
    "start_time": "2022-08-14T22:01:18.372Z"
   },
   {
    "duration": 28,
    "start_time": "2022-08-14T22:01:18.382Z"
   },
   {
    "duration": 35,
    "start_time": "2022-08-14T22:01:18.411Z"
   },
   {
    "duration": 6,
    "start_time": "2022-08-14T22:01:18.449Z"
   },
   {
    "duration": 6,
    "start_time": "2022-08-14T22:01:18.456Z"
   },
   {
    "duration": 8,
    "start_time": "2022-08-14T22:01:18.463Z"
   },
   {
    "duration": 7,
    "start_time": "2022-08-14T22:01:18.472Z"
   },
   {
    "duration": 6,
    "start_time": "2022-08-14T22:01:18.480Z"
   },
   {
    "duration": 26,
    "start_time": "2022-08-14T22:01:18.487Z"
   },
   {
    "duration": 28,
    "start_time": "2022-08-14T22:01:18.514Z"
   },
   {
    "duration": 2,
    "start_time": "2022-08-14T22:01:18.544Z"
   },
   {
    "duration": 7,
    "start_time": "2022-08-14T22:01:18.548Z"
   },
   {
    "duration": 6,
    "start_time": "2022-08-14T22:01:18.557Z"
   },
   {
    "duration": 23,
    "start_time": "2022-08-14T22:01:18.564Z"
   },
   {
    "duration": 39,
    "start_time": "2022-08-14T22:01:18.588Z"
   },
   {
    "duration": 7,
    "start_time": "2022-08-14T22:01:18.629Z"
   },
   {
    "duration": 12,
    "start_time": "2022-08-14T22:01:18.637Z"
   },
   {
    "duration": 18,
    "start_time": "2022-08-14T22:01:18.650Z"
   },
   {
    "duration": 11,
    "start_time": "2022-08-14T22:01:18.669Z"
   },
   {
    "duration": 22,
    "start_time": "2022-08-14T22:01:18.709Z"
   },
   {
    "duration": 4,
    "start_time": "2022-08-14T22:01:18.733Z"
   },
   {
    "duration": 9,
    "start_time": "2022-08-14T22:01:18.738Z"
   },
   {
    "duration": 24,
    "start_time": "2022-08-14T22:01:18.749Z"
   },
   {
    "duration": 68,
    "start_time": "2022-08-14T22:01:18.775Z"
   },
   {
    "duration": 43,
    "start_time": "2022-08-14T22:01:18.844Z"
   },
   {
    "duration": 68,
    "start_time": "2022-08-14T22:01:18.888Z"
   },
   {
    "duration": 13,
    "start_time": "2022-08-14T22:01:18.957Z"
   },
   {
    "duration": 4,
    "start_time": "2022-08-14T22:01:18.972Z"
   },
   {
    "duration": 15,
    "start_time": "2022-08-14T22:01:18.978Z"
   },
   {
    "duration": 18,
    "start_time": "2022-08-14T22:01:18.994Z"
   },
   {
    "duration": 13,
    "start_time": "2022-08-14T22:01:19.018Z"
   },
   {
    "duration": 6,
    "start_time": "2022-08-14T22:01:19.032Z"
   },
   {
    "duration": 20,
    "start_time": "2022-08-14T22:01:19.039Z"
   },
   {
    "duration": 15,
    "start_time": "2022-08-14T22:01:19.061Z"
   },
   {
    "duration": 352,
    "start_time": "2022-08-14T22:01:19.077Z"
   },
   {
    "duration": 355,
    "start_time": "2022-08-14T22:01:19.431Z"
   },
   {
    "duration": 22,
    "start_time": "2022-08-14T22:01:19.788Z"
   },
   {
    "duration": 304,
    "start_time": "2022-08-14T22:01:19.811Z"
   },
   {
    "duration": 97,
    "start_time": "2022-08-14T22:01:20.117Z"
   },
   {
    "duration": 0,
    "start_time": "2022-08-14T22:01:20.215Z"
   },
   {
    "duration": 0,
    "start_time": "2022-08-14T22:01:20.216Z"
   },
   {
    "duration": 0,
    "start_time": "2022-08-14T22:01:20.217Z"
   },
   {
    "duration": 0,
    "start_time": "2022-08-14T22:01:20.218Z"
   },
   {
    "duration": 0,
    "start_time": "2022-08-14T22:01:20.219Z"
   },
   {
    "duration": 0,
    "start_time": "2022-08-14T22:01:20.220Z"
   },
   {
    "duration": 0,
    "start_time": "2022-08-14T22:01:20.221Z"
   },
   {
    "duration": 0,
    "start_time": "2022-08-14T22:01:20.222Z"
   },
   {
    "duration": 0,
    "start_time": "2022-08-14T22:01:20.224Z"
   },
   {
    "duration": 1,
    "start_time": "2022-08-14T22:01:20.224Z"
   },
   {
    "duration": 0,
    "start_time": "2022-08-14T22:01:20.226Z"
   },
   {
    "duration": 0,
    "start_time": "2022-08-14T22:01:20.227Z"
   },
   {
    "duration": 0,
    "start_time": "2022-08-14T22:01:20.227Z"
   },
   {
    "duration": 0,
    "start_time": "2022-08-14T22:01:20.228Z"
   },
   {
    "duration": 1,
    "start_time": "2022-08-14T22:01:20.229Z"
   },
   {
    "duration": 0,
    "start_time": "2022-08-14T22:01:20.231Z"
   },
   {
    "duration": 0,
    "start_time": "2022-08-14T22:01:20.231Z"
   },
   {
    "duration": 0,
    "start_time": "2022-08-14T22:01:20.232Z"
   },
   {
    "duration": 0,
    "start_time": "2022-08-14T22:01:20.233Z"
   },
   {
    "duration": 0,
    "start_time": "2022-08-14T22:01:20.234Z"
   },
   {
    "duration": 0,
    "start_time": "2022-08-14T22:01:20.236Z"
   },
   {
    "duration": 0,
    "start_time": "2022-08-14T22:01:20.236Z"
   },
   {
    "duration": 0,
    "start_time": "2022-08-14T22:01:20.238Z"
   },
   {
    "duration": 0,
    "start_time": "2022-08-14T22:01:20.239Z"
   },
   {
    "duration": 0,
    "start_time": "2022-08-14T22:01:20.239Z"
   },
   {
    "duration": 0,
    "start_time": "2022-08-14T22:01:20.240Z"
   },
   {
    "duration": 0,
    "start_time": "2022-08-14T22:01:20.241Z"
   },
   {
    "duration": 0,
    "start_time": "2022-08-14T22:01:20.242Z"
   },
   {
    "duration": 0,
    "start_time": "2022-08-14T22:01:20.243Z"
   },
   {
    "duration": 0,
    "start_time": "2022-08-14T22:01:20.244Z"
   },
   {
    "duration": 0,
    "start_time": "2022-08-14T22:01:20.245Z"
   },
   {
    "duration": 0,
    "start_time": "2022-08-14T22:01:20.246Z"
   },
   {
    "duration": 0,
    "start_time": "2022-08-14T22:01:20.247Z"
   },
   {
    "duration": 0,
    "start_time": "2022-08-14T22:01:20.248Z"
   },
   {
    "duration": 0,
    "start_time": "2022-08-14T22:01:20.249Z"
   },
   {
    "duration": 0,
    "start_time": "2022-08-14T22:01:20.309Z"
   },
   {
    "duration": 0,
    "start_time": "2022-08-14T22:01:20.310Z"
   },
   {
    "duration": 0,
    "start_time": "2022-08-14T22:01:20.311Z"
   },
   {
    "duration": 0,
    "start_time": "2022-08-14T22:01:20.312Z"
   },
   {
    "duration": 0,
    "start_time": "2022-08-14T22:01:20.313Z"
   },
   {
    "duration": 0,
    "start_time": "2022-08-14T22:01:20.314Z"
   },
   {
    "duration": 0,
    "start_time": "2022-08-14T22:01:20.315Z"
   },
   {
    "duration": 0,
    "start_time": "2022-08-14T22:01:20.316Z"
   },
   {
    "duration": 0,
    "start_time": "2022-08-14T22:01:20.317Z"
   },
   {
    "duration": 0,
    "start_time": "2022-08-14T22:01:20.318Z"
   },
   {
    "duration": 0,
    "start_time": "2022-08-14T22:01:20.318Z"
   },
   {
    "duration": 0,
    "start_time": "2022-08-14T22:01:20.319Z"
   },
   {
    "duration": 0,
    "start_time": "2022-08-14T22:01:20.321Z"
   },
   {
    "duration": 0,
    "start_time": "2022-08-14T22:01:20.321Z"
   },
   {
    "duration": 0,
    "start_time": "2022-08-14T22:01:20.322Z"
   },
   {
    "duration": 0,
    "start_time": "2022-08-14T22:01:20.323Z"
   },
   {
    "duration": 0,
    "start_time": "2022-08-14T22:01:20.323Z"
   },
   {
    "duration": 0,
    "start_time": "2022-08-14T22:01:20.324Z"
   },
   {
    "duration": 0,
    "start_time": "2022-08-14T22:01:20.325Z"
   },
   {
    "duration": 0,
    "start_time": "2022-08-14T22:01:20.326Z"
   },
   {
    "duration": 0,
    "start_time": "2022-08-14T22:01:20.327Z"
   },
   {
    "duration": 0,
    "start_time": "2022-08-14T22:01:20.328Z"
   },
   {
    "duration": 0,
    "start_time": "2022-08-14T22:01:20.329Z"
   },
   {
    "duration": 0,
    "start_time": "2022-08-14T22:01:20.329Z"
   },
   {
    "duration": 0,
    "start_time": "2022-08-14T22:01:20.331Z"
   },
   {
    "duration": 0,
    "start_time": "2022-08-14T22:01:20.331Z"
   },
   {
    "duration": 0,
    "start_time": "2022-08-14T22:01:20.332Z"
   },
   {
    "duration": 8,
    "start_time": "2022-08-14T22:01:45.972Z"
   },
   {
    "duration": 22,
    "start_time": "2022-08-14T22:01:48.069Z"
   },
   {
    "duration": 1121,
    "start_time": "2022-08-14T22:01:48.812Z"
   },
   {
    "duration": 24,
    "start_time": "2022-08-14T22:01:53.236Z"
   },
   {
    "duration": 1161,
    "start_time": "2022-08-14T22:02:33.316Z"
   },
   {
    "duration": 52,
    "start_time": "2022-08-14T22:02:34.479Z"
   },
   {
    "duration": 16,
    "start_time": "2022-08-14T22:02:34.533Z"
   },
   {
    "duration": 13,
    "start_time": "2022-08-14T22:02:34.550Z"
   },
   {
    "duration": 8,
    "start_time": "2022-08-14T22:02:34.565Z"
   },
   {
    "duration": 4,
    "start_time": "2022-08-14T22:02:34.575Z"
   },
   {
    "duration": 35,
    "start_time": "2022-08-14T22:02:34.582Z"
   },
   {
    "duration": 15,
    "start_time": "2022-08-14T22:02:34.618Z"
   },
   {
    "duration": 5,
    "start_time": "2022-08-14T22:02:34.634Z"
   },
   {
    "duration": 8,
    "start_time": "2022-08-14T22:02:34.640Z"
   },
   {
    "duration": 8,
    "start_time": "2022-08-14T22:02:34.649Z"
   },
   {
    "duration": 8,
    "start_time": "2022-08-14T22:02:34.658Z"
   },
   {
    "duration": 7,
    "start_time": "2022-08-14T22:02:34.667Z"
   },
   {
    "duration": 32,
    "start_time": "2022-08-14T22:02:34.676Z"
   },
   {
    "duration": 4,
    "start_time": "2022-08-14T22:02:34.710Z"
   },
   {
    "duration": 10,
    "start_time": "2022-08-14T22:02:34.716Z"
   },
   {
    "duration": 7,
    "start_time": "2022-08-14T22:02:34.727Z"
   },
   {
    "duration": 8,
    "start_time": "2022-08-14T22:02:34.735Z"
   },
   {
    "duration": 28,
    "start_time": "2022-08-14T22:02:34.744Z"
   },
   {
    "duration": 47,
    "start_time": "2022-08-14T22:02:34.774Z"
   },
   {
    "duration": 3,
    "start_time": "2022-08-14T22:02:34.822Z"
   },
   {
    "duration": 7,
    "start_time": "2022-08-14T22:02:34.826Z"
   },
   {
    "duration": 6,
    "start_time": "2022-08-14T22:02:34.834Z"
   },
   {
    "duration": 20,
    "start_time": "2022-08-14T22:02:34.841Z"
   },
   {
    "duration": 19,
    "start_time": "2022-08-14T22:02:34.863Z"
   },
   {
    "duration": 27,
    "start_time": "2022-08-14T22:02:34.883Z"
   },
   {
    "duration": 6,
    "start_time": "2022-08-14T22:02:34.912Z"
   },
   {
    "duration": 18,
    "start_time": "2022-08-14T22:02:34.920Z"
   },
   {
    "duration": 11,
    "start_time": "2022-08-14T22:02:34.939Z"
   },
   {
    "duration": 22,
    "start_time": "2022-08-14T22:02:34.952Z"
   },
   {
    "duration": 35,
    "start_time": "2022-08-14T22:02:34.975Z"
   },
   {
    "duration": 8,
    "start_time": "2022-08-14T22:02:35.011Z"
   },
   {
    "duration": 44,
    "start_time": "2022-08-14T22:02:35.020Z"
   },
   {
    "duration": 45,
    "start_time": "2022-08-14T22:02:35.065Z"
   },
   {
    "duration": 41,
    "start_time": "2022-08-14T22:02:35.112Z"
   },
   {
    "duration": 57,
    "start_time": "2022-08-14T22:02:35.155Z"
   },
   {
    "duration": 9,
    "start_time": "2022-08-14T22:02:35.213Z"
   },
   {
    "duration": 10,
    "start_time": "2022-08-14T22:02:35.224Z"
   },
   {
    "duration": 7,
    "start_time": "2022-08-14T22:02:35.235Z"
   },
   {
    "duration": 8,
    "start_time": "2022-08-14T22:02:35.243Z"
   },
   {
    "duration": 11,
    "start_time": "2022-08-14T22:02:35.256Z"
   },
   {
    "duration": 12,
    "start_time": "2022-08-14T22:02:35.268Z"
   },
   {
    "duration": 29,
    "start_time": "2022-08-14T22:02:35.281Z"
   },
   {
    "duration": 7,
    "start_time": "2022-08-14T22:02:35.311Z"
   },
   {
    "duration": 371,
    "start_time": "2022-08-14T22:02:35.319Z"
   },
   {
    "duration": 365,
    "start_time": "2022-08-14T22:02:35.692Z"
   },
   {
    "duration": 13,
    "start_time": "2022-08-14T22:02:36.059Z"
   },
   {
    "duration": 443,
    "start_time": "2022-08-14T22:02:36.074Z"
   },
   {
    "duration": 3,
    "start_time": "2022-08-14T22:02:36.518Z"
   },
   {
    "duration": 26,
    "start_time": "2022-08-14T22:02:36.522Z"
   },
   {
    "duration": 2499,
    "start_time": "2022-08-14T22:02:36.550Z"
   },
   {
    "duration": 75,
    "start_time": "2022-08-14T22:02:39.050Z"
   },
   {
    "duration": 6,
    "start_time": "2022-08-14T22:02:39.127Z"
   },
   {
    "duration": 9,
    "start_time": "2022-08-14T22:02:39.134Z"
   },
   {
    "duration": 7,
    "start_time": "2022-08-14T22:02:39.144Z"
   },
   {
    "duration": 74,
    "start_time": "2022-08-14T22:02:39.152Z"
   },
   {
    "duration": 14,
    "start_time": "2022-08-14T22:02:39.227Z"
   },
   {
    "duration": 468,
    "start_time": "2022-08-14T22:02:39.243Z"
   },
   {
    "duration": 229,
    "start_time": "2022-08-14T22:02:39.713Z"
   },
   {
    "duration": 261,
    "start_time": "2022-08-14T22:02:39.943Z"
   },
   {
    "duration": 37,
    "start_time": "2022-08-14T22:02:40.208Z"
   },
   {
    "duration": 8,
    "start_time": "2022-08-14T22:02:40.246Z"
   },
   {
    "duration": 31,
    "start_time": "2022-08-14T22:02:40.255Z"
   },
   {
    "duration": 10,
    "start_time": "2022-08-14T22:02:40.309Z"
   },
   {
    "duration": 250,
    "start_time": "2022-08-14T22:02:40.320Z"
   },
   {
    "duration": 21,
    "start_time": "2022-08-14T22:02:40.572Z"
   },
   {
    "duration": 243,
    "start_time": "2022-08-14T22:02:40.609Z"
   },
   {
    "duration": 23,
    "start_time": "2022-08-14T22:02:40.853Z"
   },
   {
    "duration": 226,
    "start_time": "2022-08-14T22:02:40.877Z"
   },
   {
    "duration": 22,
    "start_time": "2022-08-14T22:02:41.108Z"
   },
   {
    "duration": 259,
    "start_time": "2022-08-14T22:02:41.132Z"
   },
   {
    "duration": 6,
    "start_time": "2022-08-14T22:02:41.393Z"
   },
   {
    "duration": 271,
    "start_time": "2022-08-14T22:02:41.409Z"
   },
   {
    "duration": 6,
    "start_time": "2022-08-14T22:02:41.682Z"
   },
   {
    "duration": 190,
    "start_time": "2022-08-14T22:02:41.690Z"
   },
   {
    "duration": 293,
    "start_time": "2022-08-14T22:02:41.882Z"
   },
   {
    "duration": 303,
    "start_time": "2022-08-14T22:02:42.177Z"
   },
   {
    "duration": 51,
    "start_time": "2022-08-14T22:02:42.482Z"
   },
   {
    "duration": 6,
    "start_time": "2022-08-14T22:02:42.535Z"
   },
   {
    "duration": 22,
    "start_time": "2022-08-14T22:02:42.543Z"
   },
   {
    "duration": 25,
    "start_time": "2022-08-14T22:02:42.566Z"
   },
   {
    "duration": 22,
    "start_time": "2022-08-14T22:02:42.593Z"
   },
   {
    "duration": 33,
    "start_time": "2022-08-14T22:02:42.616Z"
   },
   {
    "duration": 4,
    "start_time": "2022-08-14T22:02:42.650Z"
   },
   {
    "duration": 323,
    "start_time": "2022-08-14T22:02:42.655Z"
   },
   {
    "duration": 4,
    "start_time": "2022-08-14T22:02:42.980Z"
   },
   {
    "duration": 24,
    "start_time": "2022-08-14T22:02:42.985Z"
   },
   {
    "duration": 32,
    "start_time": "2022-08-14T22:02:43.010Z"
   },
   {
    "duration": 3,
    "start_time": "2022-08-14T22:02:43.043Z"
   },
   {
    "duration": 346,
    "start_time": "2022-08-14T22:02:43.048Z"
   },
   {
    "duration": 3,
    "start_time": "2022-08-14T22:02:43.396Z"
   },
   {
    "duration": 27,
    "start_time": "2022-08-14T22:02:43.401Z"
   },
   {
    "duration": 3,
    "start_time": "2022-08-14T22:02:43.429Z"
   },
   {
    "duration": 303,
    "start_time": "2022-08-14T22:02:43.434Z"
   },
   {
    "duration": 13,
    "start_time": "2022-08-14T22:02:43.738Z"
   },
   {
    "duration": 6,
    "start_time": "2022-08-14T22:02:43.752Z"
   },
   {
    "duration": 8,
    "start_time": "2022-08-14T22:02:43.759Z"
   },
   {
    "duration": 9,
    "start_time": "2022-08-14T22:02:43.768Z"
   },
   {
    "duration": 118,
    "start_time": "2022-08-14T22:02:43.779Z"
   },
   {
    "duration": 11,
    "start_time": "2022-08-14T22:02:43.898Z"
   },
   {
    "duration": 10,
    "start_time": "2022-08-14T22:02:43.911Z"
   },
   {
    "duration": 7,
    "start_time": "2022-08-14T22:02:43.922Z"
   },
   {
    "duration": 54,
    "start_time": "2022-08-14T22:02:43.931Z"
   },
   {
    "duration": 3,
    "start_time": "2022-08-14T22:02:43.987Z"
   },
   {
    "duration": 11,
    "start_time": "2022-08-14T22:02:43.992Z"
   },
   {
    "duration": 11,
    "start_time": "2022-08-14T22:02:44.005Z"
   },
   {
    "duration": 7,
    "start_time": "2022-08-14T22:02:44.018Z"
   },
   {
    "duration": 8,
    "start_time": "2022-08-14T22:02:44.026Z"
   },
   {
    "duration": 6,
    "start_time": "2022-08-14T22:02:44.035Z"
   },
   {
    "duration": 559,
    "start_time": "2022-08-14T22:02:44.042Z"
   },
   {
    "duration": 538,
    "start_time": "2022-08-14T22:02:44.603Z"
   },
   {
    "duration": 14,
    "start_time": "2022-08-14T22:05:45.526Z"
   },
   {
    "duration": 6,
    "start_time": "2022-08-14T22:12:56.382Z"
   },
   {
    "duration": 1134,
    "start_time": "2022-08-14T22:20:28.442Z"
   },
   {
    "duration": 53,
    "start_time": "2022-08-14T22:20:29.578Z"
   },
   {
    "duration": 16,
    "start_time": "2022-08-14T22:20:29.633Z"
   },
   {
    "duration": 14,
    "start_time": "2022-08-14T22:20:29.651Z"
   },
   {
    "duration": 8,
    "start_time": "2022-08-14T22:20:29.666Z"
   },
   {
    "duration": 3,
    "start_time": "2022-08-14T22:20:29.676Z"
   },
   {
    "duration": 40,
    "start_time": "2022-08-14T22:20:29.681Z"
   },
   {
    "duration": 14,
    "start_time": "2022-08-14T22:20:29.723Z"
   },
   {
    "duration": 4,
    "start_time": "2022-08-14T22:20:29.739Z"
   },
   {
    "duration": 7,
    "start_time": "2022-08-14T22:20:29.745Z"
   },
   {
    "duration": 9,
    "start_time": "2022-08-14T22:20:29.754Z"
   },
   {
    "duration": 17,
    "start_time": "2022-08-14T22:20:29.764Z"
   },
   {
    "duration": 27,
    "start_time": "2022-08-14T22:20:29.783Z"
   },
   {
    "duration": 7,
    "start_time": "2022-08-14T22:20:29.812Z"
   },
   {
    "duration": 6,
    "start_time": "2022-08-14T22:20:29.821Z"
   },
   {
    "duration": 9,
    "start_time": "2022-08-14T22:20:29.828Z"
   },
   {
    "duration": 6,
    "start_time": "2022-08-14T22:20:29.838Z"
   },
   {
    "duration": 6,
    "start_time": "2022-08-14T22:20:29.846Z"
   },
   {
    "duration": 56,
    "start_time": "2022-08-14T22:20:29.854Z"
   },
   {
    "duration": 29,
    "start_time": "2022-08-14T22:20:29.911Z"
   },
   {
    "duration": 3,
    "start_time": "2022-08-14T22:20:29.941Z"
   },
   {
    "duration": 8,
    "start_time": "2022-08-14T22:20:29.946Z"
   },
   {
    "duration": 9,
    "start_time": "2022-08-14T22:20:29.955Z"
   },
   {
    "duration": 22,
    "start_time": "2022-08-14T22:20:29.965Z"
   },
   {
    "duration": 40,
    "start_time": "2022-08-14T22:20:29.989Z"
   },
   {
    "duration": 9,
    "start_time": "2022-08-14T22:20:30.030Z"
   },
   {
    "duration": 16,
    "start_time": "2022-08-14T22:20:30.040Z"
   },
   {
    "duration": 26,
    "start_time": "2022-08-14T22:20:30.060Z"
   },
   {
    "duration": 28,
    "start_time": "2022-08-14T22:20:30.088Z"
   },
   {
    "duration": 27,
    "start_time": "2022-08-14T22:20:30.118Z"
   },
   {
    "duration": 5,
    "start_time": "2022-08-14T22:20:30.146Z"
   },
   {
    "duration": 37,
    "start_time": "2022-08-14T22:20:30.153Z"
   },
   {
    "duration": 33,
    "start_time": "2022-08-14T22:20:30.193Z"
   },
   {
    "duration": 48,
    "start_time": "2022-08-14T22:20:30.228Z"
   },
   {
    "duration": 57,
    "start_time": "2022-08-14T22:20:30.278Z"
   },
   {
    "duration": 53,
    "start_time": "2022-08-14T22:20:30.337Z"
   },
   {
    "duration": 25,
    "start_time": "2022-08-14T22:20:30.392Z"
   },
   {
    "duration": 26,
    "start_time": "2022-08-14T22:20:30.418Z"
   },
   {
    "duration": 26,
    "start_time": "2022-08-14T22:20:30.446Z"
   },
   {
    "duration": 20,
    "start_time": "2022-08-14T22:20:30.474Z"
   },
   {
    "duration": 18,
    "start_time": "2022-08-14T22:20:30.495Z"
   },
   {
    "duration": 8,
    "start_time": "2022-08-14T22:20:30.515Z"
   },
   {
    "duration": 33,
    "start_time": "2022-08-14T22:20:30.525Z"
   },
   {
    "duration": 24,
    "start_time": "2022-08-14T22:20:30.560Z"
   },
   {
    "duration": 395,
    "start_time": "2022-08-14T22:20:30.585Z"
   },
   {
    "duration": 362,
    "start_time": "2022-08-14T22:20:30.982Z"
   },
   {
    "duration": 13,
    "start_time": "2022-08-14T22:20:31.346Z"
   },
   {
    "duration": 348,
    "start_time": "2022-08-14T22:20:31.361Z"
   },
   {
    "duration": 8,
    "start_time": "2022-08-14T22:20:31.711Z"
   },
   {
    "duration": 26,
    "start_time": "2022-08-14T22:20:31.720Z"
   },
   {
    "duration": 1155,
    "start_time": "2022-08-14T22:20:31.748Z"
   },
   {
    "duration": 25,
    "start_time": "2022-08-14T22:20:32.904Z"
   },
   {
    "duration": 6,
    "start_time": "2022-08-14T22:20:32.930Z"
   },
   {
    "duration": 7,
    "start_time": "2022-08-14T22:20:32.937Z"
   },
   {
    "duration": 8,
    "start_time": "2022-08-14T22:20:32.945Z"
   },
   {
    "duration": 26,
    "start_time": "2022-08-14T22:20:32.954Z"
   },
   {
    "duration": 41,
    "start_time": "2022-08-14T22:20:32.982Z"
   },
   {
    "duration": 320,
    "start_time": "2022-08-14T22:20:33.024Z"
   },
   {
    "duration": 229,
    "start_time": "2022-08-14T22:20:33.346Z"
   },
   {
    "duration": 274,
    "start_time": "2022-08-14T22:20:33.576Z"
   },
   {
    "duration": 39,
    "start_time": "2022-08-14T22:20:33.852Z"
   },
   {
    "duration": 20,
    "start_time": "2022-08-14T22:20:33.893Z"
   },
   {
    "duration": 25,
    "start_time": "2022-08-14T22:20:33.915Z"
   },
   {
    "duration": 8,
    "start_time": "2022-08-14T22:20:33.942Z"
   },
   {
    "duration": 271,
    "start_time": "2022-08-14T22:20:33.952Z"
   },
   {
    "duration": 18,
    "start_time": "2022-08-14T22:20:34.225Z"
   },
   {
    "duration": 246,
    "start_time": "2022-08-14T22:20:34.245Z"
   },
   {
    "duration": 28,
    "start_time": "2022-08-14T22:20:34.493Z"
   },
   {
    "duration": 233,
    "start_time": "2022-08-14T22:20:34.522Z"
   },
   {
    "duration": 22,
    "start_time": "2022-08-14T22:20:34.756Z"
   },
   {
    "duration": 246,
    "start_time": "2022-08-14T22:20:34.780Z"
   },
   {
    "duration": 7,
    "start_time": "2022-08-14T22:20:35.028Z"
   },
   {
    "duration": 289,
    "start_time": "2022-08-14T22:20:35.036Z"
   },
   {
    "duration": 7,
    "start_time": "2022-08-14T22:20:35.327Z"
   },
   {
    "duration": 200,
    "start_time": "2022-08-14T22:20:35.335Z"
   },
   {
    "duration": 302,
    "start_time": "2022-08-14T22:20:35.537Z"
   },
   {
    "duration": 337,
    "start_time": "2022-08-14T22:20:35.841Z"
   },
   {
    "duration": 55,
    "start_time": "2022-08-14T22:20:36.179Z"
   },
   {
    "duration": 8,
    "start_time": "2022-08-14T22:20:36.235Z"
   },
   {
    "duration": 25,
    "start_time": "2022-08-14T22:20:36.245Z"
   },
   {
    "duration": 38,
    "start_time": "2022-08-14T22:20:36.272Z"
   },
   {
    "duration": 5,
    "start_time": "2022-08-14T22:20:36.317Z"
   },
   {
    "duration": 37,
    "start_time": "2022-08-14T22:20:36.323Z"
   },
   {
    "duration": 3,
    "start_time": "2022-08-14T22:20:36.362Z"
   },
   {
    "duration": 324,
    "start_time": "2022-08-14T22:20:36.367Z"
   },
   {
    "duration": 3,
    "start_time": "2022-08-14T22:20:36.693Z"
   },
   {
    "duration": 17,
    "start_time": "2022-08-14T22:20:36.698Z"
   },
   {
    "duration": 30,
    "start_time": "2022-08-14T22:20:36.717Z"
   },
   {
    "duration": 3,
    "start_time": "2022-08-14T22:20:36.748Z"
   },
   {
    "duration": 361,
    "start_time": "2022-08-14T22:20:36.753Z"
   },
   {
    "duration": 4,
    "start_time": "2022-08-14T22:20:37.116Z"
   },
   {
    "duration": 43,
    "start_time": "2022-08-14T22:20:37.122Z"
   },
   {
    "duration": 5,
    "start_time": "2022-08-14T22:20:37.167Z"
   },
   {
    "duration": 362,
    "start_time": "2022-08-14T22:20:37.174Z"
   },
   {
    "duration": 6,
    "start_time": "2022-08-14T22:20:37.538Z"
   },
   {
    "duration": 112,
    "start_time": "2022-08-14T22:20:37.545Z"
   },
   {
    "duration": 8,
    "start_time": "2022-08-14T22:20:37.659Z"
   },
   {
    "duration": 6,
    "start_time": "2022-08-14T22:20:37.669Z"
   },
   {
    "duration": 13,
    "start_time": "2022-08-14T22:20:37.676Z"
   },
   {
    "duration": 27,
    "start_time": "2022-08-14T22:20:37.691Z"
   },
   {
    "duration": 11,
    "start_time": "2022-08-14T22:20:37.720Z"
   },
   {
    "duration": 9,
    "start_time": "2022-08-14T22:20:37.733Z"
   },
   {
    "duration": 8,
    "start_time": "2022-08-14T22:20:37.744Z"
   },
   {
    "duration": 55,
    "start_time": "2022-08-14T22:20:37.754Z"
   },
   {
    "duration": 3,
    "start_time": "2022-08-14T22:20:37.810Z"
   },
   {
    "duration": 13,
    "start_time": "2022-08-14T22:20:37.815Z"
   },
   {
    "duration": 7,
    "start_time": "2022-08-14T22:20:37.830Z"
   },
   {
    "duration": 7,
    "start_time": "2022-08-14T22:20:37.839Z"
   },
   {
    "duration": 7,
    "start_time": "2022-08-14T22:20:37.848Z"
   },
   {
    "duration": 7,
    "start_time": "2022-08-14T22:20:37.856Z"
   },
   {
    "duration": 581,
    "start_time": "2022-08-14T22:20:37.864Z"
   },
   {
    "duration": 581,
    "start_time": "2022-08-14T22:20:38.446Z"
   }
  ],
  "kernelspec": {
   "display_name": "Python 3 (ipykernel)",
   "language": "python",
   "name": "python3"
  },
  "language_info": {
   "codemirror_mode": {
    "name": "ipython",
    "version": 3
   },
   "file_extension": ".py",
   "mimetype": "text/x-python",
   "name": "python",
   "nbconvert_exporter": "python",
   "pygments_lexer": "ipython3",
   "version": "3.9.12"
  },
  "toc": {
   "base_numbering": 1,
   "nav_menu": {},
   "number_sections": true,
   "sideBar": true,
   "skip_h1_title": true,
   "title_cell": "Table of Contents",
   "title_sidebar": "Contents",
   "toc_cell": false,
   "toc_position": {
    "height": "calc(100% - 180px)",
    "left": "10px",
    "top": "150px",
    "width": "223.534px"
   },
   "toc_section_display": true,
   "toc_window_display": true
  }
 },
 "nbformat": 4,
 "nbformat_minor": 5
}
