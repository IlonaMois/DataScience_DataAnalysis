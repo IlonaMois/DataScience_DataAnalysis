{
 "cells": [
  {
   "cell_type": "markdown",
   "id": "cf3e5b6e",
   "metadata": {},
   "source": [
    "**Instructions for the implementation of the project**\n",
    "\n",
    "**Step 1. Open the data file and review the general information**\n",
    "File path: /datasets/real_estate_data.csv. \n",
    "\n",
    "**Step 2. Data preprocessing**\n",
    "Identify and study missing values:\n",
    "- For some missing states, there may be a logical replacement. For example, if a person did not use a certain number of balconies, most likely they do not exist. Such missing values are correctly replaced by 0. For other data types, there is no suitable replacement value. In this case, it is correct to leave these values ​​blank. Lack of value is also an important signal that should not be hidden.\n",
    "- Fill in the blanks where appropriate. Why exactly in these columns and how were the values ​​chosen?\n",
    "- Indicate the reasons that may lead to missing data.\n",
    "- Enter data to the required types:\n",
    "- Explain when you need to change the data type and why.\n",
    "\n",
    "**Step 3. Read and Add to Table**\n",
    "- price per square meter;\n",
    "- day of the week, month and year of publication of the advertisement;\n",
    "- floor of the apartment; options - first, last, other;\n",
    "- the ratio of residential and total area, as well as the ratio of kitchen area to total.\n",
    "\n",
    "\n",
    "**Step 4: Conduct exploratory data analysis and follow instructions**\n",
    "- Examine the possible parameters: area, price, number of rooms, ceiling height. Create the histograms for each parameter.\n",
    "- Study the time of sale of the apartment. Create the histogram. Calculate the mean and median. Describe how long a sale usually takes. When can we consider that sales went very quickly, and when it took an unusually long time? Remove rare and standout values. Describe what features were found.\n",
    "- What factors most properties on the value of an apartment? Find out if the price depends on the area, number of rooms, distance from the center. Study the dependence on the price of which set the apartment falls on: the first, the last or the other. Also study the dependence on the date of placement ad: days of the week, month and year.\n",
    "- Select 10 settlements with the maximum number of ads. Recommended cost per square meter in settlements. Highlight the locations with the highest and lowest housing prices. This data can be found by the column name in this locality_name.\n",
    "- Check the offers of apartments: for each apartment there is information about the distance to the center. Select apartments in St. Petersburg (locality_name). Your task is to find out which area is included in the center.Create a column with the distance to the center in kilometers: round to whole numbers. After that, calculate the average price for each kilometer. Build a graph: it should show how the price depends on the distance from the center. Determine the path where the graph changes a lot - this will be the central zone.\n",
    "- Select a segment of apartments in the center. Analyze this area and study the parameters: area, price, number, ceiling height. Also highlight the factors that determine the cost of an apartment (number of rooms, floor, distance from the center, date of placement of the ad). Draw the conclusions. Are they different from all conclusions throughout the database?\n",
    "\n",
    "\n",
    "\n",
    "**Step 5. Write a summary conclusions**"
   ]
  },
  {
   "cell_type": "markdown",
   "id": "05c36d6a",
   "metadata": {},
   "source": [
    "# Study of ads for the sale of apartments\n",
    "\n",
    "#### Description of the project:\n",
    "For the project, we were provided with data from the Yandex Real Estate service - an archive of ads for the sale of apartments in St. Petersburg and neighboring settlements for several years. Two types of data are available for each apartment for sale. The first ones are entered by the user, the second ones are obtained automatically on the basis of cartographic data.\n",
    "\n",
    "#### Aim of the project:\n",
    "Learn how to determine the market value of real estate.\n",
    "\n",
    "#### A task:\n",
    "Find the parameters that determine the market value of real estate.\n"
   ]
  },
  {
   "cell_type": "markdown",
   "id": "ba145d77",
   "metadata": {},
   "source": [
    "## Study plan:\n",
    "\n",
    "1 - Data preprocessing:\n",
    "- Analysis of initial data - determination of the data type with subsequent replacement with the correct type\n",
    "- Identification of duplicates in data\n",
    "- Identification of outliers in data\n",
    "- Identification of missing values\n",
    "- Eliminate data missing values\n",
    "\n",
    "2 - Working with data:\n",
    "Calculate and add to table:\n",
    "- price per square meter;\n",
    "- day of the week, month and year of publication of the ads;\n",
    "- floor of the apartment; - first, last, other;\n",
    "- the ratio of residential and total area, as well as the ratio of kitchen area to total.\n",
    "\n",
    "3 - Exploratory data analysis:\n",
    "- Study: area, price, number of rooms, ceiling height. Build histograms for each parameter.\n",
    "- Study: the time of sale of the apartment and build a histogram. Calculate the mean and median. Describe how long a sale usually takes. Describe quick and long sales.\n",
    "- Remove rare and outliers. Describe the features found\n",
    "- Identify the factors that most affect the cost of the apartment. To study whether the price depends on the area, number of rooms, distance from the center. To study the dependence of the price on which floor the apartment is located on: first, last or another. Study the dependence on the date of placement: day of the week, month and year.\n",
    "- Choose 10 settlements with the largest number of ads. Calculate the average price per square meter in these settlements. Select the settlements with the highest and lowest cost of housing.\n",
    "- Allocate apartments in St. Petersburg. The task is to find out which area is included in the center. Create a column with the distance to the center in kilometers: round to whole values. After that, calculate the average price for each kilometer. Construct a graph of the dependence of price on distance from the center. Determine the boundary where the graph changes a lot - this will be the central zone.\n",
    "- Select a segment of apartments in the center. Analyze this territory and study the following parameters: area, price, number of rooms, ceiling height. Select factors that affect the cost of an apartment (number of rooms, floor, distance from the center, date of placement of the announcement). Draw conclusions and bring differences from the general base, if any.\n",
    "\n",
    "4 - General conclusion on the project"
   ]
  },
  {
   "cell_type": "markdown",
   "id": "e86ae629",
   "metadata": {},
   "source": [
    "## Initial data\n",
    "\n",
    "#### Description of data\n",
    "\n",
    "- airports_nearest - distance to the nearest airport in meters (m)\n",
    "- balcony — number of balconies\n",
    "- ceiling_height - ceiling height (m)\n",
    "- cityCenters_nearest - distance to the city center (m)\n",
    "- days_exposition - how many days the ad was placed (from publication to removal)\n",
    "- first_day_exposition — publication date\n",
    "- floor - floor\n",
    "- floors_total - total floors in the building\n",
    "- is_apartment - apartments (boolean type)\n",
    "- kitchen_area - kitchen area in square meters (m²)\n",
    "- last_price - price at the time of removal from publication\n",
    "- living_area - living area in square meters (m²)\n",
    "- locality_name - name of the locality\n",
    "- open_plan - free layout (boolean type)\n",
    "- parks_around3000 - number of parks within a 3 km radius\n",
    "- parks_nearest - distance to the nearest park (m)\n",
    "- ponds_around3000 - number of ponds within a radius of 3 km\n",
    "- ponds_nearest — distance to the nearest body of water (m)\n",
    "- rooms - number of rooms\n",
    "- studio - studio apartment (boolean type)\n",
    "- total_area - area of ​​the apartment in square meters (m²)\n",
    "- total_images - the number of photos of the apartment in the ad"
   ]
  },
  {
   "cell_type": "markdown",
   "id": "cf5fcd2d",
   "metadata": {},
   "source": [
    "## Primary visual inspection of data "
   ]
  },
  {
   "cell_type": "code",
   "execution_count": 1,
   "id": "482e6e53",
   "metadata": {},
   "outputs": [],
   "source": [
    "import pandas as pd\n",
    "import matplotlib.pyplot as plt\n",
    "import numpy as np"
   ]
  },
  {
   "cell_type": "code",
   "execution_count": 2,
   "id": "e3a29d6e",
   "metadata": {},
   "outputs": [],
   "source": [
    "try:\n",
    "    real = pd.read_csv('/datasets/real_estate_data.csv', sep='\\t')\n",
    "except:\n",
    "    real = pd.read_csv('C:/Users/Админ/Desktop/Jupyter/Yandex/real_estate_data.csv.', sep='\\t')"
   ]
  },
  {
   "cell_type": "code",
   "execution_count": 3,
   "id": "f41f060d",
   "metadata": {
    "scrolled": true
   },
   "outputs": [
    {
     "data": {
      "text/html": [
       "<div>\n",
       "<style scoped>\n",
       "    .dataframe tbody tr th:only-of-type {\n",
       "        vertical-align: middle;\n",
       "    }\n",
       "\n",
       "    .dataframe tbody tr th {\n",
       "        vertical-align: top;\n",
       "    }\n",
       "\n",
       "    .dataframe thead th {\n",
       "        text-align: right;\n",
       "    }\n",
       "</style>\n",
       "<table border=\"1\" class=\"dataframe\">\n",
       "  <thead>\n",
       "    <tr style=\"text-align: right;\">\n",
       "      <th></th>\n",
       "      <th>total_images</th>\n",
       "      <th>last_price</th>\n",
       "      <th>total_area</th>\n",
       "      <th>first_day_exposition</th>\n",
       "      <th>rooms</th>\n",
       "      <th>ceiling_height</th>\n",
       "      <th>floors_total</th>\n",
       "      <th>living_area</th>\n",
       "      <th>floor</th>\n",
       "      <th>is_apartment</th>\n",
       "      <th>...</th>\n",
       "      <th>kitchen_area</th>\n",
       "      <th>balcony</th>\n",
       "      <th>locality_name</th>\n",
       "      <th>airports_nearest</th>\n",
       "      <th>cityCenters_nearest</th>\n",
       "      <th>parks_around3000</th>\n",
       "      <th>parks_nearest</th>\n",
       "      <th>ponds_around3000</th>\n",
       "      <th>ponds_nearest</th>\n",
       "      <th>days_exposition</th>\n",
       "    </tr>\n",
       "  </thead>\n",
       "  <tbody>\n",
       "    <tr>\n",
       "      <th>0</th>\n",
       "      <td>20</td>\n",
       "      <td>13000000.0</td>\n",
       "      <td>108.0</td>\n",
       "      <td>2019-03-07T00:00:00</td>\n",
       "      <td>3</td>\n",
       "      <td>2.70</td>\n",
       "      <td>16.0</td>\n",
       "      <td>51.0</td>\n",
       "      <td>8</td>\n",
       "      <td>NaN</td>\n",
       "      <td>...</td>\n",
       "      <td>25.0</td>\n",
       "      <td>NaN</td>\n",
       "      <td>Санкт-Петербург</td>\n",
       "      <td>18863.0</td>\n",
       "      <td>16028.0</td>\n",
       "      <td>1.0</td>\n",
       "      <td>482.0</td>\n",
       "      <td>2.0</td>\n",
       "      <td>755.0</td>\n",
       "      <td>NaN</td>\n",
       "    </tr>\n",
       "    <tr>\n",
       "      <th>1</th>\n",
       "      <td>7</td>\n",
       "      <td>3350000.0</td>\n",
       "      <td>40.4</td>\n",
       "      <td>2018-12-04T00:00:00</td>\n",
       "      <td>1</td>\n",
       "      <td>NaN</td>\n",
       "      <td>11.0</td>\n",
       "      <td>18.6</td>\n",
       "      <td>1</td>\n",
       "      <td>NaN</td>\n",
       "      <td>...</td>\n",
       "      <td>11.0</td>\n",
       "      <td>2.0</td>\n",
       "      <td>посёлок Шушары</td>\n",
       "      <td>12817.0</td>\n",
       "      <td>18603.0</td>\n",
       "      <td>0.0</td>\n",
       "      <td>NaN</td>\n",
       "      <td>0.0</td>\n",
       "      <td>NaN</td>\n",
       "      <td>81.0</td>\n",
       "    </tr>\n",
       "    <tr>\n",
       "      <th>2</th>\n",
       "      <td>10</td>\n",
       "      <td>5196000.0</td>\n",
       "      <td>56.0</td>\n",
       "      <td>2015-08-20T00:00:00</td>\n",
       "      <td>2</td>\n",
       "      <td>NaN</td>\n",
       "      <td>5.0</td>\n",
       "      <td>34.3</td>\n",
       "      <td>4</td>\n",
       "      <td>NaN</td>\n",
       "      <td>...</td>\n",
       "      <td>8.3</td>\n",
       "      <td>0.0</td>\n",
       "      <td>Санкт-Петербург</td>\n",
       "      <td>21741.0</td>\n",
       "      <td>13933.0</td>\n",
       "      <td>1.0</td>\n",
       "      <td>90.0</td>\n",
       "      <td>2.0</td>\n",
       "      <td>574.0</td>\n",
       "      <td>558.0</td>\n",
       "    </tr>\n",
       "    <tr>\n",
       "      <th>3</th>\n",
       "      <td>0</td>\n",
       "      <td>64900000.0</td>\n",
       "      <td>159.0</td>\n",
       "      <td>2015-07-24T00:00:00</td>\n",
       "      <td>3</td>\n",
       "      <td>NaN</td>\n",
       "      <td>14.0</td>\n",
       "      <td>NaN</td>\n",
       "      <td>9</td>\n",
       "      <td>NaN</td>\n",
       "      <td>...</td>\n",
       "      <td>NaN</td>\n",
       "      <td>0.0</td>\n",
       "      <td>Санкт-Петербург</td>\n",
       "      <td>28098.0</td>\n",
       "      <td>6800.0</td>\n",
       "      <td>2.0</td>\n",
       "      <td>84.0</td>\n",
       "      <td>3.0</td>\n",
       "      <td>234.0</td>\n",
       "      <td>424.0</td>\n",
       "    </tr>\n",
       "    <tr>\n",
       "      <th>4</th>\n",
       "      <td>2</td>\n",
       "      <td>10000000.0</td>\n",
       "      <td>100.0</td>\n",
       "      <td>2018-06-19T00:00:00</td>\n",
       "      <td>2</td>\n",
       "      <td>3.03</td>\n",
       "      <td>14.0</td>\n",
       "      <td>32.0</td>\n",
       "      <td>13</td>\n",
       "      <td>NaN</td>\n",
       "      <td>...</td>\n",
       "      <td>41.0</td>\n",
       "      <td>NaN</td>\n",
       "      <td>Санкт-Петербург</td>\n",
       "      <td>31856.0</td>\n",
       "      <td>8098.0</td>\n",
       "      <td>2.0</td>\n",
       "      <td>112.0</td>\n",
       "      <td>1.0</td>\n",
       "      <td>48.0</td>\n",
       "      <td>121.0</td>\n",
       "    </tr>\n",
       "  </tbody>\n",
       "</table>\n",
       "<p>5 rows × 22 columns</p>\n",
       "</div>"
      ],
      "text/plain": [
       "   total_images  last_price  total_area first_day_exposition  rooms  \\\n",
       "0            20  13000000.0       108.0  2019-03-07T00:00:00      3   \n",
       "1             7   3350000.0        40.4  2018-12-04T00:00:00      1   \n",
       "2            10   5196000.0        56.0  2015-08-20T00:00:00      2   \n",
       "3             0  64900000.0       159.0  2015-07-24T00:00:00      3   \n",
       "4             2  10000000.0       100.0  2018-06-19T00:00:00      2   \n",
       "\n",
       "   ceiling_height  floors_total  living_area  floor is_apartment  ...  \\\n",
       "0            2.70          16.0         51.0      8          NaN  ...   \n",
       "1             NaN          11.0         18.6      1          NaN  ...   \n",
       "2             NaN           5.0         34.3      4          NaN  ...   \n",
       "3             NaN          14.0          NaN      9          NaN  ...   \n",
       "4            3.03          14.0         32.0     13          NaN  ...   \n",
       "\n",
       "   kitchen_area  balcony    locality_name  airports_nearest  \\\n",
       "0          25.0      NaN  Санкт-Петербург           18863.0   \n",
       "1          11.0      2.0   посёлок Шушары           12817.0   \n",
       "2           8.3      0.0  Санкт-Петербург           21741.0   \n",
       "3           NaN      0.0  Санкт-Петербург           28098.0   \n",
       "4          41.0      NaN  Санкт-Петербург           31856.0   \n",
       "\n",
       "  cityCenters_nearest  parks_around3000  parks_nearest  ponds_around3000  \\\n",
       "0             16028.0               1.0          482.0               2.0   \n",
       "1             18603.0               0.0            NaN               0.0   \n",
       "2             13933.0               1.0           90.0               2.0   \n",
       "3              6800.0               2.0           84.0               3.0   \n",
       "4              8098.0               2.0          112.0               1.0   \n",
       "\n",
       "   ponds_nearest  days_exposition  \n",
       "0          755.0              NaN  \n",
       "1            NaN             81.0  \n",
       "2          574.0            558.0  \n",
       "3          234.0            424.0  \n",
       "4           48.0            121.0  \n",
       "\n",
       "[5 rows x 22 columns]"
      ]
     },
     "execution_count": 3,
     "metadata": {},
     "output_type": "execute_result"
    }
   ],
   "source": [
    "real.head()"
   ]
  },
  {
   "cell_type": "markdown",
   "id": "61beb44e",
   "metadata": {},
   "source": [
    "*Column names are not questionable, except for cityCenters_nearest, parks_around3000, ponds_around3000.\n",
    "These names will be replaced in the \"Data Preprocessing\" section*"
   ]
  },
  {
   "cell_type": "code",
   "execution_count": 4,
   "id": "975d623d",
   "metadata": {},
   "outputs": [
    {
     "data": {
      "text/plain": [
       "(23699, 22)"
      ]
     },
     "execution_count": 4,
     "metadata": {},
     "output_type": "execute_result"
    }
   ],
   "source": [
    "#Look at the number of rows and columns in the dataset\n",
    "\n",
    "real_row = len(real)\n",
    "real.shape"
   ]
  },
  {
   "cell_type": "markdown",
   "id": "71c17669",
   "metadata": {},
   "source": [
    "**Data Type Inspection**"
   ]
  },
  {
   "cell_type": "code",
   "execution_count": 5,
   "id": "a3eb5d05",
   "metadata": {},
   "outputs": [
    {
     "name": "stdout",
     "output_type": "stream",
     "text": [
      "<class 'pandas.core.frame.DataFrame'>\n",
      "RangeIndex: 23699 entries, 0 to 23698\n",
      "Data columns (total 22 columns):\n",
      " #   Column                Non-Null Count  Dtype  \n",
      "---  ------                --------------  -----  \n",
      " 0   total_images          23699 non-null  int64  \n",
      " 1   last_price            23699 non-null  float64\n",
      " 2   total_area            23699 non-null  float64\n",
      " 3   first_day_exposition  23699 non-null  object \n",
      " 4   rooms                 23699 non-null  int64  \n",
      " 5   ceiling_height        14504 non-null  float64\n",
      " 6   floors_total          23613 non-null  float64\n",
      " 7   living_area           21796 non-null  float64\n",
      " 8   floor                 23699 non-null  int64  \n",
      " 9   is_apartment          2775 non-null   object \n",
      " 10  studio                23699 non-null  bool   \n",
      " 11  open_plan             23699 non-null  bool   \n",
      " 12  kitchen_area          21421 non-null  float64\n",
      " 13  balcony               12180 non-null  float64\n",
      " 14  locality_name         23650 non-null  object \n",
      " 15  airports_nearest      18157 non-null  float64\n",
      " 16  cityCenters_nearest   18180 non-null  float64\n",
      " 17  parks_around3000      18181 non-null  float64\n",
      " 18  parks_nearest         8079 non-null   float64\n",
      " 19  ponds_around3000      18181 non-null  float64\n",
      " 20  ponds_nearest         9110 non-null   float64\n",
      " 21  days_exposition       20518 non-null  float64\n",
      "dtypes: bool(2), float64(14), int64(3), object(3)\n",
      "memory usage: 3.7+ MB\n"
     ]
    }
   ],
   "source": [
    "#Let's look at the data types in the data set\n",
    "real.info()"
   ]
  },
  {
   "cell_type": "markdown",
   "id": "9b21b78b",
   "metadata": {},
   "source": [
    "*Data type replacement plan:*\n",
    "\n",
    "For optimization, I suggest changing the data type of the following values\n",
    "\n",
    "- floors_total from float64 to int64 - the total number of floors cannot be a fractional number\n",
    "- is_apartment from object to int64 - is a boolean data type, but dependencies will be easier to find with an int data type\n",
    "- studio from bool to int64 is a boolean data type, but it will be easier to find dependencies with an int data type\n",
    "- open_plan from bool to int64 is a boolean data type, but dependencies will be easier to find with an int data type\n",
    "- balcony from float64 to int64 - the number of balconies cannot be a fractional number\n",
    "- parks_around3000 from float64 to int64 - number of parks cannot be a fractional number\n",
    "- ponds_around3000 from float64 to int64 - the number of ponds cannot be a fractional number\n",
    "- days_exposition from float64 to int64 - the number of days of sale cannot be a fractional number\n",
    "\n",
    "The data will be replaced with the correct ones in the \"Data Preprocessing\" section"
   ]
  },
  {
   "cell_type": "markdown",
   "id": "673a315d",
   "metadata": {},
   "source": [
    "**Inspection for missing values**"
   ]
  },
  {
   "cell_type": "code",
   "execution_count": 6,
   "id": "f3420fa5",
   "metadata": {},
   "outputs": [
    {
     "data": {
      "text/plain": [
       "total_images                0\n",
       "last_price                  0\n",
       "total_area                  0\n",
       "first_day_exposition        0\n",
       "rooms                       0\n",
       "ceiling_height           9195\n",
       "floors_total               86\n",
       "living_area              1903\n",
       "floor                       0\n",
       "is_apartment            20924\n",
       "studio                      0\n",
       "open_plan                   0\n",
       "kitchen_area             2278\n",
       "balcony                 11519\n",
       "locality_name              49\n",
       "airports_nearest         5542\n",
       "cityCenters_nearest      5519\n",
       "parks_around3000         5518\n",
       "parks_nearest           15620\n",
       "ponds_around3000         5518\n",
       "ponds_nearest           14589\n",
       "days_exposition          3181\n",
       "dtype: int64"
      ]
     },
     "execution_count": 6,
     "metadata": {},
     "output_type": "execute_result"
    }
   ],
   "source": [
    "# See the number of missing values in the data:\n",
    "real.isna().sum()"
   ]
  },
  {
   "cell_type": "code",
   "execution_count": 7,
   "id": "e35419b7",
   "metadata": {},
   "outputs": [
    {
     "name": "stdout",
     "output_type": "stream",
     "text": [
      " ceiling_height - 38.8% \n",
      " floors_total - 0.4% \n",
      " living_area - 8.0% \n",
      " is_apartment - 88.3% \n",
      " kitchen_area - 9.6% \n",
      " balcony - 48.6% \n",
      " locality_name - 0.2% \n",
      " airports_nearest - 23.4% \n",
      " cityCenters_nearest - 23.3% \n",
      " parks_around3000 - 23.3% \n",
      " parks_nearest - 65.9% \n",
      " ponds_around3000 - 23.3% \n",
      " ponds_nearest - 61.6% \n",
      " days_exposition - 13.4% \n"
     ]
    }
   ],
   "source": [
    "# Determine the number of missing values in the column as a percentage\n",
    " \n",
    "for name in real.columns:\n",
    "    if real[name].isna().sum() > 0:\n",
    "        print(' {0} - {1:.1%} '.format(name, ((real[name].isna().sum()) / real.shape[0])))"
   ]
  },
  {
   "cell_type": "markdown",
   "id": "c1b1d6a1",
   "metadata": {},
   "source": [
    "*Plan for future processing of missing values:*\n",
    "\n",
    "- Missing values ​​in the floors_total and locality_name data are not expedient to process (missing values ​​in these data are less than 1%)\n",
    "\n",
    "- Data where missing values ​​can be replaced by the median value:\n",
    "    - ceiling_height\n",
    "    - living_area\n",
    "    - kitchen_area\n",
    "\n",
    "- Missing values ​​in the is_apartment and balcony values ​​will be replaced by 0, as a sign of a negative value. Missing values ​​in this data indicate that the apartment is most likely not a studio (not an apartment) and does not have a balcony. The possible reasons for the missing values in the is_apartment column are most likely technical in nature, since the % of missing values is 88%, it is unlikely that the problem is with the users. It is likely that the check-box for designating apartments is optional, the user does not check it, and the is_apartment value NaN enters the system.\n",
    "\n",
    "- Missing values ​​in the distance to city center data (cityCenters_nearest) should be replaced by the average km value that is specific to each city center\n",
    "\n",
    "- Missing values ​​in days_exposition data should not be replaced as ad data is in publication\n",
    "\n",
    "- Missing values ​​in the data listed below should not be processed as they will not be required for this study:\n",
    "    - airports_nearest\n",
    "    - parks_around3000\n",
    "    - parks_nearest\n",
    "    - ponds_around3000\n",
    "    - ponds_nearest\n",
    "\n",
    "Processing of missing values ​​will be carried out in the section \"Data preprocessing\""
   ]
  },
  {
   "cell_type": "markdown",
   "id": "93c80484",
   "metadata": {},
   "source": [
    "**Overall Histogram Inspection**\n",
    "\n",
    "Visually check the data using a histogram for the entire data set:"
   ]
  },
  {
   "cell_type": "code",
   "execution_count": 8,
   "id": "a7a98a52",
   "metadata": {},
   "outputs": [
    {
     "data": {
      "image/png": "[encoded data removed]",
      "text/plain": [
       "<Figure size 1080x1440 with 20 Axes>"
      ]
     },
     "metadata": {
      "needs_background": "light"
     },
     "output_type": "display_data"
    }
   ],
   "source": [
    "real.hist(figsize=(15, 20))\n",
    "plt.show()"
   ]
  },
  {
   "cell_type": "markdown",
   "id": "8fd1082a",
   "metadata": {},
   "source": [
    "**Check outliers**\n",
    "\n",
    "Outliers will be checked in the following data\n",
    "\n",
    "- ceiling_height , living_area, kitchen_area because we are going to replace the missing values ​​in this data with the median value.\n",
    "- rooms - outliers in this data can affect the course of the study when determining the dependence of the price on the number of rooms\n",
    "- total_area - outliers in this data may affect the course of the study when determining the dependence of the price on the area of the apartment\n",
    "- last_price - outliers in this data may affect the course of the study when determining dependencies\n",
    "\n",
    "We carry out this assessment on an enlarged basis throughout the data set. We will selectively clean outliers after categorizing the data for St. Petersburg and the Leningrad region."
   ]
  },
  {
   "cell_type": "code",
   "execution_count": 9,
   "id": "d856fbf5",
   "metadata": {},
   "outputs": [
    {
     "data": {
      "text/plain": [
       "<AxesSubplot:>"
      ]
     },
     "execution_count": 9,
     "metadata": {},
     "output_type": "execute_result"
    },
    {
     "data": {
      "image/png": "[encoded data removed]",
      "text/plain": [
       "<Figure size 432x288 with 1 Axes>"
      ]
     },
     "metadata": {
      "needs_background": "light"
     },
     "output_type": "display_data"
    }
   ],
   "source": [
    "numeric_col = ['ceiling_height','living_area','kitchen_area', 'rooms','total_area']\n",
    "real.boxplot(numeric_col)"
   ]
  },
  {
   "cell_type": "markdown",
   "id": "83315ec4",
   "metadata": {},
   "source": [
    "Let's take a closer look at each column:"
   ]
  },
  {
   "cell_type": "code",
   "execution_count": 10,
   "id": "750b92a2",
   "metadata": {},
   "outputs": [
    {
     "data": {
      "text/plain": [
       "<AxesSubplot:>"
      ]
     },
     "execution_count": 10,
     "metadata": {},
     "output_type": "execute_result"
    },
    {
     "data": {
      "image/png": "[encoded data removed]",
      "text/plain": [
       "<Figure size 432x288 with 1 Axes>"
      ]
     },
     "metadata": {
      "needs_background": "light"
     },
     "output_type": "display_data"
    }
   ],
   "source": [
    "#Construct distribution graphs for each column listed above:\n",
    "real.boxplot('ceiling_height')"
   ]
  },
  {
   "cell_type": "code",
   "execution_count": 11,
   "id": "00f4baf7",
   "metadata": {},
   "outputs": [
    {
     "data": {
      "text/plain": [
       "count    14504.000000\n",
       "mean         2.771499\n",
       "std          1.261056\n",
       "min          1.000000\n",
       "25%          2.520000\n",
       "50%          2.650000\n",
       "75%          2.800000\n",
       "max        100.000000\n",
       "Name: ceiling_height, dtype: float64"
      ]
     },
     "execution_count": 11,
     "metadata": {},
     "output_type": "execute_result"
    }
   ],
   "source": [
    "real['ceiling_height'].describe()"
   ]
  },
  {
   "cell_type": "markdown",
   "id": "f5734424",
   "metadata": {},
   "source": [
    "The minimum ceiling height cannot be 1m, and the maximum height is 100m - obviously incorrect values in the data.\n",
    "- lower whisker = 2.1\n",
    "- upper whisker = 3.22\n"
   ]
  },
  {
   "cell_type": "code",
   "execution_count": 12,
   "id": "e94d4642",
   "metadata": {},
   "outputs": [
    {
     "data": {
      "text/plain": [
       "<AxesSubplot:>"
      ]
     },
     "execution_count": 12,
     "metadata": {},
     "output_type": "execute_result"
    },
    {
     "data": {
      "image/png": "[encoded data removed]",
      "text/plain": [
       "<Figure size 432x288 with 1 Axes>"
      ]
     },
     "metadata": {
      "needs_background": "light"
     },
     "output_type": "display_data"
    }
   ],
   "source": [
    "real.boxplot('total_area')"
   ]
  },
  {
   "cell_type": "code",
   "execution_count": 13,
   "id": "0b7744e0",
   "metadata": {},
   "outputs": [
    {
     "data": {
      "text/plain": [
       "count    23699.000000\n",
       "mean        60.348651\n",
       "std         35.654083\n",
       "min         12.000000\n",
       "25%         40.000000\n",
       "50%         52.000000\n",
       "75%         69.900000\n",
       "max        900.000000\n",
       "Name: total_area, dtype: float64"
      ]
     },
     "execution_count": 13,
     "metadata": {},
     "output_type": "execute_result"
    }
   ],
   "source": [
    "real['total_area'].describe()"
   ]
  },
  {
   "cell_type": "markdown",
   "id": "318c999d",
   "metadata": {},
   "source": [
    "The maximum area of an apartment of 900m is more than 10 times the 3rd quartile - this is too much, the value is not typical."
   ]
  },
  {
   "cell_type": "code",
   "execution_count": 14,
   "id": "3cd417f8",
   "metadata": {},
   "outputs": [
    {
     "data": {
      "text/plain": [
       "<AxesSubplot:>"
      ]
     },
     "execution_count": 14,
     "metadata": {},
     "output_type": "execute_result"
    },
    {
     "data": {
      "image/png": "[encoded data removed]",
      "text/plain": [
       "<Figure size 432x288 with 1 Axes>"
      ]
     },
     "metadata": {
      "needs_background": "light"
     },
     "output_type": "display_data"
    }
   ],
   "source": [
    "real.boxplot('living_area')"
   ]
  },
  {
   "cell_type": "code",
   "execution_count": 15,
   "id": "d2fd616e",
   "metadata": {},
   "outputs": [
    {
     "data": {
      "text/plain": [
       "count    21796.000000\n",
       "mean        34.457852\n",
       "std         22.030445\n",
       "min          2.000000\n",
       "25%         18.600000\n",
       "50%         30.000000\n",
       "75%         42.300000\n",
       "max        409.700000\n",
       "Name: living_area, dtype: float64"
      ]
     },
     "execution_count": 15,
     "metadata": {},
     "output_type": "execute_result"
    }
   ],
   "source": [
    "real['living_area'].describe()"
   ]
  },
  {
   "cell_type": "markdown",
   "id": "7c3cdf0e",
   "metadata": {},
   "source": [
    "The maximum living area of 409m is 10 times the 3rd quartile - this is too much, the value is not typical"
   ]
  },
  {
   "cell_type": "code",
   "execution_count": 16,
   "id": "482a714c",
   "metadata": {},
   "outputs": [
    {
     "data": {
      "text/plain": [
       "<AxesSubplot:>"
      ]
     },
     "execution_count": 16,
     "metadata": {},
     "output_type": "execute_result"
    },
    {
     "data": {
      "image/png": "[encoded data removed]",
      "text/plain": [
       "<Figure size 432x288 with 1 Axes>"
      ]
     },
     "metadata": {
      "needs_background": "light"
     },
     "output_type": "display_data"
    }
   ],
   "source": [
    "real.boxplot('kitchen_area')"
   ]
  },
  {
   "cell_type": "code",
   "execution_count": 17,
   "id": "d1387b9f",
   "metadata": {},
   "outputs": [
    {
     "data": {
      "text/plain": [
       "count    21421.000000\n",
       "mean        10.569807\n",
       "std          5.905438\n",
       "min          1.300000\n",
       "25%          7.000000\n",
       "50%          9.100000\n",
       "75%         12.000000\n",
       "max        112.000000\n",
       "Name: kitchen_area, dtype: float64"
      ]
     },
     "execution_count": 17,
     "metadata": {},
     "output_type": "execute_result"
    }
   ],
   "source": [
    "real['kitchen_area'].describe()"
   ]
  },
  {
   "cell_type": "markdown",
   "id": "7e9ea919",
   "metadata": {},
   "source": [
    "The maximum kitchen area of 112m is 10 times the 3rd quartile - this is too much, the value is not typical"
   ]
  },
  {
   "cell_type": "code",
   "execution_count": 18,
   "id": "3ed3f81a",
   "metadata": {},
   "outputs": [
    {
     "data": {
      "text/plain": [
       "<AxesSubplot:>"
      ]
     },
     "execution_count": 18,
     "metadata": {},
     "output_type": "execute_result"
    },
    {
     "data": {
      "image/png": "[encoded data removed]",
      "text/plain": [
       "<Figure size 432x288 with 1 Axes>"
      ]
     },
     "metadata": {
      "needs_background": "light"
     },
     "output_type": "display_data"
    }
   ],
   "source": [
    "real.boxplot('rooms')"
   ]
  },
  {
   "cell_type": "code",
   "execution_count": 19,
   "id": "196f0bfa",
   "metadata": {},
   "outputs": [
    {
     "data": {
      "text/plain": [
       "count    23699.000000\n",
       "mean         2.070636\n",
       "std          1.078405\n",
       "min          0.000000\n",
       "25%          1.000000\n",
       "50%          2.000000\n",
       "75%          3.000000\n",
       "max         19.000000\n",
       "Name: rooms, dtype: float64"
      ]
     },
     "execution_count": 19,
     "metadata": {},
     "output_type": "execute_result"
    }
   ],
   "source": [
    "real['rooms'].describe()"
   ]
  },
  {
   "cell_type": "markdown",
   "id": "86782a36",
   "metadata": {},
   "source": [
    "The maximum number of rooms is 19 - an incredible number, typical only for rare communal apartments in the center. Get rid of data"
   ]
  },
  {
   "cell_type": "code",
   "execution_count": 20,
   "id": "f9d739cd",
   "metadata": {},
   "outputs": [
    {
     "data": {
      "text/plain": [
       "<AxesSubplot:>"
      ]
     },
     "execution_count": 20,
     "metadata": {},
     "output_type": "execute_result"
    },
    {
     "data": {
      "image/png": "[encoded data removed]",
      "text/plain": [
       "<Figure size 432x288 with 1 Axes>"
      ]
     },
     "metadata": {
      "needs_background": "light"
     },
     "output_type": "display_data"
    }
   ],
   "source": [
    "real.boxplot('last_price')"
   ]
  },
  {
   "cell_type": "code",
   "execution_count": 21,
   "id": "7d0a795a",
   "metadata": {},
   "outputs": [
    {
     "data": {
      "text/plain": [
       "count     23699.000000\n",
       "mean       6541.548772\n",
       "std       10887.013268\n",
       "min          12.190000\n",
       "25%        3400.000000\n",
       "50%        4650.000000\n",
       "75%        6800.000000\n",
       "max      763000.000000\n",
       "Name: last_price, dtype: float64"
      ]
     },
     "execution_count": 21,
     "metadata": {},
     "output_type": "execute_result"
    }
   ],
   "source": [
    "# Estimate the last_price column without preprocessing up to 1000r. surely not possible, since the describe() command\n",
    "# Raises it to the e-power. Let's bring last_price to 1000r. Later I will return the value of last_price to its original form in order to calculate\n",
    "# price per sq.m.\n",
    "\n",
    "real['last_price']= real['last_price']/1000\n",
    "real['last_price'].describe()"
   ]
  },
  {
   "cell_type": "markdown",
   "id": "7581c5a1",
   "metadata": {},
   "source": [
    "The maximum price of an apartment is 763 million rubles. more than 10 times the 3rd quartile is too high. Get rid of data"
   ]
  },
  {
   "cell_type": "markdown",
   "id": "caa9a048",
   "metadata": {},
   "source": [
    "*Plan for upcoming data outlier processing:*\n",
    "\n",
    "Remove outliers from the following columns:\n",
    "- ceiling_height\n",
    "- living_area\n",
    "- kitchen_area\n",
    "- rooms\n",
    "- total_area\n",
    "- last_price\n",
    "\n",
    "Data cleaning should be carried out after categorizing the data for St. Petersburg and the Leningrad region, since the standard deviations of the data in these 2 categories will be different.\n",
    "\n",
    "Outlier processing will be carried out in the \"Data pre-processing\" section"
   ]
  },
  {
   "cell_type": "markdown",
   "id": "1928e40f",
   "metadata": {},
   "source": [
    "**Check duplicates**"
   ]
  },
  {
   "cell_type": "code",
   "execution_count": 22,
   "id": "b777a4f5",
   "metadata": {},
   "outputs": [
    {
     "data": {
      "text/plain": [
       "array(['Санкт-Петербург', 'посёлок Шушары', 'городской посёлок Янино-1',\n",
       "       'посёлок Парголово', 'посёлок Мурино', 'Ломоносов', 'Сертолово',\n",
       "       'Петергоф', 'Пушкин', 'деревня Кудрово', 'Коммунар', 'Колпино',\n",
       "       'поселок городского типа Красный Бор', 'Гатчина', 'поселок Мурино',\n",
       "       'деревня Фёдоровское', 'Выборг', 'Кронштадт', 'Кировск',\n",
       "       'деревня Новое Девяткино', 'посёлок Металлострой',\n",
       "       'посёлок городского типа Лебяжье',\n",
       "       'посёлок городского типа Сиверский', 'поселок Молодцово',\n",
       "       'поселок городского типа Кузьмоловский',\n",
       "       'садовое товарищество Новая Ропша', 'Павловск',\n",
       "       'деревня Пикколово', 'Всеволожск', 'Волхов', 'Кингисепп',\n",
       "       'Приозерск', 'Сестрорецк', 'деревня Куттузи', 'посёлок Аннино',\n",
       "       'поселок городского типа Ефимовский', 'посёлок Плодовое',\n",
       "       'деревня Заклинье', 'поселок Торковичи', 'поселок Первомайское',\n",
       "       'Красное Село', 'посёлок Понтонный', 'Сясьстрой', 'деревня Старая',\n",
       "       'деревня Лесколово', 'посёлок Новый Свет', 'Сланцы',\n",
       "       'село Путилово', 'Ивангород', 'Мурино', 'Шлиссельбург',\n",
       "       'Никольское', 'Зеленогорск', 'Сосновый Бор', 'поселок Новый Свет',\n",
       "       'деревня Оржицы', 'деревня Кальтино', 'Кудрово',\n",
       "       'поселок Романовка', 'посёлок Бугры', 'поселок Бугры',\n",
       "       'поселок городского типа Рощино', 'Кириши', 'Луга', 'Волосово',\n",
       "       'Отрадное', 'село Павлово', 'поселок Оредеж', 'село Копорье',\n",
       "       'посёлок городского типа Красный Бор', 'посёлок Молодёжное',\n",
       "       'Тихвин', 'посёлок Победа', 'деревня Нурма',\n",
       "       'поселок городского типа Синявино', 'Тосно',\n",
       "       'посёлок городского типа Кузьмоловский', 'посёлок Стрельна',\n",
       "       'Бокситогорск', 'посёлок Александровская', 'деревня Лопухинка',\n",
       "       'Пикалёво', 'поселок Терволово',\n",
       "       'поселок городского типа Советский', 'Подпорожье',\n",
       "       'посёлок Петровское', 'посёлок городского типа Токсово',\n",
       "       'поселок Сельцо', 'посёлок городского типа Вырица',\n",
       "       'деревня Кипень', 'деревня Келози', 'деревня Вартемяги',\n",
       "       'посёлок Тельмана', 'поселок Севастьяново',\n",
       "       'городской поселок Большая Ижора', nan,\n",
       "       'городской посёлок Павлово', 'деревня Агалатово',\n",
       "       'посёлок Новогорелово', 'городской посёлок Лесогорский',\n",
       "       'деревня Лаголово', 'поселок Цвелодубово',\n",
       "       'поселок городского типа Рахья', 'поселок городского типа Вырица',\n",
       "       'деревня Белогорка', 'поселок Заводской',\n",
       "       'городской посёлок Новоселье', 'деревня Большие Колпаны',\n",
       "       'деревня Горбунки', 'деревня Батово', 'деревня Заневка',\n",
       "       'деревня Иссад', 'Приморск', 'городской посёлок Фёдоровское',\n",
       "       'деревня Мистолово', 'Новая Ладога', 'поселок Зимитицы',\n",
       "       'поселок Барышево', 'деревня Разметелево',\n",
       "       'поселок городского типа имени Свердлова', 'деревня Пеники',\n",
       "       'поселок Рябово', 'деревня Пудомяги', 'поселок станции Корнево',\n",
       "       'деревня Низино', 'деревня Бегуницы', 'посёлок Поляны',\n",
       "       'городской посёлок Мга', 'поселок Елизаветино',\n",
       "       'посёлок городского типа Кузнечное', 'деревня Колтуши',\n",
       "       'поселок Запорожское', 'посёлок городского типа Рощино',\n",
       "       'деревня Гостилицы', 'деревня Малое Карлино',\n",
       "       'посёлок Мичуринское', 'посёлок городского типа имени Морозова',\n",
       "       'посёлок Песочный', 'посёлок Сосново', 'деревня Аро',\n",
       "       'поселок Ильичёво', 'посёлок городского типа Тайцы',\n",
       "       'деревня Малое Верево', 'деревня Извара', 'поселок станции Вещево',\n",
       "       'село Паша', 'деревня Калитино',\n",
       "       'посёлок городского типа Ульяновка', 'деревня Чудской Бор',\n",
       "       'поселок городского типа Дубровка', 'деревня Мины',\n",
       "       'поселок Войсковицы', 'посёлок городского типа имени Свердлова',\n",
       "       'деревня Коркино', 'посёлок Ропша',\n",
       "       'поселок городского типа Приладожский', 'посёлок Щеглово',\n",
       "       'посёлок Гаврилово', 'Лодейное Поле', 'деревня Рабитицы',\n",
       "       'поселок городского типа Никольский', 'деревня Кузьмолово',\n",
       "       'деревня Малые Колпаны', 'поселок Тельмана',\n",
       "       'посёлок Петро-Славянка', 'городской посёлок Назия',\n",
       "       'посёлок Репино', 'посёлок Ильичёво', 'поселок Углово',\n",
       "       'поселок Старая Малукса', 'садовое товарищество Рахья',\n",
       "       'поселок Аннино', 'поселок Победа', 'деревня Меньково',\n",
       "       'деревня Старые Бегуницы', 'посёлок Сапёрный', 'поселок Семрино',\n",
       "       'поселок Гаврилово', 'поселок Глажево', 'поселок Кобринское',\n",
       "       'деревня Гарболово', 'деревня Юкки',\n",
       "       'поселок станции Приветнинское', 'деревня Мануйлово',\n",
       "       'деревня Пчева', 'поселок Поляны', 'поселок Цвылёво',\n",
       "       'поселок Мельниково', 'посёлок Пудость', 'посёлок Усть-Луга',\n",
       "       'Светогорск', 'Любань', 'поселок Селезнёво',\n",
       "       'поселок городского типа Рябово', 'Каменногорск', 'деревня Кривко',\n",
       "       'поселок Глебычево', 'деревня Парицы', 'поселок Жилпосёлок',\n",
       "       'посёлок городского типа Мга', 'городской поселок Янино-1',\n",
       "       'посёлок Войскорово', 'село Никольское', 'посёлок Терволово',\n",
       "       'поселок Стеклянный', 'посёлок городского типа Важины',\n",
       "       'посёлок Мыза-Ивановка', 'село Русско-Высоцкое',\n",
       "       'поселок городского типа Лебяжье',\n",
       "       'поселок городского типа Форносово', 'село Старая Ладога',\n",
       "       'поселок Житково', 'городской посёлок Виллози', 'деревня Лампово',\n",
       "       'деревня Шпаньково', 'деревня Лаврики', 'посёлок Сумино',\n",
       "       'посёлок Возрождение', 'деревня Старосиверская',\n",
       "       'посёлок Кикерино', 'поселок Возрождение',\n",
       "       'деревня Старое Хинколово', 'посёлок Пригородный',\n",
       "       'посёлок Торфяное', 'городской посёлок Будогощь',\n",
       "       'поселок Суходолье', 'поселок Красная Долина', 'деревня Хапо-Ое',\n",
       "       'поселок городского типа Дружная Горка', 'поселок Лисий Нос',\n",
       "       'деревня Яльгелево', 'посёлок Стеклянный', 'село Рождествено',\n",
       "       'деревня Старополье', 'посёлок Левашово', 'деревня Сяськелево',\n",
       "       'деревня Камышовка',\n",
       "       'садоводческое некоммерческое товарищество Лесная Поляна',\n",
       "       'деревня Хязельки', 'поселок Жилгородок',\n",
       "       'посёлок городского типа Павлово', 'деревня Ялгино',\n",
       "       'поселок Новый Учхоз', 'городской посёлок Рощино',\n",
       "       'поселок Гончарово', 'поселок Почап', 'посёлок Сапёрное',\n",
       "       'посёлок Платформа 69-й километр', 'поселок Каложицы',\n",
       "       'деревня Фалилеево', 'деревня Пельгора',\n",
       "       'поселок городского типа Лесогорский', 'деревня Торошковичи',\n",
       "       'посёлок Белоостров', 'посёлок Алексеевка', 'поселок Серебрянский',\n",
       "       'поселок Лукаши', 'поселок Петровское', 'деревня Щеглово',\n",
       "       'поселок Мичуринское', 'деревня Тарасово', 'поселок Кингисеппский',\n",
       "       'посёлок при железнодорожной станции Вещево', 'поселок Ушаки',\n",
       "       'деревня Котлы', 'деревня Сижно', 'деревня Торосово',\n",
       "       'посёлок Форт Красная Горка', 'поселок городского типа Токсово',\n",
       "       'деревня Новолисино', 'посёлок станции Громово', 'деревня Глинка',\n",
       "       'посёлок Мельниково', 'поселок городского типа Назия',\n",
       "       'деревня Старая Пустошь', 'поселок Коммунары', 'поселок Починок',\n",
       "       'посёлок городского типа Вознесенье', 'деревня Разбегаево',\n",
       "       'посёлок городского типа Рябово', 'поселок Гладкое',\n",
       "       'посёлок при железнодорожной станции Приветнинское',\n",
       "       'поселок Тёсово-4', 'посёлок Жилгородок', 'деревня Бор',\n",
       "       'посёлок Коробицыно', 'деревня Большая Вруда', 'деревня Курковицы',\n",
       "       'посёлок Лисий Нос', 'городской посёлок Советский',\n",
       "       'посёлок Кобралово', 'деревня Суоранда', 'поселок Кобралово',\n",
       "       'поселок городского типа Кондратьево',\n",
       "       'коттеджный поселок Счастье', 'поселок Любань', 'деревня Реброво',\n",
       "       'деревня Зимитицы', 'деревня Тойворово', 'поселок Семиозерье',\n",
       "       'поселок Лесное', 'поселок Совхозный', 'поселок Усть-Луга',\n",
       "       'посёлок Ленинское', 'посёлок Суйда',\n",
       "       'посёлок городского типа Форносово', 'деревня Нижние Осельки',\n",
       "       'посёлок станции Свирь', 'поселок Перово', 'Высоцк',\n",
       "       'поселок Гарболово', 'село Шум', 'поселок Котельский',\n",
       "       'поселок станции Лужайка', 'деревня Большая Пустомержа',\n",
       "       'поселок Красносельское', 'деревня Вахнова Кара', 'деревня Пижма',\n",
       "       'коттеджный поселок Кивеннапа Север', 'поселок Коробицыно',\n",
       "       'поселок Ромашки', 'посёлок Перово', 'деревня Каськово',\n",
       "       'деревня Куровицы', 'посёлок Плоское', 'поселок Сумино',\n",
       "       'поселок городского типа Большая Ижора', 'поселок Кирпичное',\n",
       "       'деревня Ям-Тесово', 'деревня Раздолье', 'деревня Терпилицы',\n",
       "       'посёлок Шугозеро', 'деревня Ваганово', 'поселок Пушное',\n",
       "       'садовое товарищество Садко', 'посёлок Усть-Ижора',\n",
       "       'деревня Выскатка', 'городской посёлок Свирьстрой',\n",
       "       'поселок Громово', 'деревня Кисельня', 'посёлок Старая Малукса',\n",
       "       'деревня Трубников Бор', 'поселок Калитино',\n",
       "       'посёлок Высокоключевой', 'садовое товарищество Приладожский',\n",
       "       'посёлок Пансионат Зелёный Бор', 'деревня Ненимяки',\n",
       "       'поселок Пансионат Зелёный Бор', 'деревня Снегирёвка',\n",
       "       'деревня Рапполово', 'деревня Пустынка', 'поселок Рабитицы',\n",
       "       'деревня Большой Сабск', 'деревня Русско', 'деревня Лупполово',\n",
       "       'деревня Большое Рейзино', 'деревня Малая Романовка',\n",
       "       'поселок Дружноселье', 'поселок Пчевжа', 'поселок Володарское',\n",
       "       'деревня Нижняя', 'коттеджный посёлок Лесное', 'деревня Тихковицы',\n",
       "       'деревня Борисова Грива', 'посёлок Дзержинского'], dtype=object)"
      ]
     },
     "execution_count": 22,
     "metadata": {},
     "output_type": "execute_result"
    }
   ],
   "source": [
    "# Search for implicit duplicates in the locality_name column:\n",
    "real['locality_name'].unique()"
   ]
  },
  {
   "cell_type": "markdown",
   "id": "00ead674",
   "metadata": {},
   "source": [
    "*Plan to clean up implicit duplicates*\n",
    "\n",
    "In the locality_name column, implicit duplicates were found in the names of settlements, such as: settlement, settlement, urban-type settlement, urban settlement, Murino settlement, Murino settlement, Murino, etc.\n",
    "- convert data to lower case\n",
    "- exclude types of settlements, leaving only their names\n",
    "\n",
    "\n",
    "Processing of implicit duplicates will be carried out in the section \"Data preprocessing\""
   ]
  },
  {
   "cell_type": "markdown",
   "id": "a9e002dc",
   "metadata": {},
   "source": [
    "## Data preprocessing\n",
    "\n",
    "**Data preprocessing plan:**\n",
    "\n",
    "Fix column names:\n",
    "- replace column names cityCenters_nearest, parks_around3000, ponds_around3000\n",
    "\n",
    "Handle implicit duplicates:\n",
    "- convert data to lower case in locality_name\n",
    "- exclude types of settlements, leaving only their names\n",
    "\n",
    "Handle common gaps in data:\n",
    "- is_apartment - replace with 0 as a sign of a negative value.\n",
    "- balcony - replace with 0, as a sign of a negative value.\n",
    "- city_centers_ nearest - replace gaps with data about distance to St. Petersburg according to us.points\n",
    "- locality_name - delete rows with gaps in this column. Percentage of data loss 0.2%\n",
    "- floors_total - delete rows with gaps in this column. Percentage of data loss 0.4%\n",
    "\n",
    "Categorize data:\n",
    "- divide the data set into St. Petersburg and the Leningrad region. Next, work with data on two tables separately.\n",
    "\n",
    "Process anomalous values (outliers) in St. Petersburg and the Leningrad Region:\n",
    "- ceiling_height - exclude outliers\n",
    "- living_area - exclude outliers\n",
    "- kitchen_area - exclude outliers\n",
    "- rooms - exclude outliers\n",
    "- total_area - exclude outliers\n",
    "- last_price - exclude outliers\n",
    "\n",
    "\n",
    "Process missing values in St. Petersburg and the Leningrad region:\n",
    "- ceiling_height - replace missing values with median\n",
    "- living_area - replace missing values with median\n",
    "- kitchen_area - replace missing values with median\n",
    "\n",
    "\n",
    "Replace the data type with the following values:\n",
    "- floors_total from float64 to int64 - the total number of floors cannot be a fractional number\n",
    "- is_apartment from object to int64 is a boolean data type, but dependencies will be easier to find with an int data type\n",
    "- studio from bool to int64 is a boolean data type, but it will be easier to find dependencies with an int data type\n",
    "- open_plan from bool to int64 is a boolean data type, but dependencies will be easier to find with an int data type\n",
    "- balcony from float64 to int64 - the number of balconies cannot be a fractional number\n",
    "- parks_around3000 from float64 to int64 - number of parks cannot be a fractional number\n",
    "- ponds_around3000 from float64 to int64 - the number of ponds cannot be a fractional number\n",
    "- days_exposition from float64 to int64 - the number of days of sale cannot be a fractional number"
   ]
  },
  {
   "cell_type": "markdown",
   "id": "2015f136",
   "metadata": {},
   "source": [
    "**Replacing column names**"
   ]
  },
  {
   "cell_type": "code",
   "execution_count": 23,
   "id": "0a1f68f9",
   "metadata": {},
   "outputs": [],
   "source": [
    "# Change the name of the columns cityCenters_nearest, parks_around3000, ponds_around3000\n",
    "real.rename(columns={'cityCenters_nearest':'city_centers_nearest', 'parks_around3000':'parks_around_3000', 'ponds_around3000':'ponds_around_3000'}, inplace=True)"
   ]
  },
  {
   "cell_type": "markdown",
   "id": "7d79c330",
   "metadata": {},
   "source": [
    "**Handling implicit duplicates:**\n",
    "\n",
    "- convert data to lower case in locality_name\n",
    "- exclude types of settlements, leaving only their names"
   ]
  },
  {
   "cell_type": "markdown",
   "id": "41ab72e6",
   "metadata": {},
   "source": [
    "**Handling common missing values:**"
   ]
  },
  {
   "cell_type": "code",
   "execution_count": 24,
   "id": "b9bf2cd6",
   "metadata": {},
   "outputs": [
    {
     "data": {
      "text/plain": [
       "санкт-петербург    15721\n",
       "мурино               590\n",
       "кудрово              472\n",
       "шушары               440\n",
       "всеволожск           398\n",
       "                   ...  \n",
       "алексеевка             1\n",
       "белоостров             1\n",
       "пельгора               1\n",
       "каложицы               1\n",
       "дзержинского           1\n",
       "Name: locality_name, Length: 308, dtype: int64"
      ]
     },
     "execution_count": 24,
     "metadata": {},
     "output_type": "execute_result"
    }
   ],
   "source": [
    "# Get rid of the names of settlements to remove implicit duplicates like :\n",
    "# the city of Murino, the village of Murino, the village of Murino, Murino. The same case with Kudrovo.\n",
    "\n",
    "real['locality_name'] = real['locality_name'].str.lower().replace(['посёлок ',\n",
    "                                           'садоводческое некоммерческое товарищество',\n",
    "                                           'садовое товарищество ',\n",
    "                                           'поселок ',\n",
    "                                           'городской поселок ',\n",
    "                                           'поселок городского типа ',\n",
    "                                           'деревня ',\n",
    "                                           'село ',\n",
    "                                           'городского типа ',\n",
    "                                           'городской ', 'коттеджный ', \n",
    "                                           'при железнодорожной станции ',\n",
    "                                           'станции'], '', regex=True)\n",
    "\n",
    "real['locality_name'].value_counts()"
   ]
  },
  {
   "cell_type": "code",
   "execution_count": 25,
   "id": "bcd62acc",
   "metadata": {},
   "outputs": [
    {
     "data": {
      "text/plain": [
       "0"
      ]
     },
     "execution_count": 25,
     "metadata": {},
     "output_type": "execute_result"
    }
   ],
   "source": [
    "# Replace missing values in apartment definition. Where there are missing values in the values, most likely the type is not apartments\n",
    "real['is_apartment'] = real['is_apartment'].fillna(False).astype(int)\n",
    "real['is_apartment'].isna().sum()"
   ]
  },
  {
   "cell_type": "code",
   "execution_count": 26,
   "id": "4ae8ead0",
   "metadata": {},
   "outputs": [
    {
     "data": {
      "text/plain": [
       "0"
      ]
     },
     "execution_count": 26,
     "metadata": {},
     "output_type": "execute_result"
    }
   ],
   "source": [
    "# Replace the missing values in the number of balconies. Where balconies are not indicated, most likely they are not.\n",
    "real['balcony'] = real['balcony'].fillna(0).astype(int)\n",
    "real['balcony'].isna().sum()"
   ]
  },
  {
   "cell_type": "code",
   "execution_count": 27,
   "id": "e8523df9",
   "metadata": {},
   "outputs": [
    {
     "data": {
      "text/plain": [
       "мурино             588\n",
       "кудрово            472\n",
       "всеволожск         398\n",
       "гатчина            307\n",
       "выборг             237\n",
       "новое девяткино    144\n",
       "сертолово          142\n",
       "кириши             125\n",
       "бугры              114\n",
       "сланцы             112\n",
       "волхов             111\n",
       "тосно              104\n",
       "кингисепп          104\n",
       "никольское          94\n",
       "коммунар            89\n",
       "сосновый бор        87\n",
       "кировск             84\n",
       "отрадное            80\n",
       "янино-1             68\n",
       "приозерск           66\n",
       "старая              64\n",
       "санкт-петербург     61\n",
       "шлиссельбург        57\n",
       "Name: locality_name, dtype: int64"
      ]
     },
     "execution_count": 27,
     "metadata": {},
     "output_type": "execute_result"
    }
   ],
   "source": [
    "# The missing values in the distance to the center will be replaced by a value typical for our point:\n",
    "\n",
    "# Output 23 stations with the most missing values.\n",
    "# For each us.point, using the Yandex.map, we will find out the distance to the center, after removing the missing values in the column\n",
    "# locality_name number of missing values in this column 0.1% - deletion will not affect the progress of the study\n",
    "real = real.query('locality_name.isna() != True')\n",
    "\n",
    "local_near_nan = real.query('city_centers_nearest.isna() == True ')\n",
    "local_near_nan['locality_name'].value_counts().head(23)"
   ]
  },
  {
   "cell_type": "code",
   "execution_count": 28,
   "id": "e56e7524",
   "metadata": {},
   "outputs": [
    {
     "data": {
      "text/plain": [
       "санкт-петербург    15660\n",
       "шушары               436\n",
       "пушкин               368\n",
       "колпино              337\n",
       "парголово            327\n",
       "петергоф             201\n",
       "сестрорецк           183\n",
       "красное село         176\n",
       "ломоносов            132\n",
       "кронштадт             95\n",
       "металлострой          66\n",
       "стрельна              44\n",
       "павловск              38\n",
       "зеленогорск           24\n",
       "понтонный             20\n",
       "сапёрный               6\n",
       "молодёжное             5\n",
       "песочный               4\n",
       "репино                 4\n",
       "лисий нос              3\n",
       "александровская        2\n",
       "мурино                 2\n",
       "Name: locality_name, dtype: int64"
      ]
     },
     "execution_count": 28,
     "metadata": {},
     "output_type": "execute_result"
    }
   ],
   "source": [
    "local_near_no_nan = real.query('city_centers_nearest.isna() != True ')\n",
    "local_near_no_nan['locality_name'].value_counts().head(22)"
   ]
  },
  {
   "cell_type": "code",
   "execution_count": 29,
   "id": "5e68c248",
   "metadata": {},
   "outputs": [
    {
     "data": {
      "text/plain": [
       "1864"
      ]
     },
     "execution_count": 29,
     "metadata": {},
     "output_type": "execute_result"
    }
   ],
   "source": [
    "# Create a data frame that will contain data on the distance to the center (Palace Square)\n",
    "# for the 22 settlements with the most missing values.\n",
    "\n",
    "df_locality_name = {\n",
    "    'locality_name':['мурино','кудрово','всеволожск', 'гатчина', 'выборг', 'новое девяткино', 'сертолово', 'сланцы',\n",
    "            'бугры', 'волхов', 'кириши', 'тосно', 'коммунар', 'кировск','отрадное', 'кингисепп', 'сосновый бор', 'никольское', \n",
    "            'приозерск','янино-1','старая','шлиссельбург'],\n",
    "    'city_centers_nearest': [20000, 14000, 27000, 50000, 142000, 20000, 39000, 188000, 18000, 136000, 178000, 71000, 55000,\n",
    "                                 55000, 42000, 135000, 98000, 54000, 162000, 16000, 25000, 67000]}\n",
    "\n",
    "df = pd.DataFrame(df_locality_name)\n",
    "\n",
    "for i in range(len(df['locality_name'])):\n",
    "    real.loc[real['locality_name'] == df.loc[i,'locality_name'], 'city_centers_nearest'] = df.loc[i,'city_centers_nearest']\n",
    "    \n",
    "real['city_centers_nearest'].isna().sum()\n",
    " "
   ]
  },
  {
   "cell_type": "code",
   "execution_count": 30,
   "id": "495cf4e9",
   "metadata": {},
   "outputs": [],
   "source": [
    "# floors_total - there are only 86 missing values ​​in this column - this is an insignificant amount, we can get rid of these lines,\n",
    "# this will not affect the progress of the research\n",
    "real = real.query('floors_total.isna() != True')"
   ]
  },
  {
   "cell_type": "code",
   "execution_count": 31,
   "id": "449b74e6",
   "metadata": {},
   "outputs": [],
   "source": [
    "# locality_name - we will do the same with respect to the lines where there are missing values in the location data\n",
    "\n",
    "real = real.query('locality_name.isna() != True')"
   ]
  },
  {
   "cell_type": "markdown",
   "id": "971ccac3",
   "metadata": {},
   "source": [
    "**Categorization of data for St. Petersburg and the Leningrad region**"
   ]
  },
  {
   "cell_type": "markdown",
   "id": "61338ed7",
   "metadata": {},
   "source": [
    "Our dataset consists of apartments in St. Petersburg and apartments in the Leningrad region. The data of these 2 entities may differ significantly, since what is typical for a large city - the capital of the region (which is an architectural heritage and a unique historical value not only in Russia) with a huge amount of real estate, well-developed infrastructure, the availability of jobs, the whole logic will not be typical for the Vsevolozhsk region for example. Therefore, I decide to divide the data set into 2 separate ones: for St. Petersburg and for the Leningrad region."
   ]
  },
  {
   "cell_type": "code",
   "execution_count": 32,
   "id": "6c383b9b",
   "metadata": {},
   "outputs": [
    {
     "data": {
      "text/plain": [
       "15651"
      ]
     },
     "execution_count": 32,
     "metadata": {},
     "output_type": "execute_result"
    }
   ],
   "source": [
    "#Let's divide our data set into a set for St. Petersburg and the Leningrad region\n",
    "\n",
    "spb_real = real.query('locality_name in \"санкт-петербург\"')\n",
    "spb_real = spb_real.reset_index(drop= True)\n",
    "spb_real_row = len(spb_real)\n",
    "spb_real_row"
   ]
  },
  {
   "cell_type": "code",
   "execution_count": 33,
   "id": "15b9fa50",
   "metadata": {},
   "outputs": [
    {
     "data": {
      "text/plain": [
       "total_images               0\n",
       "last_price                 0\n",
       "total_area                 0\n",
       "first_day_exposition       0\n",
       "rooms                      0\n",
       "ceiling_height          5555\n",
       "floors_total               0\n",
       "living_area             1117\n",
       "floor                      0\n",
       "is_apartment               0\n",
       "studio                     0\n",
       "open_plan                  0\n",
       "kitchen_area            1343\n",
       "balcony                    0\n",
       "locality_name              0\n",
       "airports_nearest          84\n",
       "city_centers_nearest      60\n",
       "parks_around_3000         60\n",
       "parks_nearest           8400\n",
       "ponds_around_3000         60\n",
       "ponds_nearest           7715\n",
       "days_exposition         2074\n",
       "dtype: int64"
      ]
     },
     "execution_count": 33,
     "metadata": {},
     "output_type": "execute_result"
    }
   ],
   "source": [
    "spb_real.isna().sum()"
   ]
  },
  {
   "cell_type": "code",
   "execution_count": 34,
   "id": "47b970f8",
   "metadata": {},
   "outputs": [
    {
     "data": {
      "text/plain": [
       "7914"
      ]
     },
     "execution_count": 34,
     "metadata": {},
     "output_type": "execute_result"
    }
   ],
   "source": [
    "lo_real = real.query('locality_name != \"санкт-петербург\"')\n",
    "lo_real = lo_real.reset_index(drop= True)\n",
    "lo_real_row = len(lo_real)\n",
    "lo_real_row"
   ]
  },
  {
   "cell_type": "code",
   "execution_count": 35,
   "id": "814f1b8e",
   "metadata": {},
   "outputs": [
    {
     "data": {
      "text/plain": [
       "total_images               0\n",
       "last_price                 0\n",
       "total_area                 0\n",
       "first_day_exposition       0\n",
       "rooms                      0\n",
       "ceiling_height          3529\n",
       "floors_total               0\n",
       "living_area              748\n",
       "floor                      0\n",
       "is_apartment               0\n",
       "studio                     0\n",
       "open_plan                  0\n",
       "kitchen_area             879\n",
       "balcony                    0\n",
       "locality_name              0\n",
       "airports_nearest        5440\n",
       "city_centers_nearest    1800\n",
       "parks_around_3000       5440\n",
       "parks_nearest           7135\n",
       "ponds_around_3000       5440\n",
       "ponds_nearest           6814\n",
       "days_exposition         1097\n",
       "dtype: int64"
      ]
     },
     "execution_count": 35,
     "metadata": {},
     "output_type": "execute_result"
    }
   ],
   "source": [
    "lo_real.isna().sum()"
   ]
  },
  {
   "cell_type": "markdown",
   "id": "de1536d3",
   "metadata": {},
   "source": [
    "**Outlier Handling:**"
   ]
  },
  {
   "cell_type": "markdown",
   "id": "ece48108",
   "metadata": {},
   "source": [
    "Process outliers for each data category:\n",
    "\n",
    "- total_area - exclude outliers\n",
    "- living_area - exclude outliers\n",
    "- kitchen_area - exclude outliers\n",
    "- ceiling_height - exclude outliers\n",
    "- rooms - exclude outliers\n",
    "- last_price - exclude outliers"
   ]
  },
  {
   "cell_type": "markdown",
   "id": "58bd37a4",
   "metadata": {},
   "source": [
    "*Processing outliers in St. Petersburg data*"
   ]
  },
  {
   "cell_type": "markdown",
   "id": "f7b253ad",
   "metadata": {},
   "source": [
    "Processing anomalies in the area of apartments:"
   ]
  },
  {
   "cell_type": "code",
   "execution_count": 36,
   "id": "aa7b074b",
   "metadata": {},
   "outputs": [
    {
     "data": {
      "text/plain": [
       "13199     12.0\n",
       "11924     13.0\n",
       "12956     13.0\n",
       "13132     13.0\n",
       "12966     13.2\n",
       "         ...  \n",
       "3537     590.0\n",
       "10339    618.0\n",
       "2021     631.0\n",
       "8483     631.2\n",
       "12953    900.0\n",
       "Name: total_area, Length: 15651, dtype: float64"
      ]
     },
     "execution_count": 36,
     "metadata": {},
     "output_type": "execute_result"
    }
   ],
   "source": [
    "#Let's look at the values of the area in St. Petersburg\n",
    "spb_real['total_area'].sort_values()"
   ]
  },
  {
   "cell_type": "code",
   "execution_count": 37,
   "id": "393f0318",
   "metadata": {},
   "outputs": [
    {
     "data": {
      "text/plain": [
       "count    15651.000000\n",
       "mean        64.746341\n",
       "std         40.426740\n",
       "min         12.000000\n",
       "25%         42.000000\n",
       "50%         55.000000\n",
       "75%         74.550000\n",
       "max        900.000000\n",
       "Name: total_area, dtype: float64"
      ]
     },
     "execution_count": 37,
     "metadata": {},
     "output_type": "execute_result"
    }
   ],
   "source": [
    "spb_real['total_area'].describe()"
   ]
  },
  {
   "cell_type": "markdown",
   "id": "ccbe0137",
   "metadata": {},
   "source": [
    "The minimum value of the area is 12 sq.m, which is not very close to the truth. Only separately sold rooms or micro-studios, which were previously rooms in communal apartments, can have such an area. The maximum area - 900 sq.m - is too much"
   ]
  },
  {
   "cell_type": "code",
   "execution_count": 38,
   "id": "ac23d28e",
   "metadata": {},
   "outputs": [
    {
     "data": {
      "text/plain": [
       "<AxesSubplot:>"
      ]
     },
     "execution_count": 38,
     "metadata": {},
     "output_type": "execute_result"
    },
    {
     "data": {
      "image/png": "[encoded data removed]",
      "text/plain": [
       "<Figure size 432x288 with 1 Axes>"
      ]
     },
     "metadata": {
      "needs_background": "light"
     },
     "output_type": "display_data"
    }
   ],
   "source": [
    "spb_real.boxplot('total_area')"
   ]
  },
  {
   "cell_type": "code",
   "execution_count": 39,
   "id": "89ab8121",
   "metadata": {},
   "outputs": [],
   "source": [
    "#Determine the border of the upper and lower whiskers using the formula\n",
    "out_total_area_spb = spb_real['total_area'].describe()\n",
    "\n",
    "\n",
    "q1_out_total_area_spb = (out_total_area_spb['25%'] - 1.5 * (out_total_area_spb['75%'] - out_total_area_spb['25%'])) # -6.824\n",
    "q3_out_total_area_spb = (out_total_area_spb['75%'] + 1.5 * (out_total_area_spb['75%'] - out_total_area_spb['25%'])) # 123.375"
   ]
  },
  {
   "cell_type": "code",
   "execution_count": 40,
   "id": "e182ef75",
   "metadata": {},
   "outputs": [
    {
     "data": {
      "text/plain": [
       "count    15651.000000\n",
       "mean        64.746341\n",
       "std         40.426740\n",
       "min         12.000000\n",
       "25%         42.000000\n",
       "50%         55.000000\n",
       "75%         74.550000\n",
       "max        900.000000\n",
       "Name: total_area, dtype: float64"
      ]
     },
     "metadata": {},
     "output_type": "display_data"
    }
   ],
   "source": [
    "display(out_total_area_spb)"
   ]
  },
  {
   "cell_type": "markdown",
   "id": "eb754bc7",
   "metadata": {},
   "source": [
    "The border of the lower whisker becomes -6.824 - but the area cannot be negative. I propose to set the minimum size of the apartment area to the minimum allowed area for studio apartments of 24 sq.m."
   ]
  },
  {
   "cell_type": "code",
   "execution_count": 41,
   "id": "e36be76d",
   "metadata": {},
   "outputs": [
    {
     "data": {
      "text/plain": [
       "<AxesSubplot:>"
      ]
     },
     "execution_count": 41,
     "metadata": {},
     "output_type": "execute_result"
    },
    {
     "data": {
      "image/png": "[encoded data removed]",
      "text/plain": [
       "<Figure size 432x288 with 1 Axes>"
      ]
     },
     "metadata": {
      "needs_background": "light"
     },
     "output_type": "display_data"
    }
   ],
   "source": [
    "spb_real['total_area'].hist(bins=100)  "
   ]
  },
  {
   "cell_type": "code",
   "execution_count": 42,
   "id": "29149519",
   "metadata": {},
   "outputs": [
    {
     "data": {
      "text/plain": [
       "(58, 22)"
      ]
     },
     "execution_count": 42,
     "metadata": {},
     "output_type": "execute_result"
    }
   ],
   "source": [
    "spb_real[(spb_real['total_area'] >= 12.0)&(spb_real['total_area'] < 24.0)].shape"
   ]
  },
  {
   "cell_type": "markdown",
   "id": "3e149db2",
   "metadata": {},
   "source": [
    "There are only 58 such ads out of 15,651 - this is 0.37% - by removing these values, the main data will not be affected"
   ]
  },
  {
   "cell_type": "markdown",
   "id": "7e22fd4b",
   "metadata": {},
   "source": [
    "As for anomalously large values - the maximum area of ​​an apartment is 900 sq.m, then in this case, I propose to limit the data to a value of 200 sq.m (based on the histogram constructed above). Let's look at the number of ads in St. Petersburg, with an area of more than 200 sq.m."
   ]
  },
  {
   "cell_type": "code",
   "execution_count": 43,
   "id": "357ca44a",
   "metadata": {},
   "outputs": [
    {
     "data": {
      "text/plain": [
       "(212, 22)"
      ]
     },
     "execution_count": 43,
     "metadata": {},
     "output_type": "execute_result"
    }
   ],
   "source": [
    "spb_real[spb_real['total_area'] > 200].shape"
   ]
  },
  {
   "cell_type": "markdown",
   "id": "03480604",
   "metadata": {},
   "source": [
    "There are only 270 such ads out of 15,651 - this is 1.73% - by removing these values, the main data will not be affected"
   ]
  },
  {
   "cell_type": "code",
   "execution_count": 44,
   "id": "5e4c2710",
   "metadata": {},
   "outputs": [
    {
     "data": {
      "text/plain": [
       "(15381, 22)"
      ]
     },
     "execution_count": 44,
     "metadata": {},
     "output_type": "execute_result"
    }
   ],
   "source": [
    "spb_real = spb_real.query('total_area >= 24 and total_area <=200')\n",
    "spb_real.shape"
   ]
  },
  {
   "cell_type": "code",
   "execution_count": 45,
   "id": "6aab1321",
   "metadata": {},
   "outputs": [
    {
     "data": {
      "text/plain": [
       "count    15381.000000\n",
       "mean        61.859258\n",
       "std         28.972168\n",
       "min         24.000000\n",
       "25%         42.000000\n",
       "50%         54.700000\n",
       "75%         73.600000\n",
       "max        200.000000\n",
       "Name: total_area, dtype: float64"
      ]
     },
     "execution_count": 45,
     "metadata": {},
     "output_type": "execute_result"
    }
   ],
   "source": [
    "spb_real['total_area'].describe()"
   ]
  },
  {
   "cell_type": "markdown",
   "id": "48c3a258",
   "metadata": {},
   "source": [
    "Clearing Outliers in Living Space Data"
   ]
  },
  {
   "cell_type": "code",
   "execution_count": 46,
   "id": "1f1018b6",
   "metadata": {},
   "outputs": [
    {
     "data": {
      "text/plain": [
       "count    14302.000000\n",
       "mean        35.358643\n",
       "std         18.848400\n",
       "min          2.000000\n",
       "25%         19.800000\n",
       "50%         31.000000\n",
       "75%         43.800000\n",
       "max        164.700000\n",
       "Name: living_area, dtype: float64"
      ]
     },
     "execution_count": 46,
     "metadata": {},
     "output_type": "execute_result"
    }
   ],
   "source": [
    "spb_real['living_area'].describe()"
   ]
  },
  {
   "cell_type": "code",
   "execution_count": 47,
   "id": "0dc1d12c",
   "metadata": {},
   "outputs": [
    {
     "data": {
      "text/plain": [
       "<AxesSubplot:>"
      ]
     },
     "execution_count": 47,
     "metadata": {},
     "output_type": "execute_result"
    },
    {
     "data": {
      "image/png": "[encoded data removed]",
      "text/plain": [
       "<Figure size 432x288 with 1 Axes>"
      ]
     },
     "metadata": {
      "needs_background": "light"
     },
     "output_type": "display_data"
    }
   ],
   "source": [
    "spb_real['living_area'].hist(bins=100)"
   ]
  },
  {
   "cell_type": "markdown",
   "id": "8e3c5f85",
   "metadata": {},
   "source": [
    "The minimum living area is 2sq.m - too small, and the maximum is 164sq.m. Given that from the total_area column, we replaced all values ​​above 200 sq.m and below 24 sq.m. You can determine the boundaries of the living area using the planning coefficient K1. It is equal to the ratio of living space to the total footage and is usually in the recommended range from 0.5 to 0.7. In comfortable apartments, it is closer to the lower limit, in more economical ones - to the upper one (data taken from free sources). Let's start from the lower bound. For the lower boundary of the living area, we set the threshold 24x0.5=12 sq.m, the upper boundary 200x0.7= 140 sq.m. All values ​​out of this interval will be replaced by Nan."
   ]
  },
  {
   "cell_type": "code",
   "execution_count": 48,
   "id": "e037e5f7",
   "metadata": {},
   "outputs": [
    {
     "data": {
      "text/plain": [
       "(9, 22)"
      ]
     },
     "execution_count": 48,
     "metadata": {},
     "output_type": "execute_result"
    }
   ],
   "source": [
    "spb_real[spb_real['living_area'] > 140].shape"
   ]
  },
  {
   "cell_type": "code",
   "execution_count": 49,
   "id": "6b536713",
   "metadata": {},
   "outputs": [
    {
     "data": {
      "text/plain": [
       "(67, 22)"
      ]
     },
     "execution_count": 49,
     "metadata": {},
     "output_type": "execute_result"
    }
   ],
   "source": [
    "spb_real[spb_real['living_area'] < 12 ].shape"
   ]
  },
  {
   "cell_type": "markdown",
   "id": "b728a2a1",
   "metadata": {},
   "source": [
    "By deleting 76 rows, this is 0.49% of our 15381 dataset, however, if we try to delete these rows, then all rows with a value of Nan will be deleted. Therefore, in this case, we will replace these values with Nan\n"
   ]
  },
  {
   "cell_type": "code",
   "execution_count": 50,
   "id": "5b221284",
   "metadata": {},
   "outputs": [],
   "source": [
    "spb_real.loc[spb_real['living_area'] < 12,'living_area'] = np.NaN\n",
    "spb_real.loc[spb_real['living_area'] > 140,'living_area'] = np.NaN\n"
   ]
  },
  {
   "cell_type": "code",
   "execution_count": 51,
   "id": "84d69307",
   "metadata": {},
   "outputs": [
    {
     "data": {
      "text/plain": [
       "count    14226.000000\n",
       "mean        35.407033\n",
       "std         18.594514\n",
       "min         12.000000\n",
       "25%         20.000000\n",
       "50%         31.110000\n",
       "75%         43.800000\n",
       "max        140.000000\n",
       "Name: living_area, dtype: float64"
      ]
     },
     "execution_count": 51,
     "metadata": {},
     "output_type": "execute_result"
    }
   ],
   "source": [
    "spb_real['living_area'].describe()"
   ]
  },
  {
   "cell_type": "markdown",
   "id": "046e7152",
   "metadata": {},
   "source": [
    "Cleaning outliers in kitchen area:"
   ]
  },
  {
   "cell_type": "code",
   "execution_count": 52,
   "id": "b4fcaa52",
   "metadata": {},
   "outputs": [
    {
     "data": {
      "text/plain": [
       "count    14103.000000\n",
       "mean        10.909092\n",
       "std          5.886038\n",
       "min          1.300000\n",
       "25%          7.200000\n",
       "50%          9.800000\n",
       "75%         12.300000\n",
       "max         93.200000\n",
       "Name: kitchen_area, dtype: float64"
      ]
     },
     "execution_count": 52,
     "metadata": {},
     "output_type": "execute_result"
    }
   ],
   "source": [
    "# clean up the outliers in the kitchen area data\n",
    "spb_real['kitchen_area'].describe()"
   ]
  },
  {
   "cell_type": "code",
   "execution_count": 53,
   "id": "7f8ae82d",
   "metadata": {},
   "outputs": [
    {
     "data": {
      "text/plain": [
       "<AxesSubplot:>"
      ]
     },
     "execution_count": 53,
     "metadata": {},
     "output_type": "execute_result"
    },
    {
     "data": {
      "image/png": "[encoded data removed]",
      "text/plain": [
       "<Figure size 432x288 with 1 Axes>"
      ]
     },
     "metadata": {
      "needs_background": "light"
     },
     "output_type": "display_data"
    }
   ],
   "source": [
    "spb_real['kitchen_area'].hist(bins=20)"
   ]
  },
  {
   "cell_type": "markdown",
   "id": "28d40c1e",
   "metadata": {},
   "source": [
    "The minimum kitchen area is 1.3 sq.m - too small. maximum kitchen area 93 sq.m. Our minimum maximum area of apartments is 24sq.m and 200sq.m. We take the minimum ratio to the kitchen as 1/6 for apartments of 24 sq.m and 1/4 for apartments of 200 sq.m"
   ]
  },
  {
   "cell_type": "code",
   "execution_count": 54,
   "id": "c7a88c8a",
   "metadata": {},
   "outputs": [
    {
     "data": {
      "text/plain": [
       "(24, 22)"
      ]
     },
     "execution_count": 54,
     "metadata": {},
     "output_type": "execute_result"
    }
   ],
   "source": [
    "spb_real[spb_real['kitchen_area'] > 50].shape"
   ]
  },
  {
   "cell_type": "code",
   "execution_count": 55,
   "id": "1a926782",
   "metadata": {},
   "outputs": [
    {
     "data": {
      "text/plain": [
       "(15, 22)"
      ]
     },
     "execution_count": 55,
     "metadata": {},
     "output_type": "execute_result"
    }
   ],
   "source": [
    "spb_real[spb_real['kitchen_area'] < 4].shape"
   ]
  },
  {
   "cell_type": "markdown",
   "id": "3eb34ee9",
   "metadata": {},
   "source": [
    "39 values are subject to replacement - this is 0.25% of our data set."
   ]
  },
  {
   "cell_type": "code",
   "execution_count": 56,
   "id": "0abc2782",
   "metadata": {},
   "outputs": [],
   "source": [
    "spb_real.loc[spb_real['kitchen_area'] < 4,'kitchen_area'] = np.NaN\n",
    "spb_real.loc[spb_real['kitchen_area'] > 50,'kitchen_area'] = np.NaN"
   ]
  },
  {
   "cell_type": "code",
   "execution_count": 57,
   "id": "3bc960ba",
   "metadata": {},
   "outputs": [
    {
     "data": {
      "text/plain": [
       "count    14064.000000\n",
       "mean        10.828338\n",
       "std          5.450033\n",
       "min          4.000000\n",
       "25%          7.200000\n",
       "50%          9.800000\n",
       "75%         12.300000\n",
       "max         50.000000\n",
       "Name: kitchen_area, dtype: float64"
      ]
     },
     "execution_count": 57,
     "metadata": {},
     "output_type": "execute_result"
    }
   ],
   "source": [
    "spb_real['kitchen_area'].describe()"
   ]
  },
  {
   "cell_type": "markdown",
   "id": "e7bfe599",
   "metadata": {},
   "source": [
    "Clearing outliers in ceiling height data"
   ]
  },
  {
   "cell_type": "code",
   "execution_count": 58,
   "id": "d190b2b9",
   "metadata": {},
   "outputs": [
    {
     "data": {
      "text/plain": [
       "count    9925.000000\n",
       "mean        2.794560\n",
       "std         1.304612\n",
       "min         1.000000\n",
       "25%         2.550000\n",
       "50%         2.700000\n",
       "75%         2.840000\n",
       "max       100.000000\n",
       "Name: ceiling_height, dtype: float64"
      ]
     },
     "execution_count": 58,
     "metadata": {},
     "output_type": "execute_result"
    }
   ],
   "source": [
    "spb_real['ceiling_height'].describe()"
   ]
  },
  {
   "cell_type": "code",
   "execution_count": 59,
   "id": "048497f3",
   "metadata": {},
   "outputs": [
    {
     "data": {
      "text/plain": [
       "<AxesSubplot:>"
      ]
     },
     "execution_count": 59,
     "metadata": {},
     "output_type": "execute_result"
    },
    {
     "data": {
      "image/png": "[encoded data removed]",
      "text/plain": [
       "<Figure size 432x288 with 1 Axes>"
      ]
     },
     "metadata": {
      "needs_background": "light"
     },
     "output_type": "display_data"
    }
   ],
   "source": [
    "spb_real['ceiling_height'].hist(bins=100)"
   ]
  },
  {
   "cell_type": "markdown",
   "id": "055876ae",
   "metadata": {},
   "source": [
    "As research data, it was decided to leave apartments with a ceiling height of 2.5m (the established norm for construction) to 4m. in the apartments of St. Petersburg in its central part, you can find a fairly large number of apartments with high ceilings."
   ]
  },
  {
   "cell_type": "code",
   "execution_count": 60,
   "id": "c3f05215",
   "metadata": {},
   "outputs": [
    {
     "data": {
      "text/plain": [
       "(33, 22)"
      ]
     },
     "execution_count": 60,
     "metadata": {},
     "output_type": "execute_result"
    }
   ],
   "source": [
    "spb_real[spb_real['ceiling_height'] < 2.5].shape"
   ]
  },
  {
   "cell_type": "code",
   "execution_count": 61,
   "id": "ded43c89",
   "metadata": {},
   "outputs": [
    {
     "data": {
      "text/plain": [
       "(46, 22)"
      ]
     },
     "execution_count": 61,
     "metadata": {},
     "output_type": "execute_result"
    }
   ],
   "source": [
    "spb_real[spb_real['ceiling_height'] > 4].shape"
   ]
  },
  {
   "cell_type": "code",
   "execution_count": 62,
   "id": "c050d0b1",
   "metadata": {},
   "outputs": [
    {
     "data": {
      "text/plain": [
       "(10, 22)"
      ]
     },
     "execution_count": 62,
     "metadata": {},
     "output_type": "execute_result"
    }
   ],
   "source": [
    "spb_real[(spb_real['ceiling_height'] >= 24)&(spb_real['ceiling_height'] <= 40)].shape"
   ]
  },
  {
   "cell_type": "markdown",
   "id": "1898cbef",
   "metadata": {},
   "source": [
    "79 values are subject to replacement - 0.51% of 15381 rows of the data set"
   ]
  },
  {
   "cell_type": "code",
   "execution_count": 63,
   "id": "146f5f7b",
   "metadata": {},
   "outputs": [
    {
     "data": {
      "text/plain": [
       "count    9846.000000\n",
       "mean        2.750355\n",
       "std         0.268093\n",
       "min         2.500000\n",
       "25%         2.550000\n",
       "50%         2.700000\n",
       "75%         2.830000\n",
       "max         4.000000\n",
       "Name: ceiling_height, dtype: float64"
      ]
     },
     "execution_count": 63,
     "metadata": {},
     "output_type": "execute_result"
    }
   ],
   "source": [
    "spb_real.loc[spb_real['ceiling_height'] < 2.5,'ceiling_height'] = np.NaN\n",
    "spb_real.loc[spb_real['ceiling_height'] > 4,'ceiling_height'] = np.NaN\n",
    "spb_real['ceiling_height'].describe()"
   ]
  },
  {
   "cell_type": "markdown",
   "id": "583a4a8f",
   "metadata": {},
   "source": [
    "Clearing outliers in the number of rooms: "
   ]
  },
  {
   "cell_type": "code",
   "execution_count": 64,
   "id": "e1a129f5",
   "metadata": {},
   "outputs": [
    {
     "data": {
      "text/plain": [
       "count    15381.000000\n",
       "mean         2.127040\n",
       "std          1.036956\n",
       "min          0.000000\n",
       "25%          1.000000\n",
       "50%          2.000000\n",
       "75%          3.000000\n",
       "max         11.000000\n",
       "Name: rooms, dtype: float64"
      ]
     },
     "execution_count": 64,
     "metadata": {},
     "output_type": "execute_result"
    }
   ],
   "source": [
    "spb_real['rooms'].describe()"
   ]
  },
  {
   "cell_type": "code",
   "execution_count": 65,
   "id": "e35bdf6b",
   "metadata": {},
   "outputs": [
    {
     "data": {
      "text/plain": [
       "<AxesSubplot:>"
      ]
     },
     "execution_count": 65,
     "metadata": {},
     "output_type": "execute_result"
    },
    {
     "data": {
      "image/png": "[encoded data removed]",
      "text/plain": [
       "<Figure size 432x288 with 1 Axes>"
      ]
     },
     "metadata": {
      "needs_background": "light"
     },
     "output_type": "display_data"
    }
   ],
   "source": [
    "spb_real['rooms'].hist()"
   ]
  },
  {
   "cell_type": "code",
   "execution_count": 66,
   "id": "55f9e278",
   "metadata": {},
   "outputs": [
    {
     "data": {
      "text/plain": [
       "6.0"
      ]
     },
     "execution_count": 66,
     "metadata": {},
     "output_type": "execute_result"
    }
   ],
   "source": [
    "# Find the border of the upper whisker\n",
    "out_rooms_spb = spb_real['rooms'].describe()\n",
    "\n",
    "q3_out_rooms_spb = (out_rooms_spb['75%'] + 1.5 * (out_rooms_spb['75%'] - out_rooms_spb['25%']))\n",
    "\n",
    "q3_out_rooms_spb"
   ]
  },
  {
   "cell_type": "markdown",
   "id": "e74f629e",
   "metadata": {},
   "source": [
    "Minimum number of rooms = 0, this is possible if we have a studio apartment. The maximum number of rooms = 11 is quite a large number for an apartment, even a communal one. In this case, we determine the maximum number of rooms by the upper mustache (6 rooms)"
   ]
  },
  {
   "cell_type": "code",
   "execution_count": 67,
   "id": "4d67ebad",
   "metadata": {},
   "outputs": [
    {
     "data": {
      "text/plain": [
       "(24, 22)"
      ]
     },
     "execution_count": 67,
     "metadata": {},
     "output_type": "execute_result"
    }
   ],
   "source": [
    "spb_real[spb_real['rooms'] > 6].shape"
   ]
  },
  {
   "cell_type": "code",
   "execution_count": 68,
   "id": "20c6b0a1",
   "metadata": {},
   "outputs": [
    {
     "data": {
      "text/plain": [
       "0"
      ]
     },
     "execution_count": 68,
     "metadata": {},
     "output_type": "execute_result"
    }
   ],
   "source": [
    "spb_real['rooms'].isna().sum()"
   ]
  },
  {
   "cell_type": "markdown",
   "id": "35d857e1",
   "metadata": {},
   "source": [
    "Since there are no missing values in this column, 24 ads with more than the allowed number of rooms can be deleted"
   ]
  },
  {
   "cell_type": "code",
   "execution_count": 69,
   "id": "f10ea5ba",
   "metadata": {},
   "outputs": [
    {
     "data": {
      "text/plain": [
       "(15357, 22)"
      ]
     },
     "execution_count": 69,
     "metadata": {},
     "output_type": "execute_result"
    }
   ],
   "source": [
    "spb_real = spb_real.query('rooms <= @q3_out_rooms_spb')\n",
    "spb_real.shape"
   ]
  },
  {
   "cell_type": "code",
   "execution_count": 70,
   "id": "b898a3a6",
   "metadata": {},
   "outputs": [
    {
     "data": {
      "text/plain": [
       "count    15357.000000\n",
       "mean         2.118773\n",
       "std          1.015488\n",
       "min          0.000000\n",
       "25%          1.000000\n",
       "50%          2.000000\n",
       "75%          3.000000\n",
       "max          6.000000\n",
       "Name: rooms, dtype: float64"
      ]
     },
     "execution_count": 70,
     "metadata": {},
     "output_type": "execute_result"
    }
   ],
   "source": [
    "spb_real['rooms'].describe()"
   ]
  },
  {
   "cell_type": "markdown",
   "id": "93cd211c",
   "metadata": {},
   "source": [
    "Clearing Outliers in Total Apartment Value Data"
   ]
  },
  {
   "cell_type": "code",
   "execution_count": 71,
   "id": "ef7d34d3",
   "metadata": {},
   "outputs": [
    {
     "data": {
      "text/plain": [
       "count     15357.000000\n",
       "mean       7317.303105\n",
       "std        7206.192416\n",
       "min          12.190000\n",
       "25%        4200.000000\n",
       "50%        5500.000000\n",
       "75%        7990.000000\n",
       "max      330000.000000\n",
       "Name: last_price, dtype: float64"
      ]
     },
     "execution_count": 71,
     "metadata": {},
     "output_type": "execute_result"
    }
   ],
   "source": [
    "# clean up the outliers in the total apartment price data\n",
    "spb_real['last_price'].describe()"
   ]
  },
  {
   "cell_type": "code",
   "execution_count": 72,
   "id": "fcdcc980",
   "metadata": {},
   "outputs": [
    {
     "data": {
      "text/plain": [
       "<AxesSubplot:>"
      ]
     },
     "execution_count": 72,
     "metadata": {},
     "output_type": "execute_result"
    },
    {
     "data": {
      "image/png": "[encoded data removed]",
      "text/plain": [
       "<Figure size 432x288 with 1 Axes>"
      ]
     },
     "metadata": {
      "needs_background": "light"
     },
     "output_type": "display_data"
    }
   ],
   "source": [
    "spb_real['last_price'].hist(bins=40)"
   ]
  },
  {
   "cell_type": "code",
   "execution_count": 73,
   "id": "9fa71585",
   "metadata": {},
   "outputs": [
    {
     "data": {
      "text/plain": [
       "5796         12190.0\n",
       "2788       1200000.0\n",
       "15453      1600000.0\n",
       "9825       1704062.0\n",
       "11785      1800000.0\n",
       "            ...     \n",
       "10999    122000000.0\n",
       "3285     124000000.0\n",
       "11893    135000000.0\n",
       "15092    289238400.0\n",
       "941      330000000.0\n",
       "Name: last_price, Length: 15357, dtype: float64"
      ]
     },
     "execution_count": 73,
     "metadata": {},
     "output_type": "execute_result"
    }
   ],
   "source": [
    "# Data are given in thousand rubles. which is not very convenient. Let's bring the data to their usual form\n",
    "spb_real['last_price'] = spb_real['last_price']*1000\n",
    "spb_real['last_price'].sort_values()"
   ]
  },
  {
   "cell_type": "markdown",
   "id": "f41ef0bd",
   "metadata": {},
   "source": [
    "The minimum price for an apartment is 12,190 rubles. , and the maximum is 330,300,000 rubles. As the lower limit of the cost of an apartment, we take the value of 2,500,000 rubles (this is the starting price for apartments in St. Petersburg), and the upper one is 20,000,000. Since in this case it is not correct to take the values of the mustache"
   ]
  },
  {
   "cell_type": "code",
   "execution_count": 74,
   "id": "4be52be1",
   "metadata": {},
   "outputs": [],
   "source": [
    "out_total_area_spb = spb_real['last_price'].describe()\n",
    "\n",
    "#q1_out_total_area_spb = (out_total_area_spb['25%'] - 1.5 * (out_total_area_spb['75%'] - out_total_area_spb['25%'])) #-1485000.0\n",
    "#q3_out_total_area_spb = (out_total_area_spb['75%'] + 1.5 * (out_total_area_spb['75%'] - out_total_area_spb['25%'])) #13675000.0\n"
   ]
  },
  {
   "cell_type": "code",
   "execution_count": 75,
   "id": "2e3a8c0f",
   "metadata": {},
   "outputs": [
    {
     "data": {
      "text/plain": [
       "(42, 22)"
      ]
     },
     "execution_count": 75,
     "metadata": {},
     "output_type": "execute_result"
    }
   ],
   "source": [
    "spb_real[spb_real['last_price'] < 2500000].shape"
   ]
  },
  {
   "cell_type": "code",
   "execution_count": 76,
   "id": "09d688ef",
   "metadata": {},
   "outputs": [
    {
     "data": {
      "text/plain": [
       "(298, 22)"
      ]
     },
     "execution_count": 76,
     "metadata": {},
     "output_type": "execute_result"
    }
   ],
   "source": [
    "spb_real[spb_real['last_price'] > 25000000].shape"
   ]
  },
  {
   "cell_type": "markdown",
   "id": "0a533cf7",
   "metadata": {},
   "source": [
    "340 rows are subject to deletion - 2.21% of the 15357 dataset rows. There are no gaps in the last_price data, so the row data can be deleted without additional loss"
   ]
  },
  {
   "cell_type": "code",
   "execution_count": 77,
   "id": "ba50322f",
   "metadata": {},
   "outputs": [
    {
     "data": {
      "text/plain": [
       "(15017, 22)"
      ]
     },
     "execution_count": 77,
     "metadata": {},
     "output_type": "execute_result"
    }
   ],
   "source": [
    "spb_real = spb_real.query('last_price >= 2500000 and last_price <=25000000')\n",
    "spb_real.shape"
   ]
  },
  {
   "cell_type": "code",
   "execution_count": 78,
   "id": "982198e5",
   "metadata": {},
   "outputs": [],
   "source": [
    "spb_real_final = len(spb_real)\n"
   ]
  },
  {
   "cell_type": "code",
   "execution_count": 79,
   "id": "9557c21b",
   "metadata": {},
   "outputs": [
    {
     "name": "stdout",
     "output_type": "stream",
     "text": [
      "Percentage of data retained after clearing outliers in St. Petersburg data: 95.9%\n"
     ]
    }
   ],
   "source": [
    "print(\"Percentage of data retained after clearing outliers in St. Petersburg data: {:.1%}\".format(spb_real_final / spb_real_row))"
   ]
  },
  {
   "cell_type": "markdown",
   "id": "d3e0d460",
   "metadata": {},
   "source": [
    "*Processing of anomalous values in the data for the Leningrad region:*"
   ]
  },
  {
   "cell_type": "markdown",
   "id": "335b1b70",
   "metadata": {},
   "source": [
    "Clearing Outliers in Total Area Data"
   ]
  },
  {
   "cell_type": "code",
   "execution_count": 80,
   "id": "48021848",
   "metadata": {},
   "outputs": [
    {
     "data": {
      "text/plain": [
       "count    7914.000000\n",
       "mean       51.574723\n",
       "std        20.943400\n",
       "min        15.000000\n",
       "25%        37.000000\n",
       "50%        47.000000\n",
       "75%        61.000000\n",
       "max       380.000000\n",
       "Name: total_area, dtype: float64"
      ]
     },
     "execution_count": 80,
     "metadata": {},
     "output_type": "execute_result"
    }
   ],
   "source": [
    "lo_real['total_area'].describe()"
   ]
  },
  {
   "cell_type": "code",
   "execution_count": 81,
   "id": "ff1ce9b6",
   "metadata": {},
   "outputs": [
    {
     "data": {
      "text/plain": [
       "<AxesSubplot:>"
      ]
     },
     "execution_count": 81,
     "metadata": {},
     "output_type": "execute_result"
    },
    {
     "data": {
      "image/png": "[encoded data removed]",
      "text/plain": [
       "<Figure size 432x288 with 1 Axes>"
      ]
     },
     "metadata": {
      "needs_background": "light"
     },
     "output_type": "display_data"
    }
   ],
   "source": [
    "lo_real['total_area'].hist()"
   ]
  },
  {
   "cell_type": "code",
   "execution_count": 82,
   "id": "d5357435",
   "metadata": {},
   "outputs": [],
   "source": [
    "#Learn the boundaries of the upper and lower whiskers\n",
    "out_total_area_lo = lo_real['total_area'].describe()\n",
    "\n",
    "#q1_out_total_area_lo = (out_total_area_lo['25%'] - 1.5 * (out_total_area_lo['75%'] - out_total_area_lo['25%'])) # 1\n",
    "#q3_out_total_area_lo = (out_total_area_lo['75%'] + 1.5 * (out_total_area_lo['75%'] - out_total_area_lo['25%'])) # 97\n"
   ]
  },
  {
   "cell_type": "markdown",
   "id": "d78409fe",
   "metadata": {},
   "source": [
    "By analogy with the data set for St. Petersburg, we will set the minimum value of the total area of ​​the apartment at the level of 24 sq.m, and the maximum value at the level of 150 sq.m"
   ]
  },
  {
   "cell_type": "code",
   "execution_count": 83,
   "id": "b50f22be",
   "metadata": {},
   "outputs": [
    {
     "data": {
      "text/plain": [
       "(72, 22)"
      ]
     },
     "execution_count": 83,
     "metadata": {},
     "output_type": "execute_result"
    }
   ],
   "source": [
    "lo_real[lo_real['total_area'] < 24].shape"
   ]
  },
  {
   "cell_type": "code",
   "execution_count": 84,
   "id": "346b7e14",
   "metadata": {},
   "outputs": [
    {
     "data": {
      "text/plain": [
       "(35, 22)"
      ]
     },
     "execution_count": 84,
     "metadata": {},
     "output_type": "execute_result"
    }
   ],
   "source": [
    "lo_real[lo_real['total_area'] > 150].shape"
   ]
  },
  {
   "cell_type": "markdown",
   "id": "9bd916f6",
   "metadata": {},
   "source": [
    "107 are subject to deletion - this is 1.35% of the 7914 lines of the original data set. We can afford"
   ]
  },
  {
   "cell_type": "code",
   "execution_count": 85,
   "id": "e9520d28",
   "metadata": {},
   "outputs": [
    {
     "data": {
      "text/plain": [
       "(7807, 22)"
      ]
     },
     "execution_count": 85,
     "metadata": {},
     "output_type": "execute_result"
    }
   ],
   "source": [
    "lo_real = lo_real.query('total_area >= 24 and total_area <=150')\n",
    "lo_real.shape"
   ]
  },
  {
   "cell_type": "code",
   "execution_count": 86,
   "id": "cd25aca7",
   "metadata": {},
   "outputs": [
    {
     "data": {
      "text/plain": [
       "count    7807.000000\n",
       "mean       51.154035\n",
       "std        17.679796\n",
       "min        24.000000\n",
       "25%        37.000000\n",
       "50%        47.000000\n",
       "75%        60.900000\n",
       "max       147.800000\n",
       "Name: total_area, dtype: float64"
      ]
     },
     "execution_count": 86,
     "metadata": {},
     "output_type": "execute_result"
    }
   ],
   "source": [
    "lo_real['total_area'].describe()"
   ]
  },
  {
   "cell_type": "markdown",
   "id": "9e735f14",
   "metadata": {},
   "source": [
    "Living area data outlier cleaning:"
   ]
  },
  {
   "cell_type": "code",
   "execution_count": 87,
   "id": "8c547375",
   "metadata": {},
   "outputs": [
    {
     "data": {
      "text/plain": [
       "count    7075.000000\n",
       "mean       29.127634\n",
       "std        12.552806\n",
       "min         8.400000\n",
       "25%        18.000000\n",
       "50%        28.100000\n",
       "75%        37.050000\n",
       "max       106.000000\n",
       "Name: living_area, dtype: float64"
      ]
     },
     "execution_count": 87,
     "metadata": {},
     "output_type": "execute_result"
    }
   ],
   "source": [
    "lo_real['living_area'].describe()"
   ]
  },
  {
   "cell_type": "code",
   "execution_count": 88,
   "id": "ce872534",
   "metadata": {},
   "outputs": [
    {
     "data": {
      "text/plain": [
       "<AxesSubplot:>"
      ]
     },
     "execution_count": 88,
     "metadata": {},
     "output_type": "execute_result"
    },
    {
     "data": {
      "image/png": "[encoded data removed]",
      "text/plain": [
       "<Figure size 432x288 with 1 Axes>"
      ]
     },
     "metadata": {
      "needs_background": "light"
     },
     "output_type": "display_data"
    }
   ],
   "source": [
    "lo_real['living_area'].hist()"
   ]
  },
  {
   "cell_type": "markdown",
   "id": "7924c2fc",
   "metadata": {},
   "source": [
    "The minimum living area is 8.4sq.m and the maximum is 106sq.m. According to the SPB, we determined the boundaries of the living area using the planning coefficient K1. It is equal to the ratio of living space to the total footage and is usually in the recommended range from 0.5 to 0.7. In comfortable apartments, it is closer to the lower limit, in more economical ones - to the upper one (data taken from free sources). Let's start from the lower bound. For the lower boundary of the living area, we set the threshold 24x0.5=12 sq.m, the upper boundary 150x0.7= 105 sq.m. All values ​​out of this interval will be replaced by Nan."
   ]
  },
  {
   "cell_type": "code",
   "execution_count": 89,
   "id": "a8b3daff",
   "metadata": {},
   "outputs": [
    {
     "data": {
      "text/plain": [
       "(41, 22)"
      ]
     },
     "execution_count": 89,
     "metadata": {},
     "output_type": "execute_result"
    }
   ],
   "source": [
    "lo_real[lo_real['living_area'] < 12].shape"
   ]
  },
  {
   "cell_type": "code",
   "execution_count": 90,
   "id": "6fa953d5",
   "metadata": {},
   "outputs": [
    {
     "data": {
      "text/plain": [
       "(1, 22)"
      ]
     },
     "execution_count": 90,
     "metadata": {},
     "output_type": "execute_result"
    }
   ],
   "source": [
    "lo_real[lo_real['living_area'] > 105].shape"
   ]
  },
  {
   "cell_type": "markdown",
   "id": "45ff3555",
   "metadata": {},
   "source": [
    "42 lines are to be replaced - this is 0.54% - feel free to replace with Nan"
   ]
  },
  {
   "cell_type": "code",
   "execution_count": 91,
   "id": "a6d3e9bb",
   "metadata": {},
   "outputs": [
    {
     "data": {
      "text/plain": [
       "count    7033.000000\n",
       "mean       29.223812\n",
       "std        12.477709\n",
       "min        12.000000\n",
       "25%        18.000000\n",
       "50%        28.200000\n",
       "75%        37.200000\n",
       "max       100.000000\n",
       "Name: living_area, dtype: float64"
      ]
     },
     "execution_count": 91,
     "metadata": {},
     "output_type": "execute_result"
    }
   ],
   "source": [
    "lo_real.loc[lo_real['living_area'] < 12,'living_area'] = np.NaN\n",
    "lo_real.loc[lo_real['living_area'] > 105,'living_area'] = np.NaN\n",
    "lo_real['living_area'].describe()"
   ]
  },
  {
   "cell_type": "markdown",
   "id": "11438f8a",
   "metadata": {},
   "source": [
    "Cleaning outliers in kitchen area data:"
   ]
  },
  {
   "cell_type": "code",
   "execution_count": 92,
   "id": "a678f67c",
   "metadata": {},
   "outputs": [
    {
     "data": {
      "text/plain": [
       "count    6996.000000\n",
       "mean        9.296804\n",
       "std         3.823831\n",
       "min         2.300000\n",
       "25%         6.600000\n",
       "50%         8.805000\n",
       "75%        10.800000\n",
       "max        64.000000\n",
       "Name: kitchen_area, dtype: float64"
      ]
     },
     "execution_count": 92,
     "metadata": {},
     "output_type": "execute_result"
    }
   ],
   "source": [
    "lo_real['kitchen_area'].describe()"
   ]
  },
  {
   "cell_type": "code",
   "execution_count": 93,
   "id": "8c84609e",
   "metadata": {},
   "outputs": [
    {
     "data": {
      "text/plain": [
       "<AxesSubplot:>"
      ]
     },
     "execution_count": 93,
     "metadata": {},
     "output_type": "execute_result"
    },
    {
     "data": {
      "image/png": "[encoded data removed]",
      "text/plain": [
       "<Figure size 432x288 with 1 Axes>"
      ]
     },
     "metadata": {
      "needs_background": "light"
     },
     "output_type": "display_data"
    }
   ],
   "source": [
    "lo_real['kitchen_area'].hist()"
   ]
  },
  {
   "cell_type": "markdown",
   "id": "2a965238",
   "metadata": {},
   "source": [
    "The minimum kitchen area is 2.3 sq.m - too small. The maximum kitchen area is 64 sq.m. Our minimum maximum area of apartments is 24 sq.m and 150 sq.m. The minimum ratio of the kitchen area can be taken as 1/6 for apartments of 24 sq.m and 1/4 for apartments of 150 sq.m"
   ]
  },
  {
   "cell_type": "code",
   "execution_count": 94,
   "id": "834894ef",
   "metadata": {},
   "outputs": [
    {
     "data": {
      "text/plain": [
       "(6, 22)"
      ]
     },
     "execution_count": 94,
     "metadata": {},
     "output_type": "execute_result"
    }
   ],
   "source": [
    "lo_real[lo_real['kitchen_area'] > 40].shape"
   ]
  },
  {
   "cell_type": "code",
   "execution_count": 95,
   "id": "eb5bbbb3",
   "metadata": {},
   "outputs": [
    {
     "data": {
      "text/plain": [
       "(5, 22)"
      ]
     },
     "execution_count": 95,
     "metadata": {},
     "output_type": "execute_result"
    }
   ],
   "source": [
    "lo_real[lo_real['kitchen_area'] < 4].shape"
   ]
  },
  {
   "cell_type": "markdown",
   "id": "0f94efb3",
   "metadata": {},
   "source": [
    "11 lines are subject to replacement - 0.14% of the 7807 lines of the data set"
   ]
  },
  {
   "cell_type": "code",
   "execution_count": 96,
   "id": "3cca6cb0",
   "metadata": {},
   "outputs": [
    {
     "data": {
      "text/plain": [
       "count    6985.000000\n",
       "mean        9.262683\n",
       "std         3.578914\n",
       "min         4.000000\n",
       "25%         6.600000\n",
       "50%         8.800000\n",
       "75%        10.800000\n",
       "max        40.000000\n",
       "Name: kitchen_area, dtype: float64"
      ]
     },
     "execution_count": 96,
     "metadata": {},
     "output_type": "execute_result"
    }
   ],
   "source": [
    "lo_real.loc[lo_real['kitchen_area'] < 4,'kitchen_area'] = np.NaN\n",
    "lo_real.loc[lo_real['kitchen_area'] > 40,'kitchen_area'] = np.NaN\n",
    "lo_real['kitchen_area'].describe()"
   ]
  },
  {
   "cell_type": "markdown",
   "id": "7e211548",
   "metadata": {},
   "source": [
    "Clean up outliers in ceiling height data:"
   ]
  },
  {
   "cell_type": "code",
   "execution_count": 97,
   "id": "3be0aa3e",
   "metadata": {},
   "outputs": [
    {
     "data": {
      "text/plain": [
       "count    4341.000000\n",
       "mean        2.695761\n",
       "std         1.178724\n",
       "min         1.200000\n",
       "25%         2.500000\n",
       "50%         2.600000\n",
       "75%         2.700000\n",
       "max        32.000000\n",
       "Name: ceiling_height, dtype: float64"
      ]
     },
     "execution_count": 97,
     "metadata": {},
     "output_type": "execute_result"
    }
   ],
   "source": [
    "lo_real['ceiling_height'].describe()"
   ]
  },
  {
   "cell_type": "code",
   "execution_count": 98,
   "id": "91e4ee69",
   "metadata": {},
   "outputs": [
    {
     "data": {
      "text/plain": [
       "<AxesSubplot:>"
      ]
     },
     "execution_count": 98,
     "metadata": {},
     "output_type": "execute_result"
    },
    {
     "data": {
      "image/png": "[encoded data removed]",
      "text/plain": [
       "<Figure size 432x288 with 1 Axes>"
      ]
     },
     "metadata": {
      "needs_background": "light"
     },
     "output_type": "display_data"
    }
   ],
   "source": [
    "lo_real['ceiling_height'].hist(bins=50)"
   ]
  },
  {
   "cell_type": "markdown",
   "id": "eca106c7",
   "metadata": {},
   "source": [
    "As research data, it was decided to leave apartments with a ceiling height of 2.5m (the established norm for construction) to 3.5m"
   ]
  },
  {
   "cell_type": "code",
   "execution_count": 99,
   "id": "c1cda978",
   "metadata": {},
   "outputs": [
    {
     "data": {
      "text/plain": [
       "(39, 22)"
      ]
     },
     "execution_count": 99,
     "metadata": {},
     "output_type": "execute_result"
    }
   ],
   "source": [
    "lo_real[lo_real['ceiling_height'] < 2.5].shape"
   ]
  },
  {
   "cell_type": "code",
   "execution_count": 100,
   "id": "db64b394",
   "metadata": {},
   "outputs": [
    {
     "data": {
      "text/plain": [
       "(34, 22)"
      ]
     },
     "execution_count": 100,
     "metadata": {},
     "output_type": "execute_result"
    }
   ],
   "source": [
    "lo_real[lo_real['ceiling_height'] > 3.5].shape"
   ]
  },
  {
   "cell_type": "markdown",
   "id": "ffae5f2e",
   "metadata": {},
   "source": [
    "73 lines are subject to replacement - 0.94% of the 7807 lines of the data set"
   ]
  },
  {
   "cell_type": "code",
   "execution_count": 101,
   "id": "f05be857",
   "metadata": {},
   "outputs": [
    {
     "data": {
      "text/plain": [
       "count    4268.000000\n",
       "mean        2.634152\n",
       "std         0.158167\n",
       "min         2.500000\n",
       "25%         2.500000\n",
       "50%         2.600000\n",
       "75%         2.700000\n",
       "max         3.500000\n",
       "Name: ceiling_height, dtype: float64"
      ]
     },
     "execution_count": 101,
     "metadata": {},
     "output_type": "execute_result"
    }
   ],
   "source": [
    "lo_real.loc[lo_real['ceiling_height'] < 2.5,'ceiling_height'] = np.NaN\n",
    "lo_real.loc[lo_real['ceiling_height'] > 3.5,'ceiling_height'] = np.NaN\n",
    "lo_real['ceiling_height'].describe()"
   ]
  },
  {
   "cell_type": "markdown",
   "id": "03f7958e",
   "metadata": {},
   "source": [
    "Cleaning Outliers in Number of Rooms Data"
   ]
  },
  {
   "cell_type": "code",
   "execution_count": 102,
   "id": "ceed6706",
   "metadata": {},
   "outputs": [
    {
     "data": {
      "text/plain": [
       "count    7807.000000\n",
       "mean        1.868964\n",
       "std         0.868127\n",
       "min         0.000000\n",
       "25%         1.000000\n",
       "50%         2.000000\n",
       "75%         2.000000\n",
       "max         6.000000\n",
       "Name: rooms, dtype: float64"
      ]
     },
     "execution_count": 102,
     "metadata": {},
     "output_type": "execute_result"
    }
   ],
   "source": [
    "lo_real['rooms'].describe()"
   ]
  },
  {
   "cell_type": "code",
   "execution_count": 103,
   "id": "404f151c",
   "metadata": {},
   "outputs": [
    {
     "data": {
      "text/plain": [
       "<AxesSubplot:>"
      ]
     },
     "execution_count": 103,
     "metadata": {},
     "output_type": "execute_result"
    },
    {
     "data": {
      "image/png": "[encoded data removed]",
      "text/plain": [
       "<Figure size 432x288 with 1 Axes>"
      ]
     },
     "metadata": {
      "needs_background": "light"
     },
     "output_type": "display_data"
    }
   ],
   "source": [
    "lo_real['rooms'].hist()"
   ]
  },
  {
   "cell_type": "code",
   "execution_count": 104,
   "id": "7c71467f",
   "metadata": {},
   "outputs": [
    {
     "data": {
      "text/plain": [
       "3.5"
      ]
     },
     "execution_count": 104,
     "metadata": {},
     "output_type": "execute_result"
    }
   ],
   "source": [
    "# find the bounds of the top whisker\n",
    "out_rooms_lo = lo_real['rooms'].describe()\n",
    "\n",
    "q3_out_rooms_lo = (out_rooms_lo['75%'] + 1.5 * (out_rooms_lo['75%'] - out_rooms_lo['25%']))\n",
    "\n",
    "q3_out_rooms_lo "
   ]
  },
  {
   "cell_type": "markdown",
   "id": "b35f85e3",
   "metadata": {},
   "source": [
    "Minimum number of rooms = 0, this is possible if we have a studio apartment. The maximum number of rooms = 6. In this case, we determine the maximum number of rooms by the upper mustache (3.5 rooms are rounded up to 4)"
   ]
  },
  {
   "cell_type": "code",
   "execution_count": 105,
   "id": "c3fad522",
   "metadata": {},
   "outputs": [
    {
     "data": {
      "text/plain": [
       "(32, 22)"
      ]
     },
     "execution_count": 105,
     "metadata": {},
     "output_type": "execute_result"
    }
   ],
   "source": [
    "lo_real[lo_real['rooms'] > 4].shape"
   ]
  },
  {
   "cell_type": "markdown",
   "id": "754c4ba2",
   "metadata": {},
   "source": [
    "32 rows are subject to deletion - 0.41% of the 7807 rows of the data set"
   ]
  },
  {
   "cell_type": "code",
   "execution_count": 106,
   "id": "0f83fe52",
   "metadata": {},
   "outputs": [
    {
     "data": {
      "text/plain": [
       "(7775, 22)"
      ]
     },
     "execution_count": 106,
     "metadata": {},
     "output_type": "execute_result"
    }
   ],
   "source": [
    "lo_real = lo_real.query('rooms <= 4 ')\n",
    "lo_real.shape"
   ]
  },
  {
   "cell_type": "code",
   "execution_count": 107,
   "id": "b66d18d4",
   "metadata": {},
   "outputs": [
    {
     "data": {
      "text/plain": [
       "count    7775.000000\n",
       "mean        1.855820\n",
       "std         0.845194\n",
       "min         0.000000\n",
       "25%         1.000000\n",
       "50%         2.000000\n",
       "75%         2.000000\n",
       "max         4.000000\n",
       "Name: rooms, dtype: float64"
      ]
     },
     "execution_count": 107,
     "metadata": {},
     "output_type": "execute_result"
    }
   ],
   "source": [
    "lo_real['rooms'].describe()"
   ]
  },
  {
   "cell_type": "markdown",
   "id": "d12001a3",
   "metadata": {},
   "source": [
    "Cleaning outliers in total cost data:"
   ]
  },
  {
   "cell_type": "code",
   "execution_count": 108,
   "id": "45926c54",
   "metadata": {},
   "outputs": [
    {
     "data": {
      "text/plain": [
       "count     7775.000000\n",
       "mean      3462.969670\n",
       "std       1848.772693\n",
       "min        430.000000\n",
       "25%       2350.000000\n",
       "50%       3190.000000\n",
       "75%       4200.000000\n",
       "max      29500.000000\n",
       "Name: last_price, dtype: float64"
      ]
     },
     "execution_count": 108,
     "metadata": {},
     "output_type": "execute_result"
    }
   ],
   "source": [
    "lo_real['last_price'].describe()"
   ]
  },
  {
   "cell_type": "code",
   "execution_count": 109,
   "id": "cff278b9",
   "metadata": {},
   "outputs": [
    {
     "data": {
      "text/plain": [
       "<AxesSubplot:>"
      ]
     },
     "execution_count": 109,
     "metadata": {},
     "output_type": "execute_result"
    },
    {
     "data": {
      "image/png": "[encoded data removed]",
      "text/plain": [
       "<Figure size 432x288 with 1 Axes>"
      ]
     },
     "metadata": {
      "needs_background": "light"
     },
     "output_type": "display_data"
    }
   ],
   "source": [
    "lo_real['last_price'].hist(bins=100)"
   ]
  },
  {
   "cell_type": "code",
   "execution_count": 110,
   "id": "12eb90a2",
   "metadata": {},
   "outputs": [
    {
     "data": {
      "text/plain": [
       "5791      430000.0\n",
       "4966      430000.0\n",
       "5441      440000.0\n",
       "3205      450000.0\n",
       "5425      450000.0\n",
       "           ...    \n",
       "5001    23000000.0\n",
       "7057    24412900.0\n",
       "6582    24800000.0\n",
       "4961    25900000.0\n",
       "849     29500000.0\n",
       "Name: last_price, Length: 7775, dtype: float64"
      ]
     },
     "execution_count": 110,
     "metadata": {},
     "output_type": "execute_result"
    }
   ],
   "source": [
    "lo_real['last_price'] = lo_real['last_price']*1000\n",
    "lo_real['last_price'].sort_values()"
   ]
  },
  {
   "cell_type": "code",
   "execution_count": 111,
   "id": "c172bebd",
   "metadata": {},
   "outputs": [],
   "source": [
    "# Check the value of whiskers :\n",
    "out_last_price_lo = lo_real['last_price'].describe()\n",
    "\n",
    "q1_out_last_price_lo = (out_last_price_lo['25%'] - 1.5 * (out_last_price_lo['75%'] - out_last_price_lo['25%'])) #-425000.0\n",
    "q3_out_last_price_lo = (out_last_price_lo['75%'] + 1.5 * (out_last_price_lo['75%'] - out_last_price_lo['25%'])) # 6975000.0\n"
   ]
  },
  {
   "cell_type": "markdown",
   "id": "bd0b890d",
   "metadata": {},
   "source": [
    "The minimum price for an apartment in Leningrad Region = 430,000 rubles. , and the maximum is 29,500,000 rubles. Since we have remote settlements, we can assume that the average price for apartments can start from 600,000 rubles. the upper limit is denoted as 10,000,000 rubles. Since it will not be quite correct to focus on the values ​​of the whiskers here (the lower whisker has a negative value)"
   ]
  },
  {
   "cell_type": "code",
   "execution_count": 112,
   "id": "0e532c87",
   "metadata": {},
   "outputs": [
    {
     "data": {
      "text/plain": [
       "(99, 22)"
      ]
     },
     "execution_count": 112,
     "metadata": {},
     "output_type": "execute_result"
    }
   ],
   "source": [
    "lo_real[lo_real['last_price'] > 9000000].shape"
   ]
  },
  {
   "cell_type": "code",
   "execution_count": 113,
   "id": "f4a3b7d1",
   "metadata": {},
   "outputs": [
    {
     "data": {
      "text/plain": [
       "(32, 22)"
      ]
     },
     "execution_count": 113,
     "metadata": {},
     "output_type": "execute_result"
    }
   ],
   "source": [
    "lo_real[lo_real['last_price'] < 600000].shape"
   ]
  },
  {
   "cell_type": "markdown",
   "id": "e1cc4487",
   "metadata": {},
   "source": [
    "Removing the presence of 131 rows - 1.7% of the 7775 dataset rows"
   ]
  },
  {
   "cell_type": "code",
   "execution_count": 114,
   "id": "ff5c6a32",
   "metadata": {},
   "outputs": [
    {
     "data": {
      "text/plain": [
       "(7644, 22)"
      ]
     },
     "execution_count": 114,
     "metadata": {},
     "output_type": "execute_result"
    }
   ],
   "source": [
    "lo_real = lo_real.query('last_price >= 600000 and last_price <= 9000000 ')\n",
    "lo_real.shape"
   ]
  },
  {
   "cell_type": "code",
   "execution_count": 115,
   "id": "6521fd31",
   "metadata": {},
   "outputs": [],
   "source": [
    "lo_real_final = len(lo_real)"
   ]
  },
  {
   "cell_type": "code",
   "execution_count": 116,
   "id": "fcc77e81",
   "metadata": {},
   "outputs": [
    {
     "name": "stdout",
     "output_type": "stream",
     "text": [
      "Percentage of data retained after clearing outliers in Leningrad Oblast data: 96.6%\n"
     ]
    }
   ],
   "source": [
    "print(\"Percentage of data retained after clearing outliers in Leningrad Oblast data: {:.1%}\".format(lo_real_final / lo_real_row))"
   ]
  },
  {
   "cell_type": "code",
   "execution_count": 117,
   "id": "f44de6ad",
   "metadata": {},
   "outputs": [],
   "source": [
    "real_final = lo_real_final + spb_real_final"
   ]
  },
  {
   "cell_type": "code",
   "execution_count": 118,
   "id": "b077a200",
   "metadata": {},
   "outputs": [
    {
     "name": "stdout",
     "output_type": "stream",
     "text": [
      "The percentage of data saved on the original data set after cleaning outliers is equal to: 95.6%\n"
     ]
    }
   ],
   "source": [
    "print(\"The percentage of data saved on the original data set after cleaning outliers is equal to: {:.1%}\".format(real_final / real_row))"
   ]
  },
  {
   "cell_type": "markdown",
   "id": "56c3ab85",
   "metadata": {},
   "source": [
    "**Processing missing values for data for St. Petersburg and the Leningrad region:**\n",
    "\n",
    "- ceiling_height - replace missing values with median\n",
    "- living_area - replace missing values with median\n",
    "- kitchen_area - replace missing values with median"
   ]
  },
  {
   "cell_type": "code",
   "execution_count": 119,
   "id": "caeb0985",
   "metadata": {},
   "outputs": [
    {
     "data": {
      "text/plain": [
       "0"
      ]
     },
     "execution_count": 119,
     "metadata": {},
     "output_type": "execute_result"
    }
   ],
   "source": [
    "# we can replace the missing values in the ceiling height for the SPB data with the median value\n",
    "spb_real['ceiling_height'] = spb_real['ceiling_height'].fillna(spb_real['ceiling_height'].median())\n",
    "spb_real['ceiling_height'].isna().sum()"
   ]
  },
  {
   "cell_type": "code",
   "execution_count": 120,
   "id": "5079356d",
   "metadata": {},
   "outputs": [
    {
     "data": {
      "text/plain": [
       "0"
      ]
     },
     "execution_count": 120,
     "metadata": {},
     "output_type": "execute_result"
    }
   ],
   "source": [
    "# missing values in the ceiling height for the LO data, we can also replace the median value\n",
    "lo_real['ceiling_height'] = lo_real['ceiling_height'].fillna(lo_real['ceiling_height'].median())\n",
    "lo_real['ceiling_height'].isna().sum()"
   ]
  },
  {
   "cell_type": "code",
   "execution_count": 121,
   "id": "89ed2d1c",
   "metadata": {},
   "outputs": [
    {
     "data": {
      "text/plain": [
       "0"
      ]
     },
     "execution_count": 121,
     "metadata": {},
     "output_type": "execute_result"
    }
   ],
   "source": [
    "# The size of the living area depends on the total area of the premises. Let's try to find the average value of the ratio of these parameters\n",
    "spb_real_area_living = spb_real['total_area']/spb_real['living_area']\n",
    "spb_real_area_living.median()\n",
    "\n",
    "# Replace the missing values in the living area data by dividing the total area of the room by the resulting median of the ratio of the total area to the living area:\n",
    "spb_real['living_area'] = spb_real['living_area'].fillna(spb_real['total_area']/spb_real_area_living.median()).round(1)\n",
    "spb_real['living_area'].isna().sum()"
   ]
  },
  {
   "cell_type": "code",
   "execution_count": 122,
   "id": "14d4ad43",
   "metadata": {},
   "outputs": [
    {
     "data": {
      "text/plain": [
       "0"
      ]
     },
     "execution_count": 122,
     "metadata": {},
     "output_type": "execute_result"
    }
   ],
   "source": [
    "# For LO data, we will do the same\n",
    "lo_real_area_living = lo_real['total_area']/lo_real['living_area']\n",
    "lo_real_area_living.median()\n",
    "\n",
    "# Replace the missing values in the living area data by dividing the total area of the room by the resulting median of the ratio of the total area to the living area:\n",
    "lo_real['living_area'] = lo_real['living_area'].fillna(lo_real['total_area']/lo_real_area_living.median()).round(1)\n",
    "lo_real['living_area'].isna().sum()"
   ]
  },
  {
   "cell_type": "code",
   "execution_count": 123,
   "id": "0b487126",
   "metadata": {},
   "outputs": [
    {
     "data": {
      "text/plain": [
       "0"
      ]
     },
     "execution_count": 123,
     "metadata": {},
     "output_type": "execute_result"
    }
   ],
   "source": [
    "# missing values in the kitchen area will be found in the same way as we were looking for living space\n",
    "spb_real_area_kitchen = spb_real['total_area']/spb_real['kitchen_area']\n",
    "spb_real_area_kitchen.median()\n",
    "\n",
    "spb_real['kitchen_area'] = spb_real['kitchen_area'].fillna(spb_real['total_area']/spb_real_area_kitchen.median()).round(1)\n",
    "spb_real['kitchen_area'].isna().sum()"
   ]
  },
  {
   "cell_type": "code",
   "execution_count": 124,
   "id": "6bd5330d",
   "metadata": {},
   "outputs": [
    {
     "data": {
      "text/plain": [
       "0"
      ]
     },
     "execution_count": 124,
     "metadata": {},
     "output_type": "execute_result"
    }
   ],
   "source": [
    "lo_real_area_kitchen = lo_real['total_area']/lo_real['kitchen_area']\n",
    "lo_real_area_kitchen.median()\n",
    "\n",
    "lo_real['kitchen_area'] = lo_real['kitchen_area'].fillna(lo_real['total_area']/lo_real_area_kitchen.median()).round(1)\n",
    "lo_real['kitchen_area'].isna().sum()"
   ]
  },
  {
   "cell_type": "markdown",
   "id": "605f27ce",
   "metadata": {},
   "source": [
    "**Data type replacement:**\n",
    "\n",
    "- floors_total from float64 to int64 - the total number of floors cannot be a fractional number\n",
    "- is_apartment from object to int64 is a boolean data type, but dependencies will be easier to find with an int data type\n",
    "- studio from bool to int64 is a boolean data type, but it will be easier to find dependencies with an int data type\n",
    "- open_plan from bool to int64 is a boolean data type, but dependencies will be easier to find with an int data type\n",
    "- balcony from float64 to int64 - the number of balconies cannot be a fractional number\n",
    "\n",
    "- parks_around3000 from float64 to int64 - number of parks cannot be a fractional number\n",
    "- ponds_around3000 from float64 to int64 - the number of ponds cannot be a fractional number\n",
    "- days_exposition from float64 to int64 - the number of days of sale cannot be a fractional number\n"
   ]
  },
  {
   "cell_type": "code",
   "execution_count": 125,
   "id": "71a150c5",
   "metadata": {},
   "outputs": [
    {
     "data": {
      "text/plain": [
       "total_images              int64\n",
       "last_price              float64\n",
       "total_area              float64\n",
       "first_day_exposition     object\n",
       "rooms                     int64\n",
       "ceiling_height          float64\n",
       "floors_total              int32\n",
       "living_area             float64\n",
       "floor                     int64\n",
       "is_apartment              int32\n",
       "studio                    int32\n",
       "open_plan                 int32\n",
       "kitchen_area            float64\n",
       "balcony                   int32\n",
       "locality_name            object\n",
       "airports_nearest        float64\n",
       "city_centers_nearest    float64\n",
       "parks_around_3000       float64\n",
       "parks_nearest           float64\n",
       "ponds_around_3000       float64\n",
       "ponds_nearest           float64\n",
       "days_exposition         float64\n",
       "dtype: object"
      ]
     },
     "execution_count": 125,
     "metadata": {},
     "output_type": "execute_result"
    }
   ],
   "source": [
    "spb_real = spb_real.astype({\"floors_total\":'int', \"is_apartment\":'int',\"balcony\":'int',\"studio\":'int',\"open_plan\":'int'}) \n",
    "lo_real = lo_real.astype({\"floors_total\":'int', \"is_apartment\":'int',\"balcony\":'int',\"studio\":'int',\"open_plan\":'int'}) \n",
    "\n",
    "spb_real.dtypes"
   ]
  },
  {
   "cell_type": "markdown",
   "id": "561b376a",
   "metadata": {},
   "source": [
    "## Working with data"
   ]
  },
  {
   "cell_type": "markdown",
   "id": "7511387e",
   "metadata": {},
   "source": [
    "**Calculate and add to tables:**\n",
    "\n",
    "- price per square meter;\n",
    "- day of the week, month and year of publication of the ads;\n",
    "- floor of the apartment; - first, last, other;\n",
    "- the ratio of residential and total area, as well as the ratio of kitchen area to total."
   ]
  },
  {
   "cell_type": "code",
   "execution_count": 126,
   "id": "b459e0f0",
   "metadata": {},
   "outputs": [
    {
     "data": {
      "text/plain": [
       "14126     16842.1\n",
       "5111      28919.6\n",
       "2162      37234.0\n",
       "5697      37234.0\n",
       "3224      37234.0\n",
       "           ...   \n",
       "6740     355555.6\n",
       "3106     355555.6\n",
       "9741     387096.8\n",
       "6415     392354.1\n",
       "15119    600000.0\n",
       "Name: metr_price, Length: 15017, dtype: float64"
      ]
     },
     "execution_count": 126,
     "metadata": {},
     "output_type": "execute_result"
    }
   ],
   "source": [
    "# Calculate the cost per square meter for apartments in St. Petersburg and add to the data set:\n",
    "spb_real['metr_price'] = (spb_real['last_price']/spb_real['total_area']).round(1)\n",
    "\n",
    "spb_real['metr_price'].sort_values()"
   ]
  },
  {
   "cell_type": "code",
   "execution_count": 127,
   "id": "120ed348",
   "metadata": {},
   "outputs": [
    {
     "data": {
      "text/plain": [
       "7838     10507.2\n",
       "3176     10897.4\n",
       "5495     11250.0\n",
       "3526     11587.3\n",
       "6240     12422.4\n",
       "          ...   \n",
       "1411    153488.4\n",
       "2432    159000.0\n",
       "7786    159898.5\n",
       "3311    166666.7\n",
       "7300    168706.7\n",
       "Name: metr_price, Length: 7644, dtype: float64"
      ]
     },
     "execution_count": 127,
     "metadata": {},
     "output_type": "execute_result"
    }
   ],
   "source": [
    "# Calculate the cost per square meter for apartments in LO and add to the data set:\n",
    "lo_real['metr_price'] = (lo_real['last_price']/lo_real['total_area']).round(1)\n",
    "\n",
    "lo_real['metr_price'].sort_values()"
   ]
  },
  {
   "cell_type": "code",
   "execution_count": 128,
   "id": "1aec612c",
   "metadata": {},
   "outputs": [],
   "source": [
    "# create columns for the day of the week/month/year of writing the ad for St. Petersburg and Leningrad region\n",
    "spb_real['first_day_exposition'] = pd.to_datetime(spb_real['first_day_exposition'], format='%Y-%m-%dT%H:%M:%S') \n",
    "\n",
    "spb_real['week_expo'] = spb_real['first_day_exposition'].dt.weekday\n",
    "spb_real['month_expo'] = spb_real['first_day_exposition'].dt.month\n",
    "spb_real['year_expo'] = spb_real['first_day_exposition'].dt.year\n",
    "\n",
    "lo_real['first_day_exposition'] = pd.to_datetime(lo_real['first_day_exposition'], format='%Y-%m-%dT%H:%M:%S') \n",
    "\n",
    "lo_real['week_expo'] = lo_real['first_day_exposition'].dt.weekday\n",
    "lo_real['month_expo'] = lo_real['first_day_exposition'].dt.month\n",
    "lo_real['year_expo'] = lo_real['first_day_exposition'].dt.year"
   ]
  },
  {
   "cell_type": "code",
   "execution_count": 129,
   "id": "bc1a487f",
   "metadata": {},
   "outputs": [],
   "source": [
    "# apartment floor - create options - first, last, other;\n",
    "def floor_types(row):    \n",
    "    floor = row['floor']\n",
    "    if floor == 1:\n",
    "        return 'first'\n",
    "    elif floor == row['floors_total']:\n",
    "        return 'last'\n",
    "    else:\n",
    "        return ' other'\n",
    "\n",
    "spb_real.insert(9,'floors_type', spb_real.apply(floor_types, axis=1))\n",
    "lo_real.insert(9,'floors_type', lo_real.apply(floor_types, axis=1))"
   ]
  },
  {
   "cell_type": "code",
   "execution_count": 130,
   "id": "429c7343",
   "metadata": {},
   "outputs": [
    {
     "data": {
      "text/html": [
       "<div>\n",
       "<style scoped>\n",
       "    .dataframe tbody tr th:only-of-type {\n",
       "        vertical-align: middle;\n",
       "    }\n",
       "\n",
       "    .dataframe tbody tr th {\n",
       "        vertical-align: top;\n",
       "    }\n",
       "\n",
       "    .dataframe thead th {\n",
       "        text-align: right;\n",
       "    }\n",
       "</style>\n",
       "<table border=\"1\" class=\"dataframe\">\n",
       "  <thead>\n",
       "    <tr style=\"text-align: right;\">\n",
       "      <th></th>\n",
       "      <th>total_images</th>\n",
       "      <th>last_price</th>\n",
       "      <th>total_area</th>\n",
       "      <th>first_day_exposition</th>\n",
       "      <th>rooms</th>\n",
       "      <th>ceiling_height</th>\n",
       "      <th>floors_total</th>\n",
       "      <th>living_area</th>\n",
       "      <th>floor</th>\n",
       "      <th>floors_type</th>\n",
       "      <th>...</th>\n",
       "      <th>parks_nearest</th>\n",
       "      <th>ponds_around_3000</th>\n",
       "      <th>ponds_nearest</th>\n",
       "      <th>days_exposition</th>\n",
       "      <th>metr_price</th>\n",
       "      <th>week_expo</th>\n",
       "      <th>month_expo</th>\n",
       "      <th>year_expo</th>\n",
       "      <th>living_total_area</th>\n",
       "      <th>kitchen_total_area</th>\n",
       "    </tr>\n",
       "  </thead>\n",
       "  <tbody>\n",
       "    <tr>\n",
       "      <th>0</th>\n",
       "      <td>20</td>\n",
       "      <td>13000000.0</td>\n",
       "      <td>108.0</td>\n",
       "      <td>2019-03-07</td>\n",
       "      <td>3</td>\n",
       "      <td>2.70</td>\n",
       "      <td>16</td>\n",
       "      <td>51.0</td>\n",
       "      <td>8</td>\n",
       "      <td>other</td>\n",
       "      <td>...</td>\n",
       "      <td>482.0</td>\n",
       "      <td>2.0</td>\n",
       "      <td>755.0</td>\n",
       "      <td>NaN</td>\n",
       "      <td>120370.4</td>\n",
       "      <td>3</td>\n",
       "      <td>3</td>\n",
       "      <td>2019</td>\n",
       "      <td>47.2</td>\n",
       "      <td>23.1</td>\n",
       "    </tr>\n",
       "    <tr>\n",
       "      <th>1</th>\n",
       "      <td>10</td>\n",
       "      <td>5196000.0</td>\n",
       "      <td>56.0</td>\n",
       "      <td>2015-08-20</td>\n",
       "      <td>2</td>\n",
       "      <td>2.70</td>\n",
       "      <td>5</td>\n",
       "      <td>34.3</td>\n",
       "      <td>4</td>\n",
       "      <td>other</td>\n",
       "      <td>...</td>\n",
       "      <td>90.0</td>\n",
       "      <td>2.0</td>\n",
       "      <td>574.0</td>\n",
       "      <td>558.0</td>\n",
       "      <td>92785.7</td>\n",
       "      <td>3</td>\n",
       "      <td>8</td>\n",
       "      <td>2015</td>\n",
       "      <td>61.2</td>\n",
       "      <td>14.8</td>\n",
       "    </tr>\n",
       "    <tr>\n",
       "      <th>2</th>\n",
       "      <td>2</td>\n",
       "      <td>10000000.0</td>\n",
       "      <td>100.0</td>\n",
       "      <td>2018-06-19</td>\n",
       "      <td>2</td>\n",
       "      <td>3.03</td>\n",
       "      <td>14</td>\n",
       "      <td>32.0</td>\n",
       "      <td>13</td>\n",
       "      <td>other</td>\n",
       "      <td>...</td>\n",
       "      <td>112.0</td>\n",
       "      <td>1.0</td>\n",
       "      <td>48.0</td>\n",
       "      <td>121.0</td>\n",
       "      <td>100000.0</td>\n",
       "      <td>1</td>\n",
       "      <td>6</td>\n",
       "      <td>2018</td>\n",
       "      <td>32.0</td>\n",
       "      <td>41.0</td>\n",
       "    </tr>\n",
       "    <tr>\n",
       "      <th>3</th>\n",
       "      <td>5</td>\n",
       "      <td>7915000.0</td>\n",
       "      <td>71.6</td>\n",
       "      <td>2019-04-18</td>\n",
       "      <td>2</td>\n",
       "      <td>2.70</td>\n",
       "      <td>24</td>\n",
       "      <td>40.8</td>\n",
       "      <td>22</td>\n",
       "      <td>other</td>\n",
       "      <td>...</td>\n",
       "      <td>NaN</td>\n",
       "      <td>0.0</td>\n",
       "      <td>NaN</td>\n",
       "      <td>NaN</td>\n",
       "      <td>110544.7</td>\n",
       "      <td>3</td>\n",
       "      <td>4</td>\n",
       "      <td>2019</td>\n",
       "      <td>57.0</td>\n",
       "      <td>26.4</td>\n",
       "    </tr>\n",
       "    <tr>\n",
       "      <th>4</th>\n",
       "      <td>18</td>\n",
       "      <td>5400000.0</td>\n",
       "      <td>61.0</td>\n",
       "      <td>2017-02-26</td>\n",
       "      <td>3</td>\n",
       "      <td>2.50</td>\n",
       "      <td>9</td>\n",
       "      <td>43.6</td>\n",
       "      <td>7</td>\n",
       "      <td>other</td>\n",
       "      <td>...</td>\n",
       "      <td>NaN</td>\n",
       "      <td>0.0</td>\n",
       "      <td>NaN</td>\n",
       "      <td>289.0</td>\n",
       "      <td>88524.6</td>\n",
       "      <td>6</td>\n",
       "      <td>2</td>\n",
       "      <td>2017</td>\n",
       "      <td>71.5</td>\n",
       "      <td>10.7</td>\n",
       "    </tr>\n",
       "  </tbody>\n",
       "</table>\n",
       "<p>5 rows × 29 columns</p>\n",
       "</div>"
      ],
      "text/plain": [
       "   total_images  last_price  total_area first_day_exposition  rooms  \\\n",
       "0            20  13000000.0       108.0           2019-03-07      3   \n",
       "1            10   5196000.0        56.0           2015-08-20      2   \n",
       "2             2  10000000.0       100.0           2018-06-19      2   \n",
       "3             5   7915000.0        71.6           2019-04-18      2   \n",
       "4            18   5400000.0        61.0           2017-02-26      3   \n",
       "\n",
       "   ceiling_height  floors_total  living_area  floor floors_type  ...  \\\n",
       "0            2.70            16         51.0      8       other  ...   \n",
       "1            2.70             5         34.3      4       other  ...   \n",
       "2            3.03            14         32.0     13       other  ...   \n",
       "3            2.70            24         40.8     22       other  ...   \n",
       "4            2.50             9         43.6      7       other  ...   \n",
       "\n",
       "   parks_nearest  ponds_around_3000  ponds_nearest  days_exposition  \\\n",
       "0          482.0                2.0          755.0              NaN   \n",
       "1           90.0                2.0          574.0            558.0   \n",
       "2          112.0                1.0           48.0            121.0   \n",
       "3            NaN                0.0            NaN              NaN   \n",
       "4            NaN                0.0            NaN            289.0   \n",
       "\n",
       "   metr_price week_expo  month_expo  year_expo  living_total_area  \\\n",
       "0    120370.4         3           3       2019               47.2   \n",
       "1     92785.7         3           8       2015               61.2   \n",
       "2    100000.0         1           6       2018               32.0   \n",
       "3    110544.7         3           4       2019               57.0   \n",
       "4     88524.6         6           2       2017               71.5   \n",
       "\n",
       "   kitchen_total_area  \n",
       "0                23.1  \n",
       "1                14.8  \n",
       "2                41.0  \n",
       "3                26.4  \n",
       "4                10.7  \n",
       "\n",
       "[5 rows x 29 columns]"
      ]
     },
     "execution_count": 130,
     "metadata": {},
     "output_type": "execute_result"
    }
   ],
   "source": [
    "# the ratio of residential and total area, as well as the ratio of the kitchen area to the total area in percent\n",
    "\n",
    "spb_real['living_total_area'] = (spb_real['living_area']/spb_real['total_area']*100).round(1)\n",
    "spb_real['kitchen_total_area'] = (spb_real['kitchen_area']/spb_real['total_area']*100).round(1)\n",
    "\n",
    "lo_real['living_total_area'] = (lo_real['living_area']/lo_real['total_area']*100).round(1)\n",
    "lo_real['kitchen_total_area'] = (lo_real['kitchen_area']/lo_real['total_area']*100).round(1)\n",
    "\n",
    "spb_real = spb_real.reset_index(drop =True)\n",
    "spb_real.head()"
   ]
  },
  {
   "cell_type": "code",
   "execution_count": 131,
   "id": "60f17969",
   "metadata": {},
   "outputs": [
    {
     "data": {
      "text/html": [
       "<div>\n",
       "<style scoped>\n",
       "    .dataframe tbody tr th:only-of-type {\n",
       "        vertical-align: middle;\n",
       "    }\n",
       "\n",
       "    .dataframe tbody tr th {\n",
       "        vertical-align: top;\n",
       "    }\n",
       "\n",
       "    .dataframe thead th {\n",
       "        text-align: right;\n",
       "    }\n",
       "</style>\n",
       "<table border=\"1\" class=\"dataframe\">\n",
       "  <thead>\n",
       "    <tr style=\"text-align: right;\">\n",
       "      <th></th>\n",
       "      <th>total_images</th>\n",
       "      <th>last_price</th>\n",
       "      <th>total_area</th>\n",
       "      <th>first_day_exposition</th>\n",
       "      <th>rooms</th>\n",
       "      <th>ceiling_height</th>\n",
       "      <th>floors_total</th>\n",
       "      <th>living_area</th>\n",
       "      <th>floor</th>\n",
       "      <th>floors_type</th>\n",
       "      <th>...</th>\n",
       "      <th>parks_nearest</th>\n",
       "      <th>ponds_around_3000</th>\n",
       "      <th>ponds_nearest</th>\n",
       "      <th>days_exposition</th>\n",
       "      <th>metr_price</th>\n",
       "      <th>week_expo</th>\n",
       "      <th>month_expo</th>\n",
       "      <th>year_expo</th>\n",
       "      <th>living_total_area</th>\n",
       "      <th>kitchen_total_area</th>\n",
       "    </tr>\n",
       "  </thead>\n",
       "  <tbody>\n",
       "    <tr>\n",
       "      <th>0</th>\n",
       "      <td>7</td>\n",
       "      <td>3350000.0</td>\n",
       "      <td>40.40</td>\n",
       "      <td>2018-12-04</td>\n",
       "      <td>1</td>\n",
       "      <td>2.6</td>\n",
       "      <td>11</td>\n",
       "      <td>18.6</td>\n",
       "      <td>1</td>\n",
       "      <td>first</td>\n",
       "      <td>...</td>\n",
       "      <td>NaN</td>\n",
       "      <td>0.0</td>\n",
       "      <td>NaN</td>\n",
       "      <td>81.0</td>\n",
       "      <td>82920.8</td>\n",
       "      <td>1</td>\n",
       "      <td>12</td>\n",
       "      <td>2018</td>\n",
       "      <td>46.0</td>\n",
       "      <td>27.2</td>\n",
       "    </tr>\n",
       "    <tr>\n",
       "      <th>1</th>\n",
       "      <td>10</td>\n",
       "      <td>2890000.0</td>\n",
       "      <td>30.40</td>\n",
       "      <td>2018-09-10</td>\n",
       "      <td>1</td>\n",
       "      <td>2.6</td>\n",
       "      <td>12</td>\n",
       "      <td>14.4</td>\n",
       "      <td>5</td>\n",
       "      <td>other</td>\n",
       "      <td>...</td>\n",
       "      <td>NaN</td>\n",
       "      <td>NaN</td>\n",
       "      <td>NaN</td>\n",
       "      <td>55.0</td>\n",
       "      <td>95065.8</td>\n",
       "      <td>0</td>\n",
       "      <td>9</td>\n",
       "      <td>2018</td>\n",
       "      <td>47.4</td>\n",
       "      <td>29.9</td>\n",
       "    </tr>\n",
       "    <tr>\n",
       "      <th>2</th>\n",
       "      <td>6</td>\n",
       "      <td>3700000.0</td>\n",
       "      <td>37.30</td>\n",
       "      <td>2017-11-02</td>\n",
       "      <td>1</td>\n",
       "      <td>2.6</td>\n",
       "      <td>26</td>\n",
       "      <td>21.1</td>\n",
       "      <td>6</td>\n",
       "      <td>other</td>\n",
       "      <td>...</td>\n",
       "      <td>NaN</td>\n",
       "      <td>0.0</td>\n",
       "      <td>NaN</td>\n",
       "      <td>155.0</td>\n",
       "      <td>99195.7</td>\n",
       "      <td>3</td>\n",
       "      <td>11</td>\n",
       "      <td>2017</td>\n",
       "      <td>56.6</td>\n",
       "      <td>38.6</td>\n",
       "    </tr>\n",
       "    <tr>\n",
       "      <th>3</th>\n",
       "      <td>20</td>\n",
       "      <td>2900000.0</td>\n",
       "      <td>33.16</td>\n",
       "      <td>2018-05-23</td>\n",
       "      <td>1</td>\n",
       "      <td>2.6</td>\n",
       "      <td>27</td>\n",
       "      <td>15.4</td>\n",
       "      <td>26</td>\n",
       "      <td>other</td>\n",
       "      <td>...</td>\n",
       "      <td>NaN</td>\n",
       "      <td>NaN</td>\n",
       "      <td>NaN</td>\n",
       "      <td>189.0</td>\n",
       "      <td>87454.8</td>\n",
       "      <td>2</td>\n",
       "      <td>5</td>\n",
       "      <td>2018</td>\n",
       "      <td>46.4</td>\n",
       "      <td>26.5</td>\n",
       "    </tr>\n",
       "    <tr>\n",
       "      <th>4</th>\n",
       "      <td>9</td>\n",
       "      <td>3300000.0</td>\n",
       "      <td>44.00</td>\n",
       "      <td>2018-08-27</td>\n",
       "      <td>2</td>\n",
       "      <td>2.6</td>\n",
       "      <td>5</td>\n",
       "      <td>31.0</td>\n",
       "      <td>4</td>\n",
       "      <td>other</td>\n",
       "      <td>...</td>\n",
       "      <td>NaN</td>\n",
       "      <td>0.0</td>\n",
       "      <td>NaN</td>\n",
       "      <td>7.0</td>\n",
       "      <td>75000.0</td>\n",
       "      <td>0</td>\n",
       "      <td>8</td>\n",
       "      <td>2018</td>\n",
       "      <td>70.5</td>\n",
       "      <td>13.6</td>\n",
       "    </tr>\n",
       "  </tbody>\n",
       "</table>\n",
       "<p>5 rows × 29 columns</p>\n",
       "</div>"
      ],
      "text/plain": [
       "   total_images  last_price  total_area first_day_exposition  rooms  \\\n",
       "0             7   3350000.0       40.40           2018-12-04      1   \n",
       "1            10   2890000.0       30.40           2018-09-10      1   \n",
       "2             6   3700000.0       37.30           2017-11-02      1   \n",
       "3            20   2900000.0       33.16           2018-05-23      1   \n",
       "4             9   3300000.0       44.00           2018-08-27      2   \n",
       "\n",
       "   ceiling_height  floors_total  living_area  floor floors_type  ...  \\\n",
       "0             2.6            11         18.6      1       first  ...   \n",
       "1             2.6            12         14.4      5       other  ...   \n",
       "2             2.6            26         21.1      6       other  ...   \n",
       "3             2.6            27         15.4     26       other  ...   \n",
       "4             2.6             5         31.0      4       other  ...   \n",
       "\n",
       "   parks_nearest  ponds_around_3000  ponds_nearest  days_exposition  \\\n",
       "0            NaN                0.0            NaN             81.0   \n",
       "1            NaN                NaN            NaN             55.0   \n",
       "2            NaN                0.0            NaN            155.0   \n",
       "3            NaN                NaN            NaN            189.0   \n",
       "4            NaN                0.0            NaN              7.0   \n",
       "\n",
       "   metr_price week_expo  month_expo  year_expo  living_total_area  \\\n",
       "0     82920.8         1          12       2018               46.0   \n",
       "1     95065.8         0           9       2018               47.4   \n",
       "2     99195.7         3          11       2017               56.6   \n",
       "3     87454.8         2           5       2018               46.4   \n",
       "4     75000.0         0           8       2018               70.5   \n",
       "\n",
       "   kitchen_total_area  \n",
       "0                27.2  \n",
       "1                29.9  \n",
       "2                38.6  \n",
       "3                26.5  \n",
       "4                13.6  \n",
       "\n",
       "[5 rows x 29 columns]"
      ]
     },
     "execution_count": 131,
     "metadata": {},
     "output_type": "execute_result"
    }
   ],
   "source": [
    "lo_real = lo_real.reset_index(drop =True)\n",
    "lo_real.head()"
   ]
  },
  {
   "cell_type": "markdown",
   "id": "b5fa15b1",
   "metadata": {},
   "source": [
    "## Exploratory data analysis"
   ]
  },
  {
   "cell_type": "markdown",
   "id": "0dc2417b",
   "metadata": {},
   "source": [
    "For each dataset:\n",
    "\n",
    "- 1) Study: area, price, number of rooms, ceiling height. Build histograms for each parameter.\n",
    "- 2) Study: the time of sale of the apartment and build a histogram. Calculate the mean and median. Describe how long a sale usually takes. Describe quick and long sales. Remove rare and outliers. Describe the features found\n",
    "- 3) Identify the factors that most affect the cost of the apartment. To study whether the price depends on the area, number of rooms, distance from the center. To study the dependence of the price on which floor the apartment is located on: first, last or another. Study the dependence on the date of placement: day of the week, month and year.\n",
    "- 4) Select the 10 locations with the most ads. Calculate the average price per square meter in these settlements. Select the settlements with the highest and lowest cost of housing.\n",
    "- 5) For SPB data, find out which area is included in the center. Create a column with the distance to the center in kilometers: round to whole values. After that, calculate the average price for each kilometer. Construct a graph of the dependence of price on distance from the center. Determine the boundary where the graph changes a lot - this will be the central zone.\n",
    "- 6) Select a segment of apartments in the center. Analyze this territory and study the following parameters: area, price, number of rooms, ceiling height. Select factors that affect the cost of an apartment (number of rooms, floor, distance from the center, date of placement of the announcement). Draw conclusions and bring differences from the general base, if any."
   ]
  },
  {
   "cell_type": "markdown",
   "id": "c544466a",
   "metadata": {},
   "source": [
    "**1 - Study: area, price, number of rooms, ceiling height. Build histograms for each parameter.**\n"
   ]
  },
  {
   "cell_type": "code",
   "execution_count": 132,
   "id": "9dd8789d",
   "metadata": {},
   "outputs": [
    {
     "data": {
      "image/png": "[encoded data removed]",
      "text/plain": [
       "<Figure size 2160x720 with 2 Axes>"
      ]
     },
     "metadata": {
      "needs_background": "light"
     },
     "output_type": "display_data"
    }
   ],
   "source": [
    "#Histogram of total property area\n",
    "\n",
    "fig = plt.figure(figsize=(30, 10))\n",
    "\n",
    "ax = fig.add_subplot(121)\n",
    "plt.title (\"St. Petersburg\")\n",
    "ax=plt.hist(x='total_area', data=spb_real,bins= 60 ,facecolor='lightblue')\n",
    "\n",
    "ax2 = fig.add_subplot(122)\n",
    "plt.title (\"Leningrad region\")\n",
    "ax2=plt.hist(x='total_area', data = lo_real,bins = 60 ,facecolor='lightblue')\n",
    "plt.show()"
   ]
  },
  {
   "cell_type": "code",
   "execution_count": 133,
   "id": "ca8ae28a",
   "metadata": {},
   "outputs": [
    {
     "data": {
      "image/png": "[encoded data removed]",
      "text/plain": [
       "<Figure size 2160x720 with 2 Axes>"
      ]
     },
     "metadata": {
      "needs_background": "light"
     },
     "output_type": "display_data"
    }
   ],
   "source": [
    "#Histogram of real estate living area\n",
    "\n",
    "fig = plt.figure(figsize=(30, 10))\n",
    "\n",
    "ax = fig.add_subplot(121)\n",
    "plt.title (\"St. Petersburg\")\n",
    "ax=plt.hist(x='living_area', data=spb_real,bins= 60 ,facecolor='lightblue')\n",
    "\n",
    "ax2 = fig.add_subplot(122)\n",
    "plt.title (\"Leningrad region\")\n",
    "ax2=plt.hist(x='living_area', data = lo_real,bins = 60 ,facecolor='lightblue')\n",
    "plt.show()"
   ]
  },
  {
   "cell_type": "code",
   "execution_count": 134,
   "id": "f9137b05",
   "metadata": {},
   "outputs": [
    {
     "data": {
      "image/png": "[encoded data removed]",
      "text/plain": [
       "<Figure size 2160x720 with 2 Axes>"
      ]
     },
     "metadata": {
      "needs_background": "light"
     },
     "output_type": "display_data"
    }
   ],
   "source": [
    "#Histogram of real estate kitchen area\n",
    "\n",
    "fig = plt.figure(figsize=(30, 10))\n",
    "\n",
    "ax = fig.add_subplot(121)\n",
    "plt.title (\"St. Petersburg\")\n",
    "ax=plt.hist(x='kitchen_area', data=spb_real,bins= 60 ,facecolor='lightblue')\n",
    "\n",
    "ax2 = fig.add_subplot(122)\n",
    "plt.title (\"Leningrad region\")\n",
    "ax2=plt.hist(x='kitchen_area', data = lo_real,bins = 60 ,facecolor='lightblue')\n",
    "plt.show()"
   ]
  },
  {
   "cell_type": "code",
   "execution_count": 135,
   "id": "505af9f0",
   "metadata": {},
   "outputs": [
    {
     "data": {
      "image/png": "[encoded data removed]",
      "text/plain": [
       "<Figure size 2160x720 with 2 Axes>"
      ]
     },
     "metadata": {
      "needs_background": "light"
     },
     "output_type": "display_data"
    }
   ],
   "source": [
    "#Histogram of property prices\n",
    "\n",
    "fig = plt.figure(figsize=(30, 10))\n",
    "\n",
    "ax = fig.add_subplot(121)\n",
    "plt.title (\"St. Petersburg\")\n",
    "ax=plt.hist(x='metr_price', data=spb_real,bins= 60 ,facecolor='lightblue')\n",
    "\n",
    "ax2 = fig.add_subplot(122)\n",
    "plt.title (\"Leningrad region\")\n",
    "ax2=plt.hist(x='metr_price', data = lo_real,bins = 60 ,facecolor='lightblue')\n",
    "plt.show()"
   ]
  },
  {
   "cell_type": "code",
   "execution_count": 136,
   "id": "806ed49e",
   "metadata": {},
   "outputs": [
    {
     "data": {
      "image/png": "[encoded data removed]",
      "text/plain": [
       "<Figure size 2160x720 with 2 Axes>"
      ]
     },
     "metadata": {
      "needs_background": "light"
     },
     "output_type": "display_data"
    }
   ],
   "source": [
    "#Histogram of number of rooms\n",
    "\n",
    "fig = plt.figure(figsize=(30, 10))\n",
    "\n",
    "ax = fig.add_subplot(121)\n",
    "plt.title (\"St. Petersburg\")\n",
    "ax=plt.hist(x='rooms', data=spb_real,bins= 60 ,facecolor='lightblue')\n",
    "\n",
    "ax2 = fig.add_subplot(122)\n",
    "plt.title (\"Leningrad region\")\n",
    "ax2=plt.hist(x='rooms', data = lo_real,bins = 60 ,facecolor='lightblue')\n",
    "plt.show()"
   ]
  },
  {
   "cell_type": "code",
   "execution_count": 137,
   "id": "4f744eb3",
   "metadata": {},
   "outputs": [
    {
     "data": {
      "image/png": "[encoded data removed]",
      "text/plain": [
       "<Figure size 2160x720 with 2 Axes>"
      ]
     },
     "metadata": {
      "needs_background": "light"
     },
     "output_type": "display_data"
    }
   ],
   "source": [
    "#Histogram of ceiling heights\n",
    "fig = plt.figure(figsize=(30, 10))\n",
    "\n",
    "ax = fig.add_subplot(121)\n",
    "plt.title (\"St. Petersburg\")\n",
    "ax=plt.hist(x='ceiling_height', data=spb_real,bins= 20 ,facecolor='lightblue')\n",
    "\n",
    "ax2 = fig.add_subplot(122)\n",
    "plt.title (\"Leningrad region\")\n",
    "ax2=plt.hist(x='ceiling_height', data = lo_real,bins = 20 ,facecolor='lightblue')\n",
    "plt.show()"
   ]
  },
  {
   "cell_type": "markdown",
   "id": "4f746222",
   "metadata": {},
   "source": [
    "**2 - Study: the time of sale of apartments and build a histogram. Calculate the mean and median. Describe how long a sale usually takes. Describe quick and long sales.**"
   ]
  },
  {
   "cell_type": "markdown",
   "id": "95185bde",
   "metadata": {},
   "source": [
    "This parameter will be measured for a common data set. Since finding out where apartments are sold faster - in St. Petersburg or in the Leningrad region, is not a task."
   ]
  },
  {
   "cell_type": "code",
   "execution_count": 138,
   "id": "e50d265b",
   "metadata": {},
   "outputs": [
    {
     "data": {
      "text/plain": [
       "<AxesSubplot:title={'center':'Apartment sale time'}, ylabel='Frequency'>"
      ]
     },
     "execution_count": 138,
     "metadata": {},
     "output_type": "execute_result"
    },
    {
     "data": {
      "image/png": "[encoded data removed]",
      "text/plain": [
       "<Figure size 864x288 with 1 Axes>"
      ]
     },
     "metadata": {
      "needs_background": "light"
     },
     "output_type": "display_data"
    }
   ],
   "source": [
    "real['days_exposition'].plot(kind='hist', bins=100, title='Apartment sale time', grid= True, figsize=(12, 4))"
   ]
  },
  {
   "cell_type": "code",
   "execution_count": 139,
   "id": "f6cdf619",
   "metadata": {},
   "outputs": [
    {
     "data": {
      "text/plain": [
       "<AxesSubplot:>"
      ]
     },
     "execution_count": 139,
     "metadata": {},
     "output_type": "execute_result"
    },
    {
     "data": {
      "image/png": "[encoded data removed]",
      "text/plain": [
       "<Figure size 432x288 with 1 Axes>"
      ]
     },
     "metadata": {
      "needs_background": "light"
     },
     "output_type": "display_data"
    }
   ],
   "source": [
    "# Define outliers in the data\n",
    "real.boxplot('days_exposition')"
   ]
  },
  {
   "cell_type": "code",
   "execution_count": 140,
   "id": "22ab8b7a",
   "metadata": {},
   "outputs": [],
   "source": [
    "#Remove outliers and build a new histogram\n",
    "outline_days = real['days_exposition'].describe()\n",
    "\n",
    "q1_out = (outline_days['25%'] - 1.5 * (outline_days['75%'] - outline_days['25%']))\n",
    "q3_out = (outline_days['75%'] + 1.5 * (outline_days['75%'] - outline_days['25%']))"
   ]
  },
  {
   "cell_type": "code",
   "execution_count": 141,
   "id": "944065b9",
   "metadata": {},
   "outputs": [
    {
     "data": {
      "text/plain": [
       "array([[<AxesSubplot:title={'center':'days_exposition'}>]], dtype=object)"
      ]
     },
     "execution_count": 141,
     "metadata": {},
     "output_type": "execute_result"
    },
    {
     "data": {
      "image/png": "[encoded data removed]",
      "text/plain": [
       "<Figure size 864x288 with 1 Axes>"
      ]
     },
     "metadata": {
      "needs_background": "light"
     },
     "output_type": "display_data"
    }
   ],
   "source": [
    "real.query('days_exposition > @q1_out and days_exposition < @q3_out').hist('days_exposition', bins=100, figsize=(12, 4))"
   ]
  },
  {
   "cell_type": "code",
   "execution_count": 142,
   "id": "be0d96f2",
   "metadata": {},
   "outputs": [
    {
     "data": {
      "text/plain": [
       "array([[<AxesSubplot:title={'center':'days_exposition'}>]], dtype=object)"
      ]
     },
     "execution_count": 142,
     "metadata": {},
     "output_type": "execute_result"
    },
    {
     "data": {
      "image/png": "[encoded data removed]",
      "text/plain": [
       "<Figure size 864x288 with 1 Axes>"
      ]
     },
     "metadata": {
      "needs_background": "light"
     },
     "output_type": "display_data"
    }
   ],
   "source": [
    "real.query('days_exposition > @q1_out and days_exposition < @q3_out').hist('days_exposition', bins=100, range=(25,95), figsize=(12, 4))"
   ]
  },
  {
   "cell_type": "code",
   "execution_count": 143,
   "id": "a1331c61",
   "metadata": {},
   "outputs": [
    {
     "data": {
      "text/plain": [
       "count    20394.000000\n",
       "mean       180.741395\n",
       "std        219.732782\n",
       "min          1.000000\n",
       "25%         45.000000\n",
       "50%         95.000000\n",
       "75%        231.000000\n",
       "max       1580.000000\n",
       "Name: days_exposition, dtype: float64"
      ]
     },
     "execution_count": 143,
     "metadata": {},
     "output_type": "execute_result"
    }
   ],
   "source": [
    "outline_days"
   ]
  },
  {
   "cell_type": "markdown",
   "id": "78470c57",
   "metadata": {},
   "source": [
    "*Features that could be found - real estate sales growth is observed in the 30th, 45th, 60th and 90th days of the ad posting*\n",
    "\n",
    "- As an average term for the sale of an apartment, we take the median value of 95 days\n",
    "- Values above the 3rd quartile (231 days) can be considered long term to sell\n",
    "- Fast sale time can be considered values below 1 quartile (45 days)\n",
    "- The minimum period for the sale of real estate on the site is 1 day."
   ]
  },
  {
   "cell_type": "markdown",
   "id": "deaed904",
   "metadata": {},
   "source": [
    "**3 - Identify the factors that most affect the cost of the apartment. To study whether the price depends on the area, number of rooms, distance from the center. To study the dependence of the price on which floor the apartment is located on: first, last or another. Explore the dependence on the date of posting: day of the week, month and year.**"
   ]
  },
  {
   "cell_type": "code",
   "execution_count": 144,
   "id": "4038ad14",
   "metadata": {},
   "outputs": [
    {
     "data": {
      "text/html": [
       "<div>\n",
       "<style scoped>\n",
       "    .dataframe tbody tr th:only-of-type {\n",
       "        vertical-align: middle;\n",
       "    }\n",
       "\n",
       "    .dataframe tbody tr th {\n",
       "        vertical-align: top;\n",
       "    }\n",
       "\n",
       "    .dataframe thead th {\n",
       "        text-align: right;\n",
       "    }\n",
       "</style>\n",
       "<table border=\"1\" class=\"dataframe\">\n",
       "  <thead>\n",
       "    <tr style=\"text-align: right;\">\n",
       "      <th></th>\n",
       "      <th>last_price</th>\n",
       "      <th>total_area</th>\n",
       "      <th>rooms</th>\n",
       "      <th>city_centers_nearest</th>\n",
       "      <th>week_expo</th>\n",
       "      <th>month_expo</th>\n",
       "      <th>year_expo</th>\n",
       "      <th>floors_type</th>\n",
       "    </tr>\n",
       "  </thead>\n",
       "  <tbody>\n",
       "    <tr>\n",
       "      <th>0</th>\n",
       "      <td>13000000.0</td>\n",
       "      <td>108.0</td>\n",
       "      <td>3</td>\n",
       "      <td>16028.0</td>\n",
       "      <td>3</td>\n",
       "      <td>3</td>\n",
       "      <td>2019</td>\n",
       "      <td>other</td>\n",
       "    </tr>\n",
       "    <tr>\n",
       "      <th>1</th>\n",
       "      <td>5196000.0</td>\n",
       "      <td>56.0</td>\n",
       "      <td>2</td>\n",
       "      <td>13933.0</td>\n",
       "      <td>3</td>\n",
       "      <td>8</td>\n",
       "      <td>2015</td>\n",
       "      <td>other</td>\n",
       "    </tr>\n",
       "    <tr>\n",
       "      <th>2</th>\n",
       "      <td>10000000.0</td>\n",
       "      <td>100.0</td>\n",
       "      <td>2</td>\n",
       "      <td>8098.0</td>\n",
       "      <td>1</td>\n",
       "      <td>6</td>\n",
       "      <td>2018</td>\n",
       "      <td>other</td>\n",
       "    </tr>\n",
       "    <tr>\n",
       "      <th>3</th>\n",
       "      <td>7915000.0</td>\n",
       "      <td>71.6</td>\n",
       "      <td>2</td>\n",
       "      <td>11634.0</td>\n",
       "      <td>3</td>\n",
       "      <td>4</td>\n",
       "      <td>2019</td>\n",
       "      <td>other</td>\n",
       "    </tr>\n",
       "    <tr>\n",
       "      <th>4</th>\n",
       "      <td>5400000.0</td>\n",
       "      <td>61.0</td>\n",
       "      <td>3</td>\n",
       "      <td>15008.0</td>\n",
       "      <td>6</td>\n",
       "      <td>2</td>\n",
       "      <td>2017</td>\n",
       "      <td>other</td>\n",
       "    </tr>\n",
       "  </tbody>\n",
       "</table>\n",
       "</div>"
      ],
      "text/plain": [
       "   last_price  total_area  rooms  city_centers_nearest  week_expo  month_expo  \\\n",
       "0  13000000.0       108.0      3               16028.0          3           3   \n",
       "1   5196000.0        56.0      2               13933.0          3           8   \n",
       "2  10000000.0       100.0      2                8098.0          1           6   \n",
       "3   7915000.0        71.6      2               11634.0          3           4   \n",
       "4   5400000.0        61.0      3               15008.0          6           2   \n",
       "\n",
       "   year_expo floors_type  \n",
       "0       2019       other  \n",
       "1       2015       other  \n",
       "2       2018       other  \n",
       "3       2019       other  \n",
       "4       2017       other  "
      ]
     },
     "execution_count": 144,
     "metadata": {},
     "output_type": "execute_result"
    }
   ],
   "source": [
    "#Create a table of correlations of the data we are interested in for St. Petersburg:\n",
    "\n",
    "spb_real_research = spb_real[['last_price',\n",
    "                      'total_area',\n",
    "                      'rooms',\n",
    "                      'city_centers_nearest',\n",
    "                      'week_expo',\n",
    "                      'month_expo',\n",
    "                      'year_expo',\n",
    "                      'floors_type']]\n",
    "\n",
    "spb_real_research.head()"
   ]
  },
  {
   "cell_type": "code",
   "execution_count": 145,
   "id": "20514e4d",
   "metadata": {},
   "outputs": [
    {
     "name": "stderr",
     "output_type": "stream",
     "text": [
      "C:\\Users\\Админ\\AppData\\Local\\Temp\\ipykernel_4732\\2086852338.py:13: SettingWithCopyWarning: \n",
      "A value is trying to be set on a copy of a slice from a DataFrame.\n",
      "Try using .loc[row_indexer,col_indexer] = value instead\n",
      "\n",
      "See the caveats in the documentation: https://pandas.pydata.org/pandas-docs/stable/user_guide/indexing.html#returning-a-view-versus-a-copy\n",
      "  spb_real_research['floor_category'] = spb_real_research.apply(floor_num, axis=1)\n",
      "C:\\anaconda3\\lib\\site-packages\\pandas\\io\\formats\\style.py:3554: RuntimeWarning: All-NaN slice encountered\n",
      "  smin = np.nanmin(gmap) if vmin is None else vmin\n",
      "C:\\anaconda3\\lib\\site-packages\\pandas\\io\\formats\\style.py:3555: RuntimeWarning: All-NaN slice encountered\n",
      "  smax = np.nanmax(gmap) if vmax is None else vmax\n"
     ]
    },
    {
     "data": {
      "text/html": [
       "<style type=\"text/css\">\n",
       "#T_bf2a2_row0_col0, #T_bf2a2_row1_col1, #T_bf2a2_row2_col2, #T_bf2a2_row3_col3, #T_bf2a2_row4_col4, #T_bf2a2_row5_col5, #T_bf2a2_row6_col6 {\n",
       "  background-color: #08306b;\n",
       "  color: #f1f1f1;\n",
       "}\n",
       "#T_bf2a2_row0_col1 {\n",
       "  background-color: #0a539e;\n",
       "  color: #f1f1f1;\n",
       "}\n",
       "#T_bf2a2_row0_col2 {\n",
       "  background-color: #4292c6;\n",
       "  color: #f1f1f1;\n",
       "}\n",
       "#T_bf2a2_row0_col3, #T_bf2a2_row0_col4, #T_bf2a2_row1_col4, #T_bf2a2_row3_col0, #T_bf2a2_row3_col1, #T_bf2a2_row3_col2, #T_bf2a2_row5_col6, #T_bf2a2_row6_col5 {\n",
       "  background-color: #f7fbff;\n",
       "  color: #000000;\n",
       "}\n",
       "#T_bf2a2_row0_col5, #T_bf2a2_row2_col5 {\n",
       "  background-color: #cde0f1;\n",
       "  color: #000000;\n",
       "}\n",
       "#T_bf2a2_row0_col6 {\n",
       "  background-color: #d0e1f2;\n",
       "  color: #000000;\n",
       "}\n",
       "#T_bf2a2_row0_col7, #T_bf2a2_row1_col7, #T_bf2a2_row2_col7, #T_bf2a2_row3_col7, #T_bf2a2_row4_col7, #T_bf2a2_row5_col7, #T_bf2a2_row6_col7, #T_bf2a2_row7_col0, #T_bf2a2_row7_col1, #T_bf2a2_row7_col2, #T_bf2a2_row7_col3, #T_bf2a2_row7_col4, #T_bf2a2_row7_col5, #T_bf2a2_row7_col6, #T_bf2a2_row7_col7 {\n",
       "  background-color: #000000;\n",
       "  color: #f1f1f1;\n",
       "}\n",
       "#T_bf2a2_row1_col0 {\n",
       "  background-color: #08519c;\n",
       "  color: #f1f1f1;\n",
       "}\n",
       "#T_bf2a2_row1_col2 {\n",
       "  background-color: #115ca5;\n",
       "  color: #f1f1f1;\n",
       "}\n",
       "#T_bf2a2_row1_col3 {\n",
       "  background-color: #ebf3fb;\n",
       "  color: #000000;\n",
       "}\n",
       "#T_bf2a2_row1_col5, #T_bf2a2_row4_col5 {\n",
       "  background-color: #ccdff1;\n",
       "  color: #000000;\n",
       "}\n",
       "#T_bf2a2_row1_col6 {\n",
       "  background-color: #d9e7f5;\n",
       "  color: #000000;\n",
       "}\n",
       "#T_bf2a2_row2_col0 {\n",
       "  background-color: #3787c0;\n",
       "  color: #f1f1f1;\n",
       "}\n",
       "#T_bf2a2_row2_col1 {\n",
       "  background-color: #0e59a2;\n",
       "  color: #f1f1f1;\n",
       "}\n",
       "#T_bf2a2_row2_col3 {\n",
       "  background-color: #e0ecf8;\n",
       "  color: #000000;\n",
       "}\n",
       "#T_bf2a2_row2_col4 {\n",
       "  background-color: #f6faff;\n",
       "  color: #000000;\n",
       "}\n",
       "#T_bf2a2_row2_col6, #T_bf2a2_row6_col1 {\n",
       "  background-color: #d3e4f3;\n",
       "  color: #000000;\n",
       "}\n",
       "#T_bf2a2_row3_col4, #T_bf2a2_row6_col4 {\n",
       "  background-color: #f5fafe;\n",
       "  color: #000000;\n",
       "}\n",
       "#T_bf2a2_row3_col5 {\n",
       "  background-color: #cbdef1;\n",
       "  color: #000000;\n",
       "}\n",
       "#T_bf2a2_row3_col6 {\n",
       "  background-color: #bdd7ec;\n",
       "  color: #000000;\n",
       "}\n",
       "#T_bf2a2_row4_col0 {\n",
       "  background-color: #bcd7eb;\n",
       "  color: #000000;\n",
       "}\n",
       "#T_bf2a2_row4_col1 {\n",
       "  background-color: #c9ddf0;\n",
       "  color: #000000;\n",
       "}\n",
       "#T_bf2a2_row4_col2, #T_bf2a2_row5_col2 {\n",
       "  background-color: #d1e2f3;\n",
       "  color: #000000;\n",
       "}\n",
       "#T_bf2a2_row4_col3 {\n",
       "  background-color: #b9d6ea;\n",
       "  color: #000000;\n",
       "}\n",
       "#T_bf2a2_row4_col6 {\n",
       "  background-color: #cddff1;\n",
       "  color: #000000;\n",
       "}\n",
       "#T_bf2a2_row5_col0 {\n",
       "  background-color: #bad6eb;\n",
       "  color: #000000;\n",
       "}\n",
       "#T_bf2a2_row5_col1 {\n",
       "  background-color: #c7dcef;\n",
       "  color: #000000;\n",
       "}\n",
       "#T_bf2a2_row5_col3 {\n",
       "  background-color: #b8d5ea;\n",
       "  color: #000000;\n",
       "}\n",
       "#T_bf2a2_row5_col4 {\n",
       "  background-color: #f5f9fe;\n",
       "  color: #000000;\n",
       "}\n",
       "#T_bf2a2_row6_col0 {\n",
       "  background-color: #bed8ec;\n",
       "  color: #000000;\n",
       "}\n",
       "#T_bf2a2_row6_col2 {\n",
       "  background-color: #d8e7f5;\n",
       "  color: #000000;\n",
       "}\n",
       "#T_bf2a2_row6_col3 {\n",
       "  background-color: #a8cee4;\n",
       "  color: #000000;\n",
       "}\n",
       "</style>\n",
       "<table id=\"T_bf2a2\">\n",
       "  <thead>\n",
       "    <tr>\n",
       "      <th class=\"blank level0\" >&nbsp;</th>\n",
       "      <th id=\"T_bf2a2_level0_col0\" class=\"col_heading level0 col0\" >last_price</th>\n",
       "      <th id=\"T_bf2a2_level0_col1\" class=\"col_heading level0 col1\" >total_area</th>\n",
       "      <th id=\"T_bf2a2_level0_col2\" class=\"col_heading level0 col2\" >rooms</th>\n",
       "      <th id=\"T_bf2a2_level0_col3\" class=\"col_heading level0 col3\" >city_centers_nearest</th>\n",
       "      <th id=\"T_bf2a2_level0_col4\" class=\"col_heading level0 col4\" >week_expo</th>\n",
       "      <th id=\"T_bf2a2_level0_col5\" class=\"col_heading level0 col5\" >month_expo</th>\n",
       "      <th id=\"T_bf2a2_level0_col6\" class=\"col_heading level0 col6\" >year_expo</th>\n",
       "      <th id=\"T_bf2a2_level0_col7\" class=\"col_heading level0 col7\" >floor_category</th>\n",
       "    </tr>\n",
       "  </thead>\n",
       "  <tbody>\n",
       "    <tr>\n",
       "      <th id=\"T_bf2a2_level0_row0\" class=\"row_heading level0 row0\" >last_price</th>\n",
       "      <td id=\"T_bf2a2_row0_col0\" class=\"data row0 col0\" >1.000000</td>\n",
       "      <td id=\"T_bf2a2_row0_col1\" class=\"data row0 col1\" >0.822160</td>\n",
       "      <td id=\"T_bf2a2_row0_col2\" class=\"data row0 col2\" >0.529263</td>\n",
       "      <td id=\"T_bf2a2_row0_col3\" class=\"data row0 col3\" >-0.409917</td>\n",
       "      <td id=\"T_bf2a2_row0_col4\" class=\"data row0 col4\" >-0.010069</td>\n",
       "      <td id=\"T_bf2a2_row0_col5\" class=\"data row0 col5\" >-0.004752</td>\n",
       "      <td id=\"T_bf2a2_row0_col6\" class=\"data row0 col6\" >-0.021906</td>\n",
       "      <td id=\"T_bf2a2_row0_col7\" class=\"data row0 col7\" >nan</td>\n",
       "    </tr>\n",
       "    <tr>\n",
       "      <th id=\"T_bf2a2_level0_row1\" class=\"row_heading level0 row1\" >total_area</th>\n",
       "      <td id=\"T_bf2a2_row1_col0\" class=\"data row1 col0\" >0.822160</td>\n",
       "      <td id=\"T_bf2a2_row1_col1\" class=\"data row1 col1\" >1.000000</td>\n",
       "      <td id=\"T_bf2a2_row1_col2\" class=\"data row1 col2\" >0.788808</td>\n",
       "      <td id=\"T_bf2a2_row1_col3\" class=\"data row1 col3\" >-0.322345</td>\n",
       "      <td id=\"T_bf2a2_row1_col4\" class=\"data row1 col4\" >-0.011565</td>\n",
       "      <td id=\"T_bf2a2_row1_col5\" class=\"data row1 col5\" >0.002861</td>\n",
       "      <td id=\"T_bf2a2_row1_col6\" class=\"data row1 col6\" >-0.083786</td>\n",
       "      <td id=\"T_bf2a2_row1_col7\" class=\"data row1 col7\" >nan</td>\n",
       "    </tr>\n",
       "    <tr>\n",
       "      <th id=\"T_bf2a2_level0_row2\" class=\"row_heading level0 row2\" >rooms</th>\n",
       "      <td id=\"T_bf2a2_row2_col0\" class=\"data row2 col0\" >0.529263</td>\n",
       "      <td id=\"T_bf2a2_row2_col1\" class=\"data row2 col1\" >0.788808</td>\n",
       "      <td id=\"T_bf2a2_row2_col2\" class=\"data row2 col2\" >1.000000</td>\n",
       "      <td id=\"T_bf2a2_row2_col3\" class=\"data row2 col3\" >-0.247120</td>\n",
       "      <td id=\"T_bf2a2_row2_col4\" class=\"data row2 col4\" >-0.007504</td>\n",
       "      <td id=\"T_bf2a2_row2_col5\" class=\"data row2 col5\" >-0.006434</td>\n",
       "      <td id=\"T_bf2a2_row2_col6\" class=\"data row2 col6\" >-0.049194</td>\n",
       "      <td id=\"T_bf2a2_row2_col7\" class=\"data row2 col7\" >nan</td>\n",
       "    </tr>\n",
       "    <tr>\n",
       "      <th id=\"T_bf2a2_level0_row3\" class=\"row_heading level0 row3\" >city_centers_nearest</th>\n",
       "      <td id=\"T_bf2a2_row3_col0\" class=\"data row3 col0\" >-0.409917</td>\n",
       "      <td id=\"T_bf2a2_row3_col1\" class=\"data row3 col1\" >-0.322345</td>\n",
       "      <td id=\"T_bf2a2_row3_col2\" class=\"data row3 col2\" >-0.247120</td>\n",
       "      <td id=\"T_bf2a2_row3_col3\" class=\"data row3 col3\" >1.000000</td>\n",
       "      <td id=\"T_bf2a2_row3_col4\" class=\"data row3 col4\" >-0.000163</td>\n",
       "      <td id=\"T_bf2a2_row3_col5\" class=\"data row3 col5\" >0.008530</td>\n",
       "      <td id=\"T_bf2a2_row3_col6\" class=\"data row3 col6\" >0.077384</td>\n",
       "      <td id=\"T_bf2a2_row3_col7\" class=\"data row3 col7\" >nan</td>\n",
       "    </tr>\n",
       "    <tr>\n",
       "      <th id=\"T_bf2a2_level0_row4\" class=\"row_heading level0 row4\" >week_expo</th>\n",
       "      <td id=\"T_bf2a2_row4_col0\" class=\"data row4 col0\" >-0.010069</td>\n",
       "      <td id=\"T_bf2a2_row4_col1\" class=\"data row4 col1\" >-0.011565</td>\n",
       "      <td id=\"T_bf2a2_row4_col2\" class=\"data row4 col2\" >-0.007504</td>\n",
       "      <td id=\"T_bf2a2_row4_col3\" class=\"data row4 col3\" >-0.000163</td>\n",
       "      <td id=\"T_bf2a2_row4_col4\" class=\"data row4 col4\" >1.000000</td>\n",
       "      <td id=\"T_bf2a2_row4_col5\" class=\"data row4 col5\" >0.003687</td>\n",
       "      <td id=\"T_bf2a2_row4_col6\" class=\"data row4 col6\" >-0.000410</td>\n",
       "      <td id=\"T_bf2a2_row4_col7\" class=\"data row4 col7\" >nan</td>\n",
       "    </tr>\n",
       "    <tr>\n",
       "      <th id=\"T_bf2a2_level0_row5\" class=\"row_heading level0 row5\" >month_expo</th>\n",
       "      <td id=\"T_bf2a2_row5_col0\" class=\"data row5 col0\" >-0.004752</td>\n",
       "      <td id=\"T_bf2a2_row5_col1\" class=\"data row5 col1\" >0.002861</td>\n",
       "      <td id=\"T_bf2a2_row5_col2\" class=\"data row5 col2\" >-0.006434</td>\n",
       "      <td id=\"T_bf2a2_row5_col3\" class=\"data row5 col3\" >0.008530</td>\n",
       "      <td id=\"T_bf2a2_row5_col4\" class=\"data row5 col4\" >0.003687</td>\n",
       "      <td id=\"T_bf2a2_row5_col5\" class=\"data row5 col5\" >1.000000</td>\n",
       "      <td id=\"T_bf2a2_row5_col6\" class=\"data row5 col6\" >-0.279466</td>\n",
       "      <td id=\"T_bf2a2_row5_col7\" class=\"data row5 col7\" >nan</td>\n",
       "    </tr>\n",
       "    <tr>\n",
       "      <th id=\"T_bf2a2_level0_row6\" class=\"row_heading level0 row6\" >year_expo</th>\n",
       "      <td id=\"T_bf2a2_row6_col0\" class=\"data row6 col0\" >-0.021906</td>\n",
       "      <td id=\"T_bf2a2_row6_col1\" class=\"data row6 col1\" >-0.083786</td>\n",
       "      <td id=\"T_bf2a2_row6_col2\" class=\"data row6 col2\" >-0.049194</td>\n",
       "      <td id=\"T_bf2a2_row6_col3\" class=\"data row6 col3\" >0.077384</td>\n",
       "      <td id=\"T_bf2a2_row6_col4\" class=\"data row6 col4\" >-0.000410</td>\n",
       "      <td id=\"T_bf2a2_row6_col5\" class=\"data row6 col5\" >-0.279466</td>\n",
       "      <td id=\"T_bf2a2_row6_col6\" class=\"data row6 col6\" >1.000000</td>\n",
       "      <td id=\"T_bf2a2_row6_col7\" class=\"data row6 col7\" >nan</td>\n",
       "    </tr>\n",
       "    <tr>\n",
       "      <th id=\"T_bf2a2_level0_row7\" class=\"row_heading level0 row7\" >floor_category</th>\n",
       "      <td id=\"T_bf2a2_row7_col0\" class=\"data row7 col0\" >nan</td>\n",
       "      <td id=\"T_bf2a2_row7_col1\" class=\"data row7 col1\" >nan</td>\n",
       "      <td id=\"T_bf2a2_row7_col2\" class=\"data row7 col2\" >nan</td>\n",
       "      <td id=\"T_bf2a2_row7_col3\" class=\"data row7 col3\" >nan</td>\n",
       "      <td id=\"T_bf2a2_row7_col4\" class=\"data row7 col4\" >nan</td>\n",
       "      <td id=\"T_bf2a2_row7_col5\" class=\"data row7 col5\" >nan</td>\n",
       "      <td id=\"T_bf2a2_row7_col6\" class=\"data row7 col6\" >nan</td>\n",
       "      <td id=\"T_bf2a2_row7_col7\" class=\"data row7 col7\" >nan</td>\n",
       "    </tr>\n",
       "  </tbody>\n",
       "</table>\n"
      ],
      "text/plain": [
       "<pandas.io.formats.style.Styler at 0x1eee70f8cd0>"
      ]
     },
     "execution_count": 145,
     "metadata": {},
     "output_type": "execute_result"
    }
   ],
   "source": [
    "# In order to find the correlation of all data, it is necessary to categorize the floor type with int values\n",
    "# first, last, other translate into 0,2,1\n",
    "\n",
    "def floor_num (spb_real_research):\n",
    "    floor = spb_real_research['floors_type']\n",
    "    if floor == 'первый':\n",
    "        return 0\n",
    "    elif floor == 'последний':\n",
    "        return 2\n",
    "    else:\n",
    "        return 1\n",
    "\n",
    "spb_real_research['floor_category'] = spb_real_research.apply(floor_num, axis=1)\n",
    "spb_real_research.corr().style.background_gradient(cmap='Blues')\n"
   ]
  },
  {
   "cell_type": "code",
   "execution_count": 146,
   "id": "5c466644",
   "metadata": {},
   "outputs": [
    {
     "data": {
      "text/html": [
       "<div>\n",
       "<style scoped>\n",
       "    .dataframe tbody tr th:only-of-type {\n",
       "        vertical-align: middle;\n",
       "    }\n",
       "\n",
       "    .dataframe tbody tr th {\n",
       "        vertical-align: top;\n",
       "    }\n",
       "\n",
       "    .dataframe thead th {\n",
       "        text-align: right;\n",
       "    }\n",
       "</style>\n",
       "<table border=\"1\" class=\"dataframe\">\n",
       "  <thead>\n",
       "    <tr style=\"text-align: right;\">\n",
       "      <th></th>\n",
       "      <th>last_price</th>\n",
       "      <th>total_area</th>\n",
       "      <th>rooms</th>\n",
       "      <th>city_centers_nearest</th>\n",
       "      <th>week_expo</th>\n",
       "      <th>month_expo</th>\n",
       "      <th>year_expo</th>\n",
       "      <th>floors_type</th>\n",
       "    </tr>\n",
       "  </thead>\n",
       "  <tbody>\n",
       "    <tr>\n",
       "      <th>0</th>\n",
       "      <td>3350000.0</td>\n",
       "      <td>40.40</td>\n",
       "      <td>1</td>\n",
       "      <td>18603.0</td>\n",
       "      <td>1</td>\n",
       "      <td>12</td>\n",
       "      <td>2018</td>\n",
       "      <td>first</td>\n",
       "    </tr>\n",
       "    <tr>\n",
       "      <th>1</th>\n",
       "      <td>2890000.0</td>\n",
       "      <td>30.40</td>\n",
       "      <td>1</td>\n",
       "      <td>16000.0</td>\n",
       "      <td>0</td>\n",
       "      <td>9</td>\n",
       "      <td>2018</td>\n",
       "      <td>other</td>\n",
       "    </tr>\n",
       "    <tr>\n",
       "      <th>2</th>\n",
       "      <td>3700000.0</td>\n",
       "      <td>37.30</td>\n",
       "      <td>1</td>\n",
       "      <td>19143.0</td>\n",
       "      <td>3</td>\n",
       "      <td>11</td>\n",
       "      <td>2017</td>\n",
       "      <td>other</td>\n",
       "    </tr>\n",
       "    <tr>\n",
       "      <th>3</th>\n",
       "      <td>2900000.0</td>\n",
       "      <td>33.16</td>\n",
       "      <td>1</td>\n",
       "      <td>20000.0</td>\n",
       "      <td>2</td>\n",
       "      <td>5</td>\n",
       "      <td>2018</td>\n",
       "      <td>other</td>\n",
       "    </tr>\n",
       "    <tr>\n",
       "      <th>4</th>\n",
       "      <td>3300000.0</td>\n",
       "      <td>44.00</td>\n",
       "      <td>2</td>\n",
       "      <td>51677.0</td>\n",
       "      <td>0</td>\n",
       "      <td>8</td>\n",
       "      <td>2018</td>\n",
       "      <td>other</td>\n",
       "    </tr>\n",
       "  </tbody>\n",
       "</table>\n",
       "</div>"
      ],
      "text/plain": [
       "   last_price  total_area  rooms  city_centers_nearest  week_expo  month_expo  \\\n",
       "0   3350000.0       40.40      1               18603.0          1          12   \n",
       "1   2890000.0       30.40      1               16000.0          0           9   \n",
       "2   3700000.0       37.30      1               19143.0          3          11   \n",
       "3   2900000.0       33.16      1               20000.0          2           5   \n",
       "4   3300000.0       44.00      2               51677.0          0           8   \n",
       "\n",
       "   year_expo floors_type  \n",
       "0       2018       first  \n",
       "1       2018       other  \n",
       "2       2017       other  \n",
       "3       2018       other  \n",
       "4       2018       other  "
      ]
     },
     "execution_count": 146,
     "metadata": {},
     "output_type": "execute_result"
    }
   ],
   "source": [
    "#Create a table of correlations of data of interest to us for LR:\n",
    "\n",
    "lo_real_research = lo_real[['last_price',\n",
    "                      'total_area',\n",
    "                      'rooms',\n",
    "                      'city_centers_nearest',\n",
    "                      'week_expo',\n",
    "                      'month_expo',\n",
    "                      'year_expo',\n",
    "                      'floors_type']]\n",
    "\n",
    "lo_real_research.head()"
   ]
  },
  {
   "cell_type": "code",
   "execution_count": 147,
   "id": "ea36bafb",
   "metadata": {},
   "outputs": [
    {
     "name": "stderr",
     "output_type": "stream",
     "text": [
      "C:\\Users\\Админ\\AppData\\Local\\Temp\\ipykernel_4732\\458546744.py:13: SettingWithCopyWarning: \n",
      "A value is trying to be set on a copy of a slice from a DataFrame.\n",
      "Try using .loc[row_indexer,col_indexer] = value instead\n",
      "\n",
      "See the caveats in the documentation: https://pandas.pydata.org/pandas-docs/stable/user_guide/indexing.html#returning-a-view-versus-a-copy\n",
      "  lo_real_research['floor_category'] = lo_real_research.apply(floor_num, axis=1)\n"
     ]
    },
    {
     "data": {
      "text/html": [
       "<style type=\"text/css\">\n",
       "#T_51db7_row0_col0, #T_51db7_row1_col1, #T_51db7_row2_col2, #T_51db7_row3_col3, #T_51db7_row4_col4, #T_51db7_row5_col5, #T_51db7_row6_col6, #T_51db7_row7_col7 {\n",
       "  background-color: #08306b;\n",
       "  color: #f1f1f1;\n",
       "}\n",
       "#T_51db7_row0_col1 {\n",
       "  background-color: #3f8fc5;\n",
       "  color: #f1f1f1;\n",
       "}\n",
       "#T_51db7_row0_col2 {\n",
       "  background-color: #99c7e0;\n",
       "  color: #000000;\n",
       "}\n",
       "#T_51db7_row0_col3, #T_51db7_row0_col4, #T_51db7_row2_col7, #T_51db7_row3_col0, #T_51db7_row5_col6, #T_51db7_row6_col1, #T_51db7_row6_col2, #T_51db7_row6_col5 {\n",
       "  background-color: #f7fbff;\n",
       "  color: #000000;\n",
       "}\n",
       "#T_51db7_row0_col5 {\n",
       "  background-color: #cde0f1;\n",
       "  color: #000000;\n",
       "}\n",
       "#T_51db7_row0_col6 {\n",
       "  background-color: #d1e2f3;\n",
       "  color: #000000;\n",
       "}\n",
       "#T_51db7_row0_col7, #T_51db7_row3_col7, #T_51db7_row6_col7 {\n",
       "  background-color: #f3f8fe;\n",
       "  color: #000000;\n",
       "}\n",
       "#T_51db7_row1_col0 {\n",
       "  background-color: #2474b7;\n",
       "  color: #f1f1f1;\n",
       "}\n",
       "#T_51db7_row1_col2, #T_51db7_row2_col1 {\n",
       "  background-color: #135fa7;\n",
       "  color: #f1f1f1;\n",
       "}\n",
       "#T_51db7_row1_col3 {\n",
       "  background-color: #b0d2e7;\n",
       "  color: #000000;\n",
       "}\n",
       "#T_51db7_row1_col4, #T_51db7_row1_col7, #T_51db7_row5_col2 {\n",
       "  background-color: #f5f9fe;\n",
       "  color: #000000;\n",
       "}\n",
       "#T_51db7_row1_col5 {\n",
       "  background-color: #cee0f2;\n",
       "  color: #000000;\n",
       "}\n",
       "#T_51db7_row1_col6, #T_51db7_row3_col2 {\n",
       "  background-color: #d5e5f4;\n",
       "  color: #000000;\n",
       "}\n",
       "#T_51db7_row2_col0 {\n",
       "  background-color: #56a0ce;\n",
       "  color: #f1f1f1;\n",
       "}\n",
       "#T_51db7_row2_col3 {\n",
       "  background-color: #8fc2de;\n",
       "  color: #000000;\n",
       "}\n",
       "#T_51db7_row2_col4 {\n",
       "  background-color: #f2f7fd;\n",
       "  color: #000000;\n",
       "}\n",
       "#T_51db7_row2_col5, #T_51db7_row4_col6 {\n",
       "  background-color: #d0e2f2;\n",
       "  color: #000000;\n",
       "}\n",
       "#T_51db7_row2_col6, #T_51db7_row3_col5 {\n",
       "  background-color: #d3e3f3;\n",
       "  color: #000000;\n",
       "}\n",
       "#T_51db7_row3_col1 {\n",
       "  background-color: #ebf3fb;\n",
       "  color: #000000;\n",
       "}\n",
       "#T_51db7_row3_col4 {\n",
       "  background-color: #ecf4fb;\n",
       "  color: #000000;\n",
       "}\n",
       "#T_51db7_row3_col6 {\n",
       "  background-color: #c7dbef;\n",
       "  color: #000000;\n",
       "}\n",
       "#T_51db7_row4_col0, #T_51db7_row5_col3 {\n",
       "  background-color: #bcd7eb;\n",
       "  color: #000000;\n",
       "}\n",
       "#T_51db7_row4_col1, #T_51db7_row4_col2, #T_51db7_row5_col7, #T_51db7_row7_col4 {\n",
       "  background-color: #f2f8fd;\n",
       "  color: #000000;\n",
       "}\n",
       "#T_51db7_row4_col3 {\n",
       "  background-color: #afd1e7;\n",
       "  color: #000000;\n",
       "}\n",
       "#T_51db7_row4_col5 {\n",
       "  background-color: #cadef0;\n",
       "  color: #000000;\n",
       "}\n",
       "#T_51db7_row4_col7 {\n",
       "  background-color: #f6faff;\n",
       "  color: #000000;\n",
       "}\n",
       "#T_51db7_row5_col0 {\n",
       "  background-color: #b3d3e8;\n",
       "  color: #000000;\n",
       "}\n",
       "#T_51db7_row5_col1, #T_51db7_row7_col1 {\n",
       "  background-color: #eef5fc;\n",
       "  color: #000000;\n",
       "}\n",
       "#T_51db7_row5_col4 {\n",
       "  background-color: #edf4fc;\n",
       "  color: #000000;\n",
       "}\n",
       "#T_51db7_row6_col0 {\n",
       "  background-color: #b8d5ea;\n",
       "  color: #000000;\n",
       "}\n",
       "#T_51db7_row6_col3 {\n",
       "  background-color: #aacfe5;\n",
       "  color: #000000;\n",
       "}\n",
       "#T_51db7_row6_col4, #T_51db7_row7_col2 {\n",
       "  background-color: #f4f9fe;\n",
       "  color: #000000;\n",
       "}\n",
       "#T_51db7_row7_col0, #T_51db7_row7_col3 {\n",
       "  background-color: #b2d2e8;\n",
       "  color: #000000;\n",
       "}\n",
       "#T_51db7_row7_col5 {\n",
       "  background-color: #ccdff1;\n",
       "  color: #000000;\n",
       "}\n",
       "#T_51db7_row7_col6 {\n",
       "  background-color: #cddff1;\n",
       "  color: #000000;\n",
       "}\n",
       "</style>\n",
       "<table id=\"T_51db7\">\n",
       "  <thead>\n",
       "    <tr>\n",
       "      <th class=\"blank level0\" >&nbsp;</th>\n",
       "      <th id=\"T_51db7_level0_col0\" class=\"col_heading level0 col0\" >last_price</th>\n",
       "      <th id=\"T_51db7_level0_col1\" class=\"col_heading level0 col1\" >total_area</th>\n",
       "      <th id=\"T_51db7_level0_col2\" class=\"col_heading level0 col2\" >rooms</th>\n",
       "      <th id=\"T_51db7_level0_col3\" class=\"col_heading level0 col3\" >city_centers_nearest</th>\n",
       "      <th id=\"T_51db7_level0_col4\" class=\"col_heading level0 col4\" >week_expo</th>\n",
       "      <th id=\"T_51db7_level0_col5\" class=\"col_heading level0 col5\" >month_expo</th>\n",
       "      <th id=\"T_51db7_level0_col6\" class=\"col_heading level0 col6\" >year_expo</th>\n",
       "      <th id=\"T_51db7_level0_col7\" class=\"col_heading level0 col7\" >floor_category</th>\n",
       "    </tr>\n",
       "  </thead>\n",
       "  <tbody>\n",
       "    <tr>\n",
       "      <th id=\"T_51db7_level0_row0\" class=\"row_heading level0 row0\" >last_price</th>\n",
       "      <td id=\"T_51db7_row0_col0\" class=\"data row0 col0\" >1.000000</td>\n",
       "      <td id=\"T_51db7_row0_col1\" class=\"data row0 col1\" >0.620009</td>\n",
       "      <td id=\"T_51db7_row0_col2\" class=\"data row0 col2\" >0.374226</td>\n",
       "      <td id=\"T_51db7_row0_col3\" class=\"data row0 col3\" >-0.432522</td>\n",
       "      <td id=\"T_51db7_row0_col4\" class=\"data row0 col4\" >-0.026241</td>\n",
       "      <td id=\"T_51db7_row0_col5\" class=\"data row0 col5\" >0.009732</td>\n",
       "      <td id=\"T_51db7_row0_col6\" class=\"data row0 col6\" >-0.012651</td>\n",
       "      <td id=\"T_51db7_row0_col7\" class=\"data row0 col7\" >0.015908</td>\n",
       "    </tr>\n",
       "    <tr>\n",
       "      <th id=\"T_51db7_level0_row1\" class=\"row_heading level0 row1\" >total_area</th>\n",
       "      <td id=\"T_51db7_row1_col0\" class=\"data row1 col0\" >0.620009</td>\n",
       "      <td id=\"T_51db7_row1_col1\" class=\"data row1 col1\" >1.000000</td>\n",
       "      <td id=\"T_51db7_row1_col2\" class=\"data row1 col2\" >0.812886</td>\n",
       "      <td id=\"T_51db7_row1_col3\" class=\"data row1 col3\" >0.022713</td>\n",
       "      <td id=\"T_51db7_row1_col4\" class=\"data row1 col4\" >-0.013558</td>\n",
       "      <td id=\"T_51db7_row1_col5\" class=\"data row1 col5\" >0.005290</td>\n",
       "      <td id=\"T_51db7_row1_col6\" class=\"data row1 col6\" >-0.039780</td>\n",
       "      <td id=\"T_51db7_row1_col7\" class=\"data row1 col7\" >0.007376</td>\n",
       "    </tr>\n",
       "    <tr>\n",
       "      <th id=\"T_51db7_level0_row2\" class=\"row_heading level0 row2\" >rooms</th>\n",
       "      <td id=\"T_51db7_row2_col0\" class=\"data row2 col0\" >0.374226</td>\n",
       "      <td id=\"T_51db7_row2_col1\" class=\"data row2 col1\" >0.812886</td>\n",
       "      <td id=\"T_51db7_row2_col2\" class=\"data row2 col2\" >1.000000</td>\n",
       "      <td id=\"T_51db7_row2_col3\" class=\"data row2 col3\" >0.155353</td>\n",
       "      <td id=\"T_51db7_row2_col4\" class=\"data row2 col4\" >0.002442</td>\n",
       "      <td id=\"T_51db7_row2_col5\" class=\"data row2 col5\" >-0.008324</td>\n",
       "      <td id=\"T_51db7_row2_col6\" class=\"data row2 col6\" >-0.022932</td>\n",
       "      <td id=\"T_51db7_row2_col7\" class=\"data row2 col7\" >-0.006586</td>\n",
       "    </tr>\n",
       "    <tr>\n",
       "      <th id=\"T_51db7_level0_row3\" class=\"row_heading level0 row3\" >city_centers_nearest</th>\n",
       "      <td id=\"T_51db7_row3_col0\" class=\"data row3 col0\" >-0.432522</td>\n",
       "      <td id=\"T_51db7_row3_col1\" class=\"data row3 col1\" >0.022713</td>\n",
       "      <td id=\"T_51db7_row3_col2\" class=\"data row3 col2\" >0.155353</td>\n",
       "      <td id=\"T_51db7_row3_col3\" class=\"data row3 col3\" >1.000000</td>\n",
       "      <td id=\"T_51db7_row3_col4\" class=\"data row3 col4\" >0.029893</td>\n",
       "      <td id=\"T_51db7_row3_col5\" class=\"data row3 col5\" >-0.025912</td>\n",
       "      <td id=\"T_51db7_row3_col6\" class=\"data row3 col6\" >0.053306</td>\n",
       "      <td id=\"T_51db7_row3_col7\" class=\"data row3 col7\" >0.015271</td>\n",
       "    </tr>\n",
       "    <tr>\n",
       "      <th id=\"T_51db7_level0_row4\" class=\"row_heading level0 row4\" >week_expo</th>\n",
       "      <td id=\"T_51db7_row4_col0\" class=\"data row4 col0\" >-0.026241</td>\n",
       "      <td id=\"T_51db7_row4_col1\" class=\"data row4 col1\" >-0.013558</td>\n",
       "      <td id=\"T_51db7_row4_col2\" class=\"data row4 col2\" >0.002442</td>\n",
       "      <td id=\"T_51db7_row4_col3\" class=\"data row4 col3\" >0.029893</td>\n",
       "      <td id=\"T_51db7_row4_col4\" class=\"data row4 col4\" >1.000000</td>\n",
       "      <td id=\"T_51db7_row4_col5\" class=\"data row4 col5\" >0.028926</td>\n",
       "      <td id=\"T_51db7_row4_col6\" class=\"data row4 col6\" >-0.008587</td>\n",
       "      <td id=\"T_51db7_row4_col7\" class=\"data row4 col7\" >-0.001500</td>\n",
       "    </tr>\n",
       "    <tr>\n",
       "      <th id=\"T_51db7_level0_row5\" class=\"row_heading level0 row5\" >month_expo</th>\n",
       "      <td id=\"T_51db7_row5_col0\" class=\"data row5 col0\" >0.009732</td>\n",
       "      <td id=\"T_51db7_row5_col1\" class=\"data row5 col1\" >0.005290</td>\n",
       "      <td id=\"T_51db7_row5_col2\" class=\"data row5 col2\" >-0.008324</td>\n",
       "      <td id=\"T_51db7_row5_col3\" class=\"data row5 col3\" >-0.025912</td>\n",
       "      <td id=\"T_51db7_row5_col4\" class=\"data row5 col4\" >0.028926</td>\n",
       "      <td id=\"T_51db7_row5_col5\" class=\"data row5 col5\" >1.000000</td>\n",
       "      <td id=\"T_51db7_row5_col6\" class=\"data row5 col6\" >-0.258028</td>\n",
       "      <td id=\"T_51db7_row5_col7\" class=\"data row5 col7\" >0.018196</td>\n",
       "    </tr>\n",
       "    <tr>\n",
       "      <th id=\"T_51db7_level0_row6\" class=\"row_heading level0 row6\" >year_expo</th>\n",
       "      <td id=\"T_51db7_row6_col0\" class=\"data row6 col0\" >-0.012651</td>\n",
       "      <td id=\"T_51db7_row6_col1\" class=\"data row6 col1\" >-0.039780</td>\n",
       "      <td id=\"T_51db7_row6_col2\" class=\"data row6 col2\" >-0.022932</td>\n",
       "      <td id=\"T_51db7_row6_col3\" class=\"data row6 col3\" >0.053306</td>\n",
       "      <td id=\"T_51db7_row6_col4\" class=\"data row6 col4\" >-0.008587</td>\n",
       "      <td id=\"T_51db7_row6_col5\" class=\"data row6 col5\" >-0.258028</td>\n",
       "      <td id=\"T_51db7_row6_col6\" class=\"data row6 col6\" >1.000000</td>\n",
       "      <td id=\"T_51db7_row6_col7\" class=\"data row6 col7\" >0.016812</td>\n",
       "    </tr>\n",
       "    <tr>\n",
       "      <th id=\"T_51db7_level0_row7\" class=\"row_heading level0 row7\" >floor_category</th>\n",
       "      <td id=\"T_51db7_row7_col0\" class=\"data row7 col0\" >0.015908</td>\n",
       "      <td id=\"T_51db7_row7_col1\" class=\"data row7 col1\" >0.007376</td>\n",
       "      <td id=\"T_51db7_row7_col2\" class=\"data row7 col2\" >-0.006586</td>\n",
       "      <td id=\"T_51db7_row7_col3\" class=\"data row7 col3\" >0.015271</td>\n",
       "      <td id=\"T_51db7_row7_col4\" class=\"data row7 col4\" >-0.001500</td>\n",
       "      <td id=\"T_51db7_row7_col5\" class=\"data row7 col5\" >0.018196</td>\n",
       "      <td id=\"T_51db7_row7_col6\" class=\"data row7 col6\" >0.016812</td>\n",
       "      <td id=\"T_51db7_row7_col7\" class=\"data row7 col7\" >1.000000</td>\n",
       "    </tr>\n",
       "  </tbody>\n",
       "</table>\n"
      ],
      "text/plain": [
       "<pandas.io.formats.style.Styler at 0x1eee8868b20>"
      ]
     },
     "execution_count": 147,
     "metadata": {},
     "output_type": "execute_result"
    }
   ],
   "source": [
    "# In order to find the correlation of all data, it is necessary to categorize the floor type with int values\n",
    "# first, last, other translate into 0,2,1\n",
    "\n",
    "def floor_num (lo_real_research):\n",
    "    floor = lo_real_research['floors_type']\n",
    "    if floor == 'first':\n",
    "        return 0\n",
    "    elif floor == 'last':\n",
    "        return 2\n",
    "    else:\n",
    "        return 1\n",
    "\n",
    "lo_real_research['floor_category'] = lo_real_research.apply(floor_num, axis=1)\n",
    "lo_real_research.corr().style.background_gradient(cmap='Blues')\n",
    "\n",
    "lo_real_research.corr().style.background_gradient(cmap='Blues')"
   ]
  },
  {
   "cell_type": "markdown",
   "id": "333acf6b",
   "metadata": {},
   "source": [
    "According to the correlation table for St. Petersburg, we can see that the price of real estate in St. Petersburg depends on:\n",
    "- total area - 0.822\n",
    "- number of rooms - 0.529\n",
    "- floors of the apartment (to a lesser extent) - 0.070\n",
    "\n",
    "According to the correlation table for LO, we can see that the price of real estate in LO depends on:\n",
    "- total area - 0.620\n",
    "- number of rooms - 0.374\n",
    "- floors of the apartment (to a lesser extent) - 0.06\n"
   ]
  },
  {
   "cell_type": "code",
   "execution_count": 148,
   "id": "61d5a77d",
   "metadata": {},
   "outputs": [
    {
     "data": {
      "image/png": "[encoded data removed]",
      "text/plain": [
       "<Figure size 432x288 with 1 Axes>"
      ]
     },
     "metadata": {
      "needs_background": "light"
     },
     "output_type": "display_data"
    }
   ],
   "source": [
    "# Let's see in more detail the dependence of the price on the floor in St. Petersburg:\n",
    "spb_real_research.plot.scatter(x = 'floor_category', y = 'last_price', alpha=0.01)\n",
    "plt.show()"
   ]
  },
  {
   "cell_type": "code",
   "execution_count": 149,
   "id": "777efb67",
   "metadata": {},
   "outputs": [
    {
     "data": {
      "image/png": "[encoded data removed]",
      "text/plain": [
       "<Figure size 432x288 with 1 Axes>"
      ]
     },
     "metadata": {
      "needs_background": "light"
     },
     "output_type": "display_data"
    }
   ],
   "source": [
    "# Let's see in more detail the dependence of the price on the floor in LO:\n",
    "lo_real_research.plot.scatter(x = 'floor_category', y = 'last_price', alpha=0.01)\n",
    "plt.show()"
   ]
  },
  {
   "cell_type": "markdown",
   "id": "bbd5c2ff",
   "metadata": {},
   "source": [
    "*Apartments located on the first floor are cheaper than apartments on another floor or on the top floor. Apartments that are located neither on the first nor on the last floor are more expensive*"
   ]
  },
  {
   "cell_type": "markdown",
   "id": "1750c149",
   "metadata": {},
   "source": [
    "**4 - Select the 10 locations with the most listings. Calculate the average price per square meter in these settlements. Select the settlements with the highest and lowest cost of housing. This data can be found by name in the locality_name column.**\n"
   ]
  },
  {
   "cell_type": "markdown",
   "id": "ed5a8f2f",
   "metadata": {},
   "source": [
    "We will make a selection of our points according to the data set of the Leningrad region, since it is obvious that the vast majority of the total data set is occupied by announcements in St. Petersburg"
   ]
  },
  {
   "cell_type": "code",
   "execution_count": 150,
   "id": "91b7da44",
   "metadata": {},
   "outputs": [
    {
     "data": {
      "text/plain": [
       "мурино        564\n",
       "кудрово       452\n",
       "шушары        430\n",
       "всеволожск    387\n",
       "колпино       333\n",
       "парголово     325\n",
       "пушкин        319\n",
       "гатчина       302\n",
       "выборг        231\n",
       "петергоф      190\n",
       "Name: locality_name, dtype: int64"
      ]
     },
     "execution_count": 150,
     "metadata": {},
     "output_type": "execute_result"
    }
   ],
   "source": [
    "# select the first 10 us.points by the number of ads:\n",
    "lo_real['locality_name'].value_counts().head(10)"
   ]
  },
  {
   "cell_type": "code",
   "execution_count": 151,
   "id": "73da1d9b",
   "metadata": {},
   "outputs": [
    {
     "data": {
      "text/plain": [
       "locality_name\n",
       "пушкин        99271.8\n",
       "кудрово       94489.2\n",
       "парголово     90249.7\n",
       "мурино        85772.9\n",
       "петергоф      82676.4\n",
       "шушары        78212.3\n",
       "колпино       75177.6\n",
       "гатчина       68190.4\n",
       "всеволожск    66709.4\n",
       "выборг        57777.5\n",
       "Name: metr_price, dtype: float64"
      ]
     },
     "execution_count": 151,
     "metadata": {},
     "output_type": "execute_result"
    }
   ],
   "source": [
    "# Let's create a slice of data for the selected ten US points and calculate the average cost for real estate for them:\n",
    "lo_great_local = lo_real.query('locality_name in [\"мурино\", \"шушары\", \"всеволожск\", \"кудрово\", \"колпино\", \"гатчина\", \"парголово\", \"пушкин\", \"петергоф\", \"выборг\"]')\n",
    "lo_great_local.groupby('locality_name')['metr_price'].mean().round(1).sort_values(ascending=False)"
   ]
  },
  {
   "cell_type": "code",
   "execution_count": 152,
   "id": "6825855f",
   "metadata": {},
   "outputs": [
    {
     "data": {
      "text/plain": [
       "109889.98167410214"
      ]
     },
     "execution_count": 152,
     "metadata": {},
     "output_type": "execute_result"
    }
   ],
   "source": [
    "spb_real['metr_price'].mean()"
   ]
  },
  {
   "cell_type": "markdown",
   "id": "d8df7e3b",
   "metadata": {},
   "source": [
    "*Of the received dozens of settlements with the largest number of ads, the highest average cost per sq.m. observed in St. Petersburg - 109 889.9 rubles. , and in the Leningrad region in Pushkin - 99 271.8 rubles. and the lowest cost per square meter in Vyborg is 57,777.5 rubles*"
   ]
  },
  {
   "cell_type": "markdown",
   "id": "c0d38542",
   "metadata": {},
   "source": [
    "**5 - For SPB data, find out which area is included in the center. Create a column with the distance to the center in kilometers: round to whole values. After that, calculate the average price for each kilometer. Construct a graph of the dependence of price on distance from the center. Determine the boundary where the graph changes a lot - this will be the central zone.**"
   ]
  },
  {
   "cell_type": "code",
   "execution_count": 153,
   "id": "19204e74",
   "metadata": {},
   "outputs": [
    {
     "data": {
      "text/html": [
       "<div>\n",
       "<style scoped>\n",
       "    .dataframe tbody tr th:only-of-type {\n",
       "        vertical-align: middle;\n",
       "    }\n",
       "\n",
       "    .dataframe tbody tr th {\n",
       "        vertical-align: top;\n",
       "    }\n",
       "\n",
       "    .dataframe thead th {\n",
       "        text-align: right;\n",
       "    }\n",
       "</style>\n",
       "<table border=\"1\" class=\"dataframe\">\n",
       "  <thead>\n",
       "    <tr style=\"text-align: right;\">\n",
       "      <th></th>\n",
       "      <th>locality_name</th>\n",
       "      <th>city_centers_nearest</th>\n",
       "      <th>last_price</th>\n",
       "      <th>center_distance</th>\n",
       "    </tr>\n",
       "  </thead>\n",
       "  <tbody>\n",
       "    <tr>\n",
       "      <th>12657</th>\n",
       "      <td>санкт-петербург</td>\n",
       "      <td>28806.0</td>\n",
       "      <td>4370000.0</td>\n",
       "      <td>29.0</td>\n",
       "    </tr>\n",
       "    <tr>\n",
       "      <th>8260</th>\n",
       "      <td>санкт-петербург</td>\n",
       "      <td>29343.0</td>\n",
       "      <td>4200000.0</td>\n",
       "      <td>29.0</td>\n",
       "    </tr>\n",
       "    <tr>\n",
       "      <th>7383</th>\n",
       "      <td>санкт-петербург</td>\n",
       "      <td>28644.0</td>\n",
       "      <td>4700000.0</td>\n",
       "      <td>29.0</td>\n",
       "    </tr>\n",
       "    <tr>\n",
       "      <th>10656</th>\n",
       "      <td>санкт-петербург</td>\n",
       "      <td>29263.0</td>\n",
       "      <td>4850000.0</td>\n",
       "      <td>29.0</td>\n",
       "    </tr>\n",
       "    <tr>\n",
       "      <th>6855</th>\n",
       "      <td>санкт-петербург</td>\n",
       "      <td>28644.0</td>\n",
       "      <td>4850000.0</td>\n",
       "      <td>29.0</td>\n",
       "    </tr>\n",
       "    <tr>\n",
       "      <th>...</th>\n",
       "      <td>...</td>\n",
       "      <td>...</td>\n",
       "      <td>...</td>\n",
       "      <td>...</td>\n",
       "    </tr>\n",
       "    <tr>\n",
       "      <th>2380</th>\n",
       "      <td>санкт-петербург</td>\n",
       "      <td>472.0</td>\n",
       "      <td>6900000.0</td>\n",
       "      <td>0.0</td>\n",
       "    </tr>\n",
       "    <tr>\n",
       "      <th>5191</th>\n",
       "      <td>санкт-петербург</td>\n",
       "      <td>387.0</td>\n",
       "      <td>13500000.0</td>\n",
       "      <td>0.0</td>\n",
       "    </tr>\n",
       "    <tr>\n",
       "      <th>10848</th>\n",
       "      <td>санкт-петербург</td>\n",
       "      <td>392.0</td>\n",
       "      <td>11500000.0</td>\n",
       "      <td>0.0</td>\n",
       "    </tr>\n",
       "    <tr>\n",
       "      <th>6004</th>\n",
       "      <td>санкт-петербург</td>\n",
       "      <td>410.0</td>\n",
       "      <td>8000000.0</td>\n",
       "      <td>0.0</td>\n",
       "    </tr>\n",
       "    <tr>\n",
       "      <th>728</th>\n",
       "      <td>санкт-петербург</td>\n",
       "      <td>208.0</td>\n",
       "      <td>5800000.0</td>\n",
       "      <td>0.0</td>\n",
       "    </tr>\n",
       "  </tbody>\n",
       "</table>\n",
       "<p>14969 rows × 4 columns</p>\n",
       "</div>"
      ],
      "text/plain": [
       "         locality_name  city_centers_nearest  last_price  center_distance\n",
       "12657  санкт-петербург               28806.0   4370000.0             29.0\n",
       "8260   санкт-петербург               29343.0   4200000.0             29.0\n",
       "7383   санкт-петербург               28644.0   4700000.0             29.0\n",
       "10656  санкт-петербург               29263.0   4850000.0             29.0\n",
       "6855   санкт-петербург               28644.0   4850000.0             29.0\n",
       "...                ...                   ...         ...              ...\n",
       "2380   санкт-петербург                 472.0   6900000.0              0.0\n",
       "5191   санкт-петербург                 387.0  13500000.0              0.0\n",
       "10848  санкт-петербург                 392.0  11500000.0              0.0\n",
       "6004   санкт-петербург                 410.0   8000000.0              0.0\n",
       "728    санкт-петербург                 208.0   5800000.0              0.0\n",
       "\n",
       "[14969 rows x 4 columns]"
      ]
     },
     "execution_count": 153,
     "metadata": {},
     "output_type": "execute_result"
    }
   ],
   "source": [
    "# Create a column with the distance to the center and find out how many km. from city center to city limits:\n",
    "spb_real_distance_price = spb_real.loc[spb_real['locality_name'] == 'санкт-петербург',['locality_name', 'city_centers_nearest', 'last_price']].dropna()\n",
    "spb_real_distance_price['center_distance'] = (spb_real_distance_price['city_centers_nearest']/1000).round(0)\n",
    "\n",
    "spb_real_distance_price.sort_values(by='center_distance', ascending=False)"
   ]
  },
  {
   "cell_type": "markdown",
   "id": "a4086f09",
   "metadata": {},
   "source": [
    "*maximum distance from the city center to its outskirts is 29 km.*"
   ]
  },
  {
   "cell_type": "code",
   "execution_count": 154,
   "id": "90523e16",
   "metadata": {},
   "outputs": [
    {
     "data": {
      "text/html": [
       "<div>\n",
       "<style scoped>\n",
       "    .dataframe tbody tr th:only-of-type {\n",
       "        vertical-align: middle;\n",
       "    }\n",
       "\n",
       "    .dataframe tbody tr th {\n",
       "        vertical-align: top;\n",
       "    }\n",
       "\n",
       "    .dataframe thead th {\n",
       "        text-align: right;\n",
       "    }\n",
       "</style>\n",
       "<table border=\"1\" class=\"dataframe\">\n",
       "  <thead>\n",
       "    <tr style=\"text-align: right;\">\n",
       "      <th></th>\n",
       "      <th>locality_name</th>\n",
       "      <th>city_centers_nearest</th>\n",
       "      <th>last_price_x</th>\n",
       "      <th>center_distance</th>\n",
       "      <th>last_price_y</th>\n",
       "    </tr>\n",
       "  </thead>\n",
       "  <tbody>\n",
       "    <tr>\n",
       "      <th>0</th>\n",
       "      <td>санкт-петербург</td>\n",
       "      <td>16028.0</td>\n",
       "      <td>13000000.0</td>\n",
       "      <td>16.0</td>\n",
       "      <td>5344749.0</td>\n",
       "    </tr>\n",
       "    <tr>\n",
       "      <th>1</th>\n",
       "      <td>санкт-петербург</td>\n",
       "      <td>13933.0</td>\n",
       "      <td>5196000.0</td>\n",
       "      <td>14.0</td>\n",
       "      <td>5595154.0</td>\n",
       "    </tr>\n",
       "    <tr>\n",
       "      <th>2</th>\n",
       "      <td>санкт-петербург</td>\n",
       "      <td>8098.0</td>\n",
       "      <td>10000000.0</td>\n",
       "      <td>8.0</td>\n",
       "      <td>8491783.0</td>\n",
       "    </tr>\n",
       "    <tr>\n",
       "      <th>3</th>\n",
       "      <td>санкт-петербург</td>\n",
       "      <td>11634.0</td>\n",
       "      <td>7915000.0</td>\n",
       "      <td>12.0</td>\n",
       "      <td>5793367.0</td>\n",
       "    </tr>\n",
       "    <tr>\n",
       "      <th>4</th>\n",
       "      <td>санкт-петербург</td>\n",
       "      <td>15008.0</td>\n",
       "      <td>5400000.0</td>\n",
       "      <td>15.0</td>\n",
       "      <td>5773419.0</td>\n",
       "    </tr>\n",
       "    <tr>\n",
       "      <th>...</th>\n",
       "      <td>...</td>\n",
       "      <td>...</td>\n",
       "      <td>...</td>\n",
       "      <td>...</td>\n",
       "      <td>...</td>\n",
       "    </tr>\n",
       "    <tr>\n",
       "      <th>14964</th>\n",
       "      <td>санкт-петербург</td>\n",
       "      <td>16081.0</td>\n",
       "      <td>3550000.0</td>\n",
       "      <td>16.0</td>\n",
       "      <td>5344749.0</td>\n",
       "    </tr>\n",
       "    <tr>\n",
       "      <th>14965</th>\n",
       "      <td>санкт-петербург</td>\n",
       "      <td>6263.0</td>\n",
       "      <td>5500000.0</td>\n",
       "      <td>6.0</td>\n",
       "      <td>9001621.0</td>\n",
       "    </tr>\n",
       "    <tr>\n",
       "      <th>14966</th>\n",
       "      <td>санкт-петербург</td>\n",
       "      <td>4489.0</td>\n",
       "      <td>9470000.0</td>\n",
       "      <td>4.0</td>\n",
       "      <td>9860510.0</td>\n",
       "    </tr>\n",
       "    <tr>\n",
       "      <th>14967</th>\n",
       "      <td>санкт-петербург</td>\n",
       "      <td>4232.0</td>\n",
       "      <td>9700000.0</td>\n",
       "      <td>4.0</td>\n",
       "      <td>9860510.0</td>\n",
       "    </tr>\n",
       "    <tr>\n",
       "      <th>14968</th>\n",
       "      <td>санкт-петербург</td>\n",
       "      <td>10364.0</td>\n",
       "      <td>11475000.0</td>\n",
       "      <td>10.0</td>\n",
       "      <td>6285942.0</td>\n",
       "    </tr>\n",
       "  </tbody>\n",
       "</table>\n",
       "<p>14969 rows × 5 columns</p>\n",
       "</div>"
      ],
      "text/plain": [
       "         locality_name  city_centers_nearest  last_price_x  center_distance  \\\n",
       "0      санкт-петербург               16028.0    13000000.0             16.0   \n",
       "1      санкт-петербург               13933.0     5196000.0             14.0   \n",
       "2      санкт-петербург                8098.0    10000000.0              8.0   \n",
       "3      санкт-петербург               11634.0     7915000.0             12.0   \n",
       "4      санкт-петербург               15008.0     5400000.0             15.0   \n",
       "...                ...                   ...           ...              ...   \n",
       "14964  санкт-петербург               16081.0     3550000.0             16.0   \n",
       "14965  санкт-петербург                6263.0     5500000.0              6.0   \n",
       "14966  санкт-петербург                4489.0     9470000.0              4.0   \n",
       "14967  санкт-петербург                4232.0     9700000.0              4.0   \n",
       "14968  санкт-петербург               10364.0    11475000.0             10.0   \n",
       "\n",
       "       last_price_y  \n",
       "0         5344749.0  \n",
       "1         5595154.0  \n",
       "2         8491783.0  \n",
       "3         5793367.0  \n",
       "4         5773419.0  \n",
       "...             ...  \n",
       "14964     5344749.0  \n",
       "14965     9001621.0  \n",
       "14966     9860510.0  \n",
       "14967     9860510.0  \n",
       "14968     6285942.0  \n",
       "\n",
       "[14969 rows x 5 columns]"
      ]
     },
     "execution_count": 154,
     "metadata": {},
     "output_type": "execute_result"
    }
   ],
   "source": [
    "# Calculate the average property price for each kilometer:\n",
    "spb_mean_km_price = spb_real_distance_price.groupby('center_distance')['last_price'].mean().round(0)\n",
    "spb_real_distance_price = spb_real_distance_price.merge(spb_mean_km_price, on='center_distance',how='left')\n",
    "\n",
    "spb_real_distance_price"
   ]
  },
  {
   "cell_type": "code",
   "execution_count": 155,
   "id": "1804a575",
   "metadata": {},
   "outputs": [
    {
     "data": {
      "text/plain": [
       "12515     3912607.0\n",
       "13757     3912607.0\n",
       "12372     3912607.0\n",
       "7379      3912607.0\n",
       "6251      3912607.0\n",
       "            ...    \n",
       "4731     11096709.0\n",
       "13092    11096709.0\n",
       "2133     11096709.0\n",
       "11978    11096709.0\n",
       "438      14350000.0\n",
       "Name: last_price_y, Length: 14969, dtype: float64"
      ]
     },
     "execution_count": 155,
     "metadata": {},
     "output_type": "execute_result"
    }
   ],
   "source": [
    "spb_real_distance_price['last_price_y'].sort_values()"
   ]
  },
  {
   "cell_type": "code",
   "execution_count": null,
   "id": "3cb9c341",
   "metadata": {},
   "outputs": [],
   "source": [
    "# Let's plot the dependence of the price on the distance from the center.\n",
    "x = spb_real_distance_price['center_distance']\n",
    "y = spb_real_distance_price['last_price_y']\n",
    "\n",
    "plt.bar(x, y)\n",
    "plt.show()"
   ]
  },
  {
   "cell_type": "markdown",
   "id": "17ef7851",
   "metadata": {},
   "source": [
    "*Changes in the graph are visible at a level of approximately 2.5km - we will consider this distance within the center*"
   ]
  },
  {
   "cell_type": "markdown",
   "id": "9abd516c",
   "metadata": {},
   "source": [
    "**6- Select a segment of apartments in the center. Analyze this territory and study the following parameters: area, price, number of rooms, ceiling height. Also highlight the factors that affect the cost of the apartment (number of rooms, floor, distance from the center, date of placement of the ad). Draw your own conclusions. Do they differ from the general findings across the database?**"
   ]
  },
  {
   "cell_type": "code",
   "execution_count": null,
   "id": "2cfdc9b2",
   "metadata": {},
   "outputs": [],
   "source": [
    "#A segment of apartments in the center will be considered apartments located at a distance of up to 2.5 km from the center\n",
    "\n",
    "spb_real['center_distance'] = spb_real_distance_price['center_distance']\n",
    "spb_center_real = spb_real.loc[spb_real['center_distance'] <= 2.5 , ['last_price','total_area','rooms','ceiling_height','floors_type','center_distance','week_expo','month_expo','year_expo']]\n",
    "\n",
    "spb_center_real.corr().style.background_gradient(cmap='Blues')"
   ]
  },
  {
   "cell_type": "code",
   "execution_count": null,
   "id": "d2b8d818",
   "metadata": {},
   "outputs": [],
   "source": [
    "#Comparable to apartments that are at least 10 km away from the center\n",
    "spb_around_real = spb_real.loc[spb_real['center_distance'] <= 10 , ['last_price','total_area','rooms','ceiling_height','floors_type','center_distance','week_expo','month_expo','year_expo']]\n",
    "spb_around_real.corr().style.background_gradient(cmap='Blues')"
   ]
  },
  {
   "cell_type": "markdown",
   "id": "9d98ba79",
   "metadata": {},
   "source": [
    "Conclusions on real estate in the center and beyond, depending on:\n",
    "  - apartment area - the price of real estate in the center and outside it almost equally depends on the area (0.845 : 0.815)\n",
    "  - number of rooms - the price of real estate in the center is more dependent on the number of rooms than the price of real estate outside it (0.562 : 0.521)\n",
    "  - ceiling heights - the price of real estate in the center is more dependent on the height of the ceilings than the price of real estate outside (0.399 : 0.427)\n",
    "  - the date of placement of the ad does not equally affect the slice in the center and in the rest of the city"
   ]
  },
  {
   "cell_type": "markdown",
   "id": "e1a0f800",
   "metadata": {},
   "source": [
    "## Conclusions on the project"
   ]
  },
  {
   "cell_type": "markdown",
   "id": "d161aecc",
   "metadata": {},
   "source": [
    "**Data preprocessing**\n",
    "\n",
    "**Data has been categorized:**\n",
    "- St. Petersburg\n",
    "- Leningrad region\n",
    "\n",
    "**Detection of implicit duplicates:** - Implicit duplicates were found in the locality_name column data: city of Murino, settlement of Murino,  Murino. The same non-identical duplicates were found at Kudrovo. To eliminate these duplicates, the data was reduced to lower case, followed by the removal of the settlement type.\n",
    "\n",
    "**Missing values in data:** - Missing values in data were detected and fixed in the project:\n",
    "\n",
    "General Missing values\n",
    "\n",
    "- balcony 11519 - missing values ​​replaced with 0\n",
    "- is_apartment 20924 - missing values ​​replaced with 0\n",
    "- locality_name 49 - data removed without prejudice to data set research\n",
    "- floors_total 86 - data removed without prejudice to research data set\n",
    "\n",
    "St. Petersburg\n",
    "\n",
    "- ceiling_height 5555 - missing values ​​replaced with median value\n",
    "- living_area 1117 - missing values ​​are replaced by the median value relative to the total area of ​​the apartment\n",
    "- kitchen_area 1343 - missing values ​​are replaced by the median value relative to the total area of ​​the apartment\n",
    "\n",
    "\n",
    "\n",
    "Leningrad region\n",
    "\n",
    "- ceiling_height 3529 - missing values ​​replaced with median value\n",
    "- living_area 748 - missing values ​​are replaced by the median value relative to the total area of ​​the apartment\n",
    "- kitchen_area 879 - missing values ​​are replaced by the median value relative to the total area of ​​the apartment\n",
    "\n",
    "\n",
    "- airports_nearest = 5542 ; city_centers_nearest = 5519; parks_around_3000 = 5518; ponds_around_3000 = 5518; ponds_nearest=14589; parks_nearest=15620 - the data of these columns was partially removed due to the unknownness of our point. The remaining unknown values ​​were left unchanged, since within the framework of the current project there was no task to evaluate the dependence of the price on these parameters.\n",
    "\n",
    "\n",
    "- days_exposition 3181 - left unchanged. Missing values in the data indicate that the apartment is still for sale\n",
    "\n",
    "\n",
    "**Working with outliers** - outliers were excluded in the data of the total area of ​​​​the premises, real estate prices, kitchen area and living area for each data set separately:\n",
    "- Percentage of data retained after clearing outliers in St. Petersburg data: 95.9%\n",
    "- Percentage of data retained after clearing outliers in data for the Leningrad region: 96.6%"
   ]
  },
  {
   "cell_type": "markdown",
   "id": "9b836463",
   "metadata": {},
   "source": [
    "**Exploratory data analysis**"
   ]
  },
  {
   "cell_type": "markdown",
   "id": "eb8ac488",
   "metadata": {},
   "source": [
    "Analysis of the created new date set columns:\n",
    "\n",
    "For St. Petersburg:\n",
    "- The cost of 1 sq.m varies from 16842.1 to 600000.0 rubles.\n",
    "- The ratio of living space to total varies from 3.8% to 97.3%\n",
    "- The ratio of the kitchen area to the total area varies from 4.4% to 74.0%\n",
    "\n",
    "For the Leningrad region:\n",
    "- The cost of 1 sq.m varies from 10507 to 168706.7 rubles.\n",
    "- The ratio of living space to total varies from 16% to 97.6%\n",
    "- The ratio of the kitchen area to the total area varies from 6.2% to 72.6%\n",
    "\n",
    "Analysis of histograms of SPB and LO:\n",
    "- Analysis of the histogram of the total real estate area showed the largest number of apartments in St. Petersburg with an area of ​​45 sq.m and 35 sq.m. and 45 sq.m in the Leningrad region\n",
    "- An analysis of the price histogram for 1 sq.m showed the largest number of apartments in St. Petersburg worth 100,000 rubles. for 1 sq.m and 75,000 rubles. per 1 sq.m in the Leningrad region\n",
    "- Analysis of the histogram of the number of rooms, the largest number of 1-room apartments in both St. Petersburg and the Leningrad region\n",
    "- Analysis of the ceiling height histogram showed the largest number of apartments with a ceiling height of about 2.7m for St. Petersburg and 2.6m for the Leningrad region"
   ]
  },
  {
   "cell_type": "markdown",
   "id": "95e4199d",
   "metadata": {},
   "source": [
    "Analysis of the apartment sale time:\n",
    "    \n",
    "Features that were found - real estate sales growth is observed in 30, 45, 60 and 90 days of ad placement\n",
    "\n",
    "- As an average term for the sale of an apartment, we take the median value of 95 days\n",
    "- Values above the 3rd quartile (231 days) can be considered long term to sell\n",
    "- Fast sale time can be considered values below 1 quartile (45 days)\n",
    "- The minimum period for the sale of real estate on the site is 1 day."
   ]
  },
  {
   "cell_type": "markdown",
   "id": "a6307b4c",
   "metadata": {},
   "source": [
    "Analysis of the dependence of the price of an apartment on the total area, number of rooms, proximity to the center, floor of the apartment, day of the week / month and year of publication of the ad\n",
    "\n",
    "According to the correlation table for St. Petersburg, we can see that the price of real estate in St. Petersburg depends on:\n",
    "- total area - 0.822\n",
    "- number of rooms - 0.529\n",
    "- floors of the apartment (to a lesser extent) - 0.070\n",
    "\n",
    "According to the correlation table for LO, we can see that the price of real estate in LO depends on:\n",
    "- total area - 0.620\n",
    "- number of rooms - 0.374\n",
    "- floors of the apartment (to a lesser extent) - 0.06\n",
    "\n",
    "Apartments located on the first floor are cheaper than apartments on another floor or on the top floor. Apartments that are located neither on the first nor on the last floor are more expensive"
   ]
  },
  {
   "cell_type": "markdown",
   "id": "326a26f5",
   "metadata": {},
   "source": [
    "10 locations with the most ads\n",
    "- murino 430\n",
    "- shushary 373\n",
    "- Vsevolozhsk 329\n",
    "- kudrovo 314\n",
    "- kolpino 285\n",
    "- Gatchina 270\n",
    "- pargolovo 251\n",
    "- Pushkin 223\n",
    "- peterhof 169\n",
    "- Vyborg 165\n",
    "\n",
    "average price per 1 sq.m in these settlements\n",
    "- Pushkin 99271.8\n",
    "- kudrovo 94489.2\n",
    "- pargolovo 90249.7\n",
    "- murino 85772.9\n",
    "- peterhof 82676.4\n",
    "- shushary 78212.3\n",
    "- kolpino 75177.6\n",
    "- Gatchina 68190.4\n",
    "- Vsevolozhsk 66709.4\n",
    "- Vyborg 57777.5\n",
    "\n",
    "Out of the dozens of settlements with the largest number of advertisements, the highest average cost per sq.m. observed in Pushkin - 99271.8 p. and the lowest cost per square meter in Vyborg is 57777.5 rubles."
   ]
  },
  {
   "cell_type": "markdown",
   "id": "c474bd00",
   "metadata": {},
   "source": [
    "Analysis of real estate in St. Petersburg:\n",
    "\n",
    "- The maximum distance from the city center to its outskirts is 29 km.\n",
    "- The average property price for each kilometer within the city ranges from 3,912,607.0 to 14,350,000.0\n",
    "- The graph of price dependence on distance from the center is descending, but at a distance of 25-29 km there is a sharp jump in price. Perhaps at this distance finds an elite LCD"
   ]
  },
  {
   "cell_type": "markdown",
   "id": "2ec01a28",
   "metadata": {},
   "source": [
    "Conclusions on real estate in the center and beyond, depending on:\n",
    "  - apartment area - the price of real estate in the center and outside it almost equally depends on the area (0.829 : 0.816)\n",
    "  - number of rooms - the price of real estate in the center is more dependent on the number of rooms than the price of real estate outside (0.484 : 0.522)\n",
    "  - ceiling heights - the price of real estate in the center is more dependent on the height of the ceilings than the price of real estate outside (0.410 : 0.413)\n",
    "  - year of sale - the price of real estate in the center and outside it almost equally does not depend on the year (-0.018 : -0.013)"
   ]
  }
 ],
 "metadata": {
  "ExecuteTimeLog": [
   {
    "duration": 1214,
    "start_time": "2022-07-22T18:47:27.305Z"
   },
   {
    "duration": 0,
    "start_time": "2022-07-22T18:47:28.529Z"
   },
   {
    "duration": 0,
    "start_time": "2022-07-22T18:47:28.535Z"
   },
   {
    "duration": 0,
    "start_time": "2022-07-22T18:47:28.537Z"
   },
   {
    "duration": 0,
    "start_time": "2022-07-22T18:47:28.539Z"
   },
   {
    "duration": 0,
    "start_time": "2022-07-22T18:47:28.542Z"
   },
   {
    "duration": 0,
    "start_time": "2022-07-22T18:47:28.544Z"
   },
   {
    "duration": 0,
    "start_time": "2022-07-22T18:47:28.545Z"
   },
   {
    "duration": 0,
    "start_time": "2022-07-22T18:47:28.547Z"
   },
   {
    "duration": 0,
    "start_time": "2022-07-22T18:47:28.548Z"
   },
   {
    "duration": 0,
    "start_time": "2022-07-22T18:47:28.550Z"
   },
   {
    "duration": 0,
    "start_time": "2022-07-22T18:47:28.552Z"
   },
   {
    "duration": 0,
    "start_time": "2022-07-22T18:47:28.554Z"
   },
   {
    "duration": 0,
    "start_time": "2022-07-22T18:47:28.555Z"
   },
   {
    "duration": 1,
    "start_time": "2022-07-22T18:47:28.557Z"
   },
   {
    "duration": 0,
    "start_time": "2022-07-22T18:47:28.559Z"
   },
   {
    "duration": 0,
    "start_time": "2022-07-22T18:47:28.561Z"
   },
   {
    "duration": 0,
    "start_time": "2022-07-22T18:47:28.563Z"
   },
   {
    "duration": 0,
    "start_time": "2022-07-22T18:47:28.565Z"
   },
   {
    "duration": 0,
    "start_time": "2022-07-22T18:47:28.566Z"
   },
   {
    "duration": 0,
    "start_time": "2022-07-22T18:47:28.568Z"
   },
   {
    "duration": 0,
    "start_time": "2022-07-22T18:47:28.611Z"
   },
   {
    "duration": 0,
    "start_time": "2022-07-22T18:47:28.612Z"
   },
   {
    "duration": 0,
    "start_time": "2022-07-22T18:47:28.617Z"
   },
   {
    "duration": 0,
    "start_time": "2022-07-22T18:47:28.618Z"
   },
   {
    "duration": 0,
    "start_time": "2022-07-22T18:47:28.619Z"
   },
   {
    "duration": 0,
    "start_time": "2022-07-22T18:47:28.620Z"
   },
   {
    "duration": 0,
    "start_time": "2022-07-22T18:47:28.621Z"
   },
   {
    "duration": 0,
    "start_time": "2022-07-22T18:47:28.622Z"
   },
   {
    "duration": 0,
    "start_time": "2022-07-22T18:47:28.623Z"
   },
   {
    "duration": 0,
    "start_time": "2022-07-22T18:47:28.625Z"
   },
   {
    "duration": 0,
    "start_time": "2022-07-22T18:47:28.627Z"
   },
   {
    "duration": 0,
    "start_time": "2022-07-22T18:47:28.630Z"
   },
   {
    "duration": 0,
    "start_time": "2022-07-22T18:47:28.633Z"
   },
   {
    "duration": 0,
    "start_time": "2022-07-22T18:47:28.635Z"
   },
   {
    "duration": 0,
    "start_time": "2022-07-22T18:47:28.637Z"
   },
   {
    "duration": 0,
    "start_time": "2022-07-22T18:47:28.640Z"
   },
   {
    "duration": 0,
    "start_time": "2022-07-22T18:47:28.641Z"
   },
   {
    "duration": 0,
    "start_time": "2022-07-22T18:47:28.642Z"
   },
   {
    "duration": 0,
    "start_time": "2022-07-22T18:47:28.644Z"
   },
   {
    "duration": 0,
    "start_time": "2022-07-22T18:47:28.645Z"
   },
   {
    "duration": 0,
    "start_time": "2022-07-22T18:47:28.647Z"
   },
   {
    "duration": 0,
    "start_time": "2022-07-22T18:47:28.648Z"
   },
   {
    "duration": 0,
    "start_time": "2022-07-22T18:47:28.649Z"
   },
   {
    "duration": 0,
    "start_time": "2022-07-22T18:47:28.650Z"
   },
   {
    "duration": 0,
    "start_time": "2022-07-22T18:47:28.651Z"
   },
   {
    "duration": 0,
    "start_time": "2022-07-22T18:47:28.651Z"
   },
   {
    "duration": 138,
    "start_time": "2022-07-22T19:54:42.652Z"
   },
   {
    "duration": 3,
    "start_time": "2022-07-22T19:55:31.830Z"
   },
   {
    "duration": 4,
    "start_time": "2022-07-22T19:55:35.541Z"
   },
   {
    "duration": 131,
    "start_time": "2022-07-22T19:55:44.199Z"
   },
   {
    "duration": 106,
    "start_time": "2022-07-22T19:56:21.762Z"
   },
   {
    "duration": 164,
    "start_time": "2022-07-22T19:58:11.752Z"
   },
   {
    "duration": 213,
    "start_time": "2022-07-22T20:00:05.055Z"
   },
   {
    "duration": 173,
    "start_time": "2022-07-22T20:06:15.264Z"
   },
   {
    "duration": 113,
    "start_time": "2022-07-22T20:06:22.667Z"
   },
   {
    "duration": 195,
    "start_time": "2022-07-22T20:07:10.093Z"
   },
   {
    "duration": 879,
    "start_time": "2022-07-22T20:07:31.019Z"
   },
   {
    "duration": 150,
    "start_time": "2022-07-22T20:07:31.901Z"
   },
   {
    "duration": 24,
    "start_time": "2022-07-22T20:07:32.053Z"
   },
   {
    "duration": 20,
    "start_time": "2022-07-22T20:07:32.079Z"
   },
   {
    "duration": 51,
    "start_time": "2022-07-22T20:07:32.103Z"
   },
   {
    "duration": 25,
    "start_time": "2022-07-22T20:07:32.156Z"
   },
   {
    "duration": 21,
    "start_time": "2022-07-22T20:07:32.183Z"
   },
   {
    "duration": 22,
    "start_time": "2022-07-22T20:07:32.206Z"
   },
   {
    "duration": 17,
    "start_time": "2022-07-22T20:07:32.233Z"
   },
   {
    "duration": 12,
    "start_time": "2022-07-22T20:07:32.253Z"
   },
   {
    "duration": 20,
    "start_time": "2022-07-22T20:07:32.267Z"
   },
   {
    "duration": 18,
    "start_time": "2022-07-22T20:07:32.289Z"
   },
   {
    "duration": 22,
    "start_time": "2022-07-22T20:07:32.310Z"
   },
   {
    "duration": 24,
    "start_time": "2022-07-22T20:07:32.337Z"
   },
   {
    "duration": 32,
    "start_time": "2022-07-22T20:07:32.364Z"
   },
   {
    "duration": 19,
    "start_time": "2022-07-22T20:07:32.401Z"
   },
   {
    "duration": 52,
    "start_time": "2022-07-22T20:07:32.423Z"
   },
   {
    "duration": 441,
    "start_time": "2022-07-22T20:07:32.477Z"
   },
   {
    "duration": 19,
    "start_time": "2022-07-22T20:07:32.920Z"
   },
   {
    "duration": 20,
    "start_time": "2022-07-22T20:07:32.941Z"
   },
   {
    "duration": 21,
    "start_time": "2022-07-22T20:07:32.963Z"
   },
   {
    "duration": 41,
    "start_time": "2022-07-22T20:07:32.986Z"
   },
   {
    "duration": 27,
    "start_time": "2022-07-22T20:07:33.031Z"
   },
   {
    "duration": 13,
    "start_time": "2022-07-22T20:07:33.060Z"
   },
   {
    "duration": 243,
    "start_time": "2022-07-22T20:07:33.075Z"
   },
   {
    "duration": 20,
    "start_time": "2022-07-22T20:07:33.320Z"
   },
   {
    "duration": 67,
    "start_time": "2022-07-22T20:07:33.343Z"
   },
   {
    "duration": 356,
    "start_time": "2022-07-22T20:07:33.412Z"
   },
   {
    "duration": 332,
    "start_time": "2022-07-22T20:07:33.771Z"
   },
   {
    "duration": 408,
    "start_time": "2022-07-22T20:07:34.106Z"
   },
   {
    "duration": 268,
    "start_time": "2022-07-22T20:07:34.516Z"
   },
   {
    "duration": 490,
    "start_time": "2022-07-22T20:07:34.786Z"
   },
   {
    "duration": 212,
    "start_time": "2022-07-22T20:07:35.280Z"
   },
   {
    "duration": 131,
    "start_time": "2022-07-22T20:07:35.495Z"
   },
   {
    "duration": 0,
    "start_time": "2022-07-22T20:07:35.629Z"
   },
   {
    "duration": 0,
    "start_time": "2022-07-22T20:07:35.631Z"
   },
   {
    "duration": 0,
    "start_time": "2022-07-22T20:07:35.632Z"
   },
   {
    "duration": 0,
    "start_time": "2022-07-22T20:07:35.634Z"
   },
   {
    "duration": 0,
    "start_time": "2022-07-22T20:07:35.635Z"
   },
   {
    "duration": 0,
    "start_time": "2022-07-22T20:07:35.637Z"
   },
   {
    "duration": 0,
    "start_time": "2022-07-22T20:07:35.643Z"
   },
   {
    "duration": 0,
    "start_time": "2022-07-22T20:07:35.644Z"
   },
   {
    "duration": 0,
    "start_time": "2022-07-22T20:07:35.646Z"
   },
   {
    "duration": 0,
    "start_time": "2022-07-22T20:07:35.648Z"
   },
   {
    "duration": 0,
    "start_time": "2022-07-22T20:07:35.649Z"
   },
   {
    "duration": 0,
    "start_time": "2022-07-22T20:07:35.651Z"
   },
   {
    "duration": 0,
    "start_time": "2022-07-22T20:07:35.652Z"
   },
   {
    "duration": 0,
    "start_time": "2022-07-22T20:07:35.653Z"
   },
   {
    "duration": 195,
    "start_time": "2022-07-22T20:48:37.972Z"
   },
   {
    "duration": 824,
    "start_time": "2022-07-22T20:48:47.406Z"
   },
   {
    "duration": 134,
    "start_time": "2022-07-22T20:48:48.234Z"
   },
   {
    "duration": 25,
    "start_time": "2022-07-22T20:48:48.370Z"
   },
   {
    "duration": 5,
    "start_time": "2022-07-22T20:48:48.397Z"
   },
   {
    "duration": 48,
    "start_time": "2022-07-22T20:48:48.420Z"
   },
   {
    "duration": 8,
    "start_time": "2022-07-22T20:48:48.470Z"
   },
   {
    "duration": 24,
    "start_time": "2022-07-22T20:48:48.480Z"
   },
   {
    "duration": 71,
    "start_time": "2022-07-22T20:48:48.506Z"
   },
   {
    "duration": 10,
    "start_time": "2022-07-22T20:48:48.578Z"
   },
   {
    "duration": 12,
    "start_time": "2022-07-22T20:48:48.590Z"
   },
   {
    "duration": 22,
    "start_time": "2022-07-22T20:48:48.604Z"
   },
   {
    "duration": 43,
    "start_time": "2022-07-22T20:48:48.630Z"
   },
   {
    "duration": 5,
    "start_time": "2022-07-22T20:48:48.675Z"
   },
   {
    "duration": 15,
    "start_time": "2022-07-22T20:48:48.684Z"
   },
   {
    "duration": 28,
    "start_time": "2022-07-22T20:48:48.700Z"
   },
   {
    "duration": 36,
    "start_time": "2022-07-22T20:48:48.732Z"
   },
   {
    "duration": 13,
    "start_time": "2022-07-22T20:48:48.770Z"
   },
   {
    "duration": 423,
    "start_time": "2022-07-22T20:48:48.785Z"
   },
   {
    "duration": 28,
    "start_time": "2022-07-22T20:48:49.212Z"
   },
   {
    "duration": 30,
    "start_time": "2022-07-22T20:48:49.246Z"
   },
   {
    "duration": 18,
    "start_time": "2022-07-22T20:48:49.278Z"
   },
   {
    "duration": 28,
    "start_time": "2022-07-22T20:48:49.298Z"
   },
   {
    "duration": 26,
    "start_time": "2022-07-22T20:48:49.328Z"
   },
   {
    "duration": 20,
    "start_time": "2022-07-22T20:48:49.356Z"
   },
   {
    "duration": 321,
    "start_time": "2022-07-22T20:48:49.379Z"
   },
   {
    "duration": 25,
    "start_time": "2022-07-22T20:48:49.702Z"
   },
   {
    "duration": 79,
    "start_time": "2022-07-22T20:48:49.729Z"
   },
   {
    "duration": 279,
    "start_time": "2022-07-22T20:48:49.812Z"
   },
   {
    "duration": 312,
    "start_time": "2022-07-22T20:48:50.093Z"
   },
   {
    "duration": 392,
    "start_time": "2022-07-22T20:48:50.422Z"
   },
   {
    "duration": 256,
    "start_time": "2022-07-22T20:48:50.817Z"
   },
   {
    "duration": 414,
    "start_time": "2022-07-22T20:48:51.075Z"
   },
   {
    "duration": 182,
    "start_time": "2022-07-22T20:48:51.492Z"
   },
   {
    "duration": 112,
    "start_time": "2022-07-22T20:48:51.676Z"
   },
   {
    "duration": 1,
    "start_time": "2022-07-22T20:48:51.792Z"
   },
   {
    "duration": 0,
    "start_time": "2022-07-22T20:48:51.794Z"
   },
   {
    "duration": 0,
    "start_time": "2022-07-22T20:48:51.795Z"
   },
   {
    "duration": 0,
    "start_time": "2022-07-22T20:48:51.795Z"
   },
   {
    "duration": 0,
    "start_time": "2022-07-22T20:48:51.796Z"
   },
   {
    "duration": 0,
    "start_time": "2022-07-22T20:48:51.797Z"
   },
   {
    "duration": 0,
    "start_time": "2022-07-22T20:48:51.798Z"
   },
   {
    "duration": 0,
    "start_time": "2022-07-22T20:48:51.799Z"
   },
   {
    "duration": 0,
    "start_time": "2022-07-22T20:48:51.816Z"
   },
   {
    "duration": 0,
    "start_time": "2022-07-22T20:48:51.817Z"
   },
   {
    "duration": 0,
    "start_time": "2022-07-22T20:48:51.818Z"
   },
   {
    "duration": 0,
    "start_time": "2022-07-22T20:48:51.819Z"
   },
   {
    "duration": 0,
    "start_time": "2022-07-22T20:48:51.822Z"
   },
   {
    "duration": 1,
    "start_time": "2022-07-22T20:48:51.824Z"
   },
   {
    "duration": 1081,
    "start_time": "2022-07-22T21:39:34.308Z"
   },
   {
    "duration": 189,
    "start_time": "2022-07-22T21:39:35.398Z"
   },
   {
    "duration": 30,
    "start_time": "2022-07-22T21:39:35.589Z"
   },
   {
    "duration": 47,
    "start_time": "2022-07-22T21:39:35.622Z"
   },
   {
    "duration": 19,
    "start_time": "2022-07-22T21:39:35.671Z"
   },
   {
    "duration": 47,
    "start_time": "2022-07-22T21:39:35.693Z"
   },
   {
    "duration": 18,
    "start_time": "2022-07-22T21:39:35.751Z"
   },
   {
    "duration": 26,
    "start_time": "2022-07-22T21:39:35.771Z"
   },
   {
    "duration": 57,
    "start_time": "2022-07-22T21:39:35.799Z"
   },
   {
    "duration": 21,
    "start_time": "2022-07-22T21:39:35.864Z"
   },
   {
    "duration": 12,
    "start_time": "2022-07-22T21:39:35.887Z"
   },
   {
    "duration": 37,
    "start_time": "2022-07-22T21:39:35.902Z"
   },
   {
    "duration": 28,
    "start_time": "2022-07-22T21:39:35.941Z"
   },
   {
    "duration": 6,
    "start_time": "2022-07-22T21:39:35.975Z"
   },
   {
    "duration": 26,
    "start_time": "2022-07-22T21:39:35.983Z"
   },
   {
    "duration": 19,
    "start_time": "2022-07-22T21:39:36.022Z"
   },
   {
    "duration": 49,
    "start_time": "2022-07-22T21:39:36.043Z"
   },
   {
    "duration": 16,
    "start_time": "2022-07-22T21:39:36.094Z"
   },
   {
    "duration": 463,
    "start_time": "2022-07-22T21:39:36.113Z"
   },
   {
    "duration": 20,
    "start_time": "2022-07-22T21:39:36.583Z"
   },
   {
    "duration": 19,
    "start_time": "2022-07-22T21:39:36.606Z"
   },
   {
    "duration": 62,
    "start_time": "2022-07-22T21:39:36.632Z"
   },
   {
    "duration": 23,
    "start_time": "2022-07-22T21:39:36.696Z"
   },
   {
    "duration": 48,
    "start_time": "2022-07-22T21:39:36.721Z"
   },
   {
    "duration": 27,
    "start_time": "2022-07-22T21:39:36.773Z"
   },
   {
    "duration": 610,
    "start_time": "2022-07-22T21:39:36.805Z"
   },
   {
    "duration": 29,
    "start_time": "2022-07-22T21:39:37.417Z"
   },
   {
    "duration": 107,
    "start_time": "2022-07-22T21:39:37.450Z"
   },
   {
    "duration": 756,
    "start_time": "2022-07-22T21:39:37.560Z"
   },
   {
    "duration": 611,
    "start_time": "2022-07-22T21:39:38.319Z"
   },
   {
    "duration": 816,
    "start_time": "2022-07-22T21:39:38.937Z"
   },
   {
    "duration": 269,
    "start_time": "2022-07-22T21:39:39.755Z"
   },
   {
    "duration": 447,
    "start_time": "2022-07-22T21:39:40.026Z"
   },
   {
    "duration": 182,
    "start_time": "2022-07-22T21:39:40.478Z"
   },
   {
    "duration": 100,
    "start_time": "2022-07-22T21:39:40.669Z"
   },
   {
    "duration": 0,
    "start_time": "2022-07-22T21:39:40.773Z"
   },
   {
    "duration": 0,
    "start_time": "2022-07-22T21:39:40.774Z"
   },
   {
    "duration": 0,
    "start_time": "2022-07-22T21:39:40.775Z"
   },
   {
    "duration": 0,
    "start_time": "2022-07-22T21:39:40.776Z"
   },
   {
    "duration": 0,
    "start_time": "2022-07-22T21:39:40.777Z"
   },
   {
    "duration": 0,
    "start_time": "2022-07-22T21:39:40.778Z"
   },
   {
    "duration": 0,
    "start_time": "2022-07-22T21:39:40.786Z"
   },
   {
    "duration": 0,
    "start_time": "2022-07-22T21:39:40.788Z"
   },
   {
    "duration": 0,
    "start_time": "2022-07-22T21:39:40.790Z"
   },
   {
    "duration": 0,
    "start_time": "2022-07-22T21:39:40.791Z"
   },
   {
    "duration": 0,
    "start_time": "2022-07-22T21:39:40.794Z"
   },
   {
    "duration": 1,
    "start_time": "2022-07-22T21:39:40.795Z"
   },
   {
    "duration": 0,
    "start_time": "2022-07-22T21:39:40.797Z"
   },
   {
    "duration": 0,
    "start_time": "2022-07-22T21:39:40.811Z"
   },
   {
    "duration": 53,
    "start_time": "2022-07-22T21:41:00.734Z"
   },
   {
    "duration": 1607,
    "start_time": "2022-07-22T22:07:12.185Z"
   },
   {
    "duration": 320,
    "start_time": "2022-07-22T22:07:13.800Z"
   },
   {
    "duration": 68,
    "start_time": "2022-07-22T22:07:14.128Z"
   },
   {
    "duration": 248,
    "start_time": "2022-07-22T22:07:14.216Z"
   },
   {
    "duration": 11,
    "start_time": "2022-07-22T22:07:14.482Z"
   },
   {
    "duration": 196,
    "start_time": "2022-07-22T22:07:14.499Z"
   },
   {
    "duration": 115,
    "start_time": "2022-07-22T22:07:14.702Z"
   },
   {
    "duration": 126,
    "start_time": "2022-07-22T22:07:14.829Z"
   },
   {
    "duration": 138,
    "start_time": "2022-07-22T22:07:14.970Z"
   },
   {
    "duration": 137,
    "start_time": "2022-07-22T22:07:15.115Z"
   },
   {
    "duration": 180,
    "start_time": "2022-07-22T22:07:15.260Z"
   },
   {
    "duration": 258,
    "start_time": "2022-07-22T22:07:15.456Z"
   },
   {
    "duration": 191,
    "start_time": "2022-07-22T22:07:15.717Z"
   },
   {
    "duration": 124,
    "start_time": "2022-07-22T22:07:15.928Z"
   },
   {
    "duration": 233,
    "start_time": "2022-07-22T22:07:16.055Z"
   },
   {
    "duration": 170,
    "start_time": "2022-07-22T22:07:16.290Z"
   },
   {
    "duration": 96,
    "start_time": "2022-07-22T22:07:16.464Z"
   },
   {
    "duration": 196,
    "start_time": "2022-07-22T22:07:16.572Z"
   },
   {
    "duration": 1290,
    "start_time": "2022-07-22T22:07:16.770Z"
   },
   {
    "duration": 69,
    "start_time": "2022-07-22T22:07:18.063Z"
   },
   {
    "duration": 143,
    "start_time": "2022-07-22T22:07:18.135Z"
   },
   {
    "duration": 192,
    "start_time": "2022-07-22T22:07:18.284Z"
   },
   {
    "duration": 181,
    "start_time": "2022-07-22T22:07:18.479Z"
   },
   {
    "duration": 141,
    "start_time": "2022-07-22T22:07:18.663Z"
   },
   {
    "duration": 260,
    "start_time": "2022-07-22T22:07:18.816Z"
   },
   {
    "duration": 0,
    "start_time": "2022-07-22T22:07:19.096Z"
   },
   {
    "duration": 0,
    "start_time": "2022-07-22T22:07:19.099Z"
   },
   {
    "duration": 0,
    "start_time": "2022-07-22T22:07:19.101Z"
   },
   {
    "duration": 0,
    "start_time": "2022-07-22T22:07:19.114Z"
   },
   {
    "duration": 0,
    "start_time": "2022-07-22T22:07:19.121Z"
   },
   {
    "duration": 0,
    "start_time": "2022-07-22T22:07:19.131Z"
   },
   {
    "duration": 0,
    "start_time": "2022-07-22T22:07:19.140Z"
   },
   {
    "duration": 0,
    "start_time": "2022-07-22T22:07:19.142Z"
   },
   {
    "duration": 0,
    "start_time": "2022-07-22T22:07:19.164Z"
   },
   {
    "duration": 0,
    "start_time": "2022-07-22T22:07:19.165Z"
   },
   {
    "duration": 0,
    "start_time": "2022-07-22T22:07:19.166Z"
   },
   {
    "duration": 0,
    "start_time": "2022-07-22T22:07:19.167Z"
   },
   {
    "duration": 0,
    "start_time": "2022-07-22T22:07:19.167Z"
   },
   {
    "duration": 0,
    "start_time": "2022-07-22T22:07:19.168Z"
   },
   {
    "duration": 0,
    "start_time": "2022-07-22T22:07:19.189Z"
   },
   {
    "duration": 0,
    "start_time": "2022-07-22T22:07:19.190Z"
   },
   {
    "duration": 0,
    "start_time": "2022-07-22T22:07:19.190Z"
   },
   {
    "duration": 0,
    "start_time": "2022-07-22T22:07:19.191Z"
   },
   {
    "duration": 0,
    "start_time": "2022-07-22T22:07:19.192Z"
   },
   {
    "duration": 0,
    "start_time": "2022-07-22T22:07:19.210Z"
   },
   {
    "duration": 0,
    "start_time": "2022-07-22T22:07:19.211Z"
   },
   {
    "duration": 0,
    "start_time": "2022-07-22T22:07:19.212Z"
   },
   {
    "duration": 0,
    "start_time": "2022-07-22T22:07:19.221Z"
   },
   {
    "duration": 0,
    "start_time": "2022-07-22T22:07:19.222Z"
   },
   {
    "duration": 0,
    "start_time": "2022-07-22T22:07:19.223Z"
   },
   {
    "duration": 174,
    "start_time": "2022-07-22T22:30:58.678Z"
   },
   {
    "duration": 827,
    "start_time": "2022-07-26T20:12:02.247Z"
   },
   {
    "duration": 142,
    "start_time": "2022-07-26T20:12:03.077Z"
   },
   {
    "duration": 27,
    "start_time": "2022-07-26T20:12:03.221Z"
   },
   {
    "duration": 3,
    "start_time": "2022-07-26T20:12:03.250Z"
   },
   {
    "duration": 17,
    "start_time": "2022-07-26T20:12:03.254Z"
   },
   {
    "duration": 8,
    "start_time": "2022-07-26T20:12:03.272Z"
   },
   {
    "duration": 15,
    "start_time": "2022-07-26T20:12:03.282Z"
   },
   {
    "duration": 219,
    "start_time": "2022-07-26T20:12:03.299Z"
   },
   {
    "duration": 98,
    "start_time": "2022-07-26T20:12:03.519Z"
   },
   {
    "duration": 18,
    "start_time": "2022-07-26T20:12:03.619Z"
   },
   {
    "duration": 110,
    "start_time": "2022-07-26T20:12:03.639Z"
   },
   {
    "duration": 7,
    "start_time": "2022-07-26T20:12:03.750Z"
   },
   {
    "duration": 117,
    "start_time": "2022-07-26T20:12:03.759Z"
   },
   {
    "duration": 8,
    "start_time": "2022-07-26T20:12:03.877Z"
   },
   {
    "duration": 161,
    "start_time": "2022-07-26T20:12:03.886Z"
   },
   {
    "duration": 9,
    "start_time": "2022-07-26T20:12:04.048Z"
   },
   {
    "duration": 127,
    "start_time": "2022-07-26T20:12:04.058Z"
   },
   {
    "duration": 8,
    "start_time": "2022-07-26T20:12:04.186Z"
   },
   {
    "duration": 135,
    "start_time": "2022-07-26T20:12:04.196Z"
   },
   {
    "duration": 10,
    "start_time": "2022-07-26T20:12:04.332Z"
   },
   {
    "duration": 6,
    "start_time": "2022-07-26T20:12:04.344Z"
   },
   {
    "duration": 4,
    "start_time": "2022-07-26T20:12:04.352Z"
   },
   {
    "duration": 208,
    "start_time": "2022-07-26T20:12:04.358Z"
   },
   {
    "duration": 7,
    "start_time": "2022-07-26T20:12:04.567Z"
   },
   {
    "duration": 9,
    "start_time": "2022-07-26T20:12:04.575Z"
   },
   {
    "duration": 21,
    "start_time": "2022-07-26T20:12:04.585Z"
   },
   {
    "duration": 32,
    "start_time": "2022-07-26T20:12:04.608Z"
   },
   {
    "duration": 2,
    "start_time": "2022-07-26T20:12:04.645Z"
   },
   {
    "duration": 44,
    "start_time": "2022-07-26T20:12:04.649Z"
   },
   {
    "duration": 36,
    "start_time": "2022-07-26T20:12:04.695Z"
   },
   {
    "duration": 12,
    "start_time": "2022-07-26T20:12:04.733Z"
   },
   {
    "duration": 10,
    "start_time": "2022-07-26T20:12:04.747Z"
   },
   {
    "duration": 7,
    "start_time": "2022-07-26T20:12:04.759Z"
   },
   {
    "duration": 8,
    "start_time": "2022-07-26T20:12:04.768Z"
   },
   {
    "duration": 6,
    "start_time": "2022-07-26T20:12:04.778Z"
   },
   {
    "duration": 52,
    "start_time": "2022-07-26T20:12:04.786Z"
   },
   {
    "duration": 11,
    "start_time": "2022-07-26T20:12:04.840Z"
   },
   {
    "duration": 12,
    "start_time": "2022-07-26T20:12:04.852Z"
   },
   {
    "duration": 6,
    "start_time": "2022-07-26T20:12:04.866Z"
   },
   {
    "duration": 14,
    "start_time": "2022-07-26T20:12:04.873Z"
   },
   {
    "duration": 11,
    "start_time": "2022-07-26T20:12:04.888Z"
   },
   {
    "duration": 30,
    "start_time": "2022-07-26T20:12:04.901Z"
   },
   {
    "duration": 6,
    "start_time": "2022-07-26T20:12:04.932Z"
   },
   {
    "duration": 14,
    "start_time": "2022-07-26T20:12:04.940Z"
   },
   {
    "duration": 11,
    "start_time": "2022-07-26T20:12:04.955Z"
   },
   {
    "duration": 11,
    "start_time": "2022-07-26T20:12:04.967Z"
   },
   {
    "duration": 6,
    "start_time": "2022-07-26T20:12:04.980Z"
   },
   {
    "duration": 13,
    "start_time": "2022-07-26T20:12:04.988Z"
   },
   {
    "duration": 38,
    "start_time": "2022-07-26T20:12:05.003Z"
   },
   {
    "duration": 2,
    "start_time": "2022-07-26T20:12:05.043Z"
   },
   {
    "duration": 5,
    "start_time": "2022-07-26T20:12:05.047Z"
   },
   {
    "duration": 8,
    "start_time": "2022-07-26T20:12:05.054Z"
   },
   {
    "duration": 7,
    "start_time": "2022-07-26T20:12:05.063Z"
   },
   {
    "duration": 7,
    "start_time": "2022-07-26T20:12:05.071Z"
   },
   {
    "duration": 7,
    "start_time": "2022-07-26T20:12:05.079Z"
   },
   {
    "duration": 6,
    "start_time": "2022-07-26T20:12:05.087Z"
   },
   {
    "duration": 38,
    "start_time": "2022-07-26T20:12:05.094Z"
   },
   {
    "duration": 18,
    "start_time": "2022-07-26T20:12:05.133Z"
   },
   {
    "duration": 8,
    "start_time": "2022-07-26T20:12:05.152Z"
   },
   {
    "duration": 7,
    "start_time": "2022-07-26T20:12:05.162Z"
   },
   {
    "duration": 18,
    "start_time": "2022-07-26T20:12:05.170Z"
   },
   {
    "duration": 224,
    "start_time": "2022-07-26T20:12:05.191Z"
   },
   {
    "duration": 37,
    "start_time": "2022-07-26T20:12:05.417Z"
   },
   {
    "duration": 21,
    "start_time": "2022-07-26T20:12:05.456Z"
   },
   {
    "duration": 5,
    "start_time": "2022-07-26T20:12:05.478Z"
   },
   {
    "duration": 436,
    "start_time": "2022-07-26T20:12:05.485Z"
   },
   {
    "duration": 400,
    "start_time": "2022-07-26T20:12:05.923Z"
   },
   {
    "duration": 466,
    "start_time": "2022-07-26T20:12:06.330Z"
   },
   {
    "duration": 559,
    "start_time": "2022-07-26T20:12:06.798Z"
   },
   {
    "duration": 585,
    "start_time": "2022-07-26T20:12:07.359Z"
   },
   {
    "duration": 209,
    "start_time": "2022-07-26T20:12:07.945Z"
   },
   {
    "duration": 7,
    "start_time": "2022-07-26T20:12:08.156Z"
   },
   {
    "duration": 416,
    "start_time": "2022-07-26T20:12:08.164Z"
   },
   {
    "duration": 624,
    "start_time": "2022-07-26T20:12:08.632Z"
   },
   {
    "duration": 4,
    "start_time": "2022-07-26T20:12:09.258Z"
   },
   {
    "duration": 76,
    "start_time": "2022-07-26T20:12:09.264Z"
   },
   {
    "duration": 234,
    "start_time": "2022-07-26T20:12:09.342Z"
   },
   {
    "duration": 12,
    "start_time": "2022-07-26T20:12:09.631Z"
   },
   {
    "duration": 113,
    "start_time": "2022-07-26T20:12:09.645Z"
   },
   {
    "duration": 305,
    "start_time": "2022-07-26T20:12:09.759Z"
   },
   {
    "duration": 205,
    "start_time": "2022-07-26T20:12:10.065Z"
   },
   {
    "duration": 6,
    "start_time": "2022-07-26T20:12:10.274Z"
   },
   {
    "duration": 12,
    "start_time": "2022-07-26T20:12:10.282Z"
   },
   {
    "duration": 37,
    "start_time": "2022-07-26T20:12:10.295Z"
   },
   {
    "duration": 18,
    "start_time": "2022-07-26T20:12:10.333Z"
   },
   {
    "duration": 5,
    "start_time": "2022-07-26T20:12:10.353Z"
   },
   {
    "duration": 15683,
    "start_time": "2022-07-26T20:12:10.360Z"
   },
   {
    "duration": 27,
    "start_time": "2022-07-26T20:12:26.044Z"
   },
   {
    "duration": 23,
    "start_time": "2022-07-26T20:12:26.072Z"
   },
   {
    "duration": 7,
    "start_time": "2022-07-26T20:36:24.506Z"
   },
   {
    "duration": 28,
    "start_time": "2022-07-26T21:19:35.653Z"
   },
   {
    "duration": 587,
    "start_time": "2022-07-26T21:21:10.989Z"
   },
   {
    "duration": 87,
    "start_time": "2022-07-26T21:21:11.578Z"
   },
   {
    "duration": 24,
    "start_time": "2022-07-26T21:21:11.667Z"
   },
   {
    "duration": 3,
    "start_time": "2022-07-26T21:21:11.693Z"
   },
   {
    "duration": 15,
    "start_time": "2022-07-26T21:21:11.698Z"
   },
   {
    "duration": 22,
    "start_time": "2022-07-26T21:21:11.714Z"
   },
   {
    "duration": 17,
    "start_time": "2022-07-26T21:21:11.737Z"
   },
   {
    "duration": 207,
    "start_time": "2022-07-26T21:21:11.755Z"
   },
   {
    "duration": 94,
    "start_time": "2022-07-26T21:21:11.963Z"
   },
   {
    "duration": 9,
    "start_time": "2022-07-26T21:21:12.059Z"
   },
   {
    "duration": 116,
    "start_time": "2022-07-26T21:21:12.069Z"
   },
   {
    "duration": 8,
    "start_time": "2022-07-26T21:21:12.187Z"
   },
   {
    "duration": 147,
    "start_time": "2022-07-26T21:21:12.197Z"
   },
   {
    "duration": 10,
    "start_time": "2022-07-26T21:21:12.347Z"
   },
   {
    "duration": 174,
    "start_time": "2022-07-26T21:21:12.358Z"
   },
   {
    "duration": 9,
    "start_time": "2022-07-26T21:21:12.534Z"
   },
   {
    "duration": 139,
    "start_time": "2022-07-26T21:21:12.545Z"
   },
   {
    "duration": 9,
    "start_time": "2022-07-26T21:21:12.686Z"
   },
   {
    "duration": 141,
    "start_time": "2022-07-26T21:21:12.697Z"
   },
   {
    "duration": 11,
    "start_time": "2022-07-26T21:21:12.840Z"
   },
   {
    "duration": 7,
    "start_time": "2022-07-26T21:21:12.853Z"
   },
   {
    "duration": 5,
    "start_time": "2022-07-26T21:21:12.861Z"
   },
   {
    "duration": 21,
    "start_time": "2022-07-26T21:21:12.867Z"
   },
   {
    "duration": 239,
    "start_time": "2022-07-26T21:21:12.890Z"
   },
   {
    "duration": 8,
    "start_time": "2022-07-26T21:21:13.131Z"
   },
   {
    "duration": 12,
    "start_time": "2022-07-26T21:21:13.141Z"
   },
   {
    "duration": 22,
    "start_time": "2022-07-26T21:21:13.155Z"
   },
   {
    "duration": 12,
    "start_time": "2022-07-26T21:21:13.178Z"
   },
   {
    "duration": 3,
    "start_time": "2022-07-26T21:21:13.191Z"
   },
   {
    "duration": 75,
    "start_time": "2022-07-26T21:21:13.195Z"
   },
   {
    "duration": 11,
    "start_time": "2022-07-26T21:21:13.271Z"
   },
   {
    "duration": 10,
    "start_time": "2022-07-26T21:21:13.284Z"
   },
   {
    "duration": 9,
    "start_time": "2022-07-26T21:21:13.295Z"
   },
   {
    "duration": 30,
    "start_time": "2022-07-26T21:21:13.305Z"
   },
   {
    "duration": 7,
    "start_time": "2022-07-26T21:21:13.337Z"
   },
   {
    "duration": 6,
    "start_time": "2022-07-26T21:21:13.345Z"
   },
   {
    "duration": 12,
    "start_time": "2022-07-26T21:21:13.353Z"
   },
   {
    "duration": 12,
    "start_time": "2022-07-26T21:21:13.366Z"
   },
   {
    "duration": 11,
    "start_time": "2022-07-26T21:21:13.380Z"
   },
   {
    "duration": 39,
    "start_time": "2022-07-26T21:21:13.392Z"
   },
   {
    "duration": 11,
    "start_time": "2022-07-26T21:21:13.435Z"
   },
   {
    "duration": 12,
    "start_time": "2022-07-26T21:21:13.448Z"
   },
   {
    "duration": 2,
    "start_time": "2022-07-26T21:21:13.461Z"
   },
   {
    "duration": 5,
    "start_time": "2022-07-26T21:21:13.465Z"
   },
   {
    "duration": 12,
    "start_time": "2022-07-26T21:21:13.471Z"
   },
   {
    "duration": 12,
    "start_time": "2022-07-26T21:21:13.485Z"
   },
   {
    "duration": 42,
    "start_time": "2022-07-26T21:21:13.498Z"
   },
   {
    "duration": 5,
    "start_time": "2022-07-26T21:21:13.542Z"
   },
   {
    "duration": 11,
    "start_time": "2022-07-26T21:21:13.548Z"
   },
   {
    "duration": 9,
    "start_time": "2022-07-26T21:21:13.561Z"
   },
   {
    "duration": 2,
    "start_time": "2022-07-26T21:21:13.572Z"
   },
   {
    "duration": 5,
    "start_time": "2022-07-26T21:21:13.575Z"
   },
   {
    "duration": 9,
    "start_time": "2022-07-26T21:21:13.582Z"
   },
   {
    "duration": 40,
    "start_time": "2022-07-26T21:21:13.592Z"
   },
   {
    "duration": 7,
    "start_time": "2022-07-26T21:21:13.633Z"
   },
   {
    "duration": 7,
    "start_time": "2022-07-26T21:21:13.641Z"
   },
   {
    "duration": 7,
    "start_time": "2022-07-26T21:21:13.649Z"
   },
   {
    "duration": 6,
    "start_time": "2022-07-26T21:21:13.658Z"
   },
   {
    "duration": 15,
    "start_time": "2022-07-26T21:21:13.666Z"
   },
   {
    "duration": 8,
    "start_time": "2022-07-26T21:21:13.683Z"
   },
   {
    "duration": 9,
    "start_time": "2022-07-26T21:21:13.730Z"
   },
   {
    "duration": 19,
    "start_time": "2022-07-26T21:21:13.741Z"
   },
   {
    "duration": 217,
    "start_time": "2022-07-26T21:21:13.761Z"
   },
   {
    "duration": 31,
    "start_time": "2022-07-26T21:21:13.980Z"
   },
   {
    "duration": 37,
    "start_time": "2022-07-26T21:21:14.012Z"
   },
   {
    "duration": 6,
    "start_time": "2022-07-26T21:21:14.050Z"
   },
   {
    "duration": 805,
    "start_time": "2022-07-26T21:21:14.057Z"
   },
   {
    "duration": 879,
    "start_time": "2022-07-26T21:21:14.864Z"
   },
   {
    "duration": 910,
    "start_time": "2022-07-26T21:21:15.745Z"
   },
   {
    "duration": 603,
    "start_time": "2022-07-26T21:21:16.656Z"
   },
   {
    "duration": 505,
    "start_time": "2022-07-26T21:21:17.261Z"
   },
   {
    "duration": 268,
    "start_time": "2022-07-26T21:21:17.768Z"
   },
   {
    "duration": 7,
    "start_time": "2022-07-26T21:21:18.037Z"
   },
   {
    "duration": 492,
    "start_time": "2022-07-26T21:21:18.045Z"
   },
   {
    "duration": 616,
    "start_time": "2022-07-26T21:21:18.539Z"
   },
   {
    "duration": 5,
    "start_time": "2022-07-26T21:21:19.156Z"
   },
   {
    "duration": 14,
    "start_time": "2022-07-26T21:21:19.163Z"
   },
   {
    "duration": 144,
    "start_time": "2022-07-26T21:21:19.179Z"
   },
   {
    "duration": 17,
    "start_time": "2022-07-26T21:21:19.324Z"
   },
   {
    "duration": 60,
    "start_time": "2022-07-26T21:21:19.343Z"
   },
   {
    "duration": 154,
    "start_time": "2022-07-26T21:21:19.406Z"
   },
   {
    "duration": 138,
    "start_time": "2022-07-26T21:21:19.562Z"
   },
   {
    "duration": 6,
    "start_time": "2022-07-26T21:21:19.701Z"
   },
   {
    "duration": 27,
    "start_time": "2022-07-26T21:21:19.709Z"
   },
   {
    "duration": 20,
    "start_time": "2022-07-26T21:21:19.737Z"
   },
   {
    "duration": 18,
    "start_time": "2022-07-26T21:21:19.758Z"
   },
   {
    "duration": 6,
    "start_time": "2022-07-26T21:21:19.777Z"
   },
   {
    "duration": 15217,
    "start_time": "2022-07-26T21:21:19.784Z"
   },
   {
    "duration": 38,
    "start_time": "2022-07-26T21:21:35.004Z"
   },
   {
    "duration": 23,
    "start_time": "2022-07-26T21:21:35.044Z"
   },
   {
    "duration": 617,
    "start_time": "2022-07-26T21:26:41.653Z"
   },
   {
    "duration": 85,
    "start_time": "2022-07-26T21:26:42.272Z"
   },
   {
    "duration": 26,
    "start_time": "2022-07-26T21:26:42.358Z"
   },
   {
    "duration": 5,
    "start_time": "2022-07-26T21:26:42.386Z"
   },
   {
    "duration": 18,
    "start_time": "2022-07-26T21:26:42.394Z"
   },
   {
    "duration": 22,
    "start_time": "2022-07-26T21:26:42.413Z"
   },
   {
    "duration": 19,
    "start_time": "2022-07-26T21:26:42.436Z"
   },
   {
    "duration": 200,
    "start_time": "2022-07-26T21:26:42.457Z"
   },
   {
    "duration": 104,
    "start_time": "2022-07-26T21:26:42.659Z"
   },
   {
    "duration": 9,
    "start_time": "2022-07-26T21:26:42.764Z"
   },
   {
    "duration": 105,
    "start_time": "2022-07-26T21:26:42.775Z"
   },
   {
    "duration": 7,
    "start_time": "2022-07-26T21:26:42.882Z"
   },
   {
    "duration": 119,
    "start_time": "2022-07-26T21:26:42.890Z"
   },
   {
    "duration": 20,
    "start_time": "2022-07-26T21:26:43.013Z"
   },
   {
    "duration": 151,
    "start_time": "2022-07-26T21:26:43.034Z"
   },
   {
    "duration": 10,
    "start_time": "2022-07-26T21:26:43.186Z"
   },
   {
    "duration": 122,
    "start_time": "2022-07-26T21:26:43.197Z"
   },
   {
    "duration": 16,
    "start_time": "2022-07-26T21:26:43.320Z"
   },
   {
    "duration": 116,
    "start_time": "2022-07-26T21:26:43.337Z"
   },
   {
    "duration": 9,
    "start_time": "2022-07-26T21:26:43.455Z"
   },
   {
    "duration": 6,
    "start_time": "2022-07-26T21:26:43.465Z"
   },
   {
    "duration": 5,
    "start_time": "2022-07-26T21:26:43.472Z"
   },
   {
    "duration": 19,
    "start_time": "2022-07-26T21:26:43.478Z"
   },
   {
    "duration": 211,
    "start_time": "2022-07-26T21:26:43.498Z"
   },
   {
    "duration": 29,
    "start_time": "2022-07-26T21:26:43.710Z"
   },
   {
    "duration": 8,
    "start_time": "2022-07-26T21:26:43.740Z"
   },
   {
    "duration": 8,
    "start_time": "2022-07-26T21:26:43.749Z"
   },
   {
    "duration": 21,
    "start_time": "2022-07-26T21:26:43.759Z"
   },
   {
    "duration": 13,
    "start_time": "2022-07-26T21:26:43.782Z"
   },
   {
    "duration": 35,
    "start_time": "2022-07-26T21:26:43.796Z"
   },
   {
    "duration": 41,
    "start_time": "2022-07-26T21:26:43.833Z"
   },
   {
    "duration": 11,
    "start_time": "2022-07-26T21:26:43.876Z"
   },
   {
    "duration": 11,
    "start_time": "2022-07-26T21:26:43.889Z"
   },
   {
    "duration": 37,
    "start_time": "2022-07-26T21:26:43.901Z"
   },
   {
    "duration": 8,
    "start_time": "2022-07-26T21:26:43.940Z"
   },
   {
    "duration": 7,
    "start_time": "2022-07-26T21:26:43.949Z"
   },
   {
    "duration": 8,
    "start_time": "2022-07-26T21:26:43.957Z"
   },
   {
    "duration": 12,
    "start_time": "2022-07-26T21:26:43.966Z"
   },
   {
    "duration": 10,
    "start_time": "2022-07-26T21:26:43.980Z"
   },
   {
    "duration": 46,
    "start_time": "2022-07-26T21:26:43.991Z"
   },
   {
    "duration": 6,
    "start_time": "2022-07-26T21:26:44.041Z"
   },
   {
    "duration": 13,
    "start_time": "2022-07-26T21:26:44.048Z"
   },
   {
    "duration": 11,
    "start_time": "2022-07-26T21:26:44.062Z"
   },
   {
    "duration": 2,
    "start_time": "2022-07-26T21:26:44.074Z"
   },
   {
    "duration": 4,
    "start_time": "2022-07-26T21:26:44.078Z"
   },
   {
    "duration": 12,
    "start_time": "2022-07-26T21:26:44.083Z"
   },
   {
    "duration": 41,
    "start_time": "2022-07-26T21:26:44.096Z"
   },
   {
    "duration": 10,
    "start_time": "2022-07-26T21:26:44.138Z"
   },
   {
    "duration": 5,
    "start_time": "2022-07-26T21:26:44.149Z"
   },
   {
    "duration": 11,
    "start_time": "2022-07-26T21:26:44.155Z"
   },
   {
    "duration": 10,
    "start_time": "2022-07-26T21:26:44.167Z"
   },
   {
    "duration": 2,
    "start_time": "2022-07-26T21:26:44.178Z"
   },
   {
    "duration": 5,
    "start_time": "2022-07-26T21:26:44.181Z"
   },
   {
    "duration": 8,
    "start_time": "2022-07-26T21:26:44.187Z"
   },
   {
    "duration": 36,
    "start_time": "2022-07-26T21:26:44.196Z"
   },
   {
    "duration": 6,
    "start_time": "2022-07-26T21:26:44.233Z"
   },
   {
    "duration": 7,
    "start_time": "2022-07-26T21:26:44.241Z"
   },
   {
    "duration": 7,
    "start_time": "2022-07-26T21:26:44.249Z"
   },
   {
    "duration": 6,
    "start_time": "2022-07-26T21:26:44.257Z"
   },
   {
    "duration": 67,
    "start_time": "2022-07-26T21:26:44.265Z"
   },
   {
    "duration": 9,
    "start_time": "2022-07-26T21:26:44.333Z"
   },
   {
    "duration": 8,
    "start_time": "2022-07-26T21:26:44.343Z"
   },
   {
    "duration": 16,
    "start_time": "2022-07-26T21:26:44.352Z"
   },
   {
    "duration": 391,
    "start_time": "2022-07-26T21:26:44.370Z"
   },
   {
    "duration": 84,
    "start_time": "2022-07-26T21:26:44.763Z"
   },
   {
    "duration": 21,
    "start_time": "2022-07-26T21:26:44.849Z"
   },
   {
    "duration": 6,
    "start_time": "2022-07-26T21:26:44.871Z"
   },
   {
    "duration": 828,
    "start_time": "2022-07-26T21:26:44.931Z"
   },
   {
    "duration": 451,
    "start_time": "2022-07-26T21:26:45.760Z"
   },
   {
    "duration": 458,
    "start_time": "2022-07-26T21:26:46.213Z"
   },
   {
    "duration": 294,
    "start_time": "2022-07-26T21:26:46.673Z"
   },
   {
    "duration": 259,
    "start_time": "2022-07-26T21:26:46.968Z"
   },
   {
    "duration": 119,
    "start_time": "2022-07-26T21:26:47.230Z"
   },
   {
    "duration": 7,
    "start_time": "2022-07-26T21:26:47.350Z"
   },
   {
    "duration": 240,
    "start_time": "2022-07-26T21:26:47.359Z"
   },
   {
    "duration": 630,
    "start_time": "2022-07-26T21:26:47.601Z"
   },
   {
    "duration": 4,
    "start_time": "2022-07-26T21:26:48.233Z"
   },
   {
    "duration": 15,
    "start_time": "2022-07-26T21:26:48.238Z"
   },
   {
    "duration": 223,
    "start_time": "2022-07-26T21:26:48.255Z"
   },
   {
    "duration": 13,
    "start_time": "2022-07-26T21:26:48.531Z"
   },
   {
    "duration": 114,
    "start_time": "2022-07-26T21:26:48.546Z"
   },
   {
    "duration": 297,
    "start_time": "2022-07-26T21:26:48.662Z"
   },
   {
    "duration": 279,
    "start_time": "2022-07-26T21:26:48.960Z"
   },
   {
    "duration": 6,
    "start_time": "2022-07-26T21:26:49.240Z"
   },
   {
    "duration": 13,
    "start_time": "2022-07-26T21:26:49.247Z"
   },
   {
    "duration": 19,
    "start_time": "2022-07-26T21:26:49.262Z"
   },
   {
    "duration": 64,
    "start_time": "2022-07-26T21:26:49.283Z"
   },
   {
    "duration": 6,
    "start_time": "2022-07-26T21:26:49.349Z"
   },
   {
    "duration": 15165,
    "start_time": "2022-07-26T21:26:49.356Z"
   },
   {
    "duration": 28,
    "start_time": "2022-07-26T21:27:04.523Z"
   },
   {
    "duration": 23,
    "start_time": "2022-07-26T21:27:04.552Z"
   },
   {
    "duration": 66,
    "start_time": "2022-07-26T21:30:39.166Z"
   },
   {
    "duration": 23,
    "start_time": "2022-07-26T21:30:47.757Z"
   },
   {
    "duration": 764,
    "start_time": "2022-07-27T17:31:57.386Z"
   },
   {
    "duration": 291,
    "start_time": "2022-07-27T17:31:58.152Z"
   },
   {
    "duration": 27,
    "start_time": "2022-07-27T17:31:58.446Z"
   },
   {
    "duration": 3,
    "start_time": "2022-07-27T17:31:58.475Z"
   },
   {
    "duration": 17,
    "start_time": "2022-07-27T17:31:58.479Z"
   },
   {
    "duration": 7,
    "start_time": "2022-07-27T17:31:58.498Z"
   },
   {
    "duration": 16,
    "start_time": "2022-07-27T17:31:58.506Z"
   },
   {
    "duration": 230,
    "start_time": "2022-07-27T17:31:58.524Z"
   },
   {
    "duration": 97,
    "start_time": "2022-07-27T17:31:58.756Z"
   },
   {
    "duration": 19,
    "start_time": "2022-07-27T17:31:58.857Z"
   },
   {
    "duration": 108,
    "start_time": "2022-07-27T17:31:58.878Z"
   },
   {
    "duration": 9,
    "start_time": "2022-07-27T17:31:58.988Z"
   },
   {
    "duration": 122,
    "start_time": "2022-07-27T17:31:58.998Z"
   },
   {
    "duration": 9,
    "start_time": "2022-07-27T17:31:59.122Z"
   },
   {
    "duration": 166,
    "start_time": "2022-07-27T17:31:59.133Z"
   },
   {
    "duration": 8,
    "start_time": "2022-07-27T17:31:59.301Z"
   },
   {
    "duration": 113,
    "start_time": "2022-07-27T17:31:59.311Z"
   },
   {
    "duration": 7,
    "start_time": "2022-07-27T17:31:59.426Z"
   },
   {
    "duration": 118,
    "start_time": "2022-07-27T17:31:59.435Z"
   },
   {
    "duration": 22,
    "start_time": "2022-07-27T17:31:59.555Z"
   },
   {
    "duration": 6,
    "start_time": "2022-07-27T17:31:59.578Z"
   },
   {
    "duration": 7,
    "start_time": "2022-07-27T17:31:59.585Z"
   },
   {
    "duration": 204,
    "start_time": "2022-07-27T17:31:59.594Z"
   },
   {
    "duration": 7,
    "start_time": "2022-07-27T17:31:59.800Z"
   },
   {
    "duration": 9,
    "start_time": "2022-07-27T17:31:59.809Z"
   },
   {
    "duration": 21,
    "start_time": "2022-07-27T17:31:59.820Z"
   },
   {
    "duration": 35,
    "start_time": "2022-07-27T17:31:59.842Z"
   },
   {
    "duration": 2,
    "start_time": "2022-07-27T17:31:59.881Z"
   },
   {
    "duration": 46,
    "start_time": "2022-07-27T17:31:59.884Z"
   },
   {
    "duration": 11,
    "start_time": "2022-07-27T17:31:59.932Z"
   },
   {
    "duration": 29,
    "start_time": "2022-07-27T17:31:59.944Z"
   },
   {
    "duration": 10,
    "start_time": "2022-07-27T17:31:59.975Z"
   },
   {
    "duration": 11,
    "start_time": "2022-07-27T17:31:59.986Z"
   },
   {
    "duration": 7,
    "start_time": "2022-07-27T17:31:59.999Z"
   },
   {
    "duration": 12,
    "start_time": "2022-07-27T17:32:00.008Z"
   },
   {
    "duration": 13,
    "start_time": "2022-07-27T17:32:00.023Z"
   },
   {
    "duration": 36,
    "start_time": "2022-07-27T17:32:00.038Z"
   },
   {
    "duration": 14,
    "start_time": "2022-07-27T17:32:00.075Z"
   },
   {
    "duration": 7,
    "start_time": "2022-07-27T17:32:00.090Z"
   },
   {
    "duration": 15,
    "start_time": "2022-07-27T17:32:00.098Z"
   },
   {
    "duration": 12,
    "start_time": "2022-07-27T17:32:00.114Z"
   },
   {
    "duration": 2,
    "start_time": "2022-07-27T17:32:00.127Z"
   },
   {
    "duration": 5,
    "start_time": "2022-07-27T17:32:00.131Z"
   },
   {
    "duration": 45,
    "start_time": "2022-07-27T17:32:00.138Z"
   },
   {
    "duration": 11,
    "start_time": "2022-07-27T17:32:00.185Z"
   },
   {
    "duration": 14,
    "start_time": "2022-07-27T17:32:00.197Z"
   },
   {
    "duration": 7,
    "start_time": "2022-07-27T17:32:00.212Z"
   },
   {
    "duration": 12,
    "start_time": "2022-07-27T17:32:00.220Z"
   },
   {
    "duration": 11,
    "start_time": "2022-07-27T17:32:00.234Z"
   },
   {
    "duration": 28,
    "start_time": "2022-07-27T17:32:00.246Z"
   },
   {
    "duration": 12,
    "start_time": "2022-07-27T17:32:00.276Z"
   },
   {
    "duration": 12,
    "start_time": "2022-07-27T17:32:00.289Z"
   },
   {
    "duration": 8,
    "start_time": "2022-07-27T17:32:00.303Z"
   },
   {
    "duration": 11,
    "start_time": "2022-07-27T17:32:00.312Z"
   },
   {
    "duration": 7,
    "start_time": "2022-07-27T17:32:00.325Z"
   },
   {
    "duration": 7,
    "start_time": "2022-07-27T17:32:00.333Z"
   },
   {
    "duration": 12,
    "start_time": "2022-07-27T17:32:00.341Z"
   },
   {
    "duration": 31,
    "start_time": "2022-07-27T17:32:00.355Z"
   },
   {
    "duration": 13,
    "start_time": "2022-07-27T17:32:00.387Z"
   },
   {
    "duration": 11,
    "start_time": "2022-07-27T17:32:00.401Z"
   },
   {
    "duration": 17,
    "start_time": "2022-07-27T17:32:00.413Z"
   },
   {
    "duration": 211,
    "start_time": "2022-07-27T17:32:00.431Z"
   },
   {
    "duration": 31,
    "start_time": "2022-07-27T17:32:00.644Z"
   },
   {
    "duration": 28,
    "start_time": "2022-07-27T17:32:00.676Z"
   },
   {
    "duration": 6,
    "start_time": "2022-07-27T17:32:00.705Z"
   },
   {
    "duration": 436,
    "start_time": "2022-07-27T17:32:00.712Z"
   },
   {
    "duration": 748,
    "start_time": "2022-07-27T17:32:01.150Z"
   },
   {
    "duration": 1208,
    "start_time": "2022-07-27T17:32:01.900Z"
   },
   {
    "duration": 306,
    "start_time": "2022-07-27T17:32:03.110Z"
   },
   {
    "duration": 230,
    "start_time": "2022-07-27T17:32:03.419Z"
   },
   {
    "duration": 109,
    "start_time": "2022-07-27T17:32:03.651Z"
   },
   {
    "duration": 15,
    "start_time": "2022-07-27T17:32:03.762Z"
   },
   {
    "duration": 236,
    "start_time": "2022-07-27T17:32:03.778Z"
   },
   {
    "duration": 315,
    "start_time": "2022-07-27T17:32:04.015Z"
   },
   {
    "duration": 5,
    "start_time": "2022-07-27T17:32:04.332Z"
   },
   {
    "duration": 18,
    "start_time": "2022-07-27T17:32:04.338Z"
   },
   {
    "duration": 137,
    "start_time": "2022-07-27T17:32:04.358Z"
   },
   {
    "duration": 12,
    "start_time": "2022-07-27T17:32:04.497Z"
   },
   {
    "duration": 84,
    "start_time": "2022-07-27T17:32:04.510Z"
   },
   {
    "duration": 151,
    "start_time": "2022-07-27T17:32:04.595Z"
   },
   {
    "duration": 149,
    "start_time": "2022-07-27T17:32:04.748Z"
   },
   {
    "duration": 7,
    "start_time": "2022-07-27T17:32:04.902Z"
   },
   {
    "duration": 19,
    "start_time": "2022-07-27T17:32:04.911Z"
   },
   {
    "duration": 22,
    "start_time": "2022-07-27T17:32:04.932Z"
   },
   {
    "duration": 35,
    "start_time": "2022-07-27T17:32:04.956Z"
   },
   {
    "duration": 6,
    "start_time": "2022-07-27T17:32:04.992Z"
   },
   {
    "duration": 17080,
    "start_time": "2022-07-27T17:32:05.000Z"
   },
   {
    "duration": 26,
    "start_time": "2022-07-27T17:32:22.081Z"
   },
   {
    "duration": 24,
    "start_time": "2022-07-27T17:32:22.109Z"
   },
   {
    "duration": 40,
    "start_time": "2022-07-27T17:42:43.265Z"
   },
   {
    "duration": 71,
    "start_time": "2022-07-27T17:43:55.115Z"
   },
   {
    "duration": 865,
    "start_time": "2022-07-29T14:39:42.611Z"
   },
   {
    "duration": 634,
    "start_time": "2022-07-29T14:39:43.479Z"
   },
   {
    "duration": 26,
    "start_time": "2022-07-29T14:39:44.115Z"
   },
   {
    "duration": 4,
    "start_time": "2022-07-29T14:39:44.143Z"
   },
   {
    "duration": 28,
    "start_time": "2022-07-29T14:39:44.148Z"
   },
   {
    "duration": 10,
    "start_time": "2022-07-29T14:39:44.178Z"
   },
   {
    "duration": 17,
    "start_time": "2022-07-29T14:39:44.189Z"
   },
   {
    "duration": 1925,
    "start_time": "2022-07-29T14:39:44.207Z"
   },
   {
    "duration": 247,
    "start_time": "2022-07-29T14:39:46.134Z"
   },
   {
    "duration": 129,
    "start_time": "2022-07-29T14:39:46.384Z"
   },
   {
    "duration": 12,
    "start_time": "2022-07-29T14:39:46.515Z"
   },
   {
    "duration": 149,
    "start_time": "2022-07-29T14:39:46.528Z"
   },
   {
    "duration": 11,
    "start_time": "2022-07-29T14:39:46.679Z"
   },
   {
    "duration": 139,
    "start_time": "2022-07-29T14:39:46.692Z"
   },
   {
    "duration": 8,
    "start_time": "2022-07-29T14:39:46.833Z"
   },
   {
    "duration": 134,
    "start_time": "2022-07-29T14:39:46.843Z"
   },
   {
    "duration": 9,
    "start_time": "2022-07-29T14:39:46.978Z"
   },
   {
    "duration": 117,
    "start_time": "2022-07-29T14:39:46.989Z"
   },
   {
    "duration": 8,
    "start_time": "2022-07-29T14:39:47.108Z"
   },
   {
    "duration": 201,
    "start_time": "2022-07-29T14:39:47.118Z"
   },
   {
    "duration": 9,
    "start_time": "2022-07-29T14:39:47.321Z"
   },
   {
    "duration": 9,
    "start_time": "2022-07-29T14:39:47.332Z"
   },
   {
    "duration": 7,
    "start_time": "2022-07-29T14:39:47.343Z"
   },
   {
    "duration": 274,
    "start_time": "2022-07-29T14:39:47.359Z"
   },
   {
    "duration": 64,
    "start_time": "2022-07-29T14:39:47.635Z"
   },
   {
    "duration": 7,
    "start_time": "2022-07-29T14:39:47.701Z"
   },
   {
    "duration": 15,
    "start_time": "2022-07-29T14:39:47.709Z"
   },
   {
    "duration": 44,
    "start_time": "2022-07-29T14:39:47.728Z"
   },
   {
    "duration": 13,
    "start_time": "2022-07-29T14:39:47.773Z"
   },
   {
    "duration": 45,
    "start_time": "2022-07-29T14:39:47.788Z"
   },
   {
    "duration": 10,
    "start_time": "2022-07-29T14:39:47.835Z"
   },
   {
    "duration": 35,
    "start_time": "2022-07-29T14:39:47.847Z"
   },
   {
    "duration": 12,
    "start_time": "2022-07-29T14:39:47.884Z"
   },
   {
    "duration": 11,
    "start_time": "2022-07-29T14:39:47.897Z"
   },
   {
    "duration": 15,
    "start_time": "2022-07-29T14:39:47.909Z"
   },
   {
    "duration": 7,
    "start_time": "2022-07-29T14:39:47.925Z"
   },
   {
    "duration": 6,
    "start_time": "2022-07-29T14:39:47.933Z"
   },
   {
    "duration": 7,
    "start_time": "2022-07-29T14:39:47.941Z"
   },
   {
    "duration": 115,
    "start_time": "2022-07-29T14:39:47.950Z"
   },
   {
    "duration": 7,
    "start_time": "2022-07-29T14:39:48.076Z"
   },
   {
    "duration": 418,
    "start_time": "2022-07-29T14:39:48.085Z"
   },
   {
    "duration": 65,
    "start_time": "2022-07-29T14:39:48.505Z"
   },
   {
    "duration": 9,
    "start_time": "2022-07-29T14:39:48.573Z"
   },
   {
    "duration": 11,
    "start_time": "2022-07-29T14:39:48.583Z"
   },
   {
    "duration": 7,
    "start_time": "2022-07-29T14:39:48.595Z"
   },
   {
    "duration": 7,
    "start_time": "2022-07-29T14:39:48.604Z"
   },
   {
    "duration": 515,
    "start_time": "2022-07-29T14:39:48.667Z"
   },
   {
    "duration": 5,
    "start_time": "2022-07-29T14:39:49.184Z"
   },
   {
    "duration": 15,
    "start_time": "2022-07-29T14:39:49.190Z"
   },
   {
    "duration": 55,
    "start_time": "2022-07-29T14:39:49.206Z"
   },
   {
    "duration": 15,
    "start_time": "2022-07-29T14:39:49.263Z"
   },
   {
    "duration": 20,
    "start_time": "2022-07-29T14:39:49.280Z"
   },
   {
    "duration": 296,
    "start_time": "2022-07-29T14:39:49.302Z"
   },
   {
    "duration": 5,
    "start_time": "2022-07-29T14:39:49.600Z"
   },
   {
    "duration": 70,
    "start_time": "2022-07-29T14:39:49.606Z"
   },
   {
    "duration": 14,
    "start_time": "2022-07-29T14:39:49.678Z"
   },
   {
    "duration": 17,
    "start_time": "2022-07-29T14:39:49.694Z"
   },
   {
    "duration": 51,
    "start_time": "2022-07-29T14:39:49.713Z"
   },
   {
    "duration": 513,
    "start_time": "2022-07-29T14:39:49.765Z"
   },
   {
    "duration": 5,
    "start_time": "2022-07-29T14:39:50.280Z"
   },
   {
    "duration": 11,
    "start_time": "2022-07-29T14:39:50.287Z"
   },
   {
    "duration": 7,
    "start_time": "2022-07-29T14:39:50.299Z"
   },
   {
    "duration": 60,
    "start_time": "2022-07-29T14:39:50.307Z"
   },
   {
    "duration": 15,
    "start_time": "2022-07-29T14:39:50.369Z"
   },
   {
    "duration": 294,
    "start_time": "2022-07-29T14:39:50.386Z"
   },
   {
    "duration": 10,
    "start_time": "2022-07-29T14:39:50.683Z"
   },
   {
    "duration": 19,
    "start_time": "2022-07-29T14:39:50.695Z"
   },
   {
    "duration": 63,
    "start_time": "2022-07-29T14:39:50.715Z"
   },
   {
    "duration": 30,
    "start_time": "2022-07-29T14:39:50.780Z"
   },
   {
    "duration": 52,
    "start_time": "2022-07-29T14:39:50.812Z"
   },
   {
    "duration": 13,
    "start_time": "2022-07-29T14:39:50.871Z"
   },
   {
    "duration": 383,
    "start_time": "2022-07-29T14:39:50.887Z"
   },
   {
    "duration": 9,
    "start_time": "2022-07-29T14:39:51.272Z"
   },
   {
    "duration": 30,
    "start_time": "2022-07-29T14:39:51.282Z"
   },
   {
    "duration": 52,
    "start_time": "2022-07-29T14:39:51.313Z"
   },
   {
    "duration": 39,
    "start_time": "2022-07-29T14:39:51.367Z"
   },
   {
    "duration": 54,
    "start_time": "2022-07-29T14:39:51.408Z"
   },
   {
    "duration": 13,
    "start_time": "2022-07-29T14:39:51.464Z"
   },
   {
    "duration": 21,
    "start_time": "2022-07-29T14:39:51.479Z"
   },
   {
    "duration": 67,
    "start_time": "2022-07-29T14:39:51.502Z"
   },
   {
    "duration": 432,
    "start_time": "2022-07-29T14:39:51.570Z"
   },
   {
    "duration": 7,
    "start_time": "2022-07-29T14:39:52.009Z"
   },
   {
    "duration": 59,
    "start_time": "2022-07-29T14:39:52.017Z"
   },
   {
    "duration": 24,
    "start_time": "2022-07-29T14:39:52.078Z"
   },
   {
    "duration": 22,
    "start_time": "2022-07-29T14:39:52.104Z"
   },
   {
    "duration": 28,
    "start_time": "2022-07-29T14:39:52.127Z"
   },
   {
    "duration": 22,
    "start_time": "2022-07-29T14:39:52.157Z"
   },
   {
    "duration": 142,
    "start_time": "2022-07-29T14:39:52.181Z"
   },
   {
    "duration": 5,
    "start_time": "2022-07-29T14:39:52.325Z"
   },
   {
    "duration": 14,
    "start_time": "2022-07-29T14:39:52.332Z"
   },
   {
    "duration": 40,
    "start_time": "2022-07-29T14:39:52.348Z"
   },
   {
    "duration": 18,
    "start_time": "2022-07-29T14:39:52.390Z"
   },
   {
    "duration": 157,
    "start_time": "2022-07-29T14:39:52.409Z"
   },
   {
    "duration": 6,
    "start_time": "2022-07-29T14:39:52.575Z"
   },
   {
    "duration": 27,
    "start_time": "2022-07-29T14:39:52.583Z"
   },
   {
    "duration": 25,
    "start_time": "2022-07-29T14:39:52.612Z"
   },
   {
    "duration": 13,
    "start_time": "2022-07-29T14:39:52.639Z"
   },
   {
    "duration": 227,
    "start_time": "2022-07-29T14:39:52.653Z"
   },
   {
    "duration": 4,
    "start_time": "2022-07-29T14:39:52.882Z"
   },
   {
    "duration": 8,
    "start_time": "2022-07-29T14:39:52.888Z"
   },
   {
    "duration": 12,
    "start_time": "2022-07-29T14:39:52.898Z"
   },
   {
    "duration": 10,
    "start_time": "2022-07-29T14:39:52.911Z"
   },
   {
    "duration": 154,
    "start_time": "2022-07-29T14:39:52.922Z"
   },
   {
    "duration": 7,
    "start_time": "2022-07-29T14:39:53.077Z"
   },
   {
    "duration": 12,
    "start_time": "2022-07-29T14:39:53.086Z"
   },
   {
    "duration": 16,
    "start_time": "2022-07-29T14:39:53.100Z"
   },
   {
    "duration": 10,
    "start_time": "2022-07-29T14:39:53.117Z"
   },
   {
    "duration": 14,
    "start_time": "2022-07-29T14:39:53.129Z"
   },
   {
    "duration": 245,
    "start_time": "2022-07-29T14:39:53.145Z"
   },
   {
    "duration": 6,
    "start_time": "2022-07-29T14:39:53.392Z"
   },
   {
    "duration": 16,
    "start_time": "2022-07-29T14:39:53.400Z"
   },
   {
    "duration": 7,
    "start_time": "2022-07-29T14:39:53.417Z"
   },
   {
    "duration": 12,
    "start_time": "2022-07-29T14:39:53.425Z"
   },
   {
    "duration": 14,
    "start_time": "2022-07-29T14:39:53.439Z"
   },
   {
    "duration": 23,
    "start_time": "2022-07-29T14:39:53.454Z"
   },
   {
    "duration": 11,
    "start_time": "2022-07-29T14:39:53.479Z"
   },
   {
    "duration": 17,
    "start_time": "2022-07-29T14:39:53.492Z"
   },
   {
    "duration": 10,
    "start_time": "2022-07-29T14:39:53.511Z"
   },
   {
    "duration": 18,
    "start_time": "2022-07-29T14:39:53.522Z"
   },
   {
    "duration": 16,
    "start_time": "2022-07-29T14:39:53.541Z"
   },
   {
    "duration": 23,
    "start_time": "2022-07-29T14:39:53.558Z"
   },
   {
    "duration": 14,
    "start_time": "2022-07-29T14:39:53.582Z"
   },
   {
    "duration": 25,
    "start_time": "2022-07-29T14:39:53.597Z"
   },
   {
    "duration": 8,
    "start_time": "2022-07-29T14:39:53.624Z"
   },
   {
    "duration": 8,
    "start_time": "2022-07-29T14:39:53.633Z"
   },
   {
    "duration": 29,
    "start_time": "2022-07-29T14:39:53.642Z"
   },
   {
    "duration": 247,
    "start_time": "2022-07-29T14:39:53.673Z"
   },
   {
    "duration": 30,
    "start_time": "2022-07-29T14:39:53.922Z"
   },
   {
    "duration": 25,
    "start_time": "2022-07-29T14:39:53.967Z"
   },
   {
    "duration": 443,
    "start_time": "2022-07-29T14:39:53.994Z"
   },
   {
    "duration": 568,
    "start_time": "2022-07-29T14:39:54.439Z"
   },
   {
    "duration": 461,
    "start_time": "2022-07-29T14:39:55.009Z"
   },
   {
    "duration": 332,
    "start_time": "2022-07-29T14:39:55.474Z"
   },
   {
    "duration": 600,
    "start_time": "2022-07-29T14:39:55.808Z"
   },
   {
    "duration": 385,
    "start_time": "2022-07-29T14:39:56.409Z"
   },
   {
    "duration": 9,
    "start_time": "2022-07-29T14:39:56.796Z"
   },
   {
    "duration": 868,
    "start_time": "2022-07-29T14:39:56.806Z"
   },
   {
    "duration": 309,
    "start_time": "2022-07-29T14:39:57.676Z"
   },
   {
    "duration": 4,
    "start_time": "2022-07-29T14:39:57.987Z"
   },
   {
    "duration": 17,
    "start_time": "2022-07-29T14:39:57.993Z"
   },
   {
    "duration": 170,
    "start_time": "2022-07-29T14:39:58.012Z"
   },
   {
    "duration": 11,
    "start_time": "2022-07-29T14:39:58.184Z"
   },
   {
    "duration": 80,
    "start_time": "2022-07-29T14:39:58.197Z"
   },
   {
    "duration": 156,
    "start_time": "2022-07-29T14:39:58.278Z"
   },
   {
    "duration": 142,
    "start_time": "2022-07-29T14:39:58.435Z"
   },
   {
    "duration": 6,
    "start_time": "2022-07-29T14:39:58.578Z"
   },
   {
    "duration": 12,
    "start_time": "2022-07-29T14:39:58.586Z"
   },
   {
    "duration": 20,
    "start_time": "2022-07-29T14:39:58.600Z"
   },
   {
    "duration": 53,
    "start_time": "2022-07-29T14:39:58.621Z"
   },
   {
    "duration": 7,
    "start_time": "2022-07-29T14:39:58.677Z"
   },
   {
    "duration": 21423,
    "start_time": "2022-07-29T14:39:58.686Z"
   },
   {
    "duration": 27,
    "start_time": "2022-07-29T14:40:20.111Z"
   },
   {
    "duration": 44,
    "start_time": "2022-07-29T14:40:20.140Z"
   },
   {
    "duration": 647,
    "start_time": "2022-07-29T15:38:58.377Z"
   },
   {
    "duration": 91,
    "start_time": "2022-07-29T15:38:59.026Z"
   },
   {
    "duration": 42,
    "start_time": "2022-07-29T15:38:59.118Z"
   },
   {
    "duration": 5,
    "start_time": "2022-07-29T15:38:59.162Z"
   },
   {
    "duration": 18,
    "start_time": "2022-07-29T15:38:59.168Z"
   },
   {
    "duration": 10,
    "start_time": "2022-07-29T15:38:59.188Z"
   },
   {
    "duration": 23,
    "start_time": "2022-07-29T15:38:59.199Z"
   },
   {
    "duration": 1960,
    "start_time": "2022-07-29T15:38:59.224Z"
   },
   {
    "duration": 191,
    "start_time": "2022-07-29T15:39:01.186Z"
   },
   {
    "duration": 115,
    "start_time": "2022-07-29T15:39:01.381Z"
   },
   {
    "duration": 9,
    "start_time": "2022-07-29T15:39:01.498Z"
   },
   {
    "duration": 118,
    "start_time": "2022-07-29T15:39:01.509Z"
   },
   {
    "duration": 9,
    "start_time": "2022-07-29T15:39:01.629Z"
   },
   {
    "duration": 146,
    "start_time": "2022-07-29T15:39:01.640Z"
   },
   {
    "duration": 10,
    "start_time": "2022-07-29T15:39:01.788Z"
   },
   {
    "duration": 162,
    "start_time": "2022-07-29T15:39:01.800Z"
   },
   {
    "duration": 10,
    "start_time": "2022-07-29T15:39:01.964Z"
   },
   {
    "duration": 129,
    "start_time": "2022-07-29T15:39:01.975Z"
   },
   {
    "duration": 8,
    "start_time": "2022-07-29T15:39:02.106Z"
   },
   {
    "duration": 221,
    "start_time": "2022-07-29T15:39:02.115Z"
   },
   {
    "duration": 12,
    "start_time": "2022-07-29T15:39:02.338Z"
   },
   {
    "duration": 19,
    "start_time": "2022-07-29T15:39:02.360Z"
   },
   {
    "duration": 20,
    "start_time": "2022-07-29T15:39:02.381Z"
   },
   {
    "duration": 397,
    "start_time": "2022-07-29T15:39:02.403Z"
   },
   {
    "duration": 161,
    "start_time": "2022-07-29T15:39:02.801Z"
   },
   {
    "duration": 8,
    "start_time": "2022-07-29T15:39:02.963Z"
   },
   {
    "duration": 39,
    "start_time": "2022-07-29T15:39:02.972Z"
   },
   {
    "duration": 60,
    "start_time": "2022-07-29T15:39:03.015Z"
   },
   {
    "duration": 18,
    "start_time": "2022-07-29T15:39:03.076Z"
   },
   {
    "duration": 102,
    "start_time": "2022-07-29T15:39:03.096Z"
   },
   {
    "duration": 61,
    "start_time": "2022-07-29T15:39:03.200Z"
   },
   {
    "duration": 10,
    "start_time": "2022-07-29T15:39:03.262Z"
   },
   {
    "duration": 32,
    "start_time": "2022-07-29T15:39:03.274Z"
   },
   {
    "duration": 58,
    "start_time": "2022-07-29T15:39:03.307Z"
   },
   {
    "duration": 28,
    "start_time": "2022-07-29T15:39:03.366Z"
   },
   {
    "duration": 19,
    "start_time": "2022-07-29T15:39:03.396Z"
   },
   {
    "duration": 46,
    "start_time": "2022-07-29T15:39:03.417Z"
   },
   {
    "duration": 21,
    "start_time": "2022-07-29T15:39:03.465Z"
   },
   {
    "duration": 203,
    "start_time": "2022-07-29T15:39:03.488Z"
   },
   {
    "duration": 7,
    "start_time": "2022-07-29T15:39:03.693Z"
   },
   {
    "duration": 60,
    "start_time": "2022-07-29T15:39:03.701Z"
   },
   {
    "duration": 450,
    "start_time": "2022-07-29T15:39:03.763Z"
   },
   {
    "duration": 7,
    "start_time": "2022-07-29T15:39:04.215Z"
   },
   {
    "duration": 7,
    "start_time": "2022-07-29T15:39:04.261Z"
   },
   {
    "duration": 63,
    "start_time": "2022-07-29T15:39:04.269Z"
   },
   {
    "duration": 51,
    "start_time": "2022-07-29T15:39:04.334Z"
   },
   {
    "duration": 47,
    "start_time": "2022-07-29T15:39:04.387Z"
   },
   {
    "duration": 303,
    "start_time": "2022-07-29T15:39:04.436Z"
   },
   {
    "duration": 6,
    "start_time": "2022-07-29T15:39:04.740Z"
   },
   {
    "duration": 45,
    "start_time": "2022-07-29T15:39:04.747Z"
   },
   {
    "duration": 53,
    "start_time": "2022-07-29T15:39:04.794Z"
   },
   {
    "duration": 17,
    "start_time": "2022-07-29T15:39:04.849Z"
   },
   {
    "duration": 44,
    "start_time": "2022-07-29T15:39:04.868Z"
   },
   {
    "duration": 186,
    "start_time": "2022-07-29T15:39:04.914Z"
   },
   {
    "duration": 5,
    "start_time": "2022-07-29T15:39:05.102Z"
   },
   {
    "duration": 57,
    "start_time": "2022-07-29T15:39:05.109Z"
   },
   {
    "duration": 11,
    "start_time": "2022-07-29T15:39:05.168Z"
   },
   {
    "duration": 12,
    "start_time": "2022-07-29T15:39:05.180Z"
   },
   {
    "duration": 13,
    "start_time": "2022-07-29T15:39:05.194Z"
   },
   {
    "duration": 280,
    "start_time": "2022-07-29T15:39:05.210Z"
   },
   {
    "duration": 5,
    "start_time": "2022-07-29T15:39:05.492Z"
   },
   {
    "duration": 20,
    "start_time": "2022-07-29T15:39:05.498Z"
   },
   {
    "duration": 12,
    "start_time": "2022-07-29T15:39:05.520Z"
   },
   {
    "duration": 10,
    "start_time": "2022-07-29T15:39:05.533Z"
   },
   {
    "duration": 16,
    "start_time": "2022-07-29T15:39:05.545Z"
   },
   {
    "duration": 130,
    "start_time": "2022-07-29T15:39:05.563Z"
   },
   {
    "duration": 7,
    "start_time": "2022-07-29T15:39:05.695Z"
   },
   {
    "duration": 5,
    "start_time": "2022-07-29T15:39:05.703Z"
   },
   {
    "duration": 6,
    "start_time": "2022-07-29T15:39:05.709Z"
   },
   {
    "duration": 11,
    "start_time": "2022-07-29T15:39:05.716Z"
   },
   {
    "duration": 8,
    "start_time": "2022-07-29T15:39:05.760Z"
   },
   {
    "duration": 8,
    "start_time": "2022-07-29T15:39:05.770Z"
   },
   {
    "duration": 181,
    "start_time": "2022-07-29T15:39:05.779Z"
   },
   {
    "duration": 8,
    "start_time": "2022-07-29T15:39:05.962Z"
   },
   {
    "duration": 7,
    "start_time": "2022-07-29T15:39:05.971Z"
   },
   {
    "duration": 12,
    "start_time": "2022-07-29T15:39:05.980Z"
   },
   {
    "duration": 8,
    "start_time": "2022-07-29T15:39:05.993Z"
   },
   {
    "duration": 20,
    "start_time": "2022-07-29T15:39:06.002Z"
   },
   {
    "duration": 3,
    "start_time": "2022-07-29T15:39:06.023Z"
   },
   {
    "duration": 31,
    "start_time": "2022-07-29T15:39:06.027Z"
   },
   {
    "duration": 11,
    "start_time": "2022-07-29T15:39:06.059Z"
   },
   {
    "duration": 180,
    "start_time": "2022-07-29T15:39:06.163Z"
   },
   {
    "duration": 15,
    "start_time": "2022-07-29T15:39:06.345Z"
   },
   {
    "duration": 28,
    "start_time": "2022-07-29T15:39:06.362Z"
   },
   {
    "duration": 10,
    "start_time": "2022-07-29T15:39:06.392Z"
   },
   {
    "duration": 13,
    "start_time": "2022-07-29T15:39:06.405Z"
   },
   {
    "duration": 9,
    "start_time": "2022-07-29T15:39:06.422Z"
   },
   {
    "duration": 14,
    "start_time": "2022-07-29T15:39:06.433Z"
   },
   {
    "duration": 173,
    "start_time": "2022-07-29T15:39:06.448Z"
   },
   {
    "duration": 5,
    "start_time": "2022-07-29T15:39:06.622Z"
   },
   {
    "duration": 8,
    "start_time": "2022-07-29T15:39:06.628Z"
   },
   {
    "duration": 24,
    "start_time": "2022-07-29T15:39:06.637Z"
   },
   {
    "duration": 7,
    "start_time": "2022-07-29T15:39:06.663Z"
   },
   {
    "duration": 150,
    "start_time": "2022-07-29T15:39:06.671Z"
   },
   {
    "duration": 5,
    "start_time": "2022-07-29T15:39:06.823Z"
   },
   {
    "duration": 16,
    "start_time": "2022-07-29T15:39:06.829Z"
   },
   {
    "duration": 16,
    "start_time": "2022-07-29T15:39:06.846Z"
   },
   {
    "duration": 8,
    "start_time": "2022-07-29T15:39:06.864Z"
   },
   {
    "duration": 203,
    "start_time": "2022-07-29T15:39:06.873Z"
   },
   {
    "duration": 6,
    "start_time": "2022-07-29T15:39:07.078Z"
   },
   {
    "duration": 8,
    "start_time": "2022-07-29T15:39:07.085Z"
   },
   {
    "duration": 11,
    "start_time": "2022-07-29T15:39:07.095Z"
   },
   {
    "duration": 7,
    "start_time": "2022-07-29T15:39:07.108Z"
   },
   {
    "duration": 154,
    "start_time": "2022-07-29T15:39:07.116Z"
   },
   {
    "duration": 8,
    "start_time": "2022-07-29T15:39:07.272Z"
   },
   {
    "duration": 6,
    "start_time": "2022-07-29T15:39:07.282Z"
   },
   {
    "duration": 10,
    "start_time": "2022-07-29T15:39:07.289Z"
   },
   {
    "duration": 9,
    "start_time": "2022-07-29T15:39:07.300Z"
   },
   {
    "duration": 7,
    "start_time": "2022-07-29T15:39:07.310Z"
   },
   {
    "duration": 270,
    "start_time": "2022-07-29T15:39:07.318Z"
   },
   {
    "duration": 9,
    "start_time": "2022-07-29T15:39:07.591Z"
   },
   {
    "duration": 8,
    "start_time": "2022-07-29T15:39:07.602Z"
   },
   {
    "duration": 12,
    "start_time": "2022-07-29T15:39:07.611Z"
   },
   {
    "duration": 9,
    "start_time": "2022-07-29T15:39:07.624Z"
   },
   {
    "duration": 29,
    "start_time": "2022-07-29T15:39:07.635Z"
   },
   {
    "duration": 7,
    "start_time": "2022-07-29T15:39:07.666Z"
   },
   {
    "duration": 9,
    "start_time": "2022-07-29T15:39:07.675Z"
   },
   {
    "duration": 19,
    "start_time": "2022-07-29T15:39:07.686Z"
   },
   {
    "duration": 11,
    "start_time": "2022-07-29T15:39:07.707Z"
   },
   {
    "duration": 37,
    "start_time": "2022-07-29T15:39:07.720Z"
   },
   {
    "duration": 26,
    "start_time": "2022-07-29T15:39:07.760Z"
   },
   {
    "duration": 29,
    "start_time": "2022-07-29T15:39:07.788Z"
   },
   {
    "duration": 26,
    "start_time": "2022-07-29T15:39:07.819Z"
   },
   {
    "duration": 40,
    "start_time": "2022-07-29T15:39:07.847Z"
   },
   {
    "duration": 12,
    "start_time": "2022-07-29T15:39:07.889Z"
   },
   {
    "duration": 25,
    "start_time": "2022-07-29T15:39:07.903Z"
   },
   {
    "duration": 29,
    "start_time": "2022-07-29T15:39:07.930Z"
   },
   {
    "duration": 264,
    "start_time": "2022-07-29T15:39:07.961Z"
   },
   {
    "duration": 34,
    "start_time": "2022-07-29T15:39:08.227Z"
   },
   {
    "duration": 25,
    "start_time": "2022-07-29T15:39:08.263Z"
   },
   {
    "duration": 440,
    "start_time": "2022-07-29T15:39:08.289Z"
   },
   {
    "duration": 564,
    "start_time": "2022-07-29T15:39:08.731Z"
   },
   {
    "duration": 426,
    "start_time": "2022-07-29T15:39:09.296Z"
   },
   {
    "duration": 338,
    "start_time": "2022-07-29T15:39:09.724Z"
   },
   {
    "duration": 263,
    "start_time": "2022-07-29T15:39:10.064Z"
   },
   {
    "duration": 233,
    "start_time": "2022-07-29T15:39:10.329Z"
   },
   {
    "duration": 9,
    "start_time": "2022-07-29T15:39:10.564Z"
   },
   {
    "duration": 911,
    "start_time": "2022-07-29T15:39:10.574Z"
   },
   {
    "duration": 497,
    "start_time": "2022-07-29T15:39:11.487Z"
   },
   {
    "duration": 5,
    "start_time": "2022-07-29T15:39:11.987Z"
   },
   {
    "duration": 73,
    "start_time": "2022-07-29T15:39:11.994Z"
   },
   {
    "duration": 162,
    "start_time": "2022-07-29T15:39:12.069Z"
   },
   {
    "duration": 13,
    "start_time": "2022-07-29T15:39:12.232Z"
   },
   {
    "duration": 86,
    "start_time": "2022-07-29T15:39:12.246Z"
   },
   {
    "duration": 165,
    "start_time": "2022-07-29T15:39:12.334Z"
   },
   {
    "duration": 140,
    "start_time": "2022-07-29T15:39:12.501Z"
   },
   {
    "duration": 7,
    "start_time": "2022-07-29T15:39:12.643Z"
   },
   {
    "duration": 11,
    "start_time": "2022-07-29T15:39:12.661Z"
   },
   {
    "duration": 23,
    "start_time": "2022-07-29T15:39:12.674Z"
   },
   {
    "duration": 21,
    "start_time": "2022-07-29T15:39:12.699Z"
   },
   {
    "duration": 40,
    "start_time": "2022-07-29T15:39:12.722Z"
   },
   {
    "duration": 21168,
    "start_time": "2022-07-29T15:39:12.763Z"
   },
   {
    "duration": 37,
    "start_time": "2022-07-29T15:39:33.933Z"
   },
   {
    "duration": 25,
    "start_time": "2022-07-29T15:39:33.972Z"
   },
   {
    "duration": 1514,
    "start_time": "2022-07-29T16:03:59.452Z"
   },
   {
    "duration": 9,
    "start_time": "2022-07-29T16:04:22.022Z"
   },
   {
    "duration": 694,
    "start_time": "2022-07-29T16:04:53.434Z"
   },
   {
    "duration": 87,
    "start_time": "2022-07-29T16:04:54.130Z"
   },
   {
    "duration": 42,
    "start_time": "2022-07-29T16:04:54.219Z"
   },
   {
    "duration": 3,
    "start_time": "2022-07-29T16:04:54.263Z"
   },
   {
    "duration": 18,
    "start_time": "2022-07-29T16:04:54.267Z"
   },
   {
    "duration": 8,
    "start_time": "2022-07-29T16:04:54.286Z"
   },
   {
    "duration": 16,
    "start_time": "2022-07-29T16:04:54.296Z"
   },
   {
    "duration": 1854,
    "start_time": "2022-07-29T16:04:54.314Z"
   },
   {
    "duration": 260,
    "start_time": "2022-07-29T16:04:56.169Z"
   },
   {
    "duration": 112,
    "start_time": "2022-07-29T16:04:56.432Z"
   },
   {
    "duration": 21,
    "start_time": "2022-07-29T16:04:56.546Z"
   },
   {
    "duration": 104,
    "start_time": "2022-07-29T16:04:56.568Z"
   },
   {
    "duration": 9,
    "start_time": "2022-07-29T16:04:56.673Z"
   },
   {
    "duration": 142,
    "start_time": "2022-07-29T16:04:56.684Z"
   },
   {
    "duration": 8,
    "start_time": "2022-07-29T16:04:56.828Z"
   },
   {
    "duration": 108,
    "start_time": "2022-07-29T16:04:56.837Z"
   },
   {
    "duration": 22,
    "start_time": "2022-07-29T16:04:56.947Z"
   },
   {
    "duration": 115,
    "start_time": "2022-07-29T16:04:56.971Z"
   },
   {
    "duration": 8,
    "start_time": "2022-07-29T16:04:57.088Z"
   },
   {
    "duration": 225,
    "start_time": "2022-07-29T16:04:57.098Z"
   },
   {
    "duration": 11,
    "start_time": "2022-07-29T16:04:57.325Z"
   },
   {
    "duration": 6,
    "start_time": "2022-07-29T16:04:57.337Z"
   },
   {
    "duration": 3,
    "start_time": "2022-07-29T16:04:57.361Z"
   },
   {
    "duration": 248,
    "start_time": "2022-07-29T16:04:57.365Z"
   },
   {
    "duration": 8,
    "start_time": "2022-07-29T16:04:57.615Z"
   },
   {
    "duration": 13,
    "start_time": "2022-07-29T16:04:57.625Z"
   },
   {
    "duration": 36,
    "start_time": "2022-07-29T16:04:57.640Z"
   },
   {
    "duration": 10,
    "start_time": "2022-07-29T16:04:57.680Z"
   },
   {
    "duration": 41,
    "start_time": "2022-07-29T16:04:57.692Z"
   },
   {
    "duration": 32,
    "start_time": "2022-07-29T16:04:57.735Z"
   },
   {
    "duration": 10,
    "start_time": "2022-07-29T16:04:57.769Z"
   },
   {
    "duration": 10,
    "start_time": "2022-07-29T16:04:57.780Z"
   },
   {
    "duration": 11,
    "start_time": "2022-07-29T16:04:57.791Z"
   },
   {
    "duration": 10,
    "start_time": "2022-07-29T16:04:57.804Z"
   },
   {
    "duration": 7,
    "start_time": "2022-07-29T16:04:57.816Z"
   },
   {
    "duration": 8,
    "start_time": "2022-07-29T16:04:57.825Z"
   },
   {
    "duration": 8,
    "start_time": "2022-07-29T16:04:57.861Z"
   },
   {
    "duration": 104,
    "start_time": "2022-07-29T16:04:57.870Z"
   },
   {
    "duration": 7,
    "start_time": "2022-07-29T16:04:57.975Z"
   },
   {
    "duration": 5,
    "start_time": "2022-07-29T16:04:57.983Z"
   },
   {
    "duration": 226,
    "start_time": "2022-07-29T16:04:57.990Z"
   },
   {
    "duration": 6,
    "start_time": "2022-07-29T16:04:58.218Z"
   },
   {
    "duration": 9,
    "start_time": "2022-07-29T16:04:58.225Z"
   },
   {
    "duration": 12,
    "start_time": "2022-07-29T16:04:58.236Z"
   },
   {
    "duration": 18,
    "start_time": "2022-07-29T16:04:58.249Z"
   },
   {
    "duration": 14,
    "start_time": "2022-07-29T16:04:58.268Z"
   },
   {
    "duration": 256,
    "start_time": "2022-07-29T16:04:58.283Z"
   },
   {
    "duration": 5,
    "start_time": "2022-07-29T16:04:58.540Z"
   },
   {
    "duration": 14,
    "start_time": "2022-07-29T16:04:58.547Z"
   },
   {
    "duration": 5,
    "start_time": "2022-07-29T16:04:58.563Z"
   },
   {
    "duration": 9,
    "start_time": "2022-07-29T16:04:58.569Z"
   },
   {
    "duration": 8,
    "start_time": "2022-07-29T16:04:58.580Z"
   },
   {
    "duration": 161,
    "start_time": "2022-07-29T16:04:58.589Z"
   },
   {
    "duration": 12,
    "start_time": "2022-07-29T16:04:58.751Z"
   },
   {
    "duration": 13,
    "start_time": "2022-07-29T16:04:58.765Z"
   },
   {
    "duration": 8,
    "start_time": "2022-07-29T16:04:58.780Z"
   },
   {
    "duration": 9,
    "start_time": "2022-07-29T16:04:58.790Z"
   },
   {
    "duration": 8,
    "start_time": "2022-07-29T16:04:58.800Z"
   },
   {
    "duration": 244,
    "start_time": "2022-07-29T16:04:58.810Z"
   },
   {
    "duration": 5,
    "start_time": "2022-07-29T16:04:59.060Z"
   },
   {
    "duration": 10,
    "start_time": "2022-07-29T16:04:59.066Z"
   },
   {
    "duration": 6,
    "start_time": "2022-07-29T16:04:59.078Z"
   },
   {
    "duration": 19,
    "start_time": "2022-07-29T16:04:59.086Z"
   },
   {
    "duration": 6,
    "start_time": "2022-07-29T16:04:59.107Z"
   },
   {
    "duration": 123,
    "start_time": "2022-07-29T16:04:59.115Z"
   },
   {
    "duration": 8,
    "start_time": "2022-07-29T16:04:59.239Z"
   },
   {
    "duration": 6,
    "start_time": "2022-07-29T16:04:59.260Z"
   },
   {
    "duration": 9,
    "start_time": "2022-07-29T16:04:59.267Z"
   },
   {
    "duration": 18,
    "start_time": "2022-07-29T16:04:59.278Z"
   },
   {
    "duration": 9,
    "start_time": "2022-07-29T16:04:59.297Z"
   },
   {
    "duration": 9,
    "start_time": "2022-07-29T16:04:59.308Z"
   },
   {
    "duration": 193,
    "start_time": "2022-07-29T16:04:59.319Z"
   },
   {
    "duration": 9,
    "start_time": "2022-07-29T16:04:59.513Z"
   },
   {
    "duration": 7,
    "start_time": "2022-07-29T16:04:59.523Z"
   },
   {
    "duration": 10,
    "start_time": "2022-07-29T16:04:59.532Z"
   },
   {
    "duration": 5,
    "start_time": "2022-07-29T16:04:59.560Z"
   },
   {
    "duration": 8,
    "start_time": "2022-07-29T16:04:59.567Z"
   },
   {
    "duration": 13,
    "start_time": "2022-07-29T16:04:59.577Z"
   },
   {
    "duration": 10,
    "start_time": "2022-07-29T16:04:59.591Z"
   },
   {
    "duration": 6,
    "start_time": "2022-07-29T16:04:59.603Z"
   },
   {
    "duration": 10,
    "start_time": "2022-07-29T16:04:59.611Z"
   },
   {
    "duration": 140,
    "start_time": "2022-07-29T16:04:59.728Z"
   },
   {
    "duration": 7,
    "start_time": "2022-07-29T16:04:59.870Z"
   },
   {
    "duration": 20,
    "start_time": "2022-07-29T16:04:59.878Z"
   },
   {
    "duration": 18,
    "start_time": "2022-07-29T16:04:59.900Z"
   },
   {
    "duration": 20,
    "start_time": "2022-07-29T16:04:59.920Z"
   },
   {
    "duration": 11,
    "start_time": "2022-07-29T16:04:59.942Z"
   },
   {
    "duration": 8,
    "start_time": "2022-07-29T16:04:59.955Z"
   },
   {
    "duration": 142,
    "start_time": "2022-07-29T16:04:59.964Z"
   },
   {
    "duration": 5,
    "start_time": "2022-07-29T16:05:00.108Z"
   },
   {
    "duration": 10,
    "start_time": "2022-07-29T16:05:00.114Z"
   },
   {
    "duration": 22,
    "start_time": "2022-07-29T16:05:00.126Z"
   },
   {
    "duration": 13,
    "start_time": "2022-07-29T16:05:00.150Z"
   },
   {
    "duration": 141,
    "start_time": "2022-07-29T16:05:00.165Z"
   },
   {
    "duration": 6,
    "start_time": "2022-07-29T16:05:00.308Z"
   },
   {
    "duration": 15,
    "start_time": "2022-07-29T16:05:00.315Z"
   },
   {
    "duration": 28,
    "start_time": "2022-07-29T16:05:00.332Z"
   },
   {
    "duration": 8,
    "start_time": "2022-07-29T16:05:00.362Z"
   },
   {
    "duration": 200,
    "start_time": "2022-07-29T16:05:00.371Z"
   },
   {
    "duration": 5,
    "start_time": "2022-07-29T16:05:00.573Z"
   },
   {
    "duration": 17,
    "start_time": "2022-07-29T16:05:00.579Z"
   },
   {
    "duration": 12,
    "start_time": "2022-07-29T16:05:00.597Z"
   },
   {
    "duration": 17,
    "start_time": "2022-07-29T16:05:00.611Z"
   },
   {
    "duration": 159,
    "start_time": "2022-07-29T16:05:00.630Z"
   },
   {
    "duration": 8,
    "start_time": "2022-07-29T16:05:00.791Z"
   },
   {
    "duration": 7,
    "start_time": "2022-07-29T16:05:00.800Z"
   },
   {
    "duration": 28,
    "start_time": "2022-07-29T16:05:00.808Z"
   },
   {
    "duration": 17,
    "start_time": "2022-07-29T16:05:00.838Z"
   },
   {
    "duration": 9,
    "start_time": "2022-07-29T16:05:00.857Z"
   },
   {
    "duration": 224,
    "start_time": "2022-07-29T16:05:00.867Z"
   },
   {
    "duration": 8,
    "start_time": "2022-07-29T16:05:01.092Z"
   },
   {
    "duration": 14,
    "start_time": "2022-07-29T16:05:01.101Z"
   },
   {
    "duration": 30,
    "start_time": "2022-07-29T16:05:01.117Z"
   },
   {
    "duration": 19,
    "start_time": "2022-07-29T16:05:01.149Z"
   },
   {
    "duration": 23,
    "start_time": "2022-07-29T16:05:01.170Z"
   },
   {
    "duration": 3,
    "start_time": "2022-07-29T16:05:01.195Z"
   },
   {
    "duration": 12,
    "start_time": "2022-07-29T16:05:01.200Z"
   },
   {
    "duration": 18,
    "start_time": "2022-07-29T16:05:01.213Z"
   },
   {
    "duration": 19,
    "start_time": "2022-07-29T16:05:01.233Z"
   },
   {
    "duration": 41,
    "start_time": "2022-07-29T16:05:01.253Z"
   },
   {
    "duration": 23,
    "start_time": "2022-07-29T16:05:01.296Z"
   },
   {
    "duration": 17,
    "start_time": "2022-07-29T16:05:01.320Z"
   },
   {
    "duration": 32,
    "start_time": "2022-07-29T16:05:01.338Z"
   },
   {
    "duration": 33,
    "start_time": "2022-07-29T16:05:01.372Z"
   },
   {
    "duration": 10,
    "start_time": "2022-07-29T16:05:01.407Z"
   },
   {
    "duration": 20,
    "start_time": "2022-07-29T16:05:01.418Z"
   },
   {
    "duration": 24,
    "start_time": "2022-07-29T16:05:01.439Z"
   },
   {
    "duration": 256,
    "start_time": "2022-07-29T16:05:01.465Z"
   },
   {
    "duration": 31,
    "start_time": "2022-07-29T16:05:01.723Z"
   },
   {
    "duration": 24,
    "start_time": "2022-07-29T16:05:01.760Z"
   },
   {
    "duration": 441,
    "start_time": "2022-07-29T16:05:01.786Z"
   },
   {
    "duration": 544,
    "start_time": "2022-07-29T16:05:02.228Z"
   },
   {
    "duration": 434,
    "start_time": "2022-07-29T16:05:02.774Z"
   },
   {
    "duration": 335,
    "start_time": "2022-07-29T16:05:03.210Z"
   },
   {
    "duration": 263,
    "start_time": "2022-07-29T16:05:03.547Z"
   },
   {
    "duration": 148,
    "start_time": "2022-07-29T16:05:03.813Z"
   },
   {
    "duration": 9,
    "start_time": "2022-07-29T16:05:03.963Z"
   },
   {
    "duration": 439,
    "start_time": "2022-07-29T16:05:03.974Z"
   },
   {
    "duration": 250,
    "start_time": "2022-07-29T16:05:04.414Z"
   },
   {
    "duration": 5,
    "start_time": "2022-07-29T16:05:04.667Z"
   },
   {
    "duration": 33,
    "start_time": "2022-07-29T16:05:04.674Z"
   },
   {
    "duration": 173,
    "start_time": "2022-07-29T16:05:04.709Z"
   },
   {
    "duration": 13,
    "start_time": "2022-07-29T16:05:04.884Z"
   },
   {
    "duration": 97,
    "start_time": "2022-07-29T16:05:04.898Z"
   },
   {
    "duration": 166,
    "start_time": "2022-07-29T16:05:04.997Z"
   },
   {
    "duration": 303,
    "start_time": "2022-07-29T16:05:05.164Z"
   },
   {
    "duration": 7,
    "start_time": "2022-07-29T16:05:05.469Z"
   },
   {
    "duration": 22,
    "start_time": "2022-07-29T16:05:05.477Z"
   },
   {
    "duration": 79,
    "start_time": "2022-07-29T16:05:05.501Z"
   },
   {
    "duration": 24,
    "start_time": "2022-07-29T16:05:05.583Z"
   },
   {
    "duration": 6,
    "start_time": "2022-07-29T16:05:05.662Z"
   },
   {
    "duration": 21867,
    "start_time": "2022-07-29T16:05:05.670Z"
   },
   {
    "duration": 39,
    "start_time": "2022-07-29T16:05:27.538Z"
   },
   {
    "duration": 28,
    "start_time": "2022-07-29T16:05:27.579Z"
   },
   {
    "duration": 122,
    "start_time": "2022-07-29T16:32:34.844Z"
   }
  ],
  "kernelspec": {
   "display_name": "Python 3 (ipykernel)",
   "language": "python",
   "name": "python3"
  },
  "language_info": {
   "codemirror_mode": {
    "name": "ipython",
    "version": 3
   },
   "file_extension": ".py",
   "mimetype": "text/x-python",
   "name": "python",
   "nbconvert_exporter": "python",
   "pygments_lexer": "ipython3",
   "version": "3.9.12"
  },
  "toc": {
   "base_numbering": 1,
   "nav_menu": {},
   "number_sections": true,
   "sideBar": true,
   "skip_h1_title": true,
   "title_cell": "Table of Contents",
   "title_sidebar": "Contents",
   "toc_cell": false,
   "toc_position": {
    "height": "calc(100% - 180px)",
    "left": "10px",
    "top": "150px",
    "width": "165px"
   },
   "toc_section_display": true,
   "toc_window_display": true
  }
 },
 "nbformat": 4,
 "nbformat_minor": 5
}
