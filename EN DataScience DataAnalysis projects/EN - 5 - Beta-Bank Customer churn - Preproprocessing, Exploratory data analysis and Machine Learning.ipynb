{
 "cells": [
  {
   "cell_type": "markdown",
   "id": "5edef036",
   "metadata": {},
   "source": [
    "# Customer churn\n",
    " \n",
    "### Description of the project\n",
    "Customers began to leave Beta-Bank. Every month. A little, but noticeable. Banking marketers figured it was cheaper to keep current customers than to attract new ones.\n",
    "It is necessary to predict whether the client will leave the bank in the near future or not. You are provided with historical data on customer behavior and termination of agreements with the bank.\n",
    "Build a model with an extremely large F1-measure. To pass the project successfully, you need to bring the metric to 0.59. Check the F1-measure on the test set yourself.\n",
    "Additionally, measure the AUC-ROC, compare its value with the F1-measure.\n",
    " \n",
    "### Instructions for project execution\n",
    " - Download and prepare data. Explain the procedure.\n",
    " - Explore the balance of classes, train the model without taking into account the imbalance. Briefly describe your findings.\n",
    " - Improve the quality of the model, taking into account the imbalance of classes.\n",
    " - Train different models and find the best one. Briefly describe your findings.\n",
    " - Conduct final testing.\n",
    " \n",
    "### Description of data\n",
    "The data is in the file /datasets/Churn.csv (eng. \"Churn\"). \n",
    " \n",
    "### Signs\n",
    "* RowNumber - row index in the data\n",
    "* CustomerId - unique customer identifier\n",
    "* Surname - surname\n",
    "* CreditScore - credit rating\n",
    "* Geography - country of residence\n",
    "* Gender - gender\n",
    "* Age - age\n",
    "* Tenure - how many years a person has been a bank client\n",
    "* Balance - account balance\n",
    "* NumOfProducts - the number of bank products used by the client\n",
    "* HasCrCard - the presence of a credit card\n",
    "* IsActiveMember - client activity\n",
    "* EstimatedSalary - estimated salary\n",
    "\n",
    "**Target feature**\n",
    "* Exited - the fact that the client left\n"
   ]
  },
  {
   "cell_type": "markdown",
   "id": "a107a990",
   "metadata": {},
   "source": [
    "# Implementation of project\n"
   ]
  },
  {
   "cell_type": "code",
   "execution_count": 1,
   "id": "f7f47e5e",
   "metadata": {},
   "outputs": [],
   "source": [
    "# Importing the required libraries\n",
    "\n",
    "import pandas as pd\n",
    "import numpy as np\n",
    "import matplotlib.pyplot as plt \n",
    "\n",
    "from sklearn.model_selection import train_test_split\n",
    "from sklearn.preprocessing import OneHotEncoder\n",
    "from sklearn.compose import make_column_transformer\n",
    "from sklearn.preprocessing import StandardScaler \n",
    "\n",
    "from sklearn.tree import DecisionTreeClassifier\n",
    "from sklearn.ensemble import RandomForestClassifier\n",
    "from sklearn.linear_model  import LogisticRegression\n",
    "\n",
    "from sklearn.metrics import (accuracy_score, f1_score, roc_auc_score, roc_curve)\n",
    "from sklearn.utils import shuffle\n"
   ]
  },
  {
   "cell_type": "code",
   "execution_count": 2,
   "id": "5fc20ffb",
   "metadata": {},
   "outputs": [],
   "source": [
    "# Importing a dataset\n",
    "try:\n",
    "    data = pd.read_csv('C:/Users/Админ/Desktop/Jupyter/Yandex/Churn.csv')\n",
    "    \n",
    "except SyntaxError:   \n",
    "    data = pd.read_csv('/Desktop/Jupyter/Yandex/Churn.csv')\n"
   ]
  },
  {
   "cell_type": "markdown",
   "id": "1d26873e",
   "metadata": {},
   "source": [
    "## Primary visual evaluation of data\n"
   ]
  },
  {
   "cell_type": "code",
   "execution_count": 3,
   "id": "bce9a364",
   "metadata": {},
   "outputs": [
    {
     "data": {
      "text/html": [
       "<div>\n",
       "<style scoped>\n",
       "    .dataframe tbody tr th:only-of-type {\n",
       "        vertical-align: middle;\n",
       "    }\n",
       "\n",
       "    .dataframe tbody tr th {\n",
       "        vertical-align: top;\n",
       "    }\n",
       "\n",
       "    .dataframe thead th {\n",
       "        text-align: right;\n",
       "    }\n",
       "</style>\n",
       "<table border=\"1\" class=\"dataframe\">\n",
       "  <thead>\n",
       "    <tr style=\"text-align: right;\">\n",
       "      <th></th>\n",
       "      <th>RowNumber</th>\n",
       "      <th>CustomerId</th>\n",
       "      <th>Surname</th>\n",
       "      <th>CreditScore</th>\n",
       "      <th>Geography</th>\n",
       "      <th>Gender</th>\n",
       "      <th>Age</th>\n",
       "      <th>Tenure</th>\n",
       "      <th>Balance</th>\n",
       "      <th>NumOfProducts</th>\n",
       "      <th>HasCrCard</th>\n",
       "      <th>IsActiveMember</th>\n",
       "      <th>EstimatedSalary</th>\n",
       "      <th>Exited</th>\n",
       "    </tr>\n",
       "  </thead>\n",
       "  <tbody>\n",
       "    <tr>\n",
       "      <th>0</th>\n",
       "      <td>1</td>\n",
       "      <td>15634602</td>\n",
       "      <td>Hargrave</td>\n",
       "      <td>619</td>\n",
       "      <td>France</td>\n",
       "      <td>Female</td>\n",
       "      <td>42</td>\n",
       "      <td>2.0</td>\n",
       "      <td>0.00</td>\n",
       "      <td>1</td>\n",
       "      <td>1</td>\n",
       "      <td>1</td>\n",
       "      <td>101348.88</td>\n",
       "      <td>1</td>\n",
       "    </tr>\n",
       "    <tr>\n",
       "      <th>1</th>\n",
       "      <td>2</td>\n",
       "      <td>15647311</td>\n",
       "      <td>Hill</td>\n",
       "      <td>608</td>\n",
       "      <td>Spain</td>\n",
       "      <td>Female</td>\n",
       "      <td>41</td>\n",
       "      <td>1.0</td>\n",
       "      <td>83807.86</td>\n",
       "      <td>1</td>\n",
       "      <td>0</td>\n",
       "      <td>1</td>\n",
       "      <td>112542.58</td>\n",
       "      <td>0</td>\n",
       "    </tr>\n",
       "    <tr>\n",
       "      <th>2</th>\n",
       "      <td>3</td>\n",
       "      <td>15619304</td>\n",
       "      <td>Onio</td>\n",
       "      <td>502</td>\n",
       "      <td>France</td>\n",
       "      <td>Female</td>\n",
       "      <td>42</td>\n",
       "      <td>8.0</td>\n",
       "      <td>159660.80</td>\n",
       "      <td>3</td>\n",
       "      <td>1</td>\n",
       "      <td>0</td>\n",
       "      <td>113931.57</td>\n",
       "      <td>1</td>\n",
       "    </tr>\n",
       "    <tr>\n",
       "      <th>3</th>\n",
       "      <td>4</td>\n",
       "      <td>15701354</td>\n",
       "      <td>Boni</td>\n",
       "      <td>699</td>\n",
       "      <td>France</td>\n",
       "      <td>Female</td>\n",
       "      <td>39</td>\n",
       "      <td>1.0</td>\n",
       "      <td>0.00</td>\n",
       "      <td>2</td>\n",
       "      <td>0</td>\n",
       "      <td>0</td>\n",
       "      <td>93826.63</td>\n",
       "      <td>0</td>\n",
       "    </tr>\n",
       "    <tr>\n",
       "      <th>4</th>\n",
       "      <td>5</td>\n",
       "      <td>15737888</td>\n",
       "      <td>Mitchell</td>\n",
       "      <td>850</td>\n",
       "      <td>Spain</td>\n",
       "      <td>Female</td>\n",
       "      <td>43</td>\n",
       "      <td>2.0</td>\n",
       "      <td>125510.82</td>\n",
       "      <td>1</td>\n",
       "      <td>1</td>\n",
       "      <td>1</td>\n",
       "      <td>79084.10</td>\n",
       "      <td>0</td>\n",
       "    </tr>\n",
       "  </tbody>\n",
       "</table>\n",
       "</div>"
      ],
      "text/plain": [
       "   RowNumber  CustomerId   Surname  CreditScore Geography  Gender  Age  \\\n",
       "0          1    15634602  Hargrave          619    France  Female   42   \n",
       "1          2    15647311      Hill          608     Spain  Female   41   \n",
       "2          3    15619304      Onio          502    France  Female   42   \n",
       "3          4    15701354      Boni          699    France  Female   39   \n",
       "4          5    15737888  Mitchell          850     Spain  Female   43   \n",
       "\n",
       "   Tenure    Balance  NumOfProducts  HasCrCard  IsActiveMember  \\\n",
       "0     2.0       0.00              1          1               1   \n",
       "1     1.0   83807.86              1          0               1   \n",
       "2     8.0  159660.80              3          1               0   \n",
       "3     1.0       0.00              2          0               0   \n",
       "4     2.0  125510.82              1          1               1   \n",
       "\n",
       "   EstimatedSalary  Exited  \n",
       "0        101348.88       1  \n",
       "1        112542.58       0  \n",
       "2        113931.57       1  \n",
       "3         93826.63       0  \n",
       "4         79084.10       0  "
      ]
     },
     "execution_count": 3,
     "metadata": {},
     "output_type": "execute_result"
    }
   ],
   "source": [
    "# Look at the first rows of the dataset\n",
    "\n",
    "data.head()"
   ]
  },
  {
   "cell_type": "code",
   "execution_count": 4,
   "id": "77744998",
   "metadata": {},
   "outputs": [
    {
     "data": {
      "text/plain": [
       "RowNumber            0\n",
       "CustomerId           0\n",
       "Surname              0\n",
       "CreditScore          0\n",
       "Geography            0\n",
       "Gender               0\n",
       "Age                  0\n",
       "Tenure             909\n",
       "Balance              0\n",
       "NumOfProducts        0\n",
       "HasCrCard            0\n",
       "IsActiveMember       0\n",
       "EstimatedSalary      0\n",
       "Exited               0\n",
       "dtype: int64"
      ]
     },
     "execution_count": 4,
     "metadata": {},
     "output_type": "execute_result"
    }
   ],
   "source": [
    "data.isna().sum()"
   ]
  },
  {
   "cell_type": "code",
   "execution_count": 5,
   "id": "d74881e6",
   "metadata": {},
   "outputs": [
    {
     "data": {
      "text/plain": [
       "Tenure    9.09\n",
       "dtype: float64"
      ]
     },
     "execution_count": 5,
     "metadata": {},
     "output_type": "execute_result"
    }
   ],
   "source": [
    "data.isna().mean()[data.isna().mean() > 0] * 100"
   ]
  },
  {
   "cell_type": "code",
   "execution_count": 6,
   "id": "26be7e64",
   "metadata": {},
   "outputs": [
    {
     "name": "stdout",
     "output_type": "stream",
     "text": [
      "<class 'pandas.core.frame.DataFrame'>\n",
      "RangeIndex: 10000 entries, 0 to 9999\n",
      "Data columns (total 14 columns):\n",
      " #   Column           Non-Null Count  Dtype  \n",
      "---  ------           --------------  -----  \n",
      " 0   RowNumber        10000 non-null  int64  \n",
      " 1   CustomerId       10000 non-null  int64  \n",
      " 2   Surname          10000 non-null  object \n",
      " 3   CreditScore      10000 non-null  int64  \n",
      " 4   Geography        10000 non-null  object \n",
      " 5   Gender           10000 non-null  object \n",
      " 6   Age              10000 non-null  int64  \n",
      " 7   Tenure           9091 non-null   float64\n",
      " 8   Balance          10000 non-null  float64\n",
      " 9   NumOfProducts    10000 non-null  int64  \n",
      " 10  HasCrCard        10000 non-null  int64  \n",
      " 11  IsActiveMember   10000 non-null  int64  \n",
      " 12  EstimatedSalary  10000 non-null  float64\n",
      " 13  Exited           10000 non-null  int64  \n",
      "dtypes: float64(3), int64(8), object(3)\n",
      "memory usage: 1.1+ MB\n"
     ]
    }
   ],
   "source": [
    "data.info()"
   ]
  },
  {
   "cell_type": "markdown",
   "id": "8d358230",
   "metadata": {},
   "source": [
    "There are 909 missing values in the Tenure data. Let's see how the data of other cells looks like, provided that Tenure is set to Nun\n",
    "   "
   ]
  },
  {
   "cell_type": "code",
   "execution_count": 7,
   "id": "30d101af",
   "metadata": {},
   "outputs": [
    {
     "data": {
      "text/html": [
       "<div>\n",
       "<style scoped>\n",
       "    .dataframe tbody tr th:only-of-type {\n",
       "        vertical-align: middle;\n",
       "    }\n",
       "\n",
       "    .dataframe tbody tr th {\n",
       "        vertical-align: top;\n",
       "    }\n",
       "\n",
       "    .dataframe thead th {\n",
       "        text-align: right;\n",
       "    }\n",
       "</style>\n",
       "<table border=\"1\" class=\"dataframe\">\n",
       "  <thead>\n",
       "    <tr style=\"text-align: right;\">\n",
       "      <th></th>\n",
       "      <th>RowNumber</th>\n",
       "      <th>CustomerId</th>\n",
       "      <th>Surname</th>\n",
       "      <th>CreditScore</th>\n",
       "      <th>Geography</th>\n",
       "      <th>Gender</th>\n",
       "      <th>Age</th>\n",
       "      <th>Tenure</th>\n",
       "      <th>Balance</th>\n",
       "      <th>NumOfProducts</th>\n",
       "      <th>HasCrCard</th>\n",
       "      <th>IsActiveMember</th>\n",
       "      <th>EstimatedSalary</th>\n",
       "      <th>Exited</th>\n",
       "    </tr>\n",
       "  </thead>\n",
       "  <tbody>\n",
       "    <tr>\n",
       "      <th>30</th>\n",
       "      <td>31</td>\n",
       "      <td>15589475</td>\n",
       "      <td>Azikiwe</td>\n",
       "      <td>591</td>\n",
       "      <td>Spain</td>\n",
       "      <td>Female</td>\n",
       "      <td>39</td>\n",
       "      <td>NaN</td>\n",
       "      <td>0.00</td>\n",
       "      <td>3</td>\n",
       "      <td>1</td>\n",
       "      <td>0</td>\n",
       "      <td>140469.38</td>\n",
       "      <td>1</td>\n",
       "    </tr>\n",
       "    <tr>\n",
       "      <th>48</th>\n",
       "      <td>49</td>\n",
       "      <td>15766205</td>\n",
       "      <td>Yin</td>\n",
       "      <td>550</td>\n",
       "      <td>Germany</td>\n",
       "      <td>Male</td>\n",
       "      <td>38</td>\n",
       "      <td>NaN</td>\n",
       "      <td>103391.38</td>\n",
       "      <td>1</td>\n",
       "      <td>0</td>\n",
       "      <td>1</td>\n",
       "      <td>90878.13</td>\n",
       "      <td>0</td>\n",
       "    </tr>\n",
       "    <tr>\n",
       "      <th>51</th>\n",
       "      <td>52</td>\n",
       "      <td>15768193</td>\n",
       "      <td>Trevisani</td>\n",
       "      <td>585</td>\n",
       "      <td>Germany</td>\n",
       "      <td>Male</td>\n",
       "      <td>36</td>\n",
       "      <td>NaN</td>\n",
       "      <td>146050.97</td>\n",
       "      <td>2</td>\n",
       "      <td>0</td>\n",
       "      <td>0</td>\n",
       "      <td>86424.57</td>\n",
       "      <td>0</td>\n",
       "    </tr>\n",
       "    <tr>\n",
       "      <th>53</th>\n",
       "      <td>54</td>\n",
       "      <td>15702298</td>\n",
       "      <td>Parkhill</td>\n",
       "      <td>655</td>\n",
       "      <td>Germany</td>\n",
       "      <td>Male</td>\n",
       "      <td>41</td>\n",
       "      <td>NaN</td>\n",
       "      <td>125561.97</td>\n",
       "      <td>1</td>\n",
       "      <td>0</td>\n",
       "      <td>0</td>\n",
       "      <td>164040.94</td>\n",
       "      <td>1</td>\n",
       "    </tr>\n",
       "    <tr>\n",
       "      <th>60</th>\n",
       "      <td>61</td>\n",
       "      <td>15651280</td>\n",
       "      <td>Hunter</td>\n",
       "      <td>742</td>\n",
       "      <td>Germany</td>\n",
       "      <td>Male</td>\n",
       "      <td>35</td>\n",
       "      <td>NaN</td>\n",
       "      <td>136857.00</td>\n",
       "      <td>1</td>\n",
       "      <td>0</td>\n",
       "      <td>0</td>\n",
       "      <td>84509.57</td>\n",
       "      <td>0</td>\n",
       "    </tr>\n",
       "    <tr>\n",
       "      <th>...</th>\n",
       "      <td>...</td>\n",
       "      <td>...</td>\n",
       "      <td>...</td>\n",
       "      <td>...</td>\n",
       "      <td>...</td>\n",
       "      <td>...</td>\n",
       "      <td>...</td>\n",
       "      <td>...</td>\n",
       "      <td>...</td>\n",
       "      <td>...</td>\n",
       "      <td>...</td>\n",
       "      <td>...</td>\n",
       "      <td>...</td>\n",
       "      <td>...</td>\n",
       "    </tr>\n",
       "    <tr>\n",
       "      <th>9944</th>\n",
       "      <td>9945</td>\n",
       "      <td>15703923</td>\n",
       "      <td>Cameron</td>\n",
       "      <td>744</td>\n",
       "      <td>Germany</td>\n",
       "      <td>Male</td>\n",
       "      <td>41</td>\n",
       "      <td>NaN</td>\n",
       "      <td>190409.34</td>\n",
       "      <td>2</td>\n",
       "      <td>1</td>\n",
       "      <td>1</td>\n",
       "      <td>138361.48</td>\n",
       "      <td>0</td>\n",
       "    </tr>\n",
       "    <tr>\n",
       "      <th>9956</th>\n",
       "      <td>9957</td>\n",
       "      <td>15707861</td>\n",
       "      <td>Nucci</td>\n",
       "      <td>520</td>\n",
       "      <td>France</td>\n",
       "      <td>Female</td>\n",
       "      <td>46</td>\n",
       "      <td>NaN</td>\n",
       "      <td>85216.61</td>\n",
       "      <td>1</td>\n",
       "      <td>1</td>\n",
       "      <td>0</td>\n",
       "      <td>117369.52</td>\n",
       "      <td>1</td>\n",
       "    </tr>\n",
       "    <tr>\n",
       "      <th>9964</th>\n",
       "      <td>9965</td>\n",
       "      <td>15642785</td>\n",
       "      <td>Douglas</td>\n",
       "      <td>479</td>\n",
       "      <td>France</td>\n",
       "      <td>Male</td>\n",
       "      <td>34</td>\n",
       "      <td>NaN</td>\n",
       "      <td>117593.48</td>\n",
       "      <td>2</td>\n",
       "      <td>0</td>\n",
       "      <td>0</td>\n",
       "      <td>113308.29</td>\n",
       "      <td>0</td>\n",
       "    </tr>\n",
       "    <tr>\n",
       "      <th>9985</th>\n",
       "      <td>9986</td>\n",
       "      <td>15586914</td>\n",
       "      <td>Nepean</td>\n",
       "      <td>659</td>\n",
       "      <td>France</td>\n",
       "      <td>Male</td>\n",
       "      <td>36</td>\n",
       "      <td>NaN</td>\n",
       "      <td>123841.49</td>\n",
       "      <td>2</td>\n",
       "      <td>1</td>\n",
       "      <td>0</td>\n",
       "      <td>96833.00</td>\n",
       "      <td>0</td>\n",
       "    </tr>\n",
       "    <tr>\n",
       "      <th>9999</th>\n",
       "      <td>10000</td>\n",
       "      <td>15628319</td>\n",
       "      <td>Walker</td>\n",
       "      <td>792</td>\n",
       "      <td>France</td>\n",
       "      <td>Female</td>\n",
       "      <td>28</td>\n",
       "      <td>NaN</td>\n",
       "      <td>130142.79</td>\n",
       "      <td>1</td>\n",
       "      <td>1</td>\n",
       "      <td>0</td>\n",
       "      <td>38190.78</td>\n",
       "      <td>0</td>\n",
       "    </tr>\n",
       "  </tbody>\n",
       "</table>\n",
       "<p>909 rows × 14 columns</p>\n",
       "</div>"
      ],
      "text/plain": [
       "      RowNumber  CustomerId    Surname  CreditScore Geography  Gender  Age  \\\n",
       "30           31    15589475    Azikiwe          591     Spain  Female   39   \n",
       "48           49    15766205        Yin          550   Germany    Male   38   \n",
       "51           52    15768193  Trevisani          585   Germany    Male   36   \n",
       "53           54    15702298   Parkhill          655   Germany    Male   41   \n",
       "60           61    15651280     Hunter          742   Germany    Male   35   \n",
       "...         ...         ...        ...          ...       ...     ...  ...   \n",
       "9944       9945    15703923    Cameron          744   Germany    Male   41   \n",
       "9956       9957    15707861      Nucci          520    France  Female   46   \n",
       "9964       9965    15642785    Douglas          479    France    Male   34   \n",
       "9985       9986    15586914     Nepean          659    France    Male   36   \n",
       "9999      10000    15628319     Walker          792    France  Female   28   \n",
       "\n",
       "      Tenure    Balance  NumOfProducts  HasCrCard  IsActiveMember  \\\n",
       "30       NaN       0.00              3          1               0   \n",
       "48       NaN  103391.38              1          0               1   \n",
       "51       NaN  146050.97              2          0               0   \n",
       "53       NaN  125561.97              1          0               0   \n",
       "60       NaN  136857.00              1          0               0   \n",
       "...      ...        ...            ...        ...             ...   \n",
       "9944     NaN  190409.34              2          1               1   \n",
       "9956     NaN   85216.61              1          1               0   \n",
       "9964     NaN  117593.48              2          0               0   \n",
       "9985     NaN  123841.49              2          1               0   \n",
       "9999     NaN  130142.79              1          1               0   \n",
       "\n",
       "      EstimatedSalary  Exited  \n",
       "30          140469.38       1  \n",
       "48           90878.13       0  \n",
       "51           86424.57       0  \n",
       "53          164040.94       1  \n",
       "60           84509.57       0  \n",
       "...               ...     ...  \n",
       "9944        138361.48       0  \n",
       "9956        117369.52       1  \n",
       "9964        113308.29       0  \n",
       "9985         96833.00       0  \n",
       "9999         38190.78       0  \n",
       "\n",
       "[909 rows x 14 columns]"
      ]
     },
     "execution_count": 7,
     "metadata": {},
     "output_type": "execute_result"
    }
   ],
   "source": [
    "data_tenure_isna = data.query('Tenure.isna()')\n",
    "data_tenure_isna"
   ]
  },
  {
   "cell_type": "code",
   "execution_count": 8,
   "id": "c51dbee4",
   "metadata": {},
   "outputs": [
    {
     "data": {
      "text/plain": [
       "array([ 2.,  1.,  8.,  7.,  4.,  6.,  3., 10.,  5.,  9.,  0., nan])"
      ]
     },
     "execution_count": 8,
     "metadata": {},
     "output_type": "execute_result"
    }
   ],
   "source": [
    "data['Tenure'].unique()"
   ]
  },
  {
   "cell_type": "code",
   "execution_count": 9,
   "id": "66c7a657",
   "metadata": {},
   "outputs": [
    {
     "data": {
      "text/plain": [
       "1.0     952\n",
       "2.0     950\n",
       "8.0     933\n",
       "3.0     928\n",
       "5.0     927\n",
       "7.0     925\n",
       "4.0     885\n",
       "9.0     882\n",
       "6.0     881\n",
       "10.0    446\n",
       "0.0     382\n",
       "Name: Tenure, dtype: int64"
      ]
     },
     "execution_count": 9,
     "metadata": {},
     "output_type": "execute_result"
    }
   ],
   "source": [
    "data['Tenure'].value_counts()"
   ]
  },
  {
   "cell_type": "markdown",
   "id": "4a820fdd",
   "metadata": {},
   "source": [
    "The remain of the data does not look suspicious, the omissions are random.\n",
    "We cannot remove the missing values, as this would result in a loss of 9.1% of the data - a significant amount. We also cannot fill out the data to 0, the median, or use a stub, as this will affect the results of further research. As a solution to this situation, I propose to replace the missing values ​​with existing ones randomly. So we will save the existing data ratio. This action will be performed in the \"Data Preprocessing\" section.\n"
   ]
  },
  {
   "cell_type": "code",
   "execution_count": 10,
   "id": "92256469",
   "metadata": {},
   "outputs": [
    {
     "data": {
      "text/plain": [
       "array(['France', 'Spain', 'Germany'], dtype=object)"
      ]
     },
     "execution_count": 10,
     "metadata": {},
     "output_type": "execute_result"
    }
   ],
   "source": [
    "# Let's look at unique values in countries\n",
    "data['Geography'].unique()"
   ]
  },
  {
   "cell_type": "code",
   "execution_count": 11,
   "id": "414f9473",
   "metadata": {},
   "outputs": [
    {
     "data": {
      "text/plain": [
       "array(['Female', 'Male'], dtype=object)"
      ]
     },
     "execution_count": 11,
     "metadata": {},
     "output_type": "execute_result"
    }
   ],
   "source": [
    "# Look at unique gender values\n",
    "data['Gender'].unique()\n"
   ]
  },
  {
   "cell_type": "code",
   "execution_count": 12,
   "id": "0731b179",
   "metadata": {},
   "outputs": [
    {
     "data": {
      "text/html": [
       "<div>\n",
       "<style scoped>\n",
       "    .dataframe tbody tr th:only-of-type {\n",
       "        vertical-align: middle;\n",
       "    }\n",
       "\n",
       "    .dataframe tbody tr th {\n",
       "        vertical-align: top;\n",
       "    }\n",
       "\n",
       "    .dataframe thead th {\n",
       "        text-align: right;\n",
       "    }\n",
       "</style>\n",
       "<table border=\"1\" class=\"dataframe\">\n",
       "  <thead>\n",
       "    <tr style=\"text-align: right;\">\n",
       "      <th></th>\n",
       "      <th>RowNumber</th>\n",
       "      <th>CustomerId</th>\n",
       "      <th>Surname</th>\n",
       "      <th>CreditScore</th>\n",
       "      <th>Geography</th>\n",
       "      <th>Gender</th>\n",
       "      <th>Age</th>\n",
       "      <th>Tenure</th>\n",
       "      <th>Balance</th>\n",
       "      <th>NumOfProducts</th>\n",
       "      <th>HasCrCard</th>\n",
       "      <th>IsActiveMember</th>\n",
       "      <th>EstimatedSalary</th>\n",
       "      <th>Exited</th>\n",
       "    </tr>\n",
       "  </thead>\n",
       "  <tbody>\n",
       "    <tr>\n",
       "      <th>0</th>\n",
       "      <td>1</td>\n",
       "      <td>15634602</td>\n",
       "      <td>Hargrave</td>\n",
       "      <td>619</td>\n",
       "      <td>France</td>\n",
       "      <td>Female</td>\n",
       "      <td>42</td>\n",
       "      <td>2.0</td>\n",
       "      <td>0.00</td>\n",
       "      <td>1</td>\n",
       "      <td>1</td>\n",
       "      <td>1</td>\n",
       "      <td>101348.88</td>\n",
       "      <td>1</td>\n",
       "    </tr>\n",
       "    <tr>\n",
       "      <th>1</th>\n",
       "      <td>2</td>\n",
       "      <td>15647311</td>\n",
       "      <td>Hill</td>\n",
       "      <td>608</td>\n",
       "      <td>Spain</td>\n",
       "      <td>Female</td>\n",
       "      <td>41</td>\n",
       "      <td>1.0</td>\n",
       "      <td>83807.86</td>\n",
       "      <td>1</td>\n",
       "      <td>0</td>\n",
       "      <td>1</td>\n",
       "      <td>112542.58</td>\n",
       "      <td>0</td>\n",
       "    </tr>\n",
       "    <tr>\n",
       "      <th>2</th>\n",
       "      <td>3</td>\n",
       "      <td>15619304</td>\n",
       "      <td>Onio</td>\n",
       "      <td>502</td>\n",
       "      <td>France</td>\n",
       "      <td>Female</td>\n",
       "      <td>42</td>\n",
       "      <td>8.0</td>\n",
       "      <td>159660.80</td>\n",
       "      <td>3</td>\n",
       "      <td>1</td>\n",
       "      <td>0</td>\n",
       "      <td>113931.57</td>\n",
       "      <td>1</td>\n",
       "    </tr>\n",
       "    <tr>\n",
       "      <th>3</th>\n",
       "      <td>4</td>\n",
       "      <td>15701354</td>\n",
       "      <td>Boni</td>\n",
       "      <td>699</td>\n",
       "      <td>France</td>\n",
       "      <td>Female</td>\n",
       "      <td>39</td>\n",
       "      <td>1.0</td>\n",
       "      <td>0.00</td>\n",
       "      <td>2</td>\n",
       "      <td>0</td>\n",
       "      <td>0</td>\n",
       "      <td>93826.63</td>\n",
       "      <td>0</td>\n",
       "    </tr>\n",
       "    <tr>\n",
       "      <th>4</th>\n",
       "      <td>5</td>\n",
       "      <td>15737888</td>\n",
       "      <td>Mitchell</td>\n",
       "      <td>850</td>\n",
       "      <td>Spain</td>\n",
       "      <td>Female</td>\n",
       "      <td>43</td>\n",
       "      <td>2.0</td>\n",
       "      <td>125510.82</td>\n",
       "      <td>1</td>\n",
       "      <td>1</td>\n",
       "      <td>1</td>\n",
       "      <td>79084.10</td>\n",
       "      <td>0</td>\n",
       "    </tr>\n",
       "  </tbody>\n",
       "</table>\n",
       "</div>"
      ],
      "text/plain": [
       "   RowNumber  CustomerId   Surname  CreditScore Geography  Gender  Age  \\\n",
       "0          1    15634602  Hargrave          619    France  Female   42   \n",
       "1          2    15647311      Hill          608     Spain  Female   41   \n",
       "2          3    15619304      Onio          502    France  Female   42   \n",
       "3          4    15701354      Boni          699    France  Female   39   \n",
       "4          5    15737888  Mitchell          850     Spain  Female   43   \n",
       "\n",
       "   Tenure    Balance  NumOfProducts  HasCrCard  IsActiveMember  \\\n",
       "0     2.0       0.00              1          1               1   \n",
       "1     1.0   83807.86              1          0               1   \n",
       "2     8.0  159660.80              3          1               0   \n",
       "3     1.0       0.00              2          0               0   \n",
       "4     2.0  125510.82              1          1               1   \n",
       "\n",
       "   EstimatedSalary  Exited  \n",
       "0        101348.88       1  \n",
       "1        112542.58       0  \n",
       "2        113931.57       1  \n",
       "3         93826.63       0  \n",
       "4         79084.10       0  "
      ]
     },
     "execution_count": 12,
     "metadata": {},
     "output_type": "execute_result"
    }
   ],
   "source": [
    "data.head()"
   ]
  },
  {
   "cell_type": "code",
   "execution_count": 13,
   "id": "486c321b",
   "metadata": {},
   "outputs": [
    {
     "data": {
      "text/html": [
       "<div>\n",
       "<style scoped>\n",
       "    .dataframe tbody tr th:only-of-type {\n",
       "        vertical-align: middle;\n",
       "    }\n",
       "\n",
       "    .dataframe tbody tr th {\n",
       "        vertical-align: top;\n",
       "    }\n",
       "\n",
       "    .dataframe thead th {\n",
       "        text-align: right;\n",
       "    }\n",
       "</style>\n",
       "<table border=\"1\" class=\"dataframe\">\n",
       "  <thead>\n",
       "    <tr style=\"text-align: right;\">\n",
       "      <th></th>\n",
       "      <th>RowNumber</th>\n",
       "      <th>CustomerId</th>\n",
       "      <th>Surname</th>\n",
       "      <th>CreditScore</th>\n",
       "      <th>Geography</th>\n",
       "      <th>Gender</th>\n",
       "      <th>Age</th>\n",
       "      <th>Tenure</th>\n",
       "      <th>Balance</th>\n",
       "      <th>NumOfProducts</th>\n",
       "      <th>HasCrCard</th>\n",
       "      <th>IsActiveMember</th>\n",
       "      <th>EstimatedSalary</th>\n",
       "      <th>Exited</th>\n",
       "    </tr>\n",
       "  </thead>\n",
       "  <tbody>\n",
       "    <tr>\n",
       "      <th>2300</th>\n",
       "      <td>2301</td>\n",
       "      <td>15647266</td>\n",
       "      <td>Y?an</td>\n",
       "      <td>651</td>\n",
       "      <td>Spain</td>\n",
       "      <td>Female</td>\n",
       "      <td>45</td>\n",
       "      <td>NaN</td>\n",
       "      <td>135923.16</td>\n",
       "      <td>1</td>\n",
       "      <td>1</td>\n",
       "      <td>0</td>\n",
       "      <td>18732.84</td>\n",
       "      <td>0</td>\n",
       "    </tr>\n",
       "    <tr>\n",
       "      <th>7198</th>\n",
       "      <td>7199</td>\n",
       "      <td>15773934</td>\n",
       "      <td>Fang</td>\n",
       "      <td>670</td>\n",
       "      <td>France</td>\n",
       "      <td>Male</td>\n",
       "      <td>33</td>\n",
       "      <td>NaN</td>\n",
       "      <td>88294.60</td>\n",
       "      <td>1</td>\n",
       "      <td>1</td>\n",
       "      <td>0</td>\n",
       "      <td>66979.06</td>\n",
       "      <td>0</td>\n",
       "    </tr>\n",
       "    <tr>\n",
       "      <th>7869</th>\n",
       "      <td>7870</td>\n",
       "      <td>15693771</td>\n",
       "      <td>Y?an</td>\n",
       "      <td>651</td>\n",
       "      <td>Spain</td>\n",
       "      <td>Female</td>\n",
       "      <td>45</td>\n",
       "      <td>8.0</td>\n",
       "      <td>95922.90</td>\n",
       "      <td>1</td>\n",
       "      <td>1</td>\n",
       "      <td>0</td>\n",
       "      <td>84782.42</td>\n",
       "      <td>1</td>\n",
       "    </tr>\n",
       "    <tr>\n",
       "      <th>9885</th>\n",
       "      <td>9886</td>\n",
       "      <td>15574584</td>\n",
       "      <td>Fang</td>\n",
       "      <td>670</td>\n",
       "      <td>France</td>\n",
       "      <td>Male</td>\n",
       "      <td>33</td>\n",
       "      <td>8.0</td>\n",
       "      <td>126679.69</td>\n",
       "      <td>1</td>\n",
       "      <td>1</td>\n",
       "      <td>1</td>\n",
       "      <td>39451.09</td>\n",
       "      <td>0</td>\n",
       "    </tr>\n",
       "  </tbody>\n",
       "</table>\n",
       "</div>"
      ],
      "text/plain": [
       "      RowNumber  CustomerId Surname  CreditScore Geography  Gender  Age  \\\n",
       "2300       2301    15647266    Y?an          651     Spain  Female   45   \n",
       "7198       7199    15773934    Fang          670    France    Male   33   \n",
       "7869       7870    15693771    Y?an          651     Spain  Female   45   \n",
       "9885       9886    15574584    Fang          670    France    Male   33   \n",
       "\n",
       "      Tenure    Balance  NumOfProducts  HasCrCard  IsActiveMember  \\\n",
       "2300     NaN  135923.16              1          1               0   \n",
       "7198     NaN   88294.60              1          1               0   \n",
       "7869     8.0   95922.90              1          1               0   \n",
       "9885     8.0  126679.69              1          1               1   \n",
       "\n",
       "      EstimatedSalary  Exited  \n",
       "2300         18732.84       0  \n",
       "7198         66979.06       0  \n",
       "7869         84782.42       1  \n",
       "9885         39451.09       0  "
      ]
     },
     "execution_count": 13,
     "metadata": {},
     "output_type": "execute_result"
    }
   ],
   "source": [
    "# See if there are duplicates\n",
    "data[data.duplicated(subset=['Surname', 'CreditScore', 'Geography', 'Gender', 'Age'], keep = False)]"
   ]
  },
  {
   "cell_type": "code",
   "execution_count": 14,
   "id": "25a1cebc",
   "metadata": {},
   "outputs": [
    {
     "data": {
      "text/plain": [
       "0"
      ]
     },
     "execution_count": 14,
     "metadata": {},
     "output_type": "execute_result"
    }
   ],
   "source": [
    "data['CustomerId'].duplicated().sum()"
   ]
  },
  {
   "cell_type": "code",
   "execution_count": 15,
   "id": "04fc8881",
   "metadata": {},
   "outputs": [
    {
     "data": {
      "text/html": [
       "<div>\n",
       "<style scoped>\n",
       "    .dataframe tbody tr th:only-of-type {\n",
       "        vertical-align: middle;\n",
       "    }\n",
       "\n",
       "    .dataframe tbody tr th {\n",
       "        vertical-align: top;\n",
       "    }\n",
       "\n",
       "    .dataframe thead th {\n",
       "        text-align: right;\n",
       "    }\n",
       "</style>\n",
       "<table border=\"1\" class=\"dataframe\">\n",
       "  <thead>\n",
       "    <tr style=\"text-align: right;\">\n",
       "      <th></th>\n",
       "      <th>RowNumber</th>\n",
       "      <th>CustomerId</th>\n",
       "      <th>CreditScore</th>\n",
       "      <th>Age</th>\n",
       "      <th>Tenure</th>\n",
       "      <th>Balance</th>\n",
       "      <th>NumOfProducts</th>\n",
       "      <th>HasCrCard</th>\n",
       "      <th>IsActiveMember</th>\n",
       "      <th>EstimatedSalary</th>\n",
       "      <th>Exited</th>\n",
       "    </tr>\n",
       "  </thead>\n",
       "  <tbody>\n",
       "    <tr>\n",
       "      <th>count</th>\n",
       "      <td>10000.00000</td>\n",
       "      <td>1.000000e+04</td>\n",
       "      <td>10000.000000</td>\n",
       "      <td>10000.000000</td>\n",
       "      <td>9091.000000</td>\n",
       "      <td>10000.000000</td>\n",
       "      <td>10000.000000</td>\n",
       "      <td>10000.00000</td>\n",
       "      <td>10000.000000</td>\n",
       "      <td>10000.000000</td>\n",
       "      <td>10000.000000</td>\n",
       "    </tr>\n",
       "    <tr>\n",
       "      <th>mean</th>\n",
       "      <td>5000.50000</td>\n",
       "      <td>1.569094e+07</td>\n",
       "      <td>650.528800</td>\n",
       "      <td>38.921800</td>\n",
       "      <td>4.997690</td>\n",
       "      <td>76485.889288</td>\n",
       "      <td>1.530200</td>\n",
       "      <td>0.70550</td>\n",
       "      <td>0.515100</td>\n",
       "      <td>100090.239881</td>\n",
       "      <td>0.203700</td>\n",
       "    </tr>\n",
       "    <tr>\n",
       "      <th>std</th>\n",
       "      <td>2886.89568</td>\n",
       "      <td>7.193619e+04</td>\n",
       "      <td>96.653299</td>\n",
       "      <td>10.487806</td>\n",
       "      <td>2.894723</td>\n",
       "      <td>62397.405202</td>\n",
       "      <td>0.581654</td>\n",
       "      <td>0.45584</td>\n",
       "      <td>0.499797</td>\n",
       "      <td>57510.492818</td>\n",
       "      <td>0.402769</td>\n",
       "    </tr>\n",
       "    <tr>\n",
       "      <th>min</th>\n",
       "      <td>1.00000</td>\n",
       "      <td>1.556570e+07</td>\n",
       "      <td>350.000000</td>\n",
       "      <td>18.000000</td>\n",
       "      <td>0.000000</td>\n",
       "      <td>0.000000</td>\n",
       "      <td>1.000000</td>\n",
       "      <td>0.00000</td>\n",
       "      <td>0.000000</td>\n",
       "      <td>11.580000</td>\n",
       "      <td>0.000000</td>\n",
       "    </tr>\n",
       "    <tr>\n",
       "      <th>25%</th>\n",
       "      <td>2500.75000</td>\n",
       "      <td>1.562853e+07</td>\n",
       "      <td>584.000000</td>\n",
       "      <td>32.000000</td>\n",
       "      <td>2.000000</td>\n",
       "      <td>0.000000</td>\n",
       "      <td>1.000000</td>\n",
       "      <td>0.00000</td>\n",
       "      <td>0.000000</td>\n",
       "      <td>51002.110000</td>\n",
       "      <td>0.000000</td>\n",
       "    </tr>\n",
       "    <tr>\n",
       "      <th>50%</th>\n",
       "      <td>5000.50000</td>\n",
       "      <td>1.569074e+07</td>\n",
       "      <td>652.000000</td>\n",
       "      <td>37.000000</td>\n",
       "      <td>5.000000</td>\n",
       "      <td>97198.540000</td>\n",
       "      <td>1.000000</td>\n",
       "      <td>1.00000</td>\n",
       "      <td>1.000000</td>\n",
       "      <td>100193.915000</td>\n",
       "      <td>0.000000</td>\n",
       "    </tr>\n",
       "    <tr>\n",
       "      <th>75%</th>\n",
       "      <td>7500.25000</td>\n",
       "      <td>1.575323e+07</td>\n",
       "      <td>718.000000</td>\n",
       "      <td>44.000000</td>\n",
       "      <td>7.000000</td>\n",
       "      <td>127644.240000</td>\n",
       "      <td>2.000000</td>\n",
       "      <td>1.00000</td>\n",
       "      <td>1.000000</td>\n",
       "      <td>149388.247500</td>\n",
       "      <td>0.000000</td>\n",
       "    </tr>\n",
       "    <tr>\n",
       "      <th>max</th>\n",
       "      <td>10000.00000</td>\n",
       "      <td>1.581569e+07</td>\n",
       "      <td>850.000000</td>\n",
       "      <td>92.000000</td>\n",
       "      <td>10.000000</td>\n",
       "      <td>250898.090000</td>\n",
       "      <td>4.000000</td>\n",
       "      <td>1.00000</td>\n",
       "      <td>1.000000</td>\n",
       "      <td>199992.480000</td>\n",
       "      <td>1.000000</td>\n",
       "    </tr>\n",
       "  </tbody>\n",
       "</table>\n",
       "</div>"
      ],
      "text/plain": [
       "         RowNumber    CustomerId   CreditScore           Age       Tenure  \\\n",
       "count  10000.00000  1.000000e+04  10000.000000  10000.000000  9091.000000   \n",
       "mean    5000.50000  1.569094e+07    650.528800     38.921800     4.997690   \n",
       "std     2886.89568  7.193619e+04     96.653299     10.487806     2.894723   \n",
       "min        1.00000  1.556570e+07    350.000000     18.000000     0.000000   \n",
       "25%     2500.75000  1.562853e+07    584.000000     32.000000     2.000000   \n",
       "50%     5000.50000  1.569074e+07    652.000000     37.000000     5.000000   \n",
       "75%     7500.25000  1.575323e+07    718.000000     44.000000     7.000000   \n",
       "max    10000.00000  1.581569e+07    850.000000     92.000000    10.000000   \n",
       "\n",
       "             Balance  NumOfProducts    HasCrCard  IsActiveMember  \\\n",
       "count   10000.000000   10000.000000  10000.00000    10000.000000   \n",
       "mean    76485.889288       1.530200      0.70550        0.515100   \n",
       "std     62397.405202       0.581654      0.45584        0.499797   \n",
       "min         0.000000       1.000000      0.00000        0.000000   \n",
       "25%         0.000000       1.000000      0.00000        0.000000   \n",
       "50%     97198.540000       1.000000      1.00000        1.000000   \n",
       "75%    127644.240000       2.000000      1.00000        1.000000   \n",
       "max    250898.090000       4.000000      1.00000        1.000000   \n",
       "\n",
       "       EstimatedSalary        Exited  \n",
       "count     10000.000000  10000.000000  \n",
       "mean     100090.239881      0.203700  \n",
       "std       57510.492818      0.402769  \n",
       "min          11.580000      0.000000  \n",
       "25%       51002.110000      0.000000  \n",
       "50%      100193.915000      0.000000  \n",
       "75%      149388.247500      0.000000  \n",
       "max      199992.480000      1.000000  "
      ]
     },
     "execution_count": 15,
     "metadata": {},
     "output_type": "execute_result"
    }
   ],
   "source": [
    "# Let's look at the general description of the data\n",
    "data.describe()"
   ]
  },
  {
   "cell_type": "code",
   "execution_count": 16,
   "id": "8d99bb45",
   "metadata": {},
   "outputs": [
    {
     "data": {
      "text/html": [
       "<div>\n",
       "<style scoped>\n",
       "    .dataframe tbody tr th:only-of-type {\n",
       "        vertical-align: middle;\n",
       "    }\n",
       "\n",
       "    .dataframe tbody tr th {\n",
       "        vertical-align: top;\n",
       "    }\n",
       "\n",
       "    .dataframe thead th {\n",
       "        text-align: right;\n",
       "    }\n",
       "</style>\n",
       "<table border=\"1\" class=\"dataframe\">\n",
       "  <thead>\n",
       "    <tr style=\"text-align: right;\">\n",
       "      <th></th>\n",
       "      <th>Surname</th>\n",
       "      <th>Geography</th>\n",
       "      <th>Gender</th>\n",
       "    </tr>\n",
       "  </thead>\n",
       "  <tbody>\n",
       "    <tr>\n",
       "      <th>count</th>\n",
       "      <td>10000</td>\n",
       "      <td>10000</td>\n",
       "      <td>10000</td>\n",
       "    </tr>\n",
       "    <tr>\n",
       "      <th>unique</th>\n",
       "      <td>2932</td>\n",
       "      <td>3</td>\n",
       "      <td>2</td>\n",
       "    </tr>\n",
       "    <tr>\n",
       "      <th>top</th>\n",
       "      <td>Smith</td>\n",
       "      <td>France</td>\n",
       "      <td>Male</td>\n",
       "    </tr>\n",
       "    <tr>\n",
       "      <th>freq</th>\n",
       "      <td>32</td>\n",
       "      <td>5014</td>\n",
       "      <td>5457</td>\n",
       "    </tr>\n",
       "  </tbody>\n",
       "</table>\n",
       "</div>"
      ],
      "text/plain": [
       "       Surname Geography Gender\n",
       "count    10000     10000  10000\n",
       "unique    2932         3      2\n",
       "top      Smith    France   Male\n",
       "freq        32      5014   5457"
      ]
     },
     "execution_count": 16,
     "metadata": {},
     "output_type": "execute_result"
    }
   ],
   "source": [
    "data.describe(include = ['object'])"
   ]
  },
  {
   "cell_type": "markdown",
   "id": "48ae2501",
   "metadata": {},
   "source": [
    "**Conclusion:**\n",
    "\n",
    "*Customer Information:*\n",
    "- [x] *`credit_score` - credit score values range from 350 to 850. Average value is 650;* <br>\n",
    "- [x] *`age` - age of clients is in the range from 18 to 92 years. Average age is 39;* <br>\n",
    "- [x] *`tenure` - clients are bank users from 0 to 10 years. On average, a client has been served in the bank for 5 years;* <br>\n",
    "- [x] *`balance` - client account balance ranges from 0.00 to 250898.00. The average account balance is 76486.00;* <br>\n",
    "- [x] *`estimated_salary` - Estimated salary ranges from 11.58 to 199992.48;* <br>\n",
    "- [x] *`geography` - category contains 3 unique values ​​'France', 'Spain', 'Germany'. Most clients from France - 5014 ;* <br>\n",
    "- [x] *`gender` - men predominate among the bank's clients - 5457;*\n",
    "\n",
    "\n",
    "*Plan for data preprocessing:*\n",
    "\n",
    "- *It is necessary to bring the names of the columns to the correct ones. Convert the data to lowercase, as well as use a word separator.*\n",
    "- *There are 909 (or 9.1%) missing values in data['Tenure'] column data. The replacement will be made with the available values in random order.*\n",
    "- *Unexpected duplicates were found for 'Surname', 'CreditScore', 'Geography', 'Gender', 'Age'. Since they are not absolutely identical, I will not process these duplicates. This will not affect the progress of the study.*\n",
    "- *The data type in the data['Tenure'] column is float, but all values are integers. We can convert data type to int.*\n",
    "- *Columns RowNumber, CustomerId, Surname have no value for future research. You can get rid of these columns.*\n"
   ]
  },
  {
   "cell_type": "markdown",
   "id": "44b00629",
   "metadata": {},
   "source": [
    "## Data preprocessing\n",
    "\n",
    "Data preprocessing plan:\n",
    "- Rename columns\n",
    "- Removing extra columns from the data set\n",
    "- Handling missing values\n",
    "- Convert data to the desired type\n",
    "    "
   ]
  },
  {
   "cell_type": "markdown",
   "id": "20ddb231",
   "metadata": {},
   "source": [
    " <span style=\"color:blue\">\n",
    "    **Handling columns (renaming and deleting)**\n",
    "    </span>"
   ]
  },
  {
   "cell_type": "code",
   "execution_count": 17,
   "id": "9dc37243",
   "metadata": {},
   "outputs": [
    {
     "name": "stderr",
     "output_type": "stream",
     "text": [
      "C:\\Users\\Админ\\AppData\\Local\\Temp\\ipykernel_18612\\2584351641.py:2: FutureWarning: The default value of regex will change from True to False in a future version.\n",
      "  data.columns = data.columns.str.replace(r\"([A-Z])\", r\" \\1\").str.lower().str.replace(' ', '_').str[1:]\n"
     ]
    }
   ],
   "source": [
    "# Convert all columns to lower case and snake_case:\n",
    "data.columns = data.columns.str.replace(r\"([A-Z])\", r\" \\1\").str.lower().str.replace(' ', '_').str[1:]"
   ]
  },
  {
   "cell_type": "code",
   "execution_count": 18,
   "id": "05b6557f",
   "metadata": {},
   "outputs": [
    {
     "data": {
      "text/html": [
       "<div>\n",
       "<style scoped>\n",
       "    .dataframe tbody tr th:only-of-type {\n",
       "        vertical-align: middle;\n",
       "    }\n",
       "\n",
       "    .dataframe tbody tr th {\n",
       "        vertical-align: top;\n",
       "    }\n",
       "\n",
       "    .dataframe thead th {\n",
       "        text-align: right;\n",
       "    }\n",
       "</style>\n",
       "<table border=\"1\" class=\"dataframe\">\n",
       "  <thead>\n",
       "    <tr style=\"text-align: right;\">\n",
       "      <th></th>\n",
       "      <th>row_number</th>\n",
       "      <th>customer_id</th>\n",
       "      <th>surname</th>\n",
       "      <th>credit_score</th>\n",
       "      <th>geography</th>\n",
       "      <th>gender</th>\n",
       "      <th>age</th>\n",
       "      <th>tenure</th>\n",
       "      <th>balance</th>\n",
       "      <th>num_of_products</th>\n",
       "      <th>has_cr_card</th>\n",
       "      <th>is_active_member</th>\n",
       "      <th>estimated_salary</th>\n",
       "      <th>exited</th>\n",
       "    </tr>\n",
       "  </thead>\n",
       "  <tbody>\n",
       "    <tr>\n",
       "      <th>0</th>\n",
       "      <td>1</td>\n",
       "      <td>15634602</td>\n",
       "      <td>Hargrave</td>\n",
       "      <td>619</td>\n",
       "      <td>France</td>\n",
       "      <td>Female</td>\n",
       "      <td>42</td>\n",
       "      <td>2.0</td>\n",
       "      <td>0.00</td>\n",
       "      <td>1</td>\n",
       "      <td>1</td>\n",
       "      <td>1</td>\n",
       "      <td>101348.88</td>\n",
       "      <td>1</td>\n",
       "    </tr>\n",
       "    <tr>\n",
       "      <th>1</th>\n",
       "      <td>2</td>\n",
       "      <td>15647311</td>\n",
       "      <td>Hill</td>\n",
       "      <td>608</td>\n",
       "      <td>Spain</td>\n",
       "      <td>Female</td>\n",
       "      <td>41</td>\n",
       "      <td>1.0</td>\n",
       "      <td>83807.86</td>\n",
       "      <td>1</td>\n",
       "      <td>0</td>\n",
       "      <td>1</td>\n",
       "      <td>112542.58</td>\n",
       "      <td>0</td>\n",
       "    </tr>\n",
       "    <tr>\n",
       "      <th>2</th>\n",
       "      <td>3</td>\n",
       "      <td>15619304</td>\n",
       "      <td>Onio</td>\n",
       "      <td>502</td>\n",
       "      <td>France</td>\n",
       "      <td>Female</td>\n",
       "      <td>42</td>\n",
       "      <td>8.0</td>\n",
       "      <td>159660.80</td>\n",
       "      <td>3</td>\n",
       "      <td>1</td>\n",
       "      <td>0</td>\n",
       "      <td>113931.57</td>\n",
       "      <td>1</td>\n",
       "    </tr>\n",
       "    <tr>\n",
       "      <th>3</th>\n",
       "      <td>4</td>\n",
       "      <td>15701354</td>\n",
       "      <td>Boni</td>\n",
       "      <td>699</td>\n",
       "      <td>France</td>\n",
       "      <td>Female</td>\n",
       "      <td>39</td>\n",
       "      <td>1.0</td>\n",
       "      <td>0.00</td>\n",
       "      <td>2</td>\n",
       "      <td>0</td>\n",
       "      <td>0</td>\n",
       "      <td>93826.63</td>\n",
       "      <td>0</td>\n",
       "    </tr>\n",
       "    <tr>\n",
       "      <th>4</th>\n",
       "      <td>5</td>\n",
       "      <td>15737888</td>\n",
       "      <td>Mitchell</td>\n",
       "      <td>850</td>\n",
       "      <td>Spain</td>\n",
       "      <td>Female</td>\n",
       "      <td>43</td>\n",
       "      <td>2.0</td>\n",
       "      <td>125510.82</td>\n",
       "      <td>1</td>\n",
       "      <td>1</td>\n",
       "      <td>1</td>\n",
       "      <td>79084.10</td>\n",
       "      <td>0</td>\n",
       "    </tr>\n",
       "  </tbody>\n",
       "</table>\n",
       "</div>"
      ],
      "text/plain": [
       "   row_number  customer_id   surname  credit_score geography  gender  age  \\\n",
       "0           1     15634602  Hargrave           619    France  Female   42   \n",
       "1           2     15647311      Hill           608     Spain  Female   41   \n",
       "2           3     15619304      Onio           502    France  Female   42   \n",
       "3           4     15701354      Boni           699    France  Female   39   \n",
       "4           5     15737888  Mitchell           850     Spain  Female   43   \n",
       "\n",
       "   tenure    balance  num_of_products  has_cr_card  is_active_member  \\\n",
       "0     2.0       0.00                1            1                 1   \n",
       "1     1.0   83807.86                1            0                 1   \n",
       "2     8.0  159660.80                3            1                 0   \n",
       "3     1.0       0.00                2            0                 0   \n",
       "4     2.0  125510.82                1            1                 1   \n",
       "\n",
       "   estimated_salary  exited  \n",
       "0         101348.88       1  \n",
       "1         112542.58       0  \n",
       "2         113931.57       1  \n",
       "3          93826.63       0  \n",
       "4          79084.10       0  "
      ]
     },
     "execution_count": 18,
     "metadata": {},
     "output_type": "execute_result"
    }
   ],
   "source": [
    "data.head()"
   ]
  },
  {
   "cell_type": "code",
   "execution_count": 19,
   "id": "495bd167",
   "metadata": {},
   "outputs": [],
   "source": [
    "# Remove the first 3 columns as unnecessary\n",
    "data = data.drop(columns = ['row_number','customer_id','surname'])"
   ]
  },
  {
   "cell_type": "code",
   "execution_count": 20,
   "id": "1eeffd90",
   "metadata": {},
   "outputs": [
    {
     "data": {
      "text/html": [
       "<div>\n",
       "<style scoped>\n",
       "    .dataframe tbody tr th:only-of-type {\n",
       "        vertical-align: middle;\n",
       "    }\n",
       "\n",
       "    .dataframe tbody tr th {\n",
       "        vertical-align: top;\n",
       "    }\n",
       "\n",
       "    .dataframe thead th {\n",
       "        text-align: right;\n",
       "    }\n",
       "</style>\n",
       "<table border=\"1\" class=\"dataframe\">\n",
       "  <thead>\n",
       "    <tr style=\"text-align: right;\">\n",
       "      <th></th>\n",
       "      <th>credit_score</th>\n",
       "      <th>geography</th>\n",
       "      <th>gender</th>\n",
       "      <th>age</th>\n",
       "      <th>tenure</th>\n",
       "      <th>balance</th>\n",
       "      <th>num_of_products</th>\n",
       "      <th>has_cr_card</th>\n",
       "      <th>is_active_member</th>\n",
       "      <th>estimated_salary</th>\n",
       "      <th>exited</th>\n",
       "    </tr>\n",
       "  </thead>\n",
       "  <tbody>\n",
       "    <tr>\n",
       "      <th>0</th>\n",
       "      <td>619</td>\n",
       "      <td>France</td>\n",
       "      <td>Female</td>\n",
       "      <td>42</td>\n",
       "      <td>2.0</td>\n",
       "      <td>0.00</td>\n",
       "      <td>1</td>\n",
       "      <td>1</td>\n",
       "      <td>1</td>\n",
       "      <td>101348.88</td>\n",
       "      <td>1</td>\n",
       "    </tr>\n",
       "    <tr>\n",
       "      <th>1</th>\n",
       "      <td>608</td>\n",
       "      <td>Spain</td>\n",
       "      <td>Female</td>\n",
       "      <td>41</td>\n",
       "      <td>1.0</td>\n",
       "      <td>83807.86</td>\n",
       "      <td>1</td>\n",
       "      <td>0</td>\n",
       "      <td>1</td>\n",
       "      <td>112542.58</td>\n",
       "      <td>0</td>\n",
       "    </tr>\n",
       "    <tr>\n",
       "      <th>2</th>\n",
       "      <td>502</td>\n",
       "      <td>France</td>\n",
       "      <td>Female</td>\n",
       "      <td>42</td>\n",
       "      <td>8.0</td>\n",
       "      <td>159660.80</td>\n",
       "      <td>3</td>\n",
       "      <td>1</td>\n",
       "      <td>0</td>\n",
       "      <td>113931.57</td>\n",
       "      <td>1</td>\n",
       "    </tr>\n",
       "    <tr>\n",
       "      <th>3</th>\n",
       "      <td>699</td>\n",
       "      <td>France</td>\n",
       "      <td>Female</td>\n",
       "      <td>39</td>\n",
       "      <td>1.0</td>\n",
       "      <td>0.00</td>\n",
       "      <td>2</td>\n",
       "      <td>0</td>\n",
       "      <td>0</td>\n",
       "      <td>93826.63</td>\n",
       "      <td>0</td>\n",
       "    </tr>\n",
       "    <tr>\n",
       "      <th>4</th>\n",
       "      <td>850</td>\n",
       "      <td>Spain</td>\n",
       "      <td>Female</td>\n",
       "      <td>43</td>\n",
       "      <td>2.0</td>\n",
       "      <td>125510.82</td>\n",
       "      <td>1</td>\n",
       "      <td>1</td>\n",
       "      <td>1</td>\n",
       "      <td>79084.10</td>\n",
       "      <td>0</td>\n",
       "    </tr>\n",
       "  </tbody>\n",
       "</table>\n",
       "</div>"
      ],
      "text/plain": [
       "   credit_score geography  gender  age  tenure    balance  num_of_products  \\\n",
       "0           619    France  Female   42     2.0       0.00                1   \n",
       "1           608     Spain  Female   41     1.0   83807.86                1   \n",
       "2           502    France  Female   42     8.0  159660.80                3   \n",
       "3           699    France  Female   39     1.0       0.00                2   \n",
       "4           850     Spain  Female   43     2.0  125510.82                1   \n",
       "\n",
       "   has_cr_card  is_active_member  estimated_salary  exited  \n",
       "0            1                 1         101348.88       1  \n",
       "1            0                 1         112542.58       0  \n",
       "2            1                 0         113931.57       1  \n",
       "3            0                 0          93826.63       0  \n",
       "4            1                 1          79084.10       0  "
      ]
     },
     "execution_count": 20,
     "metadata": {},
     "output_type": "execute_result"
    }
   ],
   "source": [
    "data.head()"
   ]
  },
  {
   "cell_type": "markdown",
   "id": "2b37897c",
   "metadata": {},
   "source": [
    "<span style=\"color:blue\"> **Handling missing values**   </span>"
   ]
  },
  {
   "cell_type": "code",
   "execution_count": 21,
   "id": "9f78ef90",
   "metadata": {},
   "outputs": [
    {
     "data": {
      "text/plain": [
       "1.0     10.471895\n",
       "2.0     10.449896\n",
       "8.0     10.262897\n",
       "3.0     10.207898\n",
       "5.0     10.196898\n",
       "7.0     10.174898\n",
       "4.0      9.734903\n",
       "9.0      9.701903\n",
       "6.0      9.690903\n",
       "10.0     4.905951\n",
       "0.0      4.201958\n",
       "Name: tenure, dtype: float64"
      ]
     },
     "execution_count": 21,
     "metadata": {},
     "output_type": "execute_result"
    }
   ],
   "source": [
    "# Look at the percentage of data before filling in missing values with existing values\n",
    "data_tenure_noisna = data.query('tenure.isna() != True')\n",
    "percentage_before = data_tenure_noisna['tenure'].value_counts() / len(data_tenure_noisna) * 100\n",
    "percentage_before"
   ]
  },
  {
   "cell_type": "code",
   "execution_count": 22,
   "id": "5c509850",
   "metadata": {},
   "outputs": [],
   "source": [
    "# Fill in the missing values randomly with the available values\n",
    "np.random.seed(12345)\n",
    "tenure = np.random.randint(0, 10 , size=data['tenure'].isna().sum())\n",
    "data.loc[data['tenure'].isna(), 'tenure'] = tenure"
   ]
  },
  {
   "cell_type": "code",
   "execution_count": 23,
   "id": "5c77635e",
   "metadata": {},
   "outputs": [
    {
     "data": {
      "text/plain": [
       "0"
      ]
     },
     "execution_count": 23,
     "metadata": {},
     "output_type": "execute_result"
    }
   ],
   "source": [
    "# Check for missing values after filling\n",
    "data['tenure'].isna().sum()"
   ]
  },
  {
   "cell_type": "code",
   "execution_count": 24,
   "id": "efb3be3d",
   "metadata": {},
   "outputs": [
    {
     "data": {
      "text/plain": [
       "2.0     10.49\n",
       "1.0     10.33\n",
       "5.0     10.31\n",
       "8.0     10.22\n",
       "3.0     10.19\n",
       "7.0     10.07\n",
       "9.0      9.78\n",
       "6.0      9.68\n",
       "4.0      9.55\n",
       "0.0      4.92\n",
       "10.0     4.46\n",
       "Name: tenure, dtype: float64"
      ]
     },
     "execution_count": 24,
     "metadata": {},
     "output_type": "execute_result"
    }
   ],
   "source": [
    "# Look at the percentage of data after filling in the missing values \n",
    "percentage_after = data['tenure'].value_counts() / len(data) * 100\n",
    "percentage_after"
   ]
  },
  {
   "cell_type": "code",
   "execution_count": 25,
   "id": "b18018ca",
   "metadata": {},
   "outputs": [
    {
     "data": {
      "text/plain": [
       "0.0    -0.718042\n",
       "1.0     0.141895\n",
       "2.0    -0.040104\n",
       "3.0     0.017898\n",
       "4.0     0.184903\n",
       "5.0    -0.113102\n",
       "6.0     0.010903\n",
       "7.0     0.104898\n",
       "8.0     0.042897\n",
       "9.0    -0.078097\n",
       "10.0    0.445951\n",
       "Name: tenure, dtype: float64"
      ]
     },
     "execution_count": 25,
     "metadata": {},
     "output_type": "execute_result"
    }
   ],
   "source": [
    "# Find out the difference in the resulting proportions\n",
    "percentage_before - percentage_after  "
   ]
  },
  {
   "cell_type": "markdown",
   "id": "2544d3eb",
   "metadata": {},
   "source": [
    "The missing values in the data filled almost proportionately. Deviations are less than 1%. Acceptable"
   ]
  },
  {
   "cell_type": "markdown",
   "id": "de4a09c8",
   "metadata": {},
   "source": [
    "**Correction of data to the desired type** "
   ]
  },
  {
   "cell_type": "code",
   "execution_count": 26,
   "id": "91dc80ee",
   "metadata": {},
   "outputs": [],
   "source": [
    "# Convert tenur data to int :\n",
    "data['tenure'] = data['tenure'].astype(pd.Int32Dtype())"
   ]
  },
  {
   "cell_type": "code",
   "execution_count": 27,
   "id": "4595951f",
   "metadata": {},
   "outputs": [
    {
     "data": {
      "text/plain": [
       "Int32Dtype()"
      ]
     },
     "execution_count": 27,
     "metadata": {},
     "output_type": "execute_result"
    }
   ],
   "source": [
    "data['tenure'].dtypes"
   ]
  },
  {
   "cell_type": "code",
   "execution_count": 28,
   "id": "c5815e89",
   "metadata": {},
   "outputs": [
    {
     "name": "stdout",
     "output_type": "stream",
     "text": [
      "<class 'pandas.core.frame.DataFrame'>\n",
      "RangeIndex: 10000 entries, 0 to 9999\n",
      "Data columns (total 11 columns):\n",
      " #   Column            Non-Null Count  Dtype  \n",
      "---  ------            --------------  -----  \n",
      " 0   credit_score      10000 non-null  int64  \n",
      " 1   geography         10000 non-null  object \n",
      " 2   gender            10000 non-null  object \n",
      " 3   age               10000 non-null  int64  \n",
      " 4   tenure            10000 non-null  Int32  \n",
      " 5   balance           10000 non-null  float64\n",
      " 6   num_of_products   10000 non-null  int64  \n",
      " 7   has_cr_card       10000 non-null  int64  \n",
      " 8   is_active_member  10000 non-null  int64  \n",
      " 9   estimated_salary  10000 non-null  float64\n",
      " 10  exited            10000 non-null  int64  \n",
      "dtypes: Int32(1), float64(2), int64(6), object(2)\n",
      "memory usage: 830.2+ KB\n"
     ]
    }
   ],
   "source": [
    "data.info()"
   ]
  },
  {
   "cell_type": "markdown",
   "id": "05534b55",
   "metadata": {},
   "source": [
    "## Exploratory Analysis\n",
    "\n",
    "**Exploratory objectives**\n",
    "- 1. Explore the balance of classes, train the model without taking into account the imbalance. Briefly describe your findings.\n",
    "- 2. Improve the quality of the model, taking into account the imbalance of classes.\n",
    "- 3. Train different models and find the best one. Briefly describe your findings.\n",
    "- 4. Conduct final testing.\n",
    "\n",
    "**Exploratory plan**\n",
    "\n",
    "1. Preparing data for model training:\n",
    "   - Convert categorical features to numeric using the OHE method\n",
    "   - Scale quantitative data\n",
    "   - Explore the balance of the target trait\n",
    "   - Divide the data into training, validation and test, taking into account the stratification of the target feature\n",
    "2. Model training:\n",
    "   - Train Decision Tree, Random Forest, Logistic Regression models without class imbalance\n",
    "   - Eliminate class imbalance with various methods, train models and compare results\n",
    "   - Determine the best model\n",
    "3. Conduct final testing\n",
    "\n"
   ]
  },
  {
   "cell_type": "markdown",
   "id": "6cceaeca",
   "metadata": {},
   "source": [
    "### Preparing data for models"
   ]
  },
  {
   "cell_type": "code",
   "execution_count": 29,
   "id": "173234fe",
   "metadata": {
    "scrolled": true
   },
   "outputs": [
    {
     "name": "stderr",
     "output_type": "stream",
     "text": [
      "C:\\anaconda3\\lib\\site-packages\\sklearn\\utils\\deprecation.py:87: FutureWarning: Function get_feature_names is deprecated; get_feature_names is deprecated in 1.0 and will be removed in 1.2. Please use get_feature_names_out instead.\n",
      "  warnings.warn(msg, category=FutureWarning)\n"
     ]
    },
    {
     "data": {
      "text/html": [
       "<div>\n",
       "<style scoped>\n",
       "    .dataframe tbody tr th:only-of-type {\n",
       "        vertical-align: middle;\n",
       "    }\n",
       "\n",
       "    .dataframe tbody tr th {\n",
       "        vertical-align: top;\n",
       "    }\n",
       "\n",
       "    .dataframe thead th {\n",
       "        text-align: right;\n",
       "    }\n",
       "</style>\n",
       "<table border=\"1\" class=\"dataframe\">\n",
       "  <thead>\n",
       "    <tr style=\"text-align: right;\">\n",
       "      <th></th>\n",
       "      <th>France</th>\n",
       "      <th>Germany</th>\n",
       "      <th>Spain</th>\n",
       "      <th>Female</th>\n",
       "      <th>Male</th>\n",
       "      <th>credit_score</th>\n",
       "      <th>age</th>\n",
       "      <th>tenure</th>\n",
       "      <th>balance</th>\n",
       "      <th>num_of_products</th>\n",
       "      <th>has_cr_card</th>\n",
       "      <th>is_active_member</th>\n",
       "      <th>estimated_salary</th>\n",
       "      <th>exited</th>\n",
       "    </tr>\n",
       "  </thead>\n",
       "  <tbody>\n",
       "    <tr>\n",
       "      <th>0</th>\n",
       "      <td>1</td>\n",
       "      <td>0</td>\n",
       "      <td>0</td>\n",
       "      <td>1</td>\n",
       "      <td>0</td>\n",
       "      <td>619</td>\n",
       "      <td>42</td>\n",
       "      <td>2</td>\n",
       "      <td>0</td>\n",
       "      <td>1</td>\n",
       "      <td>1</td>\n",
       "      <td>1</td>\n",
       "      <td>101348</td>\n",
       "      <td>1</td>\n",
       "    </tr>\n",
       "    <tr>\n",
       "      <th>1</th>\n",
       "      <td>0</td>\n",
       "      <td>0</td>\n",
       "      <td>1</td>\n",
       "      <td>1</td>\n",
       "      <td>0</td>\n",
       "      <td>608</td>\n",
       "      <td>41</td>\n",
       "      <td>1</td>\n",
       "      <td>83807</td>\n",
       "      <td>1</td>\n",
       "      <td>0</td>\n",
       "      <td>1</td>\n",
       "      <td>112542</td>\n",
       "      <td>0</td>\n",
       "    </tr>\n",
       "    <tr>\n",
       "      <th>2</th>\n",
       "      <td>1</td>\n",
       "      <td>0</td>\n",
       "      <td>0</td>\n",
       "      <td>1</td>\n",
       "      <td>0</td>\n",
       "      <td>502</td>\n",
       "      <td>42</td>\n",
       "      <td>8</td>\n",
       "      <td>159660</td>\n",
       "      <td>3</td>\n",
       "      <td>1</td>\n",
       "      <td>0</td>\n",
       "      <td>113931</td>\n",
       "      <td>1</td>\n",
       "    </tr>\n",
       "    <tr>\n",
       "      <th>3</th>\n",
       "      <td>1</td>\n",
       "      <td>0</td>\n",
       "      <td>0</td>\n",
       "      <td>1</td>\n",
       "      <td>0</td>\n",
       "      <td>699</td>\n",
       "      <td>39</td>\n",
       "      <td>1</td>\n",
       "      <td>0</td>\n",
       "      <td>2</td>\n",
       "      <td>0</td>\n",
       "      <td>0</td>\n",
       "      <td>93826</td>\n",
       "      <td>0</td>\n",
       "    </tr>\n",
       "    <tr>\n",
       "      <th>4</th>\n",
       "      <td>0</td>\n",
       "      <td>0</td>\n",
       "      <td>1</td>\n",
       "      <td>1</td>\n",
       "      <td>0</td>\n",
       "      <td>850</td>\n",
       "      <td>43</td>\n",
       "      <td>2</td>\n",
       "      <td>125510</td>\n",
       "      <td>1</td>\n",
       "      <td>1</td>\n",
       "      <td>1</td>\n",
       "      <td>79084</td>\n",
       "      <td>0</td>\n",
       "    </tr>\n",
       "  </tbody>\n",
       "</table>\n",
       "</div>"
      ],
      "text/plain": [
       "   France  Germany  Spain  Female  Male  credit_score  age  tenure  balance  \\\n",
       "0       1        0      0       1     0           619   42       2        0   \n",
       "1       0        0      1       1     0           608   41       1    83807   \n",
       "2       1        0      0       1     0           502   42       8   159660   \n",
       "3       1        0      0       1     0           699   39       1        0   \n",
       "4       0        0      1       1     0           850   43       2   125510   \n",
       "\n",
       "   num_of_products  has_cr_card  is_active_member  estimated_salary  exited  \n",
       "0                1            1                 1            101348       1  \n",
       "1                1            0                 1            112542       0  \n",
       "2                3            1                 0            113931       1  \n",
       "3                2            0                 0             93826       0  \n",
       "4                1            1                 1             79084       0  "
      ]
     },
     "execution_count": 29,
     "metadata": {},
     "output_type": "execute_result"
    }
   ],
   "source": [
    "# Convert categorical features to numerical\n",
    "transformer = make_column_transformer(\n",
    "    (OneHotEncoder(), ['geography', 'gender']),\n",
    "    remainder='passthrough')\n",
    "\n",
    "transformed = transformer.fit_transform(data)\n",
    "transformed = transformed.astype('int')\n",
    "data_ohe = pd.DataFrame(transformed, columns=transformer.get_feature_names())\n",
    "data_ohe = data_ohe.rename(columns = {'onehotencoder__x0_France':'France','onehotencoder__x0_Germany':'Germany',\n",
    "                                      'onehotencoder__x0_Spain':'Spain','onehotencoder__x1_Female':'Female',\n",
    "                                      'onehotencoder__x1_Male':'Male'})\n",
    "data_ohe.head()"
   ]
  },
  {
   "cell_type": "code",
   "execution_count": 30,
   "id": "9f22f528",
   "metadata": {},
   "outputs": [],
   "source": [
    "# Create datasets and samples and stratify them to maintain the data proportions of the target feature of the source dataset:\n",
    "\n",
    "features = data_ohe.drop('exited', axis=1)\n",
    "target = data_ohe['exited']\n",
    "\n",
    "features_train, features_test, target_train, target_test = train_test_split(\n",
    "    features, target, stratify=target, train_size=0.5,random_state=12345)  # separation into training set and test set\n",
    "\n",
    "features_test, features_valid, target_test, target_valid = train_test_split(\n",
    "    features_test, target_test, stratify=target_train, train_size=0.5,random_state=12345) # separation of the test set into both training and validation"
   ]
  },
  {
   "cell_type": "code",
   "execution_count": 31,
   "id": "8f0b8025",
   "metadata": {},
   "outputs": [
    {
     "data": {
      "text/plain": [
       "0    0.7963\n",
       "1    0.2037\n",
       "Name: exited, dtype: float64"
      ]
     },
     "execution_count": 31,
     "metadata": {},
     "output_type": "execute_result"
    }
   ],
   "source": [
    "# Let's look at the distribution of binary values in the target feature\n",
    "data.exited.value_counts(normalize=True)"
   ]
  },
  {
   "cell_type": "code",
   "execution_count": 32,
   "id": "d6942d7c",
   "metadata": {},
   "outputs": [
    {
     "name": "stdout",
     "output_type": "stream",
     "text": [
      "Training sample size: (5000, 13) (5000,)\n",
      "Stratification of the training sample:\n",
      "0    79.62\n",
      "1    20.38\n",
      "Name: exited, dtype: float64\n",
      " \n",
      "Validation sample size: (2500, 13) (2500,)\n",
      "Stratification of the Validation sample:\n",
      "0    79.62\n",
      "1    20.38\n",
      "Name: exited, dtype: float64\n",
      " \n",
      "Test sample size: (2500, 13) (2500,)\n",
      "Stratification of the Test sample:\n",
      "0    79.62\n",
      "1    20.38\n",
      "Name: exited, dtype: float64\n",
      " \n"
     ]
    }
   ],
   "source": [
    "# Check how much data is in each sample:\n",
    "print('Training sample size:',features_train.shape, target_train.shape)\n",
    "print('Stratification of the training sample:'),print(target_train.value_counts()/len(target_train)*100)\n",
    "print(' ')\n",
    "print('Validation sample size:', features_valid.shape, target_valid.shape)\n",
    "print('Stratification of the Validation sample:'),print(target_train.value_counts()/len(target_train)*100)\n",
    "print(' ')\n",
    "print('Test sample size:', features_test.shape, target_test.shape)\n",
    "print('Stratification of the Test sample:'),print(target_train.value_counts()/len(target_train)*100)\n",
    "print(' ')"
   ]
  },
  {
   "cell_type": "code",
   "execution_count": 33,
   "id": "b8a7028a",
   "metadata": {},
   "outputs": [
    {
     "data": {
      "text/html": [
       "<div>\n",
       "<style scoped>\n",
       "    .dataframe tbody tr th:only-of-type {\n",
       "        vertical-align: middle;\n",
       "    }\n",
       "\n",
       "    .dataframe tbody tr th {\n",
       "        vertical-align: top;\n",
       "    }\n",
       "\n",
       "    .dataframe thead th {\n",
       "        text-align: right;\n",
       "    }\n",
       "</style>\n",
       "<table border=\"1\" class=\"dataframe\">\n",
       "  <thead>\n",
       "    <tr style=\"text-align: right;\">\n",
       "      <th></th>\n",
       "      <th>France</th>\n",
       "      <th>Germany</th>\n",
       "      <th>Spain</th>\n",
       "      <th>Female</th>\n",
       "      <th>Male</th>\n",
       "      <th>credit_score</th>\n",
       "      <th>age</th>\n",
       "      <th>tenure</th>\n",
       "      <th>balance</th>\n",
       "      <th>num_of_products</th>\n",
       "      <th>has_cr_card</th>\n",
       "      <th>is_active_member</th>\n",
       "      <th>estimated_salary</th>\n",
       "    </tr>\n",
       "  </thead>\n",
       "  <tbody>\n",
       "    <tr>\n",
       "      <th>5460</th>\n",
       "      <td>0</td>\n",
       "      <td>1</td>\n",
       "      <td>0</td>\n",
       "      <td>0</td>\n",
       "      <td>1</td>\n",
       "      <td>0.111187</td>\n",
       "      <td>0.193128</td>\n",
       "      <td>0.022105</td>\n",
       "      <td>0.740076</td>\n",
       "      <td>0.809174</td>\n",
       "      <td>0</td>\n",
       "      <td>1</td>\n",
       "      <td>0.368974</td>\n",
       "    </tr>\n",
       "    <tr>\n",
       "      <th>3610</th>\n",
       "      <td>1</td>\n",
       "      <td>0</td>\n",
       "      <td>0</td>\n",
       "      <td>1</td>\n",
       "      <td>0</td>\n",
       "      <td>-0.726970</td>\n",
       "      <td>1.626818</td>\n",
       "      <td>-1.363769</td>\n",
       "      <td>0.880246</td>\n",
       "      <td>-0.929489</td>\n",
       "      <td>1</td>\n",
       "      <td>0</td>\n",
       "      <td>0.129917</td>\n",
       "    </tr>\n",
       "    <tr>\n",
       "      <th>3892</th>\n",
       "      <td>0</td>\n",
       "      <td>1</td>\n",
       "      <td>0</td>\n",
       "      <td>0</td>\n",
       "      <td>1</td>\n",
       "      <td>-1.047746</td>\n",
       "      <td>0.575445</td>\n",
       "      <td>0.368573</td>\n",
       "      <td>0.766914</td>\n",
       "      <td>-0.929489</td>\n",
       "      <td>1</td>\n",
       "      <td>1</td>\n",
       "      <td>0.816963</td>\n",
       "    </tr>\n",
       "    <tr>\n",
       "      <th>4734</th>\n",
       "      <td>1</td>\n",
       "      <td>0</td>\n",
       "      <td>0</td>\n",
       "      <td>1</td>\n",
       "      <td>0</td>\n",
       "      <td>-0.623494</td>\n",
       "      <td>1.435659</td>\n",
       "      <td>-0.324364</td>\n",
       "      <td>-1.208444</td>\n",
       "      <td>0.809174</td>\n",
       "      <td>1</td>\n",
       "      <td>1</td>\n",
       "      <td>-0.098170</td>\n",
       "    </tr>\n",
       "    <tr>\n",
       "      <th>6102</th>\n",
       "      <td>0</td>\n",
       "      <td>0</td>\n",
       "      <td>1</td>\n",
       "      <td>1</td>\n",
       "      <td>0</td>\n",
       "      <td>-0.085418</td>\n",
       "      <td>-0.284769</td>\n",
       "      <td>0.368573</td>\n",
       "      <td>-1.208444</td>\n",
       "      <td>0.809174</td>\n",
       "      <td>1</td>\n",
       "      <td>1</td>\n",
       "      <td>-0.026460</td>\n",
       "    </tr>\n",
       "  </tbody>\n",
       "</table>\n",
       "</div>"
      ],
      "text/plain": [
       "      France  Germany  Spain  Female  Male  credit_score       age    tenure  \\\n",
       "5460       0        1      0       0     1      0.111187  0.193128  0.022105   \n",
       "3610       1        0      0       1     0     -0.726970  1.626818 -1.363769   \n",
       "3892       0        1      0       0     1     -1.047746  0.575445  0.368573   \n",
       "4734       1        0      0       1     0     -0.623494  1.435659 -0.324364   \n",
       "6102       0        0      1       1     0     -0.085418 -0.284769  0.368573   \n",
       "\n",
       "       balance  num_of_products  has_cr_card  is_active_member  \\\n",
       "5460  0.740076         0.809174            0                 1   \n",
       "3610  0.880246        -0.929489            1                 0   \n",
       "3892  0.766914        -0.929489            1                 1   \n",
       "4734 -1.208444         0.809174            1                 1   \n",
       "6102 -1.208444         0.809174            1                 1   \n",
       "\n",
       "      estimated_salary  \n",
       "5460          0.368974  \n",
       "3610          0.129917  \n",
       "3892          0.816963  \n",
       "4734         -0.098170  \n",
       "6102         -0.026460  "
      ]
     },
     "execution_count": 33,
     "metadata": {},
     "output_type": "execute_result"
    }
   ],
   "source": [
    "# Scale Quantitative Features\n",
    "\n",
    "scaler = StandardScaler()\n",
    "\n",
    "# Create a list of features to be scaled (all numeric features except binary ones)\n",
    "numeric = ['credit_score', 'age', 'tenure', 'balance','num_of_products','estimated_salary']\n",
    "\n",
    "scaler.fit(features_train[numeric])\n",
    "\n",
    "# Transform the training and validation sets with the transform() function.\n",
    "# Save the changed sets in variables:\n",
    "features_train[numeric] = scaler.transform(features_train[numeric])     \n",
    "features_valid[numeric] = scaler.transform(features_valid[numeric])     \n",
    "features_test[numeric] = scaler.transform(features_test[numeric])\n",
    "\n",
    "# To prevent the warning from appearing, add the following line to the code:\n",
    "pd.options.mode.chained_assignment = None\n",
    "\n",
    "features_train.head()"
   ]
  },
  {
   "cell_type": "markdown",
   "id": "04fb1704",
   "metadata": {},
   "source": [
    "### Model training"
   ]
  },
  {
   "cell_type": "markdown",
   "id": "ec6f9bfb",
   "metadata": {},
   "source": [
    "**Decision Tree**"
   ]
  },
  {
   "cell_type": "code",
   "execution_count": 34,
   "id": "8db0f85e",
   "metadata": {},
   "outputs": [
    {
     "name": "stdout",
     "output_type": "stream",
     "text": [
      "F1 Best Model Decision Tree: 0.5661252900232019\n",
      "AUC_ROC of the best model Decision tree: 0.811063589468102\n",
      "Tree depth: 7\n",
      "CPU times: total: 422 ms\n",
      "Wall time: 414 ms\n"
     ]
    }
   ],
   "source": [
    "%%time\n",
    "\n",
    "best_result_tree = 0\n",
    "best_result_roc_tree = 0\n",
    "best_depth_tree = 0\n",
    "\n",
    "for depth in range(1, 10):\n",
    "    model_tree = DecisionTreeClassifier(random_state=12345, max_depth=depth)\n",
    "    model_tree.fit(features_train, target_train) \n",
    "    predictions_valid = model_tree.predict(features_valid) \n",
    "    result = f1_score(target_valid, predictions_valid)\n",
    "    probabilities_valid = model_tree.predict_proba(features_valid)\n",
    "    probabilities_one_valid = probabilities_valid[:, 1]\n",
    "    \n",
    "    auc_roc = roc_auc_score(target_valid,probabilities_one_valid)\n",
    "    if best_result_tree < result:\n",
    "        best_result_tree = result\n",
    "        best_depth_tree = depth\n",
    "        best_result_roc_tree = auc_roc\n",
    "\n",
    "print(\"F1 Best Model Decision Tree:\", best_result_tree)\n",
    "print(\"AUC_ROC of the best model Decision tree:\", best_result_roc_tree)\n",
    "print('Tree depth:', best_depth_tree)"
   ]
  },
  {
   "cell_type": "markdown",
   "id": "be244fc6",
   "metadata": {},
   "source": [
    "**Random Forest**"
   ]
  },
  {
   "cell_type": "code",
   "execution_count": 35,
   "id": "364062ef",
   "metadata": {},
   "outputs": [
    {
     "name": "stdout",
     "output_type": "stream",
     "text": [
      "F1 of the best Random Forest model: 0.5777233782129743\n",
      "AUC_ROC of the best Random Forest model: 0.8451738967452103\n",
      "Number of trees: 45\n",
      "Tree depth: 10\n",
      "CPU times: total: 25 s\n",
      "Wall time: 25.6 s\n"
     ]
    }
   ],
   "source": [
    "%%time\n",
    "\n",
    "best_model_forest = None\n",
    "best_result_forest = 0\n",
    "best_est_forest = 0\n",
    "best_depth_forest = 0\n",
    "best_result_roc_forest = 0\n",
    "\n",
    "for est in range(10,50,5):\n",
    "     for depth in range (1, 11):\n",
    "        model_forest = RandomForestClassifier(random_state=12345, n_estimators=est, max_depth=depth) \n",
    "        model_forest.fit(features_train, target_train) \n",
    "        predicts = model_forest.predict(features_valid)\n",
    "        result = f1_score(target_valid, predicts) \n",
    "        probabilities_valid = model_forest.predict_proba(features_valid)\n",
    "        probabilities_one_valid = probabilities_valid[:, 1]\n",
    "        auc_roc = roc_auc_score(target_valid,probabilities_one_valid)\n",
    "        if result > best_result_forest:\n",
    "            best_model_forest = model_forest\n",
    "            best_result_forest = result\n",
    "            best_est_forest = est\n",
    "            best_depth_forest = depth\n",
    "            best_result_roc_forest = auc_roc\n",
    "        \n",
    "print(\"F1 of the best Random Forest model:\", best_result_forest)\n",
    "print(\"AUC_ROC of the best Random Forest model:\", best_result_roc_forest)\n",
    "print('Number of trees:', best_est_forest)\n",
    "print('Tree depth:', best_depth_forest)"
   ]
  },
  {
   "cell_type": "markdown",
   "id": "e149eec9",
   "metadata": {},
   "source": [
    "**Logistic regression**"
   ]
  },
  {
   "cell_type": "code",
   "execution_count": 36,
   "id": "1be419c7",
   "metadata": {},
   "outputs": [
    {
     "name": "stdout",
     "output_type": "stream",
     "text": [
      "F1 Logistic Regression Models: 0.3185078909612626\n",
      "AUC ROC of the best logistic regression model: 0.76510140410221\n",
      "CPU times: total: 219 ms\n",
      "Wall time: 69.6 ms\n"
     ]
    }
   ],
   "source": [
    "%%time\n",
    "model_logistic = LogisticRegression(random_state=12345, solver='lbfgs', max_iter= 1000) \n",
    "model_logistic.fit(features_train, target_train)\n",
    "predicted_valid_log = model_logistic.predict(features_valid)\n",
    "probabilities_valid = model_logistic.predict_proba(features_valid)\n",
    "probabilities_one_valid = probabilities_valid[:, 1]\n",
    "best_result_roc_log = roc_auc_score(target_valid,probabilities_one_valid)\n",
    " \n",
    "result_logistic = f1_score(target_valid, predicted_valid_log)\n",
    "print(\"F1 Logistic Regression Models:\", result_logistic)\n",
    "print(\"AUC ROC of the best logistic regression model:\", best_result_roc_log)"
   ]
  },
  {
   "cell_type": "code",
   "execution_count": 37,
   "id": "7d003f29",
   "metadata": {},
   "outputs": [
    {
     "data": {
      "text/html": [
       "<div>\n",
       "<style scoped>\n",
       "    .dataframe tbody tr th:only-of-type {\n",
       "        vertical-align: middle;\n",
       "    }\n",
       "\n",
       "    .dataframe tbody tr th {\n",
       "        vertical-align: top;\n",
       "    }\n",
       "\n",
       "    .dataframe thead th {\n",
       "        text-align: right;\n",
       "    }\n",
       "</style>\n",
       "<table border=\"1\" class=\"dataframe\">\n",
       "  <thead>\n",
       "    <tr style=\"text-align: right;\">\n",
       "      <th></th>\n",
       "      <th>decision_tree</th>\n",
       "      <th>random_forest</th>\n",
       "      <th>logistic_regression</th>\n",
       "    </tr>\n",
       "  </thead>\n",
       "  <tbody>\n",
       "    <tr>\n",
       "      <th>F1</th>\n",
       "      <td>0.566125</td>\n",
       "      <td>0.577723</td>\n",
       "      <td>0.318508</td>\n",
       "    </tr>\n",
       "    <tr>\n",
       "      <th>AUC_ROC</th>\n",
       "      <td>0.811064</td>\n",
       "      <td>0.845174</td>\n",
       "      <td>0.765101</td>\n",
       "    </tr>\n",
       "  </tbody>\n",
       "</table>\n",
       "</div>"
      ],
      "text/plain": [
       "         decision_tree  random_forest  logistic_regression\n",
       "F1            0.566125       0.577723             0.318508\n",
       "AUC_ROC       0.811064       0.845174             0.765101"
      ]
     },
     "execution_count": 37,
     "metadata": {},
     "output_type": "execute_result"
    }
   ],
   "source": [
    "columns_name = ['decision_tree','random_forest','logistic_regression']\n",
    "index_name = ['F1', 'AUC_ROC']\n",
    "values_f1 = [best_result_tree, best_result_forest, result_logistic]\n",
    "values_auc_roc = [best_result_roc_tree, best_result_roc_forest, best_result_roc_log]\n",
    "\n",
    "models_raw = pd.DataFrame([values_f1, values_auc_roc ],index = index_name, columns = columns_name )\n",
    "models_raw\n"
   ]
  },
  {
   "cell_type": "markdown",
   "id": "e476b6e3",
   "metadata": {},
   "source": [
    "### Conclusion:"
   ]
  },
  {
   "cell_type": "markdown",
   "id": "5ad10067",
   "metadata": {},
   "source": [
    "The results of the best models after training were:\n",
    "\n",
    "* Decision Tree\n",
    "     - F1 models: 0.56445;\n",
    "     - AUC_ROC - 0.78870\n",
    "    \n",
    "    \n",
    "* Random Forest\n",
    "     - F1 models: 0.58483;\n",
    "     - AUC_ROC - 0.84847\n",
    "    \n",
    "    \n",
    "* Logistic regression\n",
    "     - F1 models: 0.31850;\n",
    "     - AUC_ROC - 0.76506\n",
    "\n",
    "The condition is \"bring the F1 metric to 0.59.\" not done. Let's look at the result after balancing the sample.\n"
   ]
  },
  {
   "cell_type": "markdown",
   "id": "79f87327",
   "metadata": {},
   "source": [
    "### Eliminate feature imbalance:"
   ]
  },
  {
   "cell_type": "code",
   "execution_count": 40,
   "id": "276eb400",
   "metadata": {},
   "outputs": [
    {
     "data": {
      "text/plain": [
       "0    79.63\n",
       "1    20.37\n",
       "Name: exited, dtype: float64"
      ]
     },
     "execution_count": 40,
     "metadata": {},
     "output_type": "execute_result"
    }
   ],
   "source": [
    "# The following class imbalance was previously defined:\n",
    "data['exited'].value_counts() / len(data) * 100"
   ]
  },
  {
   "cell_type": "code",
   "execution_count": 41,
   "id": "39740481",
   "metadata": {},
   "outputs": [
    {
     "data": {
      "text/plain": [
       "0    7963\n",
       "1    2037\n",
       "Name: exited, dtype: int64"
      ]
     },
     "execution_count": 41,
     "metadata": {},
     "output_type": "execute_result"
    }
   ],
   "source": [
    "data['exited'].value_counts()"
   ]
  },
  {
   "cell_type": "code",
   "execution_count": 42,
   "id": "deb3130b",
   "metadata": {},
   "outputs": [
    {
     "name": "stdout",
     "output_type": "stream",
     "text": [
      "(8057, 13)\n",
      "(8057,)\n"
     ]
    }
   ],
   "source": [
    "# Eliminate the existing imbalance by increasing the sample:\n",
    "\n",
    "def upsample(features, target, repeat):\n",
    "    features_zeros = features[target == 0]\n",
    "    features_ones = features[target == 1]\n",
    "    target_zeros = target[target == 0]\n",
    "    target_ones = target[target == 1]\n",
    "\n",
    "    features_upsampled = pd.concat([features_zeros] + [features_ones] * repeat)\n",
    "    target_upsampled = pd.concat([target_zeros] + [target_ones] * repeat)\n",
    "    \n",
    "    features_upsampled, target_upsampled = shuffle(features_upsampled, target_upsampled, random_state=12345)\n",
    "    return features_upsampled, target_upsampled\n",
    "\n",
    "\n",
    "features_upsampled, target_upsampled = upsample(features_train, target_train, 4)\n",
    "\n",
    "\n",
    "print(features_upsampled.shape)\n",
    "print(target_upsampled.shape)"
   ]
  },
  {
   "cell_type": "code",
   "execution_count": 43,
   "id": "48a49f17",
   "metadata": {},
   "outputs": [
    {
     "data": {
      "text/plain": [
       "1    4076\n",
       "0    3981\n",
       "Name: exited, dtype: int64"
      ]
     },
     "execution_count": 43,
     "metadata": {},
     "output_type": "execute_result"
    }
   ],
   "source": [
    "target_upsampled.value_counts()"
   ]
  },
  {
   "cell_type": "code",
   "execution_count": 44,
   "id": "90a7a43e",
   "metadata": {},
   "outputs": [
    {
     "data": {
      "text/plain": [
       "1    50.589549\n",
       "0    49.410451\n",
       "Name: exited, dtype: float64"
      ]
     },
     "execution_count": 44,
     "metadata": {},
     "output_type": "execute_result"
    }
   ],
   "source": [
    "target_upsampled.value_counts()/len(target_upsampled)*100"
   ]
  },
  {
   "cell_type": "markdown",
   "id": "f90d122d",
   "metadata": {},
   "source": [
    "Balancing was successful, the ratio of 0 and 1 is almost 50:50"
   ]
  },
  {
   "cell_type": "markdown",
   "id": "27c35497",
   "metadata": {},
   "source": [
    "### Training models on a balanced sample using the \"Sampling Up\" method:"
   ]
  },
  {
   "cell_type": "markdown",
   "id": "8b82373a",
   "metadata": {},
   "source": [
    "**Decision Tree**"
   ]
  },
  {
   "cell_type": "code",
   "execution_count": 45,
   "id": "e110721a",
   "metadata": {},
   "outputs": [
    {
     "name": "stdout",
     "output_type": "stream",
     "text": [
      "F1 Best Model Decision Tree: 0.5554716981132076\n",
      "AUC_ROC of the best model Decision Tree UP: 0.8189720566835796\n",
      "Tree depth: 6\n",
      "CPU times: total: 500 ms\n",
      "Wall time: 503 ms\n"
     ]
    }
   ],
   "source": [
    "%%time\n",
    "\n",
    "best_result_tree_up = 0\n",
    "best_depth_tree = 0\n",
    "best_result_roc_tree_up = 0\n",
    "\n",
    "for depth in range(1, 10):\n",
    "    model_tree_up = DecisionTreeClassifier(random_state=12345, max_depth=depth)\n",
    "    model_tree_up.fit(features_upsampled, target_upsampled) \n",
    "    predictions_valid = model_tree_up.predict(features_valid) \n",
    "    result = f1_score(target_valid, predictions_valid) \n",
    "    \n",
    "    probabilities_valid = model_tree_up.predict_proba(features_valid)\n",
    "    probabilities_one_valid = probabilities_valid[:, 1]\n",
    "    auc_roc = roc_auc_score(target_valid,probabilities_one_valid)\n",
    "    if best_result_tree_up < result:\n",
    "        best_result_tree_up = result\n",
    "        best_depth_tree = depth\n",
    "        best_result_roc_tree_up = auc_roc\n",
    "        \n",
    "print(\"F1 Best Model Decision Tree:\", best_result_tree_up)\n",
    "print(\"AUC_ROC of the best model Decision Tree UP:\",best_result_roc_tree_up)\n",
    "print('Tree depth:', best_depth_tree)"
   ]
  },
  {
   "cell_type": "markdown",
   "id": "4d368b11",
   "metadata": {},
   "source": [
    "**Random Forest**"
   ]
  },
  {
   "cell_type": "code",
   "execution_count": 46,
   "id": "208536ba",
   "metadata": {},
   "outputs": [
    {
     "name": "stdout",
     "output_type": "stream",
     "text": [
      "F1 of the best Random Forest model: 0.6171809841534612\n",
      "AUC_ROC of the best Random Forest UP model: 0.8518441447530892\n",
      "Number of trees: 15\n",
      "Tree depth: 9\n",
      "CPU times: total: 32 s\n",
      "Wall time: 32.6 s\n"
     ]
    }
   ],
   "source": [
    "%%time\n",
    "\n",
    "best_model_forest = None\n",
    "best_result_forest_up = 0\n",
    "best_est_forest = 0\n",
    "best_depth_forest = 0\n",
    "best_result_roc_forest_up = 0\n",
    "\n",
    "for est in range(10,50,5):\n",
    "     for depth in range (1, 11):\n",
    "        model_forest_up = RandomForestClassifier(random_state=12345, n_estimators=est, max_depth=depth) \n",
    "        model_forest_up.fit(features_upsampled, target_upsampled) \n",
    "        predicts = model_forest_up.predict(features_valid)\n",
    "        result = f1_score(target_valid, predicts) \n",
    "        probabilities_valid = model_forest_up.predict_proba(features_valid)\n",
    "        probabilities_one_valid = probabilities_valid[:, 1]\n",
    "        auc_roc = roc_auc_score(target_valid,probabilities_one_valid)\n",
    "        if result > best_result_forest_up:\n",
    "            best_model_forest = model_forest\n",
    "            best_result_forest_up = result\n",
    "            best_est_forest = est\n",
    "            best_depth_forest = depth\n",
    "            best_result_roc_forest_up = auc_roc\n",
    "            \n",
    "print(\"F1 of the best Random Forest model:\", best_result_forest_up)\n",
    "print(\"AUC_ROC of the best Random Forest UP model:\", best_result_roc_forest_up)\n",
    "print('Number of trees:', best_est_forest)\n",
    "print('Tree depth:', best_depth_forest)"
   ]
  },
  {
   "cell_type": "markdown",
   "id": "b1c7ebfc",
   "metadata": {},
   "source": [
    "**Logistic regression**"
   ]
  },
  {
   "cell_type": "code",
   "execution_count": 47,
   "id": "b160bce7",
   "metadata": {},
   "outputs": [
    {
     "name": "stdout",
     "output_type": "stream",
     "text": [
      "F1 Logistic Regression Models: 0.4939597315436241\n",
      "AUC ROC of the best UP logistic regression model: 0.7671459170250468\n",
      "CPU times: total: 266 ms\n",
      "Wall time: 79.8 ms\n"
     ]
    }
   ],
   "source": [
    "%%time\n",
    "model_logistic_up = LogisticRegression(random_state=12345, solver='lbfgs', max_iter= 1000) \n",
    "model_logistic_up.fit(features_upsampled, target_upsampled) \n",
    "predicted_valid_log = model_logistic_up.predict(features_valid)\n",
    "probabilities_valid = model_logistic_up.predict_proba(features_valid)\n",
    "probabilities_one_valid = probabilities_valid[:, 1]\n",
    "best_result_roc_log_up = roc_auc_score(target_valid,probabilities_one_valid)\n",
    " \n",
    "result_logistic_up = f1_score(target_valid, predicted_valid_log)\n",
    "print(\"F1 Logistic Regression Models:\", result_logistic_up)\n",
    "print(\"AUC ROC of the best UP logistic regression model:\", best_result_roc_log_up)"
   ]
  },
  {
   "cell_type": "code",
   "execution_count": 48,
   "id": "b5433245",
   "metadata": {},
   "outputs": [
    {
     "data": {
      "text/html": [
       "<div>\n",
       "<style scoped>\n",
       "    .dataframe tbody tr th:only-of-type {\n",
       "        vertical-align: middle;\n",
       "    }\n",
       "\n",
       "    .dataframe tbody tr th {\n",
       "        vertical-align: top;\n",
       "    }\n",
       "\n",
       "    .dataframe thead th {\n",
       "        text-align: right;\n",
       "    }\n",
       "</style>\n",
       "<table border=\"1\" class=\"dataframe\">\n",
       "  <thead>\n",
       "    <tr style=\"text-align: right;\">\n",
       "      <th></th>\n",
       "      <th>decision_tree_up</th>\n",
       "      <th>random_forest_up</th>\n",
       "      <th>logistic_regression_up</th>\n",
       "    </tr>\n",
       "  </thead>\n",
       "  <tbody>\n",
       "    <tr>\n",
       "      <th>F1</th>\n",
       "      <td>0.555472</td>\n",
       "      <td>0.617181</td>\n",
       "      <td>0.493960</td>\n",
       "    </tr>\n",
       "    <tr>\n",
       "      <th>AUC_ROC</th>\n",
       "      <td>0.818972</td>\n",
       "      <td>0.851844</td>\n",
       "      <td>0.767146</td>\n",
       "    </tr>\n",
       "  </tbody>\n",
       "</table>\n",
       "</div>"
      ],
      "text/plain": [
       "         decision_tree_up  random_forest_up  logistic_regression_up\n",
       "F1               0.555472          0.617181                0.493960\n",
       "AUC_ROC          0.818972          0.851844                0.767146"
      ]
     },
     "execution_count": 48,
     "metadata": {},
     "output_type": "execute_result"
    }
   ],
   "source": [
    "columns_name = ['decision_tree_up','random_forest_up','logistic_regression_up']\n",
    "index_name = ['F1', 'AUC_ROC']\n",
    "values_f1_up = [best_result_tree_up, best_result_forest_up, result_logistic_up]\n",
    "values_auc_roc_up = [best_result_roc_tree_up, best_result_roc_forest_up, best_result_roc_log_up]\n",
    "\n",
    "models_up = pd.DataFrame([values_f1_up, values_auc_roc_up ],index = index_name, columns = columns_name )\n",
    "models_up\n"
   ]
  },
  {
   "cell_type": "markdown",
   "id": "b2872d2f",
   "metadata": {},
   "source": [
    "*It is also possible to eliminate the imbalance of classes by the method of sample estimation, however, if we reduce the amount of data for training models, we will also reduce the degree of its quality. In case of choosing the preferred option from this method. For comparison, we also apply such a balancing method as Class Weighting:*\n"
   ]
  },
  {
   "cell_type": "markdown",
   "id": "8e70cd50",
   "metadata": {},
   "source": [
    "### Training models on a balanced sample using the \"Weighting classes\" method:"
   ]
  },
  {
   "cell_type": "markdown",
   "id": "51b00f55",
   "metadata": {},
   "source": [
    "**Decision Tree**"
   ]
  },
  {
   "cell_type": "code",
   "execution_count": 49,
   "id": "791272ae",
   "metadata": {},
   "outputs": [
    {
     "name": "stdout",
     "output_type": "stream",
     "text": [
      "F1 Best Model Decision Tree: 0.5661252900232019\n",
      "AUC_ROC of the best model Decision Tree Balanced: 0.7671459170250468\n",
      "Tree depth: 6\n",
      "CPU times: total: 422 ms\n",
      "Wall time: 428 ms\n"
     ]
    }
   ],
   "source": [
    "%%time\n",
    "\n",
    "best_result_tree_bl = 0\n",
    "best_depth_tree_bl = 0\n",
    "best_result_roc_tree_bl = 0\n",
    "\n",
    "for depth in range(1, 10):\n",
    "    model_bl = DecisionTreeClassifier(random_state=12345, max_depth=depth, class_weight = 'balanced')\n",
    "    model_bl.fit(features_train, target_train) \n",
    "    predictions_valid = model_bl.predict(features_valid) \n",
    "    result = f1_score(target_valid, predictions_valid) \n",
    "    \n",
    "    probabilities_value = model_bl.predict_proba(features_valid)\n",
    "    probabilities_one_valid = probabilities_valid[:,1]\n",
    "    auc_roc = roc_auc_score(target_valid, probabilities_one_valid)\n",
    "    \n",
    "    if best_result_tree_bl < result:\n",
    "        best_result_tree_bl = result\n",
    "        best_depth_tree_bl = depth\n",
    "        best_result_roc_tree_bl = auc_roc\n",
    "\n",
    "print(\"F1 Best Model Decision Tree:\", best_result_tree)\n",
    "print(\"AUC_ROC of the best model Decision Tree Balanced:\",best_result_roc_tree_bl)\n",
    "print('Tree depth:', best_depth_tree)"
   ]
  },
  {
   "cell_type": "markdown",
   "id": "ed798bfd",
   "metadata": {},
   "source": [
    "**Random Forest**"
   ]
  },
  {
   "cell_type": "code",
   "execution_count": 50,
   "id": "68d75678",
   "metadata": {},
   "outputs": [
    {
     "name": "stdout",
     "output_type": "stream",
     "text": [
      "F1 of the best Random Forest model: 0.6112650046168052\n",
      "AUC_ROC of the best Balanced Random Forest: 0.8481225999356539\n",
      "Number of trees: 45\n",
      "Tree depth: 9\n",
      "CPU times: total: 25 s\n",
      "Wall time: 25.5 s\n"
     ]
    }
   ],
   "source": [
    "%%time\n",
    "\n",
    "best_result_forest_bl = 0\n",
    "best_est_forest_bl = 0\n",
    "best_depth_forest_bl = 0\n",
    "best_result_roc_forest_bl = 0\n",
    "\n",
    "for est in range(10,50,5):\n",
    "     for depth in range (1, 11):\n",
    "        model_forest_bl = RandomForestClassifier(random_state=12345, n_estimators=est, max_depth=depth, class_weight = 'balanced') \n",
    "        model_forest_bl.fit(features_train, target_train) \n",
    "        predicts = model_forest_bl.predict(features_valid)\n",
    "        result = f1_score(target_valid, predicts) \n",
    "        \n",
    "        probabilities_value = model_forest_bl.predict_proba(features_valid)\n",
    "        probabilities_one_valid = probabilities_value[:,1]\n",
    "        auc_roc = roc_auc_score(target_valid, probabilities_one_valid)\n",
    "        if result > best_result_forest_bl:            \n",
    "            best_result_forest_bl = result\n",
    "            best_est_forest_bl = est\n",
    "            best_depth_forest_bl = depth\n",
    "            best_result_roc_forest_bl = auc_roc\n",
    "        \n",
    "print(\"F1 of the best Random Forest model:\", best_result_forest_bl)\n",
    "print(\"AUC_ROC of the best Balanced Random Forest:\", best_result_roc_forest_bl)\n",
    "print('Number of trees:', best_est_forest_bl)\n",
    "print('Tree depth:', best_depth_forest_bl)"
   ]
  },
  {
   "cell_type": "markdown",
   "id": "ef168130",
   "metadata": {},
   "source": [
    "**Logistic regression**"
   ]
  },
  {
   "cell_type": "code",
   "execution_count": 51,
   "id": "b54cf481",
   "metadata": {},
   "outputs": [
    {
     "name": "stdout",
     "output_type": "stream",
     "text": [
      "F1 logistic regression models: 0.49659863945578225\n",
      "AUC_ROC of the best Balanced Logistic Regression Model: 0.7671498525648405\n",
      "CPU times: total: 203 ms\n",
      "Wall time: 55.7 ms\n"
     ]
    }
   ],
   "source": [
    "%%time\n",
    "model_logistic_bl = LogisticRegression(random_state=12345, class_weight = 'balanced', solver='lbfgs', max_iter= 1000) \n",
    "model_logistic_bl.fit(features_train, target_train)\n",
    "predicted_valid_log = model_logistic_bl.predict(features_valid)\n",
    " \n",
    "result_logistic_bl = f1_score(target_valid, predicted_valid_log)\n",
    "\n",
    "probabilities_values = model_logistic_bl.predict_proba(features_valid)\n",
    "probabilities_one_valid_bl = probabilities_values[:,1]\n",
    "best_result_roc_log_bl = roc_auc_score(target_valid, probabilities_one_valid_bl)\n",
    "\n",
    "print(\"F1 logistic regression models:\", result_logistic_bl)\n",
    "print(\"AUC_ROC of the best Balanced Logistic Regression Model:\", best_result_roc_log_bl)"
   ]
  },
  {
   "cell_type": "code",
   "execution_count": 52,
   "id": "0720e45e",
   "metadata": {},
   "outputs": [
    {
     "data": {
      "text/html": [
       "<div>\n",
       "<style scoped>\n",
       "    .dataframe tbody tr th:only-of-type {\n",
       "        vertical-align: middle;\n",
       "    }\n",
       "\n",
       "    .dataframe tbody tr th {\n",
       "        vertical-align: top;\n",
       "    }\n",
       "\n",
       "    .dataframe thead th {\n",
       "        text-align: right;\n",
       "    }\n",
       "</style>\n",
       "<table border=\"1\" class=\"dataframe\">\n",
       "  <thead>\n",
       "    <tr style=\"text-align: right;\">\n",
       "      <th></th>\n",
       "      <th>decision_tree_bl</th>\n",
       "      <th>random_forest_bl</th>\n",
       "      <th>logistic_regression_bl</th>\n",
       "    </tr>\n",
       "  </thead>\n",
       "  <tbody>\n",
       "    <tr>\n",
       "      <th>F1</th>\n",
       "      <td>0.551566</td>\n",
       "      <td>0.611265</td>\n",
       "      <td>0.496599</td>\n",
       "    </tr>\n",
       "    <tr>\n",
       "      <th>AUC_ROC</th>\n",
       "      <td>0.767146</td>\n",
       "      <td>0.848123</td>\n",
       "      <td>0.767150</td>\n",
       "    </tr>\n",
       "  </tbody>\n",
       "</table>\n",
       "</div>"
      ],
      "text/plain": [
       "         decision_tree_bl  random_forest_bl  logistic_regression_bl\n",
       "F1               0.551566          0.611265                0.496599\n",
       "AUC_ROC          0.767146          0.848123                0.767150"
      ]
     },
     "execution_count": 52,
     "metadata": {},
     "output_type": "execute_result"
    }
   ],
   "source": [
    "columns_name = ['decision_tree_bl','random_forest_bl','logistic_regression_bl']\n",
    "index_name = ['F1', 'AUC_ROC']\n",
    "values_f1_bl = [best_result_tree_bl, best_result_forest_bl, result_logistic_bl]\n",
    "values_auc_roc_bl = [best_result_roc_tree_bl, best_result_roc_forest_bl, best_result_roc_log_bl]\n",
    "\n",
    "models_bl = pd.DataFrame([values_f1_bl, values_auc_roc_bl ],index = index_name, columns = columns_name )\n",
    "models_bl"
   ]
  },
  {
   "cell_type": "code",
   "execution_count": 53,
   "id": "df828c6f",
   "metadata": {},
   "outputs": [
    {
     "data": {
      "text/html": [
       "<div>\n",
       "<style scoped>\n",
       "    .dataframe tbody tr th:only-of-type {\n",
       "        vertical-align: middle;\n",
       "    }\n",
       "\n",
       "    .dataframe tbody tr th {\n",
       "        vertical-align: top;\n",
       "    }\n",
       "\n",
       "    .dataframe thead th {\n",
       "        text-align: right;\n",
       "    }\n",
       "</style>\n",
       "<table border=\"1\" class=\"dataframe\">\n",
       "  <thead>\n",
       "    <tr style=\"text-align: right;\">\n",
       "      <th></th>\n",
       "      <th>decision_tree</th>\n",
       "      <th>random_forest</th>\n",
       "      <th>logistic_regression</th>\n",
       "      <th>decision_tree_up</th>\n",
       "      <th>random_forest_up</th>\n",
       "      <th>logistic_regression_up</th>\n",
       "      <th>decision_tree_bl</th>\n",
       "      <th>random_forest_bl</th>\n",
       "      <th>logistic_regression_bl</th>\n",
       "    </tr>\n",
       "  </thead>\n",
       "  <tbody>\n",
       "    <tr>\n",
       "      <th>F1</th>\n",
       "      <td>0.566125</td>\n",
       "      <td>0.577723</td>\n",
       "      <td>0.318508</td>\n",
       "      <td>0.555472</td>\n",
       "      <td>0.617181</td>\n",
       "      <td>0.493960</td>\n",
       "      <td>0.551566</td>\n",
       "      <td>0.611265</td>\n",
       "      <td>0.496599</td>\n",
       "    </tr>\n",
       "    <tr>\n",
       "      <th>AUC_ROC</th>\n",
       "      <td>0.811064</td>\n",
       "      <td>0.845174</td>\n",
       "      <td>0.765101</td>\n",
       "      <td>0.818972</td>\n",
       "      <td>0.851844</td>\n",
       "      <td>0.767146</td>\n",
       "      <td>0.767146</td>\n",
       "      <td>0.848123</td>\n",
       "      <td>0.767150</td>\n",
       "    </tr>\n",
       "  </tbody>\n",
       "</table>\n",
       "</div>"
      ],
      "text/plain": [
       "         decision_tree  random_forest  logistic_regression  decision_tree_up  \\\n",
       "F1            0.566125       0.577723             0.318508          0.555472   \n",
       "AUC_ROC       0.811064       0.845174             0.765101          0.818972   \n",
       "\n",
       "         random_forest_up  logistic_regression_up  decision_tree_bl  \\\n",
       "F1               0.617181                0.493960          0.551566   \n",
       "AUC_ROC          0.851844                0.767146          0.767146   \n",
       "\n",
       "         random_forest_bl  logistic_regression_bl  \n",
       "F1               0.611265                0.496599  \n",
       "AUC_ROC          0.848123                0.767150  "
      ]
     },
     "execution_count": 53,
     "metadata": {},
     "output_type": "execute_result"
    }
   ],
   "source": [
    "models_all =  models_raw.merge(models_up, left_index=True, right_index=True, how='left').merge(models_bl, left_index=True, right_index=True, how='left')\n",
    "models_all"
   ]
  },
  {
   "cell_type": "markdown",
   "id": "4a1978f9",
   "metadata": {},
   "source": [
    "### Conclusion:\n",
    "\n",
    "*Having eliminated the imbalance in the sample data using the \"Sampling up\" and \"Class weighting\" methods, it was found that the \"Class weighting\" method is more effective in this case:*\n",
    "\n",
    "The result after balancing the data with different methods:\n",
    "\n",
    "**Sampling increase:**\n",
    "* `Decision Tree` - F1 models: 0.55589;\n",
    "* `Random Forest` - F1 models: 0.60393; AUC_ROC = 0.849117\n",
    "* `Logistic regression` - F1 models: 0.49294;\n",
    "\n",
    "**Class weighting:**\n",
    "* `Decision Tree` - F1 models: 0.55198;\n",
    "* `Random Forest` - F1 models: 0.61626; AUC_ROC = 0.843259\n",
    "* `Logistic regression` - F1 models: 0.31850;\n",
    "\n",
    "*Condition \"bring F1 metric to 0.59.\" performed. At this stage, the Random Forest model, balanced by the Class Weighting method, showed the best result.*\n"
   ]
  },
  {
   "cell_type": "markdown",
   "id": "4160ce08",
   "metadata": {},
   "source": [
    "### Conduct final testing"
   ]
  },
  {
   "cell_type": "code",
   "execution_count": 54,
   "id": "35a17362",
   "metadata": {},
   "outputs": [
    {
     "name": "stdout",
     "output_type": "stream",
     "text": [
      "F1 of final model: 0.6008064516129032\n",
      "AUC ROC of final model: 0.8599951902665245\n"
     ]
    }
   ],
   "source": [
    "model_forest_bl\n",
    "\n",
    "prediction_final = model_forest_bl.predict(features_test)\n",
    "\n",
    "f1_final = f1_score(target_test,prediction_final)\n",
    "\n",
    "probabilities_value_fainal = model_forest_bl.predict_proba(features_test)\n",
    "probabilities_one_final = probabilities_value_fainal[:,1]\n",
    "auc_roc_final = roc_auc_score(target_test, probabilities_one_final)\n",
    "\n",
    "print('F1 of final model:',f1_final)\n",
    "print('AUC ROC of final model:',auc_roc_final)"
   ]
  },
  {
   "cell_type": "code",
   "execution_count": 55,
   "id": "33571c47",
   "metadata": {
    "scrolled": true
   },
   "outputs": [
    {
     "data": {
      "text/plain": [
       "Text(0.5, 1.0, 'ROC-curve')"
      ]
     },
     "execution_count": 55,
     "metadata": {},
     "output_type": "execute_result"
    },
    {
     "data": {
      "image/png": "[encoded data removed]",
      "text/plain": [
       "<Figure size 720x360 with 1 Axes>"
      ]
     },
     "metadata": {
      "needs_background": "light"
     },
     "output_type": "display_data"
    }
   ],
   "source": [
    "fpr, tpr, thresholds = roc_curve(target_test, probabilities_one_final)# < напишите код здесь >\n",
    "\n",
    "plt.figure(figsize = [10,5])\n",
    "plt.plot(fpr, tpr)\n",
    "\n",
    "\n",
    "plt.plot([0, 1], [0, 1], linestyle='--')\n",
    "\n",
    "\n",
    "plt.xlim([0.0, 1.0])\n",
    "plt.ylim([0.0, 1.0])\n",
    "\n",
    "\n",
    "plt.xlabel('False Positive Rate')\n",
    "plt.ylabel('True Positive Rate')\n",
    "\n",
    "\n",
    "plt.title('ROC-curve')"
   ]
  },
  {
   "cell_type": "markdown",
   "id": "46f9a1fb",
   "metadata": {},
   "source": [
    "# Conclusion:\n",
    "\n",
    "As a result of the study, 3 machine learning models were trained with and without class imbalance. The best result was shown by the Decision Forest model, which passed class balancing by the Class Weighting method.\n",
    "The results of the final model were:\n",
    "\n",
    "- F1 measure = 0.662\n",
    "- AUC ROC = 0.868\n",
    "\n",
    "The condition of the F1 metric size not less than 0.59 is met.\n"
   ]
  }
 ],
 "metadata": {
  "ExecuteTimeLog": [
   {
    "duration": 1806,
    "start_time": "2022-09-13T22:43:55.395Z"
   },
   {
    "duration": 257,
    "start_time": "2022-09-13T22:43:57.950Z"
   },
   {
    "duration": 75,
    "start_time": "2022-09-13T22:44:43.720Z"
   },
   {
    "duration": 149,
    "start_time": "2022-09-13T22:44:53.872Z"
   },
   {
    "duration": 76,
    "start_time": "2022-09-13T22:46:51.394Z"
   },
   {
    "duration": 45,
    "start_time": "2022-09-13T22:47:08.258Z"
   },
   {
    "duration": 47,
    "start_time": "2022-09-13T22:47:20.555Z"
   },
   {
    "duration": 97,
    "start_time": "2022-09-13T22:47:27.599Z"
   },
   {
    "duration": 142,
    "start_time": "2022-09-13T22:47:33.905Z"
   },
   {
    "duration": 98,
    "start_time": "2022-09-13T22:48:22.515Z"
   },
   {
    "duration": 48,
    "start_time": "2022-09-13T22:48:33.590Z"
   },
   {
    "duration": 54,
    "start_time": "2022-09-13T22:49:04.242Z"
   },
   {
    "duration": 46,
    "start_time": "2022-09-13T22:49:25.871Z"
   },
   {
    "duration": 82,
    "start_time": "2022-09-13T22:49:38.604Z"
   },
   {
    "duration": 71,
    "start_time": "2022-09-13T22:49:47.014Z"
   },
   {
    "duration": 52,
    "start_time": "2022-09-13T22:49:57.349Z"
   },
   {
    "duration": 48,
    "start_time": "2022-09-13T22:50:09.551Z"
   },
   {
    "duration": 17,
    "start_time": "2022-09-13T22:50:15.247Z"
   },
   {
    "duration": 40,
    "start_time": "2022-09-13T22:50:25.563Z"
   },
   {
    "duration": 15,
    "start_time": "2022-09-13T22:50:38.468Z"
   },
   {
    "duration": 67,
    "start_time": "2022-09-13T22:50:47.223Z"
   },
   {
    "duration": 39,
    "start_time": "2022-09-13T22:51:15.550Z"
   },
   {
    "duration": 43,
    "start_time": "2022-09-13T22:53:37.385Z"
   },
   {
    "duration": 25,
    "start_time": "2022-09-13T22:53:38.959Z"
   },
   {
    "duration": 8,
    "start_time": "2022-09-13T22:53:40.596Z"
   },
   {
    "duration": 13,
    "start_time": "2022-09-13T22:53:42.652Z"
   },
   {
    "duration": 10,
    "start_time": "2022-09-13T22:54:33.454Z"
   },
   {
    "duration": 21,
    "start_time": "2022-09-13T22:54:59.164Z"
   },
   {
    "duration": 7,
    "start_time": "2022-09-13T22:55:09.359Z"
   },
   {
    "duration": 12,
    "start_time": "2022-09-13T22:55:24.606Z"
   },
   {
    "duration": 13,
    "start_time": "2022-09-13T22:55:27.448Z"
   },
   {
    "duration": 9,
    "start_time": "2022-09-13T22:55:41.204Z"
   },
   {
    "duration": 13,
    "start_time": "2022-09-13T22:57:00.890Z"
   },
   {
    "duration": 12,
    "start_time": "2022-09-13T22:57:15.879Z"
   },
   {
    "duration": 18,
    "start_time": "2022-09-13T22:57:21.945Z"
   },
   {
    "duration": 15,
    "start_time": "2022-09-13T22:58:16.251Z"
   },
   {
    "duration": 25,
    "start_time": "2022-09-13T22:58:19.808Z"
   },
   {
    "duration": 13,
    "start_time": "2022-09-13T22:58:34.049Z"
   },
   {
    "duration": 12,
    "start_time": "2022-09-13T22:58:38.376Z"
   },
   {
    "duration": 7,
    "start_time": "2022-09-13T22:58:58.156Z"
   },
   {
    "duration": 8,
    "start_time": "2022-09-13T22:59:10.812Z"
   },
   {
    "duration": 10,
    "start_time": "2022-09-13T22:59:15.169Z"
   },
   {
    "duration": 15,
    "start_time": "2022-09-13T22:59:28.913Z"
   },
   {
    "duration": 49,
    "start_time": "2022-09-13T23:00:17.868Z"
   },
   {
    "duration": 11,
    "start_time": "2022-09-13T23:00:20.779Z"
   },
   {
    "duration": 11,
    "start_time": "2022-09-13T23:00:31.102Z"
   },
   {
    "duration": 16,
    "start_time": "2022-09-13T23:00:38.609Z"
   },
   {
    "duration": 9,
    "start_time": "2022-09-13T23:00:54.292Z"
   },
   {
    "duration": 17,
    "start_time": "2022-09-13T23:00:57.295Z"
   },
   {
    "duration": 16,
    "start_time": "2022-09-13T23:01:01.780Z"
   },
   {
    "duration": 10,
    "start_time": "2022-09-13T23:01:06.306Z"
   },
   {
    "duration": 12,
    "start_time": "2022-09-13T23:01:48.401Z"
   },
   {
    "duration": 11,
    "start_time": "2022-09-13T23:02:06.348Z"
   },
   {
    "duration": 12,
    "start_time": "2022-09-13T23:02:34.896Z"
   },
   {
    "duration": 12,
    "start_time": "2022-09-13T23:02:51.186Z"
   },
   {
    "duration": 9,
    "start_time": "2022-09-13T23:03:23.358Z"
   },
   {
    "duration": 14,
    "start_time": "2022-09-13T23:03:27.120Z"
   },
   {
    "duration": 12,
    "start_time": "2022-09-13T23:30:48.648Z"
   },
   {
    "duration": 4,
    "start_time": "2022-09-13T23:30:58.356Z"
   },
   {
    "duration": 46,
    "start_time": "2022-09-13T23:31:00.192Z"
   },
   {
    "duration": 15,
    "start_time": "2022-09-13T23:31:01.451Z"
   },
   {
    "duration": 7,
    "start_time": "2022-09-13T23:31:01.652Z"
   },
   {
    "duration": 13,
    "start_time": "2022-09-13T23:31:01.858Z"
   },
   {
    "duration": 15,
    "start_time": "2022-09-13T23:31:02.206Z"
   },
   {
    "duration": 18,
    "start_time": "2022-09-13T23:31:02.354Z"
   },
   {
    "duration": 31,
    "start_time": "2022-09-13T23:31:02.659Z"
   },
   {
    "duration": 5,
    "start_time": "2022-09-13T23:31:02.812Z"
   },
   {
    "duration": 8,
    "start_time": "2022-09-13T23:31:02.956Z"
   },
   {
    "duration": 5,
    "start_time": "2022-09-13T23:31:03.392Z"
   },
   {
    "duration": 6,
    "start_time": "2022-09-13T23:31:03.517Z"
   },
   {
    "duration": 25,
    "start_time": "2022-09-13T23:31:03.816Z"
   },
   {
    "duration": 18,
    "start_time": "2022-09-13T23:31:03.958Z"
   },
   {
    "duration": 6,
    "start_time": "2022-09-13T23:31:04.108Z"
   },
   {
    "duration": 44,
    "start_time": "2022-09-13T23:31:04.277Z"
   },
   {
    "duration": 20,
    "start_time": "2022-09-13T23:31:04.463Z"
   },
   {
    "duration": 5,
    "start_time": "2022-09-13T23:31:05.996Z"
   },
   {
    "duration": 14,
    "start_time": "2022-09-13T23:31:06.561Z"
   },
   {
    "duration": 5,
    "start_time": "2022-09-13T23:31:06.758Z"
   },
   {
    "duration": 12,
    "start_time": "2022-09-13T23:31:07.352Z"
   },
   {
    "duration": 16,
    "start_time": "2022-09-13T23:31:07.615Z"
   },
   {
    "duration": 6,
    "start_time": "2022-09-13T23:31:07.934Z"
   },
   {
    "duration": 5,
    "start_time": "2022-09-13T23:31:08.271Z"
   },
   {
    "duration": 8,
    "start_time": "2022-09-13T23:31:08.585Z"
   },
   {
    "duration": 12,
    "start_time": "2022-09-13T23:31:09.224Z"
   },
   {
    "duration": 5,
    "start_time": "2022-09-13T23:31:10.102Z"
   },
   {
    "duration": 4,
    "start_time": "2022-09-13T23:31:10.402Z"
   },
   {
    "duration": 11,
    "start_time": "2022-09-13T23:31:10.747Z"
   },
   {
    "duration": 32,
    "start_time": "2022-09-13T23:31:13.106Z"
   },
   {
    "duration": 15,
    "start_time": "2022-09-13T23:31:14.065Z"
   },
   {
    "duration": 6,
    "start_time": "2022-09-13T23:31:14.610Z"
   },
   {
    "duration": 6,
    "start_time": "2022-09-13T23:31:16.971Z"
   },
   {
    "duration": 123,
    "start_time": "2022-09-14T18:04:43.916Z"
   },
   {
    "duration": 1704,
    "start_time": "2022-09-14T18:04:50.564Z"
   },
   {
    "duration": 90,
    "start_time": "2022-09-14T18:04:53.435Z"
   },
   {
    "duration": 15,
    "start_time": "2022-09-14T18:05:07.188Z"
   },
   {
    "duration": 8,
    "start_time": "2022-09-14T18:05:08.299Z"
   },
   {
    "duration": 9,
    "start_time": "2022-09-14T18:05:08.814Z"
   },
   {
    "duration": 132,
    "start_time": "2022-09-14T18:05:48.958Z"
   },
   {
    "duration": 11,
    "start_time": "2022-09-14T18:05:58.823Z"
   },
   {
    "duration": 22,
    "start_time": "2022-09-14T18:06:00.458Z"
   },
   {
    "duration": 4,
    "start_time": "2022-09-14T18:06:02.883Z"
   },
   {
    "duration": 6,
    "start_time": "2022-09-14T18:06:03.725Z"
   },
   {
    "duration": 289,
    "start_time": "2022-09-14T18:07:07.763Z"
   },
   {
    "duration": 4,
    "start_time": "2022-09-14T18:07:16.477Z"
   },
   {
    "duration": 4,
    "start_time": "2022-09-14T18:07:18.752Z"
   },
   {
    "duration": 13,
    "start_time": "2022-09-14T18:07:40.033Z"
   },
   {
    "duration": 16,
    "start_time": "2022-09-14T18:07:41.244Z"
   },
   {
    "duration": 5,
    "start_time": "2022-09-14T18:07:43.906Z"
   },
   {
    "duration": 36,
    "start_time": "2022-09-14T18:07:44.775Z"
   },
   {
    "duration": 18,
    "start_time": "2022-09-14T18:07:47.529Z"
   },
   {
    "duration": 4,
    "start_time": "2022-09-14T18:08:16.005Z"
   },
   {
    "duration": 13,
    "start_time": "2022-09-14T18:08:20.720Z"
   },
   {
    "duration": 4,
    "start_time": "2022-09-14T18:08:32.823Z"
   },
   {
    "duration": 10,
    "start_time": "2022-09-14T18:08:37.378Z"
   },
   {
    "duration": 29,
    "start_time": "2022-09-14T18:10:34.984Z"
   },
   {
    "duration": 16,
    "start_time": "2022-09-14T18:11:12.907Z"
   },
   {
    "duration": 10,
    "start_time": "2022-09-14T18:11:24.291Z"
   },
   {
    "duration": 3,
    "start_time": "2022-09-14T18:15:11.153Z"
   },
   {
    "duration": 40,
    "start_time": "2022-09-14T18:15:11.551Z"
   },
   {
    "duration": 13,
    "start_time": "2022-09-14T18:15:13.685Z"
   },
   {
    "duration": 7,
    "start_time": "2022-09-14T18:15:14.132Z"
   },
   {
    "duration": 12,
    "start_time": "2022-09-14T18:15:14.577Z"
   },
   {
    "duration": 9,
    "start_time": "2022-09-14T18:15:15.365Z"
   },
   {
    "duration": 10,
    "start_time": "2022-09-14T18:15:16.161Z"
   },
   {
    "duration": 28,
    "start_time": "2022-09-14T18:15:17.100Z"
   },
   {
    "duration": 5,
    "start_time": "2022-09-14T18:15:17.641Z"
   },
   {
    "duration": 6,
    "start_time": "2022-09-14T18:15:18.132Z"
   },
   {
    "duration": 7,
    "start_time": "2022-09-14T18:18:31.810Z"
   },
   {
    "duration": 4,
    "start_time": "2022-09-14T18:18:32.333Z"
   },
   {
    "duration": 19,
    "start_time": "2022-09-14T18:18:33.206Z"
   },
   {
    "duration": 16,
    "start_time": "2022-09-14T18:18:33.543Z"
   },
   {
    "duration": 4,
    "start_time": "2022-09-14T18:18:33.875Z"
   },
   {
    "duration": 42,
    "start_time": "2022-09-14T18:18:34.266Z"
   },
   {
    "duration": 21,
    "start_time": "2022-09-14T18:18:34.709Z"
   },
   {
    "duration": 5,
    "start_time": "2022-09-14T18:18:40.051Z"
   },
   {
    "duration": 12,
    "start_time": "2022-09-14T18:18:41.322Z"
   },
   {
    "duration": 5,
    "start_time": "2022-09-14T18:18:43.206Z"
   },
   {
    "duration": 16,
    "start_time": "2022-09-14T18:18:44.407Z"
   },
   {
    "duration": 3,
    "start_time": "2022-09-14T18:18:47.193Z"
   },
   {
    "duration": 12,
    "start_time": "2022-09-14T18:18:48.442Z"
   },
   {
    "duration": 5,
    "start_time": "2022-09-14T18:18:49.375Z"
   },
   {
    "duration": 5,
    "start_time": "2022-09-14T18:18:49.817Z"
   },
   {
    "duration": 7,
    "start_time": "2022-09-14T18:18:50.290Z"
   },
   {
    "duration": 6,
    "start_time": "2022-09-14T18:18:54.349Z"
   },
   {
    "duration": 4,
    "start_time": "2022-09-14T18:19:16.618Z"
   },
   {
    "duration": 4,
    "start_time": "2022-09-14T18:19:19.087Z"
   },
   {
    "duration": 10,
    "start_time": "2022-09-14T18:19:20.117Z"
   },
   {
    "duration": 3,
    "start_time": "2022-09-14T18:33:37.351Z"
   },
   {
    "duration": 2,
    "start_time": "2022-09-14T18:34:19.840Z"
   },
   {
    "duration": 103,
    "start_time": "2022-09-14T18:34:28.670Z"
   },
   {
    "duration": 18,
    "start_time": "2022-09-14T18:35:00.506Z"
   },
   {
    "duration": 6,
    "start_time": "2022-09-14T18:35:07.734Z"
   },
   {
    "duration": 76,
    "start_time": "2022-09-14T18:50:56.904Z"
   },
   {
    "duration": 15,
    "start_time": "2022-09-14T18:51:01.005Z"
   },
   {
    "duration": 13,
    "start_time": "2022-09-14T18:51:08.631Z"
   },
   {
    "duration": 6,
    "start_time": "2022-09-14T18:57:16.331Z"
   },
   {
    "duration": 23,
    "start_time": "2022-09-14T18:59:14.758Z"
   },
   {
    "duration": 25,
    "start_time": "2022-09-14T19:04:53.668Z"
   },
   {
    "duration": 17,
    "start_time": "2022-09-14T19:05:32.943Z"
   },
   {
    "duration": 13,
    "start_time": "2022-09-14T19:05:34.397Z"
   },
   {
    "duration": 11,
    "start_time": "2022-09-14T19:07:37.735Z"
   },
   {
    "duration": 12,
    "start_time": "2022-09-14T19:07:54.496Z"
   },
   {
    "duration": 4,
    "start_time": "2022-09-14T19:08:10.976Z"
   },
   {
    "duration": 29,
    "start_time": "2022-09-14T19:08:27.951Z"
   },
   {
    "duration": 27,
    "start_time": "2022-09-14T19:08:57.118Z"
   },
   {
    "duration": 27,
    "start_time": "2022-09-14T19:09:56.642Z"
   },
   {
    "duration": 3,
    "start_time": "2022-09-14T19:11:32.055Z"
   },
   {
    "duration": 23,
    "start_time": "2022-09-14T19:11:51.758Z"
   },
   {
    "duration": 24,
    "start_time": "2022-09-14T19:11:58.631Z"
   },
   {
    "duration": 74,
    "start_time": "2022-09-14T19:12:04.100Z"
   },
   {
    "duration": 25,
    "start_time": "2022-09-14T19:12:10.515Z"
   },
   {
    "duration": 21,
    "start_time": "2022-09-14T19:12:18.864Z"
   },
   {
    "duration": 6,
    "start_time": "2022-09-14T19:12:19.344Z"
   },
   {
    "duration": 44,
    "start_time": "2022-09-14T19:13:17.387Z"
   },
   {
    "duration": 15,
    "start_time": "2022-09-14T19:13:25.507Z"
   },
   {
    "duration": 29,
    "start_time": "2022-09-14T19:13:38.810Z"
   }
  ],
  "kernelspec": {
   "display_name": "Python 3 (ipykernel)",
   "language": "python",
   "name": "python3"
  },
  "language_info": {
   "codemirror_mode": {
    "name": "ipython",
    "version": 3
   },
   "file_extension": ".py",
   "mimetype": "text/x-python",
   "name": "python",
   "nbconvert_exporter": "python",
   "pygments_lexer": "ipython3",
   "version": "3.9.12"
  },
  "toc": {
   "base_numbering": 1,
   "nav_menu": {},
   "number_sections": true,
   "sideBar": true,
   "skip_h1_title": true,
   "title_cell": "Table of Contents",
   "title_sidebar": "Contents",
   "toc_cell": false,
   "toc_position": {},
   "toc_section_display": true,
   "toc_window_display": false
  }
 },
 "nbformat": 4,
 "nbformat_minor": 5
}
