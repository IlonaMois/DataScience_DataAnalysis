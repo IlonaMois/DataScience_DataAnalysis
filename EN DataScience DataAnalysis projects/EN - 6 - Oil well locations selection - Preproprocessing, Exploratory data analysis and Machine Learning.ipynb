{
 "cells": [
  {
   "cell_type": "markdown",
   "id": "e5f96831",
   "metadata": {},
   "source": [
    "# Choice of location for the oil well"
   ]
  },
  {
   "cell_type": "markdown",
   "id": "640ce451",
   "metadata": {},
   "source": [
    "## Description of the project\n",
    "\n",
    "Let's say you work for the mining company GlavRosGosNeft. We need to decide where to drill a new oil well.\n",
    "The steps for choosing a location are usually as follows:\n",
    "Characteristics for wells are collected in the selected region: oil quality and volume of its reserves;\n",
    "Build a model to predict the volume of reserves in new wells;\n",
    "Choose the wells with the highest value estimates;\n",
    "The region with the maximum total profit of the selected wells is determined.\n",
    "You have been provided with oil samples in three regions. The characteristics for each well in the region are already known. Build a model to determine the region where mining will bring the most profit. Analyze possible profits and risks using the Bootstrap technique.\n",
    "\n",
    "\n",
    "## Instructions for project execution\n",
    "\n",
    "- Download and prepare data. Explain the procedure.\n",
    "- Train and test the model for each region:\n",
    "    - Divide the data into training and validation samples in a ratio of 75:25.\n",
    "    - Train the model and make predictions on the validation set.\n",
    "    - Store predictions and correct answers on the validation set.\n",
    "    - Print on the screen the average stock of predicted raw materials and the RMSE of the model.\n",
    "    - Analyze the results.\n",
    "\n",
    "- Prepare for profit calculation:\n",
    "    - Save all key values for calculations in separate variables.\n",
    "    - Calculate sufficient volume of raw materials for break-even development of a new well. Compare the volume of raw materials received with the average stock in each region.\n",
    "    - Write conclusions on the stage of preparing the profit calculation.\n",
    "\n",
    "- Write a function to calculate profit for selected wells and model predictions:\n",
    "    - Select wells with maximum prediction values.\n",
    "    - Sum the target value of the volume of raw materials corresponding to these predictions.\n",
    "    - Calculate the profit for the received volume of raw materials.\n",
    "\n",
    "- Calculate risks and rewards for each region:\n",
    "    - Apply the Bootstrap technique with 1000 samples to find the profit distribution.\n",
    "    - Find the average profit, 95% confidence interval and risk of loss. Loss is negative profit.\n",
    "    - Write conclusions: suggest a region for well development and justify the choice.\n",
    "\n",
    "**Data Description**\n",
    "\n",
    "- id - unique identifier of the well;\n",
    "- f0, f1, f2 - three signs of points (it doesn't matter what they mean, but the signs themselves are significant);\n",
    "- product - the volume of reserves in the well (thousand barrels).\n",
    "\n",
    "**Conditions of the problem:**\n",
    "- Only linear regression is suitable for training the model (the rest are not predictable enough).\n",
    "- When exploring the region, 500 points are explored, from which, using machine learning, the best 200 are selected for development.\n",
    "- The budget for the development of wells in the region is 10 billion rubles.\n",
    "- At current prices, one barrel of raw materials brings 450 rubles of income. The income from each unit of the product is 450 thousand rubles, since the volume is indicated in thousands of barrels.\n",
    "- After assessing the risks, you need to leave only those regions in which the probability of losses is less than 2.5%. Among them, choose the region with the highest average profit.\n",
    "- Synthetic data: details of contracts and characteristics of deposits were not disclosed."
   ]
  },
  {
   "cell_type": "markdown",
   "id": "ad4f4f7c",
   "metadata": {},
   "source": [
    "# Project implementation"
   ]
  },
  {
   "cell_type": "markdown",
   "id": "fc21de55",
   "metadata": {},
   "source": [
    "### Primary visual evaluation of data"
   ]
  },
  {
   "cell_type": "code",
   "execution_count": 1,
   "id": "ee70f7b0",
   "metadata": {},
   "outputs": [],
   "source": [
    "# Import the necessary libraries\n",
    "import pandas as pd\n",
    "import numpy as np\n",
    "import matplotlib.pyplot as plt\n",
    "\n",
    "\n",
    "from sklearn.linear_model import LinearRegression\n",
    "from sklearn.model_selection import train_test_split, cross_val_score\n",
    "from sklearn.metrics import accuracy_score, mean_squared_error \n",
    "from scipy import stats as st\n",
    "\n",
    "from IPython.display import display_html"
   ]
  },
  {
   "cell_type": "code",
   "execution_count": 2,
   "id": "ff4d38d3",
   "metadata": {},
   "outputs": [],
   "source": [
    "try :\n",
    "    geo_0 = pd.read_csv('C:/Users/Админ/Desktop/Jupyter/Yandex/geo_data_0.csv')\n",
    "    geo_1 = pd.read_csv('C:/Users/Админ/Desktop/Jupyter/Yandex/geo_data_1.csv')\n",
    "    geo_2 = pd.read_csv('C:/Users/Админ/Desktop/Jupyter/Yandex/geo_data_2.csv')\n",
    "\n",
    "except:\n",
    "    geo_0 = pd.read_csv('/Desktop/Jupyter/Yandex/geo_data_0.csv')\n",
    "    geo_1 = pd.read_csv('/Desktop/Jupyter/Yandex/geo_data_1.csv')\n",
    "    geo_2 = pd.read_csv('/Desktop/Jupyter/Yandex/geo_data_2.csv')\n",
    "    "
   ]
  },
  {
   "cell_type": "code",
   "execution_count": 3,
   "id": "75f395f5",
   "metadata": {},
   "outputs": [
    {
     "name": "stdout",
     "output_type": "stream",
     "text": [
      "FIRST ROWS OF TABLES\n",
      "Region 0\n",
      "      id        f0        f1        f2     product\n",
      "0  txEyH  0.705745 -0.497823  1.221170  105.280062\n",
      "1  2acmU  1.334711 -0.340164  4.365080   73.037750\n",
      "2  409Wp  1.022732  0.151990  1.419926   85.265647\n",
      "3  iJLyR -0.032172  0.139033  2.978566  168.620776\n",
      "4  Xdl7t  1.988431  0.155413  4.751769  154.036647\n",
      " \n",
      "Region 1\n",
      "      id         f0         f1        f2     product\n",
      "0  kBEdx -15.001348  -8.276000 -0.005876    3.179103\n",
      "1  62mP7  14.272088  -3.475083  0.999183   26.953261\n",
      "2  vyE1P   6.263187  -5.948386  5.001160  134.766305\n",
      "3  KcrkZ -13.081196 -11.506057  4.999415  137.945408\n",
      "4  AHL4O  12.702195  -8.147433  5.004363  134.766305\n",
      " \n",
      "Region 2\n",
      "      id        f0        f1        f2     product\n",
      "0  fwXo0 -1.146987  0.963328 -0.828965   27.758673\n",
      "1  WJtFt  0.262778  0.269839 -2.530187   56.069697\n",
      "2  ovLUW  0.194587  0.289035 -5.586433   62.871910\n",
      "3  q6cA6  2.236060 -0.553760  0.930038  114.572842\n",
      "4  WPMUX -0.515993  1.716266  5.899011  149.600746\n",
      " \n",
      "GENERAL INFO\n",
      "Region 0\n",
      "<class 'pandas.core.frame.DataFrame'>\n",
      "RangeIndex: 100000 entries, 0 to 99999\n",
      "Data columns (total 5 columns):\n",
      " #   Column   Non-Null Count   Dtype  \n",
      "---  ------   --------------   -----  \n",
      " 0   id       100000 non-null  object \n",
      " 1   f0       100000 non-null  float64\n",
      " 2   f1       100000 non-null  float64\n",
      " 3   f2       100000 non-null  float64\n",
      " 4   product  100000 non-null  float64\n",
      "dtypes: float64(4), object(1)\n",
      "memory usage: 3.8+ MB\n",
      "None\n",
      " \n",
      "Region 1\n",
      "<class 'pandas.core.frame.DataFrame'>\n",
      "RangeIndex: 100000 entries, 0 to 99999\n",
      "Data columns (total 5 columns):\n",
      " #   Column   Non-Null Count   Dtype  \n",
      "---  ------   --------------   -----  \n",
      " 0   id       100000 non-null  object \n",
      " 1   f0       100000 non-null  float64\n",
      " 2   f1       100000 non-null  float64\n",
      " 3   f2       100000 non-null  float64\n",
      " 4   product  100000 non-null  float64\n",
      "dtypes: float64(4), object(1)\n",
      "memory usage: 3.8+ MB\n",
      "None\n",
      " \n",
      "Region 2\n",
      "<class 'pandas.core.frame.DataFrame'>\n",
      "RangeIndex: 100000 entries, 0 to 99999\n",
      "Data columns (total 5 columns):\n",
      " #   Column   Non-Null Count   Dtype  \n",
      "---  ------   --------------   -----  \n",
      " 0   id       100000 non-null  object \n",
      " 1   f0       100000 non-null  float64\n",
      " 2   f1       100000 non-null  float64\n",
      " 3   f2       100000 non-null  float64\n",
      " 4   product  100000 non-null  float64\n",
      "dtypes: float64(4), object(1)\n",
      "memory usage: 3.8+ MB\n",
      "None\n",
      " \n",
      "NUMBER OF MISSING VALUES\n",
      "Region 0\n",
      "id         0\n",
      "f0         0\n",
      "f1         0\n",
      "f2         0\n",
      "product    0\n",
      "dtype: int64\n",
      " \n",
      "Region 1\n",
      "id         0\n",
      "f0         0\n",
      "f1         0\n",
      "f2         0\n",
      "product    0\n",
      "dtype: int64\n",
      " \n",
      "Region 2\n",
      "id         0\n",
      "f0         0\n",
      "f1         0\n",
      "f2         0\n",
      "product    0\n",
      "dtype: int64\n"
     ]
    },
    {
     "data": {
      "text/plain": [
       "(None, None)"
      ]
     },
     "execution_count": 3,
     "metadata": {},
     "output_type": "execute_result"
    }
   ],
   "source": [
    "print('FIRST ROWS OF TABLES')\n",
    "print('Region 0'), print(geo_0.head())\n",
    "print(' ')\n",
    "print('Region 1'), print(geo_1.head())\n",
    "print(' ')\n",
    "print('Region 2'),print(geo_2.head())\n",
    "print(' ')\n",
    "print('GENERAL INFO')\n",
    "print('Region 0'), print(geo_0.info())\n",
    "print(' ')\n",
    "print('Region 1'), print(geo_1.info())\n",
    "print(' ')\n",
    "print('Region 2'),print(geo_2.info())\n",
    "print(' ')\n",
    "print('NUMBER OF MISSING VALUES')\n",
    "print('Region 0'), print(geo_0.isna().sum())\n",
    "print(' ')\n",
    "print('Region 1'), print(geo_1.isna().sum())\n",
    "print(' ')\n",
    "print('Region 2'),print(geo_2.isna().sum())"
   ]
  },
  {
   "cell_type": "code",
   "execution_count": 4,
   "id": "b28b0937",
   "metadata": {},
   "outputs": [
    {
     "name": "stdout",
     "output_type": "stream",
     "text": [
      "NUMBER OF DUPLICATES\n",
      "Region 0\n",
      "          id        f0        f1         f2     product\n",
      "66136  74z30  1.084962 -0.312358   6.990771  127.643327\n",
      "64022  74z30  0.741456  0.459229   5.153109  140.771492\n",
      "51970  A5aEY -0.180335  0.935548  -2.094773   33.020205\n",
      "3389   A5aEY -0.039949  0.156872   0.209861   89.249364\n",
      "69163  AGS9W -0.933795  0.116194  -3.655896   19.230453\n",
      "42529  AGS9W  1.454747 -0.479651   0.683380  126.370504\n",
      "931    HZww2  0.755284  0.368511   1.863211   30.681774\n",
      "7530   HZww2  1.061194 -0.373969  10.430210  158.828695\n",
      "63593  QcMuo  0.635635 -0.473422   0.862670   64.578675\n",
      "1949   QcMuo  0.506563 -0.323775  -2.215583   75.496502\n",
      "75715  Tdehs  0.112079  0.430296   3.218993   60.964018\n",
      "21426  Tdehs  0.829407  0.298807  -0.049563   96.035308\n",
      "92341  TtcGQ  0.110711  1.022689   0.911381  101.318008\n",
      "60140  TtcGQ  0.569276 -0.104876   6.440215   85.350186\n",
      "89582  bsk9y  0.398908 -0.400253  10.122376  163.433078\n",
      "97785  bsk9y  0.378429  0.005837   0.160827  160.637302\n",
      "41724  bxg6G -0.823752  0.546319   3.630479   93.007798\n",
      "1364   bxg6G  0.411645  0.856830  -3.653440   73.604260\n",
      "16633  fiKDv  0.157341  1.028359   5.585586   95.817889\n",
      "90815  fiKDv  0.049883  0.841313   6.394613  137.346586\n",
      " \n",
      "Region 1\n",
      "          id         f0         f1        f2     product\n",
      "5849   5ltQ6  -3.435401 -12.296043  1.999796   57.085625\n",
      "84461  5ltQ6  18.213839   2.191999  3.993869  107.813044\n",
      "1305   LHZR0  11.170835  -1.945066  3.002872   80.859783\n",
      "41906  LHZR0  -8.989672  -4.286607  2.009139   57.085625\n",
      "2721   bfPNe  -9.494442  -5.463692  4.006042  110.992147\n",
      "82178  bfPNe  -6.202799  -4.820045  2.995107   84.038886\n",
      "47591  wt4Uk  -9.091098  -8.109279 -0.002314    3.179103\n",
      "82873  wt4Uk  10.259972  -9.376355  4.994297  134.766305\n",
      " \n",
      "Region 2\n",
      "          id        f0        f1        f2     product\n",
      "45404  KUPhW  0.231846 -1.698941  4.990775   11.716299\n",
      "55967  KUPhW  1.211150  3.176408  5.543540  132.831802\n",
      "11449  VF7Jo  2.122656 -0.858275  5.746001  181.716817\n",
      "49564  VF7Jo -0.883115  0.560537  0.723601  136.233420\n",
      "44378  Vcm5J -1.229484 -2.439204  1.222909  137.968290\n",
      "95090  Vcm5J  2.587702  1.986875  2.482245   92.327572\n",
      "28039  xCHr8  1.633027  0.368135 -2.378367    6.120525\n",
      "43233  xCHr8 -0.847066  2.101796  5.597130  184.388641\n",
      " \n",
      "NUMBER OF DUPLICATES id\n",
      "Region 0\n",
      "10 ; Percent of skips: 0.01\n",
      " \n",
      "Region 1\n",
      "4 ; Missing Percentage: 0.004\n",
      " \n",
      "Region 2\n",
      "4 ; Missing percentage: 0.004\n"
     ]
    },
    {
     "data": {
      "text/plain": [
       "(None, None)"
      ]
     },
     "execution_count": 4,
     "metadata": {},
     "output_type": "execute_result"
    }
   ],
   "source": [
    "print('NUMBER OF DUPLICATES')\n",
    "print('Region 0'),print(geo_0[geo_0.duplicated(subset = 'id', keep = False)].sort_values('id'))\n",
    "print(' ')\n",
    "print('Region 1'),print(geo_1[geo_1.duplicated(subset = 'id', keep = False)].sort_values('id'))\n",
    "print(' ')\n",
    "print('Region 2'),print(geo_2[geo_2.duplicated(subset = 'id', keep = False)].sort_values('id'))\n",
    "print(' ')\n",
    "print('NUMBER OF DUPLICATES id')\n",
    "print('Region 0'),print(geo_0['id'].duplicated().sum(),'; Percent of skips:',geo_0['id'].duplicated().sum()/len(geo_2 )*100)\n",
    "print(' ')\n",
    "print('Region 1'),print(geo_1['id'].duplicated().sum(),'; Missing Percentage:',geo_1['id'].duplicated().sum()/len(geo_2 )*100)\n",
    "print(' ')\n",
    "print('Region 2'),print(geo_2['id'].duplicated().sum(), '; Missing percentage:',geo_2['id'].duplicated().sum()/len(geo_2 )*100)"
   ]
  },
  {
   "cell_type": "code",
   "execution_count": 5,
   "id": "ea15cea8",
   "metadata": {},
   "outputs": [
    {
     "name": "stdout",
     "output_type": "stream",
     "text": [
      "DATA DESCRIPTION\n",
      "Region 0\n",
      "                  f0             f1             f2        product\n",
      "count  100000.000000  100000.000000  100000.000000  100000.000000\n",
      "mean        0.500419       0.250143       2.502647      92.500000\n",
      "std         0.871832       0.504433       3.248248      44.288691\n",
      "min        -1.408605      -0.848218     -12.088328       0.000000\n",
      "25%        -0.072580      -0.200881       0.287748      56.497507\n",
      "50%         0.502360       0.250252       2.515969      91.849972\n",
      "75%         1.073581       0.700646       4.715088     128.564089\n",
      "max         2.362331       1.343769      16.003790     185.364347\n",
      " \n",
      "Region 1\n",
      "                  f0             f1             f2        product\n",
      "count  100000.000000  100000.000000  100000.000000  100000.000000\n",
      "mean        1.141296      -4.796579       2.494541      68.825000\n",
      "std         8.965932       5.119872       1.703572      45.944423\n",
      "min       -31.609576     -26.358598      -0.018144       0.000000\n",
      "25%        -6.298551      -8.267985       1.000021      26.953261\n",
      "50%         1.153055      -4.813172       2.011479      57.085625\n",
      "75%         8.621015      -1.332816       3.999904     107.813044\n",
      "max        29.421755      18.734063       5.019721     137.945408\n",
      " \n",
      "Region 2\n",
      "                  f0             f1             f2        product\n",
      "count  100000.000000  100000.000000  100000.000000  100000.000000\n",
      "mean        0.002023      -0.002081       2.495128      95.000000\n",
      "std         1.732045       1.730417       3.473445      44.749921\n",
      "min        -8.760004      -7.084020     -11.970335       0.000000\n",
      "25%        -1.162288      -1.174820       0.130359      59.450441\n",
      "50%         0.009424      -0.009482       2.484236      94.925613\n",
      "75%         1.158535       1.163678       4.858794     130.595027\n",
      "max         7.238262       7.844801      16.739402     190.029838\n",
      " \n",
      "WELL RESERVES\n",
      "Region 0\n",
      "9250000.0  ; mean =  92.49999999999974\n",
      " \n",
      "Region 1\n",
      "6882500.0  ; mean =  68.82500000002561\n",
      " \n",
      "Region 2\n",
      "9500000.0  ; mean =  95.00000000000041\n"
     ]
    },
    {
     "data": {
      "text/plain": [
       "(None, None)"
      ]
     },
     "execution_count": 5,
     "metadata": {},
     "output_type": "execute_result"
    }
   ],
   "source": [
    "print('DATA DESCRIPTION')\n",
    "print('Region 0'),print(geo_0.describe())\n",
    "print(' ')\n",
    "print('Region 1'),print(geo_1.describe())\n",
    "print(' ')\n",
    "print('Region 2'),print(geo_2.describe())\n",
    "print(' ')\n",
    "print('WELL RESERVES')\n",
    "print('Region 0'),print(geo_0['product'].sum().round(1), ' ; mean = ', geo_0['product'].mean())\n",
    "print(' ')\n",
    "print('Region 1'),print(geo_1['product'].sum().round(1), ' ; mean = ', geo_1['product'].mean())\n",
    "print(' ')\n",
    "print('Region 2'),print(geo_2['product'].sum().round(1), ' ; mean = ', geo_2['product'].mean())"
   ]
  },
  {
   "cell_type": "code",
   "execution_count": 6,
   "id": "fff5f237",
   "metadata": {},
   "outputs": [],
   "source": [
    "def display_side_by_side(*args):\n",
    "    html_str=' '\n",
    "    for df in args:\n",
    "        html_str+=df.to_html()\n",
    "    display_html(html_str.replace('table','table style=\"display:inline\"'),raw=True)"
   ]
  },
  {
   "cell_type": "code",
   "execution_count": 7,
   "id": "df33a990",
   "metadata": {},
   "outputs": [],
   "source": [
    "def corr_region(data):\n",
    "    return data.corr().style.background_gradient(cmap = 'Blues')"
   ]
  },
  {
   "cell_type": "code",
   "execution_count": 8,
   "id": "e65f788e",
   "metadata": {
    "scrolled": false
   },
   "outputs": [
    {
     "name": "stdout",
     "output_type": "stream",
     "text": [
      "REGIONAL CORRELATION: REGION 0, REGION 1, REGION 2\n"
     ]
    },
    {
     "data": {
      "text/html": [
       " <style type=\"text/css\">\n",
       "#T_dcc79_row0_col0, #T_dcc79_row1_col1, #T_dcc79_row2_col2, #T_dcc79_row3_col3 {\n",
       "  background-color: #08306b;\n",
       "  color: #f1f1f1;\n",
       "}\n",
       "#T_dcc79_row0_col1, #T_dcc79_row0_col2, #T_dcc79_row1_col0, #T_dcc79_row1_col3 {\n",
       "  background-color: #f7fbff;\n",
       "  color: #000000;\n",
       "}\n",
       "#T_dcc79_row0_col3 {\n",
       "  background-color: #bcd7eb;\n",
       "  color: #000000;\n",
       "}\n",
       "#T_dcc79_row1_col2 {\n",
       "  background-color: #f6faff;\n",
       "  color: #000000;\n",
       "}\n",
       "#T_dcc79_row2_col0 {\n",
       "  background-color: #b5d4e9;\n",
       "  color: #000000;\n",
       "}\n",
       "#T_dcc79_row2_col1 {\n",
       "  background-color: #b4d3e9;\n",
       "  color: #000000;\n",
       "}\n",
       "#T_dcc79_row2_col3 {\n",
       "  background-color: #549fcd;\n",
       "  color: #f1f1f1;\n",
       "}\n",
       "#T_dcc79_row3_col0 {\n",
       "  background-color: #92c4de;\n",
       "  color: #000000;\n",
       "}\n",
       "#T_dcc79_row3_col1 {\n",
       "  background-color: #d5e5f4;\n",
       "  color: #000000;\n",
       "}\n",
       "#T_dcc79_row3_col2 {\n",
       "  background-color: #71b1d7;\n",
       "  color: #f1f1f1;\n",
       "}\n",
       "</style>\n",
       "<table style=\"display:inline\" id=\"T_dcc79\">\n",
       "  <thead>\n",
       "    <tr>\n",
       "      <th class=\"blank level0\" >&nbsp;</th>\n",
       "      <th id=\"T_dcc79_level0_col0\" class=\"col_heading level0 col0\" >f0</th>\n",
       "      <th id=\"T_dcc79_level0_col1\" class=\"col_heading level0 col1\" >f1</th>\n",
       "      <th id=\"T_dcc79_level0_col2\" class=\"col_heading level0 col2\" >f2</th>\n",
       "      <th id=\"T_dcc79_level0_col3\" class=\"col_heading level0 col3\" >product</th>\n",
       "    </tr>\n",
       "  </thead>\n",
       "  <tbody>\n",
       "    <tr>\n",
       "      <th id=\"T_dcc79_level0_row0\" class=\"row_heading level0 row0\" >f0</th>\n",
       "      <td id=\"T_dcc79_row0_col0\" class=\"data row0 col0\" >1.000000</td>\n",
       "      <td id=\"T_dcc79_row0_col1\" class=\"data row0 col1\" >-0.440723</td>\n",
       "      <td id=\"T_dcc79_row0_col2\" class=\"data row0 col2\" >-0.003153</td>\n",
       "      <td id=\"T_dcc79_row0_col3\" class=\"data row0 col3\" >0.143536</td>\n",
       "    </tr>\n",
       "    <tr>\n",
       "      <th id=\"T_dcc79_level0_row1\" class=\"row_heading level0 row1\" >f1</th>\n",
       "      <td id=\"T_dcc79_row1_col0\" class=\"data row1 col0\" >-0.440723</td>\n",
       "      <td id=\"T_dcc79_row1_col1\" class=\"data row1 col1\" >1.000000</td>\n",
       "      <td id=\"T_dcc79_row1_col2\" class=\"data row1 col2\" >0.001724</td>\n",
       "      <td id=\"T_dcc79_row1_col3\" class=\"data row1 col3\" >-0.192356</td>\n",
       "    </tr>\n",
       "    <tr>\n",
       "      <th id=\"T_dcc79_level0_row2\" class=\"row_heading level0 row2\" >f2</th>\n",
       "      <td id=\"T_dcc79_row2_col0\" class=\"data row2 col0\" >-0.003153</td>\n",
       "      <td id=\"T_dcc79_row2_col1\" class=\"data row2 col1\" >0.001724</td>\n",
       "      <td id=\"T_dcc79_row2_col2\" class=\"data row2 col2\" >1.000000</td>\n",
       "      <td id=\"T_dcc79_row2_col3\" class=\"data row2 col3\" >0.483663</td>\n",
       "    </tr>\n",
       "    <tr>\n",
       "      <th id=\"T_dcc79_level0_row3\" class=\"row_heading level0 row3\" >product</th>\n",
       "      <td id=\"T_dcc79_row3_col0\" class=\"data row3 col0\" >0.143536</td>\n",
       "      <td id=\"T_dcc79_row3_col1\" class=\"data row3 col1\" >-0.192356</td>\n",
       "      <td id=\"T_dcc79_row3_col2\" class=\"data row3 col2\" >0.483663</td>\n",
       "      <td id=\"T_dcc79_row3_col3\" class=\"data row3 col3\" >1.000000</td>\n",
       "    </tr>\n",
       "  </tbody>\n",
       "</table style=\"display:inline\">\n",
       "<style type=\"text/css\">\n",
       "#T_6383f_row0_col0, #T_6383f_row1_col1, #T_6383f_row2_col2, #T_6383f_row2_col3, #T_6383f_row3_col2, #T_6383f_row3_col3 {\n",
       "  background-color: #08306b;\n",
       "  color: #f1f1f1;\n",
       "}\n",
       "#T_6383f_row0_col1 {\n",
       "  background-color: #d2e3f3;\n",
       "  color: #000000;\n",
       "}\n",
       "#T_6383f_row0_col2, #T_6383f_row0_col3, #T_6383f_row1_col2, #T_6383f_row3_col0, #T_6383f_row3_col1 {\n",
       "  background-color: #f7fbff;\n",
       "  color: #000000;\n",
       "}\n",
       "#T_6383f_row1_col0 {\n",
       "  background-color: #cfe1f2;\n",
       "  color: #000000;\n",
       "}\n",
       "#T_6383f_row1_col3 {\n",
       "  background-color: #f3f8fe;\n",
       "  color: #000000;\n",
       "}\n",
       "#T_6383f_row2_col0 {\n",
       "  background-color: #f2f7fd;\n",
       "  color: #000000;\n",
       "}\n",
       "#T_6383f_row2_col1 {\n",
       "  background-color: #f6faff;\n",
       "  color: #000000;\n",
       "}\n",
       "</style>\n",
       "<table style=\"display:inline\" id=\"T_6383f\">\n",
       "  <thead>\n",
       "    <tr>\n",
       "      <th class=\"blank level0\" >&nbsp;</th>\n",
       "      <th id=\"T_6383f_level0_col0\" class=\"col_heading level0 col0\" >f0</th>\n",
       "      <th id=\"T_6383f_level0_col1\" class=\"col_heading level0 col1\" >f1</th>\n",
       "      <th id=\"T_6383f_level0_col2\" class=\"col_heading level0 col2\" >f2</th>\n",
       "      <th id=\"T_6383f_level0_col3\" class=\"col_heading level0 col3\" >product</th>\n",
       "    </tr>\n",
       "  </thead>\n",
       "  <tbody>\n",
       "    <tr>\n",
       "      <th id=\"T_6383f_level0_row0\" class=\"row_heading level0 row0\" >f0</th>\n",
       "      <td id=\"T_6383f_row0_col0\" class=\"data row0 col0\" >1.000000</td>\n",
       "      <td id=\"T_6383f_row0_col1\" class=\"data row0 col1\" >0.182287</td>\n",
       "      <td id=\"T_6383f_row0_col2\" class=\"data row0 col2\" >-0.001777</td>\n",
       "      <td id=\"T_6383f_row0_col3\" class=\"data row0 col3\" >-0.030491</td>\n",
       "    </tr>\n",
       "    <tr>\n",
       "      <th id=\"T_6383f_level0_row1\" class=\"row_heading level0 row1\" >f1</th>\n",
       "      <td id=\"T_6383f_row1_col0\" class=\"data row1 col0\" >0.182287</td>\n",
       "      <td id=\"T_6383f_row1_col1\" class=\"data row1 col1\" >1.000000</td>\n",
       "      <td id=\"T_6383f_row1_col2\" class=\"data row1 col2\" >-0.002595</td>\n",
       "      <td id=\"T_6383f_row1_col3\" class=\"data row1 col3\" >-0.010155</td>\n",
       "    </tr>\n",
       "    <tr>\n",
       "      <th id=\"T_6383f_level0_row2\" class=\"row_heading level0 row2\" >f2</th>\n",
       "      <td id=\"T_6383f_row2_col0\" class=\"data row2 col0\" >-0.001777</td>\n",
       "      <td id=\"T_6383f_row2_col1\" class=\"data row2 col1\" >-0.002595</td>\n",
       "      <td id=\"T_6383f_row2_col2\" class=\"data row2 col2\" >1.000000</td>\n",
       "      <td id=\"T_6383f_row2_col3\" class=\"data row2 col3\" >0.999397</td>\n",
       "    </tr>\n",
       "    <tr>\n",
       "      <th id=\"T_6383f_level0_row3\" class=\"row_heading level0 row3\" >product</th>\n",
       "      <td id=\"T_6383f_row3_col0\" class=\"data row3 col0\" >-0.030491</td>\n",
       "      <td id=\"T_6383f_row3_col1\" class=\"data row3 col1\" >-0.010155</td>\n",
       "      <td id=\"T_6383f_row3_col2\" class=\"data row3 col2\" >0.999397</td>\n",
       "      <td id=\"T_6383f_row3_col3\" class=\"data row3 col3\" >1.000000</td>\n",
       "    </tr>\n",
       "  </tbody>\n",
       "</table style=\"display:inline\">\n",
       "<style type=\"text/css\">\n",
       "#T_8567a_row0_col0, #T_8567a_row1_col1, #T_8567a_row2_col2, #T_8567a_row3_col3 {\n",
       "  background-color: #08306b;\n",
       "  color: #f1f1f1;\n",
       "}\n",
       "#T_8567a_row0_col1, #T_8567a_row0_col2, #T_8567a_row0_col3, #T_8567a_row1_col0, #T_8567a_row1_col2, #T_8567a_row1_col3, #T_8567a_row2_col0, #T_8567a_row2_col1, #T_8567a_row3_col0, #T_8567a_row3_col1 {\n",
       "  background-color: #f7fbff;\n",
       "  color: #000000;\n",
       "}\n",
       "#T_8567a_row2_col3, #T_8567a_row3_col2 {\n",
       "  background-color: #81badb;\n",
       "  color: #000000;\n",
       "}\n",
       "</style>\n",
       "<table style=\"display:inline\" id=\"T_8567a\">\n",
       "  <thead>\n",
       "    <tr>\n",
       "      <th class=\"blank level0\" >&nbsp;</th>\n",
       "      <th id=\"T_8567a_level0_col0\" class=\"col_heading level0 col0\" >f0</th>\n",
       "      <th id=\"T_8567a_level0_col1\" class=\"col_heading level0 col1\" >f1</th>\n",
       "      <th id=\"T_8567a_level0_col2\" class=\"col_heading level0 col2\" >f2</th>\n",
       "      <th id=\"T_8567a_level0_col3\" class=\"col_heading level0 col3\" >product</th>\n",
       "    </tr>\n",
       "  </thead>\n",
       "  <tbody>\n",
       "    <tr>\n",
       "      <th id=\"T_8567a_level0_row0\" class=\"row_heading level0 row0\" >f0</th>\n",
       "      <td id=\"T_8567a_row0_col0\" class=\"data row0 col0\" >1.000000</td>\n",
       "      <td id=\"T_8567a_row0_col1\" class=\"data row0 col1\" >0.000528</td>\n",
       "      <td id=\"T_8567a_row0_col2\" class=\"data row0 col2\" >-0.000448</td>\n",
       "      <td id=\"T_8567a_row0_col3\" class=\"data row0 col3\" >-0.001987</td>\n",
       "    </tr>\n",
       "    <tr>\n",
       "      <th id=\"T_8567a_level0_row1\" class=\"row_heading level0 row1\" >f1</th>\n",
       "      <td id=\"T_8567a_row1_col0\" class=\"data row1 col0\" >0.000528</td>\n",
       "      <td id=\"T_8567a_row1_col1\" class=\"data row1 col1\" >1.000000</td>\n",
       "      <td id=\"T_8567a_row1_col2\" class=\"data row1 col2\" >0.000779</td>\n",
       "      <td id=\"T_8567a_row1_col3\" class=\"data row1 col3\" >-0.001012</td>\n",
       "    </tr>\n",
       "    <tr>\n",
       "      <th id=\"T_8567a_level0_row2\" class=\"row_heading level0 row2\" >f2</th>\n",
       "      <td id=\"T_8567a_row2_col0\" class=\"data row2 col0\" >-0.000448</td>\n",
       "      <td id=\"T_8567a_row2_col1\" class=\"data row2 col1\" >0.000779</td>\n",
       "      <td id=\"T_8567a_row2_col2\" class=\"data row2 col2\" >1.000000</td>\n",
       "      <td id=\"T_8567a_row2_col3\" class=\"data row2 col3\" >0.445871</td>\n",
       "    </tr>\n",
       "    <tr>\n",
       "      <th id=\"T_8567a_level0_row3\" class=\"row_heading level0 row3\" >product</th>\n",
       "      <td id=\"T_8567a_row3_col0\" class=\"data row3 col0\" >-0.001987</td>\n",
       "      <td id=\"T_8567a_row3_col1\" class=\"data row3 col1\" >-0.001012</td>\n",
       "      <td id=\"T_8567a_row3_col2\" class=\"data row3 col2\" >0.445871</td>\n",
       "      <td id=\"T_8567a_row3_col3\" class=\"data row3 col3\" >1.000000</td>\n",
       "    </tr>\n",
       "  </tbody>\n",
       "</table style=\"display:inline\">\n"
      ]
     },
     "metadata": {},
     "output_type": "display_data"
    }
   ],
   "source": [
    "print('REGIONAL CORRELATION: REGION 0, REGION 1, REGION 2')\n",
    "display_side_by_side(corr_region(geo_0),corr_region(geo_1),corr_region(geo_2))"
   ]
  },
  {
   "cell_type": "markdown",
   "id": "8d806deb",
   "metadata": {},
   "source": [
    "### Conclusion\n",
    "\n",
    "- 3 regions have the same amount of data: 100,000 rows\n",
    "- Data types do not require changes\n",
    "- There are no missing values in the data\n",
    "- There are duplicate id in the data:\n",
    "    - Region 0 = 10\n",
    "    - Region 1 = 4\n",
    "    - Region 2 = 4\n",
    "\n",
    "The reason for the appearance of duplicates is not known, it is possible that the well parameters were measured 2 times. These duplicates can be left, since their presence or absence will not have a significant impact on the course of the study - their percentage of the original data is less than 0.5%\n",
    "\n",
    "- Leading in terms of reserves in the well:\n",
    "    - Region 2 = 9,500,000.0 thousand barrels\n",
    "    - Region 0 = 9,250,000.0 thousand barrels\n",
    "    - Region 1 = 6,882,500.0 thousand barrels\n",
    "    \n",
    "- In all regions, of all the features, the feature f2 has the highest correlation with the target feature Products. The most pronounced correlation is observed in Region 1 - correlation with f2 = 0.999"
   ]
  },
  {
   "cell_type": "markdown",
   "id": "c4f1d607",
   "metadata": {},
   "source": [
    "### Model training"
   ]
  },
  {
   "cell_type": "markdown",
   "id": "0a9df77a",
   "metadata": {},
   "source": [
    "Train and test the model for each region:\n",
    "   - Divide the data into training and validation samples in a ratio of 75:25.\n",
    "   - Train the model and make predictions on the validation set.\n",
    "   - Store predictions and correct answers on the validation set.\n",
    "   - Print on the screen the average stock of predicted raw materials and the RMSE of the model.\n",
    "   - Analyze the results."
   ]
  },
  {
   "cell_type": "markdown",
   "id": "d9f9f9d3",
   "metadata": {},
   "source": [
    "**Preparation of samples**"
   ]
  },
  {
   "cell_type": "code",
   "execution_count": 9,
   "id": "773c8601",
   "metadata": {},
   "outputs": [],
   "source": [
    "# Splitting the data into data from the target and common features:\n",
    "\n",
    "def features_definition(df):\n",
    "\n",
    "    features = df.drop(['id','product'], axis=1)\n",
    "    target = df['product']\n",
    "    \n",
    "    return features,target\n",
    "\n",
    "features_0,target_0 = features_definition(geo_0)\n",
    "features_1,target_1 = features_definition(geo_1)\n",
    "features_2,target_2 = features_definition(geo_2)"
   ]
  },
  {
   "cell_type": "code",
   "execution_count": 10,
   "id": "f0c1207a",
   "metadata": {},
   "outputs": [
    {
     "name": "stdout",
     "output_type": "stream",
     "text": [
      "Training sample size is: (75000, 3)\n",
      "Validation sample size is: (25000, 3)\n"
     ]
    }
   ],
   "source": [
    "# Splitting the data into training, validation and test sets:\n",
    "\n",
    "def sep_train_valid_test(features, target):\n",
    "    features_train, features_valid, target_train, target_valid = train_test_split(\n",
    "    features, target, train_size=0.75,random_state=12345) # split into training set and validation set\n",
    "    return features_train, target_train, features_valid, target_valid\n",
    "\n",
    "features_train_0, target_train_0, features_valid_0, target_valid_0 = sep_train_valid_test(features_0, target_0)\n",
    "features_train_1, target_train_1, features_valid_1, target_valid_1 = sep_train_valid_test(features_1,target_1)\n",
    "features_train_2, target_train_2, features_valid_2, target_valid_2 = sep_train_valid_test(features_2,target_2)\n",
    "\n",
    "print('Training sample size is:', features_train_0.shape)\n",
    "print('Validation sample size is:', features_valid_0.shape)"
   ]
  },
  {
   "cell_type": "markdown",
   "id": "46fdfcb0",
   "metadata": {},
   "source": [
    "**1 - Training and testing of models for each region:**"
   ]
  },
  {
   "cell_type": "code",
   "execution_count": 12,
   "id": "53388000",
   "metadata": {},
   "outputs": [],
   "source": [
    "# Create a function to train the model:\n",
    "\n",
    "def model_fit(features_train, target_train, features_valid, target_valid, region):\n",
    "    model = LinearRegression()\n",
    "    model.fit(features_train, target_train)\n",
    "    predictions_valid = model.predict(features_valid)\n",
    "    result_rmse = mean_squared_error(target_valid, predictions_valid)**0.5\n",
    "    print('Mean stock of predicted raw material by ', region, predictions_valid.mean())\n",
    "    print('RMSE model by ', region, result_rmse)\n",
    "    return model, predictions_valid, result_rmse"
   ]
  },
  {
   "cell_type": "code",
   "execution_count": 13,
   "id": "6d7ae67e",
   "metadata": {},
   "outputs": [
    {
     "name": "stdout",
     "output_type": "stream",
     "text": [
      "Mean stock of predicted raw material by  Регион 0: 92.59256778438035\n",
      "RMSE model by  Регион 0: 37.5794217150813\n"
     ]
    }
   ],
   "source": [
    "model_0, predictions_valid_0, result_rmse_0 = model_fit(features_train_0, target_train_0, features_valid_0, target_valid_0, 'Регион 0:')"
   ]
  },
  {
   "cell_type": "code",
   "execution_count": 14,
   "id": "d36ae26a",
   "metadata": {},
   "outputs": [
    {
     "name": "stdout",
     "output_type": "stream",
     "text": [
      "Mean stock of predicted raw material by  Регион 1: 68.72854689544602\n",
      "RMSE model by  Регион 1: 0.8930992867756168\n"
     ]
    }
   ],
   "source": [
    "model_1, predictions_valid_1, result_rmse_1 = model_fit(features_train_1, target_train_1, features_valid_1, target_valid_1, 'Регион 1:')"
   ]
  },
  {
   "cell_type": "code",
   "execution_count": 15,
   "id": "e5b29b35",
   "metadata": {},
   "outputs": [
    {
     "name": "stdout",
     "output_type": "stream",
     "text": [
      "Mean stock of predicted raw material by  Регион 2: 94.96504596800489\n",
      "RMSE model by  Регион 2: 40.02970873393434\n"
     ]
    }
   ],
   "source": [
    "model_2, predictions_valid_2, result_rmse_2 = model_fit(features_train_2, target_train_2, features_valid_2, target_valid_2, 'Регион 2:')"
   ]
  },
  {
   "cell_type": "markdown",
   "id": "e00420a1",
   "metadata": {},
   "source": [
    "**Conclusion**\n",
    "\n",
    "Distribution of regions by stocks of raw materials:\n",
    " - Region 2 = 94.9 thousand barrels\n",
    " - Region 0 = 92.6 thousand barrels\n",
    " - Region 1 = 68.7 thousand barrels\n",
    "\n",
    "The resulting predicted reserves data are extremely close to the actual averages obtained from the initial visual evaluation of the data.\n"
   ]
  },
  {
   "cell_type": "markdown",
   "id": "b7b9b8a2",
   "metadata": {},
   "source": [
    "### Profit preparation and calculation\n",
    "\n",
    "2. - Prepare for profit calculation:\n",
    "     - Save all key values for calculations in separate variables.\n",
    "     - Calculate sufficient volume of raw materials for break-even development of a new well. Compare the volume of raw materials received with the average stock in each region.\n",
    "     - Write conclusions on the stage of preparing the profit calculation."
   ]
  },
  {
   "cell_type": "code",
   "execution_count": 16,
   "id": "0e5cbfee",
   "metadata": {},
   "outputs": [],
   "source": [
    "# Set the key (constant) values specified by the task condition:\n",
    "\n",
    "BUDGET_ON_REGION = 10000000000 # Budget for well development in the region\n",
    "WELLS_COUNT = 500 # Number of words to explore\n",
    "BEST_WELLS = 200 # Number of wells in the region to continue development\n",
    "REVENUE_PER_BAR = 450000 # Income per thousand barrels"
   ]
  },
  {
   "cell_type": "markdown",
   "id": "5a2603c6",
   "metadata": {},
   "source": [
    "**Calculation of the break-even point**"
   ]
  },
  {
   "cell_type": "markdown",
   "id": "ac12bc90",
   "metadata": {},
   "source": [
    "To calculate the sufficient volume of raw materials in the well for break-even development of a new well, it is necessary to divide the planned investment in one of the 200 best wells by the income from the 1st thousand barrels:\n",
    "\n",
    "- Investment per well = Budget for development in the region (BUDGET_ON_REGION) / number of wells (BEST_WELLS)\n",
    "- Volume of raw materials = Investment per well / REVENUE_PER_BAR"
   ]
  },
  {
   "cell_type": "code",
   "execution_count": 17,
   "id": "a04a815c",
   "metadata": {},
   "outputs": [
    {
     "name": "stdout",
     "output_type": "stream",
     "text": [
      "Amount of raw material required for breakeven well development: 111.11\n"
     ]
    }
   ],
   "source": [
    "# Calculate the volume of raw materials required for break-even well development:\n",
    "\n",
    "BUDGET_ON_BEST_WELLS = BUDGET_ON_REGION/BEST_WELLS\n",
    "\n",
    "OIL_VALUE = BUDGET_ON_BEST_WELLS/REVENUE_PER_BAR\n",
    "print(f'Amount of raw material required for breakeven well development: {OIL_VALUE:.2f}')"
   ]
  },
  {
   "cell_type": "code",
   "execution_count": 19,
   "id": "f3d65a2c",
   "metadata": {},
   "outputs": [
    {
     "name": "stdout",
     "output_type": "stream",
     "text": [
      "The stock of raw materials in the Region 0 is less than the required volume by: 20.0%\n",
      "The stock of raw materials in the Region 1 is less than the required volume by: 61.7%\n",
      "The stock of raw materials in the Region 2 is less than the required volume by: 17.0%\n"
     ]
    }
   ],
   "source": [
    "# Compare the received volume with the predicted volume, the average volume in the region\n",
    "def compare(predictions_valid, region):\n",
    "    compare = (OIL_VALUE/predictions_valid.mean() * 100 - 100).round(1)\n",
    "    print(f\"The stock of raw materials in the Region {region} is less than the required volume by: {compare}%\")\n",
    "    return\n",
    "\n",
    "compare(predictions_valid_0, 0)\n",
    "compare(predictions_valid_1, 1)\n",
    "compare(predictions_valid_2, 2)"
   ]
  },
  {
   "cell_type": "markdown",
   "id": "18605269",
   "metadata": {},
   "source": [
    "**Conclusion:**\n",
    "The volume of raw materials required for break-even development of oil wells exceeds the available average stock of raw materials in the regions. None of the regions can previously satisfy the break-even condition. However, in Regions 0 and 2, the 75% product quantile is at 128 and 130 kbbl, while in Region 1 the maximum value of product = 137 kbbl, respectively. This means that despite the fact that the average value for the regions does not satisfy the break-even condition, in all 3 regions there are still wells suitable for break-even development."
   ]
  },
  {
   "cell_type": "markdown",
   "id": "0d033c6c",
   "metadata": {},
   "source": [
    "**Identification of oil wells providing break-even conditions**"
   ]
  },
  {
   "cell_type": "code",
   "execution_count": 20,
   "id": "736281e9",
   "metadata": {},
   "outputs": [],
   "source": [
    "def relevant_wells(data, region):\n",
    "    counter = len(data[data['product'] > OIL_VALUE])\n",
    "    percent = counter/len(data['product'])\n",
    "    print(f'Number of wells that meet the break-even condition in {region} = {counter}')\n",
    "    print(f'Percentage of wells that meet the break-even condition in {region} = {percent:.2%}')\n",
    "    print(\" \")\n",
    "    return counter, percent"
   ]
  },
  {
   "cell_type": "code",
   "execution_count": 21,
   "id": "bb3e7c76",
   "metadata": {},
   "outputs": [
    {
     "name": "stdout",
     "output_type": "stream",
     "text": [
      "Number of wells that meet the break-even condition in Region 0 = 36583\n",
      "Percentage of wells that meet the break-even condition in Region 0 = 36.58%\n",
      " \n",
      "Number of wells that meet the break-even condition in Region 1 = 16537\n",
      "Percentage of wells that meet the break-even condition in Region 1 = 16.54%\n",
      " \n",
      "Number of wells that meet the break-even condition in Region 2 = 38178\n",
      "Percentage of wells that meet the break-even condition in Region 2 = 38.18%\n",
      " \n"
     ]
    },
    {
     "data": {
      "text/plain": [
       "(38178, 0.38178)"
      ]
     },
     "execution_count": 21,
     "metadata": {},
     "output_type": "execute_result"
    }
   ],
   "source": [
    "relevant_wells(geo_0, 'Region 0')\n",
    "relevant_wells(geo_1, 'Region 1')\n",
    "relevant_wells(geo_2, 'Region 2')"
   ]
  },
  {
   "cell_type": "markdown",
   "id": "01d4464d",
   "metadata": {},
   "source": [
    "**Conclusion:**\n",
    "\n",
    "**All proposed regions have sufficient well reserves for break-even development.**"
   ]
  },
  {
   "cell_type": "markdown",
   "id": "e688daec",
   "metadata": {},
   "source": [
    "### Calculation of profit for wells in the regions"
   ]
  },
  {
   "cell_type": "markdown",
   "id": "4578e444",
   "metadata": {},
   "source": [
    "3. - Write a function to calculate profit for selected wells and model predictions:\n",
    "     - Select wells with maximum prediction values.\n",
    "     - Sum the target value of the volume of raw materials corresponding to these predictions.\n",
    "     - Calculate the profit for the received volume of raw materials."
   ]
  },
  {
   "cell_type": "code",
   "execution_count": 22,
   "id": "58eb827b",
   "metadata": {},
   "outputs": [],
   "source": [
    "# The volume of raw materials in the wells predicted by the validation sample is converted into Series:\n",
    "predictions_valid_df_0 = pd.Series(predictions_valid_0,index=target_valid_0.index)\n",
    "predictions_valid_df_1 = pd.Series(predictions_valid_1,index=target_valid_1.index)\n",
    "predictions_valid_df_2 = pd.Series(predictions_valid_2,index=target_valid_2.index)"
   ]
  },
  {
   "cell_type": "code",
   "execution_count": 23,
   "id": "e22c2f01",
   "metadata": {},
   "outputs": [],
   "source": [
    "# Create a function that selects 200 wells with the maximum volume of raw materials from a Series of predicted values,\n",
    "# and calculates the revenue from these wells\n",
    "\n",
    "def revenue_calculate(target, predictions):\n",
    "    revenue = 0\n",
    "    data = pd.concat([predictions, target],axis=1) # - create a dataset from predicted volumes and actual\n",
    "    data.columns = ['predictions','target'] # - name columns\n",
    "    \n",
    "    best_wells_df = data.sort_values(by = 'predictions',ascending=False).head(BEST_WELLS) # Sort data in descending order by predicted values\n",
    "    selected_wells = target[best_wells_df.index][:BEST_WELLS] # Select the target values ​​for the volume of raw materials in the amount of 200 pcs.\n",
    "    \n",
    "    revenue = ((selected_wells - OIL_VALUE) * REVENUE_PER_BAR).sum() # Calculate the revenue received after breaking the breakeven point\n",
    "    return revenue"
   ]
  },
  {
   "cell_type": "markdown",
   "id": "e461e8da",
   "metadata": {},
   "source": [
    "### Calculation of risks and rewards for each region\n",
    "\n",
    "4. - Calculate risks and rewards for each region:\n",
    "     - Apply the Bootstrap technique with 1000 samples to find the profit distribution.\n",
    "     - Find the average profit, 95% confidence interval and risk of loss. Loss is negative profit.\n",
    "     - Write conclusions: suggest a region for well development and justify the choice."
   ]
  },
  {
   "cell_type": "code",
   "execution_count": 24,
   "id": "4d42acd8",
   "metadata": {},
   "outputs": [],
   "source": [
    "def profit_and_risks(target, probabilities, region):\n",
    "        \n",
    "    state = np.random.RandomState(12345)\n",
    "    values = []        \n",
    "        \n",
    "    for i in range(1000):\n",
    "        target_subsample = target.sample(n = WELLS_COUNT, replace=True, random_state=state) \n",
    "        probs_subsample = probabilities[target_subsample.index]\n",
    "        revenue = revenue_calculate(target_subsample, probs_subsample)\n",
    "        values.append(revenue)\n",
    "    \n",
    "    values = pd.Series(values)\n",
    "    lower = values.quantile(0.05)/10e6\n",
    "    upper = values.quantile(0.95)/10e6\n",
    "    mean = values.mean()/10e6\n",
    "    \n",
    "    risks = (values < 0).mean()\n",
    "    \n",
    "    print(f'Average revenue in the region {region}: {mean:.2f} million rubles')\n",
    "    print(f'95% confidence interval in the region {region}: from {lower:.2f} to {upper:.2f} million rubles')\n",
    "    print(f'Probability of loss in region {region}: {risks:.2%}')\n",
    "    print(\"\")\n",
    "                       \n",
    "    return mean,lower,upper,risks"
   ]
  },
  {
   "cell_type": "code",
   "execution_count": 25,
   "id": "de55135e",
   "metadata": {},
   "outputs": [
    {
     "name": "stdout",
     "output_type": "stream",
     "text": [
      "Average revenue in the region 0: 42.59 million rubles\n",
      "95% confidence interval in the region 0: from -3.18 to 88.13 million rubles\n",
      "Probability of loss in region 0: 6.00%\n",
      "\n",
      "Average revenue in the region 1: 51.52 million rubles\n",
      "95% confidence interval in the region 1: from 15.08 to 86.15 million rubles\n",
      "Probability of loss in region 1: 1.00%\n",
      "\n",
      "Average revenue in the region 2: 43.50 million rubles\n",
      "95% confidence interval in the region 2: from -4.34 to 89.80 million rubles\n",
      "Probability of loss in region 2: 6.40%\n",
      "\n"
     ]
    }
   ],
   "source": [
    "mean_0,lower_0,upper_0,risks_0 = profit_and_risks(target_valid_0, predictions_valid_df_0, 0)\n",
    "mean_1,lower_1,upper_1,risks_1 = profit_and_risks(target_valid_1, predictions_valid_df_1, 1)\n",
    "mean_2,lower_2,upper_2,risks_2 = profit_and_risks(target_valid_2, predictions_valid_df_2, 2)"
   ]
  },
  {
   "cell_type": "markdown",
   "id": "ec93cbaa",
   "metadata": {},
   "source": [
    "## Conclusion\n",
    "\n",
    "Of the 3 regions, only Region 1 meets the 2.5% allowable loss probability requirement.\n",
    "\n",
    "- Average revenue in region 1: 51.52\n",
    "- 95% confidence interval in region 1: from 15.08 to 86.15\n",
    "- Probability of loss in region 1: 1.00%\n",
    "\n",
    "To solve this problem, a Linear Regression machine learning model was built. The results of the predictions of this model:\n",
    "Distribution of regions by stocks of raw materials:\n",
    " - Region 2 = 94.9 thousand barrels\n",
    " - Region 0 = 92.6 thousand barrels\n",
    " - Region 1 = 68.7 thousand barrels\n",
    "The resulting predicted reserves data are extremely close to the actual averages obtained from the initial visual evaluation of the data. It can be concluded that the constructed model is highly accurate.\n",
    "\n",
    "However, RMSE data for these regions:\n",
    "- RMSE models by region Region 0: 37.579\n",
    "- RMSE models by region Region 1: 0.893\n",
    "- RMSE models by region Region 2: 40.029\n"
   ]
  }
 ],
 "metadata": {
  "ExecuteTimeLog": [
   {
    "duration": 76,
    "start_time": "2022-09-25T21:12:22.172Z"
   },
   {
    "duration": 112,
    "start_time": "2022-09-25T21:14:12.878Z"
   },
   {
    "duration": 42,
    "start_time": "2022-09-26T15:13:11.687Z"
   },
   {
    "duration": 5,
    "start_time": "2022-09-26T15:13:53.507Z"
   },
   {
    "duration": 1362,
    "start_time": "2022-09-26T15:14:01.421Z"
   },
   {
    "duration": 106,
    "start_time": "2022-09-26T15:14:02.784Z"
   },
   {
    "duration": 65,
    "start_time": "2022-09-26T15:14:03.248Z"
   },
   {
    "duration": 11,
    "start_time": "2022-09-26T15:14:03.651Z"
   },
   {
    "duration": 15,
    "start_time": "2022-09-26T15:14:04.105Z"
   },
   {
    "duration": 3,
    "start_time": "2022-09-26T15:14:14.153Z"
   },
   {
    "duration": 98,
    "start_time": "2022-09-26T15:14:15.847Z"
   },
   {
    "duration": 79,
    "start_time": "2022-09-26T15:14:53.804Z"
   },
   {
    "duration": 85,
    "start_time": "2022-09-26T15:15:38.394Z"
   },
   {
    "duration": 76,
    "start_time": "2022-09-26T15:16:02.572Z"
   },
   {
    "duration": 73,
    "start_time": "2022-09-26T15:16:10.115Z"
   },
   {
    "duration": 360,
    "start_time": "2022-09-26T15:16:45.801Z"
   },
   {
    "duration": 656,
    "start_time": "2022-09-26T15:16:58.573Z"
   },
   {
    "duration": 67,
    "start_time": "2022-09-26T15:17:15.251Z"
   },
   {
    "duration": 78,
    "start_time": "2022-09-26T15:17:53.200Z"
   },
   {
    "duration": 73,
    "start_time": "2022-09-26T15:18:08.501Z"
   },
   {
    "duration": 64,
    "start_time": "2022-09-26T15:18:15.973Z"
   },
   {
    "duration": 1720,
    "start_time": "2022-09-27T13:41:03.130Z"
   },
   {
    "duration": 83,
    "start_time": "2022-09-27T13:41:04.852Z"
   },
   {
    "duration": 87,
    "start_time": "2022-09-27T13:41:14.817Z"
   },
   {
    "duration": 81,
    "start_time": "2022-09-27T13:41:17.810Z"
   },
   {
    "duration": 78,
    "start_time": "2022-09-27T13:50:11.635Z"
   }
  ],
  "kernelspec": {
   "display_name": "Python 3 (ipykernel)",
   "language": "python",
   "name": "python3"
  },
  "language_info": {
   "codemirror_mode": {
    "name": "ipython",
    "version": 3
   },
   "file_extension": ".py",
   "mimetype": "text/x-python",
   "name": "python",
   "nbconvert_exporter": "python",
   "pygments_lexer": "ipython3",
   "version": "3.9.12"
  },
  "toc": {
   "base_numbering": 1,
   "nav_menu": {},
   "number_sections": true,
   "sideBar": true,
   "skip_h1_title": true,
   "title_cell": "Table of Contents",
   "title_sidebar": "Contents",
   "toc_cell": false,
   "toc_position": {},
   "toc_section_display": true,
   "toc_window_display": false
  }
 },
 "nbformat": 4,
 "nbformat_minor": 5
}
