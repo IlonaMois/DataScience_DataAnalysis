{
 "cells": [
  {
   "cell_type": "markdown",
   "id": "d972a5d2",
   "metadata": {},
   "source": [
    "# Определение перспективного тарифа для телеком-компании"
   ]
  },
  {
   "cell_type": "markdown",
   "id": "a7c0fd38",
   "metadata": {},
   "source": [
    "**Описание проекта**\n",
    "Вы аналитик компании «Мегалайн» — федерального оператора сотовой связи. Клиентам предлагают два тарифных плана: «Смарт» и «Ультра». Чтобы скорректировать рекламный бюджет, коммерческий департамент хочет понять, какой тариф приносит больше денег.\n",
    "Вам предстоит сделать предварительный анализ тарифов на небольшой выборке клиентов. В вашем распоряжении данные 500 пользователей «Мегалайна»: кто они, откуда, каким тарифом пользуются, сколько звонков и сообщений каждый отправил за 2018 год. Нужно проанализировать поведение клиентов и сделать вывод — какой тариф лучше."
   ]
  },
  {
   "cell_type": "markdown",
   "id": "76ac8889",
   "metadata": {},
   "source": [
    "**Описание тарифов**\n",
    "- Тариф «Смарт»\n",
    "    - Ежемесячная плата: 550 рублей\n",
    "    - Включено 500 минут разговора, 50 сообщений и 15 Гб интернет-трафика\n",
    "    - Стоимость услуг сверх тарифного пакета:\n",
    "минута разговора: 3 рубля\n",
    "сообщение: 3 рубля\n",
    "    - 1 Гб интернет-трафика: 200 рублей\n"
   ]
  },
  {
   "cell_type": "markdown",
   "id": "feb5ccc3",
   "metadata": {},
   "source": [
    "- Тариф «Ультра»\n",
    "    - Ежемесячная плата: 1950 рублей\n",
    "    - Включено 3000 минут разговора, 1000 сообщений и 30 Гб интернет-трафика\n",
    "    - Стоимость услуг сверх тарифного пакета:\n",
    "        минута разговора: 1 рубль\n",
    "        сообщение: 1 рубль\n",
    "    - 1 Гб интернет-трафика: 150 рублей"
   ]
  },
  {
   "cell_type": "markdown",
   "id": "63a41a20",
   "metadata": {},
   "source": [
    "*Примечание\n",
    "«Мегалайн» всегда округляет секунды до минут, а мегабайты — до гигабайт. Каждый звонок округляется отдельно: даже если он длился всего 1 секунду, будет засчитан как 1 минута.\n",
    "Для веб-трафика отдельные сессии не считаются. Вместо этого общая сумма за месяц округляется в бо́льшую сторону. Если абонент использует 1025 мегабайт в этом месяце, с него возьмут плату за 2 гигабайта. Примите, что неиспользованные за предыдущий месяц звонки, смс, интернет на следующий месяц не переносятся.*"
   ]
  },
  {
   "cell_type": "markdown",
   "id": "6f22f1f4",
   "metadata": {},
   "source": [
    "### Инструкция по выполнению проекта\n",
    "**Шаг 1. Откройте файл с данными и изучите общую информацию**\n",
    "Путь к файлам:\n",
    "/datasets/calls.csv. Скачать датасет\n",
    "/datasets/internet.csv. Скачать датасет\n",
    "/datasets/messages.csv. Скачать датасет\n",
    "/datasets/tariffs.csv. Скачать датасет\n",
    "/datasets/users.csv. Скачать датасет\n",
    "\n",
    "**Шаг 2. Подготовьте данные**\n",
    "- Приведите данные к нужным типам;\n",
    "- Найдите и исправьте ошибки в данных, если они есть.\n",
    "- Поясните, какие ошибки вы нашли и как их исправили. В данных вы найдёте звонки с нулевой продолжительностью. Это не ошибка: нулями обозначены пропущенные звонки, поэтому их не нужно удалять.\n",
    "- Посчитайте для каждого пользователя:\n",
    "    - количество сделанных звонков и израсходованных минут разговора по месяцам;\n",
    "    - количество отправленных сообщений по месяцам;\n",
    "    - объем израсходованного интернет-трафика по месяцам;\n",
    "    - помесячную выручку с каждого пользователя (вычтите бесплатный лимит из суммарного количества звонков, сообщений и интернет трафика; остаток умножьте на значение из тарифного плана; прибавьте абонентскую плату, соответствующую тарифному плану).\n",
    "\n",
    "**Шаг 3. Проанализируйте данные**\n",
    "Опишите поведение клиентов оператора, исходя из выборки. Сколько минут разговора, сколько сообщений и какой объём интернет-трафика требуется пользователям каждого тарифа в месяц? Посчитайте среднее количество, дисперсию и стандартное отклонение. Постройте гистограммы. Опишите распределения.\n",
    "\n",
    "**Шаг 4. Проверьте гипотезы**\n",
    "- средняя выручка пользователей тарифов «Ультра» и «Смарт» различаются;\n",
    "- средняя выручка пользователей из Москвы отличается от выручки пользователей из других регионов.\n",
    "Пороговое значение alpha задайте самостоятельно.\n",
    "Поясните:\n",
    "- как вы формулировали нулевую и альтернативную гипотезы;\n",
    "- какой критерий использовали для проверки гипотез и почему.\n",
    "\n",
    "**Шаг 5. Напишите общий вывод**\n",
    "\n",
    "\n",
    "**Описание данных**:\n",
    "\n",
    "**Таблица users (информация о пользователях):**\n",
    "- user_id — уникальный идентификатор пользователя\n",
    "- first_name — имя пользователя\n",
    "- last_name — фамилия пользователя\n",
    "- age — возраст пользователя (годы)\n",
    "- reg_date — дата подключения тарифа (день, месяц, год)\n",
    "- churn_date — дата прекращения пользования тарифом (если значение пропущено, то тариф ещё действовал на момент выгрузки данных)\n",
    "- city — город проживания пользователя\n",
    "- tariff — название тарифного плана\n",
    "\n",
    "**Таблица calls (информация о звонках):**\n",
    "- id — уникальный номер звонка\n",
    "- call_date — дата звонка\n",
    "- duration — длительность звонка в минутах\n",
    "- user_id — идентификатор пользователя, сделавшего звонок\n",
    "\n",
    "**Таблица messages (информация о сообщениях):**\n",
    "- id — уникальный номер сообщения\n",
    "- message_date — дата сообщения\n",
    "- user_id — идентификатор пользователя, отправившего сообщение\n",
    "\n",
    "**Таблица internet (информация об интернет-сессиях):**\n",
    "- id — уникальный номер сессии\n",
    "- mb_used — объём потраченного за сессию интернет-трафика (в мегабайтах)\n",
    "- session_date — дата интернет-сессии\n",
    "- user_id — идентификатор пользователя\n",
    "\n",
    "**Таблица tariffs (информация о тарифах):**\n",
    "- tariff_name — название тарифа\n",
    "- rub_monthly_fee — ежемесячная абонентская плата в рублях\n",
    "- minutes_included — количество минут разговора в месяц, включённых в абонентскую плату\n",
    "- messages_included — количество сообщений в месяц, включённых в абонентскую плату\n",
    "- mb_per_month_included — объём интернет-трафика, включённого в абонентскую плату (в мегабайтах)\n",
    "- rub_per_minute — стоимость минуты разговора сверх тарифного пакета (например, если в тарифе 100 минут разговора в месяц, то со 101 минуты будет взиматься плата)\n",
    "- rub_per_message — стоимость отправки сообщения сверх тарифного пакета\n",
    "- rub_per_gb — стоимость дополнительного гигабайта интернет-трафика сверх тарифного пакета (1 гигабайт = 1024 мегабайта)\n"
   ]
  },
  {
   "cell_type": "markdown",
   "id": "a1e801bf",
   "metadata": {},
   "source": [
    "## План исследования:\n",
    "\n",
    "1 - Первичная визуальная оценка данныых\n",
    "- Анализ исходных данных\n",
    "- Определение типа данных\n",
    "- Выявление пропусков\n",
    "- Выявление дубликатов \n",
    "\n",
    "\n",
    "2 - Предобработка данных:\n",
    " - Переименование и обработка столбцов данных \n",
    " - Приведение данных к корректным типам\n",
    " - Устранение дубликатов в данных при их наличии\n",
    " - Слияние таблиц\n",
    " - Определение и устранение выбросов в данных при их наличии\n",
    " - Устрание пропусков в данных при необходимости\n",
    "\n",
    "        \n",
    "3 - Работа с данными. \n",
    "Посчитать для каждого пользователя:\n",
    "- количество сделанных звонков и израсходованных минут разговора по месяцам;\n",
    "- количество отправленных сообщений по месяцам;\n",
    "- объем израсходованного интернет-трафика по месяцам;\n",
    "- помесячную выручку с каждого пользователя (вычтите бесплатный лимит из суммарного количества звонков, сообщений и интернет трафика; остаток умножьте на значение из тарифного плана; прибавьте абонентскую плату, соответствующую тарифному плану).\n",
    "\n",
    "\n",
    "4 - Анализ данных:\n",
    "- Проанализируйте данные Опишите поведение клиентов оператора, исходя из выборки. Сколько минут разговора, сколько сообщений и какой объём интернет-трафика требуется пользователям каждого тарифа в месяц? Посчитайте среднее количество, дисперсию и стандартное отклонение. Постройте гистограммы. Опишите распределения.\n",
    "\n",
    "5 - Проверка гипотез:\n",
    "- средняя выручка пользователей тарифов «Ультра» и «Смарт» различаются;\n",
    "- средняя выручка пользователей из Москвы отличается от выручки пользователей из других регионов. Пороговое значение alpha задайте самостоятельно. Поясните:\n",
    "- как вы формулировали нулевую и альтернативную гипотезы;\n",
    "- какой критерий использовали для проверки гипотез и почему.\n",
    "\n",
    "6 - Общий вывод"
   ]
  },
  {
   "cell_type": "markdown",
   "id": "1bb82383",
   "metadata": {},
   "source": [
    "### Выполнение проекта"
   ]
  },
  {
   "cell_type": "code",
   "execution_count": 1,
   "id": "44d5257e",
   "metadata": {},
   "outputs": [],
   "source": [
    "# Импортируем библиотеки\n",
    "from scipy import stats as st\n",
    "import pandas as pd\n",
    "import matplotlib.pyplot as plt\n",
    "import seaborn as sns\n",
    "import numpy as np"
   ]
  },
  {
   "cell_type": "code",
   "execution_count": 2,
   "id": "f5eb21f4",
   "metadata": {},
   "outputs": [],
   "source": [
    "# Считаем данные из фаилов. Т.к. проект выполняется локально, то воспользуемся конструкцией try/except:\n",
    "try:\n",
    "    users = pd.read_csv('/datasets/users.csv', sep=',')\n",
    "    tariffs = pd.read_csv('/datasets/tariffs.csv', sep=',')\n",
    "    messages = pd.read_csv('/datasets/messages.csv', sep=',')\n",
    "    internet = pd.read_csv('/datasets/internet.csv', sep=',')\n",
    "    calls = pd.read_csv('/datasets/calls.csv', sep=',')\n",
    "    \n",
    "except:\n",
    "    users = pd.read_csv('C:/Users/Админ/Desktop/Jupyter/Yandex/users.csv.', sep=',')\n",
    "    tariffs = pd.read_csv('C:/Users/Админ/Desktop/Jupyter/Yandex/tariffs.csv.', sep=',')\n",
    "    messages = pd.read_csv('C:/Users/Админ/Desktop/Jupyter/Yandex/messages.csv.', sep=',')\n",
    "    internet = pd.read_csv('C:/Users/Админ/Desktop/Jupyter/Yandex/internet.csv.', sep=',')\n",
    "    calls = pd.read_csv('C:/Users/Админ/Desktop/Jupyter/Yandex/calls.csv.', sep=',')"
   ]
  },
  {
   "cell_type": "markdown",
   "id": "dcf4e36e",
   "metadata": {},
   "source": [
    "### 1 - Первичная визуальная оценка данных"
   ]
  },
  {
   "cell_type": "code",
   "execution_count": 3,
   "id": "3ecf9cfb",
   "metadata": {},
   "outputs": [],
   "source": [
    "# функция для первичного анализа данных\n",
    "def data_info(data):\n",
    "    print('Первые строки дата-сета', sep='\\n')\n",
    "    display(data.head(5))\n",
    "    print(sep='\\n')\n",
    "    print('Общая информация по дата-сету', sep='\\n')\n",
    "    data.info()\n",
    "    print(sep='\\n')\n",
    "    print('Наличие пропусков в дата-сете', data.isna().sum(), '', sep='\\n')   "
   ]
  },
  {
   "cell_type": "markdown",
   "id": "72760b5a",
   "metadata": {},
   "source": [
    "**Оценка данных дата-сета users:**"
   ]
  },
  {
   "cell_type": "code",
   "execution_count": 4,
   "id": "e982e262",
   "metadata": {},
   "outputs": [
    {
     "name": "stdout",
     "output_type": "stream",
     "text": [
      "Первые строки дата-сета\n"
     ]
    },
    {
     "data": {
      "text/html": [
       "<div>\n",
       "<style scoped>\n",
       "    .dataframe tbody tr th:only-of-type {\n",
       "        vertical-align: middle;\n",
       "    }\n",
       "\n",
       "    .dataframe tbody tr th {\n",
       "        vertical-align: top;\n",
       "    }\n",
       "\n",
       "    .dataframe thead th {\n",
       "        text-align: right;\n",
       "    }\n",
       "</style>\n",
       "<table border=\"1\" class=\"dataframe\">\n",
       "  <thead>\n",
       "    <tr style=\"text-align: right;\">\n",
       "      <th></th>\n",
       "      <th>user_id</th>\n",
       "      <th>age</th>\n",
       "      <th>churn_date</th>\n",
       "      <th>city</th>\n",
       "      <th>first_name</th>\n",
       "      <th>last_name</th>\n",
       "      <th>reg_date</th>\n",
       "      <th>tariff</th>\n",
       "    </tr>\n",
       "  </thead>\n",
       "  <tbody>\n",
       "    <tr>\n",
       "      <th>0</th>\n",
       "      <td>1000</td>\n",
       "      <td>52</td>\n",
       "      <td>NaN</td>\n",
       "      <td>Краснодар</td>\n",
       "      <td>Рафаил</td>\n",
       "      <td>Верещагин</td>\n",
       "      <td>2018-05-25</td>\n",
       "      <td>ultra</td>\n",
       "    </tr>\n",
       "    <tr>\n",
       "      <th>1</th>\n",
       "      <td>1001</td>\n",
       "      <td>41</td>\n",
       "      <td>NaN</td>\n",
       "      <td>Москва</td>\n",
       "      <td>Иван</td>\n",
       "      <td>Ежов</td>\n",
       "      <td>2018-11-01</td>\n",
       "      <td>smart</td>\n",
       "    </tr>\n",
       "    <tr>\n",
       "      <th>2</th>\n",
       "      <td>1002</td>\n",
       "      <td>59</td>\n",
       "      <td>NaN</td>\n",
       "      <td>Стерлитамак</td>\n",
       "      <td>Евгений</td>\n",
       "      <td>Абрамович</td>\n",
       "      <td>2018-06-17</td>\n",
       "      <td>smart</td>\n",
       "    </tr>\n",
       "    <tr>\n",
       "      <th>3</th>\n",
       "      <td>1003</td>\n",
       "      <td>23</td>\n",
       "      <td>NaN</td>\n",
       "      <td>Москва</td>\n",
       "      <td>Белла</td>\n",
       "      <td>Белякова</td>\n",
       "      <td>2018-08-17</td>\n",
       "      <td>ultra</td>\n",
       "    </tr>\n",
       "    <tr>\n",
       "      <th>4</th>\n",
       "      <td>1004</td>\n",
       "      <td>68</td>\n",
       "      <td>NaN</td>\n",
       "      <td>Новокузнецк</td>\n",
       "      <td>Татьяна</td>\n",
       "      <td>Авдеенко</td>\n",
       "      <td>2018-05-14</td>\n",
       "      <td>ultra</td>\n",
       "    </tr>\n",
       "  </tbody>\n",
       "</table>\n",
       "</div>"
      ],
      "text/plain": [
       "   user_id  age churn_date         city first_name  last_name    reg_date  \\\n",
       "0     1000   52        NaN    Краснодар     Рафаил  Верещагин  2018-05-25   \n",
       "1     1001   41        NaN       Москва       Иван       Ежов  2018-11-01   \n",
       "2     1002   59        NaN  Стерлитамак    Евгений  Абрамович  2018-06-17   \n",
       "3     1003   23        NaN       Москва      Белла   Белякова  2018-08-17   \n",
       "4     1004   68        NaN  Новокузнецк    Татьяна   Авдеенко  2018-05-14   \n",
       "\n",
       "  tariff  \n",
       "0  ultra  \n",
       "1  smart  \n",
       "2  smart  \n",
       "3  ultra  \n",
       "4  ultra  "
      ]
     },
     "metadata": {},
     "output_type": "display_data"
    },
    {
     "name": "stdout",
     "output_type": "stream",
     "text": [
      "\n",
      "Общая информация по дата-сету\n",
      "<class 'pandas.core.frame.DataFrame'>\n",
      "RangeIndex: 500 entries, 0 to 499\n",
      "Data columns (total 8 columns):\n",
      " #   Column      Non-Null Count  Dtype \n",
      "---  ------      --------------  ----- \n",
      " 0   user_id     500 non-null    int64 \n",
      " 1   age         500 non-null    int64 \n",
      " 2   churn_date  38 non-null     object\n",
      " 3   city        500 non-null    object\n",
      " 4   first_name  500 non-null    object\n",
      " 5   last_name   500 non-null    object\n",
      " 6   reg_date    500 non-null    object\n",
      " 7   tariff      500 non-null    object\n",
      "dtypes: int64(2), object(6)\n",
      "memory usage: 31.4+ KB\n",
      "\n",
      "Наличие пропусков в дата-сете\n",
      "user_id         0\n",
      "age             0\n",
      "churn_date    462\n",
      "city            0\n",
      "first_name      0\n",
      "last_name       0\n",
      "reg_date        0\n",
      "tariff          0\n",
      "dtype: int64\n",
      "\n"
     ]
    }
   ],
   "source": [
    "# Оцениваем данные users\n",
    "data_info(users)"
   ]
  },
  {
   "cell_type": "code",
   "execution_count": 5,
   "id": "2ff8e824",
   "metadata": {},
   "outputs": [
    {
     "data": {
      "text/plain": [
       "0"
      ]
     },
     "execution_count": 5,
     "metadata": {},
     "output_type": "execute_result"
    }
   ],
   "source": [
    "users['user_id'].duplicated().sum()"
   ]
  },
  {
   "cell_type": "code",
   "execution_count": 6,
   "id": "d19f68ec",
   "metadata": {},
   "outputs": [
    {
     "data": {
      "text/plain": [
       "77     18\n",
       "204    18\n",
       "270    18\n",
       "268    18\n",
       "473    18\n",
       "       ..\n",
       "254    75\n",
       "436    75\n",
       "478    75\n",
       "177    75\n",
       "219    75\n",
       "Name: age, Length: 500, dtype: int64"
      ]
     },
     "execution_count": 6,
     "metadata": {},
     "output_type": "execute_result"
    }
   ],
   "source": [
    "users['age'].sort_values()"
   ]
  },
  {
   "cell_type": "code",
   "execution_count": 7,
   "id": "09c71358",
   "metadata": {},
   "outputs": [
    {
     "data": {
      "text/plain": [
       "array(['Краснодар', 'Москва', 'Стерлитамак', 'Новокузнецк',\n",
       "       'Набережные Челны', 'Ульяновск', 'Челябинск', 'Пермь', 'Тюмень',\n",
       "       'Самара', 'Санкт-Петербург', 'Иваново', 'Чебоксары', 'Омск', 'Уфа',\n",
       "       'Томск', 'Чита', 'Мурманск', 'Петрозаводск', 'Тверь',\n",
       "       'Екатеринбург', 'Махачкала', 'Вологда', 'Череповец', 'Ярославль',\n",
       "       'Сочи', 'Хабаровск', 'Ставрополь', 'Рязань', 'Улан-Удэ', 'Тула',\n",
       "       'Саратов', 'Ростов-на-Дону', 'Казань', 'Иркутск', 'Курск',\n",
       "       'Калуга', 'Якутск', 'Астрахань', 'Химки', 'Владикавказ',\n",
       "       'Волгоград', 'Саранск', 'Ижевск', 'Новосибирск', 'Брянск',\n",
       "       'Тольятти', 'Нижний Тагил', 'Орёл', 'Белгород', 'Воронеж',\n",
       "       'Волжский', 'Курган', 'Барнаул', 'Красноярск', 'Архангельск',\n",
       "       'Липецк', 'Кемерово', 'Киров', 'Сургут', 'Пенза', 'Магнитогорск',\n",
       "       'Нижний Новгород', 'Кострома', 'Владивосток', 'Тамбов', 'Балашиха',\n",
       "       'Севастополь', 'Калининград', 'Оренбург', 'Смоленск',\n",
       "       'Нижневартовск', 'Владимир', 'Новороссийск', 'Грозный', 'Подольск'],\n",
       "      dtype=object)"
      ]
     },
     "execution_count": 7,
     "metadata": {},
     "output_type": "execute_result"
    }
   ],
   "source": [
    "users['city'].unique()"
   ]
  },
  {
   "cell_type": "markdown",
   "id": "b9d52dfc",
   "metadata": {},
   "source": [
    "Краткий вывод по дата-сету users:\n",
    "- В дата-сете 500 уникальных пользователей\n",
    "- В данных churn_date присутсвует 462 пропуска - тариф еще действует на момент выгрузки.\n",
    "- Дубликатов в данных user_id не встречается\n",
    "- Возраст пользователей от 18 до 75 лет - значения нормальные\n",
    "- Неявных дубликатов в данных city не обнаружено\n",
    "- Данные для замены типов: churn_date, reg_date"
   ]
  },
  {
   "cell_type": "markdown",
   "id": "5f8cf9db",
   "metadata": {},
   "source": [
    "**Оценка данных дата-сета messages**"
   ]
  },
  {
   "cell_type": "code",
   "execution_count": 8,
   "id": "0dd0e499",
   "metadata": {},
   "outputs": [
    {
     "name": "stdout",
     "output_type": "stream",
     "text": [
      "Первые строки дата-сета\n"
     ]
    },
    {
     "data": {
      "text/html": [
       "<div>\n",
       "<style scoped>\n",
       "    .dataframe tbody tr th:only-of-type {\n",
       "        vertical-align: middle;\n",
       "    }\n",
       "\n",
       "    .dataframe tbody tr th {\n",
       "        vertical-align: top;\n",
       "    }\n",
       "\n",
       "    .dataframe thead th {\n",
       "        text-align: right;\n",
       "    }\n",
       "</style>\n",
       "<table border=\"1\" class=\"dataframe\">\n",
       "  <thead>\n",
       "    <tr style=\"text-align: right;\">\n",
       "      <th></th>\n",
       "      <th>id</th>\n",
       "      <th>message_date</th>\n",
       "      <th>user_id</th>\n",
       "    </tr>\n",
       "  </thead>\n",
       "  <tbody>\n",
       "    <tr>\n",
       "      <th>0</th>\n",
       "      <td>1000_0</td>\n",
       "      <td>2018-06-27</td>\n",
       "      <td>1000</td>\n",
       "    </tr>\n",
       "    <tr>\n",
       "      <th>1</th>\n",
       "      <td>1000_1</td>\n",
       "      <td>2018-10-08</td>\n",
       "      <td>1000</td>\n",
       "    </tr>\n",
       "    <tr>\n",
       "      <th>2</th>\n",
       "      <td>1000_2</td>\n",
       "      <td>2018-08-04</td>\n",
       "      <td>1000</td>\n",
       "    </tr>\n",
       "    <tr>\n",
       "      <th>3</th>\n",
       "      <td>1000_3</td>\n",
       "      <td>2018-06-16</td>\n",
       "      <td>1000</td>\n",
       "    </tr>\n",
       "    <tr>\n",
       "      <th>4</th>\n",
       "      <td>1000_4</td>\n",
       "      <td>2018-12-05</td>\n",
       "      <td>1000</td>\n",
       "    </tr>\n",
       "  </tbody>\n",
       "</table>\n",
       "</div>"
      ],
      "text/plain": [
       "       id message_date  user_id\n",
       "0  1000_0   2018-06-27     1000\n",
       "1  1000_1   2018-10-08     1000\n",
       "2  1000_2   2018-08-04     1000\n",
       "3  1000_3   2018-06-16     1000\n",
       "4  1000_4   2018-12-05     1000"
      ]
     },
     "metadata": {},
     "output_type": "display_data"
    },
    {
     "name": "stdout",
     "output_type": "stream",
     "text": [
      "\n",
      "Общая информация по дата-сету\n",
      "<class 'pandas.core.frame.DataFrame'>\n",
      "RangeIndex: 123036 entries, 0 to 123035\n",
      "Data columns (total 3 columns):\n",
      " #   Column        Non-Null Count   Dtype \n",
      "---  ------        --------------   ----- \n",
      " 0   id            123036 non-null  object\n",
      " 1   message_date  123036 non-null  object\n",
      " 2   user_id       123036 non-null  int64 \n",
      "dtypes: int64(1), object(2)\n",
      "memory usage: 2.8+ MB\n",
      "\n",
      "Наличие пропусков в дата-сете\n",
      "id              0\n",
      "message_date    0\n",
      "user_id         0\n",
      "dtype: int64\n",
      "\n"
     ]
    }
   ],
   "source": [
    "# Оцениваем данные messages:\n",
    "data_info(messages)"
   ]
  },
  {
   "cell_type": "code",
   "execution_count": 9,
   "id": "3b4edd8a",
   "metadata": {},
   "outputs": [
    {
     "data": {
      "text/plain": [
       "(426,)"
      ]
     },
     "execution_count": 9,
     "metadata": {},
     "output_type": "execute_result"
    }
   ],
   "source": [
    "messages['user_id'].unique().shape"
   ]
  },
  {
   "cell_type": "code",
   "execution_count": 10,
   "id": "395dff9d",
   "metadata": {},
   "outputs": [
    {
     "data": {
      "text/plain": [
       "0"
      ]
     },
     "execution_count": 10,
     "metadata": {},
     "output_type": "execute_result"
    }
   ],
   "source": [
    "messages['id'].duplicated().sum()"
   ]
  },
  {
   "cell_type": "markdown",
   "id": "b5da6446",
   "metadata": {},
   "source": [
    "Краткий вывод по дата-сету messages:\n",
    "- В дата-сете 426 уникальных пользователей (это значит, что 74 пользователя не отпраляют сообщения)\n",
    "- В данных нет пропусков\n",
    "- Дубликатов в данных id нет\n",
    "- Данные для замены типов: message_date\n",
    "- Заменить названия в колонках: id \n"
   ]
  },
  {
   "cell_type": "markdown",
   "id": "3e40edc7",
   "metadata": {},
   "source": [
    "**Оценка данных дата-сета internet**"
   ]
  },
  {
   "cell_type": "code",
   "execution_count": 11,
   "id": "23ea46b1",
   "metadata": {},
   "outputs": [
    {
     "name": "stdout",
     "output_type": "stream",
     "text": [
      "Первые строки дата-сета\n"
     ]
    },
    {
     "data": {
      "text/html": [
       "<div>\n",
       "<style scoped>\n",
       "    .dataframe tbody tr th:only-of-type {\n",
       "        vertical-align: middle;\n",
       "    }\n",
       "\n",
       "    .dataframe tbody tr th {\n",
       "        vertical-align: top;\n",
       "    }\n",
       "\n",
       "    .dataframe thead th {\n",
       "        text-align: right;\n",
       "    }\n",
       "</style>\n",
       "<table border=\"1\" class=\"dataframe\">\n",
       "  <thead>\n",
       "    <tr style=\"text-align: right;\">\n",
       "      <th></th>\n",
       "      <th>Unnamed: 0</th>\n",
       "      <th>id</th>\n",
       "      <th>mb_used</th>\n",
       "      <th>session_date</th>\n",
       "      <th>user_id</th>\n",
       "    </tr>\n",
       "  </thead>\n",
       "  <tbody>\n",
       "    <tr>\n",
       "      <th>0</th>\n",
       "      <td>0</td>\n",
       "      <td>1000_0</td>\n",
       "      <td>112.95</td>\n",
       "      <td>2018-11-25</td>\n",
       "      <td>1000</td>\n",
       "    </tr>\n",
       "    <tr>\n",
       "      <th>1</th>\n",
       "      <td>1</td>\n",
       "      <td>1000_1</td>\n",
       "      <td>1052.81</td>\n",
       "      <td>2018-09-07</td>\n",
       "      <td>1000</td>\n",
       "    </tr>\n",
       "    <tr>\n",
       "      <th>2</th>\n",
       "      <td>2</td>\n",
       "      <td>1000_2</td>\n",
       "      <td>1197.26</td>\n",
       "      <td>2018-06-25</td>\n",
       "      <td>1000</td>\n",
       "    </tr>\n",
       "    <tr>\n",
       "      <th>3</th>\n",
       "      <td>3</td>\n",
       "      <td>1000_3</td>\n",
       "      <td>550.27</td>\n",
       "      <td>2018-08-22</td>\n",
       "      <td>1000</td>\n",
       "    </tr>\n",
       "    <tr>\n",
       "      <th>4</th>\n",
       "      <td>4</td>\n",
       "      <td>1000_4</td>\n",
       "      <td>302.56</td>\n",
       "      <td>2018-09-24</td>\n",
       "      <td>1000</td>\n",
       "    </tr>\n",
       "  </tbody>\n",
       "</table>\n",
       "</div>"
      ],
      "text/plain": [
       "   Unnamed: 0      id  mb_used session_date  user_id\n",
       "0           0  1000_0   112.95   2018-11-25     1000\n",
       "1           1  1000_1  1052.81   2018-09-07     1000\n",
       "2           2  1000_2  1197.26   2018-06-25     1000\n",
       "3           3  1000_3   550.27   2018-08-22     1000\n",
       "4           4  1000_4   302.56   2018-09-24     1000"
      ]
     },
     "metadata": {},
     "output_type": "display_data"
    },
    {
     "name": "stdout",
     "output_type": "stream",
     "text": [
      "\n",
      "Общая информация по дата-сету\n",
      "<class 'pandas.core.frame.DataFrame'>\n",
      "RangeIndex: 149396 entries, 0 to 149395\n",
      "Data columns (total 5 columns):\n",
      " #   Column        Non-Null Count   Dtype  \n",
      "---  ------        --------------   -----  \n",
      " 0   Unnamed: 0    149396 non-null  int64  \n",
      " 1   id            149396 non-null  object \n",
      " 2   mb_used       149396 non-null  float64\n",
      " 3   session_date  149396 non-null  object \n",
      " 4   user_id       149396 non-null  int64  \n",
      "dtypes: float64(1), int64(2), object(2)\n",
      "memory usage: 5.7+ MB\n",
      "\n",
      "Наличие пропусков в дата-сете\n",
      "Unnamed: 0      0\n",
      "id              0\n",
      "mb_used         0\n",
      "session_date    0\n",
      "user_id         0\n",
      "dtype: int64\n",
      "\n"
     ]
    }
   ],
   "source": [
    "# Оцениваем данные internet:\n",
    "data_info(internet)"
   ]
  },
  {
   "cell_type": "code",
   "execution_count": 12,
   "id": "93edb649",
   "metadata": {},
   "outputs": [
    {
     "data": {
      "text/plain": [
       "(497,)"
      ]
     },
     "execution_count": 12,
     "metadata": {},
     "output_type": "execute_result"
    }
   ],
   "source": [
    "internet['user_id'].unique().shape"
   ]
  },
  {
   "cell_type": "code",
   "execution_count": 13,
   "id": "efc79a9f",
   "metadata": {},
   "outputs": [
    {
     "data": {
      "text/plain": [
       "0"
      ]
     },
     "execution_count": 13,
     "metadata": {},
     "output_type": "execute_result"
    }
   ],
   "source": [
    "internet['id'].duplicated().sum()"
   ]
  },
  {
   "cell_type": "code",
   "execution_count": 14,
   "id": "baca2f8a",
   "metadata": {},
   "outputs": [
    {
     "data": {
      "text/plain": [
       "116616       0.00\n",
       "53410        0.00\n",
       "104303       0.00\n",
       "19438        0.00\n",
       "19437        0.00\n",
       "           ...   \n",
       "140299    1623.92\n",
       "103480    1651.25\n",
       "7063      1651.55\n",
       "119156    1702.75\n",
       "137493    1724.83\n",
       "Name: mb_used, Length: 149396, dtype: float64"
      ]
     },
     "execution_count": 14,
     "metadata": {},
     "output_type": "execute_result"
    }
   ],
   "source": [
    "internet['mb_used'].sort_values()"
   ]
  },
  {
   "cell_type": "code",
   "execution_count": 15,
   "id": "17bf522f",
   "metadata": {},
   "outputs": [
    {
     "data": {
      "text/plain": [
       "Unnamed: 0      19598\n",
       "id              19598\n",
       "mb_used         19598\n",
       "session_date    19598\n",
       "user_id         19598\n",
       "dtype: int64"
      ]
     },
     "execution_count": 15,
     "metadata": {},
     "output_type": "execute_result"
    }
   ],
   "source": [
    "internet[internet['mb_used'] == 0.00].count()"
   ]
  },
  {
   "cell_type": "code",
   "execution_count": 16,
   "id": "6d812da7",
   "metadata": {},
   "outputs": [
    {
     "data": {
      "text/plain": [
       "<AxesSubplot:>"
      ]
     },
     "execution_count": 16,
     "metadata": {},
     "output_type": "execute_result"
    },
    {
     "data": {
      "image/png": "[encoded data removed]",
      "text/plain": [
       "<Figure size 432x288 with 1 Axes>"
      ]
     },
     "metadata": {
      "needs_background": "light"
     },
     "output_type": "display_data"
    }
   ],
   "source": [
    "internet['mb_used'].hist(bins=50)"
   ]
  },
  {
   "cell_type": "code",
   "execution_count": 17,
   "id": "7e125bb9",
   "metadata": {},
   "outputs": [
    {
     "data": {
      "text/plain": [
       "(494,)"
      ]
     },
     "execution_count": 17,
     "metadata": {},
     "output_type": "execute_result"
    }
   ],
   "source": [
    "internet[internet['mb_used'] == 0.00]['user_id'].unique().shape\n"
   ]
  },
  {
   "cell_type": "code",
   "execution_count": 18,
   "id": "19936d3f",
   "metadata": {},
   "outputs": [
    {
     "data": {
      "text/html": [
       "<div>\n",
       "<style scoped>\n",
       "    .dataframe tbody tr th:only-of-type {\n",
       "        vertical-align: middle;\n",
       "    }\n",
       "\n",
       "    .dataframe tbody tr th {\n",
       "        vertical-align: top;\n",
       "    }\n",
       "\n",
       "    .dataframe thead th {\n",
       "        text-align: right;\n",
       "    }\n",
       "</style>\n",
       "<table border=\"1\" class=\"dataframe\">\n",
       "  <thead>\n",
       "    <tr style=\"text-align: right;\">\n",
       "      <th></th>\n",
       "      <th>Unnamed: 0</th>\n",
       "      <th>id</th>\n",
       "      <th>mb_used</th>\n",
       "      <th>session_date</th>\n",
       "      <th>user_id</th>\n",
       "    </tr>\n",
       "  </thead>\n",
       "  <tbody>\n",
       "    <tr>\n",
       "      <th>11</th>\n",
       "      <td>11</td>\n",
       "      <td>1000_11</td>\n",
       "      <td>0.0</td>\n",
       "      <td>2018-08-28</td>\n",
       "      <td>1000</td>\n",
       "    </tr>\n",
       "    <tr>\n",
       "      <th>38</th>\n",
       "      <td>38</td>\n",
       "      <td>1000_38</td>\n",
       "      <td>0.0</td>\n",
       "      <td>2018-11-27</td>\n",
       "      <td>1000</td>\n",
       "    </tr>\n",
       "    <tr>\n",
       "      <th>46</th>\n",
       "      <td>46</td>\n",
       "      <td>1000_46</td>\n",
       "      <td>0.0</td>\n",
       "      <td>2018-06-30</td>\n",
       "      <td>1000</td>\n",
       "    </tr>\n",
       "    <tr>\n",
       "      <th>67</th>\n",
       "      <td>67</td>\n",
       "      <td>1000_67</td>\n",
       "      <td>0.0</td>\n",
       "      <td>2018-06-16</td>\n",
       "      <td>1000</td>\n",
       "    </tr>\n",
       "    <tr>\n",
       "      <th>72</th>\n",
       "      <td>72</td>\n",
       "      <td>1000_72</td>\n",
       "      <td>0.0</td>\n",
       "      <td>2018-06-15</td>\n",
       "      <td>1000</td>\n",
       "    </tr>\n",
       "    <tr>\n",
       "      <th>...</th>\n",
       "      <td>...</td>\n",
       "      <td>...</td>\n",
       "      <td>...</td>\n",
       "      <td>...</td>\n",
       "      <td>...</td>\n",
       "    </tr>\n",
       "    <tr>\n",
       "      <th>149380</th>\n",
       "      <td>149380</td>\n",
       "      <td>1499_141</td>\n",
       "      <td>0.0</td>\n",
       "      <td>2018-12-11</td>\n",
       "      <td>1499</td>\n",
       "    </tr>\n",
       "    <tr>\n",
       "      <th>149381</th>\n",
       "      <td>149381</td>\n",
       "      <td>1499_142</td>\n",
       "      <td>0.0</td>\n",
       "      <td>2018-11-01</td>\n",
       "      <td>1499</td>\n",
       "    </tr>\n",
       "    <tr>\n",
       "      <th>149383</th>\n",
       "      <td>149383</td>\n",
       "      <td>1499_144</td>\n",
       "      <td>0.0</td>\n",
       "      <td>2018-11-27</td>\n",
       "      <td>1499</td>\n",
       "    </tr>\n",
       "    <tr>\n",
       "      <th>149386</th>\n",
       "      <td>149386</td>\n",
       "      <td>1499_147</td>\n",
       "      <td>0.0</td>\n",
       "      <td>2018-10-21</td>\n",
       "      <td>1499</td>\n",
       "    </tr>\n",
       "    <tr>\n",
       "      <th>149393</th>\n",
       "      <td>149393</td>\n",
       "      <td>1499_154</td>\n",
       "      <td>0.0</td>\n",
       "      <td>2018-10-27</td>\n",
       "      <td>1499</td>\n",
       "    </tr>\n",
       "  </tbody>\n",
       "</table>\n",
       "<p>19598 rows × 5 columns</p>\n",
       "</div>"
      ],
      "text/plain": [
       "        Unnamed: 0        id  mb_used session_date  user_id\n",
       "11              11   1000_11      0.0   2018-08-28     1000\n",
       "38              38   1000_38      0.0   2018-11-27     1000\n",
       "46              46   1000_46      0.0   2018-06-30     1000\n",
       "67              67   1000_67      0.0   2018-06-16     1000\n",
       "72              72   1000_72      0.0   2018-06-15     1000\n",
       "...            ...       ...      ...          ...      ...\n",
       "149380      149380  1499_141      0.0   2018-12-11     1499\n",
       "149381      149381  1499_142      0.0   2018-11-01     1499\n",
       "149383      149383  1499_144      0.0   2018-11-27     1499\n",
       "149386      149386  1499_147      0.0   2018-10-21     1499\n",
       "149393      149393  1499_154      0.0   2018-10-27     1499\n",
       "\n",
       "[19598 rows x 5 columns]"
      ]
     },
     "execution_count": 18,
     "metadata": {},
     "output_type": "execute_result"
    }
   ],
   "source": [
    "internet[internet['mb_used'] == 0.00]"
   ]
  },
  {
   "cell_type": "markdown",
   "id": "81f9e220",
   "metadata": {},
   "source": [
    "Краткий вывод по дата-сету internet:\n",
    "- В дата-сете 497 уникальных пользователей (это значит, что 3 пользователя не имели выход в интернет)\n",
    "- Из 149396 строк 19598 имеют нулевые значения mb_used это 13.12%. Возможно часть пользователей не расходует мобильный интернет, так как пользуется домашним или рабочим WiFi\n",
    "- В данных нет пропусков\n",
    "- Дубликатов в данных id нет\n",
    "- Данные для замены типов: session_date\n",
    "- Заменить названия в колонках: id \n",
    "- Удалить столбец Unnamed 0 "
   ]
  },
  {
   "cell_type": "markdown",
   "id": "8a3a39f9",
   "metadata": {},
   "source": [
    "**Оценка дата-сета calls**"
   ]
  },
  {
   "cell_type": "code",
   "execution_count": 19,
   "id": "8b7be63b",
   "metadata": {},
   "outputs": [
    {
     "name": "stdout",
     "output_type": "stream",
     "text": [
      "Первые строки дата-сета\n"
     ]
    },
    {
     "data": {
      "text/html": [
       "<div>\n",
       "<style scoped>\n",
       "    .dataframe tbody tr th:only-of-type {\n",
       "        vertical-align: middle;\n",
       "    }\n",
       "\n",
       "    .dataframe tbody tr th {\n",
       "        vertical-align: top;\n",
       "    }\n",
       "\n",
       "    .dataframe thead th {\n",
       "        text-align: right;\n",
       "    }\n",
       "</style>\n",
       "<table border=\"1\" class=\"dataframe\">\n",
       "  <thead>\n",
       "    <tr style=\"text-align: right;\">\n",
       "      <th></th>\n",
       "      <th>id</th>\n",
       "      <th>call_date</th>\n",
       "      <th>duration</th>\n",
       "      <th>user_id</th>\n",
       "    </tr>\n",
       "  </thead>\n",
       "  <tbody>\n",
       "    <tr>\n",
       "      <th>0</th>\n",
       "      <td>1000_0</td>\n",
       "      <td>2018-07-25</td>\n",
       "      <td>0.00</td>\n",
       "      <td>1000</td>\n",
       "    </tr>\n",
       "    <tr>\n",
       "      <th>1</th>\n",
       "      <td>1000_1</td>\n",
       "      <td>2018-08-17</td>\n",
       "      <td>0.00</td>\n",
       "      <td>1000</td>\n",
       "    </tr>\n",
       "    <tr>\n",
       "      <th>2</th>\n",
       "      <td>1000_2</td>\n",
       "      <td>2018-06-11</td>\n",
       "      <td>2.85</td>\n",
       "      <td>1000</td>\n",
       "    </tr>\n",
       "    <tr>\n",
       "      <th>3</th>\n",
       "      <td>1000_3</td>\n",
       "      <td>2018-09-21</td>\n",
       "      <td>13.80</td>\n",
       "      <td>1000</td>\n",
       "    </tr>\n",
       "    <tr>\n",
       "      <th>4</th>\n",
       "      <td>1000_4</td>\n",
       "      <td>2018-12-15</td>\n",
       "      <td>5.18</td>\n",
       "      <td>1000</td>\n",
       "    </tr>\n",
       "  </tbody>\n",
       "</table>\n",
       "</div>"
      ],
      "text/plain": [
       "       id   call_date  duration  user_id\n",
       "0  1000_0  2018-07-25      0.00     1000\n",
       "1  1000_1  2018-08-17      0.00     1000\n",
       "2  1000_2  2018-06-11      2.85     1000\n",
       "3  1000_3  2018-09-21     13.80     1000\n",
       "4  1000_4  2018-12-15      5.18     1000"
      ]
     },
     "metadata": {},
     "output_type": "display_data"
    },
    {
     "name": "stdout",
     "output_type": "stream",
     "text": [
      "\n",
      "Общая информация по дата-сету\n",
      "<class 'pandas.core.frame.DataFrame'>\n",
      "RangeIndex: 202607 entries, 0 to 202606\n",
      "Data columns (total 4 columns):\n",
      " #   Column     Non-Null Count   Dtype  \n",
      "---  ------     --------------   -----  \n",
      " 0   id         202607 non-null  object \n",
      " 1   call_date  202607 non-null  object \n",
      " 2   duration   202607 non-null  float64\n",
      " 3   user_id    202607 non-null  int64  \n",
      "dtypes: float64(1), int64(1), object(2)\n",
      "memory usage: 6.2+ MB\n",
      "\n",
      "Наличие пропусков в дата-сете\n",
      "id           0\n",
      "call_date    0\n",
      "duration     0\n",
      "user_id      0\n",
      "dtype: int64\n",
      "\n"
     ]
    }
   ],
   "source": [
    "# Оцениваем данные calls:\n",
    "data_info(calls)"
   ]
  },
  {
   "cell_type": "code",
   "execution_count": 20,
   "id": "da55d76f",
   "metadata": {},
   "outputs": [
    {
     "data": {
      "text/plain": [
       "(492,)"
      ]
     },
     "execution_count": 20,
     "metadata": {},
     "output_type": "execute_result"
    }
   ],
   "source": [
    "calls['user_id'].unique().shape"
   ]
  },
  {
   "cell_type": "code",
   "execution_count": 21,
   "id": "545902b7",
   "metadata": {},
   "outputs": [
    {
     "data": {
      "text/plain": [
       "0"
      ]
     },
     "execution_count": 21,
     "metadata": {},
     "output_type": "execute_result"
    }
   ],
   "source": [
    "calls['id'].duplicated().sum()"
   ]
  },
  {
   "cell_type": "code",
   "execution_count": 22,
   "id": "c3c6c883",
   "metadata": {},
   "outputs": [
    {
     "data": {
      "text/plain": [
       "0          0.00\n",
       "57375      0.00\n",
       "57380      0.00\n",
       "57381      0.00\n",
       "157627     0.00\n",
       "          ...  \n",
       "60889     35.95\n",
       "39777     36.12\n",
       "5865      36.47\n",
       "178737    37.35\n",
       "95088     38.00\n",
       "Name: duration, Length: 202607, dtype: float64"
      ]
     },
     "execution_count": 22,
     "metadata": {},
     "output_type": "execute_result"
    }
   ],
   "source": [
    "calls['duration'].sort_values()"
   ]
  },
  {
   "cell_type": "code",
   "execution_count": 23,
   "id": "14903039",
   "metadata": {
    "scrolled": true
   },
   "outputs": [
    {
     "data": {
      "text/plain": [
       "id           39613\n",
       "call_date    39613\n",
       "duration     39613\n",
       "user_id      39613\n",
       "dtype: int64"
      ]
     },
     "execution_count": 23,
     "metadata": {},
     "output_type": "execute_result"
    }
   ],
   "source": [
    "calls[calls['duration'] == 0.00].count()"
   ]
  },
  {
   "cell_type": "code",
   "execution_count": 24,
   "id": "a53c9506",
   "metadata": {},
   "outputs": [
    {
     "data": {
      "text/plain": [
       "<AxesSubplot:>"
      ]
     },
     "execution_count": 24,
     "metadata": {},
     "output_type": "execute_result"
    },
    {
     "data": {
      "image/png": "[encoded data removed]",
      "text/plain": [
       "<Figure size 432x288 with 1 Axes>"
      ]
     },
     "metadata": {
      "needs_background": "light"
     },
     "output_type": "display_data"
    }
   ],
   "source": [
    "calls['duration'].hist(bins=50)"
   ]
  },
  {
   "cell_type": "markdown",
   "id": "b7906603",
   "metadata": {},
   "source": [
    "Краткий вывод по дата-сету calls:\n",
    "- В дата-сете 492 уникальных пользователей (это значит, что 8 пользователя не совершали звонки)\n",
    "- Из 202607 строк 39613 имеют нулевые значения duration это 19.55%, однако по условиям задачи нулевые значения - это пропущенный вызов\n",
    "- В данных нет пропусков\n",
    "- Дубликатов в данных id нет\n",
    "- Данные для замены типов: call_date\n",
    "- Заменить названия в колонках: id "
   ]
  },
  {
   "cell_type": "markdown",
   "id": "2c4d5fee",
   "metadata": {},
   "source": [
    "**Оценка дата-сета tariffs**"
   ]
  },
  {
   "cell_type": "code",
   "execution_count": 29,
   "id": "d4b6fdd9",
   "metadata": {},
   "outputs": [
    {
     "name": "stdout",
     "output_type": "stream",
     "text": [
      "Первые строки дата-сета\n"
     ]
    },
    {
     "data": {
      "text/html": [
       "<div>\n",
       "<style scoped>\n",
       "    .dataframe tbody tr th:only-of-type {\n",
       "        vertical-align: middle;\n",
       "    }\n",
       "\n",
       "    .dataframe tbody tr th {\n",
       "        vertical-align: top;\n",
       "    }\n",
       "\n",
       "    .dataframe thead th {\n",
       "        text-align: right;\n",
       "    }\n",
       "</style>\n",
       "<table border=\"1\" class=\"dataframe\">\n",
       "  <thead>\n",
       "    <tr style=\"text-align: right;\">\n",
       "      <th></th>\n",
       "      <th>messages_included</th>\n",
       "      <th>mb_per_month_included</th>\n",
       "      <th>minutes_included</th>\n",
       "      <th>rub_monthly_fee</th>\n",
       "      <th>rub_per_gb</th>\n",
       "      <th>rub_per_message</th>\n",
       "      <th>rub_per_minute</th>\n",
       "      <th>tariff_name</th>\n",
       "    </tr>\n",
       "  </thead>\n",
       "  <tbody>\n",
       "    <tr>\n",
       "      <th>0</th>\n",
       "      <td>50</td>\n",
       "      <td>15360</td>\n",
       "      <td>500</td>\n",
       "      <td>550</td>\n",
       "      <td>200</td>\n",
       "      <td>3</td>\n",
       "      <td>3</td>\n",
       "      <td>smart</td>\n",
       "    </tr>\n",
       "    <tr>\n",
       "      <th>1</th>\n",
       "      <td>1000</td>\n",
       "      <td>30720</td>\n",
       "      <td>3000</td>\n",
       "      <td>1950</td>\n",
       "      <td>150</td>\n",
       "      <td>1</td>\n",
       "      <td>1</td>\n",
       "      <td>ultra</td>\n",
       "    </tr>\n",
       "  </tbody>\n",
       "</table>\n",
       "</div>"
      ],
      "text/plain": [
       "   messages_included  mb_per_month_included  minutes_included  \\\n",
       "0                 50                  15360               500   \n",
       "1               1000                  30720              3000   \n",
       "\n",
       "   rub_monthly_fee  rub_per_gb  rub_per_message  rub_per_minute tariff_name  \n",
       "0              550         200                3               3       smart  \n",
       "1             1950         150                1               1       ultra  "
      ]
     },
     "metadata": {},
     "output_type": "display_data"
    },
    {
     "name": "stdout",
     "output_type": "stream",
     "text": [
      "\n",
      "Общая информация по дата-сету\n",
      "<class 'pandas.core.frame.DataFrame'>\n",
      "RangeIndex: 2 entries, 0 to 1\n",
      "Data columns (total 8 columns):\n",
      " #   Column                 Non-Null Count  Dtype \n",
      "---  ------                 --------------  ----- \n",
      " 0   messages_included      2 non-null      int64 \n",
      " 1   mb_per_month_included  2 non-null      int64 \n",
      " 2   minutes_included       2 non-null      int64 \n",
      " 3   rub_monthly_fee        2 non-null      int64 \n",
      " 4   rub_per_gb             2 non-null      int64 \n",
      " 5   rub_per_message        2 non-null      int64 \n",
      " 6   rub_per_minute         2 non-null      int64 \n",
      " 7   tariff_name            2 non-null      object\n",
      "dtypes: int64(7), object(1)\n",
      "memory usage: 256.0+ bytes\n",
      "\n",
      "Наличие пропусков в дата-сете\n",
      "messages_included        0\n",
      "mb_per_month_included    0\n",
      "minutes_included         0\n",
      "rub_monthly_fee          0\n",
      "rub_per_gb               0\n",
      "rub_per_message          0\n",
      "rub_per_minute           0\n",
      "tariff_name              0\n",
      "dtype: int64\n",
      "\n"
     ]
    }
   ],
   "source": [
    "# Оцениваем данные tariffs:\n",
    "data_info(tariffs)"
   ]
  },
  {
   "cell_type": "markdown",
   "id": "f666dc80",
   "metadata": {},
   "source": [
    "Краткий вывод по дата-сету tariffs:\n",
    "- данные о лиматах указаны в mb. Необходимо перевести их в gb"
   ]
  },
  {
   "cell_type": "markdown",
   "id": "b46fce29",
   "metadata": {},
   "source": [
    "#### Вывод по первичной визуальной оценке данных\n",
    "\n",
    "Краткий вывод по дата-сету users:\n",
    "- В дата-сете 500 уникальных пользователей\n",
    "- В данных churn_date присутсвует 462 пропуска - тариф еще действует на момент выгрузки.\n",
    "- Дубликатов в данных user_id не встречается\n",
    "- Возраст пользователей от 18 до 75 лет - значения нормальные\n",
    "- Неявных дубликатов в данных city не обнаружено\n",
    "- Данные для замены типов: churn_date, reg_date\n",
    "\n",
    "Краткий вывод по дата-сету messages:\n",
    "- В дата-сете 426 уникальных пользователей (это значит, что 74 пользователя не отпраляют сообщения)\n",
    "- В данных нет пропусков\n",
    "- Дубликатов в данных id нет\n",
    "- Данные для замены типов: message_date\n",
    "- Заменить названия в колонках: id \n",
    "\n",
    "Краткий вывод по дата-сету internet:\n",
    "- В дата-сете 497 уникальных пользователей (это значит, что 3 пользователя не имели выход в интернет)\n",
    "- Из 149396 строк 19598 имеют нулевые значения mb_used это 13.12% \n",
    "- В данных нет пропусков\n",
    "- Дубликатов в данных id нет\n",
    "- Данные для замены типов: session_date\n",
    "- Заменить названия в колонках: id \n",
    "- Удалить столбец Unnamed 0 \n",
    "\n",
    "Краткий вывод по дата-сету calls:\n",
    "- В дата-сете 492 уникальных пользователей (это значит, что 8 пользователя не совершали звонки)\n",
    "- Из 202607 строк 39613 имеют нулевые значения duration это 19.55%, однако по условиям задачи нулевые значения - это пропущенный вызов\n",
    "- Максимальная длительность телефонного звонка 38 минут - значения нормальные\n",
    "- В данных нет пропусков\n",
    "- Дубликатов в данных id нет\n",
    "- Данные для замены типов: call_date\n",
    "- Заменить названия в колонках: id\n",
    "\n",
    "Краткий вывод по дата-сету tariffs:\n",
    "- данные о лиматах указаны в mb. Необходимо перевести их в gb\n",
    "\n",
    "\n",
    "Общий вывод: \n",
    " - все значения в данных users['age'], calls['duration'], internet['mb_used'] значения находятся в пределах нормальны, говорить о наличии выбросов не приходится.\n",
    " - проусков в данных нет, за исключением данных users['churn_date'] - присутсвует 462 пропуска - тариф еще действует на момент выгрузки.\n",
    " - все данные, за исключением колонок, содержащих информацию у дате, являются корректными. Замена типа данных требуется только для данных с датой\n",
    " - данные о лиматах указаны в mb. Необходимо перевести их в gb\n",
    " - дата-сет internet содержит лишний столбец Unnamed: 0, необходимо удаление\n",
    " - дата-сеты internet, messages, calls содеражат колонки с одинаковым именем 'id' - это может создать путаницу, если потребуется слияние нескольких таблиц. Необходимо заменить данные названия на те, которые будут отражать принадлежность к определенным данным."
   ]
  },
  {
   "cell_type": "markdown",
   "id": "40bf4fed",
   "metadata": {},
   "source": [
    "### 2 - Предобработка данных:\n",
    "\n",
    "- Удалить лишний столбец: из дата-сета internet удалить столбец Unnamed: 0\n",
    "- Переименование столбцов в дата-сетах: messages, internet, calls (это поможет корректно распознавать данные после слияния таблиц)\n",
    "- Приведение данных к корректным типам: (изменим данные c object на datetime)\n",
    "- В дата-сете tariffs изменить значения лимитов с mb на gb\n",
    "- В дата-сете calls округлить duration до целых значений в большую сторону в соответсвии с условиями тарифа.\n"
   ]
  },
  {
   "cell_type": "code",
   "execution_count": 30,
   "id": "39021d54",
   "metadata": {},
   "outputs": [],
   "source": [
    "# убираем лишний столбец 'Unnamed: 0'\n",
    "internet = internet.drop('Unnamed: 0', axis=1)"
   ]
  },
  {
   "cell_type": "code",
   "execution_count": 31,
   "id": "84436ebb",
   "metadata": {},
   "outputs": [],
   "source": [
    "# Изменим название столбцов cityCenters_nearest, parks_around3000, ponds_around3000\n",
    "messages.rename(columns={'id':'id_messages'}, inplace=True)\n",
    "internet.rename(columns={'id':'id_internet'}, inplace=True)\n",
    "calls.rename(columns={'id':'id_calls'}, inplace=True)"
   ]
  },
  {
   "cell_type": "code",
   "execution_count": 32,
   "id": "d6b925e3",
   "metadata": {},
   "outputs": [],
   "source": [
    "# Приведем данные к корректным типам (изменим данные c object на datetime):\n",
    "users['churn_date'] = pd.to_datetime(users['churn_date'], format='%Y-%m-%d', errors='ignore')\n",
    "users['reg_date'] = pd.to_datetime(users['reg_date'], format='%Y-%m-%d', errors='ignore')\n",
    "internet['session_date'] = pd.to_datetime(internet['session_date'], format='%Y-%m-%d', errors='ignore')\n",
    "messages['message_date'] = pd.to_datetime(messages['message_date'], format='%Y-%m-%d', errors='ignore')\n",
    "calls['call_date'] = pd.to_datetime(calls['call_date'], format='%Y-%m-%d', errors='ignore')"
   ]
  },
  {
   "cell_type": "code",
   "execution_count": 33,
   "id": "b4e1b03d",
   "metadata": {},
   "outputs": [],
   "source": [
    "# В дата-сете tariffs изменить значения лимитов с mb на gb:\n",
    "tariffs.rename(columns={'mb_per_month_included':'gb_per_month_included'}, inplace=True)\n",
    "tariffs['gb_per_month_included'] = (tariffs['gb_per_month_included'] / 1024)"
   ]
  },
  {
   "cell_type": "code",
   "execution_count": 34,
   "id": "5c03b942",
   "metadata": {},
   "outputs": [],
   "source": [
    "# В дата-сете calls округлить duration до целых значений в большую сторону в соответсвии с условиями тарифа:\n",
    "calls['duration'] = np.ceil(calls['duration']).astype('int')"
   ]
  },
  {
   "cell_type": "markdown",
   "id": "98dd57c9",
   "metadata": {},
   "source": [
    "### 3 - Работа с данными. Посчитать для каждого пользователя:\n",
    "\n",
    "- количество сделанных звонков и израсходованных минут разговора по месяцам;\n",
    "- количество отправленных сообщений по месяцам;\n",
    "- объем израсходованного интернет-трафика по месяцам;\n",
    "- помесячную выручку с каждого пользователя (вычтите бесплатный лимит из суммарного количества звонков, сообщений и интернет трафика; остаток умножьте на значение из тарифного плана; прибавьте абонентскую плату, соответствующую тарифному плану)."
   ]
  },
  {
   "cell_type": "code",
   "execution_count": 35,
   "id": "d3612535",
   "metadata": {},
   "outputs": [],
   "source": [
    "# выделяем месяцы из calls, messages, internet:\n",
    "calls['month'] = calls['call_date'].dt.month\n",
    "messages['month'] = messages['message_date'].dt.month\n",
    "internet['month'] = internet['session_date'].dt.month"
   ]
  },
  {
   "cell_type": "code",
   "execution_count": 36,
   "id": "249ca11c",
   "metadata": {},
   "outputs": [
    {
     "data": {
      "text/html": [
       "<div>\n",
       "<style scoped>\n",
       "    .dataframe tbody tr th:only-of-type {\n",
       "        vertical-align: middle;\n",
       "    }\n",
       "\n",
       "    .dataframe tbody tr th {\n",
       "        vertical-align: top;\n",
       "    }\n",
       "\n",
       "    .dataframe thead th {\n",
       "        text-align: right;\n",
       "    }\n",
       "</style>\n",
       "<table border=\"1\" class=\"dataframe\">\n",
       "  <thead>\n",
       "    <tr style=\"text-align: right;\">\n",
       "      <th></th>\n",
       "      <th></th>\n",
       "      <th>calls_count</th>\n",
       "      <th>calls_duration</th>\n",
       "    </tr>\n",
       "    <tr>\n",
       "      <th>user_id</th>\n",
       "      <th>month</th>\n",
       "      <th></th>\n",
       "      <th></th>\n",
       "    </tr>\n",
       "  </thead>\n",
       "  <tbody>\n",
       "    <tr>\n",
       "      <th rowspan=\"5\" valign=\"top\">1000</th>\n",
       "      <th>5</th>\n",
       "      <td>22</td>\n",
       "      <td>159</td>\n",
       "    </tr>\n",
       "    <tr>\n",
       "      <th>6</th>\n",
       "      <td>43</td>\n",
       "      <td>172</td>\n",
       "    </tr>\n",
       "    <tr>\n",
       "      <th>7</th>\n",
       "      <td>47</td>\n",
       "      <td>340</td>\n",
       "    </tr>\n",
       "    <tr>\n",
       "      <th>8</th>\n",
       "      <td>52</td>\n",
       "      <td>408</td>\n",
       "    </tr>\n",
       "    <tr>\n",
       "      <th>9</th>\n",
       "      <td>58</td>\n",
       "      <td>466</td>\n",
       "    </tr>\n",
       "    <tr>\n",
       "      <th>...</th>\n",
       "      <th>...</th>\n",
       "      <td>...</td>\n",
       "      <td>...</td>\n",
       "    </tr>\n",
       "    <tr>\n",
       "      <th>1498</th>\n",
       "      <th>10</th>\n",
       "      <td>41</td>\n",
       "      <td>247</td>\n",
       "    </tr>\n",
       "    <tr>\n",
       "      <th rowspan=\"4\" valign=\"top\">1499</th>\n",
       "      <th>9</th>\n",
       "      <td>9</td>\n",
       "      <td>70</td>\n",
       "    </tr>\n",
       "    <tr>\n",
       "      <th>10</th>\n",
       "      <td>68</td>\n",
       "      <td>449</td>\n",
       "    </tr>\n",
       "    <tr>\n",
       "      <th>11</th>\n",
       "      <td>74</td>\n",
       "      <td>612</td>\n",
       "    </tr>\n",
       "    <tr>\n",
       "      <th>12</th>\n",
       "      <td>69</td>\n",
       "      <td>492</td>\n",
       "    </tr>\n",
       "  </tbody>\n",
       "</table>\n",
       "<p>3174 rows × 2 columns</p>\n",
       "</div>"
      ],
      "text/plain": [
       "               calls_count  calls_duration\n",
       "user_id month                             \n",
       "1000    5               22             159\n",
       "        6               43             172\n",
       "        7               47             340\n",
       "        8               52             408\n",
       "        9               58             466\n",
       "...                    ...             ...\n",
       "1498    10              41             247\n",
       "1499    9                9              70\n",
       "        10              68             449\n",
       "        11              74             612\n",
       "        12              69             492\n",
       "\n",
       "[3174 rows x 2 columns]"
      ]
     },
     "execution_count": 36,
     "metadata": {},
     "output_type": "execute_result"
    }
   ],
   "source": [
    "# С помощью сводной таблицы выведем количество сделанных звонков и продолжительность разговоров по каждому пользователю \n",
    "# по месяцам\n",
    "\n",
    "calls_info = calls.pivot_table(index=['user_id', 'month'], values='duration', aggfunc=['count', 'sum'])\n",
    "calls_info.columns = ['calls_count','calls_duration']\n",
    "\n",
    "calls_info"
   ]
  },
  {
   "cell_type": "code",
   "execution_count": 37,
   "id": "55aca5ea",
   "metadata": {},
   "outputs": [
    {
     "data": {
      "text/html": [
       "<div>\n",
       "<style scoped>\n",
       "    .dataframe tbody tr th:only-of-type {\n",
       "        vertical-align: middle;\n",
       "    }\n",
       "\n",
       "    .dataframe tbody tr th {\n",
       "        vertical-align: top;\n",
       "    }\n",
       "\n",
       "    .dataframe thead th {\n",
       "        text-align: right;\n",
       "    }\n",
       "</style>\n",
       "<table border=\"1\" class=\"dataframe\">\n",
       "  <thead>\n",
       "    <tr style=\"text-align: right;\">\n",
       "      <th></th>\n",
       "      <th></th>\n",
       "      <th>message_count</th>\n",
       "    </tr>\n",
       "    <tr>\n",
       "      <th>user_id</th>\n",
       "      <th>month</th>\n",
       "      <th></th>\n",
       "    </tr>\n",
       "  </thead>\n",
       "  <tbody>\n",
       "    <tr>\n",
       "      <th rowspan=\"5\" valign=\"top\">1000</th>\n",
       "      <th>5</th>\n",
       "      <td>22</td>\n",
       "    </tr>\n",
       "    <tr>\n",
       "      <th>6</th>\n",
       "      <td>60</td>\n",
       "    </tr>\n",
       "    <tr>\n",
       "      <th>7</th>\n",
       "      <td>75</td>\n",
       "    </tr>\n",
       "    <tr>\n",
       "      <th>8</th>\n",
       "      <td>81</td>\n",
       "    </tr>\n",
       "    <tr>\n",
       "      <th>9</th>\n",
       "      <td>57</td>\n",
       "    </tr>\n",
       "    <tr>\n",
       "      <th>...</th>\n",
       "      <th>...</th>\n",
       "      <td>...</td>\n",
       "    </tr>\n",
       "    <tr>\n",
       "      <th>1498</th>\n",
       "      <th>10</th>\n",
       "      <td>42</td>\n",
       "    </tr>\n",
       "    <tr>\n",
       "      <th rowspan=\"4\" valign=\"top\">1499</th>\n",
       "      <th>9</th>\n",
       "      <td>11</td>\n",
       "    </tr>\n",
       "    <tr>\n",
       "      <th>10</th>\n",
       "      <td>48</td>\n",
       "    </tr>\n",
       "    <tr>\n",
       "      <th>11</th>\n",
       "      <td>59</td>\n",
       "    </tr>\n",
       "    <tr>\n",
       "      <th>12</th>\n",
       "      <td>66</td>\n",
       "    </tr>\n",
       "  </tbody>\n",
       "</table>\n",
       "<p>2717 rows × 1 columns</p>\n",
       "</div>"
      ],
      "text/plain": [
       "               message_count\n",
       "user_id month               \n",
       "1000    5                 22\n",
       "        6                 60\n",
       "        7                 75\n",
       "        8                 81\n",
       "        9                 57\n",
       "...                      ...\n",
       "1498    10                42\n",
       "1499    9                 11\n",
       "        10                48\n",
       "        11                59\n",
       "        12                66\n",
       "\n",
       "[2717 rows x 1 columns]"
      ]
     },
     "execution_count": 37,
     "metadata": {},
     "output_type": "execute_result"
    }
   ],
   "source": [
    "# Посчитаем количество отправленных сообщений по месяцам:\n",
    "messages_info = messages.pivot_table(index=['user_id', 'month'], values='id_messages', aggfunc= 'count')\n",
    "messages_info.columns = ['message_count']\n",
    "messages_info"
   ]
  },
  {
   "cell_type": "code",
   "execution_count": 38,
   "id": "432c88ae",
   "metadata": {},
   "outputs": [
    {
     "data": {
      "text/html": [
       "<div>\n",
       "<style scoped>\n",
       "    .dataframe tbody tr th:only-of-type {\n",
       "        vertical-align: middle;\n",
       "    }\n",
       "\n",
       "    .dataframe tbody tr th {\n",
       "        vertical-align: top;\n",
       "    }\n",
       "\n",
       "    .dataframe thead th {\n",
       "        text-align: right;\n",
       "    }\n",
       "</style>\n",
       "<table border=\"1\" class=\"dataframe\">\n",
       "  <thead>\n",
       "    <tr style=\"text-align: right;\">\n",
       "      <th></th>\n",
       "      <th></th>\n",
       "      <th>gb_used</th>\n",
       "    </tr>\n",
       "    <tr>\n",
       "      <th>user_id</th>\n",
       "      <th>month</th>\n",
       "      <th></th>\n",
       "    </tr>\n",
       "  </thead>\n",
       "  <tbody>\n",
       "    <tr>\n",
       "      <th rowspan=\"5\" valign=\"top\">1000</th>\n",
       "      <th>5</th>\n",
       "      <td>3</td>\n",
       "    </tr>\n",
       "    <tr>\n",
       "      <th>6</th>\n",
       "      <td>23</td>\n",
       "    </tr>\n",
       "    <tr>\n",
       "      <th>7</th>\n",
       "      <td>14</td>\n",
       "    </tr>\n",
       "    <tr>\n",
       "      <th>8</th>\n",
       "      <td>14</td>\n",
       "    </tr>\n",
       "    <tr>\n",
       "      <th>9</th>\n",
       "      <td>15</td>\n",
       "    </tr>\n",
       "    <tr>\n",
       "      <th>...</th>\n",
       "      <th>...</th>\n",
       "      <td>...</td>\n",
       "    </tr>\n",
       "    <tr>\n",
       "      <th>1498</th>\n",
       "      <th>10</th>\n",
       "      <td>21</td>\n",
       "    </tr>\n",
       "    <tr>\n",
       "      <th rowspan=\"4\" valign=\"top\">1499</th>\n",
       "      <th>9</th>\n",
       "      <td>2</td>\n",
       "    </tr>\n",
       "    <tr>\n",
       "      <th>10</th>\n",
       "      <td>18</td>\n",
       "    </tr>\n",
       "    <tr>\n",
       "      <th>11</th>\n",
       "      <td>18</td>\n",
       "    </tr>\n",
       "    <tr>\n",
       "      <th>12</th>\n",
       "      <td>13</td>\n",
       "    </tr>\n",
       "  </tbody>\n",
       "</table>\n",
       "<p>3203 rows × 1 columns</p>\n",
       "</div>"
      ],
      "text/plain": [
       "               gb_used\n",
       "user_id month         \n",
       "1000    5            3\n",
       "        6           23\n",
       "        7           14\n",
       "        8           14\n",
       "        9           15\n",
       "...                ...\n",
       "1498    10          21\n",
       "1499    9            2\n",
       "        10          18\n",
       "        11          18\n",
       "        12          13\n",
       "\n",
       "[3203 rows x 1 columns]"
      ]
     },
     "execution_count": 38,
     "metadata": {},
     "output_type": "execute_result"
    }
   ],
   "source": [
    "# Посчитаем объем израсходованного интернет-трафика по месяцам:\n",
    "# Так как по условиям тарифа, израсходованные Gb округляются в большую сторону до целых значений по итгу месяца, то \n",
    "# округлим значения до целых Gb в большую сторону:\n",
    "internet_info = internet.pivot_table(index = ['user_id','month'], values = 'mb_used', aggfunc = 'sum')\n",
    "internet_info['mb_used'] = np.ceil(internet_info['mb_used']/1024).astype('int')\n",
    "internet_info.columns = ['gb_used']\n",
    "internet_info"
   ]
  },
  {
   "cell_type": "markdown",
   "id": "e4bf1488",
   "metadata": {},
   "source": [
    "Для того, чтобы рассчитать помесячную выручку с каждого пользователя, потребуется: \n",
    "- вычесть бесплатный лимит из суммарного количества звонков, сообщений и интернет трафика; \n",
    "- остаток умножить на значение из тарифного плана; \n",
    "- прибавить абонентскую плату, соответствующую тарифному плану."
   ]
  },
  {
   "cell_type": "code",
   "execution_count": 39,
   "id": "7231def5",
   "metadata": {},
   "outputs": [
    {
     "data": {
      "text/html": [
       "<div>\n",
       "<style scoped>\n",
       "    .dataframe tbody tr th:only-of-type {\n",
       "        vertical-align: middle;\n",
       "    }\n",
       "\n",
       "    .dataframe tbody tr th {\n",
       "        vertical-align: top;\n",
       "    }\n",
       "\n",
       "    .dataframe thead th {\n",
       "        text-align: right;\n",
       "    }\n",
       "</style>\n",
       "<table border=\"1\" class=\"dataframe\">\n",
       "  <thead>\n",
       "    <tr style=\"text-align: right;\">\n",
       "      <th></th>\n",
       "      <th>user_id</th>\n",
       "      <th>month</th>\n",
       "      <th>calls_count</th>\n",
       "      <th>calls_duration</th>\n",
       "      <th>message_count</th>\n",
       "      <th>gb_used</th>\n",
       "    </tr>\n",
       "  </thead>\n",
       "  <tbody>\n",
       "    <tr>\n",
       "      <th>0</th>\n",
       "      <td>1000</td>\n",
       "      <td>5</td>\n",
       "      <td>22.0</td>\n",
       "      <td>159.0</td>\n",
       "      <td>22.0</td>\n",
       "      <td>3.0</td>\n",
       "    </tr>\n",
       "    <tr>\n",
       "      <th>1</th>\n",
       "      <td>1000</td>\n",
       "      <td>6</td>\n",
       "      <td>43.0</td>\n",
       "      <td>172.0</td>\n",
       "      <td>60.0</td>\n",
       "      <td>23.0</td>\n",
       "    </tr>\n",
       "    <tr>\n",
       "      <th>2</th>\n",
       "      <td>1000</td>\n",
       "      <td>7</td>\n",
       "      <td>47.0</td>\n",
       "      <td>340.0</td>\n",
       "      <td>75.0</td>\n",
       "      <td>14.0</td>\n",
       "    </tr>\n",
       "    <tr>\n",
       "      <th>3</th>\n",
       "      <td>1000</td>\n",
       "      <td>8</td>\n",
       "      <td>52.0</td>\n",
       "      <td>408.0</td>\n",
       "      <td>81.0</td>\n",
       "      <td>14.0</td>\n",
       "    </tr>\n",
       "    <tr>\n",
       "      <th>4</th>\n",
       "      <td>1000</td>\n",
       "      <td>9</td>\n",
       "      <td>58.0</td>\n",
       "      <td>466.0</td>\n",
       "      <td>57.0</td>\n",
       "      <td>15.0</td>\n",
       "    </tr>\n",
       "    <tr>\n",
       "      <th>...</th>\n",
       "      <td>...</td>\n",
       "      <td>...</td>\n",
       "      <td>...</td>\n",
       "      <td>...</td>\n",
       "      <td>...</td>\n",
       "      <td>...</td>\n",
       "    </tr>\n",
       "    <tr>\n",
       "      <th>3209</th>\n",
       "      <td>1498</td>\n",
       "      <td>10</td>\n",
       "      <td>41.0</td>\n",
       "      <td>247.0</td>\n",
       "      <td>42.0</td>\n",
       "      <td>21.0</td>\n",
       "    </tr>\n",
       "    <tr>\n",
       "      <th>3210</th>\n",
       "      <td>1499</td>\n",
       "      <td>9</td>\n",
       "      <td>9.0</td>\n",
       "      <td>70.0</td>\n",
       "      <td>11.0</td>\n",
       "      <td>2.0</td>\n",
       "    </tr>\n",
       "    <tr>\n",
       "      <th>3211</th>\n",
       "      <td>1499</td>\n",
       "      <td>10</td>\n",
       "      <td>68.0</td>\n",
       "      <td>449.0</td>\n",
       "      <td>48.0</td>\n",
       "      <td>18.0</td>\n",
       "    </tr>\n",
       "    <tr>\n",
       "      <th>3212</th>\n",
       "      <td>1499</td>\n",
       "      <td>11</td>\n",
       "      <td>74.0</td>\n",
       "      <td>612.0</td>\n",
       "      <td>59.0</td>\n",
       "      <td>18.0</td>\n",
       "    </tr>\n",
       "    <tr>\n",
       "      <th>3213</th>\n",
       "      <td>1499</td>\n",
       "      <td>12</td>\n",
       "      <td>69.0</td>\n",
       "      <td>492.0</td>\n",
       "      <td>66.0</td>\n",
       "      <td>13.0</td>\n",
       "    </tr>\n",
       "  </tbody>\n",
       "</table>\n",
       "<p>3214 rows × 6 columns</p>\n",
       "</div>"
      ],
      "text/plain": [
       "      user_id  month  calls_count  calls_duration  message_count  gb_used\n",
       "0        1000      5         22.0           159.0           22.0      3.0\n",
       "1        1000      6         43.0           172.0           60.0     23.0\n",
       "2        1000      7         47.0           340.0           75.0     14.0\n",
       "3        1000      8         52.0           408.0           81.0     14.0\n",
       "4        1000      9         58.0           466.0           57.0     15.0\n",
       "...       ...    ...          ...             ...            ...      ...\n",
       "3209     1498     10         41.0           247.0           42.0     21.0\n",
       "3210     1499      9          9.0            70.0           11.0      2.0\n",
       "3211     1499     10         68.0           449.0           48.0     18.0\n",
       "3212     1499     11         74.0           612.0           59.0     18.0\n",
       "3213     1499     12         69.0           492.0           66.0     13.0\n",
       "\n",
       "[3214 rows x 6 columns]"
      ]
     },
     "execution_count": 39,
     "metadata": {},
     "output_type": "execute_result"
    }
   ],
   "source": [
    "# Создадим дата-сет, по которому будет удобно посчитать требуемые значения:\n",
    "mega = pd.concat(objs=[calls_info, messages_info, internet_info],join='outer',axis=1).sort_values(by=['user_id','month']).reset_index()\n",
    "mega.fillna(0)\n",
    "mega"
   ]
  },
  {
   "cell_type": "code",
   "execution_count": 40,
   "id": "452f8db8",
   "metadata": {},
   "outputs": [
    {
     "data": {
      "text/plain": [
       "(498,)"
      ]
     },
     "execution_count": 40,
     "metadata": {},
     "output_type": "execute_result"
    }
   ],
   "source": [
    "# Комментарий ревьюера\n",
    "mega.user_id.unique().shape "
   ]
  },
  {
   "cell_type": "code",
   "execution_count": 41,
   "id": "febbb85c",
   "metadata": {},
   "outputs": [
    {
     "name": "stdout",
     "output_type": "stream",
     "text": [
      "Беглец 1128\n",
      "Беглец 1371\n"
     ]
    }
   ],
   "source": [
    "users_pool = users['user_id']\n",
    "users_mega_pool = mega['user_id'].unique()\n",
    "\n",
    "for user in users_pool: \n",
    "    counter = 0\n",
    "    if user in users_mega_pool:\n",
    "        counter += 1 \n",
    "    else:\n",
    "        print('Беглец', user)"
   ]
  },
  {
   "cell_type": "code",
   "execution_count": 42,
   "id": "fa511b20",
   "metadata": {},
   "outputs": [
    {
     "data": {
      "text/html": [
       "<div>\n",
       "<style scoped>\n",
       "    .dataframe tbody tr th:only-of-type {\n",
       "        vertical-align: middle;\n",
       "    }\n",
       "\n",
       "    .dataframe tbody tr th {\n",
       "        vertical-align: top;\n",
       "    }\n",
       "\n",
       "    .dataframe thead th {\n",
       "        text-align: right;\n",
       "    }\n",
       "</style>\n",
       "<table border=\"1\" class=\"dataframe\">\n",
       "  <thead>\n",
       "    <tr style=\"text-align: right;\">\n",
       "      <th></th>\n",
       "      <th>user_id</th>\n",
       "      <th>month</th>\n",
       "      <th>calls_count</th>\n",
       "      <th>calls_duration</th>\n",
       "      <th>message_count</th>\n",
       "      <th>gb_used</th>\n",
       "      <th>age</th>\n",
       "      <th>city</th>\n",
       "      <th>tariff</th>\n",
       "      <th>tariff_price</th>\n",
       "    </tr>\n",
       "  </thead>\n",
       "  <tbody>\n",
       "    <tr>\n",
       "      <th>0</th>\n",
       "      <td>1000</td>\n",
       "      <td>5</td>\n",
       "      <td>22.0</td>\n",
       "      <td>159.0</td>\n",
       "      <td>22.0</td>\n",
       "      <td>3.0</td>\n",
       "      <td>52</td>\n",
       "      <td>Краснодар</td>\n",
       "      <td>ultra</td>\n",
       "      <td>1950</td>\n",
       "    </tr>\n",
       "    <tr>\n",
       "      <th>1</th>\n",
       "      <td>1000</td>\n",
       "      <td>6</td>\n",
       "      <td>43.0</td>\n",
       "      <td>172.0</td>\n",
       "      <td>60.0</td>\n",
       "      <td>23.0</td>\n",
       "      <td>52</td>\n",
       "      <td>Краснодар</td>\n",
       "      <td>ultra</td>\n",
       "      <td>1950</td>\n",
       "    </tr>\n",
       "    <tr>\n",
       "      <th>2</th>\n",
       "      <td>1000</td>\n",
       "      <td>7</td>\n",
       "      <td>47.0</td>\n",
       "      <td>340.0</td>\n",
       "      <td>75.0</td>\n",
       "      <td>14.0</td>\n",
       "      <td>52</td>\n",
       "      <td>Краснодар</td>\n",
       "      <td>ultra</td>\n",
       "      <td>1950</td>\n",
       "    </tr>\n",
       "    <tr>\n",
       "      <th>3</th>\n",
       "      <td>1000</td>\n",
       "      <td>8</td>\n",
       "      <td>52.0</td>\n",
       "      <td>408.0</td>\n",
       "      <td>81.0</td>\n",
       "      <td>14.0</td>\n",
       "      <td>52</td>\n",
       "      <td>Краснодар</td>\n",
       "      <td>ultra</td>\n",
       "      <td>1950</td>\n",
       "    </tr>\n",
       "    <tr>\n",
       "      <th>4</th>\n",
       "      <td>1000</td>\n",
       "      <td>9</td>\n",
       "      <td>58.0</td>\n",
       "      <td>466.0</td>\n",
       "      <td>57.0</td>\n",
       "      <td>15.0</td>\n",
       "      <td>52</td>\n",
       "      <td>Краснодар</td>\n",
       "      <td>ultra</td>\n",
       "      <td>1950</td>\n",
       "    </tr>\n",
       "    <tr>\n",
       "      <th>...</th>\n",
       "      <td>...</td>\n",
       "      <td>...</td>\n",
       "      <td>...</td>\n",
       "      <td>...</td>\n",
       "      <td>...</td>\n",
       "      <td>...</td>\n",
       "      <td>...</td>\n",
       "      <td>...</td>\n",
       "      <td>...</td>\n",
       "      <td>...</td>\n",
       "    </tr>\n",
       "    <tr>\n",
       "      <th>3209</th>\n",
       "      <td>1498</td>\n",
       "      <td>10</td>\n",
       "      <td>41.0</td>\n",
       "      <td>247.0</td>\n",
       "      <td>42.0</td>\n",
       "      <td>21.0</td>\n",
       "      <td>68</td>\n",
       "      <td>Владикавказ</td>\n",
       "      <td>smart</td>\n",
       "      <td>550</td>\n",
       "    </tr>\n",
       "    <tr>\n",
       "      <th>3210</th>\n",
       "      <td>1499</td>\n",
       "      <td>9</td>\n",
       "      <td>9.0</td>\n",
       "      <td>70.0</td>\n",
       "      <td>11.0</td>\n",
       "      <td>2.0</td>\n",
       "      <td>35</td>\n",
       "      <td>Пермь</td>\n",
       "      <td>smart</td>\n",
       "      <td>550</td>\n",
       "    </tr>\n",
       "    <tr>\n",
       "      <th>3211</th>\n",
       "      <td>1499</td>\n",
       "      <td>10</td>\n",
       "      <td>68.0</td>\n",
       "      <td>449.0</td>\n",
       "      <td>48.0</td>\n",
       "      <td>18.0</td>\n",
       "      <td>35</td>\n",
       "      <td>Пермь</td>\n",
       "      <td>smart</td>\n",
       "      <td>550</td>\n",
       "    </tr>\n",
       "    <tr>\n",
       "      <th>3212</th>\n",
       "      <td>1499</td>\n",
       "      <td>11</td>\n",
       "      <td>74.0</td>\n",
       "      <td>612.0</td>\n",
       "      <td>59.0</td>\n",
       "      <td>18.0</td>\n",
       "      <td>35</td>\n",
       "      <td>Пермь</td>\n",
       "      <td>smart</td>\n",
       "      <td>550</td>\n",
       "    </tr>\n",
       "    <tr>\n",
       "      <th>3213</th>\n",
       "      <td>1499</td>\n",
       "      <td>12</td>\n",
       "      <td>69.0</td>\n",
       "      <td>492.0</td>\n",
       "      <td>66.0</td>\n",
       "      <td>13.0</td>\n",
       "      <td>35</td>\n",
       "      <td>Пермь</td>\n",
       "      <td>smart</td>\n",
       "      <td>550</td>\n",
       "    </tr>\n",
       "  </tbody>\n",
       "</table>\n",
       "<p>3214 rows × 10 columns</p>\n",
       "</div>"
      ],
      "text/plain": [
       "      user_id  month  calls_count  calls_duration  message_count  gb_used  \\\n",
       "0        1000      5         22.0           159.0           22.0      3.0   \n",
       "1        1000      6         43.0           172.0           60.0     23.0   \n",
       "2        1000      7         47.0           340.0           75.0     14.0   \n",
       "3        1000      8         52.0           408.0           81.0     14.0   \n",
       "4        1000      9         58.0           466.0           57.0     15.0   \n",
       "...       ...    ...          ...             ...            ...      ...   \n",
       "3209     1498     10         41.0           247.0           42.0     21.0   \n",
       "3210     1499      9          9.0            70.0           11.0      2.0   \n",
       "3211     1499     10         68.0           449.0           48.0     18.0   \n",
       "3212     1499     11         74.0           612.0           59.0     18.0   \n",
       "3213     1499     12         69.0           492.0           66.0     13.0   \n",
       "\n",
       "      age         city tariff  tariff_price  \n",
       "0      52    Краснодар  ultra          1950  \n",
       "1      52    Краснодар  ultra          1950  \n",
       "2      52    Краснодар  ultra          1950  \n",
       "3      52    Краснодар  ultra          1950  \n",
       "4      52    Краснодар  ultra          1950  \n",
       "...   ...          ...    ...           ...  \n",
       "3209   68  Владикавказ  smart           550  \n",
       "3210   35        Пермь  smart           550  \n",
       "3211   35        Пермь  smart           550  \n",
       "3212   35        Пермь  smart           550  \n",
       "3213   35        Пермь  smart           550  \n",
       "\n",
       "[3214 rows x 10 columns]"
      ]
     },
     "execution_count": 42,
     "metadata": {},
     "output_type": "execute_result"
    }
   ],
   "source": [
    "# Добавим в таблицу данные о тарифах, которыми пользуются пользователи: \n",
    "users['tariff_price'] = users['tariff'].replace({'ultra': 1950, 'smart': 550})\n",
    "mega = mega.merge(users).drop(columns = ['churn_date','first_name','last_name','reg_date'], axis=0)\n",
    "mega"
   ]
  },
  {
   "cell_type": "code",
   "execution_count": 43,
   "id": "57cb3345",
   "metadata": {},
   "outputs": [
    {
     "data": {
      "text/html": [
       "<div>\n",
       "<style scoped>\n",
       "    .dataframe tbody tr th:only-of-type {\n",
       "        vertical-align: middle;\n",
       "    }\n",
       "\n",
       "    .dataframe tbody tr th {\n",
       "        vertical-align: top;\n",
       "    }\n",
       "\n",
       "    .dataframe thead th {\n",
       "        text-align: right;\n",
       "    }\n",
       "</style>\n",
       "<table border=\"1\" class=\"dataframe\">\n",
       "  <thead>\n",
       "    <tr style=\"text-align: right;\">\n",
       "      <th></th>\n",
       "      <th>user_id</th>\n",
       "      <th>month</th>\n",
       "      <th>calls_count</th>\n",
       "      <th>calls_duration</th>\n",
       "      <th>message_count</th>\n",
       "      <th>gb_used</th>\n",
       "      <th>age</th>\n",
       "      <th>city</th>\n",
       "      <th>tariff</th>\n",
       "      <th>tariff_price</th>\n",
       "      <th>messages_included</th>\n",
       "      <th>gb_per_month_included</th>\n",
       "      <th>minutes_included</th>\n",
       "      <th>rub_per_gb</th>\n",
       "      <th>rub_per_message</th>\n",
       "      <th>rub_per_minute</th>\n",
       "    </tr>\n",
       "  </thead>\n",
       "  <tbody>\n",
       "    <tr>\n",
       "      <th>0</th>\n",
       "      <td>1000</td>\n",
       "      <td>5</td>\n",
       "      <td>22.0</td>\n",
       "      <td>159.0</td>\n",
       "      <td>22.0</td>\n",
       "      <td>3.0</td>\n",
       "      <td>52</td>\n",
       "      <td>Краснодар</td>\n",
       "      <td>ultra</td>\n",
       "      <td>1950</td>\n",
       "      <td>1000</td>\n",
       "      <td>30.0</td>\n",
       "      <td>3000</td>\n",
       "      <td>150</td>\n",
       "      <td>1</td>\n",
       "      <td>1</td>\n",
       "    </tr>\n",
       "    <tr>\n",
       "      <th>1</th>\n",
       "      <td>1000</td>\n",
       "      <td>6</td>\n",
       "      <td>43.0</td>\n",
       "      <td>172.0</td>\n",
       "      <td>60.0</td>\n",
       "      <td>23.0</td>\n",
       "      <td>52</td>\n",
       "      <td>Краснодар</td>\n",
       "      <td>ultra</td>\n",
       "      <td>1950</td>\n",
       "      <td>1000</td>\n",
       "      <td>30.0</td>\n",
       "      <td>3000</td>\n",
       "      <td>150</td>\n",
       "      <td>1</td>\n",
       "      <td>1</td>\n",
       "    </tr>\n",
       "    <tr>\n",
       "      <th>2</th>\n",
       "      <td>1000</td>\n",
       "      <td>7</td>\n",
       "      <td>47.0</td>\n",
       "      <td>340.0</td>\n",
       "      <td>75.0</td>\n",
       "      <td>14.0</td>\n",
       "      <td>52</td>\n",
       "      <td>Краснодар</td>\n",
       "      <td>ultra</td>\n",
       "      <td>1950</td>\n",
       "      <td>1000</td>\n",
       "      <td>30.0</td>\n",
       "      <td>3000</td>\n",
       "      <td>150</td>\n",
       "      <td>1</td>\n",
       "      <td>1</td>\n",
       "    </tr>\n",
       "    <tr>\n",
       "      <th>3</th>\n",
       "      <td>1000</td>\n",
       "      <td>8</td>\n",
       "      <td>52.0</td>\n",
       "      <td>408.0</td>\n",
       "      <td>81.0</td>\n",
       "      <td>14.0</td>\n",
       "      <td>52</td>\n",
       "      <td>Краснодар</td>\n",
       "      <td>ultra</td>\n",
       "      <td>1950</td>\n",
       "      <td>1000</td>\n",
       "      <td>30.0</td>\n",
       "      <td>3000</td>\n",
       "      <td>150</td>\n",
       "      <td>1</td>\n",
       "      <td>1</td>\n",
       "    </tr>\n",
       "    <tr>\n",
       "      <th>4</th>\n",
       "      <td>1000</td>\n",
       "      <td>9</td>\n",
       "      <td>58.0</td>\n",
       "      <td>466.0</td>\n",
       "      <td>57.0</td>\n",
       "      <td>15.0</td>\n",
       "      <td>52</td>\n",
       "      <td>Краснодар</td>\n",
       "      <td>ultra</td>\n",
       "      <td>1950</td>\n",
       "      <td>1000</td>\n",
       "      <td>30.0</td>\n",
       "      <td>3000</td>\n",
       "      <td>150</td>\n",
       "      <td>1</td>\n",
       "      <td>1</td>\n",
       "    </tr>\n",
       "    <tr>\n",
       "      <th>...</th>\n",
       "      <td>...</td>\n",
       "      <td>...</td>\n",
       "      <td>...</td>\n",
       "      <td>...</td>\n",
       "      <td>...</td>\n",
       "      <td>...</td>\n",
       "      <td>...</td>\n",
       "      <td>...</td>\n",
       "      <td>...</td>\n",
       "      <td>...</td>\n",
       "      <td>...</td>\n",
       "      <td>...</td>\n",
       "      <td>...</td>\n",
       "      <td>...</td>\n",
       "      <td>...</td>\n",
       "      <td>...</td>\n",
       "    </tr>\n",
       "    <tr>\n",
       "      <th>3209</th>\n",
       "      <td>1498</td>\n",
       "      <td>10</td>\n",
       "      <td>41.0</td>\n",
       "      <td>247.0</td>\n",
       "      <td>42.0</td>\n",
       "      <td>21.0</td>\n",
       "      <td>68</td>\n",
       "      <td>Владикавказ</td>\n",
       "      <td>smart</td>\n",
       "      <td>550</td>\n",
       "      <td>50</td>\n",
       "      <td>15.0</td>\n",
       "      <td>500</td>\n",
       "      <td>200</td>\n",
       "      <td>3</td>\n",
       "      <td>3</td>\n",
       "    </tr>\n",
       "    <tr>\n",
       "      <th>3210</th>\n",
       "      <td>1499</td>\n",
       "      <td>9</td>\n",
       "      <td>9.0</td>\n",
       "      <td>70.0</td>\n",
       "      <td>11.0</td>\n",
       "      <td>2.0</td>\n",
       "      <td>35</td>\n",
       "      <td>Пермь</td>\n",
       "      <td>smart</td>\n",
       "      <td>550</td>\n",
       "      <td>50</td>\n",
       "      <td>15.0</td>\n",
       "      <td>500</td>\n",
       "      <td>200</td>\n",
       "      <td>3</td>\n",
       "      <td>3</td>\n",
       "    </tr>\n",
       "    <tr>\n",
       "      <th>3211</th>\n",
       "      <td>1499</td>\n",
       "      <td>10</td>\n",
       "      <td>68.0</td>\n",
       "      <td>449.0</td>\n",
       "      <td>48.0</td>\n",
       "      <td>18.0</td>\n",
       "      <td>35</td>\n",
       "      <td>Пермь</td>\n",
       "      <td>smart</td>\n",
       "      <td>550</td>\n",
       "      <td>50</td>\n",
       "      <td>15.0</td>\n",
       "      <td>500</td>\n",
       "      <td>200</td>\n",
       "      <td>3</td>\n",
       "      <td>3</td>\n",
       "    </tr>\n",
       "    <tr>\n",
       "      <th>3212</th>\n",
       "      <td>1499</td>\n",
       "      <td>11</td>\n",
       "      <td>74.0</td>\n",
       "      <td>612.0</td>\n",
       "      <td>59.0</td>\n",
       "      <td>18.0</td>\n",
       "      <td>35</td>\n",
       "      <td>Пермь</td>\n",
       "      <td>smart</td>\n",
       "      <td>550</td>\n",
       "      <td>50</td>\n",
       "      <td>15.0</td>\n",
       "      <td>500</td>\n",
       "      <td>200</td>\n",
       "      <td>3</td>\n",
       "      <td>3</td>\n",
       "    </tr>\n",
       "    <tr>\n",
       "      <th>3213</th>\n",
       "      <td>1499</td>\n",
       "      <td>12</td>\n",
       "      <td>69.0</td>\n",
       "      <td>492.0</td>\n",
       "      <td>66.0</td>\n",
       "      <td>13.0</td>\n",
       "      <td>35</td>\n",
       "      <td>Пермь</td>\n",
       "      <td>smart</td>\n",
       "      <td>550</td>\n",
       "      <td>50</td>\n",
       "      <td>15.0</td>\n",
       "      <td>500</td>\n",
       "      <td>200</td>\n",
       "      <td>3</td>\n",
       "      <td>3</td>\n",
       "    </tr>\n",
       "  </tbody>\n",
       "</table>\n",
       "<p>3214 rows × 16 columns</p>\n",
       "</div>"
      ],
      "text/plain": [
       "      user_id  month  calls_count  calls_duration  message_count  gb_used  \\\n",
       "0        1000      5         22.0           159.0           22.0      3.0   \n",
       "1        1000      6         43.0           172.0           60.0     23.0   \n",
       "2        1000      7         47.0           340.0           75.0     14.0   \n",
       "3        1000      8         52.0           408.0           81.0     14.0   \n",
       "4        1000      9         58.0           466.0           57.0     15.0   \n",
       "...       ...    ...          ...             ...            ...      ...   \n",
       "3209     1498     10         41.0           247.0           42.0     21.0   \n",
       "3210     1499      9          9.0            70.0           11.0      2.0   \n",
       "3211     1499     10         68.0           449.0           48.0     18.0   \n",
       "3212     1499     11         74.0           612.0           59.0     18.0   \n",
       "3213     1499     12         69.0           492.0           66.0     13.0   \n",
       "\n",
       "      age         city tariff  tariff_price  messages_included  \\\n",
       "0      52    Краснодар  ultra          1950               1000   \n",
       "1      52    Краснодар  ultra          1950               1000   \n",
       "2      52    Краснодар  ultra          1950               1000   \n",
       "3      52    Краснодар  ultra          1950               1000   \n",
       "4      52    Краснодар  ultra          1950               1000   \n",
       "...   ...          ...    ...           ...                ...   \n",
       "3209   68  Владикавказ  smart           550                 50   \n",
       "3210   35        Пермь  smart           550                 50   \n",
       "3211   35        Пермь  smart           550                 50   \n",
       "3212   35        Пермь  smart           550                 50   \n",
       "3213   35        Пермь  smart           550                 50   \n",
       "\n",
       "      gb_per_month_included  minutes_included  rub_per_gb  rub_per_message  \\\n",
       "0                      30.0              3000         150                1   \n",
       "1                      30.0              3000         150                1   \n",
       "2                      30.0              3000         150                1   \n",
       "3                      30.0              3000         150                1   \n",
       "4                      30.0              3000         150                1   \n",
       "...                     ...               ...         ...              ...   \n",
       "3209                   15.0               500         200                3   \n",
       "3210                   15.0               500         200                3   \n",
       "3211                   15.0               500         200                3   \n",
       "3212                   15.0               500         200                3   \n",
       "3213                   15.0               500         200                3   \n",
       "\n",
       "      rub_per_minute  \n",
       "0                  1  \n",
       "1                  1  \n",
       "2                  1  \n",
       "3                  1  \n",
       "4                  1  \n",
       "...              ...  \n",
       "3209               3  \n",
       "3210               3  \n",
       "3211               3  \n",
       "3212               3  \n",
       "3213               3  \n",
       "\n",
       "[3214 rows x 16 columns]"
      ]
     },
     "execution_count": 43,
     "metadata": {},
     "output_type": "execute_result"
    }
   ],
   "source": [
    "# Добавим в таблицу данные о лимитах пакетов тарифов, которыми пользуются пользователи:\n",
    "tariffs.rename(columns={'tariff_name':'tariff'}, inplace=True)\n",
    "mega = mega.merge(tariffs).drop(columns = ['rub_monthly_fee'], axis=0)\n",
    "mega"
   ]
  },
  {
   "cell_type": "code",
   "execution_count": 44,
   "id": "876bcd60",
   "metadata": {},
   "outputs": [],
   "source": [
    "# вычетаем бесплатный лимит из суммарного количества звонков, сообщений и интернет трафика;\n",
    "# остаток умножаем на значение из тарифного плана;\n",
    "# прибавляем абонентскую плату, соответствующую тарифному плану.\n",
    "# все эти действия лучше объединить между собой в функцию\n",
    "\n",
    "def revenue(row):\n",
    "    revenue = (\n",
    "        np.clip(row['calls_duration'] - row['minutes_included'], a_min=0, a_max=None) * row['rub_per_minute'] +\n",
    "        np.clip(row['message_count'] - row['messages_included'], a_min=0, a_max=None) * row['rub_per_message'] +\n",
    "        np.clip(row['gb_used'] - row['gb_per_month_included'], a_min=0, a_max=None) * row['rub_per_gb'] +\n",
    "        row['tariff_price'])\n",
    "    return revenue\n"
   ]
  },
  {
   "cell_type": "code",
   "execution_count": 45,
   "id": "141bcf63",
   "metadata": {},
   "outputs": [
    {
     "data": {
      "text/html": [
       "<div>\n",
       "<style scoped>\n",
       "    .dataframe tbody tr th:only-of-type {\n",
       "        vertical-align: middle;\n",
       "    }\n",
       "\n",
       "    .dataframe tbody tr th {\n",
       "        vertical-align: top;\n",
       "    }\n",
       "\n",
       "    .dataframe thead th {\n",
       "        text-align: right;\n",
       "    }\n",
       "</style>\n",
       "<table border=\"1\" class=\"dataframe\">\n",
       "  <thead>\n",
       "    <tr style=\"text-align: right;\">\n",
       "      <th></th>\n",
       "      <th>user_id</th>\n",
       "      <th>month</th>\n",
       "      <th>calls_count</th>\n",
       "      <th>calls_duration</th>\n",
       "      <th>message_count</th>\n",
       "      <th>gb_used</th>\n",
       "      <th>age</th>\n",
       "      <th>city</th>\n",
       "      <th>tariff</th>\n",
       "      <th>tariff_price</th>\n",
       "      <th>messages_included</th>\n",
       "      <th>gb_per_month_included</th>\n",
       "      <th>minutes_included</th>\n",
       "      <th>rub_per_gb</th>\n",
       "      <th>rub_per_message</th>\n",
       "      <th>rub_per_minute</th>\n",
       "      <th>revenue</th>\n",
       "    </tr>\n",
       "  </thead>\n",
       "  <tbody>\n",
       "    <tr>\n",
       "      <th>0</th>\n",
       "      <td>1000</td>\n",
       "      <td>5</td>\n",
       "      <td>22.0</td>\n",
       "      <td>159.0</td>\n",
       "      <td>22.0</td>\n",
       "      <td>3.0</td>\n",
       "      <td>52</td>\n",
       "      <td>Краснодар</td>\n",
       "      <td>ultra</td>\n",
       "      <td>1950</td>\n",
       "      <td>1000</td>\n",
       "      <td>30.0</td>\n",
       "      <td>3000</td>\n",
       "      <td>150</td>\n",
       "      <td>1</td>\n",
       "      <td>1</td>\n",
       "      <td>1950.0</td>\n",
       "    </tr>\n",
       "    <tr>\n",
       "      <th>1</th>\n",
       "      <td>1000</td>\n",
       "      <td>6</td>\n",
       "      <td>43.0</td>\n",
       "      <td>172.0</td>\n",
       "      <td>60.0</td>\n",
       "      <td>23.0</td>\n",
       "      <td>52</td>\n",
       "      <td>Краснодар</td>\n",
       "      <td>ultra</td>\n",
       "      <td>1950</td>\n",
       "      <td>1000</td>\n",
       "      <td>30.0</td>\n",
       "      <td>3000</td>\n",
       "      <td>150</td>\n",
       "      <td>1</td>\n",
       "      <td>1</td>\n",
       "      <td>1950.0</td>\n",
       "    </tr>\n",
       "    <tr>\n",
       "      <th>2</th>\n",
       "      <td>1000</td>\n",
       "      <td>7</td>\n",
       "      <td>47.0</td>\n",
       "      <td>340.0</td>\n",
       "      <td>75.0</td>\n",
       "      <td>14.0</td>\n",
       "      <td>52</td>\n",
       "      <td>Краснодар</td>\n",
       "      <td>ultra</td>\n",
       "      <td>1950</td>\n",
       "      <td>1000</td>\n",
       "      <td>30.0</td>\n",
       "      <td>3000</td>\n",
       "      <td>150</td>\n",
       "      <td>1</td>\n",
       "      <td>1</td>\n",
       "      <td>1950.0</td>\n",
       "    </tr>\n",
       "    <tr>\n",
       "      <th>3</th>\n",
       "      <td>1000</td>\n",
       "      <td>8</td>\n",
       "      <td>52.0</td>\n",
       "      <td>408.0</td>\n",
       "      <td>81.0</td>\n",
       "      <td>14.0</td>\n",
       "      <td>52</td>\n",
       "      <td>Краснодар</td>\n",
       "      <td>ultra</td>\n",
       "      <td>1950</td>\n",
       "      <td>1000</td>\n",
       "      <td>30.0</td>\n",
       "      <td>3000</td>\n",
       "      <td>150</td>\n",
       "      <td>1</td>\n",
       "      <td>1</td>\n",
       "      <td>1950.0</td>\n",
       "    </tr>\n",
       "    <tr>\n",
       "      <th>4</th>\n",
       "      <td>1000</td>\n",
       "      <td>9</td>\n",
       "      <td>58.0</td>\n",
       "      <td>466.0</td>\n",
       "      <td>57.0</td>\n",
       "      <td>15.0</td>\n",
       "      <td>52</td>\n",
       "      <td>Краснодар</td>\n",
       "      <td>ultra</td>\n",
       "      <td>1950</td>\n",
       "      <td>1000</td>\n",
       "      <td>30.0</td>\n",
       "      <td>3000</td>\n",
       "      <td>150</td>\n",
       "      <td>1</td>\n",
       "      <td>1</td>\n",
       "      <td>1950.0</td>\n",
       "    </tr>\n",
       "  </tbody>\n",
       "</table>\n",
       "</div>"
      ],
      "text/plain": [
       "   user_id  month  calls_count  calls_duration  message_count  gb_used  age  \\\n",
       "0     1000      5         22.0           159.0           22.0      3.0   52   \n",
       "1     1000      6         43.0           172.0           60.0     23.0   52   \n",
       "2     1000      7         47.0           340.0           75.0     14.0   52   \n",
       "3     1000      8         52.0           408.0           81.0     14.0   52   \n",
       "4     1000      9         58.0           466.0           57.0     15.0   52   \n",
       "\n",
       "        city tariff  tariff_price  messages_included  gb_per_month_included  \\\n",
       "0  Краснодар  ultra          1950               1000                   30.0   \n",
       "1  Краснодар  ultra          1950               1000                   30.0   \n",
       "2  Краснодар  ultra          1950               1000                   30.0   \n",
       "3  Краснодар  ultra          1950               1000                   30.0   \n",
       "4  Краснодар  ultra          1950               1000                   30.0   \n",
       "\n",
       "   minutes_included  rub_per_gb  rub_per_message  rub_per_minute  revenue  \n",
       "0              3000         150                1               1   1950.0  \n",
       "1              3000         150                1               1   1950.0  \n",
       "2              3000         150                1               1   1950.0  \n",
       "3              3000         150                1               1   1950.0  \n",
       "4              3000         150                1               1   1950.0  "
      ]
     },
     "execution_count": 45,
     "metadata": {},
     "output_type": "execute_result"
    }
   ],
   "source": [
    "mega['revenue'] = mega.apply(revenue, axis=1)\n",
    "mega.head()"
   ]
  },
  {
   "cell_type": "markdown",
   "id": "368a5504",
   "metadata": {},
   "source": [
    "**Обработка итогового дата-сета mega:**"
   ]
  },
  {
   "cell_type": "code",
   "execution_count": 46,
   "id": "5aa4caa5",
   "metadata": {},
   "outputs": [
    {
     "data": {
      "text/plain": [
       "user_id                    0\n",
       "month                      0\n",
       "calls_count               40\n",
       "calls_duration            40\n",
       "message_count            497\n",
       "gb_used                   11\n",
       "age                        0\n",
       "city                       0\n",
       "tariff                     0\n",
       "tariff_price               0\n",
       "messages_included          0\n",
       "gb_per_month_included      0\n",
       "minutes_included           0\n",
       "rub_per_gb                 0\n",
       "rub_per_message            0\n",
       "rub_per_minute             0\n",
       "revenue                  547\n",
       "dtype: int64"
      ]
     },
     "execution_count": 46,
     "metadata": {},
     "output_type": "execute_result"
    }
   ],
   "source": [
    "mega.isna().sum()"
   ]
  },
  {
   "cell_type": "code",
   "execution_count": 47,
   "id": "a4c65bc5",
   "metadata": {},
   "outputs": [
    {
     "data": {
      "text/plain": [
       "(3214, 17)"
      ]
     },
     "execution_count": 47,
     "metadata": {},
     "output_type": "execute_result"
    }
   ],
   "source": [
    "mega.shape"
   ]
  },
  {
   "cell_type": "markdown",
   "id": "d583cc7f",
   "metadata": {},
   "source": [
    "В данных дата-сета имеется довольно значительное количество пропусков в колонках: message_count (17.02%) и менее значительное в колонках calls_count (1.24%), calls_duration (1.24%) и gb_used (0.34%).\n",
    "Мы можем заменить эти пропуски на 0, так как допустимо, что пользователи редко отправляют смс (а может и не отправляют вообще) или не совершали в какие-то месяцы звонки и не пользовался интернетом (возможно сменили номер и оператора)."
   ]
  },
  {
   "cell_type": "code",
   "execution_count": 48,
   "id": "5fa9cd63",
   "metadata": {},
   "outputs": [],
   "source": [
    "#mega = mega['message_count','calls_count','calls_duration'].fillna(0)\n",
    "mega[['message_count','calls_count','calls_duration','gb_used']] = mega[['message_count','calls_count','calls_duration','gb_used']].fillna(0)"
   ]
  },
  {
   "cell_type": "code",
   "execution_count": 49,
   "id": "07cec48b",
   "metadata": {},
   "outputs": [
    {
     "data": {
      "text/plain": [
       "user_id                    0\n",
       "month                      0\n",
       "calls_count                0\n",
       "calls_duration             0\n",
       "message_count              0\n",
       "gb_used                    0\n",
       "age                        0\n",
       "city                       0\n",
       "tariff                     0\n",
       "tariff_price               0\n",
       "messages_included          0\n",
       "gb_per_month_included      0\n",
       "minutes_included           0\n",
       "rub_per_gb                 0\n",
       "rub_per_message            0\n",
       "rub_per_minute             0\n",
       "revenue                  547\n",
       "dtype: int64"
      ]
     },
     "execution_count": 49,
     "metadata": {},
     "output_type": "execute_result"
    }
   ],
   "source": [
    "mega.isna().sum()"
   ]
  },
  {
   "cell_type": "code",
   "execution_count": 50,
   "id": "a1c1e1d2",
   "metadata": {},
   "outputs": [
    {
     "data": {
      "text/plain": [
       "user_id                  0\n",
       "month                    0\n",
       "calls_count              0\n",
       "calls_duration           0\n",
       "message_count            0\n",
       "gb_used                  0\n",
       "age                      0\n",
       "city                     0\n",
       "tariff                   0\n",
       "tariff_price             0\n",
       "messages_included        0\n",
       "gb_per_month_included    0\n",
       "minutes_included         0\n",
       "rub_per_gb               0\n",
       "rub_per_message          0\n",
       "rub_per_minute           0\n",
       "revenue                  0\n",
       "dtype: int64"
      ]
     },
     "execution_count": 50,
     "metadata": {},
     "output_type": "execute_result"
    }
   ],
   "source": [
    "# Для устранения пропусков в revenue, вызовем еще раз функцию revenue()\n",
    "mega['revenue'] = mega.apply(revenue, axis=1)\n",
    "mega.isna().sum()"
   ]
  },
  {
   "cell_type": "markdown",
   "id": "cbb0fc49",
   "metadata": {},
   "source": [
    "Пропусков больше нет. Наш дата-сет готов к анализу данных."
   ]
  },
  {
   "cell_type": "markdown",
   "id": "16620c17",
   "metadata": {},
   "source": [
    "### 4 - Анализ данных:\n",
    "\n",
    "Опишите поведение клиентов оператора, исходя из выборки: \n",
    " - Сколько минут разговора, сколько сообщений и какой объём интернет-трафика требуется пользователям каждого тарифа в месяц?\n",
    " - Посчитайте среднее количество, дисперсию и стандартное отклонение. \n",
    " - Постройте гистограммы. \n",
    " - Опишите распределения."
   ]
  },
  {
   "cell_type": "code",
   "execution_count": 51,
   "id": "3326faff",
   "metadata": {},
   "outputs": [],
   "source": [
    "# Создадим 2 дата-сета для анализа каждого пользователей каждого тарифа:\n",
    "ultra_mega = mega.query('tariff == \"ultra\"')\n",
    "smart_mega = mega.query('tariff == \"smart\"')"
   ]
  },
  {
   "cell_type": "code",
   "execution_count": 52,
   "id": "2dce4fe8",
   "metadata": {},
   "outputs": [
    {
     "data": {
      "text/plain": [
       "(148,)"
      ]
     },
     "execution_count": 52,
     "metadata": {},
     "output_type": "execute_result"
    }
   ],
   "source": [
    "ultra_users = ultra_mega['user_id'].unique()\n",
    "ultra_users.shape"
   ]
  },
  {
   "cell_type": "code",
   "execution_count": 53,
   "id": "3ebf51f5",
   "metadata": {},
   "outputs": [
    {
     "data": {
      "text/plain": [
       "(350,)"
      ]
     },
     "execution_count": 53,
     "metadata": {},
     "output_type": "execute_result"
    }
   ],
   "source": [
    "smart_users = smart_mega['user_id'].unique()\n",
    "smart_users.shape"
   ]
  },
  {
   "cell_type": "code",
   "execution_count": 54,
   "id": "ba3843e8",
   "metadata": {},
   "outputs": [
    {
     "data": {
      "text/html": [
       "<div>\n",
       "<style scoped>\n",
       "    .dataframe tbody tr th:only-of-type {\n",
       "        vertical-align: middle;\n",
       "    }\n",
       "\n",
       "    .dataframe tbody tr th {\n",
       "        vertical-align: top;\n",
       "    }\n",
       "\n",
       "    .dataframe thead th {\n",
       "        text-align: right;\n",
       "    }\n",
       "</style>\n",
       "<table border=\"1\" class=\"dataframe\">\n",
       "  <thead>\n",
       "    <tr style=\"text-align: right;\">\n",
       "      <th></th>\n",
       "      <th>user_id</th>\n",
       "      <th>month</th>\n",
       "      <th>calls_count</th>\n",
       "      <th>calls_duration</th>\n",
       "      <th>message_count</th>\n",
       "      <th>gb_used</th>\n",
       "      <th>age</th>\n",
       "      <th>city</th>\n",
       "      <th>tariff</th>\n",
       "      <th>tariff_price</th>\n",
       "      <th>messages_included</th>\n",
       "      <th>gb_per_month_included</th>\n",
       "      <th>minutes_included</th>\n",
       "      <th>rub_per_gb</th>\n",
       "      <th>rub_per_message</th>\n",
       "      <th>rub_per_minute</th>\n",
       "      <th>revenue</th>\n",
       "    </tr>\n",
       "  </thead>\n",
       "  <tbody>\n",
       "  </tbody>\n",
       "</table>\n",
       "</div>"
      ],
      "text/plain": [
       "Empty DataFrame\n",
       "Columns: [user_id, month, calls_count, calls_duration, message_count, gb_used, age, city, tariff, tariff_price, messages_included, gb_per_month_included, minutes_included, rub_per_gb, rub_per_message, rub_per_minute, revenue]\n",
       "Index: []"
      ]
     },
     "execution_count": 54,
     "metadata": {},
     "output_type": "execute_result"
    }
   ],
   "source": [
    "unknown_users = mega.query('tariff != \"ultra\" and tariff != \"smart\"')\n",
    "unknown_users\n",
    "# Куда потерялись 2 уникальных пользователя в этой суматохе..."
   ]
  },
  {
   "cell_type": "markdown",
   "id": "742e3e90",
   "metadata": {},
   "source": [
    "**Узнаем, сколько минут разговора, сколько сообщений и какой объём интернет-трафика требуется пользователям каждого тарифа в месяц:**"
   ]
  },
  {
   "cell_type": "code",
   "execution_count": 55,
   "id": "7e41e7b7",
   "metadata": {},
   "outputs": [
    {
     "data": {
      "text/plain": [
       "calls_duration    527.0\n",
       "message_count      50.0\n",
       "gb_used            20.0\n",
       "dtype: float64"
      ]
     },
     "execution_count": 55,
     "metadata": {},
     "output_type": "execute_result"
    }
   ],
   "source": [
    "ultra_mega_need = np.ceil(ultra_mega[['calls_duration', 'message_count', 'gb_used']].mean())\n",
    "ultra_mega_need"
   ]
  },
  {
   "cell_type": "code",
   "execution_count": 56,
   "id": "8cc4b319",
   "metadata": {},
   "outputs": [
    {
     "data": {
      "text/plain": [
       "calls_duration    418.0\n",
       "message_count      34.0\n",
       "gb_used            17.0\n",
       "dtype: float64"
      ]
     },
     "execution_count": 56,
     "metadata": {},
     "output_type": "execute_result"
    }
   ],
   "source": [
    "smart_mega_need = np.ceil(smart_mega[['calls_duration', 'message_count', 'gb_used']].mean())\n",
    "smart_mega_need"
   ]
  },
  {
   "cell_type": "markdown",
   "id": "11a5b4d1",
   "metadata": {},
   "source": [
    "*Предварительный вывод по Тарифу \"Ultra\":*\n",
    "\n",
    "- В среднем пользователям данного тарифа необходимы:\n",
    "    - 527 минут звонков\n",
    "    - 50 смс\n",
    "    - 20 Gb интернет-трафика\n",
    "- Вместо этого, компания Мегалайн предоставляет пользователям:\n",
    "    - 3000 минут разговора\n",
    "    - 1000 смс\n",
    "    - 30 Гб интернет-трафика\n",
    "\n",
    "*Предварительный вывод по Тарифу \"Smart\":*\n",
    "\n",
    "- В среднем пользователям данного тарифа необходимы:\n",
    "    - 418 минут разговора\n",
    "    - 34 смс\n",
    "    - 17 Gb интернет-трафика\n",
    "- Вместо этого, компания Мегалайн предоставляет пользователям:\n",
    "    - 500 минут разговора\n",
    "    - 50 смс\n",
    "    - 15 Гб интернет-трафика    \n",
    "    "
   ]
  },
  {
   "cell_type": "markdown",
   "id": "e1604ac4",
   "metadata": {},
   "source": [
    "**Посчитаем среднее количество, дисперсию и стандартное отклонение по данным пользователей тарифов Ultra и Smart:**"
   ]
  },
  {
   "cell_type": "code",
   "execution_count": 57,
   "id": "fd3cfdc3",
   "metadata": {},
   "outputs": [
    {
     "data": {
      "text/html": [
       "<div>\n",
       "<style scoped>\n",
       "    .dataframe tbody tr th:only-of-type {\n",
       "        vertical-align: middle;\n",
       "    }\n",
       "\n",
       "    .dataframe tbody tr th {\n",
       "        vertical-align: top;\n",
       "    }\n",
       "\n",
       "    .dataframe thead tr th {\n",
       "        text-align: left;\n",
       "    }\n",
       "</style>\n",
       "<table border=\"1\" class=\"dataframe\">\n",
       "  <thead>\n",
       "    <tr>\n",
       "      <th></th>\n",
       "      <th>mean</th>\n",
       "      <th>median</th>\n",
       "      <th>var</th>\n",
       "      <th>std</th>\n",
       "    </tr>\n",
       "    <tr>\n",
       "      <th>tariff</th>\n",
       "      <th>ultra</th>\n",
       "      <th>ultra</th>\n",
       "      <th>ultra</th>\n",
       "      <th>ultra</th>\n",
       "    </tr>\n",
       "  </thead>\n",
       "  <tbody>\n",
       "    <tr>\n",
       "      <th>calls_duration</th>\n",
       "      <td>526.623350</td>\n",
       "      <td>518.0</td>\n",
       "      <td>100873.633397</td>\n",
       "      <td>317.606098</td>\n",
       "    </tr>\n",
       "    <tr>\n",
       "      <th>gb_used</th>\n",
       "      <td>19.494416</td>\n",
       "      <td>19.0</td>\n",
       "      <td>97.091686</td>\n",
       "      <td>9.853511</td>\n",
       "    </tr>\n",
       "    <tr>\n",
       "      <th>message_count</th>\n",
       "      <td>49.363452</td>\n",
       "      <td>38.0</td>\n",
       "      <td>2285.266143</td>\n",
       "      <td>47.804457</td>\n",
       "    </tr>\n",
       "  </tbody>\n",
       "</table>\n",
       "</div>"
      ],
      "text/plain": [
       "                      mean median            var         std\n",
       "tariff               ultra  ultra          ultra       ultra\n",
       "calls_duration  526.623350  518.0  100873.633397  317.606098\n",
       "gb_used          19.494416   19.0      97.091686    9.853511\n",
       "message_count    49.363452   38.0    2285.266143   47.804457"
      ]
     },
     "execution_count": 57,
     "metadata": {},
     "output_type": "execute_result"
    }
   ],
   "source": [
    "ultra_mega_pivot = ultra_mega.pivot_table(values=['calls_duration', 'message_count', 'gb_used'], columns='tariff', aggfunc=['mean', 'median', 'var', 'std'])\n",
    "ultra_mega_pivot"
   ]
  },
  {
   "cell_type": "code",
   "execution_count": 58,
   "id": "0dbd5349",
   "metadata": {},
   "outputs": [
    {
     "data": {
      "text/html": [
       "<div>\n",
       "<style scoped>\n",
       "    .dataframe tbody tr th:only-of-type {\n",
       "        vertical-align: middle;\n",
       "    }\n",
       "\n",
       "    .dataframe tbody tr th {\n",
       "        vertical-align: top;\n",
       "    }\n",
       "\n",
       "    .dataframe thead tr th {\n",
       "        text-align: left;\n",
       "    }\n",
       "</style>\n",
       "<table border=\"1\" class=\"dataframe\">\n",
       "  <thead>\n",
       "    <tr>\n",
       "      <th></th>\n",
       "      <th>mean</th>\n",
       "      <th>median</th>\n",
       "      <th>var</th>\n",
       "      <th>std</th>\n",
       "    </tr>\n",
       "    <tr>\n",
       "      <th>tariff</th>\n",
       "      <th>smart</th>\n",
       "      <th>smart</th>\n",
       "      <th>smart</th>\n",
       "      <th>smart</th>\n",
       "    </tr>\n",
       "  </thead>\n",
       "  <tbody>\n",
       "    <tr>\n",
       "      <th>calls_duration</th>\n",
       "      <td>417.934948</td>\n",
       "      <td>422.0</td>\n",
       "      <td>36219.315784</td>\n",
       "      <td>190.313730</td>\n",
       "    </tr>\n",
       "    <tr>\n",
       "      <th>gb_used</th>\n",
       "      <td>16.328847</td>\n",
       "      <td>17.0</td>\n",
       "      <td>33.028705</td>\n",
       "      <td>5.747061</td>\n",
       "    </tr>\n",
       "    <tr>\n",
       "      <th>message_count</th>\n",
       "      <td>33.384029</td>\n",
       "      <td>28.0</td>\n",
       "      <td>796.812958</td>\n",
       "      <td>28.227876</td>\n",
       "    </tr>\n",
       "  </tbody>\n",
       "</table>\n",
       "</div>"
      ],
      "text/plain": [
       "                      mean median           var         std\n",
       "tariff               smart  smart         smart       smart\n",
       "calls_duration  417.934948  422.0  36219.315784  190.313730\n",
       "gb_used          16.328847   17.0     33.028705    5.747061\n",
       "message_count    33.384029   28.0    796.812958   28.227876"
      ]
     },
     "execution_count": 58,
     "metadata": {},
     "output_type": "execute_result"
    }
   ],
   "source": [
    "smart_mega_pivot = smart_mega.pivot_table(values=['calls_duration', 'message_count', 'gb_used'], columns='tariff', aggfunc=['mean', 'median', 'var', 'std'])\n",
    "smart_mega_pivot"
   ]
  },
  {
   "cell_type": "markdown",
   "id": "8666bcc0",
   "metadata": {},
   "source": [
    "**Построим гистограммы для двух тарифов и сравним распределения:**\n",
    "- количество затрачиваемых минут разговоров\n",
    "- количество отправленных смс\n",
    "- количество потребляемого интернет-трафика\n",
    "*хорошо бы еще посчитать количество дохода с пользователя сверх тарифного плана - какой тариф дает нам большую сверх.прибыль от потребляемых дополнительных минут, смс и интернет-трафика*"
   ]
  },
  {
   "cell_type": "markdown",
   "id": "2d998add",
   "metadata": {},
   "source": [
    "**Гистограмма количества затраченных минут разговора:**"
   ]
  },
  {
   "cell_type": "code",
   "execution_count": 59,
   "id": "d4c85ff3",
   "metadata": {},
   "outputs": [
    {
     "data": {
      "image/png": "[encoded data removed]",
      "text/plain": [
       "<Figure size 600x400 with 1 Axes>"
      ]
     },
     "metadata": {
      "needs_background": "light"
     },
     "output_type": "display_data"
    }
   ],
   "source": [
    "plt.figure(dpi=100)\n",
    "sns.histplot(\n",
    "    data= mega,\n",
    "    x='calls_duration',\n",
    "    hue='tariff',\n",
    ")\n",
    "plt.xlabel('Длительность звонков', fontsize=10)\n",
    "plt.ylabel('Количество пользоватлей', fontsize=10)\n",
    "plt.title('Длительность звонков пользователей Ultra и Smart', fontsize=11)\n",
    "plt.legend(['smart', 'ultra']);"
   ]
  },
  {
   "cell_type": "code",
   "execution_count": 60,
   "id": "6d119de1",
   "metadata": {},
   "outputs": [
    {
     "data": {
      "text/plain": [
       "count     985.000000\n",
       "mean      526.623350\n",
       "std       317.606098\n",
       "min         0.000000\n",
       "25%       284.000000\n",
       "50%       518.000000\n",
       "75%       752.000000\n",
       "max      1673.000000\n",
       "Name: calls_duration, dtype: float64"
      ]
     },
     "execution_count": 60,
     "metadata": {},
     "output_type": "execute_result"
    }
   ],
   "source": [
    "ultra_mega['calls_duration'].describe()"
   ]
  },
  {
   "cell_type": "code",
   "execution_count": 61,
   "id": "e98365b5",
   "metadata": {},
   "outputs": [
    {
     "data": {
      "text/plain": [
       "count    2229.000000\n",
       "mean      417.934948\n",
       "std       190.313730\n",
       "min         0.000000\n",
       "25%       282.000000\n",
       "50%       422.000000\n",
       "75%       545.000000\n",
       "max      1435.000000\n",
       "Name: calls_duration, dtype: float64"
      ]
     },
     "execution_count": 61,
     "metadata": {},
     "output_type": "execute_result"
    }
   ],
   "source": [
    "smart_mega['calls_duration'].describe()"
   ]
  },
  {
   "cell_type": "markdown",
   "id": "c62ccc5d",
   "metadata": {},
   "source": [
    "Вывод по затраченным минутам разговора для Тарифов Ultra и Smart:\n",
    "- Пользователи тарифа Ultra пропускают звонки горяздо чаще, чем пользователи тарифа Smart.\n",
    "- Пользователи тарифа Ultra говорят по телефону реже, но дольше, чем пользователи тарифа Smart (752 против 545).\n",
    "\n"
   ]
  },
  {
   "cell_type": "markdown",
   "id": "6431e190",
   "metadata": {},
   "source": [
    "**Гистограмма количества отправленных смс:**"
   ]
  },
  {
   "cell_type": "code",
   "execution_count": 62,
   "id": "685e98d2",
   "metadata": {},
   "outputs": [
    {
     "data": {
      "image/png": "[encoded data removed]",
      "text/plain": [
       "<Figure size 600x400 with 1 Axes>"
      ]
     },
     "metadata": {
      "needs_background": "light"
     },
     "output_type": "display_data"
    }
   ],
   "source": [
    "plt.figure(dpi=100)\n",
    "sns.histplot(\n",
    "    data= mega,\n",
    "    x='message_count',\n",
    "    hue='tariff',\n",
    ")\n",
    "plt.xlabel('Количество смс', fontsize=10)\n",
    "plt.ylabel('Количество пользоватлей', fontsize=10)\n",
    "plt.title('Количество отправленных смс пользователями Ultra и Smart', fontsize=11)\n",
    "plt.legend(['smart', 'ultra']);"
   ]
  },
  {
   "cell_type": "code",
   "execution_count": 63,
   "id": "273a72f4",
   "metadata": {},
   "outputs": [
    {
     "data": {
      "text/plain": [
       "count    985.000000\n",
       "mean      49.363452\n",
       "std       47.804457\n",
       "min        0.000000\n",
       "25%        6.000000\n",
       "50%       38.000000\n",
       "75%       79.000000\n",
       "max      224.000000\n",
       "Name: message_count, dtype: float64"
      ]
     },
     "execution_count": 63,
     "metadata": {},
     "output_type": "execute_result"
    }
   ],
   "source": [
    "ultra_mega['message_count'].describe()"
   ]
  },
  {
   "cell_type": "code",
   "execution_count": 64,
   "id": "9c926ac5",
   "metadata": {},
   "outputs": [
    {
     "data": {
      "text/plain": [
       "count    2229.000000\n",
       "mean       33.384029\n",
       "std        28.227876\n",
       "min         0.000000\n",
       "25%        10.000000\n",
       "50%        28.000000\n",
       "75%        51.000000\n",
       "max       143.000000\n",
       "Name: message_count, dtype: float64"
      ]
     },
     "execution_count": 64,
     "metadata": {},
     "output_type": "execute_result"
    }
   ],
   "source": [
    "smart_mega['message_count'].describe()"
   ]
  },
  {
   "cell_type": "markdown",
   "id": "9fe040bc",
   "metadata": {},
   "source": [
    "Вывод по количеству отправленных смс для Тарифов Ultra и Smart:\n",
    "- Пользователей тарифа Ultra отправляющих смс сообщения гораздо меньше, чем пользователей тарифа Smart.\n",
    "- Пользователи тарифа Ultra отправляют смс в большем количестве (от 0 до 224 смс), чем пользователи тарифа Smart (от 0 до 143с мс)\n"
   ]
  },
  {
   "cell_type": "markdown",
   "id": "25e097a7",
   "metadata": {},
   "source": [
    "**Гистограмма использованного интернет-трафика:**"
   ]
  },
  {
   "cell_type": "code",
   "execution_count": 65,
   "id": "c6158090",
   "metadata": {},
   "outputs": [
    {
     "data": {
      "image/png": "[encoded data removed]",
      "text/plain": [
       "<Figure size 600x400 with 1 Axes>"
      ]
     },
     "metadata": {
      "needs_background": "light"
     },
     "output_type": "display_data"
    }
   ],
   "source": [
    "plt.figure(dpi=100)\n",
    "sns.histplot(\n",
    "    data= mega,\n",
    "    x='gb_used',\n",
    "    hue='tariff',\n",
    ")\n",
    "plt.xlabel('Количество Gb', fontsize=10)\n",
    "plt.ylabel('Количество пользоватлей', fontsize=10)\n",
    "plt.title('Количество израсходованных Gb пользователями Ultra и Smart', fontsize=11)\n",
    "plt.legend(['smart', 'ultra']);"
   ]
  },
  {
   "cell_type": "code",
   "execution_count": 66,
   "id": "3a159b47",
   "metadata": {},
   "outputs": [
    {
     "data": {
      "text/plain": [
       "count    985.000000\n",
       "mean      19.494416\n",
       "std        9.853511\n",
       "min        0.000000\n",
       "25%       12.000000\n",
       "50%       19.000000\n",
       "75%       27.000000\n",
       "max       49.000000\n",
       "Name: gb_used, dtype: float64"
      ]
     },
     "execution_count": 66,
     "metadata": {},
     "output_type": "execute_result"
    }
   ],
   "source": [
    "ultra_mega['gb_used'].describe()"
   ]
  },
  {
   "cell_type": "code",
   "execution_count": 67,
   "id": "3076eead",
   "metadata": {},
   "outputs": [
    {
     "data": {
      "text/plain": [
       "count    2229.000000\n",
       "mean       16.328847\n",
       "std         5.747061\n",
       "min         0.000000\n",
       "25%        13.000000\n",
       "50%        17.000000\n",
       "75%        20.000000\n",
       "max        38.000000\n",
       "Name: gb_used, dtype: float64"
      ]
     },
     "execution_count": 67,
     "metadata": {},
     "output_type": "execute_result"
    }
   ],
   "source": [
    "smart_mega['gb_used'].describe()"
   ]
  },
  {
   "cell_type": "markdown",
   "id": "83e9ea87",
   "metadata": {},
   "source": [
    "Вывод по затраченным Gb интернет-трафика для Тарифов Ultra и Smart:\n",
    "- Пользователей тарифа Ultra израсходовавших менее 28Gb интернет-трафика гораздо меньше, чем пользователей тарифа Smart.\n",
    "- Пользователb тарифа Ultra расходуют больше интернет-трафика в месяц, чем пользователи тарифа Smart (50 против 39)"
   ]
  },
  {
   "cell_type": "markdown",
   "id": "21162e97",
   "metadata": {},
   "source": [
    "**Гистограмма полученной выручки по каждому из тарифов:**"
   ]
  },
  {
   "cell_type": "code",
   "execution_count": 68,
   "id": "f6f969b0",
   "metadata": {},
   "outputs": [
    {
     "data": {
      "image/png": "[encoded data removed]",
      "text/plain": [
       "<Figure size 600x400 with 1 Axes>"
      ]
     },
     "metadata": {
      "needs_background": "light"
     },
     "output_type": "display_data"
    }
   ],
   "source": [
    "# Проведем исследование по выручке от пользователей тарифов по месяцам:\n",
    "plt.figure(dpi=100)\n",
    "sns.histplot(\n",
    "    data= mega,\n",
    "    x='revenue',\n",
    "    hue='tariff',\n",
    ")\n",
    "plt.xlabel('Размер выручки руб.', fontsize=10)\n",
    "plt.ylabel('Количество пользоватлей', fontsize=10)\n",
    "plt.title('Размер выручки от пользователей Ultra и Smart', fontsize=11)\n",
    "plt.legend(['smart', 'ultra']);"
   ]
  },
  {
   "cell_type": "code",
   "execution_count": 69,
   "id": "70b454ab",
   "metadata": {},
   "outputs": [
    {
     "data": {
      "text/plain": [
       "count     985.000000\n",
       "mean     2070.152284\n",
       "std       376.187114\n",
       "min      1950.000000\n",
       "25%      1950.000000\n",
       "50%      1950.000000\n",
       "75%      1950.000000\n",
       "max      4800.000000\n",
       "Name: revenue, dtype: float64"
      ]
     },
     "execution_count": 69,
     "metadata": {},
     "output_type": "execute_result"
    }
   ],
   "source": [
    "ultra_revenue = ultra_mega['revenue']\n",
    "ultra_revenue.describe()"
   ]
  },
  {
   "cell_type": "code",
   "execution_count": 70,
   "id": "8cf32d1b",
   "metadata": {},
   "outputs": [
    {
     "data": {
      "text/plain": [
       "2039100.0"
      ]
     },
     "execution_count": 70,
     "metadata": {},
     "output_type": "execute_result"
    }
   ],
   "source": [
    "ultra_revenue.sum()"
   ]
  },
  {
   "cell_type": "code",
   "execution_count": 71,
   "id": "0abd21fc",
   "metadata": {},
   "outputs": [
    {
     "data": {
      "text/plain": [
       "count    2229.000000\n",
       "mean     1289.973531\n",
       "std       818.404367\n",
       "min       550.000000\n",
       "25%       550.000000\n",
       "50%      1023.000000\n",
       "75%      1750.000000\n",
       "max      6770.000000\n",
       "Name: revenue, dtype: float64"
      ]
     },
     "execution_count": 71,
     "metadata": {},
     "output_type": "execute_result"
    }
   ],
   "source": [
    "smart_revenue = smart_mega['revenue']\n",
    "smart_revenue.describe()"
   ]
  },
  {
   "cell_type": "code",
   "execution_count": 72,
   "id": "a7ef8068",
   "metadata": {},
   "outputs": [
    {
     "data": {
      "text/plain": [
       "2875351.0"
      ]
     },
     "execution_count": 72,
     "metadata": {},
     "output_type": "execute_result"
    }
   ],
   "source": [
    "smart_revenue.sum()"
   ]
  },
  {
   "cell_type": "markdown",
   "id": "1ef28635",
   "metadata": {},
   "source": [
    "Вывод по выручке для Тарифов Ultra и Smart:\n",
    "- Пользователей тарифа Ultra меньший максимальный чек, чем пользователей тарифа Smart (4800 против 6770)\n",
    "- Пользователb тарифа Smart переплачивают за использование услуг сверх пакетов тарифа гораздо чаще и больше, чем пользователи тарифа Ultra:\n",
    "     - 2й и 3й квартили Ultra = абонентсой плате тарифа, в то время как 2й и 3й квартили Smart превышают размер абонентской платы почти в 2 и 3 раза соответственно. \n",
    "     - максимальный чек пользователя тарифа Smart превышает размер абонентской платы более чем в 12 раз ! (6770 против 550)\n",
    "- Пользователb тарифа Smart приносят компании больше выручки, чем пользователи тарифа Ultra (2 875 351 против 2 039 100)"
   ]
  },
  {
   "cell_type": "markdown",
   "id": "bb59b3c8",
   "metadata": {},
   "source": [
    "**Общий вывод по анализу тарифов:**\n",
    "\n",
    "Пользователей тарифа \"Smart\" больше, чем пользователей тарифа \"Ultra\" более, чем в 2 раза (350 против 148) - изначально у нас было 500 уникальных пользователей, однако 2из них не являются пользователями данных тарифов.\n",
    "\n",
    "*Вывод по Тарифу \"Ultra\":*\n",
    "\n",
    "- В среднем пользователям данного тарифа необходимы:\n",
    "    - 527 минут звонков\n",
    "    - 50 смс\n",
    "    - 20 Gb интернет-трафика\n",
    "- Вместо этого, компания Мегалайн предоставляет пользователям:\n",
    "    - 3000 минут разговора\n",
    "    - 1000 смс\n",
    "    - 30 Гб интернет-трафика\n",
    " *Тариф содержит в себе избыточное количество минут, смс и Gb, от используемого пользователями* \n",
    "\n",
    "*Вывод по Тарифу \"Smart\":*\n",
    "\n",
    "- В среднем пользователям данного тарифа необходимы:\n",
    "    - 418 минут разговора\n",
    "    - 34 смс\n",
    "    - 17 Gb интернет-трафика\n",
    "- Вместо этого, компания Мегалайн предоставляет пользователям:\n",
    "    - 500 минут разговора\n",
    "    - 50 смс\n",
    "    - 15 Гб интернет-трафика    \n",
    "*Тариф содержит в себе недостаточное количество Gb, для того, чтобы покрывать потребности пользователей* \n",
    "    \n",
    "Вывод по затраченным минутам разговора для Тарифов Ultra и Smart:\n",
    "- Пользователи тарифа Ultra пропускают звонки горяздо чаще, чем пользователи тарифа Smart.\n",
    "- Пользователи тарифа Ultra говорят по телефону реже, но дольше, чем пользователи тарифа Smart (752 против 545).\n",
    "\n",
    "Вывод по количеству отправленных смс для Тарифов Ultra и Smart:\n",
    "- Пользователей тарифа Ultra отправляющих смс сообщения гораздо меньше, чем пользователей тарифа Smart.\n",
    "- Пользователи тарифа Ultra отправляют смс в большем количестве (от 0 до 224 смс), чем пользователи тарифа Smart (от 0 до 143с мс)\n",
    "\n",
    "Вывод по затраченным Gb интернет-трафика для Тарифов Ultra и Smart:\n",
    "- Пользователей тарифа Ultra израсходовавших менее 28Gb интернет-трафика гораздо меньше, чем пользователей тарифа Smart.\n",
    "- Пользователb тарифа Ultra расходуют больше интернет-трафика в месяц, чем пользователи тарифа Smart (50 против 39)\n",
    "\n",
    "Вывод по выручке для Тарифов Ultra и Smart:\n",
    "- Пользователей тарифа Ultra меньший максимальный чек, чем пользователей тарифа Smart (4800 против 6770)\n",
    "- Пользователb тарифа Smart переплачивают за использование услуг сверх пакетов тарифа гораздо чаще и больше, чем пользователи тарифа Ultra:\n",
    "     - 2й и 3й квартили Ultra = абонентсой плате тарифа, в то время как 2й и 3й квартили Smart превышают размер абонентской платы почти в 2 и 3 раза соответственно. \n",
    "     - максимальный чек пользователя тарифа Smart превышает размер абонентской платы более чем в 12 раз ! (6770 против 550)\n",
    "- Пользователb тарифа Smart приносят компании больше выручки, чем пользователи тарифа Ultra (2 875 351 против 2 039 100)"
   ]
  },
  {
   "cell_type": "markdown",
   "id": "8f3b057b",
   "metadata": {},
   "source": [
    "### 5 - Проверка гипотез:\n",
    "Проверить гипотезы:\n",
    "- средняя выручка пользователей тарифов «Ультра» и «Смарт» различаются;\n",
    "- средняя выручка пользователей из Москвы отличается от выручки пользователей из других регионов. Пороговое значение alpha задайте самостоятельно. \n",
    "\n",
    "Пояснить:\n",
    "- как вы формулировали нулевую и альтернативную гипотезы;\n",
    "- какой критерий использовали для проверки гипотез и почему."
   ]
  },
  {
   "cell_type": "markdown",
   "id": "5fa20d85",
   "metadata": {},
   "source": [
    "**Формулирование и проверка 1ой гипотезы:**\n",
    "\n",
    "\"Средняя выручка пользователей тарифов «Ультра» и «Смарт» различаются.\"\n",
    "- Нулевая гипотеза -  Средняя выручка от пользователей тарифов «Ультра» и «Смарт» не различается.\n",
    "- Альтернативная гипотеза - Средняя выручка от пользователей тарифов «Ультра» и «Смарт» различается."
   ]
  },
  {
   "cell_type": "code",
   "execution_count": 73,
   "id": "424bf6e5",
   "metadata": {},
   "outputs": [
    {
     "name": "stdout",
     "output_type": "stream",
     "text": [
      "p-значение:  1.4229814360764067e-160\n",
      "Отвергаем нулевую гипотезу, средняя выручка от пользователей тарифов «Ультра» и «Смарт» различается \n"
     ]
    }
   ],
   "source": [
    "# В качеств выборок, возьмем значения revenue из дата-сетов ultra_mega и smart_mega\n",
    "\n",
    "ultra_sample = ultra_mega['revenue'] \n",
    "smart_sample = smart_mega['revenue'] \n",
    "\n",
    "alpha = .05\n",
    "\n",
    "results = st.ttest_ind(ultra_sample, smart_sample)\n",
    "\n",
    "print('p-значение: ', results.pvalue)\n",
    "\n",
    "if results.pvalue < alpha:\n",
    "    print(\"Отвергаем нулевую гипотезу, средняя выручка от пользователей тарифов «Ультра» и «Смарт» различается \")\n",
    "else:\n",
    "    print(\"Не получилось отвергнуть нулевую гипотезу, средняя выручка от пользователей тарифов «Ультра» и «Смарт» не различается. \") "
   ]
  },
  {
   "cell_type": "code",
   "execution_count": 74,
   "id": "2da580e3",
   "metadata": {},
   "outputs": [
    {
     "data": {
      "text/plain": [
       "2071.0"
      ]
     },
     "execution_count": 74,
     "metadata": {},
     "output_type": "execute_result"
    }
   ],
   "source": [
    "mean_ultra_revenue = np.ceil(ultra_sample.mean())\n",
    "mean_ultra_revenue"
   ]
  },
  {
   "cell_type": "code",
   "execution_count": 75,
   "id": "c170b155",
   "metadata": {},
   "outputs": [
    {
     "data": {
      "text/plain": [
       "1290.0"
      ]
     },
     "execution_count": 75,
     "metadata": {},
     "output_type": "execute_result"
    }
   ],
   "source": [
    "mean_smart_revenue = np.ceil(smart_sample.mean())\n",
    "mean_smart_revenue"
   ]
  },
  {
   "cell_type": "markdown",
   "id": "5833146a",
   "metadata": {},
   "source": [
    "Вывод по проверке гипотезы №1:\n",
    "- выборочное среднее значимо меньше предполагаемого значения 0.05. , следовательно, средняя выручка от пользователей тарифов «Ультра» и «Смарт» различается существенно\n",
    "- опытным путем получили значеней выручки с каждой группы пользоватлей 2090 и 1346 - значения действительно различаются."
   ]
  },
  {
   "cell_type": "markdown",
   "id": "bb791fff",
   "metadata": {},
   "source": [
    "**Формулирование и проверка 2ой гипотезы:**\n",
    "\n",
    "\"Средняя выручка пользователей из Москвы отличается от выручки пользователей из других регионов.\"\n",
    "- Нулевая гипотеза -  Средняя выручка пользователей из Москвы неотличается от выручки пользователей из других регионов.\n",
    "- Альтернативная гипотеза - Средняя выручка пользователей из Москвы отличается от выручки пользователей из других регионов."
   ]
  },
  {
   "cell_type": "code",
   "execution_count": 76,
   "id": "6bef21e5",
   "metadata": {},
   "outputs": [
    {
     "name": "stdout",
     "output_type": "stream",
     "text": [
      "p-значение:  1.4229814360764067e-160\n",
      "Отвергаем нулевую гипотезу, cредняя выручка пользователей из Москвы отличается от выручки пользователей из других регионов. \n"
     ]
    }
   ],
   "source": [
    "# В качеств выборок, возьмем значения revenue из дата-сетов mega задав параметр Москва и не Москва\n",
    "\n",
    "moscow_sample = mega[mega['city'] == \"Москва\"]['revenue'] \n",
    "city_sample = mega[mega['city'] != \"Москва\"]['revenue'] \n",
    "\n",
    "alpha = .05\n",
    "\n",
    "results = st.ttest_ind(ultra_sample, smart_sample)\n",
    "\n",
    "print('p-значение: ', results.pvalue)\n",
    "\n",
    "if results.pvalue < alpha:\n",
    "    print(\"Отвергаем нулевую гипотезу, cредняя выручка пользователей из Москвы отличается от выручки пользователей из других регионов. \")\n",
    "else:\n",
    "    print(\"Не получилось отвергнуть нулевую гипотезу, cредняя выручка пользователей из Москвы неотличается от выручки пользователей из других регионов. \") \n"
   ]
  },
  {
   "cell_type": "code",
   "execution_count": 77,
   "id": "990f6610",
   "metadata": {},
   "outputs": [
    {
     "data": {
      "text/plain": [
       "1547.0"
      ]
     },
     "execution_count": 77,
     "metadata": {},
     "output_type": "execute_result"
    }
   ],
   "source": [
    "moscow_sample_revenue = np.ceil(moscow_sample.mean())\n",
    "moscow_sample_revenue"
   ]
  },
  {
   "cell_type": "code",
   "execution_count": 78,
   "id": "140ea598",
   "metadata": {},
   "outputs": [
    {
     "data": {
      "text/plain": [
       "1525.0"
      ]
     },
     "execution_count": 78,
     "metadata": {},
     "output_type": "execute_result"
    }
   ],
   "source": [
    "city_sample_revenue = np.ceil(city_sample.mean())\n",
    "city_sample_revenue"
   ]
  },
  {
   "cell_type": "markdown",
   "id": "363a69be",
   "metadata": {},
   "source": [
    "Вывод по проверке гипотезы №2:\n",
    "- выборочное среднее значимо меньше предполагаемого значения 0.05. , следовательно, cредняя выручка пользователей из Москвы отличается от выручки пользователей из других регионов. \n",
    "- опытным путем получили значеней выручки от пользователей из г.Москва и др.городов 1590 и 1571 - значения действительно различаются, хоть и не существенно"
   ]
  },
  {
   "cell_type": "markdown",
   "id": "62a7ca29",
   "metadata": {},
   "source": [
    "Пояснение:\n",
    "\n",
    "как вы формулировали нулевую и альтернативную гипотезы:\n",
    "- утверждение, которое требуется подтвердить или опровергнуть является альтернативной гипотезой, значит нулевая гипотеза будет звучать противоположно альтернативной\n",
    "\n",
    "какой критерий использовали для проверки гипотез и почему:\n",
    "- критерий для проверки гипотезы был установлен на 5% , так как данное значение является общепринятым уронем статистической значимости"
   ]
  },
  {
   "cell_type": "markdown",
   "id": "00a79b53",
   "metadata": {},
   "source": [
    "### 6 - Общий вывод\n",
    "\n",
    "**Вывод по первичной визуальной оценке данных**\n",
    "\n",
    "Краткий вывод по дата-сету users:\n",
    "- В дата-сете 500 уникальных пользователей\n",
    "- В данных churn_date присутсвует 462 пропуска - тариф еще действует на момент выгрузки.\n",
    "- Дубликатов в данных user_id не встречается\n",
    "- Возраст пользователей от 18 до 75 лет - значения нормальные\n",
    "- Неявных дубликатов в данных city не обнаружено\n",
    "- Данные для замены типов: churn_date, reg_date\n",
    "\n",
    "Краткий вывод по дата-сету messages:\n",
    "- В дата-сете 426 уникальных пользователей (это значит, что 74 пользователя не отпраляют сообщения)\n",
    "- В данных нет пропусков\n",
    "- Дубликатов в данных id нет\n",
    "- Данные для замены типов: message_date\n",
    "- Заменить названия в колонках: id \n",
    "\n",
    "Краткий вывод по дата-сету internet:\n",
    "- В дата-сете 497 уникальных пользователей (это значит, что 3 пользователя не имели выход в интернет)\n",
    "- Из 149396 строк 19598 имеют нулевые значения mb_used это 13.12% \n",
    "- В данных нет пропусков\n",
    "- Дубликатов в данных id нет\n",
    "- Данные для замены типов: session_date\n",
    "- Заменить названия в колонках: id \n",
    "- Удалить столбец Unnamed 0 \n",
    "\n",
    "Краткий вывод по дата-сету calls:\n",
    "- В дата-сете 492 уникальных пользователей (это значит, что 8 пользователя не совершали звонки)\n",
    "- Из 202607 строк 39613 имеют нулевые значения duration это 19.55%, однако по условиям задачи нулевые значения - это пропущенный вызов\n",
    "- Максимальная длительность телефонного звонка 38 минут - значения нормальные\n",
    "- В данных нет пропусков\n",
    "- Дубликатов в данных id нет\n",
    "- Данные для замены типов: call_date\n",
    "- Заменить названия в колонках: id\n",
    "\n",
    "Краткий вывод по дата-сету tariffs:\n",
    "- данные о лиматах указаны в mb. Необходимо перевести их в gb\n",
    "\n",
    "\n",
    "Общий вывод: \n",
    " - все значения в данных users['age'], calls['duration'], internet['mb_used'] значения находятся в пределах нормальны, говорить о наличии выбросов не приходится.\n",
    " - пропусков в данных нет, за исключением данных users['churn_date'] - присутсвует 462 пропуска - тариф еще действует на момент выгрузки.\n",
    " - все данные, за исключением колонок, содержащих информацию у дате, являются корректными. Замена типа данных требуется только для данных с датой\n",
    " - данные о лиматах указаны в mb. Необходимо перевести их в gb\n",
    " - дата-сет internet содержит лишний столбец Unnamed: 0, необходимо удаление\n",
    " - дата-сеты internet, messages, calls содеражат колонки с одинаковым именем 'id' - это может создать путаницу, если потребуется слияние нескольких таблиц. Необходимо заменить данные названия на те, которые будут отражать принадлежность к определенным данным.\n",
    " \n",
    " \n",
    "**Предобработка данных:**\n",
    "\n",
    "- Был удален лишний столбец: из дата-сета internet удалить столбец Unnamed: 0\n",
    "- Переименованы столбцы в дата-сетах: messages, internet, calls (это поможет корректно распознавать данные после слияния таблиц)\n",
    "- Приведены данные к корректным типам: (изменим данные c object на datetime)\n",
    "- В дата-сете tariffs изменены значения лимитов с mb на gb\n",
    "- В дата-сете calls округлены duration до целых значений в большую сторону в соответсвии с условиями тарифа.\n",
    "\n",
    "**Работа с данными. Для каждого пользователя было посчитано:**\n",
    "\n",
    "- количество сделанных звонков и израсходованных минут разговора по месяцам;\n",
    "- количество отправленных сообщений по месяцам;\n",
    "- объем израсходованного интернет-трафика по месяцам;\n",
    "- помесячную выручку с каждого пользователя (вычтите бесплатный лимит из суммарного количества звонков, сообщений и интернет трафика; остаток умножьте на значение из тарифного плана; прибавьте абонентскую плату, соответствующую тарифному плану).\n",
    "\n",
    "**Общий вывод по анализу тарифов:**\n",
    "\n",
    "Пользователей тарифа \"Smart\" больше, чем пользователей тарифа \"Ultra\" более, чем в 2 раза (350 против 148) - изначально у нас было 500 уникальных пользователей, однако 2из них не являются пользователями данных тарифов.\n",
    "\n",
    "*Вывод по Тарифу \"Ultra\":*\n",
    "\n",
    "- В среднем пользователям данного тарифа необходимы:\n",
    "    - 527 минут звонков\n",
    "    - 50 смс\n",
    "    - 20 Gb интернет-трафика\n",
    "- Вместо этого, компания Мегалайн предоставляет пользователям:\n",
    "    - 3000 минут разговора\n",
    "    - 1000 смс\n",
    "    - 30 Гб интернет-трафика\n",
    " *Тариф содержит в себе избыточное количество минут, смс и Gb, от используемого пользователями* \n",
    "\n",
    "*Вывод по Тарифу \"Smart\":*\n",
    "\n",
    "- В среднем пользователям данного тарифа необходимы:\n",
    "    - 418 минут разговора\n",
    "    - 34 смс\n",
    "    - 17 Gb интернет-трафика\n",
    "- Вместо этого, компания Мегалайн предоставляет пользователям:\n",
    "    - 500 минут разговора\n",
    "    - 50 смс\n",
    "    - 15 Гб интернет-трафика    \n",
    "*Тариф содержит в себе недостаточное количество Gb, для того, чтобы покрывать потребности пользователей* \n",
    "    \n",
    "Вывод по затраченным минутам разговора для Тарифов Ultra и Smart:\n",
    "- Пользователи тарифа Ultra пропускают звонки горяздо чаще, чем пользователи тарифа Smart.\n",
    "- Пользователи тарифа Ultra говорят по телефону реже, но дольше, чем пользователи тарифа Smart (752 против 545).\n",
    "\n",
    "Вывод по количеству отправленных смс для Тарифов Ultra и Smart:\n",
    "- Пользователей тарифа Ultra отправляющих смс сообщения гораздо меньше, чем пользователей тарифа Smart.\n",
    "- Пользователи тарифа Ultra отправляют смс в большем количестве (от 0 до 224 смс), чем пользователи тарифа Smart (от 0 до 143с мс)\n",
    "\n",
    "Вывод по затраченным Gb интернет-трафика для Тарифов Ultra и Smart:\n",
    "- Пользователей тарифа Ultra израсходовавших менее 28Gb интернет-трафика гораздо меньше, чем пользователей тарифа Smart.\n",
    "- Пользователb тарифа Ultra расходуют больше интернет-трафика в месяц, чем пользователи тарифа Smart (50 против 39)\n",
    "\n",
    "Вывод по выручке для Тарифов Ultra и Smart:\n",
    "- Пользователей тарифа Ultra меньший максимальный чек, чем пользователей тарифа Smart (4800 против 6770)\n",
    "- Пользователb тарифа Smart переплачивают за использование услуг сверх пакетов тарифа гораздо чаще и больше, чем пользователи тарифа Ultra:\n",
    "     - 2й и 3й квартили Ultra = абонентсой плате тарифа, в то время как 2й и 3й квартили Smart превышают размер абонентской платы почти в 2 и 3 раза соответственно. \n",
    "     - максимальный чек пользователя тарифа Smart превышает размер абонентской платы более чем в 12 раз ! (6770 против 550)\n",
    "- Пользователb тарифа Smart приносят компании больше выручки, чем пользователи тарифа Ultra (2 875 351 против 2 039 100)\n",
    "\n",
    "Вывод по проверке гипотезы №1:\n",
    "- Нулевая гипотеза -  Средняя выручка от пользователей тарифов «Ультра» и «Смарт» не различается.\n",
    "- Альтернативная гипотеза - Средняя выручка от пользователей тарифов «Ультра» и «Смарт» различается.\n",
    "\n",
    "- выборочное среднее значимо меньше предполагаемого значения 0.05. , следовательно, средняя выручка от пользователей тарифов «Ультра» и «Смарт» различается существенно\n",
    "- опытным путем получили значеней выручки с каждой группы пользоватлей 2090 и 1346 - значения действительно различаются.\n",
    "\n",
    "Вывод по проверке гипотезы №2:\n",
    "- Нулевая гипотеза -  Средняя выручка пользователей из Москвы неотличается от выручки пользователей из других регионов.\n",
    "- Альтернативная гипотеза - Средняя выручка пользователей из Москвы отличается от выручки пользователей из других регионов.\n",
    "\n",
    "- выборочное среднее значимо меньше предполагаемого значения 0.05. , следовательно, cредняя выручка пользователей из Москвы отличается от выручки пользователей из других регионов. \n",
    "- опытным путем получили значеней выручки от пользователей из г.Москва и др.городов 1590 и 1571 - значения действительно различаются, хоть и не существенно"
   ]
  },
  {
   "cell_type": "code",
   "execution_count": 83,
   "id": "394d264f",
   "metadata": {},
   "outputs": [
    {
     "data": {
      "text/html": [
       "<div>\n",
       "<style scoped>\n",
       "    .dataframe tbody tr th:only-of-type {\n",
       "        vertical-align: middle;\n",
       "    }\n",
       "\n",
       "    .dataframe tbody tr th {\n",
       "        vertical-align: top;\n",
       "    }\n",
       "\n",
       "    .dataframe thead th {\n",
       "        text-align: right;\n",
       "    }\n",
       "</style>\n",
       "<table border=\"1\" class=\"dataframe\">\n",
       "  <thead>\n",
       "    <tr style=\"text-align: right;\">\n",
       "      <th></th>\n",
       "      <th>month</th>\n",
       "      <th>revenue</th>\n",
       "      <th>tariff</th>\n",
       "    </tr>\n",
       "  </thead>\n",
       "  <tbody>\n",
       "    <tr>\n",
       "      <th>1798</th>\n",
       "      <td>1</td>\n",
       "      <td>550.0</td>\n",
       "      <td>smart</td>\n",
       "    </tr>\n",
       "    <tr>\n",
       "      <th>1240</th>\n",
       "      <td>1</td>\n",
       "      <td>1103.0</td>\n",
       "      <td>smart</td>\n",
       "    </tr>\n",
       "    <tr>\n",
       "      <th>2849</th>\n",
       "      <td>1</td>\n",
       "      <td>550.0</td>\n",
       "      <td>smart</td>\n",
       "    </tr>\n",
       "    <tr>\n",
       "      <th>2363</th>\n",
       "      <td>1</td>\n",
       "      <td>550.0</td>\n",
       "      <td>smart</td>\n",
       "    </tr>\n",
       "    <tr>\n",
       "      <th>3066</th>\n",
       "      <td>1</td>\n",
       "      <td>550.0</td>\n",
       "      <td>smart</td>\n",
       "    </tr>\n",
       "    <tr>\n",
       "      <th>...</th>\n",
       "      <td>...</td>\n",
       "      <td>...</td>\n",
       "      <td>...</td>\n",
       "    </tr>\n",
       "    <tr>\n",
       "      <th>2773</th>\n",
       "      <td>12</td>\n",
       "      <td>950.0</td>\n",
       "      <td>smart</td>\n",
       "    </tr>\n",
       "    <tr>\n",
       "      <th>877</th>\n",
       "      <td>12</td>\n",
       "      <td>3300.0</td>\n",
       "      <td>ultra</td>\n",
       "    </tr>\n",
       "    <tr>\n",
       "      <th>884</th>\n",
       "      <td>12</td>\n",
       "      <td>1950.0</td>\n",
       "      <td>ultra</td>\n",
       "    </tr>\n",
       "    <tr>\n",
       "      <th>2807</th>\n",
       "      <td>12</td>\n",
       "      <td>1950.0</td>\n",
       "      <td>smart</td>\n",
       "    </tr>\n",
       "    <tr>\n",
       "      <th>3213</th>\n",
       "      <td>12</td>\n",
       "      <td>598.0</td>\n",
       "      <td>smart</td>\n",
       "    </tr>\n",
       "  </tbody>\n",
       "</table>\n",
       "<p>3214 rows × 3 columns</p>\n",
       "</div>"
      ],
      "text/plain": [
       "      month  revenue tariff\n",
       "1798      1    550.0  smart\n",
       "1240      1   1103.0  smart\n",
       "2849      1    550.0  smart\n",
       "2363      1    550.0  smart\n",
       "3066      1    550.0  smart\n",
       "...     ...      ...    ...\n",
       "2773     12    950.0  smart\n",
       "877      12   3300.0  ultra\n",
       "884      12   1950.0  ultra\n",
       "2807     12   1950.0  smart\n",
       "3213     12    598.0  smart\n",
       "\n",
       "[3214 rows x 3 columns]"
      ]
     },
     "execution_count": 83,
     "metadata": {},
     "output_type": "execute_result"
    }
   ],
   "source": [
    "month_trands = mega[['month','revenue','tariff']].sort_values('month')\n",
    "month_trands"
   ]
  },
  {
   "cell_type": "code",
   "execution_count": 84,
   "id": "d61950d0",
   "metadata": {},
   "outputs": [
    {
     "data": {
      "text/html": [
       "<div>\n",
       "<style scoped>\n",
       "    .dataframe tbody tr th:only-of-type {\n",
       "        vertical-align: middle;\n",
       "    }\n",
       "\n",
       "    .dataframe tbody tr th {\n",
       "        vertical-align: top;\n",
       "    }\n",
       "\n",
       "    .dataframe thead th {\n",
       "        text-align: right;\n",
       "    }\n",
       "</style>\n",
       "<table border=\"1\" class=\"dataframe\">\n",
       "  <thead>\n",
       "    <tr style=\"text-align: right;\">\n",
       "      <th></th>\n",
       "      <th>month</th>\n",
       "      <th>tariff</th>\n",
       "      <th>revenue</th>\n",
       "    </tr>\n",
       "  </thead>\n",
       "  <tbody>\n",
       "    <tr>\n",
       "      <th>0</th>\n",
       "      <td>1</td>\n",
       "      <td>smart</td>\n",
       "      <td>24525.0</td>\n",
       "    </tr>\n",
       "    <tr>\n",
       "      <th>1</th>\n",
       "      <td>1</td>\n",
       "      <td>ultra</td>\n",
       "      <td>17550.0</td>\n",
       "    </tr>\n",
       "    <tr>\n",
       "      <th>2</th>\n",
       "      <td>2</td>\n",
       "      <td>smart</td>\n",
       "      <td>48001.0</td>\n",
       "    </tr>\n",
       "    <tr>\n",
       "      <th>3</th>\n",
       "      <td>2</td>\n",
       "      <td>ultra</td>\n",
       "      <td>47400.0</td>\n",
       "    </tr>\n",
       "    <tr>\n",
       "      <th>4</th>\n",
       "      <td>3</td>\n",
       "      <td>smart</td>\n",
       "      <td>89676.0</td>\n",
       "    </tr>\n",
       "    <tr>\n",
       "      <th>5</th>\n",
       "      <td>3</td>\n",
       "      <td>ultra</td>\n",
       "      <td>74550.0</td>\n",
       "    </tr>\n",
       "    <tr>\n",
       "      <th>6</th>\n",
       "      <td>4</td>\n",
       "      <td>smart</td>\n",
       "      <td>107866.0</td>\n",
       "    </tr>\n",
       "    <tr>\n",
       "      <th>7</th>\n",
       "      <td>4</td>\n",
       "      <td>ultra</td>\n",
       "      <td>110100.0</td>\n",
       "    </tr>\n",
       "    <tr>\n",
       "      <th>8</th>\n",
       "      <td>5</td>\n",
       "      <td>smart</td>\n",
       "      <td>168849.0</td>\n",
       "    </tr>\n",
       "    <tr>\n",
       "      <th>9</th>\n",
       "      <td>5</td>\n",
       "      <td>ultra</td>\n",
       "      <td>138000.0</td>\n",
       "    </tr>\n",
       "    <tr>\n",
       "      <th>10</th>\n",
       "      <td>6</td>\n",
       "      <td>smart</td>\n",
       "      <td>197459.0</td>\n",
       "    </tr>\n",
       "    <tr>\n",
       "      <th>11</th>\n",
       "      <td>6</td>\n",
       "      <td>ultra</td>\n",
       "      <td>171300.0</td>\n",
       "    </tr>\n",
       "    <tr>\n",
       "      <th>12</th>\n",
       "      <td>7</td>\n",
       "      <td>smart</td>\n",
       "      <td>246014.0</td>\n",
       "    </tr>\n",
       "    <tr>\n",
       "      <th>13</th>\n",
       "      <td>7</td>\n",
       "      <td>ultra</td>\n",
       "      <td>192750.0</td>\n",
       "    </tr>\n",
       "    <tr>\n",
       "      <th>14</th>\n",
       "      <td>8</td>\n",
       "      <td>smart</td>\n",
       "      <td>310340.0</td>\n",
       "    </tr>\n",
       "    <tr>\n",
       "      <th>15</th>\n",
       "      <td>8</td>\n",
       "      <td>ultra</td>\n",
       "      <td>222900.0</td>\n",
       "    </tr>\n",
       "    <tr>\n",
       "      <th>16</th>\n",
       "      <td>9</td>\n",
       "      <td>smart</td>\n",
       "      <td>324986.0</td>\n",
       "    </tr>\n",
       "    <tr>\n",
       "      <th>17</th>\n",
       "      <td>9</td>\n",
       "      <td>ultra</td>\n",
       "      <td>232800.0</td>\n",
       "    </tr>\n",
       "    <tr>\n",
       "      <th>18</th>\n",
       "      <td>10</td>\n",
       "      <td>smart</td>\n",
       "      <td>401267.0</td>\n",
       "    </tr>\n",
       "    <tr>\n",
       "      <th>19</th>\n",
       "      <td>10</td>\n",
       "      <td>ultra</td>\n",
       "      <td>254100.0</td>\n",
       "    </tr>\n",
       "    <tr>\n",
       "      <th>20</th>\n",
       "      <td>11</td>\n",
       "      <td>smart</td>\n",
       "      <td>424403.0</td>\n",
       "    </tr>\n",
       "    <tr>\n",
       "      <th>21</th>\n",
       "      <td>11</td>\n",
       "      <td>ultra</td>\n",
       "      <td>280350.0</td>\n",
       "    </tr>\n",
       "    <tr>\n",
       "      <th>22</th>\n",
       "      <td>12</td>\n",
       "      <td>smart</td>\n",
       "      <td>531965.0</td>\n",
       "    </tr>\n",
       "    <tr>\n",
       "      <th>23</th>\n",
       "      <td>12</td>\n",
       "      <td>ultra</td>\n",
       "      <td>297300.0</td>\n",
       "    </tr>\n",
       "  </tbody>\n",
       "</table>\n",
       "</div>"
      ],
      "text/plain": [
       "    month tariff   revenue\n",
       "0       1  smart   24525.0\n",
       "1       1  ultra   17550.0\n",
       "2       2  smart   48001.0\n",
       "3       2  ultra   47400.0\n",
       "4       3  smart   89676.0\n",
       "5       3  ultra   74550.0\n",
       "6       4  smart  107866.0\n",
       "7       4  ultra  110100.0\n",
       "8       5  smart  168849.0\n",
       "9       5  ultra  138000.0\n",
       "10      6  smart  197459.0\n",
       "11      6  ultra  171300.0\n",
       "12      7  smart  246014.0\n",
       "13      7  ultra  192750.0\n",
       "14      8  smart  310340.0\n",
       "15      8  ultra  222900.0\n",
       "16      9  smart  324986.0\n",
       "17      9  ultra  232800.0\n",
       "18     10  smart  401267.0\n",
       "19     10  ultra  254100.0\n",
       "20     11  smart  424403.0\n",
       "21     11  ultra  280350.0\n",
       "22     12  smart  531965.0\n",
       "23     12  ultra  297300.0"
      ]
     },
     "execution_count": 84,
     "metadata": {},
     "output_type": "execute_result"
    }
   ],
   "source": [
    "month_trands_sum = month_trands.groupby(['month','tariff'])['revenue'].sum()\n",
    "month_trands_sum = month_trands_sum.reset_index()\n",
    "month_trands_sum"
   ]
  },
  {
   "cell_type": "code",
   "execution_count": 85,
   "id": "981363c6",
   "metadata": {},
   "outputs": [
    {
     "data": {
      "image/png": "[encoded data removed]",
      "text/plain": [
       "<Figure size 432x288 with 1 Axes>"
      ]
     },
     "metadata": {
      "needs_background": "light"
     },
     "output_type": "display_data"
    }
   ],
   "source": [
    "x = month_trands_sum['month'].unique()\n",
    "y_ultra = month_trands_sum[month_trands_sum['tariff'] == 'ultra']['revenue']\n",
    "z_smart = month_trands_sum[month_trands_sum['tariff'] == 'smart']['revenue']\n",
    "  \n",
    "x_axis = np.arange(len(x))\n",
    "  \n",
    "plt.bar(x_axis - 0.2, y_ultra, 0.3, label = 'U')\n",
    "plt.bar(x_axis + 0.2, z_smart, 0.3, label = 'S')\n",
    "  \n",
    "\n",
    "plt.xticks(x_axis, x)\n",
    "plt.xlabel(\"Месяцы\")\n",
    "plt.ylabel(\"Размер выручки в мес.\")\n",
    "plt.title(\"Тренд выручки по тарифам Ultra и Smart\")\n",
    "\n",
    "plt.legend()\n",
    "plt.show()"
   ]
  },
  {
   "cell_type": "markdown",
   "id": "fdd21e47",
   "metadata": {},
   "source": [
    "Вывод по анализу выручки по месяцам для каждого тарифа:\n",
    "- Наблюдается восходящий тренд выручки от января до декабря 2018г. по тарифу Ultra и Smart\n",
    "- Первые 4 месяца, выручки от тарифов были примерно на одном уровне. Начиная с 5ого месяца, выручка от тарифа Smart стала возрастать по отношению к тарифу Ultra\n",
    "- На конец года, за декабрь выручка тарифа Ultra = 297300.0 , а тарифа Smart = 531965.0 - почти в 1.5 раз больше"
   ]
  },
  {
   "cell_type": "markdown",
   "id": "4a1407b5",
   "metadata": {},
   "source": [
    "## Итоговый вывод по тарифным планам\n",
    "\n",
    "**Вывод по анализу выручки по месяцам для каждого тарифа:**\n",
    "\n",
    "- Наблюдается восходящий тренд выручки от января до декабря 2018г. по тарифу Ultra и Smart\n",
    "- Первые 4 месяца, выручки от тарифов были примерно на одном уровне. Начиная с 5ого месяца, выручка от тарифа Smart стала возрастать по отношению к тарифу Ultra\n",
    "- На конец года, за декабрь выручка тарифа Ultra = 297300.0 , а тарифа Smart = 531965.0 - почти в 1.5 раз больше\n",
    "\n",
    "**Общий вывод по анализу тарифов:**\n",
    "\n",
    "Пользователей тарифа \"Smart\" больше, чем пользователей тарифа \"Ultra\" более, чем в 2 раза (350 против 148) \n",
    "\n",
    "*Вывод по Тарифу \"Ultra\":*\n",
    "\n",
    "- В среднем пользователям данного тарифа необходимы:\n",
    "    - 527 минут звонков\n",
    "    - 50 смс\n",
    "    - 20 Gb интернет-трафика\n",
    "- Вместо этого, компания Мегалайн предоставляет пользователям:\n",
    "    - 3000 минут разговора\n",
    "    - 1000 смс\n",
    "    - 30 Гб интернет-трафика\n",
    " *Тариф содержит в себе избыточное количество минут, смс и Gb, от используемого пользователями* \n",
    "\n",
    "*Вывод по Тарифу \"Smart\":*\n",
    "\n",
    "- В среднем пользователям данного тарифа необходимы:\n",
    "    - 418 минут разговора\n",
    "    - 34 смс\n",
    "    - 17 Gb интернет-трафика\n",
    "- Вместо этого, компания Мегалайн предоставляет пользователям:\n",
    "    - 500 минут разговора\n",
    "    - 50 смс\n",
    "    - 15 Гб интернет-трафика    \n",
    "*Тариф содержит в себе недостаточное количество Gb, для того, чтобы покрывать потребности пользователей* \n",
    "\n",
    "**Вывод по выручке для Тарифов Ultra и Smart:**\n",
    "- Пользователей тарифа Ultra меньший максимальный чек, чем пользователей тарифа Smart (4800 против 6770)\n",
    "- Пользователb тарифа Smart переплачивают за использование услуг сверх пакетов тарифа гораздо чаще и больше, чем пользователи тарифа Ultra:\n",
    "     - 2й и 3й квартили Ultra = абонентсой плате тарифа, в то время как 2й и 3й квартили Smart превышают размер абонентской платы почти в 2 и 3 раза соответственно. \n",
    "     - максимальный чек пользователя тарифа Smart превышает размер абонентской платы более чем в 12 раз ! (6770 против 550)\n",
    "- Пользователb тарифа Smart приносят компании больше выручки, чем пользователи тарифа Ultra (2 875 351 против 2 039 100)"
   ]
  }
 ],
 "metadata": {
  "ExecuteTimeLog": [
   {
    "duration": 1174,
    "start_time": "2022-08-04T00:17:46.027Z"
   },
   {
    "duration": 467,
    "start_time": "2022-08-04T00:17:47.204Z"
   },
   {
    "duration": 4,
    "start_time": "2022-08-04T00:17:47.672Z"
   },
   {
    "duration": 32,
    "start_time": "2022-08-04T00:17:47.677Z"
   },
   {
    "duration": 4,
    "start_time": "2022-08-04T00:17:47.712Z"
   },
   {
    "duration": 10,
    "start_time": "2022-08-04T00:17:47.717Z"
   },
   {
    "duration": 9,
    "start_time": "2022-08-04T00:17:47.728Z"
   },
   {
    "duration": 63,
    "start_time": "2022-08-04T00:17:47.738Z"
   },
   {
    "duration": 4,
    "start_time": "2022-08-04T00:17:47.803Z"
   },
   {
    "duration": 39,
    "start_time": "2022-08-04T00:17:47.808Z"
   },
   {
    "duration": 71,
    "start_time": "2022-08-04T00:17:47.849Z"
   },
   {
    "duration": 6,
    "start_time": "2022-08-04T00:17:47.921Z"
   },
   {
    "duration": 34,
    "start_time": "2022-08-04T00:17:47.928Z"
   },
   {
    "duration": 46,
    "start_time": "2022-08-04T00:17:47.965Z"
   },
   {
    "duration": 15,
    "start_time": "2022-08-04T00:17:48.013Z"
   },
   {
    "duration": 68,
    "start_time": "2022-08-04T00:17:48.030Z"
   },
   {
    "duration": 5,
    "start_time": "2022-08-04T00:17:48.100Z"
   },
   {
    "duration": 93,
    "start_time": "2022-08-04T00:17:48.107Z"
   },
   {
    "duration": 33,
    "start_time": "2022-08-04T00:17:48.202Z"
   },
   {
    "duration": 17,
    "start_time": "2022-08-04T00:17:48.236Z"
   },
   {
    "duration": 43,
    "start_time": "2022-08-04T00:17:48.255Z"
   },
   {
    "duration": 9,
    "start_time": "2022-08-04T00:17:48.300Z"
   },
   {
    "duration": 8,
    "start_time": "2022-08-04T00:17:48.311Z"
   },
   {
    "duration": 101,
    "start_time": "2022-08-04T00:17:48.321Z"
   },
   {
    "duration": 5,
    "start_time": "2022-08-04T00:17:48.423Z"
   },
   {
    "duration": 8,
    "start_time": "2022-08-04T00:17:48.430Z"
   },
   {
    "duration": 68,
    "start_time": "2022-08-04T00:17:48.440Z"
   },
   {
    "duration": 67,
    "start_time": "2022-08-04T00:17:48.509Z"
   },
   {
    "duration": 46,
    "start_time": "2022-08-04T00:17:48.578Z"
   },
   {
    "duration": 29,
    "start_time": "2022-08-04T00:17:48.625Z"
   },
   {
    "duration": 58,
    "start_time": "2022-08-04T00:17:48.655Z"
   },
   {
    "duration": 26,
    "start_time": "2022-08-04T00:17:48.715Z"
   },
   {
    "duration": 28,
    "start_time": "2022-08-04T00:17:48.742Z"
   },
   {
    "duration": 22,
    "start_time": "2022-08-04T00:17:48.771Z"
   },
   {
    "duration": 306,
    "start_time": "2022-08-04T00:17:48.795Z"
   },
   {
    "duration": 7,
    "start_time": "2022-08-04T00:17:49.102Z"
   },
   {
    "duration": 6,
    "start_time": "2022-08-04T00:17:49.111Z"
   },
   {
    "duration": 7,
    "start_time": "2022-08-04T00:17:49.119Z"
   },
   {
    "duration": 7,
    "start_time": "2022-08-04T00:17:49.128Z"
   },
   {
    "duration": 334,
    "start_time": "2022-08-04T00:17:49.137Z"
   },
   {
    "duration": 16,
    "start_time": "2022-08-04T00:17:49.476Z"
   },
   {
    "duration": 9,
    "start_time": "2022-08-04T00:17:49.494Z"
   },
   {
    "duration": 6,
    "start_time": "2022-08-04T00:17:49.504Z"
   },
   {
    "duration": 13,
    "start_time": "2022-08-04T00:17:49.512Z"
   },
   {
    "duration": 9,
    "start_time": "2022-08-04T00:17:49.527Z"
   },
   {
    "duration": 8,
    "start_time": "2022-08-04T00:17:49.537Z"
   },
   {
    "duration": 7,
    "start_time": "2022-08-04T00:17:49.547Z"
   },
   {
    "duration": 59,
    "start_time": "2022-08-04T00:17:49.556Z"
   },
   {
    "duration": 35,
    "start_time": "2022-08-04T00:17:49.616Z"
   },
   {
    "duration": 366,
    "start_time": "2022-08-04T00:17:49.652Z"
   },
   {
    "duration": 9,
    "start_time": "2022-08-04T00:17:50.020Z"
   },
   {
    "duration": 14,
    "start_time": "2022-08-04T00:17:50.030Z"
   },
   {
    "duration": 316,
    "start_time": "2022-08-04T00:17:50.045Z"
   },
   {
    "duration": 9,
    "start_time": "2022-08-04T00:17:50.363Z"
   },
   {
    "duration": 23,
    "start_time": "2022-08-04T00:17:50.374Z"
   },
   {
    "duration": 337,
    "start_time": "2022-08-04T00:17:50.399Z"
   },
   {
    "duration": 10,
    "start_time": "2022-08-04T00:17:50.739Z"
   },
   {
    "duration": 17,
    "start_time": "2022-08-04T00:17:50.750Z"
   },
   {
    "duration": 5,
    "start_time": "2022-08-04T00:17:50.768Z"
   },
   {
    "duration": 6,
    "start_time": "2022-08-04T00:17:50.792Z"
   },
   {
    "duration": 7,
    "start_time": "2022-08-04T00:17:50.799Z"
   },
   {
    "duration": 11,
    "start_time": "2022-08-04T00:17:50.807Z"
   },
   {
    "duration": 5,
    "start_time": "2022-08-04T00:17:50.820Z"
   },
   {
    "duration": 6,
    "start_time": "2022-08-04T00:17:50.827Z"
   },
   {
    "duration": 5,
    "start_time": "2022-08-04T00:25:49.093Z"
   },
   {
    "duration": 12,
    "start_time": "2022-08-04T00:28:54.668Z"
   }
  ],
  "kernelspec": {
   "display_name": "Python 3 (ipykernel)",
   "language": "python",
   "name": "python3"
  },
  "language_info": {
   "codemirror_mode": {
    "name": "ipython",
    "version": 3
   },
   "file_extension": ".py",
   "mimetype": "text/x-python",
   "name": "python",
   "nbconvert_exporter": "python",
   "pygments_lexer": "ipython3",
   "version": "3.9.12"
  },
  "toc": {
   "base_numbering": 1,
   "nav_menu": {},
   "number_sections": true,
   "sideBar": true,
   "skip_h1_title": true,
   "title_cell": "Table of Contents",
   "title_sidebar": "Contents",
   "toc_cell": false,
   "toc_position": {
    "height": "calc(100% - 180px)",
    "left": "10px",
    "top": "150px",
    "width": "180.682px"
   },
   "toc_section_display": true,
   "toc_window_display": true
  }
 },
 "nbformat": 4,
 "nbformat_minor": 5
}
