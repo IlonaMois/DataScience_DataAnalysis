{
 "cells": [
  {
   "cell_type": "markdown",
   "id": "e5f96831",
   "metadata": {},
   "source": [
    "# Выбор локации для скважины"
   ]
  },
  {
   "cell_type": "markdown",
   "id": "640ce451",
   "metadata": {},
   "source": [
    "## Описание проекта\n",
    "\n",
    "Допустим, вы работаете в добывающей компании «ГлавРосГосНефть». Нужно решить, где бурить новую скважину.\n",
    "Шаги для выбора локации обычно такие:\n",
    "В избранном регионе собирают характеристики для скважин: качество нефти и объём её запасов;\n",
    "Строят модель для предсказания объёма запасов в новых скважинах;\n",
    "Выбирают скважины с самыми высокими оценками значений;\n",
    "Определяют регион с максимальной суммарной прибылью отобранных скважин.\n",
    "Вам предоставлены пробы нефти в трёх регионах. Характеристики для каждой скважины в регионе уже известны. Постройте модель для определения региона, где добыча принесёт наибольшую прибыль. Проанализируйте возможную прибыль и риски техникой Bootstrap.\n",
    "\n",
    "\n",
    "\n",
    "## Инструкция по выполнению проекта\n",
    "\n",
    "- Загрузите и подготовьте данные. Поясните порядок действий.\n",
    "- Обучите и проверьте модель для каждого региона:\n",
    "    -  Разбейте данные на обучающую и валидационную выборки в соотношении 75:25.\n",
    "    -  Обучите модель и сделайте предсказания на валидационной выборке.\n",
    "    -  Сохраните предсказания и правильные ответы на валидационной выборке.\n",
    "    -  Напечатайте на экране средний запас предсказанного сырья и RMSE модели.\n",
    "    -  Проанализируйте результаты.\n",
    "\n",
    "- Подготовьтесь к расчёту прибыли:\n",
    "    -  Все ключевые значения для расчётов сохраните в отдельных переменных.\n",
    "    -  Рассчитайте достаточный объём сырья для безубыточной разработки новой скважины. Сравните полученный объём сырья со средним запасом в каждом регионе.\n",
    "    -  Напишите выводы по этапу подготовки расчёта прибыли.\n",
    "\n",
    "- Напишите функцию для расчёта прибыли по выбранным скважинам и предсказаниям модели:\n",
    "    -  Выберите скважины с максимальными значениями предсказаний.\n",
    "    -  Просуммируйте целевое значение объёма сырья, соответствующее этим предсказаниям.\n",
    "    -  Рассчитайте прибыль для полученного объёма сырья.\n",
    "\n",
    "- Посчитайте риски и прибыль для каждого региона:\n",
    "    -  Примените технику Bootstrap с 1000 выборок, чтобы найти распределение прибыли.\n",
    "    -  Найдите среднюю прибыль, 95%-й доверительный интервал и риск убытков. Убыток — это отрицательная прибыль.\n",
    "    -  Напишите выводы: предложите регион для разработки скважин и обоснуйте выбор.\n",
    "\n",
    "**Описание данных**\n",
    "\n",
    "- id — уникальный идентификатор скважины;\n",
    "- f0, f1, f2 — три признака точек (неважно, что они означают, но сами признаки значимы);\n",
    "- product — объём запасов в скважине (тыс. баррелей).\n",
    "\n",
    "**Условия задачи:**\n",
    "- Для обучения модели подходит только линейная регрессия (остальные — недостаточно предсказуемые).\n",
    "- При разведке региона исследуют 500 точек, из которых с помощью машинного обучения выбирают 200 лучших для разработки.\n",
    "- Бюджет на разработку скважин в регионе — 10 млрд рублей.\n",
    "- При нынешних ценах один баррель сырья приносит 450 рублей дохода. Доход с каждой единицы продукта составляет 450 тыс. рублей, поскольку объём указан в тысячах баррелей.\n",
    "- После оценки рисков нужно оставить лишь те регионы, в которых вероятность убытков меньше 2.5%. Среди них выбирают регион с наибольшей средней прибылью.\n",
    "- Данные синтетические: детали контрактов и характеристики месторождений не разглашаются."
   ]
  },
  {
   "cell_type": "markdown",
   "id": "ad4f4f7c",
   "metadata": {},
   "source": [
    "# Выполнение работы"
   ]
  },
  {
   "cell_type": "markdown",
   "id": "fc21de55",
   "metadata": {},
   "source": [
    "### Первичная визуальная оценка данных"
   ]
  },
  {
   "cell_type": "code",
   "execution_count": 1,
   "id": "ee70f7b0",
   "metadata": {},
   "outputs": [],
   "source": [
    "# Импортируем необходимые библиотеки\n",
    "import pandas as pd\n",
    "import numpy as np\n",
    "import matplotlib.pyplot as plt\n",
    "\n",
    "\n",
    "from sklearn.linear_model import LinearRegression\n",
    "from sklearn.model_selection import train_test_split, cross_val_score\n",
    "from sklearn.metrics import accuracy_score, mean_squared_error \n",
    "from scipy import stats as st\n",
    "\n",
    "from IPython.display import display_html"
   ]
  },
  {
   "cell_type": "code",
   "execution_count": 2,
   "id": "ff4d38d3",
   "metadata": {},
   "outputs": [],
   "source": [
    "# Импортируем данные\n",
    "try :\n",
    "    geo_0 = pd.read_csv('C:/Users/Админ/Desktop/Jupyter/Yandex/geo_data_0.csv')\n",
    "    geo_1 = pd.read_csv('C:/Users/Админ/Desktop/Jupyter/Yandex/geo_data_1.csv')\n",
    "    geo_2 = pd.read_csv('C:/Users/Админ/Desktop/Jupyter/Yandex/geo_data_2.csv')\n",
    "\n",
    "except:\n",
    "    geo_0 = pd.read_csv('/Desktop/Jupyter/Yandex/geo_data_0.csv')\n",
    "    geo_1 = pd.read_csv('/Desktop/Jupyter/Yandex/geo_data_1.csv')\n",
    "    geo_2 = pd.read_csv('/Desktop/Jupyter/Yandex/geo_data_2.csv')\n",
    "    "
   ]
  },
  {
   "cell_type": "code",
   "execution_count": 3,
   "id": "75f395f5",
   "metadata": {},
   "outputs": [
    {
     "name": "stdout",
     "output_type": "stream",
     "text": [
      "ПЕРВЫЕ СТРОКИ ТАБЛИЦ\n",
      "Регион 0\n",
      "      id        f0        f1        f2     product\n",
      "0  txEyH  0.705745 -0.497823  1.221170  105.280062\n",
      "1  2acmU  1.334711 -0.340164  4.365080   73.037750\n",
      "2  409Wp  1.022732  0.151990  1.419926   85.265647\n",
      "3  iJLyR -0.032172  0.139033  2.978566  168.620776\n",
      "4  Xdl7t  1.988431  0.155413  4.751769  154.036647\n",
      " \n",
      "Регион 1\n",
      "      id         f0         f1        f2     product\n",
      "0  kBEdx -15.001348  -8.276000 -0.005876    3.179103\n",
      "1  62mP7  14.272088  -3.475083  0.999183   26.953261\n",
      "2  vyE1P   6.263187  -5.948386  5.001160  134.766305\n",
      "3  KcrkZ -13.081196 -11.506057  4.999415  137.945408\n",
      "4  AHL4O  12.702195  -8.147433  5.004363  134.766305\n",
      " \n",
      "Регион 2\n",
      "      id        f0        f1        f2     product\n",
      "0  fwXo0 -1.146987  0.963328 -0.828965   27.758673\n",
      "1  WJtFt  0.262778  0.269839 -2.530187   56.069697\n",
      "2  ovLUW  0.194587  0.289035 -5.586433   62.871910\n",
      "3  q6cA6  2.236060 -0.553760  0.930038  114.572842\n",
      "4  WPMUX -0.515993  1.716266  5.899011  149.600746\n",
      " \n",
      "ОБЩАЯ ИНФОРМАЦИЯ\n",
      "Регион 0\n",
      "<class 'pandas.core.frame.DataFrame'>\n",
      "RangeIndex: 100000 entries, 0 to 99999\n",
      "Data columns (total 5 columns):\n",
      " #   Column   Non-Null Count   Dtype  \n",
      "---  ------   --------------   -----  \n",
      " 0   id       100000 non-null  object \n",
      " 1   f0       100000 non-null  float64\n",
      " 2   f1       100000 non-null  float64\n",
      " 3   f2       100000 non-null  float64\n",
      " 4   product  100000 non-null  float64\n",
      "dtypes: float64(4), object(1)\n",
      "memory usage: 3.8+ MB\n",
      "None\n",
      " \n",
      "Регион 1\n",
      "<class 'pandas.core.frame.DataFrame'>\n",
      "RangeIndex: 100000 entries, 0 to 99999\n",
      "Data columns (total 5 columns):\n",
      " #   Column   Non-Null Count   Dtype  \n",
      "---  ------   --------------   -----  \n",
      " 0   id       100000 non-null  object \n",
      " 1   f0       100000 non-null  float64\n",
      " 2   f1       100000 non-null  float64\n",
      " 3   f2       100000 non-null  float64\n",
      " 4   product  100000 non-null  float64\n",
      "dtypes: float64(4), object(1)\n",
      "memory usage: 3.8+ MB\n",
      "None\n",
      " \n",
      "Регион 2\n",
      "<class 'pandas.core.frame.DataFrame'>\n",
      "RangeIndex: 100000 entries, 0 to 99999\n",
      "Data columns (total 5 columns):\n",
      " #   Column   Non-Null Count   Dtype  \n",
      "---  ------   --------------   -----  \n",
      " 0   id       100000 non-null  object \n",
      " 1   f0       100000 non-null  float64\n",
      " 2   f1       100000 non-null  float64\n",
      " 3   f2       100000 non-null  float64\n",
      " 4   product  100000 non-null  float64\n",
      "dtypes: float64(4), object(1)\n",
      "memory usage: 3.8+ MB\n",
      "None\n",
      " \n",
      "КОЛИЧЕСТВО ПРОПУСКОВ\n",
      "Регион 0\n",
      "id         0\n",
      "f0         0\n",
      "f1         0\n",
      "f2         0\n",
      "product    0\n",
      "dtype: int64\n",
      " \n",
      "Регион 1\n",
      "id         0\n",
      "f0         0\n",
      "f1         0\n",
      "f2         0\n",
      "product    0\n",
      "dtype: int64\n",
      " \n",
      "Регион 2\n",
      "id         0\n",
      "f0         0\n",
      "f1         0\n",
      "f2         0\n",
      "product    0\n",
      "dtype: int64\n"
     ]
    },
    {
     "data": {
      "text/plain": [
       "(None, None)"
      ]
     },
     "execution_count": 3,
     "metadata": {},
     "output_type": "execute_result"
    }
   ],
   "source": [
    "# Выполняем визуальную оценку данных\n",
    "\n",
    "print('ПЕРВЫЕ СТРОКИ ТАБЛИЦ')\n",
    "    print('Регион 0'), print(geo_0.head()) \n",
    "    print(' ')\n",
    "    print('Регион 1'), print(geo_1.head()) \n",
    "    print(' ')\n",
    "    print('Регион 2'),print(geo_2.head())\n",
    "    print(' ')\n",
    "    print('ОБЩАЯ ИНФОРМАЦИЯ')\n",
    "    print('Регион 0'), print(geo_0.info()) \n",
    "    print(' ')\n",
    "    print('Регион 1'), print(geo_1.info()) \n",
    "    print(' ')\n",
    "    print('Регион 2'),print(geo_2.info())\n",
    "    print(' ')\n",
    "    print('КОЛИЧЕСТВО ПРОПУСКОВ')\n",
    "    print('Регион 0'), print(geo_0.isna().sum()) \n",
    "    print(' ')\n",
    "    print('Регион 1'), print(geo_1.isna().sum()) \n",
    "    print(' ')\n",
    "    print('Регион 2'),print(geo_2.isna().sum())\n"
   ]
  },
  {
   "cell_type": "code",
   "execution_count": 4,
   "id": "b28b0937",
   "metadata": {},
   "outputs": [
    {
     "name": "stdout",
     "output_type": "stream",
     "text": [
      "КОЛИЧЕСТВО ДУБЛИКАТОВ\n",
      "Регион 0\n",
      "          id        f0        f1         f2     product\n",
      "66136  74z30  1.084962 -0.312358   6.990771  127.643327\n",
      "64022  74z30  0.741456  0.459229   5.153109  140.771492\n",
      "51970  A5aEY -0.180335  0.935548  -2.094773   33.020205\n",
      "3389   A5aEY -0.039949  0.156872   0.209861   89.249364\n",
      "69163  AGS9W -0.933795  0.116194  -3.655896   19.230453\n",
      "42529  AGS9W  1.454747 -0.479651   0.683380  126.370504\n",
      "931    HZww2  0.755284  0.368511   1.863211   30.681774\n",
      "7530   HZww2  1.061194 -0.373969  10.430210  158.828695\n",
      "63593  QcMuo  0.635635 -0.473422   0.862670   64.578675\n",
      "1949   QcMuo  0.506563 -0.323775  -2.215583   75.496502\n",
      "75715  Tdehs  0.112079  0.430296   3.218993   60.964018\n",
      "21426  Tdehs  0.829407  0.298807  -0.049563   96.035308\n",
      "92341  TtcGQ  0.110711  1.022689   0.911381  101.318008\n",
      "60140  TtcGQ  0.569276 -0.104876   6.440215   85.350186\n",
      "89582  bsk9y  0.398908 -0.400253  10.122376  163.433078\n",
      "97785  bsk9y  0.378429  0.005837   0.160827  160.637302\n",
      "41724  bxg6G -0.823752  0.546319   3.630479   93.007798\n",
      "1364   bxg6G  0.411645  0.856830  -3.653440   73.604260\n",
      "16633  fiKDv  0.157341  1.028359   5.585586   95.817889\n",
      "90815  fiKDv  0.049883  0.841313   6.394613  137.346586\n",
      " \n",
      "Регион 1\n",
      "          id         f0         f1        f2     product\n",
      "5849   5ltQ6  -3.435401 -12.296043  1.999796   57.085625\n",
      "84461  5ltQ6  18.213839   2.191999  3.993869  107.813044\n",
      "1305   LHZR0  11.170835  -1.945066  3.002872   80.859783\n",
      "41906  LHZR0  -8.989672  -4.286607  2.009139   57.085625\n",
      "2721   bfPNe  -9.494442  -5.463692  4.006042  110.992147\n",
      "82178  bfPNe  -6.202799  -4.820045  2.995107   84.038886\n",
      "47591  wt4Uk  -9.091098  -8.109279 -0.002314    3.179103\n",
      "82873  wt4Uk  10.259972  -9.376355  4.994297  134.766305\n",
      " \n",
      "Регион 2\n",
      "          id        f0        f1        f2     product\n",
      "45404  KUPhW  0.231846 -1.698941  4.990775   11.716299\n",
      "55967  KUPhW  1.211150  3.176408  5.543540  132.831802\n",
      "11449  VF7Jo  2.122656 -0.858275  5.746001  181.716817\n",
      "49564  VF7Jo -0.883115  0.560537  0.723601  136.233420\n",
      "44378  Vcm5J -1.229484 -2.439204  1.222909  137.968290\n",
      "95090  Vcm5J  2.587702  1.986875  2.482245   92.327572\n",
      "28039  xCHr8  1.633027  0.368135 -2.378367    6.120525\n",
      "43233  xCHr8 -0.847066  2.101796  5.597130  184.388641\n",
      " \n",
      "КОЛИЧЕСТВО ДУБЛИКАТОВ id\n",
      "Регион 0\n",
      "10 ; Процент пропусков: 0.01\n",
      " \n",
      "Регион 1\n",
      "4 ; Процент пропусков: 0.004\n",
      " \n",
      "Регион 2\n",
      "4 ; Процент пропусков: 0.004\n"
     ]
    },
    {
     "data": {
      "text/plain": [
       "(None, None)"
      ]
     },
     "execution_count": 4,
     "metadata": {},
     "output_type": "execute_result"
    }
   ],
   "source": [
    "    print('КОЛИЧЕСТВО ДУБЛИКАТОВ')\n",
    "    print('Регион 0'),print(geo_0[geo_0.duplicated(subset = 'id', keep = False)].sort_values('id')) \n",
    "    print(' ')\n",
    "    print('Регион 1'),print(geo_1[geo_1.duplicated(subset = 'id', keep = False)].sort_values('id')) \n",
    "    print(' ')\n",
    "    print('Регион 2'),print(geo_2[geo_2.duplicated(subset = 'id', keep = False)].sort_values('id'))\n",
    "    print(' ')\n",
    "    print('КОЛИЧЕСТВО ДУБЛИКАТОВ id')\n",
    "    print('Регион 0'),print(geo_0['id'].duplicated().sum(),'; Процент пропусков:',geo_0['id'].duplicated().sum()/len(geo_2)*100) \n",
    "    print(' ')\n",
    "    print('Регион 1'),print(geo_1['id'].duplicated().sum(),'; Процент пропусков:',geo_1['id'].duplicated().sum()/len(geo_2)*100) \n",
    "    print(' ')\n",
    "    print('Регион 2'),print(geo_2['id'].duplicated().sum(), '; Процент пропусков:',geo_2['id'].duplicated().sum()/len(geo_2)*100)"
   ]
  },
  {
   "cell_type": "code",
   "execution_count": 5,
   "id": "ea15cea8",
   "metadata": {},
   "outputs": [
    {
     "name": "stdout",
     "output_type": "stream",
     "text": [
      "ОПИСАНИЕ ДАННЫХ\n",
      "Регион 0\n",
      "                  f0             f1             f2        product\n",
      "count  100000.000000  100000.000000  100000.000000  100000.000000\n",
      "mean        0.500419       0.250143       2.502647      92.500000\n",
      "std         0.871832       0.504433       3.248248      44.288691\n",
      "min        -1.408605      -0.848218     -12.088328       0.000000\n",
      "25%        -0.072580      -0.200881       0.287748      56.497507\n",
      "50%         0.502360       0.250252       2.515969      91.849972\n",
      "75%         1.073581       0.700646       4.715088     128.564089\n",
      "max         2.362331       1.343769      16.003790     185.364347\n",
      " \n",
      "Регион 1\n",
      "                  f0             f1             f2        product\n",
      "count  100000.000000  100000.000000  100000.000000  100000.000000\n",
      "mean        1.141296      -4.796579       2.494541      68.825000\n",
      "std         8.965932       5.119872       1.703572      45.944423\n",
      "min       -31.609576     -26.358598      -0.018144       0.000000\n",
      "25%        -6.298551      -8.267985       1.000021      26.953261\n",
      "50%         1.153055      -4.813172       2.011479      57.085625\n",
      "75%         8.621015      -1.332816       3.999904     107.813044\n",
      "max        29.421755      18.734063       5.019721     137.945408\n",
      " \n",
      "Регион 2\n",
      "                  f0             f1             f2        product\n",
      "count  100000.000000  100000.000000  100000.000000  100000.000000\n",
      "mean        0.002023      -0.002081       2.495128      95.000000\n",
      "std         1.732045       1.730417       3.473445      44.749921\n",
      "min        -8.760004      -7.084020     -11.970335       0.000000\n",
      "25%        -1.162288      -1.174820       0.130359      59.450441\n",
      "50%         0.009424      -0.009482       2.484236      94.925613\n",
      "75%         1.158535       1.163678       4.858794     130.595027\n",
      "max         7.238262       7.844801      16.739402     190.029838\n",
      " \n",
      "ОБЪЕМ ЗАПАСОВ СКВАЖИНЫ\n",
      "Регион 0\n",
      "9250000.0  ; среднее =  92.49999999999974\n",
      " \n",
      "Регион 1\n",
      "6882500.0  ; среднее =  68.82500000002561\n",
      " \n",
      "Регион 2\n",
      "9500000.0  ; среднее =  95.00000000000041\n"
     ]
    },
    {
     "data": {
      "text/plain": [
       "(None, None)"
      ]
     },
     "execution_count": 5,
     "metadata": {},
     "output_type": "execute_result"
    }
   ],
   "source": [
    "    print('ОПИСАНИЕ ДАННЫХ')\n",
    "    print('Регион 0'),print(geo_0.describe()) \n",
    "    print(' ')\n",
    "    print('Регион 1'),print(geo_1.describe()) \n",
    "    print(' ')\n",
    "    print('Регион 2'),print(geo_2.describe())    \n",
    "    print(' ')\n",
    "    print('ОБЪЕМ ЗАПАСОВ СКВАЖИНЫ')\n",
    "    print('Регион 0'),print(geo_0['product'].sum().round(1), ' ; среднее = ', geo_0['product'].mean()) \n",
    "    print(' ')\n",
    "    print('Регион 1'),print(geo_1['product'].sum().round(1), ' ; среднее = ', geo_1['product'].mean())\n",
    "    print(' ')\n",
    "    print('Регион 2'),print(geo_2['product'].sum().round(1), ' ; среднее = ', geo_2['product'].mean())"
   ]
  },
  {
   "cell_type": "code",
   "execution_count": 6,
   "id": "fff5f237",
   "metadata": {},
   "outputs": [],
   "source": [
    "def display_side_by_side(*args):\n",
    "    html_str=' '\n",
    "    for df in args:\n",
    "        html_str+=df.to_html()\n",
    "    display_html(html_str.replace('table','table style=\"display:inline\"'),raw=True)"
   ]
  },
  {
   "cell_type": "code",
   "execution_count": 7,
   "id": "df33a990",
   "metadata": {},
   "outputs": [],
   "source": [
    "def corr_region(data):\n",
    "    return data.corr().style.background_gradient(cmap = 'Blues')"
   ]
  },
  {
   "cell_type": "code",
   "execution_count": 8,
   "id": "e65f788e",
   "metadata": {
    "scrolled": false
   },
   "outputs": [
    {
     "name": "stdout",
     "output_type": "stream",
     "text": [
      "КОРРРЕЛЯЦИЯ РЕГИОНОВ: РЕГИОН 0, РЕГИОН 1, РЕГИОН 2\n"
     ]
    },
    {
     "data": {
      "text/html": [
       " <style type=\"text/css\">\n",
       "#T_e9859_row0_col0, #T_e9859_row1_col1, #T_e9859_row2_col2, #T_e9859_row3_col3 {\n",
       "  background-color: #08306b;\n",
       "  color: #f1f1f1;\n",
       "}\n",
       "#T_e9859_row0_col1, #T_e9859_row0_col2, #T_e9859_row1_col0, #T_e9859_row1_col3 {\n",
       "  background-color: #f7fbff;\n",
       "  color: #000000;\n",
       "}\n",
       "#T_e9859_row0_col3 {\n",
       "  background-color: #bcd7eb;\n",
       "  color: #000000;\n",
       "}\n",
       "#T_e9859_row1_col2 {\n",
       "  background-color: #f6faff;\n",
       "  color: #000000;\n",
       "}\n",
       "#T_e9859_row2_col0 {\n",
       "  background-color: #b5d4e9;\n",
       "  color: #000000;\n",
       "}\n",
       "#T_e9859_row2_col1 {\n",
       "  background-color: #b4d3e9;\n",
       "  color: #000000;\n",
       "}\n",
       "#T_e9859_row2_col3 {\n",
       "  background-color: #549fcd;\n",
       "  color: #f1f1f1;\n",
       "}\n",
       "#T_e9859_row3_col0 {\n",
       "  background-color: #92c4de;\n",
       "  color: #000000;\n",
       "}\n",
       "#T_e9859_row3_col1 {\n",
       "  background-color: #d5e5f4;\n",
       "  color: #000000;\n",
       "}\n",
       "#T_e9859_row3_col2 {\n",
       "  background-color: #71b1d7;\n",
       "  color: #f1f1f1;\n",
       "}\n",
       "</style>\n",
       "<table style=\"display:inline\" id=\"T_e9859\">\n",
       "  <thead>\n",
       "    <tr>\n",
       "      <th class=\"blank level0\" >&nbsp;</th>\n",
       "      <th id=\"T_e9859_level0_col0\" class=\"col_heading level0 col0\" >f0</th>\n",
       "      <th id=\"T_e9859_level0_col1\" class=\"col_heading level0 col1\" >f1</th>\n",
       "      <th id=\"T_e9859_level0_col2\" class=\"col_heading level0 col2\" >f2</th>\n",
       "      <th id=\"T_e9859_level0_col3\" class=\"col_heading level0 col3\" >product</th>\n",
       "    </tr>\n",
       "  </thead>\n",
       "  <tbody>\n",
       "    <tr>\n",
       "      <th id=\"T_e9859_level0_row0\" class=\"row_heading level0 row0\" >f0</th>\n",
       "      <td id=\"T_e9859_row0_col0\" class=\"data row0 col0\" >1.000000</td>\n",
       "      <td id=\"T_e9859_row0_col1\" class=\"data row0 col1\" >-0.440723</td>\n",
       "      <td id=\"T_e9859_row0_col2\" class=\"data row0 col2\" >-0.003153</td>\n",
       "      <td id=\"T_e9859_row0_col3\" class=\"data row0 col3\" >0.143536</td>\n",
       "    </tr>\n",
       "    <tr>\n",
       "      <th id=\"T_e9859_level0_row1\" class=\"row_heading level0 row1\" >f1</th>\n",
       "      <td id=\"T_e9859_row1_col0\" class=\"data row1 col0\" >-0.440723</td>\n",
       "      <td id=\"T_e9859_row1_col1\" class=\"data row1 col1\" >1.000000</td>\n",
       "      <td id=\"T_e9859_row1_col2\" class=\"data row1 col2\" >0.001724</td>\n",
       "      <td id=\"T_e9859_row1_col3\" class=\"data row1 col3\" >-0.192356</td>\n",
       "    </tr>\n",
       "    <tr>\n",
       "      <th id=\"T_e9859_level0_row2\" class=\"row_heading level0 row2\" >f2</th>\n",
       "      <td id=\"T_e9859_row2_col0\" class=\"data row2 col0\" >-0.003153</td>\n",
       "      <td id=\"T_e9859_row2_col1\" class=\"data row2 col1\" >0.001724</td>\n",
       "      <td id=\"T_e9859_row2_col2\" class=\"data row2 col2\" >1.000000</td>\n",
       "      <td id=\"T_e9859_row2_col3\" class=\"data row2 col3\" >0.483663</td>\n",
       "    </tr>\n",
       "    <tr>\n",
       "      <th id=\"T_e9859_level0_row3\" class=\"row_heading level0 row3\" >product</th>\n",
       "      <td id=\"T_e9859_row3_col0\" class=\"data row3 col0\" >0.143536</td>\n",
       "      <td id=\"T_e9859_row3_col1\" class=\"data row3 col1\" >-0.192356</td>\n",
       "      <td id=\"T_e9859_row3_col2\" class=\"data row3 col2\" >0.483663</td>\n",
       "      <td id=\"T_e9859_row3_col3\" class=\"data row3 col3\" >1.000000</td>\n",
       "    </tr>\n",
       "  </tbody>\n",
       "</table style=\"display:inline\">\n",
       "<style type=\"text/css\">\n",
       "#T_b3a9d_row0_col0, #T_b3a9d_row1_col1, #T_b3a9d_row2_col2, #T_b3a9d_row2_col3, #T_b3a9d_row3_col2, #T_b3a9d_row3_col3 {\n",
       "  background-color: #08306b;\n",
       "  color: #f1f1f1;\n",
       "}\n",
       "#T_b3a9d_row0_col1 {\n",
       "  background-color: #d2e3f3;\n",
       "  color: #000000;\n",
       "}\n",
       "#T_b3a9d_row0_col2, #T_b3a9d_row0_col3, #T_b3a9d_row1_col2, #T_b3a9d_row3_col0, #T_b3a9d_row3_col1 {\n",
       "  background-color: #f7fbff;\n",
       "  color: #000000;\n",
       "}\n",
       "#T_b3a9d_row1_col0 {\n",
       "  background-color: #cfe1f2;\n",
       "  color: #000000;\n",
       "}\n",
       "#T_b3a9d_row1_col3 {\n",
       "  background-color: #f3f8fe;\n",
       "  color: #000000;\n",
       "}\n",
       "#T_b3a9d_row2_col0 {\n",
       "  background-color: #f2f7fd;\n",
       "  color: #000000;\n",
       "}\n",
       "#T_b3a9d_row2_col1 {\n",
       "  background-color: #f6faff;\n",
       "  color: #000000;\n",
       "}\n",
       "</style>\n",
       "<table style=\"display:inline\" id=\"T_b3a9d\">\n",
       "  <thead>\n",
       "    <tr>\n",
       "      <th class=\"blank level0\" >&nbsp;</th>\n",
       "      <th id=\"T_b3a9d_level0_col0\" class=\"col_heading level0 col0\" >f0</th>\n",
       "      <th id=\"T_b3a9d_level0_col1\" class=\"col_heading level0 col1\" >f1</th>\n",
       "      <th id=\"T_b3a9d_level0_col2\" class=\"col_heading level0 col2\" >f2</th>\n",
       "      <th id=\"T_b3a9d_level0_col3\" class=\"col_heading level0 col3\" >product</th>\n",
       "    </tr>\n",
       "  </thead>\n",
       "  <tbody>\n",
       "    <tr>\n",
       "      <th id=\"T_b3a9d_level0_row0\" class=\"row_heading level0 row0\" >f0</th>\n",
       "      <td id=\"T_b3a9d_row0_col0\" class=\"data row0 col0\" >1.000000</td>\n",
       "      <td id=\"T_b3a9d_row0_col1\" class=\"data row0 col1\" >0.182287</td>\n",
       "      <td id=\"T_b3a9d_row0_col2\" class=\"data row0 col2\" >-0.001777</td>\n",
       "      <td id=\"T_b3a9d_row0_col3\" class=\"data row0 col3\" >-0.030491</td>\n",
       "    </tr>\n",
       "    <tr>\n",
       "      <th id=\"T_b3a9d_level0_row1\" class=\"row_heading level0 row1\" >f1</th>\n",
       "      <td id=\"T_b3a9d_row1_col0\" class=\"data row1 col0\" >0.182287</td>\n",
       "      <td id=\"T_b3a9d_row1_col1\" class=\"data row1 col1\" >1.000000</td>\n",
       "      <td id=\"T_b3a9d_row1_col2\" class=\"data row1 col2\" >-0.002595</td>\n",
       "      <td id=\"T_b3a9d_row1_col3\" class=\"data row1 col3\" >-0.010155</td>\n",
       "    </tr>\n",
       "    <tr>\n",
       "      <th id=\"T_b3a9d_level0_row2\" class=\"row_heading level0 row2\" >f2</th>\n",
       "      <td id=\"T_b3a9d_row2_col0\" class=\"data row2 col0\" >-0.001777</td>\n",
       "      <td id=\"T_b3a9d_row2_col1\" class=\"data row2 col1\" >-0.002595</td>\n",
       "      <td id=\"T_b3a9d_row2_col2\" class=\"data row2 col2\" >1.000000</td>\n",
       "      <td id=\"T_b3a9d_row2_col3\" class=\"data row2 col3\" >0.999397</td>\n",
       "    </tr>\n",
       "    <tr>\n",
       "      <th id=\"T_b3a9d_level0_row3\" class=\"row_heading level0 row3\" >product</th>\n",
       "      <td id=\"T_b3a9d_row3_col0\" class=\"data row3 col0\" >-0.030491</td>\n",
       "      <td id=\"T_b3a9d_row3_col1\" class=\"data row3 col1\" >-0.010155</td>\n",
       "      <td id=\"T_b3a9d_row3_col2\" class=\"data row3 col2\" >0.999397</td>\n",
       "      <td id=\"T_b3a9d_row3_col3\" class=\"data row3 col3\" >1.000000</td>\n",
       "    </tr>\n",
       "  </tbody>\n",
       "</table style=\"display:inline\">\n",
       "<style type=\"text/css\">\n",
       "#T_e559d_row0_col0, #T_e559d_row1_col1, #T_e559d_row2_col2, #T_e559d_row3_col3 {\n",
       "  background-color: #08306b;\n",
       "  color: #f1f1f1;\n",
       "}\n",
       "#T_e559d_row0_col1, #T_e559d_row0_col2, #T_e559d_row0_col3, #T_e559d_row1_col0, #T_e559d_row1_col2, #T_e559d_row1_col3, #T_e559d_row2_col0, #T_e559d_row2_col1, #T_e559d_row3_col0, #T_e559d_row3_col1 {\n",
       "  background-color: #f7fbff;\n",
       "  color: #000000;\n",
       "}\n",
       "#T_e559d_row2_col3, #T_e559d_row3_col2 {\n",
       "  background-color: #81badb;\n",
       "  color: #000000;\n",
       "}\n",
       "</style>\n",
       "<table style=\"display:inline\" id=\"T_e559d\">\n",
       "  <thead>\n",
       "    <tr>\n",
       "      <th class=\"blank level0\" >&nbsp;</th>\n",
       "      <th id=\"T_e559d_level0_col0\" class=\"col_heading level0 col0\" >f0</th>\n",
       "      <th id=\"T_e559d_level0_col1\" class=\"col_heading level0 col1\" >f1</th>\n",
       "      <th id=\"T_e559d_level0_col2\" class=\"col_heading level0 col2\" >f2</th>\n",
       "      <th id=\"T_e559d_level0_col3\" class=\"col_heading level0 col3\" >product</th>\n",
       "    </tr>\n",
       "  </thead>\n",
       "  <tbody>\n",
       "    <tr>\n",
       "      <th id=\"T_e559d_level0_row0\" class=\"row_heading level0 row0\" >f0</th>\n",
       "      <td id=\"T_e559d_row0_col0\" class=\"data row0 col0\" >1.000000</td>\n",
       "      <td id=\"T_e559d_row0_col1\" class=\"data row0 col1\" >0.000528</td>\n",
       "      <td id=\"T_e559d_row0_col2\" class=\"data row0 col2\" >-0.000448</td>\n",
       "      <td id=\"T_e559d_row0_col3\" class=\"data row0 col3\" >-0.001987</td>\n",
       "    </tr>\n",
       "    <tr>\n",
       "      <th id=\"T_e559d_level0_row1\" class=\"row_heading level0 row1\" >f1</th>\n",
       "      <td id=\"T_e559d_row1_col0\" class=\"data row1 col0\" >0.000528</td>\n",
       "      <td id=\"T_e559d_row1_col1\" class=\"data row1 col1\" >1.000000</td>\n",
       "      <td id=\"T_e559d_row1_col2\" class=\"data row1 col2\" >0.000779</td>\n",
       "      <td id=\"T_e559d_row1_col3\" class=\"data row1 col3\" >-0.001012</td>\n",
       "    </tr>\n",
       "    <tr>\n",
       "      <th id=\"T_e559d_level0_row2\" class=\"row_heading level0 row2\" >f2</th>\n",
       "      <td id=\"T_e559d_row2_col0\" class=\"data row2 col0\" >-0.000448</td>\n",
       "      <td id=\"T_e559d_row2_col1\" class=\"data row2 col1\" >0.000779</td>\n",
       "      <td id=\"T_e559d_row2_col2\" class=\"data row2 col2\" >1.000000</td>\n",
       "      <td id=\"T_e559d_row2_col3\" class=\"data row2 col3\" >0.445871</td>\n",
       "    </tr>\n",
       "    <tr>\n",
       "      <th id=\"T_e559d_level0_row3\" class=\"row_heading level0 row3\" >product</th>\n",
       "      <td id=\"T_e559d_row3_col0\" class=\"data row3 col0\" >-0.001987</td>\n",
       "      <td id=\"T_e559d_row3_col1\" class=\"data row3 col1\" >-0.001012</td>\n",
       "      <td id=\"T_e559d_row3_col2\" class=\"data row3 col2\" >0.445871</td>\n",
       "      <td id=\"T_e559d_row3_col3\" class=\"data row3 col3\" >1.000000</td>\n",
       "    </tr>\n",
       "  </tbody>\n",
       "</table style=\"display:inline\">\n"
      ]
     },
     "metadata": {},
     "output_type": "display_data"
    }
   ],
   "source": [
    "print('КОРРРЕЛЯЦИЯ РЕГИОНОВ: РЕГИОН 0, РЕГИОН 1, РЕГИОН 2')\n",
    "display_side_by_side(corr_region(geo_0),corr_region(geo_1),corr_region(geo_2))"
   ]
  },
  {
   "cell_type": "markdown",
   "id": "8d806deb",
   "metadata": {},
   "source": [
    "### Вывод \n",
    "\n",
    "- В 3х регионах одинаковое количество данных: 100 000 строк\n",
    "- Типы данных не требуют изменений\n",
    "- В данных отсутвуют пропуски\n",
    "- В данных имеются дубликаты id :\n",
    "    - Регион 0 = 10\n",
    "    - Регион 1 = 4\n",
    "    - Регион 2 = 4\n",
    "\n",
    "Причина появления дубликатов не известна, возможно замер показателей скважины производился 2 раза. Данные дубликаты можно оставить, так как их наличие или отсутсвие не окажет существенного влияния на ход исследования - их процент от исхоных данных составляет менее 0.5%\n",
    "\n",
    "- По объему запасов в скважине лидирует:\n",
    "    - Регион 2 = 9 500 000.0 тыс. баррелей\n",
    "    - Регион 0 = 9 250 000.0 тыс. баррелей\n",
    "    - Регион 1 = 6 882 500.0 тыс. баррелей\n",
    "    \n",
    "- Во всех регионах, из всех признаков, наибольшую корреляцию с целевым признаком Products имеет признак f2. Наиболее выраженная коррекляция наблюдается в Регионе 1 - корреляция с f2 = 0.999"
   ]
  },
  {
   "cell_type": "markdown",
   "id": "c4f1d607",
   "metadata": {},
   "source": [
    "### Построение о обучение моделей"
   ]
  },
  {
   "cell_type": "markdown",
   "id": "0a9df77a",
   "metadata": {},
   "source": [
    "1. - Обучите и проверьте модель для каждого региона:\n",
    "    -  Разбейте данные на обучающую и валидационную выборки в соотношении 75:25.\n",
    "    -  Обучите модель и сделайте предсказания на валидационной выборке.\n",
    "    -  Сохраните предсказания и правильные ответы на валидационной выборке.\n",
    "    -  Напечатайте на экране средний запас предсказанного сырья и RMSE модели.\n",
    "    -  Проанализируйте результаты."
   ]
  },
  {
   "cell_type": "markdown",
   "id": "d9f9f9d3",
   "metadata": {},
   "source": [
    "**Подготовка выборок**"
   ]
  },
  {
   "cell_type": "code",
   "execution_count": 9,
   "id": "773c8601",
   "metadata": {},
   "outputs": [],
   "source": [
    "# Разбиение данных на даннные из целевого и общих признаков:\n",
    "\n",
    "def features_definition(df):\n",
    "\n",
    "    features = df.drop(['id','product'], axis=1)\n",
    "    target = df['product']\n",
    "    \n",
    "    return features,target\n",
    "\n",
    "features_0,target_0 = features_definition(geo_0)\n",
    "features_1,target_1 = features_definition(geo_1)\n",
    "features_2,target_2 = features_definition(geo_2)"
   ]
  },
  {
   "cell_type": "code",
   "execution_count": 10,
   "id": "f0c1207a",
   "metadata": {},
   "outputs": [
    {
     "name": "stdout",
     "output_type": "stream",
     "text": [
      "Размер обучающей выборки равен: (75000, 3)\n",
      "Размер валидационной выборки равен: (25000, 3)\n"
     ]
    }
   ],
   "source": [
    "# Разбиение данных на обучающие, валидационные и тестовые выборки:\n",
    "\n",
    "def sep_train_valid_test(features, target):\n",
    "    features_train, features_valid, target_train, target_valid = train_test_split(\n",
    "    features, target, train_size=0.75,random_state=12345)  # разделение на тренировочный сет и валидационный    \n",
    "    return features_train, target_train, features_valid, target_valid\n",
    "\n",
    "features_train_0, target_train_0, features_valid_0, target_valid_0 = sep_train_valid_test(features_0, target_0)\n",
    "features_train_1, target_train_1, features_valid_1, target_valid_1 = sep_train_valid_test(features_1,target_1)\n",
    "features_train_2, target_train_2, features_valid_2, target_valid_2 = sep_train_valid_test(features_2,target_2)\n",
    "\n",
    "print('Размер обучающей выборки равен:', features_train_0.shape)\n",
    "print('Размер валидационной выборки равен:', features_valid_0.shape)"
   ]
  },
  {
   "cell_type": "markdown",
   "id": "46fdfcb0",
   "metadata": {},
   "source": [
    "**1. - Обучение и проверка моделей для каждого региона:**"
   ]
  },
  {
   "cell_type": "code",
   "execution_count": 11,
   "id": "53388000",
   "metadata": {},
   "outputs": [],
   "source": [
    "# Создадим функцию для обучения модели:\n",
    "\n",
    "def model_fit(features_train, target_train, features_valid, target_valid, region):\n",
    "    model = LinearRegression()\n",
    "    model.fit(features_train, target_train)\n",
    "    predictions_valid = model.predict(features_valid)\n",
    "    result_rmse = mean_squared_error(target_valid, predictions_valid)**0.5\n",
    "    print('Cредний запас предсказанного сырья по ', region, predictions_valid.mean())\n",
    "    print('RMSE модели по ', region, result_rmse)\n",
    "    return model, predictions_valid, result_rmse"
   ]
  },
  {
   "cell_type": "code",
   "execution_count": 12,
   "id": "6d7ae67e",
   "metadata": {},
   "outputs": [
    {
     "name": "stdout",
     "output_type": "stream",
     "text": [
      "Cредний запас предсказанного сырья по  Регион 0: 92.59256778438035\n",
      "RMSE модели по  Регион 0: 37.5794217150813\n"
     ]
    }
   ],
   "source": [
    "model_0, predictions_valid_0, result_rmse_0 = model_fit(features_train_0, target_train_0, features_valid_0, target_valid_0, 'Регион 0:')"
   ]
  },
  {
   "cell_type": "code",
   "execution_count": 13,
   "id": "d36ae26a",
   "metadata": {},
   "outputs": [
    {
     "name": "stdout",
     "output_type": "stream",
     "text": [
      "Cредний запас предсказанного сырья по  Регион 1: 68.72854689544602\n",
      "RMSE модели по  Регион 1: 0.8930992867756168\n"
     ]
    }
   ],
   "source": [
    "model_1, predictions_valid_1, result_rmse_1 = model_fit(features_train_1, target_train_1, features_valid_1, target_valid_1, 'Регион 1:')"
   ]
  },
  {
   "cell_type": "code",
   "execution_count": 14,
   "id": "e5b29b35",
   "metadata": {},
   "outputs": [
    {
     "name": "stdout",
     "output_type": "stream",
     "text": [
      "Cредний запас предсказанного сырья по  Регион 2: 94.96504596800489\n",
      "RMSE модели по  Регион 2: 40.02970873393434\n"
     ]
    }
   ],
   "source": [
    "model_2, predictions_valid_2, result_rmse_2 = model_fit(features_train_2, target_train_2, features_valid_2, target_valid_2, 'Регион 2:')"
   ]
  },
  {
   "cell_type": "markdown",
   "id": "e00420a1",
   "metadata": {},
   "source": [
    "**Вывод**\n",
    "\n",
    "Распределение регионов по запасам сырья:\n",
    " - Регион 2 = 94.9 тыс.баррелей\n",
    " - Регион 0 = 92.6 тыс. баррелей\n",
    " - Регион 1 = 68.7 тыс.баррелей\n",
    "Получившиеся предсказанные данные о запасах чрезвычайно близки к фактическим среним значениям, полученным при первичной визуальной оценке данных\n"
   ]
  },
  {
   "cell_type": "markdown",
   "id": "b7b9b8a2",
   "metadata": {},
   "source": [
    "### Подготовка и расчет прибыли\n",
    "\n",
    "2. - Подготовьтесь к расчёту прибыли:\n",
    "    -  Все ключевые значения для расчётов сохраните в отдельных переменных.\n",
    "    -  Рассчитайте достаточный объём сырья для безубыточной разработки новой скважины. Сравните полученный объём сырья со средним запасом в каждом регионе.\n",
    "    -  Напишите выводы по этапу подготовки расчёта прибыли."
   ]
  },
  {
   "cell_type": "code",
   "execution_count": 15,
   "id": "0e5cbfee",
   "metadata": {},
   "outputs": [],
   "source": [
    "# Зададим ключевые (константные) значения, указанные по условию задачи:\n",
    "\n",
    "BUDGET_ON_REGION = 10000000000                      # Бюджет на разработку скважин в регионе\n",
    "WELLS_COUNT = 500                                   # Количество скажин для исследования\n",
    "BEST_WELLS = 200                                    # Количество скважин в регионе для продолжения разработки\n",
    "REVENUE_PER_BAR = 450000                            # Доход с тысячи баррелей"
   ]
  },
  {
   "cell_type": "markdown",
   "id": "5a2603c6",
   "metadata": {},
   "source": [
    "**Расчет точки безубыточности**"
   ]
  },
  {
   "cell_type": "markdown",
   "id": "ac12bc90",
   "metadata": {},
   "source": [
    "Для расчета достаточного объема сырья в скважине для безубыточной разработки новой скважины, необходимо поделить планируемый объем инвестиций в одну из 200 лучших скважин, на доход с 1ой тысячи баррелей: \n",
    "\n",
    "- Инвестиции на скважину = Бюджет на разработку в регионе(BUDGET_ON_REGION) / количество скважин(BEST_WELLS)\n",
    "- Объем сырья = Инвестиции на скважину / REVENUE_PER_BAR\n"
   ]
  },
  {
   "cell_type": "code",
   "execution_count": 16,
   "id": "a04a815c",
   "metadata": {},
   "outputs": [
    {
     "name": "stdout",
     "output_type": "stream",
     "text": [
      "Объем сырья, требующийся для безубыточной разработки скважины: 111.11\n"
     ]
    }
   ],
   "source": [
    "# Расчитаем обем сырья, необходимый для безубыточной разработки скважины:\n",
    "\n",
    "BUDGET_ON_BEST_WELLS = BUDGET_ON_REGION/BEST_WELLS \n",
    "\n",
    "OIL_VALUE = BUDGET_ON_BEST_WELLS/REVENUE_PER_BAR\n",
    "print(f'Объем сырья, требующийся для безубыточной разработки скважины: {OIL_VALUE:.2f}')"
   ]
  },
  {
   "cell_type": "code",
   "execution_count": 17,
   "id": "f3d65a2c",
   "metadata": {},
   "outputs": [
    {
     "name": "stdout",
     "output_type": "stream",
     "text": [
      "Запас сырья в Регионе 0 меньше требуемого объема на: 20.0%\n",
      "Запас сырья в Регионе 1 меньше требуемого объема на: 61.7%\n",
      "Запас сырья в Регионе 2 меньше требуемого объема на: 17.0%\n"
     ]
    }
   ],
   "source": [
    "# Сравним полученный объем с предсказанным объемом средним объемом в регионе\n",
    "def compare(predictions_valid, region):\n",
    "    compare = (OIL_VALUE/predictions_valid.mean() * 100 - 100).round(1)\n",
    "    print(f\"Запас сырья в Регионе {region} меньше требуемого объема на: {compare}%\")\n",
    "    return\n",
    "\n",
    "compare(predictions_valid_0, 0)\n",
    "compare(predictions_valid_1, 1)\n",
    "compare(predictions_valid_2, 2)"
   ]
  },
  {
   "cell_type": "markdown",
   "id": "18605269",
   "metadata": {},
   "source": [
    "**Вывод:**\n",
    "Объем сырья, необходимый для безубыточной разработки скважин, превышает имеющийся средний запас сырья по регионам. Ни один из регионов предварительно не может удовлетворить условию безубыточности. Однако, в Регионах 0 и 2 в данных product 75% квантиль находится на уровне 128 и 130 тыс.баррелей, а в Регионе 1 максимальное значение product = 137 тыс.баррелей соответственно. Это значит, что несмотря на то, что среднее значение по Регионам не удовлетворяет условию безубыточности, во всех 3х регионах все же есть скважины, пригодные для безубыточной разработки."
   ]
  },
  {
   "cell_type": "markdown",
   "id": "0d033c6c",
   "metadata": {},
   "source": [
    "**Выделение скважин, удовлетворяющих условию безубыточности**"
   ]
  },
  {
   "cell_type": "code",
   "execution_count": 18,
   "id": "736281e9",
   "metadata": {},
   "outputs": [],
   "source": [
    "def relevant_wells(data, region):\n",
    "    counter = len(data[data['product'] > OIL_VALUE])\n",
    "    percent = counter/len(data['product'])\n",
    "    print(f'Количество скважин, удовлетворящих условию безубыточности в {region} = {counter}')\n",
    "    print(f'Процент скважин, удовлетворящих условию безубыточности в {region} = {percent:.2%}')\n",
    "    print(\" \")\n",
    "    return counter, percent"
   ]
  },
  {
   "cell_type": "code",
   "execution_count": 19,
   "id": "bb3e7c76",
   "metadata": {},
   "outputs": [
    {
     "name": "stdout",
     "output_type": "stream",
     "text": [
      "Количество скважин, удовлетворящих условию безубыточности в Регион 0 = 36583\n",
      "Процент скважин, удовлетворящих условию безубыточности в Регион 0 = 36.58%\n",
      " \n",
      "Количество скважин, удовлетворящих условию безубыточности в Регион 1 = 16537\n",
      "Процент скважин, удовлетворящих условию безубыточности в Регион 1 = 16.54%\n",
      " \n",
      "Количество скважин, удовлетворящих условию безубыточности в Регион 2 = 38178\n",
      "Процент скважин, удовлетворящих условию безубыточности в Регион 2 = 38.18%\n",
      " \n"
     ]
    },
    {
     "data": {
      "text/plain": [
       "(38178, 0.38178)"
      ]
     },
     "execution_count": 19,
     "metadata": {},
     "output_type": "execute_result"
    }
   ],
   "source": [
    "relevant_wells(geo_0, 'Регион 0')\n",
    "relevant_wells(geo_1, 'Регион 1')\n",
    "relevant_wells(geo_2, 'Регион 2')"
   ]
  },
  {
   "cell_type": "markdown",
   "id": "01d4464d",
   "metadata": {},
   "source": [
    "**Вывод:**\n",
    "\n",
    "**Все рассматриваемые регионы имеют достаточный запас скважин для безубыточной разработки.**"
   ]
  },
  {
   "cell_type": "markdown",
   "id": "e688daec",
   "metadata": {},
   "source": [
    "### Расчет прибыли по скважинам в регионах"
   ]
  },
  {
   "cell_type": "markdown",
   "id": "4578e444",
   "metadata": {},
   "source": [
    "3. - Напишите функцию для расчёта прибыли по выбранным скважинам и предсказаниям модели:\n",
    "    -  Выберите скважины с максимальными значениями предсказаний.\n",
    "    -  Просуммируйте целевое значение объёма сырья, соответствующее этим предсказаниям.\n",
    "    -  Рассчитайте прибыль для полученного объёма сырья."
   ]
  },
  {
   "cell_type": "code",
   "execution_count": 20,
   "id": "58eb827b",
   "metadata": {},
   "outputs": [],
   "source": [
    "# Предсказанный по валидационной выборке объем сырья в скважинах преобразуем в Series:\n",
    "\n",
    "predictions_valid_df_0 = pd.Series(predictions_valid_0,index=target_valid_0.index)\n",
    "predictions_valid_df_1 = pd.Series(predictions_valid_1,index=target_valid_1.index)\n",
    "predictions_valid_df_2 = pd.Series(predictions_valid_2,index=target_valid_2.index)"
   ]
  },
  {
   "cell_type": "code",
   "execution_count": 21,
   "id": "e22c2f01",
   "metadata": {},
   "outputs": [],
   "source": [
    "# Создадим функцию, которая выбирает 200 скважин с максимальным объемом сырья из Series предсказанных значений, \n",
    "# и вычисляет выручку по данным скважинам\n",
    "\n",
    "def revenue_calculate(target, predictions):\n",
    "    revenue = 0 \n",
    "    data = pd.concat([predictions, target],axis=1) # - создаем дата-сет из предсказанных объемов и фактических\n",
    "    data.columns = ['predictions','target'] # - задаем название столбцам\n",
    "    \n",
    "    best_wells_df = data.sort_values(by = 'predictions',ascending=False).head(BEST_WELLS) # Сортируем данные в порядке убывания по предсказанным значениям\n",
    "    selected_wells = target[best_wells_df.index][:BEST_WELLS] # Отбираем целевые значения объемов сырья в количестве 200шт.\n",
    "    \n",
    "    revenue = ((selected_wells - OIL_VALUE) * REVENUE_PER_BAR).sum() # Расчитываем доход, полученный после преодоление точки безубыточности\n",
    "    return revenue   "
   ]
  },
  {
   "cell_type": "markdown",
   "id": "e461e8da",
   "metadata": {},
   "source": [
    "### Расчет рисков и прибыли для каждого региона\n",
    "\n",
    "4. - Посчитайте риски и прибыль для каждого региона:\n",
    "    -  Примените технику Bootstrap с 1000 выборок, чтобы найти распределение прибыли.\n",
    "    -  Найдите среднюю прибыль, 95%-й доверительный интервал и риск убытков. Убыток — это отрицательная прибыль.\n",
    "    -  Напишите выводы: предложите регион для разработки скважин и обоснуйте выбор."
   ]
  },
  {
   "cell_type": "code",
   "execution_count": 22,
   "id": "4d42acd8",
   "metadata": {},
   "outputs": [],
   "source": [
    "def profit_and_risks(target, probabilities, region):\n",
    "        \n",
    "    state = np.random.RandomState(12345)\n",
    "    values = []        \n",
    "        \n",
    "    for i in range(1000):\n",
    "        target_subsample = target.sample(n = WELLS_COUNT, replace=True, random_state=state) \n",
    "        probs_subsample = probabilities[target_subsample.index]\n",
    "        revenue = revenue_calculate(target_subsample, probs_subsample)\n",
    "        values.append(revenue)\n",
    "    \n",
    "    values = pd.Series(values)\n",
    "    lower = values.quantile(0.05)/10e6\n",
    "    upper = values.quantile(0.95)/10e6\n",
    "    mean = values.mean()/10e6\n",
    "    \n",
    "    risks = (values < 0).mean()\n",
    "    \n",
    "    print(f'Средняя выручка в регионе {region}: {mean:.2f} млн.руб')\n",
    "    print(f'95% доверительный интервал в регионе {region}: от {lower:.2f} до {upper:.2f}  млн.руб')\n",
    "    print(f'Вероятность убытков в регионе {region}: {risks:.2%}')\n",
    "    print(\"\")\n",
    "                       \n",
    "    return mean,lower,upper,risks"
   ]
  },
  {
   "cell_type": "code",
   "execution_count": 23,
   "id": "de55135e",
   "metadata": {},
   "outputs": [
    {
     "name": "stdout",
     "output_type": "stream",
     "text": [
      "Средняя выручка в регионе 0: 42.59 млн.руб\n",
      "95% доверительный интервал в регионе 0: от -3.18 до 88.13  млн.руб\n",
      "Вероятность убытков в регионе 0: 6.00%\n",
      "\n",
      "Средняя выручка в регионе 1: 51.52 млн.руб\n",
      "95% доверительный интервал в регионе 1: от 15.08 до 86.15  млн.руб\n",
      "Вероятность убытков в регионе 1: 1.00%\n",
      "\n",
      "Средняя выручка в регионе 2: 43.50 млн.руб\n",
      "95% доверительный интервал в регионе 2: от -4.34 до 89.80  млн.руб\n",
      "Вероятность убытков в регионе 2: 6.40%\n",
      "\n"
     ]
    }
   ],
   "source": [
    "mean_0,lower_0,upper_0,risks_0 = profit_and_risks(target_valid_0, predictions_valid_df_0, 0)\n",
    "mean_1,lower_1,upper_1,risks_1 = profit_and_risks(target_valid_1, predictions_valid_df_1, 1)\n",
    "mean_2,lower_2,upper_2,risks_2 = profit_and_risks(target_valid_2, predictions_valid_df_2, 2)"
   ]
  },
  {
   "cell_type": "markdown",
   "id": "ec93cbaa",
   "metadata": {},
   "source": [
    "## Вывод\n",
    "\n",
    "Из 3х регионов требованию о допустимой вероятности убытка в 2,5% соответвует лишь Регион 1. \n",
    "\n",
    "- Средняя выручка в регионе 1: 51.52\n",
    "- 95% доверительный интервал в регионе 1: от 15.08 до 86.15\n",
    "- Вероятность убытков в регионе 1: 1.00%\n",
    "\n",
    "Для решения данной задачи была построенная модель машинного обучения Линейная Регрессия. Результаты предсказаний данной модели:\n",
    "Распределение регионов по запасам сырья:\n",
    " - Регион 2 = 94.9 тыс.баррелей\n",
    " - Регион 0 = 92.6 тыс. баррелей\n",
    " - Регион 1 = 68.7 тыс.баррелей\n",
    "Получившиеся предсказанные данные о запасах чрезвычайно близки к фактическим среним значениям, полученным при первичной визуальной оценке данных. Можно сделать вывод о высокой точности построенной модели. \n",
    "\n",
    "Однако данные RMSE по данным регионам: \n",
    "- RMSE модели по региону Регион 0: 37.579\n",
    "- RMSE модели по региону Регион 1: 0.893\n",
    "- RMSE модели по региону Регион 2: 40.029\n"
   ]
  }
 ],
 "metadata": {
  "ExecuteTimeLog": [
   {
    "duration": 76,
    "start_time": "2022-09-25T21:12:22.172Z"
   },
   {
    "duration": 112,
    "start_time": "2022-09-25T21:14:12.878Z"
   },
   {
    "duration": 42,
    "start_time": "2022-09-26T15:13:11.687Z"
   },
   {
    "duration": 5,
    "start_time": "2022-09-26T15:13:53.507Z"
   },
   {
    "duration": 1362,
    "start_time": "2022-09-26T15:14:01.421Z"
   },
   {
    "duration": 106,
    "start_time": "2022-09-26T15:14:02.784Z"
   },
   {
    "duration": 65,
    "start_time": "2022-09-26T15:14:03.248Z"
   },
   {
    "duration": 11,
    "start_time": "2022-09-26T15:14:03.651Z"
   },
   {
    "duration": 15,
    "start_time": "2022-09-26T15:14:04.105Z"
   },
   {
    "duration": 3,
    "start_time": "2022-09-26T15:14:14.153Z"
   },
   {
    "duration": 98,
    "start_time": "2022-09-26T15:14:15.847Z"
   },
   {
    "duration": 79,
    "start_time": "2022-09-26T15:14:53.804Z"
   },
   {
    "duration": 85,
    "start_time": "2022-09-26T15:15:38.394Z"
   },
   {
    "duration": 76,
    "start_time": "2022-09-26T15:16:02.572Z"
   },
   {
    "duration": 73,
    "start_time": "2022-09-26T15:16:10.115Z"
   },
   {
    "duration": 360,
    "start_time": "2022-09-26T15:16:45.801Z"
   },
   {
    "duration": 656,
    "start_time": "2022-09-26T15:16:58.573Z"
   },
   {
    "duration": 67,
    "start_time": "2022-09-26T15:17:15.251Z"
   },
   {
    "duration": 78,
    "start_time": "2022-09-26T15:17:53.200Z"
   },
   {
    "duration": 73,
    "start_time": "2022-09-26T15:18:08.501Z"
   },
   {
    "duration": 64,
    "start_time": "2022-09-26T15:18:15.973Z"
   },
   {
    "duration": 1720,
    "start_time": "2022-09-27T13:41:03.130Z"
   },
   {
    "duration": 83,
    "start_time": "2022-09-27T13:41:04.852Z"
   },
   {
    "duration": 87,
    "start_time": "2022-09-27T13:41:14.817Z"
   },
   {
    "duration": 81,
    "start_time": "2022-09-27T13:41:17.810Z"
   },
   {
    "duration": 78,
    "start_time": "2022-09-27T13:50:11.635Z"
   }
  ],
  "kernelspec": {
   "display_name": "Python 3 (ipykernel)",
   "language": "python",
   "name": "python3"
  },
  "language_info": {
   "codemirror_mode": {
    "name": "ipython",
    "version": 3
   },
   "file_extension": ".py",
   "mimetype": "text/x-python",
   "name": "python",
   "nbconvert_exporter": "python",
   "pygments_lexer": "ipython3",
   "version": "3.9.12"
  },
  "toc": {
   "base_numbering": 1,
   "nav_menu": {},
   "number_sections": true,
   "sideBar": true,
   "skip_h1_title": true,
   "title_cell": "Table of Contents",
   "title_sidebar": "Contents",
   "toc_cell": false,
   "toc_position": {},
   "toc_section_display": true,
   "toc_window_display": false
  }
 },
 "nbformat": 4,
 "nbformat_minor": 5
}
